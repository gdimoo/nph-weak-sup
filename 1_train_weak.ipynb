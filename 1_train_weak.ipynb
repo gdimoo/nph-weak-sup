{
 "cells": [
  {
   "cell_type": "code",
   "execution_count": 1,
   "metadata": {
    "scrolled": true
   },
   "outputs": [],
   "source": [
    "# !pip install tensorflow"
   ]
  },
  {
   "cell_type": "code",
   "execution_count": 2,
   "metadata": {},
   "outputs": [],
   "source": [
    "\n",
    "# %tensorflow_version 2.x\n",
    "import tensorflow as tf\n",
    "import matplotlib.pyplot as plt\n",
    "import numpy as np\n",
    "import os\n",
    "import tensorflow_addons as tfa\n",
    "import nibabel as nib\n",
    "from pathlib import Path\n",
    "import cv2\n",
    "from model import unet\n",
    "import json\n",
    "import pandas as pd\n",
    "# from segmentation_models import Unet as unet\n",
    "os.environ['MLIR_CRASH_REPRODUCER_DIRECTORY'] = \"1\"\n"
   ]
  },
  {
   "cell_type": "code",
   "execution_count": 3,
   "metadata": {},
   "outputs": [
    {
     "data": {
      "text/plain": [
       "'2.6.2'"
      ]
     },
     "execution_count": 3,
     "metadata": {},
     "output_type": "execute_result"
    }
   ],
   "source": [
    "tf.__version__\n"
   ]
  },
  {
   "cell_type": "code",
   "execution_count": 4,
   "metadata": {},
   "outputs": [
    {
     "data": {
      "text/plain": [
       "[]"
      ]
     },
     "execution_count": 4,
     "metadata": {},
     "output_type": "execute_result"
    }
   ],
   "source": [
    "tf.config.list_physical_devices('GPU')\n"
   ]
  },
  {
   "cell_type": "code",
   "execution_count": 5,
   "metadata": {},
   "outputs": [
    {
     "data": {
      "text/plain": [
       "[PhysicalDevice(name='/physical_device:CPU:0', device_type='CPU')]"
      ]
     },
     "execution_count": 5,
     "metadata": {},
     "output_type": "execute_result"
    }
   ],
   "source": [
    "tf.config.list_physical_devices('CPU')\n"
   ]
  },
  {
   "cell_type": "code",
   "execution_count": 6,
   "metadata": {},
   "outputs": [],
   "source": [
    "# read only constant\n",
    "MODEL_GRAVEYARD = Path(\"./model_saved/channel_seperated_version\")\n",
    "IMG_GRAVEYARD = Path(\"./saved_img\")\n",
    "\n",
    "INPUT_SIZE = OUTPUT_SIZE = MASK_SIZE = (224, 224)\n",
    "OUTPUT_CHANNELS = 3\n",
    "INPUT_SHAPE = MASK_SHAPE = OUTPUT_SHAPE = (*OUTPUT_SIZE, OUTPUT_CHANNELS)\n",
    "INTERMEDIATE_SIZE = (250, 250)\n",
    "\n",
    "PIXEL_THRESHOLD = 100\n",
    "BATCH_SIZE = 10\n",
    "BUFFER_SIZE = 8\n",
    "VAL_SUBSPLITS = 5\n",
    "NUM_EPOCHS = 200\n",
    "MIN_SHIFTING = -5\n",
    "MAX_SHIFTING = 6\n",
    "RANDOM_RADIAN_MAX = 15.0 * np.pi / 180\n",
    "FOLDS = 5\n",
    "MIN_INPUT_VALUE = 0\n",
    "MAX_INPUT_VALUE = 1\n",
    "WINDOWING_MIN_MAX = np.array(((0, 40), (0, 20), (20, 40)))\n",
    "MAP_COLORS = np.array(\n",
    "    [\n",
    "        [0,   0,   0],  # black / layer\n",
    "        #         [215, 175, 168], # brownish pink\n",
    "        # [255,   0,   0],\n",
    "        [56, 180, 139],  # green csf\n",
    "                [ 50,  76, 172], # dark blue brain\n",
    "        #         [ 66, 255, 255], # cyan\n",
    "\n",
    "    ], dtype=\"uint8\")\n"
   ]
  },
  {
   "cell_type": "code",
   "execution_count": 7,
   "metadata": {},
   "outputs": [],
   "source": [
    "def create_mask(one_hot_mask):\n",
    "    \"\"\"\n",
    "    (width, height, n_classes) -> (width, height, 1)\n",
    "    (batch, width, height, n_classes) -> (batch, width, height, 1)\n",
    "    \"\"\"\n",
    "    pred_mask = tf.argmax(one_hot_mask, axis=-1)\n",
    "    return pred_mask[..., tf.newaxis]\n"
   ]
  },
  {
   "cell_type": "code",
   "execution_count": 8,
   "metadata": {},
   "outputs": [],
   "source": [
    "def create_visible_mask(gt, mask, is_one_hot=False):\n",
    "    if is_one_hot:\n",
    "        mask = create_mask(mask)\n",
    "    if tf.reduce_max(gt) <= 1.0:  # for floating-point `gt`, looking for better way to do this\n",
    "        gt = gt * 255\n",
    "    gt = tf.cast(gt, tf.int16)\n",
    "    for i in range(OUTPUT_CHANNELS):\n",
    "        gt = tf.where(mask == i, MAP_COLORS[i], gt)\n",
    "    gt = tf.where(gt > 255, 255, gt)\n",
    "    return gt\n"
   ]
  },
  {
   "cell_type": "code",
   "execution_count": 9,
   "metadata": {},
   "outputs": [],
   "source": [
    "colors = [\n",
    "    0,\n",
    "    1,\n",
    "    2\n",
    "]\n",
    "\n",
    "\n",
    "def create_one_hot_mask(mask, dtype):\n",
    "    one_hot_map = []\n",
    "    for color in colors:\n",
    "        class_map = tf.reduce_all(tf.equal(mask, color), axis=-1)\n",
    "        one_hot_map.append(class_map)\n",
    "\n",
    "    one_hot_map = tf.stack(one_hot_map, axis=-1)\n",
    "    one_hot_map = tf.cast(one_hot_map, dtype)\n",
    "    return one_hot_map\n"
   ]
  },
  {
   "cell_type": "code",
   "execution_count": 10,
   "metadata": {},
   "outputs": [],
   "source": [
    "def window_ct_v3(data_array, w_min, w_max, min_value=0, max_value=255, dtype=\"uint8\"):\n",
    "    if \"float\" in dtype:  # division is problem\n",
    "        data_array = tf.cast(data_array, dtype)\n",
    "    data_array = ((data_array - w_min) / (w_max - w_min)\n",
    "                  * (max_value - min_value)) + min_value\n",
    "    data_array = tf.where(data_array < min_value, min_value, data_array)\n",
    "    data_array = tf.where(data_array > max_value, max_value, data_array)\n",
    "    return tf.cast(data_array, dtype)\n"
   ]
  },
  {
   "cell_type": "code",
   "execution_count": 11,
   "metadata": {},
   "outputs": [],
   "source": [
    "# @tf.function(experimental_compile=True)\n",
    "def data_augmentation(image, mask):\n",
    "    channels = image.shape[2]\n",
    "    image = tf.image.resize(image, INTERMEDIATE_SIZE)\n",
    "    mask = tf.image.resize(mask, INTERMEDIATE_SIZE)\n",
    "\n",
    "    stacked_image = tf.stack([image, mask], axis=0)\n",
    "    r_factor = tf.random.uniform(\n",
    "        shape=[], minval=-1.0, maxval=1.0)  # scalar random\n",
    "    stacked_image = tfa.image.rotate(\n",
    "        stacked_image, r_factor * RANDOM_RADIAN_MAX, fill_value=-1000.0)  # filed with lowest value\n",
    "    stacked_image = tf.image.random_crop(\n",
    "        stacked_image, size=[2, *INPUT_SIZE, channels])  # shape (2, 224, 224, channels)\n",
    "    return stacked_image\n"
   ]
  },
  {
   "cell_type": "code",
   "execution_count": 12,
   "metadata": {},
   "outputs": [],
   "source": [
    "def class_wise_metrics(y_true, y_pred):\n",
    "    class_wise_iou = []\n",
    "    class_wise_dice_score = []\n",
    "\n",
    "    smoothening_factor = 0.00001\n",
    "    for i in range(OUTPUT_CHANNELS):\n",
    "\n",
    "        intersection = np.sum((y_pred == i) * (y_true == i))\n",
    "        y_true_area = np.sum((y_true == i))\n",
    "        y_pred_area = np.sum((y_pred == i))\n",
    "        combined_area = y_true_area + y_pred_area\n",
    "\n",
    "        iou = (intersection + smoothening_factor) / \\\n",
    "            (combined_area - intersection + smoothening_factor)\n",
    "        class_wise_iou.append(iou)\n",
    "\n",
    "        dice_score = 2 * ((intersection + smoothening_factor) /\n",
    "                          (combined_area + smoothening_factor))\n",
    "        class_wise_dice_score.append(dice_score)\n",
    "\n",
    "    return class_wise_iou, class_wise_dice_score\n"
   ]
  },
  {
   "cell_type": "code",
   "execution_count": 13,
   "metadata": {},
   "outputs": [],
   "source": [
    "def plot_loss(model_history, save_name=None):\n",
    "    fig = plt.figure(figsize=(10, 5))\n",
    "    if \"val_loss\" in model_history.history.keys():\n",
    "        y = model_history.history[\"val_loss\"]\n",
    "        x = range(len(model_history.history[\"val_loss\"]))\n",
    "        l = plt.plot(x, y, \"y\", label=\"Validation loss\")\n",
    "        plt.scatter(x, y, c=\"y\")\n",
    "\n",
    "    plt.grid()\n",
    "    y = model_history.history[\"loss\"]\n",
    "    x = range(len(model_history.history[\"loss\"]))\n",
    "    l = plt.plot(x, y, \"g\", label=\"loss\")\n",
    "    plt.scatter(x, y, c=\"g\")\n",
    "\n",
    "    plt.yscale(\"log\")\n",
    "    plt.ylabel(\"loss\")\n",
    "    plt.xlabel(\"epoch\")\n",
    "    plt.legend()\n",
    "    plt.show()\n",
    "    if save_name:\n",
    "        fig.savefig(save_name)\n"
   ]
  },
  {
   "cell_type": "code",
   "execution_count": 14,
   "metadata": {},
   "outputs": [],
   "source": [
    "def plot_mask_side_by_side(img, label=None, predicted_label=None, save_name=None, show=True, figsize=15):\n",
    "    row = 3\n",
    "    c = 1\n",
    "    fig = plt.figure(figsize=(int(figsize*INPUT_SHAPE[2]/row), figsize))\n",
    "    if predicted_label is None:\n",
    "        row = 2\n",
    "    img = window_ct_v3(img, tf.reduce_min(\n",
    "        img), tf.reduce_max(img), 0, 1, \"float32\")\n",
    "\n",
    "    for i in range(INPUT_SHAPE[2]):\n",
    "        ax1 = fig.add_subplot(row, INPUT_SHAPE[2], c)\n",
    "        ax1.set_title(\"gt%d w_min=%d, w_max=%d\" %\n",
    "                      (i, WINDOWING_MIN_MAX[i][0], WINDOWING_MIN_MAX[i][1]))\n",
    "        ax1.imshow(img[..., i], cmap=\"gray\")\n",
    "        ax1.axis(\"off\")\n",
    "        c = c + 1\n",
    "\n",
    "    if not label is None:\n",
    "        for i in range(INPUT_SHAPE[2]):\n",
    "            visible_mask = create_visible_mask(\n",
    "                img[..., i][..., tf.newaxis], label, is_one_hot=True)\n",
    "            ax4 = fig.add_subplot(row, INPUT_SHAPE[2], c)\n",
    "            ax4.set_title(\"true mask on gt%d\" % (i))\n",
    "            ax4.imshow(visible_mask)\n",
    "            ax4.axis(\"off\")\n",
    "            c = c + 1\n",
    "\n",
    "    if not predicted_label is None:\n",
    "        for i in range(INPUT_SHAPE[2]):\n",
    "            visible_mask = create_visible_mask(\n",
    "                img[..., i][..., tf.newaxis], predicted_label, is_one_hot=True)\n",
    "            ax7 = fig.add_subplot(row, INPUT_SHAPE[2], c)\n",
    "            ax7.set_title(\"predicted mask on gt%d\" % (i))\n",
    "            ax7.imshow(visible_mask)\n",
    "            ax7.axis(\"off\")\n",
    "            c = c + 1\n",
    "\n",
    "    if save_name:\n",
    "        fig.savefig(str(save_name))\n",
    "    if show:\n",
    "        plt.show()\n",
    "        print()\n",
    "    fig.clear()\n",
    "    plt.close(fig)\n"
   ]
  },
  {
   "cell_type": "code",
   "execution_count": 15,
   "metadata": {},
   "outputs": [],
   "source": [
    "def create_generator_SI_fold(train_or_test, fold_index=FOLDS, with_name=False, augment=False):\n",
    "\n",
    "    def parse_image():\n",
    "        shifting_windowing = tf.zeros(shape=[WINDOWING_MIN_MAX.shape[0]])\n",
    "        train_test_folds = json.load(open('folds5_42_val.json'))\n",
    "        idx_all = train_test_folds[str(fold_index)][train_or_test]\n",
    "\n",
    "        for img_path in idx_all:\n",
    "            image = nib.load(img_path).get_fdata()\n",
    "            mask_path = img_path.replace(\n",
    "                '/s/', '/segment_mask_confidence1_contour/') # replace /s/ with folder of labeled mask\n",
    "            mask = nib.load(mask_path).get_fdata()\n",
    "            image = tf.convert_to_tensor(image)\n",
    "            mask = tf.convert_to_tensor(mask)\n",
    "            if augment and \"train\" in train_or_test:\n",
    "                # augmentation include random crop, which will crop img to INPUT_SIZE, as well as mask\n",
    "                image, mask = data_augmentation(image, mask)\n",
    "\n",
    "            else:\n",
    "                image = tf.image.resize(image, INPUT_SIZE)\n",
    "                mask = tf.image.resize(mask, MASK_SIZE)\n",
    "\n",
    "            for i in range(image.shape[2]):  # each slice\n",
    "                if augment and \"train\" in train_or_test:\n",
    "                    shifting_windowing = tf.random.uniform(shape=[WINDOWING_MIN_MAX.shape[0]],\n",
    "                                                        minval=MIN_SHIFTING,\n",
    "                                                        maxval=MAX_SHIFTING)\n",
    "                new_image = np.ones(INPUT_SHAPE, dtype=\"float32\")\n",
    "                for j in range(INPUT_SHAPE[2]):\n",
    "                    new_image[..., j] = window_ct_v3(image[..., i],\n",
    "                                                    WINDOWING_MIN_MAX[j, 0] +\n",
    "                                                    shifting_windowing[j],\n",
    "                                                    WINDOWING_MIN_MAX[j, 1] +\n",
    "                                                    shifting_windowing[j],\n",
    "                                                    min_value=MIN_INPUT_VALUE,\n",
    "                                                    max_value=MAX_INPUT_VALUE,\n",
    "                                                    dtype=\"float32\")\n",
    "\n",
    "                new_mask = create_one_hot_mask(\n",
    "                    mask[..., i, tf.newaxis], tf.uint8)\n",
    "                new_image = tf.constant(new_image, dtype=tf.float32)\n",
    "                if with_name:\n",
    "                    new_postfix = \"_%d.png\" % (i)\n",
    "                    new_img_name = img_path.replace(\".nii\", new_postfix)\n",
    "                    yield new_image, new_mask, [new_img_name]\n",
    "                else:\n",
    "                    yield new_image, new_mask\n",
    "    return parse_image\n"
   ]
  },
  {
   "cell_type": "code",
   "execution_count": 16,
   "metadata": {},
   "outputs": [],
   "source": [
    "def load_dataset_Atfold(fold_index=FOLDS, augment=False, batch_size=BATCH_SIZE, num_epochs=None, buffer_size=BUFFER_SIZE, validation_split=0.2):\n",
    "\n",
    "    # Update the JSON file name\n",
    "    train_test_folds = json.load(open('folds5_42_val.json'))\n",
    "    train_test_folds = train_test_folds[str(fold_index)]\n",
    "    train_filepaths = train_test_folds[\"train\"]\n",
    "    val_filepaths = train_test_folds[\"val\"]\n",
    "    all_filepaths = train_filepaths + val_filepaths\n",
    "    train_dataset = tf.data.Dataset.from_generator(\n",
    "        create_generator_SI_fold(\n",
    "            \"train\", fold_index=fold_index, augment=augment),\n",
    "        output_signature=(\n",
    "            tf.TensorSpec(shape=INPUT_SHAPE, dtype=tf.float32),\n",
    "            tf.TensorSpec(shape=MASK_SHAPE, dtype=tf.uint8)\n",
    "        )\n",
    "    )\n",
    "    train_dataset = train_dataset.shuffle(len(train_filepaths))\n",
    "    train_dataset = train_dataset.repeat()\n",
    "\n",
    "    val_dataset = tf.data.Dataset.from_generator(\n",
    "        create_generator_SI_fold(\n",
    "            \"val\", fold_index=fold_index, augment=augment),\n",
    "        output_signature=(\n",
    "            tf.TensorSpec(shape=INPUT_SHAPE, dtype=tf.float32),\n",
    "            tf.TensorSpec(shape=MASK_SHAPE, dtype=tf.uint8)\n",
    "        )\n",
    "    )\n",
    "    val_dataset = val_dataset.shuffle(len(val_filepaths))\n",
    "    val_dataset = val_dataset.repeat()\n",
    "\n",
    "    # Calculate the number of samples for training and validation\n",
    "    num_train = len(train_filepaths)\n",
    "    num_val = len(val_filepaths)\n",
    "    print(num_train, num_val)\n",
    "\n",
    "    # Batch and prefetch the datasets\n",
    "    train_dataset = train_dataset.batch(\n",
    "        batch_size).prefetch(buffer_size=buffer_size)\n",
    "    val_dataset = val_dataset.batch(\n",
    "        batch_size).prefetch(buffer_size=buffer_size)\n",
    "\n",
    "    return train_dataset, val_dataset, num_train, num_val\n"
   ]
  },
  {
   "cell_type": "code",
   "execution_count": 17,
   "metadata": {},
   "outputs": [],
   "source": [
    "def eval_metrics(model, train_or_test=\"test\", fold_index=FOLDS-1):\n",
    "    ds = tf.data.Dataset.from_generator(create_generator_SI_fold(train_or_test, fold_index=fold_index, with_name=False),\n",
    "                                        output_signature=(tf.TensorSpec(shape=INPUT_SHAPE, dtype=tf.float32),\n",
    "                                                          tf.TensorSpec(shape=MASK_SHAPE, dtype=tf.uint8)))\n",
    "    METRIC = 4\n",
    "    ds = ds.batch(METRIC)\n",
    "    metric_iter = ds.as_numpy_iterator()\n",
    "    gt_m, label_m = next(metric_iter)\n",
    "    print(gt_m.shape, label_m.shape)\n",
    "    pred_m = model(gt_m)\n",
    "    metrics = class_wise_metrics(create_mask(\n",
    "        label_m).numpy(), create_mask(pred_m).numpy())\n",
    "    return metrics\n"
   ]
  },
  {
   "cell_type": "markdown",
   "metadata": {},
   "source": [
    "## Load dataset and train the model"
   ]
  },
  {
   "cell_type": "code",
   "execution_count": 18,
   "metadata": {},
   "outputs": [
    {
     "name": "stdout",
     "output_type": "stream",
     "text": [
      "(224, 224, 3)\n",
      "320 80\n",
      "0\n",
      "32 8\n",
      "Epoch 1/2\n",
      "32/32 [==============================] - 236s 7s/step - loss: 0.1301 - val_loss: 0.0359\n",
      "Epoch 2/2\n",
      "32/32 [==============================] - 222s 7s/step - loss: 0.0395 - val_loss: 0.0315\n",
      "(4, 224, 224, 3) (4, 224, 224, 3)\n",
      "fold 0\n",
      "([0.9342514349522555, 1.0, 7.578053950001475e-10], [0.9660082635527493, 2.0, 1.515610790000295e-09])\n"
     ]
    },
    {
     "data": {
      "image/png": "[encoded data removed]",
      "text/plain": [
       "<Figure size 720x360 with 1 Axes>"
      ]
     },
     "metadata": {
      "needs_background": "light"
     },
     "output_type": "display_data"
    },
    {
     "name": "stdout",
     "output_type": "stream",
     "text": [
      "INFO:tensorflow:Assets written to: model_saved/channel_seperated_version/test_SPM12confidence1_focalloss_2epochs_lr_init=0.001_unet_scaled_(0,40)(0,20)(20,40)_224_allSlice_byTime_fold0/assets\n",
      "320 80\n",
      "1\n",
      "32 8\n",
      "Epoch 1/2\n",
      "32/32 [==============================] - 237s 7s/step - loss: 0.1278 - val_loss: 0.0337\n",
      "Epoch 2/2\n",
      "32/32 [==============================] - 220s 7s/step - loss: 0.0357 - val_loss: 0.0257\n",
      "(4, 224, 224, 3) (4, 224, 224, 3)\n",
      "fold 1\n",
      "([0.9979821029975495, 1.0, 2.4691357415028215e-08], [0.9989900325184851, 2.0, 4.938271483005643e-08])\n"
     ]
    },
    {
     "data": {
      "image/png": "[encoded data removed]",
      "text/plain": [
       "<Figure size 720x360 with 1 Axes>"
      ]
     },
     "metadata": {
      "needs_background": "light"
     },
     "output_type": "display_data"
    },
    {
     "name": "stdout",
     "output_type": "stream",
     "text": [
      "INFO:tensorflow:Assets written to: model_saved/channel_seperated_version/test_SPM12confidence1_focalloss_2epochs_lr_init=0.001_unet_scaled_(0,40)(0,20)(20,40)_224_allSlice_byTime_fold1/assets\n",
      "320 81\n",
      "2\n",
      "32 8\n",
      "Epoch 1/2\n",
      "32/32 [==============================] - 233s 7s/step - loss: 0.1189 - val_loss: 0.0370\n",
      "Epoch 2/2\n",
      "32/32 [==============================] - 223s 7s/step - loss: 0.0333 - val_loss: 0.0253\n",
      "(4, 224, 224, 3) (4, 224, 224, 3)\n",
      "fold 2\n",
      "([0.9822595376949815, 5.8719905703347595e-09, 0.00042427025790354214], [0.9910503837071145, 1.1743981140669519e-08, 0.0008481806597790911])\n"
     ]
    },
    {
     "data": {
      "image/png": "[encoded data removed]",
      "text/plain": [
       "<Figure size 720x360 with 1 Axes>"
      ]
     },
     "metadata": {
      "needs_background": "light"
     },
     "output_type": "display_data"
    },
    {
     "name": "stdout",
     "output_type": "stream",
     "text": [
      "INFO:tensorflow:Assets written to: model_saved/channel_seperated_version/test_SPM12confidence1_focalloss_2epochs_lr_init=0.001_unet_scaled_(0,40)(0,20)(20,40)_224_allSlice_byTime_fold2/assets\n",
      "320 81\n",
      "3\n",
      "32 8\n",
      "Epoch 1/2\n",
      "32/32 [==============================] - 238s 7s/step - loss: 0.1840 - val_loss: 0.0312\n",
      "Epoch 2/2\n",
      "32/32 [==============================] - 224s 7s/step - loss: 0.0338 - val_loss: 0.0254\n",
      "(4, 224, 224, 3) (4, 224, 224, 3)\n",
      "fold 3\n",
      "([0.9879424426026415, 1.6233765970231073e-08, 5.543237219826845e-09], [0.9939346547015464, 3.2467531940462146e-08, 1.108647443965369e-08])\n"
     ]
    },
    {
     "data": {
      "image/png": "[encoded data removed]",
      "text/plain": [
       "<Figure size 720x360 with 1 Axes>"
      ]
     },
     "metadata": {
      "needs_background": "light"
     },
     "output_type": "display_data"
    },
    {
     "name": "stdout",
     "output_type": "stream",
     "text": [
      "INFO:tensorflow:Assets written to: model_saved/channel_seperated_version/test_SPM12confidence1_focalloss_2epochs_lr_init=0.001_unet_scaled_(0,40)(0,20)(20,40)_224_allSlice_byTime_fold3/assets\n",
      "320 81\n",
      "4\n",
      "32 8\n",
      "Epoch 1/2\n",
      "32/32 [==============================] - 233s 7s/step - loss: 0.1072 - val_loss: 0.0326\n",
      "Epoch 2/2\n",
      "32/32 [==============================] - 223s 7s/step - loss: 0.0336 - val_loss: 0.0241\n",
      "(4, 224, 224, 3) (4, 224, 224, 3)\n",
      "fold 4\n",
      "([0.9611617107799963, 3.3333222222592593e-06, 1.2833675548211404e-09], [0.9801962841933524, 6.6666444445185185e-06, 2.566735109642281e-09])\n"
     ]
    },
    {
     "data": {
      "image/png": "[encoded data removed]",
      "text/plain": [
       "<Figure size 720x360 with 1 Axes>"
      ]
     },
     "metadata": {
      "needs_background": "light"
     },
     "output_type": "display_data"
    },
    {
     "name": "stdout",
     "output_type": "stream",
     "text": [
      "INFO:tensorflow:Assets written to: model_saved/channel_seperated_version/test_SPM12confidence1_focalloss_2epochs_lr_init=0.001_unet_scaled_(0,40)(0,20)(20,40)_224_allSlice_byTime_fold4/assets\n"
     ]
    }
   ],
   "source": [
    "INPUT_SHAPE = (*INPUT_SIZE, len(WINDOWING_MIN_MAX))\n",
    "print(INPUT_SHAPE)\n",
    "augment = False\n",
    "epochs = NUM_EPOCHS\n",
    "'''\n",
    "naming dir_name for export segmentation model\n",
    "'''\n",
    "dir_name = f'test_SPM12confidence1_focalloss_%depochs_lr_init=0.001_unet_scaled_(0,40)(0,20)(20,40)_224_allSlice_byTime_fold%d'\n",
    "\n",
    "metrics_list = []\n",
    "model_histories = []\n",
    "model_list = []\n",
    "for i in range(5):\n",
    "    dir_name_i = dir_name % (epochs, i)\n",
    "    model_dir_i = MODEL_GRAVEYARD / dir_name_i\n",
    "    model_dir_i.parent.mkdir(parents=True, exist_ok=True)\n",
    "    model_dir_i.mkdir(exist_ok=True)\n",
    "    model_path = str(model_dir_i)\n",
    "    \n",
    "\n",
    "    LR_S = tf.keras.optimizers.schedules.ExponentialDecay(\n",
    "        initial_learning_rate=0.001,\n",
    "        decay_steps=200,\n",
    "        decay_rate=0.96,\n",
    "        staircase=True)\n",
    "    MC1 = tf.keras.callbacks.ModelCheckpoint(\n",
    "        str(model_dir_i/\"best_model.h5\"),\n",
    "        monitor='val_loss',\n",
    "        save_best_only=True)\n",
    "    MC2 = tf.keras.callbacks.ModelCheckpoint(\n",
    "        str(model_dir_i/\"last_model.h5\"),\n",
    "        monitor='val_loss',\n",
    "        save_best_only=False)\n",
    "    ES = tf.keras.callbacks.EarlyStopping(\n",
    "        monitor='val_loss',\n",
    "        min_delta=0.001,  # Change this value to the desired threshold\n",
    "        patience=10,  # Change this value to the desired number of consecutive epochs\n",
    "        restore_best_weights=True,\n",
    "    )\n",
    "    train_i, val_dataset, num_train, num_val = load_dataset_Atfold(\n",
    "        fold_index=i, augment=augment, num_epochs=epochs)\n",
    "    print(i)\n",
    "    train_steps_per_epoch = num_train // BATCH_SIZE\n",
    "    validation_steps = num_val // BATCH_SIZE\n",
    "    print(train_steps_per_epoch, validation_steps)\n",
    "    model = unet((224, 224, 3), OUTPUT_CHANNELS)\n",
    "    model.compile(optimizer=tf.keras.optimizers.Adam(learning_rate=LR_S),\n",
    "                  loss=tfa.losses.SigmoidFocalCrossEntropy()\n",
    "                  )\n",
    "    model_history = model.fit(train_i,\n",
    "                              epochs=epochs,\n",
    "                              steps_per_epoch=train_steps_per_epoch,\n",
    "                              validation_data=val_dataset,\n",
    "                              validation_steps=validation_steps,\n",
    "                              callbacks=[MC1, MC2, ES])\n",
    "    model_list.append(model)\n",
    "    model_histories.append(model_history)\n",
    "    m = eval_metrics(model, fold_index=i)\n",
    "    metrics_list.append(m)\n",
    "    print(\"fold %d\" % i)\n",
    "    print(m)\n",
    "    plot_loss(model_history, str(model_dir_i / f'0-{epochs}epochs.png'))\n",
    "    model.save(model_path)"
   ]
  },
  {
   "cell_type": "code",
   "execution_count": null,
   "metadata": {},
   "outputs": [],
   "source": []
  }
 ],
 "metadata": {
  "kernelspec": {
   "display_name": "Python 3",
   "language": "python",
   "name": "python3"
  },
  "language_info": {
   "codemirror_mode": {
    "name": "ipython",
    "version": 3
   },
   "file_extension": ".py",
   "mimetype": "text/x-python",
   "name": "python",
   "nbconvert_exporter": "python",
   "pygments_lexer": "ipython3",
   "version": "3.6.15"
  }
 },
 "nbformat": 4,
 "nbformat_minor": 2
}
