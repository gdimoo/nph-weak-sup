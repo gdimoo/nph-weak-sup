{
 "cells": [
  {
   "cell_type": "code",
   "execution_count": 2,
   "metadata": {},
   "outputs": [],
   "source": [
    "\n",
    "import pandas as pd\n",
    "import numpy as np\n",
    "import os\n",
    "from sklearn import preprocessing\n",
    "import matplotlib.pyplot as plt \n",
    "plt.rc(\"font\", size=18)\n",
    "plt.rc('text', usetex=True)\n",
    "from sklearn.linear_model import LogisticRegression\n",
    "from sklearn.model_selection import train_test_split\n",
    "import seaborn as sns\n",
    "import matplotlib.pyplot as plt\n",
    "import numpy as np\n",
    "import sklearn\n",
    "import sklearn.datasets\n",
    "import sklearn.linear_model\n",
    "import matplotlib\n",
    "import pandas as pd\n",
    "from numpy import mean\n",
    "from numpy import std\n",
    "from sklearn.model_selection import KFold, StratifiedKFold\n",
    "from sklearn.model_selection import cross_val_score\n",
    "from sklearn.metrics import roc_auc_score\n",
    "from sklearn.metrics import roc_curve\n",
    "from sklearn.metrics import precision_recall_curve\n",
    "from sklearn.metrics import confusion_matrix\n",
    "from sklearn.metrics import classification_report\n",
    "import copy as cp\n",
    "from typing import Tuple\n",
    "from sklearn.metrics import confusion_matrix\n",
    "import json\n",
    "from sklearn.ensemble import ExtraTreesClassifier\n",
    "from sklearn.datasets import load_iris\n",
    "from sklearn.feature_selection import SelectFromModel\n",
    "from sklearn.pipeline import Pipeline   \n",
    "from sklearn.feature_selection import SelectKBest, SelectPercentile\n",
    "from sklearn.feature_selection import chi2\n",
    "import os\n",
    "import auxiliary as aux_func\n",
    "from pathlib import Path\n",
    "import math\n",
    "import pickle\n",
    "import lightgbm as lgb\n",
    "from collections import Counter\n",
    "from sklearn.ensemble import RandomForestClassifier\n",
    "sns.set(style=\"white\")\n",
    "sns.set(style=\"whitegrid\", color_codes=True)\n",
    "MODEL_TYPE='weak'\n",
    "# MODEL_TYPE='ct3d'\n",
    "# MODEL_TYPE='ct2d'\n",
    "# MODEL_TYPE='spm12'\n",
    "# MODEL_TYPE='spm12contour'\n",
    "CAL_TYPE = 'slice'\n",
    "# CAL_TYPE = 'head'\n",
    "import glob\n",
    "import shap\n",
    "FOLDS=5\n",
    "\n",
    "import re\n",
    "plt.style.use('classic')\n",
    "plt.rcParams[\"font.family\"] = \"serif\"\n",
    "plt.rcParams[\"mathtext.fontset\"] = \"stixsans\"\n",
    "plt.rc('figure',facecolor='w')\n",
    "plt.rc('savefig',dpi=200)\n",
    "\n",
    "\n",
    "def plot_confusion_matrix(actual_classes : np.array, predicted_classes : np.array, sorted_labels : list):\n",
    "\n",
    "    matrix = confusion_matrix(actual_classes, predicted_classes, labels=sorted_labels)\n",
    "    \n",
    "    plt.figure(figsize=(12.8,6))\n",
    "    sns.heatmap(matrix, annot=True, xticklabels=sorted_labels, yticklabels=sorted_labels, cmap=\"Blues\", fmt=\"g\")\n",
    "    plt.xlabel('Predicted'); plt.ylabel('Actual'); plt.title('Confusion Matrix')\n",
    "\n",
    "    plt.show()\n",
    "\n"
   ]
  },
  {
   "cell_type": "markdown",
   "metadata": {},
   "source": [
    "# Per slice"
   ]
  },
  {
   "cell_type": "code",
   "execution_count": 3,
   "metadata": {},
   "outputs": [],
   "source": [
    "SEARCH_PATH = '/media/akara_bkp/nph_kgreat/kgreathoo/dataset_norm_mask_by_revisited'\n",
    "nph_files = glob.glob(SEARCH_PATH + '/normal/*/s/*', recursive=True)\n",
    "NPH = []\n",
    "for i in nph_files:\n",
    "    NPH.append(i.split('/')[-1])"
   ]
  },
  {
   "cell_type": "markdown",
   "metadata": {},
   "source": [
    "### Data exploration"
   ]
  },
  {
   "cell_type": "code",
   "execution_count": 4,
   "metadata": {},
   "outputs": [],
   "source": [
    "if MODEL_TYPE == 'weak':\n",
    "    file1 = '/media/akara_bkp/nph_kgreat/kgreathoo/csv/perslice_all_10_code_aj_all_whole.csv'\n",
    "    file2 = '/media/akara_bkp/nph_kgreat/kgreathoo/csv/perslice_all_10_codeWeak_fixV2.csv'\n",
    "\n",
    "elif MODEL_TYPE == 'ct3d':\n",
    "    file1 = '/media/akara_bkp/nph_kgreat/kgreathoo/csv/perslice_all_10_unet3d_fix_per.csv'\n",
    "    file2 = '/media/akara_bkp/nph_kgreat/kgreathoo/csv/perslice_all_10_unet3d_global.csv'\n",
    "\n",
    "elif MODEL_TYPE == 'ct2d':\n",
    "    file1 = '/media/akara_bkp/nph_kgreat/kgreathoo/csv/perslice_all_10_unet2d_fix_per.csv'\n",
    "    file2 = '/media/akara_bkp/nph_kgreat/kgreathoo/csv/perslice_all_10_unet2d_global.csv'\n",
    "\n",
    "elif MODEL_TYPE == 'spm12':\n",
    "    file1 = '/media/akara_bkp/nph_kgreat/kgreathoo/csv/perslice_all_10_spm12_fix_per.csv'\n",
    "    file2 = '/media/akara_bkp/nph_kgreat/kgreathoo/csv/perslice_all_10_spm12_fix.csv'\n",
    "\n",
    "elif MODEL_TYPE == 'spm12contour':\n",
    "    file1 = '/media/akara_bkp/nph_kgreat/kgreathoo/csv/perslice_all_10_spm12contour_fix_per.csv'\n",
    "    file2 = '/media/akara_bkp/nph_kgreat/kgreathoo/csv/perslice_all_10_spm12contour_fix.csv'\n",
    "\n",
    "else:\n",
    "    # Handle an unknown MODEL_TYPE\n",
    "    raise ValueError(f'Unknown MODEL_TYPE: {MODEL_TYPE}')\n",
    "\n",
    "#exclude0\n",
    "\n",
    "# file1 = './csv/perslice_all_10_code_aj_all_whole.csv'\n",
    "# file2 = './csv/perslice_all_10_codeWeak_exclude0.csv'\n",
    "\n",
    "\n",
    "# file1 = './csv/perslice_all_10_ct3d.csv'\n",
    "# file2 = './csv/perslice_all_10_unet3d_exclude0.csv'\n",
    "\n",
    "\n",
    "# file1 = './csv/perslice_all_10_ct2d.csv'\n",
    "# file2 = './csv/perslice_all_10_unet2d_exclude0.csv'\n",
    "\n",
    "\n",
    "# file1 = './csv/perslice_all_10_spm12.csv'\n",
    "# file2 = './csv/perslice_all_10_spm12_exclude0.csv'\n",
    "\n",
    "\n",
    "# file1 = './csv/perslice_all_10_spm12contour.csv'\n",
    "# file2 = './csv/perslice_all_10_spm12contour_exclude0.csv'\n",
    "\n",
    "\n",
    "# Read CSV files into DataFrames\n",
    "df1 = pd.read_csv(file1, header=0)\n",
    "df2 = pd.read_csv(file2, header=0)\n",
    "\n",
    "df1['y'] = np.where((df1['PatientID']).isin(NPH), 0, 1)\n",
    "df2['y'] = np.where((df2['PatientID']).isin(NPH), 0, 1)\n",
    "\n",
    "# Check the condition\n",
    "if CAL_TYPE != 'head':\n",
    "    # Extract columns from the first CSV file\n",
    "    cols = []\n",
    "    cols2 = []\n",
    "    for i in range(10):\n",
    "        cols.append(f'CSF ratio_{i}')\n",
    "        cols.append(f'CSF / W+G matter ratio_{i}')\n",
    "        cols.append(f\"Mean CSF ratio_{i}\")\n",
    "        cols.append(f\"Min CSF ratio_{i}\")\n",
    "        cols.append(f\"Max CSF ratio_{i}\")\n",
    "        cols.append(f\"Std CSF ratio_{i}\")\n",
    "        cols.append(f\"Mean CSF / W+G matter ratio_{i}\")\n",
    "        cols.append(f\"Min CSF / W+G matter ratio_{i}\")\n",
    "        cols.append(f\"Max CSF / W+G matter ratio_{i}\")\n",
    "        cols.append(f\"Std CSF / W+G matter ratio_{i}\")\n",
    "\n",
    "    # Extract additional columns from the first CSV file\n",
    "    cols2.append('CSF ratio_all')\n",
    "    cols2.append('CSF / W+G matter ratio_all')\n",
    "\n",
    "    # Create new DataFrames with selected columns\n",
    "    df2_selected = df2[cols2]\n",
    "    df1[cols2] = df2_selected\n",
    "\n",
    "data = df1\n",
    "data['HN']=data['HN'].astype(str)\n",
    "\n",
    "if CAL_TYPE!='head':\n",
    "    new_data = data.fillna(0)\n",
    "    data = new_data.groupby(['HN', 'fold'], sort=True).max(numeric_only=True).reset_index()\n",
    "\n",
    "mismatch = pd.read_csv('p_pun_217.csv')\n",
    "mismatch['HN'] = mismatch['HN'].astype(str)\n",
    "merged_df = pd.merge(data[['HN', 'y']], mismatch[['HN', 'y']], on='HN', suffixes=('_data', '_mismatch'))\n",
    "diff_df = merged_df[merged_df['y_data'] != merged_df['y_mismatch']]\n",
    "hn_list = diff_df['HN'].tolist()\n",
    "mask = data['HN'].isin(hn_list)\n",
    "data.loc[mask, 'y'] = 0"
   ]
  },
  {
   "cell_type": "code",
   "execution_count": 5,
   "metadata": {},
   "outputs": [],
   "source": [
    "'''\n",
    "_sum_all is old method that sum of each partition -> not correct\n",
    "'''\n",
    "if 'fix' not in file1 and 'fix' not in file2 and 'exclude' not in file1 and 'exclude' not in file2 and 'global' not in file1 and 'global' not in file2:\n",
    "    print('old')\n",
    "    data['CSF_ratio_sum_all'] = data[[f'CSF ratio_{i}' for i in range(10)]].sum(axis=1)/10\n",
    "    data['CSF / W+G matter ratio_sum_all'] = data[[f'CSF / W+G matter ratio_{i}' for i in range(10)]].sum(axis=1)/10\n",
    "else:\n",
    "    data['CSF_ratio_all'] = data['CSF ratio_all']\n",
    "    data['CSF_ratio_sum_all'] = data[[f'CSF ratio_{i}' for i in range(10)]].sum(axis=1)/10\n",
    "    data['CSF / W+G matter ratio_sum_all'] = data[[f'CSF / W+G matter ratio_{i}' for i in range(10)]].sum(axis=1)/10\n"
   ]
  },
  {
   "cell_type": "code",
   "execution_count": 6,
   "metadata": {},
   "outputs": [],
   "source": [
    "# '''\n",
    "# reindex from 0-9 to 1-10\n",
    "\n",
    "# This code block reindexes the column names of the 'data' DataFrame. It replaces the numbers in the column names with incremented numbers, starting from 1. It also adds additional columns based on the original column names.\n",
    "# '''\n",
    "# if MODEL_TYPE == 'weak':\n",
    "#     data.columns = [\n",
    "#     re.sub(r'(\\w+) CSF ratio_(\\d+)', lambda match: f'{match.group(1)} CSF ratio_{int(match.group(2)) + 1}', col)\n",
    "#     for col in data.columns \n",
    "#     ]\n",
    "#     data.columns  = [\n",
    "#     re.sub(r'^CSF ratio_(\\d+)', lambda match: f'CSF ratio_{int(match.group(1)) + 1}', col)\n",
    "#     for col in data.columns \n",
    "#     ]\n",
    "\n",
    "#     if CAL_TYPE!='head':\n",
    "#         cols=[]\n",
    "#         for i in range(1,11):\n",
    "#             cols.append(f'CSF ratio_{i}')     \n",
    "#             cols.append(f'CSF / W+G matter ratio_{i}')\n",
    "#             cols.append(f\"Mean CSF ratio_{i}\")\n",
    "#             cols.append(f\"Min CSF ratio_{i}\")\n",
    "#             cols.append(f\"Max CSF ratio_{i}\")\n",
    "#             cols.append(f\"Std CSF ratio_{i}\")\n",
    "#             cols.append(f\"Mean CSF / W+G matter ratio_{i}\")\n",
    "#             cols.append(f\"Min CSF / W+G matter ratio_{i}\")\n",
    "#             cols.append(f\"Max CSF / W+G matter ratio_{i}\")\n",
    "#             cols.append(f\"Std CSF / W+G matter ratio_{i}\")\n",
    "#         cols.append('CSF_ratio_all')\n",
    "#         cols.append('CSF / W+G matter ratio_all')\n",
    "#         cols.append('CSF_ratio_sum_all')\n",
    "#         cols.append('CSF / W+G matter ratio_sum_all')\n"
   ]
  },
  {
   "cell_type": "markdown",
   "metadata": {},
   "source": [
    "### Implementing the model"
   ]
  },
  {
   "cell_type": "code",
   "execution_count": 7,
   "metadata": {},
   "outputs": [],
   "source": [
    "\n",
    "train_test_folds = json.load(open('folds5_42_val.json'))\n",
    "\n",
    "folds={}\n",
    "num_fold=FOLDS\n",
    "for fold_idx in range(num_fold):\n",
    "    folds[fold_idx] = {\n",
    "        'train':[i.split('/')[-1].split('-')[0].split('s')[1][0:10] for i in train_test_folds[str(fold_idx)]['train']],\n",
    "        'test':[i.split('/')[-1].split('-')[0].split('s')[1][0:10]  for i in train_test_folds[str(fold_idx)]['test']],\n",
    "        'val':[i.split('/')[-1].split('-')[0].split('s')[1][0:10]  for i in train_test_folds[str(fold_idx)]['val']],\n",
    "    }\n",
    "    fold_idx+=1\n",
    "\n",
    "data['type'] = None\n",
    "\n",
    "for fold_idx in range(num_fold):\n",
    "    data.loc[(data['fold'] == int(fold_idx)) & data['HN'].isin(folds[fold_idx]['train']), 'type'] = f'train{fold_idx}'\n",
    "    data.loc[(data['fold'] == int(fold_idx)) & data['HN'].isin(folds[fold_idx]['test']), 'type'] = f'test{fold_idx}'\n",
    "\n",
    "data.drop_duplicates(subset=['HN','fold'], inplace=True)"
   ]
  },
  {
   "cell_type": "code",
   "execution_count": 8,
   "metadata": {},
   "outputs": [],
   "source": [
    "\n",
    "\n",
    "\"\"\"\n",
    "This code snippet defines a list of column names based on the value of the MODEL_TYPE variable that from previose features selection.\n",
    "The column names are modified using regular expressions to increment the CSF ratio values by 1.\n",
    "\"\"\"\n",
    "\n",
    "if MODEL_TYPE == 'weak':\n",
    "    cols = ['CSF ratio_5', 'Std CSF ratio_8', 'Mean CSF ratio_5',\n",
    "            'Max CSF ratio_8', 'Max CSF ratio_6', 'Min CSF ratio_5',\n",
    "            'Mean CSF ratio_8', 'Min CSF ratio_4', 'Max CSF ratio_7',\n",
    "            'CSF ratio_4']\n",
    "\n",
    "elif MODEL_TYPE == 'ct3d':\n",
    "    cols =  ['CSF ratio_0',\n",
    "     'Mean CSF ratio_0',\n",
    "     'CSF / W+G matter ratio_0',\n",
    "     'Max CSF ratio_0',\n",
    "     'Mean CSF / W+G matter ratio_0',\n",
    "     'CSF ratio_9',\n",
    "     'Std CSF / W+G matter ratio_9',\n",
    "     'Max CSF / W+G matter ratio_9',\n",
    "     'Min CSF / W+G matter ratio_9',\n",
    "     'Mean CSF / W+G matter ratio_9',\n",
    "     'Std CSF ratio_9',\n",
    "     'Max CSF ratio_9',\n",
    "     'Min CSF ratio_9',\n",
    "     'Mean CSF ratio_9',\n",
    "     'CSF / W+G matter ratio_9',\n",
    "     'Min CSF / W+G matter ratio_8',\n",
    "     'Mean CSF ratio_5',\n",
    "     'Std CSF / W+G matter ratio_8',\n",
    "     'Mean CSF / W+G matter ratio_7',\n",
    "     'Mean CSF / W+G matter ratio_8',\n",
    "     'Std CSF ratio_8',\n",
    "     'Max CSF ratio_8',\n",
    "     'Min CSF ratio_8',\n",
    "     'Mean CSF ratio_8',\n",
    "     'CSF / W+G matter ratio_8',\n",
    "     'CSF ratio_8',\n",
    "     'Min CSF / W+G matter ratio_7',\n",
    "     'Max CSF ratio_7',\n",
    "     'Std CSF ratio_7',\n",
    "     'Max CSF / W+G matter ratio_7',\n",
    "     'Min CSF ratio_7',\n",
    "     'Mean CSF ratio_7',\n",
    "     'CSF / W+G matter ratio_7',\n",
    "     'CSF ratio_7',\n",
    "     'Std CSF / W+G matter ratio_6',\n",
    "     'Max CSF / W+G matter ratio_6',\n",
    "     'Min CSF / W+G matter ratio_6',\n",
    "     'Mean CSF / W+G matter ratio_6',\n",
    "     'Std CSF ratio_6',\n",
    "     'Max CSF ratio_6',\n",
    "     'Min CSF ratio_6',\n",
    "     'Mean CSF ratio_6',\n",
    "     'CSF / W+G matter ratio_6',\n",
    "     'CSF ratio_6',\n",
    "     'Std CSF / W+G matter ratio_5',\n",
    "     'Max CSF / W+G matter ratio_5',\n",
    "     'Min CSF / W+G matter ratio_5',\n",
    "     'Mean CSF / W+G matter ratio_5',\n",
    "     'Std CSF ratio_5',\n",
    "     'Max CSF ratio_5',\n",
    "     'Min CSF ratio_5',\n",
    "     'Std CSF / W+G matter ratio_7',\n",
    "     'Std CSF / W+G matter ratio_4',\n",
    "     'Max CSF / W+G matter ratio_8',\n",
    "     'CSF / W+G matter ratio_5',\n",
    "     'Max CSF / W+G matter ratio_4',\n",
    "     'Min CSF / W+G matter ratio_4',\n",
    "     'Mean CSF / W+G matter ratio_4',\n",
    "     'Std CSF ratio_4',\n",
    "     'Max CSF ratio_4',\n",
    "     'Min CSF ratio_4',\n",
    "     'Mean CSF ratio_4',\n",
    "     'Min CSF / W+G matter ratio_2',\n",
    "     'CSF ratio_4',\n",
    "     'Std CSF / W+G matter ratio_3',\n",
    "     'CSF / W+G matter ratio_4',\n",
    "     'Min CSF / W+G matter ratio_3',\n",
    "     'Mean CSF / W+G matter ratio_3',\n",
    "     'Std CSF ratio_3',\n",
    "     'Max CSF ratio_3',\n",
    "     'Min CSF ratio_3',\n",
    "     'Mean CSF ratio_3',\n",
    "     'CSF / W+G matter ratio_3',\n",
    "     'CSF ratio_3',\n",
    "     'Std CSF / W+G matter ratio_2',\n",
    "     'Max CSF / W+G matter ratio_3',\n",
    "     'Max CSF / W+G matter ratio_2',\n",
    "     'Max CSF ratio_2',\n",
    "     'Mean CSF / W+G matter ratio_2',\n",
    "     'Std CSF ratio_2',\n",
    "     'CSF_ratio_all',\n",
    "     'Min CSF ratio_2',\n",
    "     'Mean CSF ratio_2',\n",
    "     'CSF / W+G matter ratio_2',\n",
    "     'CSF ratio_2',\n",
    "     'Std CSF / W+G matter ratio_1',\n",
    "     'Max CSF / W+G matter ratio_1',\n",
    "     'Min CSF / W+G matter ratio_1',\n",
    "     'Mean CSF / W+G matter ratio_1',\n",
    "     'Std CSF ratio_1',\n",
    "     'Max CSF ratio_1',\n",
    "     'Min CSF ratio_1',\n",
    "     'Mean CSF ratio_1',\n",
    "     'CSF / W+G matter ratio_1',\n",
    "     'CSF ratio_1',\n",
    "     'Std CSF / W+G matter ratio_0',\n",
    "     'Max CSF / W+G matter ratio_0',\n",
    "     'Min CSF / W+G matter ratio_0',\n",
    "     'Std CSF ratio_0',\n",
    "     'Min CSF ratio_0']\n",
    "\n",
    "elif MODEL_TYPE == 'ct2d':\n",
    "    cols = ['CSF / W+G matter ratio_all', 'CSF_ratio_all', 'Max CSF ratio_4',\n",
    "       'CSF ratio_5', 'Mean CSF / W+G matter ratio_5', 'Max CSF ratio_5',\n",
    "       'Mean CSF / W+G matter ratio_4', 'Max CSF / W+G matter ratio_5',\n",
    "       'Min CSF ratio_4', 'Mean CSF ratio_6',\n",
    "       'Min CSF / W+G matter ratio_4', 'Std CSF / W+G matter ratio_8',\n",
    "       'Max CSF / W+G matter ratio_3', 'Min CSF ratio_6',\n",
    "       'Min CSF / W+G matter ratio_6', 'Max CSF / W+G matter ratio_6',\n",
    "       'CSF ratio_4', 'Std CSF ratio_8', 'Std CSF / W+G matter ratio_4',\n",
    "       'Mean CSF / W+G matter ratio_6']\n",
    "\n",
    "elif MODEL_TYPE == 'spm12':\n",
    "    cols = ['Mean CSF ratio_5', 'Min CSF ratio_2', 'Mean CSF ratio_4',\n",
    "       'Mean CSF / W+G matter ratio_5', 'Mean CSF ratio_7', 'CSF ratio_9',\n",
    "       'Max CSF / W+G matter ratio_5', 'Min CSF / W+G matter ratio_5',\n",
    "       'CSF ratio_2', 'CSF ratio_8', 'Min CSF / W+G matter ratio_4',\n",
    "       'Mean CSF / W+G matter ratio_7', 'Max CSF ratio_7',\n",
    "       'Max CSF ratio_5', 'CSF ratio_1', 'Max CSF ratio_3', 'CSF ratio_3',\n",
    "       'CSF ratio_5', 'Max CSF ratio_8', 'CSF / W+G matter ratio_7',\n",
    "       'Min CSF / W+G matter ratio_7', 'Max CSF / W+G matter ratio_4',\n",
    "       'Min CSF ratio_5', 'CSF ratio_4', 'Min CSF / W+G matter ratio_2',\n",
    "       'Max CSF ratio_4', 'CSF / W+G matter ratio_2',\n",
    "       'CSF / W+G matter ratio_4', 'Max CSF / W+G matter ratio_8',\n",
    "       'Std CSF ratio_1', 'CSF / W+G matter ratio_3',\n",
    "       'Std CSF / W+G matter ratio_7', 'Mean CSF / W+G matter ratio_3',\n",
    "       'Std CSF / W+G matter ratio_3', 'Mean CSF ratio_2', 'CSF ratio_7',\n",
    "       'Std CSF / W+G matter ratio_6', 'Min CSF ratio_7',\n",
    "       'Mean CSF / W+G matter ratio_4', 'Std CSF / W+G matter ratio_5',\n",
    "       'Min CSF ratio_8', 'Std CSF ratio_3',\n",
    "       'Min CSF / W+G matter ratio_6', 'Min CSF ratio_4',\n",
    "       'Std CSF / W+G matter ratio_4', 'Max CSF / W+G matter ratio_3',\n",
    "       'CSF_ratio_sum_all', 'CSF / W+G matter ratio_1', 'Min CSF ratio_3',\n",
    "       'Std CSF ratio_8', 'Std CSF ratio_4',\n",
    "       'Min CSF / W+G matter ratio_1', 'Min CSF / W+G matter ratio_8',\n",
    "       'Std CSF ratio_7', 'Max CSF / W+G matter ratio_1',\n",
    "       'CSF / W+G matter ratio_5', 'Mean CSF ratio_6', 'Std CSF ratio_2',\n",
    "       'CSF / W+G matter ratio_6', 'CSF / W+G matter ratio_sum_all',\n",
    "       'CSF_ratio_all', 'Min CSF ratio_6', 'Std CSF ratio_6',\n",
    "       'Mean CSF / W+G matter ratio_2', 'Max CSF ratio_2',\n",
    "       'Max CSF / W+G matter ratio_2', 'Mean CSF ratio_3',\n",
    "       'Std CSF / W+G matter ratio_1', 'Mean CSF / W+G matter ratio_6',\n",
    "       'Min CSF / W+G matter ratio_3', 'Max CSF / W+G matter ratio_7',\n",
    "       'Mean CSF / W+G matter ratio_1', 'Std CSF ratio_5',\n",
    "       'Max CSF / W+G matter ratio_6', 'Max CSF ratio_6',\n",
    "       'CSF / W+G matter ratio_8', 'Max CSF ratio_1',\n",
    "       'Std CSF / W+G matter ratio_8', 'Min CSF ratio_1',\n",
    "       'Mean CSF / W+G matter ratio_8', 'Mean CSF ratio_1',\n",
    "       'Mean CSF ratio_8', 'Std CSF / W+G matter ratio_2', 'CSF ratio_6',\n",
    "       'CSF / W+G matter ratio_all', 'Std CSF ratio_9',\n",
    "       'Max CSF / W+G matter ratio_9', 'Mean CSF ratio_9',\n",
    "       'Max CSF ratio_9', 'Mean CSF / W+G matter ratio_9',\n",
    "       'Std CSF / W+G matter ratio_9', 'Min CSF ratio_9',\n",
    "       'Min CSF / W+G matter ratio_9', 'CSF / W+G matter ratio_9']\n",
    "\n",
    "elif MODEL_TYPE == 'spm12contour':\n",
    "    cols = ['Min CSF ratio_7', 'Std CSF ratio_3', 'Mean CSF ratio_8',\n",
    "       'Std CSF / W+G matter ratio_3', 'Max CSF / W+G matter ratio_8',\n",
    "       'Mean CSF / W+G matter ratio_4', 'CSF ratio_4',\n",
    "       'Min CSF / W+G matter ratio_5', 'Min CSF ratio_4',\n",
    "       'CSF / W+G matter ratio_7', 'CSF / W+G matter ratio_8',\n",
    "       'Min CSF / W+G matter ratio_8', 'Max CSF ratio_8',\n",
    "       'Mean CSF / W+G matter ratio_5', 'Std CSF ratio_1',\n",
    "       'CSF_ratio_sum_all', 'Max CSF ratio_4',\n",
    "       'Mean CSF / W+G matter ratio_8', 'Mean CSF ratio_5', 'CSF ratio_8',\n",
    "       'Std CSF / W+G matter ratio_1', 'Min CSF / W+G matter ratio_4',\n",
    "       'Max CSF / W+G matter ratio_6', 'Mean CSF ratio_2',\n",
    "       'Mean CSF ratio_4', 'Min CSF ratio_5', 'CSF_ratio_all',\n",
    "       'CSF / W+G matter ratio_2', 'CSF / W+G matter ratio_4',\n",
    "       'Std CSF / W+G matter ratio_5', 'Min CSF ratio_2',\n",
    "       'Min CSF / W+G matter ratio_7', 'Max CSF ratio_6',\n",
    "       'Max CSF / W+G matter ratio_3', 'Mean CSF ratio_7', 'CSF ratio_5',\n",
    "       'CSF ratio_1', 'Max CSF ratio_3', 'Max CSF / W+G matter ratio_5',\n",
    "       'CSF ratio_2', 'Min CSF ratio_3', 'Min CSF / W+G matter ratio_2',\n",
    "       'Std CSF ratio_8', 'Mean CSF ratio_3', 'Min CSF ratio_8',\n",
    "       'CSF ratio_7', 'Std CSF ratio_5', 'CSF / W+G matter ratio_sum_all',\n",
    "       'Max CSF ratio_1', 'Std CSF / W+G matter ratio_6',\n",
    "       'Min CSF / W+G matter ratio_1', 'CSF ratio_3',\n",
    "       'Min CSF / W+G matter ratio_3', 'Max CSF / W+G matter ratio_2',\n",
    "       'Max CSF ratio_5', 'Std CSF / W+G matter ratio_8',\n",
    "       'CSF / W+G matter ratio_3', 'Mean CSF / W+G matter ratio_1',\n",
    "       'Max CSF / W+G matter ratio_4', 'CSF / W+G matter ratio_5',\n",
    "       'Std CSF ratio_6', 'Std CSF ratio_7', 'Mean CSF ratio_6',\n",
    "       'Min CSF ratio_1', 'Mean CSF / W+G matter ratio_7',\n",
    "       'Std CSF / W+G matter ratio_4', 'Std CSF / W+G matter ratio_2',\n",
    "       'Max CSF ratio_2', 'Max CSF ratio_7',\n",
    "       'Mean CSF / W+G matter ratio_3', 'Max CSF / W+G matter ratio_7',\n",
    "       'Max CSF / W+G matter ratio_1', 'CSF ratio_6',\n",
    "       'CSF / W+G matter ratio_all', 'Std CSF ratio_4',\n",
    "       'CSF / W+G matter ratio_6', 'Mean CSF / W+G matter ratio_9',\n",
    "       'Mean CSF ratio_1', 'Mean CSF ratio_9',\n",
    "       'Mean CSF / W+G matter ratio_2', 'Max CSF / W+G matter ratio_9',\n",
    "       'Mean CSF / W+G matter ratio_6', 'Std CSF / W+G matter ratio_9',\n",
    "       'Min CSF / W+G matter ratio_6', 'Min CSF ratio_6',\n",
    "       'Std CSF ratio_9', 'CSF / W+G matter ratio_1', 'Std CSF ratio_2',\n",
    "       'Max CSF ratio_9', 'CSF ratio_9', 'Std CSF / W+G matter ratio_7',\n",
    "       'CSF / W+G matter ratio_9', 'Min CSF / W+G matter ratio_9',\n",
    "       'Min CSF ratio_9']\n",
    "\n",
    "else:\n",
    "    # Handle an unknown MODEL_TYPE\n",
    "    raise ValueError(f'Unknown MODEL_TYPE: {MODEL_TYPE}')\n",
    "\n",
    "if CAL_TYPE=='head':\n",
    "    cols = [\"CSF ratio_all\",\"CSF / W+G matter ratio_sum_all\"]\n"
   ]
  },
  {
   "cell_type": "code",
   "execution_count": null,
   "metadata": {},
   "outputs": [],
   "source": [
    "# model='lr'\n",
    "# model='RF'\n",
    "model='light'\n",
    "# model='load'\n",
    "y_true = []\n",
    "y_pred = []\n",
    "y_prob = []\n",
    "X=data[cols].to_numpy()\n",
    "y=data['y']\n",
    "Y=y.astype('int')\n",
    "score_train=[]\n",
    "score_test=[]\n",
    "xx, yy = np.mgrid[-1:1.1:.01, -1:1.1:.01]\n",
    "grid = np.c_[xx.ravel(), yy.ravel()]\n",
    "save_idx=[]\n",
    "pred_df = pd.DataFrame()\n",
    "for fold_idx in range(FOLDS):\n",
    "    pred_df_tmp = pd.DataFrame()\n",
    "    if '42' in file1 or 'code' in file1 :\n",
    "        print('codeeee : ')\n",
    "        data['type'] = None\n",
    "        data['type'] = np.where((data['fold'] == int(fold_idx)) & data['HN'].isin(folds[fold_idx]['train']), f'train{fold_idx}', data['type'])\n",
    "        data['type'] = np.where((data['fold'] == int(fold_idx)) & data['HN'].isin(folds[fold_idx]['test']), f'test{fold_idx}', data['type'])\n",
    "\n",
    "    else:\n",
    "        data['type']=None\n",
    "        data['type'] = np.where(data['HN'].isin(folds[fold_idx]['train']), f'train{fold_idx}', data['type'])\n",
    "        data['type'] = np.where(data['HN'].isin(folds[fold_idx]['test']), f'test{fold_idx}',data['type'])\n",
    "        data['type'] = np.where(data['HN'].isin(folds[fold_idx]['val']), f'val{fold_idx}', data['type'])\n",
    "        \n",
    "        data['type'] = data.apply(lambda row: None if (row['type'] == f'test{fold_idx}' and row['HN'] in folds[fold_idx]['train']) else row['type'], axis=1)\n",
    "\n",
    "    X_train = data[(data['type']==f'train{fold_idx}') | (data['type']==f'val{fold_idx}')][cols].to_numpy()\n",
    "    y_train = data[(data['type']==f'train{fold_idx}') | (data['type']==f'val{fold_idx}')]['y'].to_numpy()\n",
    "    X_test = data[data['type']==f'test{fold_idx}'][cols].to_numpy()\n",
    "    y_test = data[data['type']==f'test{fold_idx}']['y'].to_numpy()\n",
    "    test = train_test_folds['{}'.format(fold_idx)]['test']\n",
    "    save_idx.append(data.index[data['type']==f'test{fold_idx}'].tolist())\n",
    "    pred_df_tmp['HN'] =data[data['type']==f'test{fold_idx}']['HN']\n",
    "    pred_df_tmp['y']=data[data['type']==f'test{fold_idx}']['y']\n",
    "\n",
    "\n",
    "    if(model=='lr'):\n",
    "        C=100\n",
    "        model2 = LogisticRegression(class_weight=\"balanced\", C=C,solver='lbfgs' ,max_iter=10000)\n",
    "        model2 = LogisticRegression(C=C).fit(X_train, y_train)\n",
    "    elif(model=='RF'):\n",
    "        model2 = RandomForestClassifier(class_weight=\"balanced\",n_estimators=5)\n",
    "        model2.fit(X_train, y_train)\n",
    "    elif(model=='light'):\n",
    "#         num_leaves=31, max_depth=-1, learning_rate=0.1, n_estimators=100, subsample_for_bin=200000, objective=None, class_weight=None, min_split_gain=0.0, min_child_weight=0.001, min_child_samples=20, \n",
    "        model2 = lgb.LGBMClassifier(force_col_wise=True,class_weight=\"balanced\",num_leaves=2, max_depth=0)\n",
    "        model2.fit(X_train, y_train)\n",
    "    else:\n",
    "        model2 = pickle.load(open(f'/data2-2tb/kgreathoo/Weakconfident1{fold_idx}_89_2025.sav', 'rb'))\n",
    "    print(\"%3d\\t%.5f\\t\\t%.5f\" % \n",
    "          (fold_idx, model2.score(X_train, y_train), model2.score(X_test, y_test)))\n",
    "\n",
    "#     features_name = data[cols]\n",
    "    \n",
    "\n",
    "#     features_name.columns = [re.sub(r'^CSF ratio_(\\d+)', r'$\\omega^{(\\1)}$', col) for col in features_name.columns]\n",
    "#     features_name.columns = [re.sub(r'(\\w+) CSF ratio_(\\d+)', r'\\1 $(\\omega)^{(\\2)}$', col) for col in features_name.columns]\n",
    "#     features_name.columns = [re.sub(r'Std' , r'Std.', col) for col in features_name.columns]\n",
    "\n",
    "#     if fold_idx==0:\n",
    "#         explainer = shap.TreeExplainer(model2, X_train, feature_perturbation=\"interventional\")\n",
    "#         shap_values = explainer(features_name)\n",
    "#         fig = plt.figure(figsize=(30, 28), dpi=300)\n",
    "#         fig = shap.plots.beeswarm(shap_values, max_display=10, show=False)\n",
    "# #         plt.title(title_map[MODEL_TYPE], fontsize=18, fontweight='bold')\n",
    "# #         plt.savefig(f'SHAP10Weak.pdf', bbox_inches='tight')\n",
    "#         plt.show()\n",
    "    score_train.append(model2.score(X_train, y_train))\n",
    "    score_test.append(model2.score(X_test, y_test))\n",
    "    \n",
    "    y_true.extend(y_test)\n",
    "    y_pred.extend(model2.predict(X_test))\n",
    "    y_prob.extend(model2.predict_proba(X_test))\n",
    "    pickle.dump(model2, open(f'Weakconfident1{fold_idx}_89_2025.sav', 'wb'))\n",
    "#     pickle.dump(model2, open(f'SPM12confident1contour{fold_idx}.sav', 'wb'))\n",
    "#     pickle.dump(model2, open(f'SPM12confident1{fold_idx}.sav', 'wb'))\n",
    "#     pickle.dump(model2, open(f'headCT2023v2{fold_idx}.sav', 'wb'))\n",
    "#     pickle.dump(model2, open(f'ct3d{fold_idx}.sav', 'wb'))\n",
    "\n",
    "    pred_df = pd.concat([pred_df, pred_df_tmp], ignore_index=True)\n",
    "pred_df['y_pred_model']=y_pred\n",
    "pred_df['y_prob']=y_prob\n",
    "\n",
    "\n",
    "# if(model=='lr'):\n",
    "#     explainer = shap.LinearExplainer(model2, X_train, feature_perturbation=\"interventional\")\n",
    "#     shap_values = explainer(data[cols])\n",
    "#     shap.plots.beeswarm(shap_values, max_display=200)\n",
    "# elif(model=='RF'):\n",
    "#     explainer = shap.TreeExplainer(model2)\n",
    "#     shap_values = explainer(X_test)\n",
    "#     shap_values = explainer.shap_values(data[cols]) \n",
    "#     shap.summary_plot(shap_values[1], data[cols]) \n",
    "# elif(model=='light'):\n",
    "#     explainer = shap.TreeExplainer(model2, X_train, feature_perturbation=\"interventional\")\n",
    "#     shap_values = explainer(data[cols])\n",
    "#     shap.plots.beeswarm(shap_values, max_display=200)\n",
    "\n",
    "print(file1,'Accuracy: %.3f (%.3f)' % (mean(score_test), std(score_test)))\n",
    "y_true = np.asarray(y_true)\n",
    "y_pred = np.asarray(y_pred)\n",
    "y_prob = np.asarray(y_prob)\n",
    "print\n",
    "confusion_matrix(y_true, y_pred, labels=[0, 1])\n",
    "logit_roc_auc = roc_auc_score(y_true, y_prob[:, 1])\n",
    "fpr, tpr, thresholds = roc_curve(y_true, y_prob[:,1])\n",
    "print(classification_report(y_true, y_pred), f' (area = %0.2f)' % logit_roc_auc)\n",
    "from sklearn.metrics import cohen_kappa_score\n",
    "cm = confusion_matrix(y_true, y_pred, labels=[1, 0])\n",
    "TP, FN = cm[0]\n",
    "FP, TN = cm[1]\n",
    "\n",
    "accuracy = (TP + TN) / (TP + TN + FP + FN)\n",
    "sensitivity = TP / (TP + FN) if (TP + FN) > 0 else 0\n",
    "specificity = TN / (TN + FP) if (TN + FP) > 0 else 0\n",
    "f1_score = (2 * TP) / (2 * TP + FP + FN) if (2 * TP + FP + FN) > 0 else 0\n",
    "roc_auc = roc_auc_score(y_true, y_prob[:, 1])\n",
    "cohen_kappa = cohen_kappa_score(y_true, y_pred)\n",
    "\n",
    "# print(\"Acc\\tSensiy\\tSpec\\tF1-Score\\tTP\\tTN\\tFP\\tFN\\tAU-ROC\\tCohen\")\n",
    "print(f\"{accuracy:.3f}\\t{sensitivity:.3f}\\t{specificity:.3f}\\t{f1_score:.3f}\\t\"\n",
    "      f\"{TP}\\t{TN}\\t{FP}\\t{FN}\\t{roc_auc:.3f}\\t{cohen_kappa:.3f}\")\n",
    "\n",
    "\n",
    "\n"
   ]
  },
  {
   "cell_type": "code",
   "execution_count": 9,
   "metadata": {},
   "outputs": [
    {
     "name": "stderr",
     "output_type": "stream",
     "text": [
      "Trying to unpickle estimator LabelEncoder from version 0.24.2 when using version 1.0.2. This might lead to breaking code or invalid results. Use at your own risk. For more info please refer to:\n",
      "https://scikit-learn.org/stable/modules/model_persistence.html#security-maintainability-limitations\n",
      "LightGBM binary classifier with TreeExplainer shap values output has changed to a list of ndarray\n"
     ]
    },
    {
     "name": "stdout",
     "output_type": "stream",
     "text": [
      "['/data4-4tb/kgreathoo/plots_result/38160661_peak_idx_1_type_test3_TP.png']\n",
      "✅ Image: /data4-4tb/kgreathoo/plots_result/38160661_peak_idx_1_type_test3_TP.png\n",
      "🖼️ Title: 38160661 Peak Index 1 Type Test3 Tp\n",
      "✅ Saved combined image: shap_outputs_1_10_new/38160661_peak_idx_1_type_test3_TP.png\n"
     ]
    }
   ],
   "source": [
    "import pandas as pd\n",
    "import shap\n",
    "import pickle\n",
    "import matplotlib.pyplot as plt\n",
    "\n",
    "# โหลด interest case ที่สนใจ (เฉพาะ test fold)\n",
    "abnormal_info = pd.read_csv(\"/data4-4tb/kgreathoo/abnormal_cases_info.csv\")\n",
    "abnormal_info['HN'] = abnormal_info['HN'].astype(int)\n",
    "abnormal_info = abnormal_info[abnormal_info['type'].str.contains('test')]\n",
    "abnormal_info['fold'] = abnormal_info['type'].str.extract(r'test(\\d+)').astype(int)\n",
    "\n",
    "import os\n",
    "import pickle\n",
    "import shap\n",
    "import matplotlib.pyplot as plt\n",
    "import pandas as pd\n",
    "from PIL import Image\n",
    "import glob\n",
    "\n",
    "def find_partition_img(hn: int, plots_dir='/data4-4tb/kgreathoo/plots_result'):\n",
    "    # ค้นหาไฟล์ที่มี HN อยู่ในชื่อ\n",
    "    matching_files = glob.glob(os.path.join(plots_dir, f\"*{hn}*.png\"))\n",
    "    print(matching_files)\n",
    "    if matching_files:\n",
    "        return matching_files[0],matching_files[0].split('/')[-1]  # เอาไฟล์แรกที่เจอ\n",
    "    return None\n",
    "\n",
    "def generate_pretty_title(filename):\n",
    "    base = os.path.basename(filename)\n",
    "    base = base.replace('_', ' ').replace('.png', '')\n",
    "    # ลบ \"peak idx\" เป็น \"Peak\" และ \"type\" เป็น \"Type\"\n",
    "    base = base.replace('peak idx', 'Peak Index')\n",
    "    base = base.replace('type', 'Type')\n",
    "    base = base.replace('HN', 'HN')\n",
    "    # เติมความเป็นระเบียบ\n",
    "    return base.title()\n",
    "\n",
    "output_dir = \"shap_outputs_1_10_new\"\n",
    "os.makedirs(output_dir, exist_ok=True)\n",
    "\n",
    "for i, row in abnormal_info.iterrows():\n",
    "    hn = row['HN']\n",
    "    fold = int(row['fold'])\n",
    "    peak = int(row['peak_partition'])+1\n",
    "    type_name = row['type']\n",
    "\n",
    "    # โหลดโมเดล\n",
    "#     model_path = f'/data2-2tb/kgreathoo/Weakconfident1{fold}_89.sav'\n",
    "    model_path = f'/media/akara_bkp/nph_kgreat/kgreathoo/Weakconfident1{fold}_89.sav'\n",
    "    if not os.path.exists(model_path):\n",
    "        print(f\"❌ ไม่พบโมเดล: {model_path}\")\n",
    "        continue\n",
    "    model = pickle.load(open(model_path, 'rb'))\n",
    "\n",
    "    # เตรียมข้อมูล\n",
    "    person_row = data[(data['HN'].astype(int) == hn) & (data['fold'] == fold)]\n",
    "    if person_row.empty:\n",
    "        print(f\"❌ ไม่พบ HN={hn}, fold={fold}\")\n",
    "        continue\n",
    "    X_sample = person_row[cols].values.reshape(1, -1)\n",
    "\n",
    "    # คำนวณ SHAP\n",
    "    explainer = shap.TreeExplainer(model)\n",
    "    shap_values = explainer.shap_values(X_sample)\n",
    "\n",
    "    # บันทึก SHAP เป็นไฟล์เดี่ยว\n",
    "    shap_img_path = os.path.join(output_dir, f'shap_HN{hn}_fold{fold}.png')\n",
    "    plt.figure()\n",
    "    \n",
    "    def adjust_partition_index(name):\n",
    "        return re.sub(r'_(\\d+)', lambda m: f'_{int(m.group(1)) + 1}', name)\n",
    "\n",
    "    adjusted_cols = [adjust_partition_index(col) for col in cols]\n",
    "    shap.plots.waterfall(\n",
    "        shap.Explanation(\n",
    "            values=shap_values[1][0],\n",
    "            base_values=explainer.expected_value[1],\n",
    "            data=X_sample[0],\n",
    "            feature_names=adjusted_cols\n",
    "        ),\n",
    "        show=False\n",
    "    )\n",
    "\n",
    "    plt.tight_layout()\n",
    "    plt.savefig(shap_img_path, dpi=150, bbox_inches='tight')\n",
    "    plt.close()\n",
    "\n",
    "    # เตรียม path ของภาพ partition\n",
    "    img_path, img_name = find_partition_img(hn)\n",
    "    if img_path:\n",
    "        title = generate_pretty_title(img_path)\n",
    "        print(f\"✅ Image: {img_path}\")\n",
    "        print(f\"🖼️ Title: {title}\")\n",
    "    else:\n",
    "        print(f\"❌ ไม่พบภาพของ HN: {hn}\")\n",
    "    if not os.path.exists(img_path):\n",
    "        print(f\"❌ ไม่พบภาพ CT: {img_path}\")\n",
    "        continue\n",
    "\n",
    "    # รวมภาพ SHAP + CT partition\n",
    "    shap_img = Image.open(shap_img_path)\n",
    "    partition_img = Image.open(img_path)\n",
    "\n",
    "    # ปรับขนาดให้เท่ากันด้านสูง\n",
    "    h = max(shap_img.height, partition_img.height)\n",
    "#     print(h)\n",
    "    partition_img = partition_img.resize((int(shap_img.width * h / shap_img.height), h))\n",
    "\n",
    "\n",
    "    combined = Image.new(\"RGB\", (shap_img.width + partition_img.width, h), color=(255, 255, 255))\n",
    "    combined.paste(shap_img, (0, 0))\n",
    "    combined.paste(partition_img, (shap_img.width, 0))\n",
    "\n",
    "    final_path = os.path.join(output_dir, img_name)\n",
    "    combined.save(final_path)\n",
    "    print(f\"✅ Saved combined image: {final_path}\")\n",
    "\n",
    "    # ลบภาพเดี่ยว (ถ้าไม่ต้องการเก็บไว้)\n",
    "    os.remove(shap_img_path)\n",
    "    break\n"
   ]
  },
  {
   "cell_type": "code",
   "execution_count": null,
   "metadata": {},
   "outputs": [],
   "source": [
    "pred_df['HN'] = pred_df['HN'].astype(str)"
   ]
  },
  {
   "cell_type": "code",
   "execution_count": null,
   "metadata": {},
   "outputs": [],
   "source": [
    "# pred_df.to_csv('pred_weak_89.csv')"
   ]
  },
  {
   "cell_type": "code",
   "execution_count": null,
   "metadata": {},
   "outputs": [],
   "source": [
    "pred_df['proba_score'] = [prob[1] for prob in y_prob]"
   ]
  },
  {
   "cell_type": "code",
   "execution_count": null,
   "metadata": {},
   "outputs": [],
   "source": []
  },
  {
   "cell_type": "markdown",
   "metadata": {},
   "source": [
    "# Aj.Akara"
   ]
  },
  {
   "cell_type": "code",
   "execution_count": 43,
   "metadata": {
    "scrolled": true
   },
   "outputs": [
    {
     "name": "stdout",
     "output_type": "stream",
     "text": [
      "['/data4-4tb/kgreathoo/plots_result_akara/38160661_peak_idx_1_type_test3_TP.png']\n",
      "['$\\\\omega$$^{(6)}$', 'Std. ($\\\\omega$)$^{(9)}$', 'Mean ($\\\\omega$)$^{(6)}$', 'Max ($\\\\omega$)$^{(9)}$', 'Max ($\\\\omega$)$^{(7)}$', 'Min ($\\\\omega$)$^{(6)}$', 'Mean ($\\\\omega$)$^{(9)}$', 'Min ($\\\\omega$)$^{(5)}$', 'Max ($\\\\omega$)$^{(8)}$', '$\\\\omega$$^{(5)}$']\n"
     ]
    },
    {
     "name": "stderr",
     "output_type": "stream",
     "text": [
      "Trying to unpickle estimator LabelEncoder from version 0.24.2 when using version 1.0.2. This might lead to breaking code or invalid results. Use at your own risk. For more info please refer to:\n",
      "https://scikit-learn.org/stable/modules/model_persistence.html#security-maintainability-limitations\n",
      "LightGBM binary classifier with TreeExplainer shap values output has changed to a list of ndarray\n"
     ]
    },
    {
     "name": "stdout",
     "output_type": "stream",
     "text": [
      "['/data4-4tb/kgreathoo/plots_result_akara/38160661_peak_idx_1_type_test3_TP.png']\n",
      "✅ Image: /data4-4tb/kgreathoo/plots_result_akara/38160661_peak_idx_1_type_test3_TP.png\n",
      "🖼️ Title: 38160661 Peak Index 1 Type Test3 Tp\n",
      "✅ Saved combined PDF: shap_outputs_1_10_new_great/38160661_peak_idx_1_type_test3_TP_96.pdf\n",
      "['/data4-4tb/kgreathoo/plots_result_akara/54380859_peak_idx_2_type_test1_FN.png']\n",
      "['$\\\\omega$$^{(6)}$', 'Std. ($\\\\omega$)$^{(9)}$', 'Mean ($\\\\omega$)$^{(6)}$', 'Max ($\\\\omega$)$^{(9)}$', 'Max ($\\\\omega$)$^{(7)}$', 'Min ($\\\\omega$)$^{(6)}$', 'Mean ($\\\\omega$)$^{(9)}$', 'Min ($\\\\omega$)$^{(5)}$', 'Max ($\\\\omega$)$^{(8)}$', '$\\\\omega$$^{(5)}$']\n"
     ]
    },
    {
     "name": "stderr",
     "output_type": "stream",
     "text": [
      "Trying to unpickle estimator LabelEncoder from version 0.24.2 when using version 1.0.2. This might lead to breaking code or invalid results. Use at your own risk. For more info please refer to:\n",
      "https://scikit-learn.org/stable/modules/model_persistence.html#security-maintainability-limitations\n",
      "LightGBM binary classifier with TreeExplainer shap values output has changed to a list of ndarray\n"
     ]
    },
    {
     "name": "stdout",
     "output_type": "stream",
     "text": [
      "['/data4-4tb/kgreathoo/plots_result_akara/54380859_peak_idx_2_type_test1_FN.png']\n",
      "✅ Image: /data4-4tb/kgreathoo/plots_result_akara/54380859_peak_idx_2_type_test1_FN.png\n",
      "🖼️ Title: 54380859 Peak Index 2 Type Test1 Fn\n",
      "✅ Saved combined PDF: shap_outputs_1_10_new_great/54380859_peak_idx_2_type_test1_FN_96.pdf\n",
      "['/data4-4tb/kgreathoo/plots_result_akara/54354537_peak_idx_1_type_test0_TP.png']\n",
      "['$\\\\omega$$^{(6)}$', 'Std. ($\\\\omega$)$^{(9)}$', 'Mean ($\\\\omega$)$^{(6)}$', 'Max ($\\\\omega$)$^{(9)}$', 'Max ($\\\\omega$)$^{(7)}$', 'Min ($\\\\omega$)$^{(6)}$', 'Mean ($\\\\omega$)$^{(9)}$', 'Min ($\\\\omega$)$^{(5)}$', 'Max ($\\\\omega$)$^{(8)}$', '$\\\\omega$$^{(5)}$']\n"
     ]
    },
    {
     "name": "stderr",
     "output_type": "stream",
     "text": [
      "Trying to unpickle estimator LabelEncoder from version 0.24.2 when using version 1.0.2. This might lead to breaking code or invalid results. Use at your own risk. For more info please refer to:\n",
      "https://scikit-learn.org/stable/modules/model_persistence.html#security-maintainability-limitations\n",
      "LightGBM binary classifier with TreeExplainer shap values output has changed to a list of ndarray\n"
     ]
    },
    {
     "name": "stdout",
     "output_type": "stream",
     "text": [
      "['/data4-4tb/kgreathoo/plots_result_akara/54354537_peak_idx_1_type_test0_TP.png']\n",
      "✅ Image: /data4-4tb/kgreathoo/plots_result_akara/54354537_peak_idx_1_type_test0_TP.png\n",
      "🖼️ Title: 54354537 Peak Index 1 Type Test0 Tp\n",
      "✅ Saved combined PDF: shap_outputs_1_10_new_great/54354537_peak_idx_1_type_test0_TP_96.pdf\n",
      "['/data4-4tb/kgreathoo/plots_result_akara/54270102_peak_idx_1_type_test1_TP.png']\n",
      "['$\\\\omega$$^{(6)}$', 'Std. ($\\\\omega$)$^{(9)}$', 'Mean ($\\\\omega$)$^{(6)}$', 'Max ($\\\\omega$)$^{(9)}$', 'Max ($\\\\omega$)$^{(7)}$', 'Min ($\\\\omega$)$^{(6)}$', 'Mean ($\\\\omega$)$^{(9)}$', 'Min ($\\\\omega$)$^{(5)}$', 'Max ($\\\\omega$)$^{(8)}$', '$\\\\omega$$^{(5)}$']\n"
     ]
    },
    {
     "name": "stderr",
     "output_type": "stream",
     "text": [
      "Trying to unpickle estimator LabelEncoder from version 0.24.2 when using version 1.0.2. This might lead to breaking code or invalid results. Use at your own risk. For more info please refer to:\n",
      "https://scikit-learn.org/stable/modules/model_persistence.html#security-maintainability-limitations\n",
      "LightGBM binary classifier with TreeExplainer shap values output has changed to a list of ndarray\n"
     ]
    },
    {
     "name": "stdout",
     "output_type": "stream",
     "text": [
      "['/data4-4tb/kgreathoo/plots_result_akara/54270102_peak_idx_1_type_test1_TP.png']\n",
      "✅ Image: /data4-4tb/kgreathoo/plots_result_akara/54270102_peak_idx_1_type_test1_TP.png\n",
      "🖼️ Title: 54270102 Peak Index 1 Type Test1 Tp\n",
      "✅ Saved combined PDF: shap_outputs_1_10_new_great/54270102_peak_idx_1_type_test1_TP_96.pdf\n",
      "['/data4-4tb/kgreathoo/plots_result_akara/54065132_peak_idx_9_type_test3_TP.png']\n",
      "['$\\\\omega$$^{(6)}$', 'Std. ($\\\\omega$)$^{(9)}$', 'Mean ($\\\\omega$)$^{(6)}$', 'Max ($\\\\omega$)$^{(9)}$', 'Max ($\\\\omega$)$^{(7)}$', 'Min ($\\\\omega$)$^{(6)}$', 'Mean ($\\\\omega$)$^{(9)}$', 'Min ($\\\\omega$)$^{(5)}$', 'Max ($\\\\omega$)$^{(8)}$', '$\\\\omega$$^{(5)}$']\n"
     ]
    },
    {
     "name": "stderr",
     "output_type": "stream",
     "text": [
      "Trying to unpickle estimator LabelEncoder from version 0.24.2 when using version 1.0.2. This might lead to breaking code or invalid results. Use at your own risk. For more info please refer to:\n",
      "https://scikit-learn.org/stable/modules/model_persistence.html#security-maintainability-limitations\n",
      "LightGBM binary classifier with TreeExplainer shap values output has changed to a list of ndarray\n"
     ]
    },
    {
     "name": "stdout",
     "output_type": "stream",
     "text": [
      "['/data4-4tb/kgreathoo/plots_result_akara/54065132_peak_idx_9_type_test3_TP.png']\n",
      "✅ Image: /data4-4tb/kgreathoo/plots_result_akara/54065132_peak_idx_9_type_test3_TP.png\n",
      "🖼️ Title: 54065132 Peak Index 9 Type Test3 Tp\n",
      "✅ Saved combined PDF: shap_outputs_1_10_new_great/54065132_peak_idx_9_type_test3_TP_96.pdf\n",
      "['/data4-4tb/kgreathoo/plots_result_akara/54025856_peak_idx_1_type_test1_TP.png']\n",
      "['$\\\\omega$$^{(6)}$', 'Std. ($\\\\omega$)$^{(9)}$', 'Mean ($\\\\omega$)$^{(6)}$', 'Max ($\\\\omega$)$^{(9)}$', 'Max ($\\\\omega$)$^{(7)}$', 'Min ($\\\\omega$)$^{(6)}$', 'Mean ($\\\\omega$)$^{(9)}$', 'Min ($\\\\omega$)$^{(5)}$', 'Max ($\\\\omega$)$^{(8)}$', '$\\\\omega$$^{(5)}$']\n"
     ]
    },
    {
     "name": "stderr",
     "output_type": "stream",
     "text": [
      "Trying to unpickle estimator LabelEncoder from version 0.24.2 when using version 1.0.2. This might lead to breaking code or invalid results. Use at your own risk. For more info please refer to:\n",
      "https://scikit-learn.org/stable/modules/model_persistence.html#security-maintainability-limitations\n",
      "LightGBM binary classifier with TreeExplainer shap values output has changed to a list of ndarray\n"
     ]
    },
    {
     "name": "stdout",
     "output_type": "stream",
     "text": [
      "['/data4-4tb/kgreathoo/plots_result_akara/54025856_peak_idx_1_type_test1_TP.png']\n",
      "✅ Image: /data4-4tb/kgreathoo/plots_result_akara/54025856_peak_idx_1_type_test1_TP.png\n",
      "🖼️ Title: 54025856 Peak Index 1 Type Test1 Tp\n",
      "✅ Saved combined PDF: shap_outputs_1_10_new_great/54025856_peak_idx_1_type_test1_TP_96.pdf\n",
      "['/data4-4tb/kgreathoo/plots_result_akara/54015465_peak_idx_1_type_test0_TP.png']\n",
      "['$\\\\omega$$^{(6)}$', 'Std. ($\\\\omega$)$^{(9)}$', 'Mean ($\\\\omega$)$^{(6)}$', 'Max ($\\\\omega$)$^{(9)}$', 'Max ($\\\\omega$)$^{(7)}$', 'Min ($\\\\omega$)$^{(6)}$', 'Mean ($\\\\omega$)$^{(9)}$', 'Min ($\\\\omega$)$^{(5)}$', 'Max ($\\\\omega$)$^{(8)}$', '$\\\\omega$$^{(5)}$']\n"
     ]
    },
    {
     "name": "stderr",
     "output_type": "stream",
     "text": [
      "Trying to unpickle estimator LabelEncoder from version 0.24.2 when using version 1.0.2. This might lead to breaking code or invalid results. Use at your own risk. For more info please refer to:\n",
      "https://scikit-learn.org/stable/modules/model_persistence.html#security-maintainability-limitations\n",
      "LightGBM binary classifier with TreeExplainer shap values output has changed to a list of ndarray\n"
     ]
    },
    {
     "name": "stdout",
     "output_type": "stream",
     "text": [
      "['/data4-4tb/kgreathoo/plots_result_akara/54015465_peak_idx_1_type_test0_TP.png']\n",
      "✅ Image: /data4-4tb/kgreathoo/plots_result_akara/54015465_peak_idx_1_type_test0_TP.png\n",
      "🖼️ Title: 54015465 Peak Index 1 Type Test0 Tp\n",
      "✅ Saved combined PDF: shap_outputs_1_10_new_great/54015465_peak_idx_1_type_test0_TP_96.pdf\n",
      "['/data4-4tb/kgreathoo/plots_result_akara/54010045_peak_idx_10_type_test4_TP.png']\n",
      "['$\\\\omega$$^{(6)}$', 'Std. ($\\\\omega$)$^{(9)}$', 'Mean ($\\\\omega$)$^{(6)}$', 'Max ($\\\\omega$)$^{(9)}$', 'Max ($\\\\omega$)$^{(7)}$', 'Min ($\\\\omega$)$^{(6)}$', 'Mean ($\\\\omega$)$^{(9)}$', 'Min ($\\\\omega$)$^{(5)}$', 'Max ($\\\\omega$)$^{(8)}$', '$\\\\omega$$^{(5)}$']\n"
     ]
    },
    {
     "name": "stderr",
     "output_type": "stream",
     "text": [
      "Trying to unpickle estimator LabelEncoder from version 0.24.2 when using version 1.0.2. This might lead to breaking code or invalid results. Use at your own risk. For more info please refer to:\n",
      "https://scikit-learn.org/stable/modules/model_persistence.html#security-maintainability-limitations\n",
      "LightGBM binary classifier with TreeExplainer shap values output has changed to a list of ndarray\n"
     ]
    },
    {
     "name": "stdout",
     "output_type": "stream",
     "text": [
      "['/data4-4tb/kgreathoo/plots_result_akara/54010045_peak_idx_10_type_test4_TP.png']\n",
      "✅ Image: /data4-4tb/kgreathoo/plots_result_akara/54010045_peak_idx_10_type_test4_TP.png\n",
      "🖼️ Title: 54010045 Peak Index 10 Type Test4 Tp\n",
      "✅ Saved combined PDF: shap_outputs_1_10_new_great/54010045_peak_idx_10_type_test4_TP_96.pdf\n",
      "['/data4-4tb/kgreathoo/plots_result_akara/53994956_peak_idx_2_type_test1_TP.png']\n",
      "['$\\\\omega$$^{(6)}$', 'Std. ($\\\\omega$)$^{(9)}$', 'Mean ($\\\\omega$)$^{(6)}$', 'Max ($\\\\omega$)$^{(9)}$', 'Max ($\\\\omega$)$^{(7)}$', 'Min ($\\\\omega$)$^{(6)}$', 'Mean ($\\\\omega$)$^{(9)}$', 'Min ($\\\\omega$)$^{(5)}$', 'Max ($\\\\omega$)$^{(8)}$', '$\\\\omega$$^{(5)}$']\n"
     ]
    },
    {
     "name": "stderr",
     "output_type": "stream",
     "text": [
      "Trying to unpickle estimator LabelEncoder from version 0.24.2 when using version 1.0.2. This might lead to breaking code or invalid results. Use at your own risk. For more info please refer to:\n",
      "https://scikit-learn.org/stable/modules/model_persistence.html#security-maintainability-limitations\n",
      "LightGBM binary classifier with TreeExplainer shap values output has changed to a list of ndarray\n"
     ]
    },
    {
     "name": "stdout",
     "output_type": "stream",
     "text": [
      "['/data4-4tb/kgreathoo/plots_result_akara/53994956_peak_idx_2_type_test1_TP.png']\n",
      "✅ Image: /data4-4tb/kgreathoo/plots_result_akara/53994956_peak_idx_2_type_test1_TP.png\n",
      "🖼️ Title: 53994956 Peak Index 2 Type Test1 Tp\n",
      "✅ Saved combined PDF: shap_outputs_1_10_new_great/53994956_peak_idx_2_type_test1_TP_96.pdf\n",
      "['/data4-4tb/kgreathoo/plots_result_akara/53966383_peak_idx_1_type_test4_TP.png']\n",
      "['$\\\\omega$$^{(6)}$', 'Std. ($\\\\omega$)$^{(9)}$', 'Mean ($\\\\omega$)$^{(6)}$', 'Max ($\\\\omega$)$^{(9)}$', 'Max ($\\\\omega$)$^{(7)}$', 'Min ($\\\\omega$)$^{(6)}$', 'Mean ($\\\\omega$)$^{(9)}$', 'Min ($\\\\omega$)$^{(5)}$', 'Max ($\\\\omega$)$^{(8)}$', '$\\\\omega$$^{(5)}$']\n"
     ]
    },
    {
     "name": "stderr",
     "output_type": "stream",
     "text": [
      "Trying to unpickle estimator LabelEncoder from version 0.24.2 when using version 1.0.2. This might lead to breaking code or invalid results. Use at your own risk. For more info please refer to:\n",
      "https://scikit-learn.org/stable/modules/model_persistence.html#security-maintainability-limitations\n",
      "LightGBM binary classifier with TreeExplainer shap values output has changed to a list of ndarray\n"
     ]
    },
    {
     "name": "stdout",
     "output_type": "stream",
     "text": [
      "['/data4-4tb/kgreathoo/plots_result_akara/53966383_peak_idx_1_type_test4_TP.png']\n",
      "✅ Image: /data4-4tb/kgreathoo/plots_result_akara/53966383_peak_idx_1_type_test4_TP.png\n",
      "🖼️ Title: 53966383 Peak Index 1 Type Test4 Tp\n",
      "✅ Saved combined PDF: shap_outputs_1_10_new_great/53966383_peak_idx_1_type_test4_TP_96.pdf\n",
      "['/data4-4tb/kgreathoo/plots_result_akara/53885058_peak_idx_1_type_test1_TP.png']\n",
      "['$\\\\omega$$^{(6)}$', 'Std. ($\\\\omega$)$^{(9)}$', 'Mean ($\\\\omega$)$^{(6)}$', 'Max ($\\\\omega$)$^{(9)}$', 'Max ($\\\\omega$)$^{(7)}$', 'Min ($\\\\omega$)$^{(6)}$', 'Mean ($\\\\omega$)$^{(9)}$', 'Min ($\\\\omega$)$^{(5)}$', 'Max ($\\\\omega$)$^{(8)}$', '$\\\\omega$$^{(5)}$']\n"
     ]
    },
    {
     "name": "stderr",
     "output_type": "stream",
     "text": [
      "Trying to unpickle estimator LabelEncoder from version 0.24.2 when using version 1.0.2. This might lead to breaking code or invalid results. Use at your own risk. For more info please refer to:\n",
      "https://scikit-learn.org/stable/modules/model_persistence.html#security-maintainability-limitations\n",
      "LightGBM binary classifier with TreeExplainer shap values output has changed to a list of ndarray\n"
     ]
    },
    {
     "name": "stdout",
     "output_type": "stream",
     "text": [
      "['/data4-4tb/kgreathoo/plots_result_akara/53885058_peak_idx_1_type_test1_TP.png']\n",
      "✅ Image: /data4-4tb/kgreathoo/plots_result_akara/53885058_peak_idx_1_type_test1_TP.png\n",
      "🖼️ Title: 53885058 Peak Index 1 Type Test1 Tp\n",
      "✅ Saved combined PDF: shap_outputs_1_10_new_great/53885058_peak_idx_1_type_test1_TP_96.pdf\n",
      "['/data4-4tb/kgreathoo/plots_result_akara/53833962_peak_idx_1_type_test1_TP.png']\n",
      "['$\\\\omega$$^{(6)}$', 'Std. ($\\\\omega$)$^{(9)}$', 'Mean ($\\\\omega$)$^{(6)}$', 'Max ($\\\\omega$)$^{(9)}$', 'Max ($\\\\omega$)$^{(7)}$', 'Min ($\\\\omega$)$^{(6)}$', 'Mean ($\\\\omega$)$^{(9)}$', 'Min ($\\\\omega$)$^{(5)}$', 'Max ($\\\\omega$)$^{(8)}$', '$\\\\omega$$^{(5)}$']\n"
     ]
    },
    {
     "name": "stderr",
     "output_type": "stream",
     "text": [
      "Trying to unpickle estimator LabelEncoder from version 0.24.2 when using version 1.0.2. This might lead to breaking code or invalid results. Use at your own risk. For more info please refer to:\n",
      "https://scikit-learn.org/stable/modules/model_persistence.html#security-maintainability-limitations\n",
      "LightGBM binary classifier with TreeExplainer shap values output has changed to a list of ndarray\n"
     ]
    },
    {
     "name": "stdout",
     "output_type": "stream",
     "text": [
      "['/data4-4tb/kgreathoo/plots_result_akara/53833962_peak_idx_1_type_test1_TP.png']\n",
      "✅ Image: /data4-4tb/kgreathoo/plots_result_akara/53833962_peak_idx_1_type_test1_TP.png\n",
      "🖼️ Title: 53833962 Peak Index 1 Type Test1 Tp\n",
      "✅ Saved combined PDF: shap_outputs_1_10_new_great/53833962_peak_idx_1_type_test1_TP_96.pdf\n",
      "['/data4-4tb/kgreathoo/plots_result_akara/53827103_peak_idx_1_type_test1_TP.png']\n",
      "['$\\\\omega$$^{(6)}$', 'Std. ($\\\\omega$)$^{(9)}$', 'Mean ($\\\\omega$)$^{(6)}$', 'Max ($\\\\omega$)$^{(9)}$', 'Max ($\\\\omega$)$^{(7)}$', 'Min ($\\\\omega$)$^{(6)}$', 'Mean ($\\\\omega$)$^{(9)}$', 'Min ($\\\\omega$)$^{(5)}$', 'Max ($\\\\omega$)$^{(8)}$', '$\\\\omega$$^{(5)}$']\n"
     ]
    },
    {
     "name": "stderr",
     "output_type": "stream",
     "text": [
      "Trying to unpickle estimator LabelEncoder from version 0.24.2 when using version 1.0.2. This might lead to breaking code or invalid results. Use at your own risk. For more info please refer to:\n",
      "https://scikit-learn.org/stable/modules/model_persistence.html#security-maintainability-limitations\n",
      "LightGBM binary classifier with TreeExplainer shap values output has changed to a list of ndarray\n"
     ]
    },
    {
     "name": "stdout",
     "output_type": "stream",
     "text": [
      "['/data4-4tb/kgreathoo/plots_result_akara/53827103_peak_idx_1_type_test1_TP.png']\n",
      "✅ Image: /data4-4tb/kgreathoo/plots_result_akara/53827103_peak_idx_1_type_test1_TP.png\n",
      "🖼️ Title: 53827103 Peak Index 1 Type Test1 Tp\n",
      "✅ Saved combined PDF: shap_outputs_1_10_new_great/53827103_peak_idx_1_type_test1_TP_96.pdf\n",
      "['/data4-4tb/kgreathoo/plots_result_akara/53790928_peak_idx_2_type_test0_TP.png']\n",
      "['$\\\\omega$$^{(6)}$', 'Std. ($\\\\omega$)$^{(9)}$', 'Mean ($\\\\omega$)$^{(6)}$', 'Max ($\\\\omega$)$^{(9)}$', 'Max ($\\\\omega$)$^{(7)}$', 'Min ($\\\\omega$)$^{(6)}$', 'Mean ($\\\\omega$)$^{(9)}$', 'Min ($\\\\omega$)$^{(5)}$', 'Max ($\\\\omega$)$^{(8)}$', '$\\\\omega$$^{(5)}$']\n"
     ]
    },
    {
     "name": "stderr",
     "output_type": "stream",
     "text": [
      "Trying to unpickle estimator LabelEncoder from version 0.24.2 when using version 1.0.2. This might lead to breaking code or invalid results. Use at your own risk. For more info please refer to:\n",
      "https://scikit-learn.org/stable/modules/model_persistence.html#security-maintainability-limitations\n",
      "LightGBM binary classifier with TreeExplainer shap values output has changed to a list of ndarray\n"
     ]
    },
    {
     "name": "stdout",
     "output_type": "stream",
     "text": [
      "['/data4-4tb/kgreathoo/plots_result_akara/53790928_peak_idx_2_type_test0_TP.png']\n",
      "✅ Image: /data4-4tb/kgreathoo/plots_result_akara/53790928_peak_idx_2_type_test0_TP.png\n",
      "🖼️ Title: 53790928 Peak Index 2 Type Test0 Tp\n",
      "✅ Saved combined PDF: shap_outputs_1_10_new_great/53790928_peak_idx_2_type_test0_TP_96.pdf\n",
      "['/data4-4tb/kgreathoo/plots_result_akara/53714114_peak_idx_1_type_test3_TP.png']\n",
      "['$\\\\omega$$^{(6)}$', 'Std. ($\\\\omega$)$^{(9)}$', 'Mean ($\\\\omega$)$^{(6)}$', 'Max ($\\\\omega$)$^{(9)}$', 'Max ($\\\\omega$)$^{(7)}$', 'Min ($\\\\omega$)$^{(6)}$', 'Mean ($\\\\omega$)$^{(9)}$', 'Min ($\\\\omega$)$^{(5)}$', 'Max ($\\\\omega$)$^{(8)}$', '$\\\\omega$$^{(5)}$']\n"
     ]
    },
    {
     "name": "stderr",
     "output_type": "stream",
     "text": [
      "Trying to unpickle estimator LabelEncoder from version 0.24.2 when using version 1.0.2. This might lead to breaking code or invalid results. Use at your own risk. For more info please refer to:\n",
      "https://scikit-learn.org/stable/modules/model_persistence.html#security-maintainability-limitations\n",
      "LightGBM binary classifier with TreeExplainer shap values output has changed to a list of ndarray\n"
     ]
    },
    {
     "name": "stdout",
     "output_type": "stream",
     "text": [
      "['/data4-4tb/kgreathoo/plots_result_akara/53714114_peak_idx_1_type_test3_TP.png']\n",
      "✅ Image: /data4-4tb/kgreathoo/plots_result_akara/53714114_peak_idx_1_type_test3_TP.png\n",
      "🖼️ Title: 53714114 Peak Index 1 Type Test3 Tp\n",
      "✅ Saved combined PDF: shap_outputs_1_10_new_great/53714114_peak_idx_1_type_test3_TP_96.pdf\n",
      "['/data4-4tb/kgreathoo/plots_result_akara/53701955_peak_idx_6_type_test3_TP.png']\n",
      "['$\\\\omega$$^{(6)}$', 'Std. ($\\\\omega$)$^{(9)}$', 'Mean ($\\\\omega$)$^{(6)}$', 'Max ($\\\\omega$)$^{(9)}$', 'Max ($\\\\omega$)$^{(7)}$', 'Min ($\\\\omega$)$^{(6)}$', 'Mean ($\\\\omega$)$^{(9)}$', 'Min ($\\\\omega$)$^{(5)}$', 'Max ($\\\\omega$)$^{(8)}$', '$\\\\omega$$^{(5)}$']\n"
     ]
    },
    {
     "name": "stderr",
     "output_type": "stream",
     "text": [
      "Trying to unpickle estimator LabelEncoder from version 0.24.2 when using version 1.0.2. This might lead to breaking code or invalid results. Use at your own risk. For more info please refer to:\n",
      "https://scikit-learn.org/stable/modules/model_persistence.html#security-maintainability-limitations\n",
      "LightGBM binary classifier with TreeExplainer shap values output has changed to a list of ndarray\n"
     ]
    },
    {
     "name": "stdout",
     "output_type": "stream",
     "text": [
      "['/data4-4tb/kgreathoo/plots_result_akara/53701955_peak_idx_6_type_test3_TP.png']\n",
      "✅ Image: /data4-4tb/kgreathoo/plots_result_akara/53701955_peak_idx_6_type_test3_TP.png\n",
      "🖼️ Title: 53701955 Peak Index 6 Type Test3 Tp\n",
      "✅ Saved combined PDF: shap_outputs_1_10_new_great/53701955_peak_idx_6_type_test3_TP_96.pdf\n",
      "['/data4-4tb/kgreathoo/plots_result_akara/53601117_peak_idx_1_type_test0_TP.png']\n",
      "['$\\\\omega$$^{(6)}$', 'Std. ($\\\\omega$)$^{(9)}$', 'Mean ($\\\\omega$)$^{(6)}$', 'Max ($\\\\omega$)$^{(9)}$', 'Max ($\\\\omega$)$^{(7)}$', 'Min ($\\\\omega$)$^{(6)}$', 'Mean ($\\\\omega$)$^{(9)}$', 'Min ($\\\\omega$)$^{(5)}$', 'Max ($\\\\omega$)$^{(8)}$', '$\\\\omega$$^{(5)}$']\n"
     ]
    },
    {
     "name": "stderr",
     "output_type": "stream",
     "text": [
      "Trying to unpickle estimator LabelEncoder from version 0.24.2 when using version 1.0.2. This might lead to breaking code or invalid results. Use at your own risk. For more info please refer to:\n",
      "https://scikit-learn.org/stable/modules/model_persistence.html#security-maintainability-limitations\n",
      "LightGBM binary classifier with TreeExplainer shap values output has changed to a list of ndarray\n"
     ]
    },
    {
     "name": "stdout",
     "output_type": "stream",
     "text": [
      "['/data4-4tb/kgreathoo/plots_result_akara/53601117_peak_idx_1_type_test0_TP.png']\n",
      "✅ Image: /data4-4tb/kgreathoo/plots_result_akara/53601117_peak_idx_1_type_test0_TP.png\n",
      "🖼️ Title: 53601117 Peak Index 1 Type Test0 Tp\n",
      "✅ Saved combined PDF: shap_outputs_1_10_new_great/53601117_peak_idx_1_type_test0_TP_96.pdf\n",
      "['/data4-4tb/kgreathoo/plots_result_akara/53574742_peak_idx_1_type_test0_TP.png']\n",
      "['$\\\\omega$$^{(6)}$', 'Std. ($\\\\omega$)$^{(9)}$', 'Mean ($\\\\omega$)$^{(6)}$', 'Max ($\\\\omega$)$^{(9)}$', 'Max ($\\\\omega$)$^{(7)}$', 'Min ($\\\\omega$)$^{(6)}$', 'Mean ($\\\\omega$)$^{(9)}$', 'Min ($\\\\omega$)$^{(5)}$', 'Max ($\\\\omega$)$^{(8)}$', '$\\\\omega$$^{(5)}$']\n"
     ]
    },
    {
     "name": "stderr",
     "output_type": "stream",
     "text": [
      "Trying to unpickle estimator LabelEncoder from version 0.24.2 when using version 1.0.2. This might lead to breaking code or invalid results. Use at your own risk. For more info please refer to:\n",
      "https://scikit-learn.org/stable/modules/model_persistence.html#security-maintainability-limitations\n",
      "LightGBM binary classifier with TreeExplainer shap values output has changed to a list of ndarray\n"
     ]
    },
    {
     "name": "stdout",
     "output_type": "stream",
     "text": [
      "['/data4-4tb/kgreathoo/plots_result_akara/53574742_peak_idx_1_type_test0_TP.png']\n",
      "✅ Image: /data4-4tb/kgreathoo/plots_result_akara/53574742_peak_idx_1_type_test0_TP.png\n",
      "🖼️ Title: 53574742 Peak Index 1 Type Test0 Tp\n",
      "✅ Saved combined PDF: shap_outputs_1_10_new_great/53574742_peak_idx_1_type_test0_TP_96.pdf\n",
      "['/data4-4tb/kgreathoo/plots_result_akara/53427016_peak_idx_1_type_test3_TP.png']\n",
      "['$\\\\omega$$^{(6)}$', 'Std. ($\\\\omega$)$^{(9)}$', 'Mean ($\\\\omega$)$^{(6)}$', 'Max ($\\\\omega$)$^{(9)}$', 'Max ($\\\\omega$)$^{(7)}$', 'Min ($\\\\omega$)$^{(6)}$', 'Mean ($\\\\omega$)$^{(9)}$', 'Min ($\\\\omega$)$^{(5)}$', 'Max ($\\\\omega$)$^{(8)}$', '$\\\\omega$$^{(5)}$']\n"
     ]
    },
    {
     "name": "stderr",
     "output_type": "stream",
     "text": [
      "Trying to unpickle estimator LabelEncoder from version 0.24.2 when using version 1.0.2. This might lead to breaking code or invalid results. Use at your own risk. For more info please refer to:\n",
      "https://scikit-learn.org/stable/modules/model_persistence.html#security-maintainability-limitations\n",
      "LightGBM binary classifier with TreeExplainer shap values output has changed to a list of ndarray\n"
     ]
    },
    {
     "name": "stdout",
     "output_type": "stream",
     "text": [
      "['/data4-4tb/kgreathoo/plots_result_akara/53427016_peak_idx_1_type_test3_TP.png']\n",
      "✅ Image: /data4-4tb/kgreathoo/plots_result_akara/53427016_peak_idx_1_type_test3_TP.png\n",
      "🖼️ Title: 53427016 Peak Index 1 Type Test3 Tp\n",
      "✅ Saved combined PDF: shap_outputs_1_10_new_great/53427016_peak_idx_1_type_test3_TP_96.pdf\n",
      "['/data4-4tb/kgreathoo/plots_result_akara/53411890_peak_idx_9_type_test2_FN.png']\n",
      "['$\\\\omega$$^{(6)}$', 'Std. ($\\\\omega$)$^{(9)}$', 'Mean ($\\\\omega$)$^{(6)}$', 'Max ($\\\\omega$)$^{(9)}$', 'Max ($\\\\omega$)$^{(7)}$', 'Min ($\\\\omega$)$^{(6)}$', 'Mean ($\\\\omega$)$^{(9)}$', 'Min ($\\\\omega$)$^{(5)}$', 'Max ($\\\\omega$)$^{(8)}$', '$\\\\omega$$^{(5)}$']\n"
     ]
    },
    {
     "name": "stderr",
     "output_type": "stream",
     "text": [
      "Trying to unpickle estimator LabelEncoder from version 0.24.2 when using version 1.0.2. This might lead to breaking code or invalid results. Use at your own risk. For more info please refer to:\n",
      "https://scikit-learn.org/stable/modules/model_persistence.html#security-maintainability-limitations\n",
      "LightGBM binary classifier with TreeExplainer shap values output has changed to a list of ndarray\n"
     ]
    },
    {
     "name": "stdout",
     "output_type": "stream",
     "text": [
      "['/data4-4tb/kgreathoo/plots_result_akara/53411890_peak_idx_9_type_test2_FN.png']\n",
      "✅ Image: /data4-4tb/kgreathoo/plots_result_akara/53411890_peak_idx_9_type_test2_FN.png\n",
      "🖼️ Title: 53411890 Peak Index 9 Type Test2 Fn\n",
      "✅ Saved combined PDF: shap_outputs_1_10_new_great/53411890_peak_idx_9_type_test2_FN_96.pdf\n",
      "['/data4-4tb/kgreathoo/plots_result_akara/53111503_peak_idx_1_type_test1_TP.png']\n",
      "['$\\\\omega$$^{(6)}$', 'Std. ($\\\\omega$)$^{(9)}$', 'Mean ($\\\\omega$)$^{(6)}$', 'Max ($\\\\omega$)$^{(9)}$', 'Max ($\\\\omega$)$^{(7)}$', 'Min ($\\\\omega$)$^{(6)}$', 'Mean ($\\\\omega$)$^{(9)}$', 'Min ($\\\\omega$)$^{(5)}$', 'Max ($\\\\omega$)$^{(8)}$', '$\\\\omega$$^{(5)}$']\n"
     ]
    },
    {
     "name": "stderr",
     "output_type": "stream",
     "text": [
      "Trying to unpickle estimator LabelEncoder from version 0.24.2 when using version 1.0.2. This might lead to breaking code or invalid results. Use at your own risk. For more info please refer to:\n",
      "https://scikit-learn.org/stable/modules/model_persistence.html#security-maintainability-limitations\n",
      "LightGBM binary classifier with TreeExplainer shap values output has changed to a list of ndarray\n"
     ]
    },
    {
     "name": "stdout",
     "output_type": "stream",
     "text": [
      "['/data4-4tb/kgreathoo/plots_result_akara/53111503_peak_idx_1_type_test1_TP.png']\n",
      "✅ Image: /data4-4tb/kgreathoo/plots_result_akara/53111503_peak_idx_1_type_test1_TP.png\n",
      "🖼️ Title: 53111503 Peak Index 1 Type Test1 Tp\n",
      "✅ Saved combined PDF: shap_outputs_1_10_new_great/53111503_peak_idx_1_type_test1_TP_96.pdf\n",
      "['/data4-4tb/kgreathoo/plots_result_akara/53005034_peak_idx_1_type_test0_TP.png']\n",
      "['$\\\\omega$$^{(6)}$', 'Std. ($\\\\omega$)$^{(9)}$', 'Mean ($\\\\omega$)$^{(6)}$', 'Max ($\\\\omega$)$^{(9)}$', 'Max ($\\\\omega$)$^{(7)}$', 'Min ($\\\\omega$)$^{(6)}$', 'Mean ($\\\\omega$)$^{(9)}$', 'Min ($\\\\omega$)$^{(5)}$', 'Max ($\\\\omega$)$^{(8)}$', '$\\\\omega$$^{(5)}$']\n"
     ]
    },
    {
     "name": "stderr",
     "output_type": "stream",
     "text": [
      "Trying to unpickle estimator LabelEncoder from version 0.24.2 when using version 1.0.2. This might lead to breaking code or invalid results. Use at your own risk. For more info please refer to:\n",
      "https://scikit-learn.org/stable/modules/model_persistence.html#security-maintainability-limitations\n",
      "LightGBM binary classifier with TreeExplainer shap values output has changed to a list of ndarray\n"
     ]
    },
    {
     "name": "stdout",
     "output_type": "stream",
     "text": [
      "['/data4-4tb/kgreathoo/plots_result_akara/53005034_peak_idx_1_type_test0_TP.png']\n",
      "✅ Image: /data4-4tb/kgreathoo/plots_result_akara/53005034_peak_idx_1_type_test0_TP.png\n",
      "🖼️ Title: 53005034 Peak Index 1 Type Test0 Tp\n",
      "✅ Saved combined PDF: shap_outputs_1_10_new_great/53005034_peak_idx_1_type_test0_TP_96.pdf\n",
      "['/data4-4tb/kgreathoo/plots_result_akara/52871248_peak_idx_2_type_test1_TP.png']\n",
      "['$\\\\omega$$^{(6)}$', 'Std. ($\\\\omega$)$^{(9)}$', 'Mean ($\\\\omega$)$^{(6)}$', 'Max ($\\\\omega$)$^{(9)}$', 'Max ($\\\\omega$)$^{(7)}$', 'Min ($\\\\omega$)$^{(6)}$', 'Mean ($\\\\omega$)$^{(9)}$', 'Min ($\\\\omega$)$^{(5)}$', 'Max ($\\\\omega$)$^{(8)}$', '$\\\\omega$$^{(5)}$']\n"
     ]
    },
    {
     "name": "stderr",
     "output_type": "stream",
     "text": [
      "Trying to unpickle estimator LabelEncoder from version 0.24.2 when using version 1.0.2. This might lead to breaking code or invalid results. Use at your own risk. For more info please refer to:\n",
      "https://scikit-learn.org/stable/modules/model_persistence.html#security-maintainability-limitations\n",
      "LightGBM binary classifier with TreeExplainer shap values output has changed to a list of ndarray\n"
     ]
    },
    {
     "name": "stdout",
     "output_type": "stream",
     "text": [
      "['/data4-4tb/kgreathoo/plots_result_akara/52871248_peak_idx_2_type_test1_TP.png']\n",
      "✅ Image: /data4-4tb/kgreathoo/plots_result_akara/52871248_peak_idx_2_type_test1_TP.png\n",
      "🖼️ Title: 52871248 Peak Index 2 Type Test1 Tp\n",
      "✅ Saved combined PDF: shap_outputs_1_10_new_great/52871248_peak_idx_2_type_test1_TP_96.pdf\n",
      "['/data4-4tb/kgreathoo/plots_result_akara/52610487_peak_idx_1_type_test3_TP.png']\n",
      "['$\\\\omega$$^{(6)}$', 'Std. ($\\\\omega$)$^{(9)}$', 'Mean ($\\\\omega$)$^{(6)}$', 'Max ($\\\\omega$)$^{(9)}$', 'Max ($\\\\omega$)$^{(7)}$', 'Min ($\\\\omega$)$^{(6)}$', 'Mean ($\\\\omega$)$^{(9)}$', 'Min ($\\\\omega$)$^{(5)}$', 'Max ($\\\\omega$)$^{(8)}$', '$\\\\omega$$^{(5)}$']\n"
     ]
    },
    {
     "name": "stderr",
     "output_type": "stream",
     "text": [
      "Trying to unpickle estimator LabelEncoder from version 0.24.2 when using version 1.0.2. This might lead to breaking code or invalid results. Use at your own risk. For more info please refer to:\n",
      "https://scikit-learn.org/stable/modules/model_persistence.html#security-maintainability-limitations\n",
      "LightGBM binary classifier with TreeExplainer shap values output has changed to a list of ndarray\n"
     ]
    },
    {
     "name": "stdout",
     "output_type": "stream",
     "text": [
      "['/data4-4tb/kgreathoo/plots_result_akara/52610487_peak_idx_1_type_test3_TP.png']\n",
      "✅ Image: /data4-4tb/kgreathoo/plots_result_akara/52610487_peak_idx_1_type_test3_TP.png\n",
      "🖼️ Title: 52610487 Peak Index 1 Type Test3 Tp\n",
      "✅ Saved combined PDF: shap_outputs_1_10_new_great/52610487_peak_idx_1_type_test3_TP_96.pdf\n",
      "['/data4-4tb/kgreathoo/plots_result_akara/52602113_peak_idx_1_type_test4_TP.png']\n",
      "['$\\\\omega$$^{(6)}$', 'Std. ($\\\\omega$)$^{(9)}$', 'Mean ($\\\\omega$)$^{(6)}$', 'Max ($\\\\omega$)$^{(9)}$', 'Max ($\\\\omega$)$^{(7)}$', 'Min ($\\\\omega$)$^{(6)}$', 'Mean ($\\\\omega$)$^{(9)}$', 'Min ($\\\\omega$)$^{(5)}$', 'Max ($\\\\omega$)$^{(8)}$', '$\\\\omega$$^{(5)}$']\n"
     ]
    },
    {
     "name": "stderr",
     "output_type": "stream",
     "text": [
      "Trying to unpickle estimator LabelEncoder from version 0.24.2 when using version 1.0.2. This might lead to breaking code or invalid results. Use at your own risk. For more info please refer to:\n",
      "https://scikit-learn.org/stable/modules/model_persistence.html#security-maintainability-limitations\n",
      "LightGBM binary classifier with TreeExplainer shap values output has changed to a list of ndarray\n"
     ]
    },
    {
     "name": "stdout",
     "output_type": "stream",
     "text": [
      "['/data4-4tb/kgreathoo/plots_result_akara/52602113_peak_idx_1_type_test4_TP.png']\n",
      "✅ Image: /data4-4tb/kgreathoo/plots_result_akara/52602113_peak_idx_1_type_test4_TP.png\n",
      "🖼️ Title: 52602113 Peak Index 1 Type Test4 Tp\n",
      "✅ Saved combined PDF: shap_outputs_1_10_new_great/52602113_peak_idx_1_type_test4_TP_96.pdf\n",
      "['/data4-4tb/kgreathoo/plots_result_akara/52589797_peak_idx_6_type_test1_TP.png']\n",
      "['$\\\\omega$$^{(6)}$', 'Std. ($\\\\omega$)$^{(9)}$', 'Mean ($\\\\omega$)$^{(6)}$', 'Max ($\\\\omega$)$^{(9)}$', 'Max ($\\\\omega$)$^{(7)}$', 'Min ($\\\\omega$)$^{(6)}$', 'Mean ($\\\\omega$)$^{(9)}$', 'Min ($\\\\omega$)$^{(5)}$', 'Max ($\\\\omega$)$^{(8)}$', '$\\\\omega$$^{(5)}$']\n"
     ]
    },
    {
     "name": "stderr",
     "output_type": "stream",
     "text": [
      "Trying to unpickle estimator LabelEncoder from version 0.24.2 when using version 1.0.2. This might lead to breaking code or invalid results. Use at your own risk. For more info please refer to:\n",
      "https://scikit-learn.org/stable/modules/model_persistence.html#security-maintainability-limitations\n",
      "LightGBM binary classifier with TreeExplainer shap values output has changed to a list of ndarray\n"
     ]
    },
    {
     "name": "stdout",
     "output_type": "stream",
     "text": [
      "['/data4-4tb/kgreathoo/plots_result_akara/52589797_peak_idx_6_type_test1_TP.png']\n",
      "✅ Image: /data4-4tb/kgreathoo/plots_result_akara/52589797_peak_idx_6_type_test1_TP.png\n",
      "🖼️ Title: 52589797 Peak Index 6 Type Test1 Tp\n",
      "✅ Saved combined PDF: shap_outputs_1_10_new_great/52589797_peak_idx_6_type_test1_TP_96.pdf\n",
      "['/data4-4tb/kgreathoo/plots_result_akara/52540642_peak_idx_1_type_test2_TP.png']\n",
      "['$\\\\omega$$^{(6)}$', 'Std. ($\\\\omega$)$^{(9)}$', 'Mean ($\\\\omega$)$^{(6)}$', 'Max ($\\\\omega$)$^{(9)}$', 'Max ($\\\\omega$)$^{(7)}$', 'Min ($\\\\omega$)$^{(6)}$', 'Mean ($\\\\omega$)$^{(9)}$', 'Min ($\\\\omega$)$^{(5)}$', 'Max ($\\\\omega$)$^{(8)}$', '$\\\\omega$$^{(5)}$']\n"
     ]
    },
    {
     "name": "stderr",
     "output_type": "stream",
     "text": [
      "Trying to unpickle estimator LabelEncoder from version 0.24.2 when using version 1.0.2. This might lead to breaking code or invalid results. Use at your own risk. For more info please refer to:\n",
      "https://scikit-learn.org/stable/modules/model_persistence.html#security-maintainability-limitations\n",
      "LightGBM binary classifier with TreeExplainer shap values output has changed to a list of ndarray\n"
     ]
    },
    {
     "name": "stdout",
     "output_type": "stream",
     "text": [
      "['/data4-4tb/kgreathoo/plots_result_akara/52540642_peak_idx_1_type_test2_TP.png']\n",
      "✅ Image: /data4-4tb/kgreathoo/plots_result_akara/52540642_peak_idx_1_type_test2_TP.png\n",
      "🖼️ Title: 52540642 Peak Index 1 Type Test2 Tp\n",
      "✅ Saved combined PDF: shap_outputs_1_10_new_great/52540642_peak_idx_1_type_test2_TP_96.pdf\n",
      "['/data4-4tb/kgreathoo/plots_result_akara/51256496_peak_idx_1_type_test2_TP.png']\n",
      "['$\\\\omega$$^{(6)}$', 'Std. ($\\\\omega$)$^{(9)}$', 'Mean ($\\\\omega$)$^{(6)}$', 'Max ($\\\\omega$)$^{(9)}$', 'Max ($\\\\omega$)$^{(7)}$', 'Min ($\\\\omega$)$^{(6)}$', 'Mean ($\\\\omega$)$^{(9)}$', 'Min ($\\\\omega$)$^{(5)}$', 'Max ($\\\\omega$)$^{(8)}$', '$\\\\omega$$^{(5)}$']\n"
     ]
    },
    {
     "name": "stderr",
     "output_type": "stream",
     "text": [
      "Trying to unpickle estimator LabelEncoder from version 0.24.2 when using version 1.0.2. This might lead to breaking code or invalid results. Use at your own risk. For more info please refer to:\n",
      "https://scikit-learn.org/stable/modules/model_persistence.html#security-maintainability-limitations\n",
      "LightGBM binary classifier with TreeExplainer shap values output has changed to a list of ndarray\n"
     ]
    },
    {
     "name": "stdout",
     "output_type": "stream",
     "text": [
      "['/data4-4tb/kgreathoo/plots_result_akara/51256496_peak_idx_1_type_test2_TP.png']\n",
      "✅ Image: /data4-4tb/kgreathoo/plots_result_akara/51256496_peak_idx_1_type_test2_TP.png\n",
      "🖼️ Title: 51256496 Peak Index 1 Type Test2 Tp\n",
      "✅ Saved combined PDF: shap_outputs_1_10_new_great/51256496_peak_idx_1_type_test2_TP_96.pdf\n",
      "['/data4-4tb/kgreathoo/plots_result_akara/50193940_peak_idx_1_type_test4_TP.png']\n",
      "['$\\\\omega$$^{(6)}$', 'Std. ($\\\\omega$)$^{(9)}$', 'Mean ($\\\\omega$)$^{(6)}$', 'Max ($\\\\omega$)$^{(9)}$', 'Max ($\\\\omega$)$^{(7)}$', 'Min ($\\\\omega$)$^{(6)}$', 'Mean ($\\\\omega$)$^{(9)}$', 'Min ($\\\\omega$)$^{(5)}$', 'Max ($\\\\omega$)$^{(8)}$', '$\\\\omega$$^{(5)}$']\n"
     ]
    },
    {
     "name": "stderr",
     "output_type": "stream",
     "text": [
      "Trying to unpickle estimator LabelEncoder from version 0.24.2 when using version 1.0.2. This might lead to breaking code or invalid results. Use at your own risk. For more info please refer to:\n",
      "https://scikit-learn.org/stable/modules/model_persistence.html#security-maintainability-limitations\n",
      "LightGBM binary classifier with TreeExplainer shap values output has changed to a list of ndarray\n"
     ]
    },
    {
     "name": "stdout",
     "output_type": "stream",
     "text": [
      "['/data4-4tb/kgreathoo/plots_result_akara/50193940_peak_idx_1_type_test4_TP.png']\n",
      "✅ Image: /data4-4tb/kgreathoo/plots_result_akara/50193940_peak_idx_1_type_test4_TP.png\n",
      "🖼️ Title: 50193940 Peak Index 1 Type Test4 Tp\n",
      "✅ Saved combined PDF: shap_outputs_1_10_new_great/50193940_peak_idx_1_type_test4_TP_96.pdf\n",
      "['/data4-4tb/kgreathoo/plots_result_akara/49252872_peak_idx_1_type_test3_TP.png']\n",
      "['$\\\\omega$$^{(6)}$', 'Std. ($\\\\omega$)$^{(9)}$', 'Mean ($\\\\omega$)$^{(6)}$', 'Max ($\\\\omega$)$^{(9)}$', 'Max ($\\\\omega$)$^{(7)}$', 'Min ($\\\\omega$)$^{(6)}$', 'Mean ($\\\\omega$)$^{(9)}$', 'Min ($\\\\omega$)$^{(5)}$', 'Max ($\\\\omega$)$^{(8)}$', '$\\\\omega$$^{(5)}$']\n"
     ]
    },
    {
     "name": "stderr",
     "output_type": "stream",
     "text": [
      "Trying to unpickle estimator LabelEncoder from version 0.24.2 when using version 1.0.2. This might lead to breaking code or invalid results. Use at your own risk. For more info please refer to:\n",
      "https://scikit-learn.org/stable/modules/model_persistence.html#security-maintainability-limitations\n",
      "LightGBM binary classifier with TreeExplainer shap values output has changed to a list of ndarray\n"
     ]
    },
    {
     "name": "stdout",
     "output_type": "stream",
     "text": [
      "['/data4-4tb/kgreathoo/plots_result_akara/49252872_peak_idx_1_type_test3_TP.png']\n",
      "✅ Image: /data4-4tb/kgreathoo/plots_result_akara/49252872_peak_idx_1_type_test3_TP.png\n",
      "🖼️ Title: 49252872 Peak Index 1 Type Test3 Tp\n",
      "✅ Saved combined PDF: shap_outputs_1_10_new_great/49252872_peak_idx_1_type_test3_TP_96.pdf\n",
      "['/data4-4tb/kgreathoo/plots_result_akara/49185484_peak_idx_1_type_test3_TP.png']\n",
      "['$\\\\omega$$^{(6)}$', 'Std. ($\\\\omega$)$^{(9)}$', 'Mean ($\\\\omega$)$^{(6)}$', 'Max ($\\\\omega$)$^{(9)}$', 'Max ($\\\\omega$)$^{(7)}$', 'Min ($\\\\omega$)$^{(6)}$', 'Mean ($\\\\omega$)$^{(9)}$', 'Min ($\\\\omega$)$^{(5)}$', 'Max ($\\\\omega$)$^{(8)}$', '$\\\\omega$$^{(5)}$']\n"
     ]
    },
    {
     "name": "stderr",
     "output_type": "stream",
     "text": [
      "Trying to unpickle estimator LabelEncoder from version 0.24.2 when using version 1.0.2. This might lead to breaking code or invalid results. Use at your own risk. For more info please refer to:\n",
      "https://scikit-learn.org/stable/modules/model_persistence.html#security-maintainability-limitations\n",
      "LightGBM binary classifier with TreeExplainer shap values output has changed to a list of ndarray\n"
     ]
    },
    {
     "name": "stdout",
     "output_type": "stream",
     "text": [
      "['/data4-4tb/kgreathoo/plots_result_akara/49185484_peak_idx_1_type_test3_TP.png']\n",
      "✅ Image: /data4-4tb/kgreathoo/plots_result_akara/49185484_peak_idx_1_type_test3_TP.png\n",
      "🖼️ Title: 49185484 Peak Index 1 Type Test3 Tp\n",
      "✅ Saved combined PDF: shap_outputs_1_10_new_great/49185484_peak_idx_1_type_test3_TP_96.pdf\n",
      "['/data4-4tb/kgreathoo/plots_result_akara/49182781_peak_idx_1_type_test2_TP.png']\n",
      "['$\\\\omega$$^{(6)}$', 'Std. ($\\\\omega$)$^{(9)}$', 'Mean ($\\\\omega$)$^{(6)}$', 'Max ($\\\\omega$)$^{(9)}$', 'Max ($\\\\omega$)$^{(7)}$', 'Min ($\\\\omega$)$^{(6)}$', 'Mean ($\\\\omega$)$^{(9)}$', 'Min ($\\\\omega$)$^{(5)}$', 'Max ($\\\\omega$)$^{(8)}$', '$\\\\omega$$^{(5)}$']\n"
     ]
    },
    {
     "name": "stderr",
     "output_type": "stream",
     "text": [
      "Trying to unpickle estimator LabelEncoder from version 0.24.2 when using version 1.0.2. This might lead to breaking code or invalid results. Use at your own risk. For more info please refer to:\n",
      "https://scikit-learn.org/stable/modules/model_persistence.html#security-maintainability-limitations\n",
      "LightGBM binary classifier with TreeExplainer shap values output has changed to a list of ndarray\n"
     ]
    },
    {
     "name": "stdout",
     "output_type": "stream",
     "text": [
      "['/data4-4tb/kgreathoo/plots_result_akara/49182781_peak_idx_1_type_test2_TP.png']\n",
      "✅ Image: /data4-4tb/kgreathoo/plots_result_akara/49182781_peak_idx_1_type_test2_TP.png\n",
      "🖼️ Title: 49182781 Peak Index 1 Type Test2 Tp\n",
      "✅ Saved combined PDF: shap_outputs_1_10_new_great/49182781_peak_idx_1_type_test2_TP_96.pdf\n",
      "['/data4-4tb/kgreathoo/plots_result_akara/49161849_peak_idx_1_type_test2_TP.png']\n",
      "['$\\\\omega$$^{(6)}$', 'Std. ($\\\\omega$)$^{(9)}$', 'Mean ($\\\\omega$)$^{(6)}$', 'Max ($\\\\omega$)$^{(9)}$', 'Max ($\\\\omega$)$^{(7)}$', 'Min ($\\\\omega$)$^{(6)}$', 'Mean ($\\\\omega$)$^{(9)}$', 'Min ($\\\\omega$)$^{(5)}$', 'Max ($\\\\omega$)$^{(8)}$', '$\\\\omega$$^{(5)}$']\n"
     ]
    },
    {
     "name": "stderr",
     "output_type": "stream",
     "text": [
      "Trying to unpickle estimator LabelEncoder from version 0.24.2 when using version 1.0.2. This might lead to breaking code or invalid results. Use at your own risk. For more info please refer to:\n",
      "https://scikit-learn.org/stable/modules/model_persistence.html#security-maintainability-limitations\n",
      "LightGBM binary classifier with TreeExplainer shap values output has changed to a list of ndarray\n"
     ]
    },
    {
     "name": "stdout",
     "output_type": "stream",
     "text": [
      "['/data4-4tb/kgreathoo/plots_result_akara/49161849_peak_idx_1_type_test2_TP.png']\n",
      "✅ Image: /data4-4tb/kgreathoo/plots_result_akara/49161849_peak_idx_1_type_test2_TP.png\n",
      "🖼️ Title: 49161849 Peak Index 1 Type Test2 Tp\n",
      "✅ Saved combined PDF: shap_outputs_1_10_new_great/49161849_peak_idx_1_type_test2_TP_96.pdf\n",
      "['/data4-4tb/kgreathoo/plots_result_akara/49147328_peak_idx_1_type_test2_TP.png']\n",
      "['$\\\\omega$$^{(6)}$', 'Std. ($\\\\omega$)$^{(9)}$', 'Mean ($\\\\omega$)$^{(6)}$', 'Max ($\\\\omega$)$^{(9)}$', 'Max ($\\\\omega$)$^{(7)}$', 'Min ($\\\\omega$)$^{(6)}$', 'Mean ($\\\\omega$)$^{(9)}$', 'Min ($\\\\omega$)$^{(5)}$', 'Max ($\\\\omega$)$^{(8)}$', '$\\\\omega$$^{(5)}$']\n"
     ]
    },
    {
     "name": "stderr",
     "output_type": "stream",
     "text": [
      "Trying to unpickle estimator LabelEncoder from version 0.24.2 when using version 1.0.2. This might lead to breaking code or invalid results. Use at your own risk. For more info please refer to:\n",
      "https://scikit-learn.org/stable/modules/model_persistence.html#security-maintainability-limitations\n",
      "LightGBM binary classifier with TreeExplainer shap values output has changed to a list of ndarray\n"
     ]
    },
    {
     "name": "stdout",
     "output_type": "stream",
     "text": [
      "['/data4-4tb/kgreathoo/plots_result_akara/49147328_peak_idx_1_type_test2_TP.png']\n",
      "✅ Image: /data4-4tb/kgreathoo/plots_result_akara/49147328_peak_idx_1_type_test2_TP.png\n",
      "🖼️ Title: 49147328 Peak Index 1 Type Test2 Tp\n",
      "✅ Saved combined PDF: shap_outputs_1_10_new_great/49147328_peak_idx_1_type_test2_TP_96.pdf\n",
      "['/data4-4tb/kgreathoo/plots_result_akara/49114962_peak_idx_10_type_test0_TP.png']\n",
      "['$\\\\omega$$^{(6)}$', 'Std. ($\\\\omega$)$^{(9)}$', 'Mean ($\\\\omega$)$^{(6)}$', 'Max ($\\\\omega$)$^{(9)}$', 'Max ($\\\\omega$)$^{(7)}$', 'Min ($\\\\omega$)$^{(6)}$', 'Mean ($\\\\omega$)$^{(9)}$', 'Min ($\\\\omega$)$^{(5)}$', 'Max ($\\\\omega$)$^{(8)}$', '$\\\\omega$$^{(5)}$']\n"
     ]
    },
    {
     "name": "stderr",
     "output_type": "stream",
     "text": [
      "Trying to unpickle estimator LabelEncoder from version 0.24.2 when using version 1.0.2. This might lead to breaking code or invalid results. Use at your own risk. For more info please refer to:\n",
      "https://scikit-learn.org/stable/modules/model_persistence.html#security-maintainability-limitations\n",
      "LightGBM binary classifier with TreeExplainer shap values output has changed to a list of ndarray\n"
     ]
    },
    {
     "name": "stdout",
     "output_type": "stream",
     "text": [
      "['/data4-4tb/kgreathoo/plots_result_akara/49114962_peak_idx_10_type_test0_TP.png']\n",
      "✅ Image: /data4-4tb/kgreathoo/plots_result_akara/49114962_peak_idx_10_type_test0_TP.png\n",
      "🖼️ Title: 49114962 Peak Index 10 Type Test0 Tp\n",
      "✅ Saved combined PDF: shap_outputs_1_10_new_great/49114962_peak_idx_10_type_test0_TP_96.pdf\n",
      "['/data4-4tb/kgreathoo/plots_result_akara/48125360_peak_idx_1_type_test1_TP.png']\n",
      "['$\\\\omega$$^{(6)}$', 'Std. ($\\\\omega$)$^{(9)}$', 'Mean ($\\\\omega$)$^{(6)}$', 'Max ($\\\\omega$)$^{(9)}$', 'Max ($\\\\omega$)$^{(7)}$', 'Min ($\\\\omega$)$^{(6)}$', 'Mean ($\\\\omega$)$^{(9)}$', 'Min ($\\\\omega$)$^{(5)}$', 'Max ($\\\\omega$)$^{(8)}$', '$\\\\omega$$^{(5)}$']\n"
     ]
    },
    {
     "name": "stderr",
     "output_type": "stream",
     "text": [
      "Trying to unpickle estimator LabelEncoder from version 0.24.2 when using version 1.0.2. This might lead to breaking code or invalid results. Use at your own risk. For more info please refer to:\n",
      "https://scikit-learn.org/stable/modules/model_persistence.html#security-maintainability-limitations\n",
      "LightGBM binary classifier with TreeExplainer shap values output has changed to a list of ndarray\n"
     ]
    },
    {
     "name": "stdout",
     "output_type": "stream",
     "text": [
      "['/data4-4tb/kgreathoo/plots_result_akara/48125360_peak_idx_1_type_test1_TP.png']\n",
      "✅ Image: /data4-4tb/kgreathoo/plots_result_akara/48125360_peak_idx_1_type_test1_TP.png\n",
      "🖼️ Title: 48125360 Peak Index 1 Type Test1 Tp\n",
      "✅ Saved combined PDF: shap_outputs_1_10_new_great/48125360_peak_idx_1_type_test1_TP_96.pdf\n",
      "['/data4-4tb/kgreathoo/plots_result_akara/47201762_peak_idx_10_type_test4_TP.png']\n",
      "['$\\\\omega$$^{(6)}$', 'Std. ($\\\\omega$)$^{(9)}$', 'Mean ($\\\\omega$)$^{(6)}$', 'Max ($\\\\omega$)$^{(9)}$', 'Max ($\\\\omega$)$^{(7)}$', 'Min ($\\\\omega$)$^{(6)}$', 'Mean ($\\\\omega$)$^{(9)}$', 'Min ($\\\\omega$)$^{(5)}$', 'Max ($\\\\omega$)$^{(8)}$', '$\\\\omega$$^{(5)}$']\n"
     ]
    },
    {
     "name": "stderr",
     "output_type": "stream",
     "text": [
      "Trying to unpickle estimator LabelEncoder from version 0.24.2 when using version 1.0.2. This might lead to breaking code or invalid results. Use at your own risk. For more info please refer to:\n",
      "https://scikit-learn.org/stable/modules/model_persistence.html#security-maintainability-limitations\n",
      "LightGBM binary classifier with TreeExplainer shap values output has changed to a list of ndarray\n"
     ]
    },
    {
     "name": "stdout",
     "output_type": "stream",
     "text": [
      "['/data4-4tb/kgreathoo/plots_result_akara/47201762_peak_idx_10_type_test4_TP.png']\n",
      "✅ Image: /data4-4tb/kgreathoo/plots_result_akara/47201762_peak_idx_10_type_test4_TP.png\n",
      "🖼️ Title: 47201762 Peak Index 10 Type Test4 Tp\n",
      "✅ Saved combined PDF: shap_outputs_1_10_new_great/47201762_peak_idx_10_type_test4_TP_96.pdf\n",
      "['/data4-4tb/kgreathoo/plots_result_akara/47158939_peak_idx_2_type_test2_TP.png']\n",
      "['$\\\\omega$$^{(6)}$', 'Std. ($\\\\omega$)$^{(9)}$', 'Mean ($\\\\omega$)$^{(6)}$', 'Max ($\\\\omega$)$^{(9)}$', 'Max ($\\\\omega$)$^{(7)}$', 'Min ($\\\\omega$)$^{(6)}$', 'Mean ($\\\\omega$)$^{(9)}$', 'Min ($\\\\omega$)$^{(5)}$', 'Max ($\\\\omega$)$^{(8)}$', '$\\\\omega$$^{(5)}$']\n"
     ]
    },
    {
     "name": "stderr",
     "output_type": "stream",
     "text": [
      "Trying to unpickle estimator LabelEncoder from version 0.24.2 when using version 1.0.2. This might lead to breaking code or invalid results. Use at your own risk. For more info please refer to:\n",
      "https://scikit-learn.org/stable/modules/model_persistence.html#security-maintainability-limitations\n",
      "LightGBM binary classifier with TreeExplainer shap values output has changed to a list of ndarray\n"
     ]
    },
    {
     "name": "stdout",
     "output_type": "stream",
     "text": [
      "['/data4-4tb/kgreathoo/plots_result_akara/47158939_peak_idx_2_type_test2_TP.png']\n",
      "✅ Image: /data4-4tb/kgreathoo/plots_result_akara/47158939_peak_idx_2_type_test2_TP.png\n",
      "🖼️ Title: 47158939 Peak Index 2 Type Test2 Tp\n",
      "✅ Saved combined PDF: shap_outputs_1_10_new_great/47158939_peak_idx_2_type_test2_TP_96.pdf\n",
      "['/data4-4tb/kgreathoo/plots_result_akara/46025187_peak_idx_1_type_test2_TP.png']\n",
      "['$\\\\omega$$^{(6)}$', 'Std. ($\\\\omega$)$^{(9)}$', 'Mean ($\\\\omega$)$^{(6)}$', 'Max ($\\\\omega$)$^{(9)}$', 'Max ($\\\\omega$)$^{(7)}$', 'Min ($\\\\omega$)$^{(6)}$', 'Mean ($\\\\omega$)$^{(9)}$', 'Min ($\\\\omega$)$^{(5)}$', 'Max ($\\\\omega$)$^{(8)}$', '$\\\\omega$$^{(5)}$']\n"
     ]
    },
    {
     "name": "stderr",
     "output_type": "stream",
     "text": [
      "Trying to unpickle estimator LabelEncoder from version 0.24.2 when using version 1.0.2. This might lead to breaking code or invalid results. Use at your own risk. For more info please refer to:\n",
      "https://scikit-learn.org/stable/modules/model_persistence.html#security-maintainability-limitations\n",
      "LightGBM binary classifier with TreeExplainer shap values output has changed to a list of ndarray\n"
     ]
    },
    {
     "name": "stdout",
     "output_type": "stream",
     "text": [
      "['/data4-4tb/kgreathoo/plots_result_akara/46025187_peak_idx_1_type_test2_TP.png']\n",
      "✅ Image: /data4-4tb/kgreathoo/plots_result_akara/46025187_peak_idx_1_type_test2_TP.png\n",
      "🖼️ Title: 46025187 Peak Index 1 Type Test2 Tp\n",
      "✅ Saved combined PDF: shap_outputs_1_10_new_great/46025187_peak_idx_1_type_test2_TP_96.pdf\n",
      "['/data4-4tb/kgreathoo/plots_result_akara/45084446_peak_idx_2_type_test0_TP.png']\n",
      "['$\\\\omega$$^{(6)}$', 'Std. ($\\\\omega$)$^{(9)}$', 'Mean ($\\\\omega$)$^{(6)}$', 'Max ($\\\\omega$)$^{(9)}$', 'Max ($\\\\omega$)$^{(7)}$', 'Min ($\\\\omega$)$^{(6)}$', 'Mean ($\\\\omega$)$^{(9)}$', 'Min ($\\\\omega$)$^{(5)}$', 'Max ($\\\\omega$)$^{(8)}$', '$\\\\omega$$^{(5)}$']\n"
     ]
    },
    {
     "name": "stderr",
     "output_type": "stream",
     "text": [
      "Trying to unpickle estimator LabelEncoder from version 0.24.2 when using version 1.0.2. This might lead to breaking code or invalid results. Use at your own risk. For more info please refer to:\n",
      "https://scikit-learn.org/stable/modules/model_persistence.html#security-maintainability-limitations\n",
      "LightGBM binary classifier with TreeExplainer shap values output has changed to a list of ndarray\n"
     ]
    },
    {
     "name": "stdout",
     "output_type": "stream",
     "text": [
      "['/data4-4tb/kgreathoo/plots_result_akara/45084446_peak_idx_2_type_test0_TP.png']\n",
      "✅ Image: /data4-4tb/kgreathoo/plots_result_akara/45084446_peak_idx_2_type_test0_TP.png\n",
      "🖼️ Title: 45084446 Peak Index 2 Type Test0 Tp\n",
      "✅ Saved combined PDF: shap_outputs_1_10_new_great/45084446_peak_idx_2_type_test0_TP_96.pdf\n",
      "['/data4-4tb/kgreathoo/plots_result_akara/44012014_peak_idx_1_type_test2_TP.png']\n",
      "['$\\\\omega$$^{(6)}$', 'Std. ($\\\\omega$)$^{(9)}$', 'Mean ($\\\\omega$)$^{(6)}$', 'Max ($\\\\omega$)$^{(9)}$', 'Max ($\\\\omega$)$^{(7)}$', 'Min ($\\\\omega$)$^{(6)}$', 'Mean ($\\\\omega$)$^{(9)}$', 'Min ($\\\\omega$)$^{(5)}$', 'Max ($\\\\omega$)$^{(8)}$', '$\\\\omega$$^{(5)}$']\n"
     ]
    },
    {
     "name": "stderr",
     "output_type": "stream",
     "text": [
      "Trying to unpickle estimator LabelEncoder from version 0.24.2 when using version 1.0.2. This might lead to breaking code or invalid results. Use at your own risk. For more info please refer to:\n",
      "https://scikit-learn.org/stable/modules/model_persistence.html#security-maintainability-limitations\n",
      "LightGBM binary classifier with TreeExplainer shap values output has changed to a list of ndarray\n"
     ]
    },
    {
     "name": "stdout",
     "output_type": "stream",
     "text": [
      "['/data4-4tb/kgreathoo/plots_result_akara/44012014_peak_idx_1_type_test2_TP.png']\n",
      "✅ Image: /data4-4tb/kgreathoo/plots_result_akara/44012014_peak_idx_1_type_test2_TP.png\n",
      "🖼️ Title: 44012014 Peak Index 1 Type Test2 Tp\n",
      "✅ Saved combined PDF: shap_outputs_1_10_new_great/44012014_peak_idx_1_type_test2_TP_96.pdf\n",
      "['/data4-4tb/kgreathoo/plots_result_akara/43153731_peak_idx_4_type_test0_TP.png']\n",
      "['$\\\\omega$$^{(6)}$', 'Std. ($\\\\omega$)$^{(9)}$', 'Mean ($\\\\omega$)$^{(6)}$', 'Max ($\\\\omega$)$^{(9)}$', 'Max ($\\\\omega$)$^{(7)}$', 'Min ($\\\\omega$)$^{(6)}$', 'Mean ($\\\\omega$)$^{(9)}$', 'Min ($\\\\omega$)$^{(5)}$', 'Max ($\\\\omega$)$^{(8)}$', '$\\\\omega$$^{(5)}$']\n"
     ]
    },
    {
     "name": "stderr",
     "output_type": "stream",
     "text": [
      "Trying to unpickle estimator LabelEncoder from version 0.24.2 when using version 1.0.2. This might lead to breaking code or invalid results. Use at your own risk. For more info please refer to:\n",
      "https://scikit-learn.org/stable/modules/model_persistence.html#security-maintainability-limitations\n",
      "LightGBM binary classifier with TreeExplainer shap values output has changed to a list of ndarray\n"
     ]
    },
    {
     "name": "stdout",
     "output_type": "stream",
     "text": [
      "['/data4-4tb/kgreathoo/plots_result_akara/43153731_peak_idx_4_type_test0_TP.png']\n",
      "✅ Image: /data4-4tb/kgreathoo/plots_result_akara/43153731_peak_idx_4_type_test0_TP.png\n",
      "🖼️ Title: 43153731 Peak Index 4 Type Test0 Tp\n",
      "✅ Saved combined PDF: shap_outputs_1_10_new_great/43153731_peak_idx_4_type_test0_TP_96.pdf\n",
      "['/data4-4tb/kgreathoo/plots_result_akara/43140804_peak_idx_2_type_test2_TP.png']\n",
      "['$\\\\omega$$^{(6)}$', 'Std. ($\\\\omega$)$^{(9)}$', 'Mean ($\\\\omega$)$^{(6)}$', 'Max ($\\\\omega$)$^{(9)}$', 'Max ($\\\\omega$)$^{(7)}$', 'Min ($\\\\omega$)$^{(6)}$', 'Mean ($\\\\omega$)$^{(9)}$', 'Min ($\\\\omega$)$^{(5)}$', 'Max ($\\\\omega$)$^{(8)}$', '$\\\\omega$$^{(5)}$']\n"
     ]
    },
    {
     "name": "stderr",
     "output_type": "stream",
     "text": [
      "Trying to unpickle estimator LabelEncoder from version 0.24.2 when using version 1.0.2. This might lead to breaking code or invalid results. Use at your own risk. For more info please refer to:\n",
      "https://scikit-learn.org/stable/modules/model_persistence.html#security-maintainability-limitations\n",
      "LightGBM binary classifier with TreeExplainer shap values output has changed to a list of ndarray\n"
     ]
    },
    {
     "name": "stdout",
     "output_type": "stream",
     "text": [
      "['/data4-4tb/kgreathoo/plots_result_akara/43140804_peak_idx_2_type_test2_TP.png']\n",
      "✅ Image: /data4-4tb/kgreathoo/plots_result_akara/43140804_peak_idx_2_type_test2_TP.png\n",
      "🖼️ Title: 43140804 Peak Index 2 Type Test2 Tp\n",
      "✅ Saved combined PDF: shap_outputs_1_10_new_great/43140804_peak_idx_2_type_test2_TP_96.pdf\n",
      "['/data4-4tb/kgreathoo/plots_result_akara/43140800_peak_idx_1_type_test2_TP.png']\n",
      "['$\\\\omega$$^{(6)}$', 'Std. ($\\\\omega$)$^{(9)}$', 'Mean ($\\\\omega$)$^{(6)}$', 'Max ($\\\\omega$)$^{(9)}$', 'Max ($\\\\omega$)$^{(7)}$', 'Min ($\\\\omega$)$^{(6)}$', 'Mean ($\\\\omega$)$^{(9)}$', 'Min ($\\\\omega$)$^{(5)}$', 'Max ($\\\\omega$)$^{(8)}$', '$\\\\omega$$^{(5)}$']\n"
     ]
    },
    {
     "name": "stderr",
     "output_type": "stream",
     "text": [
      "Trying to unpickle estimator LabelEncoder from version 0.24.2 when using version 1.0.2. This might lead to breaking code or invalid results. Use at your own risk. For more info please refer to:\n",
      "https://scikit-learn.org/stable/modules/model_persistence.html#security-maintainability-limitations\n",
      "LightGBM binary classifier with TreeExplainer shap values output has changed to a list of ndarray\n"
     ]
    },
    {
     "name": "stdout",
     "output_type": "stream",
     "text": [
      "['/data4-4tb/kgreathoo/plots_result_akara/43140800_peak_idx_1_type_test2_TP.png']\n",
      "✅ Image: /data4-4tb/kgreathoo/plots_result_akara/43140800_peak_idx_1_type_test2_TP.png\n",
      "🖼️ Title: 43140800 Peak Index 1 Type Test2 Tp\n",
      "✅ Saved combined PDF: shap_outputs_1_10_new_great/43140800_peak_idx_1_type_test2_TP_96.pdf\n",
      "['/data4-4tb/kgreathoo/plots_result_akara/42026452_peak_idx_1_type_test3_TP.png']\n",
      "['$\\\\omega$$^{(6)}$', 'Std. ($\\\\omega$)$^{(9)}$', 'Mean ($\\\\omega$)$^{(6)}$', 'Max ($\\\\omega$)$^{(9)}$', 'Max ($\\\\omega$)$^{(7)}$', 'Min ($\\\\omega$)$^{(6)}$', 'Mean ($\\\\omega$)$^{(9)}$', 'Min ($\\\\omega$)$^{(5)}$', 'Max ($\\\\omega$)$^{(8)}$', '$\\\\omega$$^{(5)}$']\n"
     ]
    },
    {
     "name": "stderr",
     "output_type": "stream",
     "text": [
      "Trying to unpickle estimator LabelEncoder from version 0.24.2 when using version 1.0.2. This might lead to breaking code or invalid results. Use at your own risk. For more info please refer to:\n",
      "https://scikit-learn.org/stable/modules/model_persistence.html#security-maintainability-limitations\n",
      "LightGBM binary classifier with TreeExplainer shap values output has changed to a list of ndarray\n"
     ]
    },
    {
     "name": "stdout",
     "output_type": "stream",
     "text": [
      "['/data4-4tb/kgreathoo/plots_result_akara/42026452_peak_idx_1_type_test3_TP.png']\n",
      "✅ Image: /data4-4tb/kgreathoo/plots_result_akara/42026452_peak_idx_1_type_test3_TP.png\n",
      "🖼️ Title: 42026452 Peak Index 1 Type Test3 Tp\n",
      "✅ Saved combined PDF: shap_outputs_1_10_new_great/42026452_peak_idx_1_type_test3_TP_96.pdf\n",
      "['/data4-4tb/kgreathoo/plots_result_akara/42014756_peak_idx_1_type_test1_TP.png']\n",
      "['$\\\\omega$$^{(6)}$', 'Std. ($\\\\omega$)$^{(9)}$', 'Mean ($\\\\omega$)$^{(6)}$', 'Max ($\\\\omega$)$^{(9)}$', 'Max ($\\\\omega$)$^{(7)}$', 'Min ($\\\\omega$)$^{(6)}$', 'Mean ($\\\\omega$)$^{(9)}$', 'Min ($\\\\omega$)$^{(5)}$', 'Max ($\\\\omega$)$^{(8)}$', '$\\\\omega$$^{(5)}$']\n"
     ]
    },
    {
     "name": "stderr",
     "output_type": "stream",
     "text": [
      "Trying to unpickle estimator LabelEncoder from version 0.24.2 when using version 1.0.2. This might lead to breaking code or invalid results. Use at your own risk. For more info please refer to:\n",
      "https://scikit-learn.org/stable/modules/model_persistence.html#security-maintainability-limitations\n",
      "LightGBM binary classifier with TreeExplainer shap values output has changed to a list of ndarray\n"
     ]
    },
    {
     "name": "stdout",
     "output_type": "stream",
     "text": [
      "['/data4-4tb/kgreathoo/plots_result_akara/42014756_peak_idx_1_type_test1_TP.png']\n",
      "✅ Image: /data4-4tb/kgreathoo/plots_result_akara/42014756_peak_idx_1_type_test1_TP.png\n",
      "🖼️ Title: 42014756 Peak Index 1 Type Test1 Tp\n",
      "✅ Saved combined PDF: shap_outputs_1_10_new_great/42014756_peak_idx_1_type_test1_TP_96.pdf\n",
      "['/data4-4tb/kgreathoo/plots_result_akara/42012079_peak_idx_1_type_test1_TP.png']\n",
      "['$\\\\omega$$^{(6)}$', 'Std. ($\\\\omega$)$^{(9)}$', 'Mean ($\\\\omega$)$^{(6)}$', 'Max ($\\\\omega$)$^{(9)}$', 'Max ($\\\\omega$)$^{(7)}$', 'Min ($\\\\omega$)$^{(6)}$', 'Mean ($\\\\omega$)$^{(9)}$', 'Min ($\\\\omega$)$^{(5)}$', 'Max ($\\\\omega$)$^{(8)}$', '$\\\\omega$$^{(5)}$']\n"
     ]
    },
    {
     "name": "stderr",
     "output_type": "stream",
     "text": [
      "Trying to unpickle estimator LabelEncoder from version 0.24.2 when using version 1.0.2. This might lead to breaking code or invalid results. Use at your own risk. For more info please refer to:\n",
      "https://scikit-learn.org/stable/modules/model_persistence.html#security-maintainability-limitations\n",
      "LightGBM binary classifier with TreeExplainer shap values output has changed to a list of ndarray\n"
     ]
    },
    {
     "name": "stdout",
     "output_type": "stream",
     "text": [
      "['/data4-4tb/kgreathoo/plots_result_akara/42012079_peak_idx_1_type_test1_TP.png']\n",
      "✅ Image: /data4-4tb/kgreathoo/plots_result_akara/42012079_peak_idx_1_type_test1_TP.png\n",
      "🖼️ Title: 42012079 Peak Index 1 Type Test1 Tp\n",
      "✅ Saved combined PDF: shap_outputs_1_10_new_great/42012079_peak_idx_1_type_test1_TP_96.pdf\n",
      "['/data4-4tb/kgreathoo/plots_result_akara/41155224_peak_idx_2_type_test1_TP.png']\n",
      "['$\\\\omega$$^{(6)}$', 'Std. ($\\\\omega$)$^{(9)}$', 'Mean ($\\\\omega$)$^{(6)}$', 'Max ($\\\\omega$)$^{(9)}$', 'Max ($\\\\omega$)$^{(7)}$', 'Min ($\\\\omega$)$^{(6)}$', 'Mean ($\\\\omega$)$^{(9)}$', 'Min ($\\\\omega$)$^{(5)}$', 'Max ($\\\\omega$)$^{(8)}$', '$\\\\omega$$^{(5)}$']\n"
     ]
    },
    {
     "name": "stderr",
     "output_type": "stream",
     "text": [
      "Trying to unpickle estimator LabelEncoder from version 0.24.2 when using version 1.0.2. This might lead to breaking code or invalid results. Use at your own risk. For more info please refer to:\n",
      "https://scikit-learn.org/stable/modules/model_persistence.html#security-maintainability-limitations\n",
      "LightGBM binary classifier with TreeExplainer shap values output has changed to a list of ndarray\n"
     ]
    },
    {
     "name": "stdout",
     "output_type": "stream",
     "text": [
      "['/data4-4tb/kgreathoo/plots_result_akara/41155224_peak_idx_2_type_test1_TP.png']\n",
      "✅ Image: /data4-4tb/kgreathoo/plots_result_akara/41155224_peak_idx_2_type_test1_TP.png\n",
      "🖼️ Title: 41155224 Peak Index 2 Type Test1 Tp\n",
      "✅ Saved combined PDF: shap_outputs_1_10_new_great/41155224_peak_idx_2_type_test1_TP_96.pdf\n",
      "['/data4-4tb/kgreathoo/plots_result_akara/41143876_peak_idx_1_type_test3_TP.png']\n",
      "['$\\\\omega$$^{(6)}$', 'Std. ($\\\\omega$)$^{(9)}$', 'Mean ($\\\\omega$)$^{(6)}$', 'Max ($\\\\omega$)$^{(9)}$', 'Max ($\\\\omega$)$^{(7)}$', 'Min ($\\\\omega$)$^{(6)}$', 'Mean ($\\\\omega$)$^{(9)}$', 'Min ($\\\\omega$)$^{(5)}$', 'Max ($\\\\omega$)$^{(8)}$', '$\\\\omega$$^{(5)}$']\n"
     ]
    },
    {
     "name": "stderr",
     "output_type": "stream",
     "text": [
      "Trying to unpickle estimator LabelEncoder from version 0.24.2 when using version 1.0.2. This might lead to breaking code or invalid results. Use at your own risk. For more info please refer to:\n",
      "https://scikit-learn.org/stable/modules/model_persistence.html#security-maintainability-limitations\n",
      "LightGBM binary classifier with TreeExplainer shap values output has changed to a list of ndarray\n"
     ]
    },
    {
     "name": "stdout",
     "output_type": "stream",
     "text": [
      "['/data4-4tb/kgreathoo/plots_result_akara/41143876_peak_idx_1_type_test3_TP.png']\n",
      "✅ Image: /data4-4tb/kgreathoo/plots_result_akara/41143876_peak_idx_1_type_test3_TP.png\n",
      "🖼️ Title: 41143876 Peak Index 1 Type Test3 Tp\n",
      "✅ Saved combined PDF: shap_outputs_1_10_new_great/41143876_peak_idx_1_type_test3_TP_96.pdf\n",
      "['/data4-4tb/kgreathoo/plots_result_akara/41009872_peak_idx_1_type_test0_TP.png']\n",
      "['$\\\\omega$$^{(6)}$', 'Std. ($\\\\omega$)$^{(9)}$', 'Mean ($\\\\omega$)$^{(6)}$', 'Max ($\\\\omega$)$^{(9)}$', 'Max ($\\\\omega$)$^{(7)}$', 'Min ($\\\\omega$)$^{(6)}$', 'Mean ($\\\\omega$)$^{(9)}$', 'Min ($\\\\omega$)$^{(5)}$', 'Max ($\\\\omega$)$^{(8)}$', '$\\\\omega$$^{(5)}$']\n"
     ]
    },
    {
     "name": "stderr",
     "output_type": "stream",
     "text": [
      "Trying to unpickle estimator LabelEncoder from version 0.24.2 when using version 1.0.2. This might lead to breaking code or invalid results. Use at your own risk. For more info please refer to:\n",
      "https://scikit-learn.org/stable/modules/model_persistence.html#security-maintainability-limitations\n",
      "LightGBM binary classifier with TreeExplainer shap values output has changed to a list of ndarray\n"
     ]
    },
    {
     "name": "stdout",
     "output_type": "stream",
     "text": [
      "['/data4-4tb/kgreathoo/plots_result_akara/41009872_peak_idx_1_type_test0_TP.png']\n",
      "✅ Image: /data4-4tb/kgreathoo/plots_result_akara/41009872_peak_idx_1_type_test0_TP.png\n",
      "🖼️ Title: 41009872 Peak Index 1 Type Test0 Tp\n",
      "✅ Saved combined PDF: shap_outputs_1_10_new_great/41009872_peak_idx_1_type_test0_TP_96.pdf\n",
      "['/data4-4tb/kgreathoo/plots_result_akara/41002261_peak_idx_1_type_test1_TP.png']\n",
      "['$\\\\omega$$^{(6)}$', 'Std. ($\\\\omega$)$^{(9)}$', 'Mean ($\\\\omega$)$^{(6)}$', 'Max ($\\\\omega$)$^{(9)}$', 'Max ($\\\\omega$)$^{(7)}$', 'Min ($\\\\omega$)$^{(6)}$', 'Mean ($\\\\omega$)$^{(9)}$', 'Min ($\\\\omega$)$^{(5)}$', 'Max ($\\\\omega$)$^{(8)}$', '$\\\\omega$$^{(5)}$']\n"
     ]
    },
    {
     "name": "stderr",
     "output_type": "stream",
     "text": [
      "Trying to unpickle estimator LabelEncoder from version 0.24.2 when using version 1.0.2. This might lead to breaking code or invalid results. Use at your own risk. For more info please refer to:\n",
      "https://scikit-learn.org/stable/modules/model_persistence.html#security-maintainability-limitations\n",
      "LightGBM binary classifier with TreeExplainer shap values output has changed to a list of ndarray\n"
     ]
    },
    {
     "name": "stdout",
     "output_type": "stream",
     "text": [
      "['/data4-4tb/kgreathoo/plots_result_akara/41002261_peak_idx_1_type_test1_TP.png']\n",
      "✅ Image: /data4-4tb/kgreathoo/plots_result_akara/41002261_peak_idx_1_type_test1_TP.png\n",
      "🖼️ Title: 41002261 Peak Index 1 Type Test1 Tp\n",
      "✅ Saved combined PDF: shap_outputs_1_10_new_great/41002261_peak_idx_1_type_test1_TP_96.pdf\n",
      "['/data4-4tb/kgreathoo/plots_result_akara/40158109_peak_idx_6_type_test1_TP.png']\n",
      "['$\\\\omega$$^{(6)}$', 'Std. ($\\\\omega$)$^{(9)}$', 'Mean ($\\\\omega$)$^{(6)}$', 'Max ($\\\\omega$)$^{(9)}$', 'Max ($\\\\omega$)$^{(7)}$', 'Min ($\\\\omega$)$^{(6)}$', 'Mean ($\\\\omega$)$^{(9)}$', 'Min ($\\\\omega$)$^{(5)}$', 'Max ($\\\\omega$)$^{(8)}$', '$\\\\omega$$^{(5)}$']\n"
     ]
    },
    {
     "name": "stderr",
     "output_type": "stream",
     "text": [
      "Trying to unpickle estimator LabelEncoder from version 0.24.2 when using version 1.0.2. This might lead to breaking code or invalid results. Use at your own risk. For more info please refer to:\n",
      "https://scikit-learn.org/stable/modules/model_persistence.html#security-maintainability-limitations\n",
      "LightGBM binary classifier with TreeExplainer shap values output has changed to a list of ndarray\n"
     ]
    },
    {
     "name": "stdout",
     "output_type": "stream",
     "text": [
      "['/data4-4tb/kgreathoo/plots_result_akara/40158109_peak_idx_6_type_test1_TP.png']\n",
      "✅ Image: /data4-4tb/kgreathoo/plots_result_akara/40158109_peak_idx_6_type_test1_TP.png\n",
      "🖼️ Title: 40158109 Peak Index 6 Type Test1 Tp\n",
      "✅ Saved combined PDF: shap_outputs_1_10_new_great/40158109_peak_idx_6_type_test1_TP_96.pdf\n",
      "['/data4-4tb/kgreathoo/plots_result_akara/40018977_peak_idx_1_type_test3_TP.png']\n",
      "['$\\\\omega$$^{(6)}$', 'Std. ($\\\\omega$)$^{(9)}$', 'Mean ($\\\\omega$)$^{(6)}$', 'Max ($\\\\omega$)$^{(9)}$', 'Max ($\\\\omega$)$^{(7)}$', 'Min ($\\\\omega$)$^{(6)}$', 'Mean ($\\\\omega$)$^{(9)}$', 'Min ($\\\\omega$)$^{(5)}$', 'Max ($\\\\omega$)$^{(8)}$', '$\\\\omega$$^{(5)}$']\n"
     ]
    },
    {
     "name": "stderr",
     "output_type": "stream",
     "text": [
      "Trying to unpickle estimator LabelEncoder from version 0.24.2 when using version 1.0.2. This might lead to breaking code or invalid results. Use at your own risk. For more info please refer to:\n",
      "https://scikit-learn.org/stable/modules/model_persistence.html#security-maintainability-limitations\n",
      "LightGBM binary classifier with TreeExplainer shap values output has changed to a list of ndarray\n"
     ]
    },
    {
     "name": "stdout",
     "output_type": "stream",
     "text": [
      "['/data4-4tb/kgreathoo/plots_result_akara/40018977_peak_idx_1_type_test3_TP.png']\n",
      "✅ Image: /data4-4tb/kgreathoo/plots_result_akara/40018977_peak_idx_1_type_test3_TP.png\n",
      "🖼️ Title: 40018977 Peak Index 1 Type Test3 Tp\n",
      "✅ Saved combined PDF: shap_outputs_1_10_new_great/40018977_peak_idx_1_type_test3_TP_96.pdf\n",
      "['/data4-4tb/kgreathoo/plots_result_akara/39184244_peak_idx_1_type_test1_TP.png']\n",
      "['$\\\\omega$$^{(6)}$', 'Std. ($\\\\omega$)$^{(9)}$', 'Mean ($\\\\omega$)$^{(6)}$', 'Max ($\\\\omega$)$^{(9)}$', 'Max ($\\\\omega$)$^{(7)}$', 'Min ($\\\\omega$)$^{(6)}$', 'Mean ($\\\\omega$)$^{(9)}$', 'Min ($\\\\omega$)$^{(5)}$', 'Max ($\\\\omega$)$^{(8)}$', '$\\\\omega$$^{(5)}$']\n"
     ]
    },
    {
     "name": "stderr",
     "output_type": "stream",
     "text": [
      "Trying to unpickle estimator LabelEncoder from version 0.24.2 when using version 1.0.2. This might lead to breaking code or invalid results. Use at your own risk. For more info please refer to:\n",
      "https://scikit-learn.org/stable/modules/model_persistence.html#security-maintainability-limitations\n",
      "LightGBM binary classifier with TreeExplainer shap values output has changed to a list of ndarray\n"
     ]
    },
    {
     "name": "stdout",
     "output_type": "stream",
     "text": [
      "['/data4-4tb/kgreathoo/plots_result_akara/39184244_peak_idx_1_type_test1_TP.png']\n",
      "✅ Image: /data4-4tb/kgreathoo/plots_result_akara/39184244_peak_idx_1_type_test1_TP.png\n",
      "🖼️ Title: 39184244 Peak Index 1 Type Test1 Tp\n",
      "✅ Saved combined PDF: shap_outputs_1_10_new_great/39184244_peak_idx_1_type_test1_TP_96.pdf\n",
      "['/data4-4tb/kgreathoo/plots_result_akara/39108404_peak_idx_9_type_test4_TP.png']\n",
      "['$\\\\omega$$^{(6)}$', 'Std. ($\\\\omega$)$^{(9)}$', 'Mean ($\\\\omega$)$^{(6)}$', 'Max ($\\\\omega$)$^{(9)}$', 'Max ($\\\\omega$)$^{(7)}$', 'Min ($\\\\omega$)$^{(6)}$', 'Mean ($\\\\omega$)$^{(9)}$', 'Min ($\\\\omega$)$^{(5)}$', 'Max ($\\\\omega$)$^{(8)}$', '$\\\\omega$$^{(5)}$']\n"
     ]
    },
    {
     "name": "stderr",
     "output_type": "stream",
     "text": [
      "Trying to unpickle estimator LabelEncoder from version 0.24.2 when using version 1.0.2. This might lead to breaking code or invalid results. Use at your own risk. For more info please refer to:\n",
      "https://scikit-learn.org/stable/modules/model_persistence.html#security-maintainability-limitations\n",
      "LightGBM binary classifier with TreeExplainer shap values output has changed to a list of ndarray\n"
     ]
    },
    {
     "name": "stdout",
     "output_type": "stream",
     "text": [
      "['/data4-4tb/kgreathoo/plots_result_akara/39108404_peak_idx_9_type_test4_TP.png']\n",
      "✅ Image: /data4-4tb/kgreathoo/plots_result_akara/39108404_peak_idx_9_type_test4_TP.png\n",
      "🖼️ Title: 39108404 Peak Index 9 Type Test4 Tp\n",
      "✅ Saved combined PDF: shap_outputs_1_10_new_great/39108404_peak_idx_9_type_test4_TP_96.pdf\n",
      "['/data4-4tb/kgreathoo/plots_result_akara/39056779_peak_idx_1_type_test3_TP.png']\n",
      "['$\\\\omega$$^{(6)}$', 'Std. ($\\\\omega$)$^{(9)}$', 'Mean ($\\\\omega$)$^{(6)}$', 'Max ($\\\\omega$)$^{(9)}$', 'Max ($\\\\omega$)$^{(7)}$', 'Min ($\\\\omega$)$^{(6)}$', 'Mean ($\\\\omega$)$^{(9)}$', 'Min ($\\\\omega$)$^{(5)}$', 'Max ($\\\\omega$)$^{(8)}$', '$\\\\omega$$^{(5)}$']\n"
     ]
    },
    {
     "name": "stderr",
     "output_type": "stream",
     "text": [
      "Trying to unpickle estimator LabelEncoder from version 0.24.2 when using version 1.0.2. This might lead to breaking code or invalid results. Use at your own risk. For more info please refer to:\n",
      "https://scikit-learn.org/stable/modules/model_persistence.html#security-maintainability-limitations\n",
      "LightGBM binary classifier with TreeExplainer shap values output has changed to a list of ndarray\n"
     ]
    },
    {
     "name": "stdout",
     "output_type": "stream",
     "text": [
      "['/data4-4tb/kgreathoo/plots_result_akara/39056779_peak_idx_1_type_test3_TP.png']\n",
      "✅ Image: /data4-4tb/kgreathoo/plots_result_akara/39056779_peak_idx_1_type_test3_TP.png\n",
      "🖼️ Title: 39056779 Peak Index 1 Type Test3 Tp\n",
      "✅ Saved combined PDF: shap_outputs_1_10_new_great/39056779_peak_idx_1_type_test3_TP_96.pdf\n",
      "['/data4-4tb/kgreathoo/plots_result_akara/38136681_peak_idx_1_type_test4_TP.png']\n",
      "['$\\\\omega$$^{(6)}$', 'Std. ($\\\\omega$)$^{(9)}$', 'Mean ($\\\\omega$)$^{(6)}$', 'Max ($\\\\omega$)$^{(9)}$', 'Max ($\\\\omega$)$^{(7)}$', 'Min ($\\\\omega$)$^{(6)}$', 'Mean ($\\\\omega$)$^{(9)}$', 'Min ($\\\\omega$)$^{(5)}$', 'Max ($\\\\omega$)$^{(8)}$', '$\\\\omega$$^{(5)}$']\n"
     ]
    },
    {
     "name": "stderr",
     "output_type": "stream",
     "text": [
      "Trying to unpickle estimator LabelEncoder from version 0.24.2 when using version 1.0.2. This might lead to breaking code or invalid results. Use at your own risk. For more info please refer to:\n",
      "https://scikit-learn.org/stable/modules/model_persistence.html#security-maintainability-limitations\n",
      "LightGBM binary classifier with TreeExplainer shap values output has changed to a list of ndarray\n"
     ]
    },
    {
     "name": "stdout",
     "output_type": "stream",
     "text": [
      "['/data4-4tb/kgreathoo/plots_result_akara/38136681_peak_idx_1_type_test4_TP.png']\n",
      "✅ Image: /data4-4tb/kgreathoo/plots_result_akara/38136681_peak_idx_1_type_test4_TP.png\n",
      "🖼️ Title: 38136681 Peak Index 1 Type Test4 Tp\n",
      "✅ Saved combined PDF: shap_outputs_1_10_new_great/38136681_peak_idx_1_type_test4_TP_96.pdf\n",
      "['/data4-4tb/kgreathoo/plots_result_akara/54023756_peak_idx_2_type_test1_TP.png']\n",
      "['$\\\\omega$$^{(6)}$', 'Std. ($\\\\omega$)$^{(9)}$', 'Mean ($\\\\omega$)$^{(6)}$', 'Max ($\\\\omega$)$^{(9)}$', 'Max ($\\\\omega$)$^{(7)}$', 'Min ($\\\\omega$)$^{(6)}$', 'Mean ($\\\\omega$)$^{(9)}$', 'Min ($\\\\omega$)$^{(5)}$', 'Max ($\\\\omega$)$^{(8)}$', '$\\\\omega$$^{(5)}$']\n"
     ]
    },
    {
     "name": "stderr",
     "output_type": "stream",
     "text": [
      "Trying to unpickle estimator LabelEncoder from version 0.24.2 when using version 1.0.2. This might lead to breaking code or invalid results. Use at your own risk. For more info please refer to:\n",
      "https://scikit-learn.org/stable/modules/model_persistence.html#security-maintainability-limitations\n",
      "LightGBM binary classifier with TreeExplainer shap values output has changed to a list of ndarray\n"
     ]
    },
    {
     "name": "stdout",
     "output_type": "stream",
     "text": [
      "['/data4-4tb/kgreathoo/plots_result_akara/54023756_peak_idx_2_type_test1_TP.png']\n",
      "✅ Image: /data4-4tb/kgreathoo/plots_result_akara/54023756_peak_idx_2_type_test1_TP.png\n",
      "🖼️ Title: 54023756 Peak Index 2 Type Test1 Tp\n",
      "✅ Saved combined PDF: shap_outputs_1_10_new_great/54023756_peak_idx_2_type_test1_TP_96.pdf\n",
      "['/data4-4tb/kgreathoo/plots_result_akara/54022321_peak_idx_1_type_test1_TP.png']\n",
      "['$\\\\omega$$^{(6)}$', 'Std. ($\\\\omega$)$^{(9)}$', 'Mean ($\\\\omega$)$^{(6)}$', 'Max ($\\\\omega$)$^{(9)}$', 'Max ($\\\\omega$)$^{(7)}$', 'Min ($\\\\omega$)$^{(6)}$', 'Mean ($\\\\omega$)$^{(9)}$', 'Min ($\\\\omega$)$^{(5)}$', 'Max ($\\\\omega$)$^{(8)}$', '$\\\\omega$$^{(5)}$']\n"
     ]
    },
    {
     "name": "stderr",
     "output_type": "stream",
     "text": [
      "Trying to unpickle estimator LabelEncoder from version 0.24.2 when using version 1.0.2. This might lead to breaking code or invalid results. Use at your own risk. For more info please refer to:\n",
      "https://scikit-learn.org/stable/modules/model_persistence.html#security-maintainability-limitations\n",
      "LightGBM binary classifier with TreeExplainer shap values output has changed to a list of ndarray\n"
     ]
    },
    {
     "name": "stdout",
     "output_type": "stream",
     "text": [
      "['/data4-4tb/kgreathoo/plots_result_akara/54022321_peak_idx_1_type_test1_TP.png']\n",
      "✅ Image: /data4-4tb/kgreathoo/plots_result_akara/54022321_peak_idx_1_type_test1_TP.png\n",
      "🖼️ Title: 54022321 Peak Index 1 Type Test1 Tp\n",
      "✅ Saved combined PDF: shap_outputs_1_10_new_great/54022321_peak_idx_1_type_test1_TP_96.pdf\n",
      "['/data4-4tb/kgreathoo/plots_result_akara/54020273_peak_idx_1_type_test0_TP.png']\n",
      "['$\\\\omega$$^{(6)}$', 'Std. ($\\\\omega$)$^{(9)}$', 'Mean ($\\\\omega$)$^{(6)}$', 'Max ($\\\\omega$)$^{(9)}$', 'Max ($\\\\omega$)$^{(7)}$', 'Min ($\\\\omega$)$^{(6)}$', 'Mean ($\\\\omega$)$^{(9)}$', 'Min ($\\\\omega$)$^{(5)}$', 'Max ($\\\\omega$)$^{(8)}$', '$\\\\omega$$^{(5)}$']\n"
     ]
    },
    {
     "name": "stderr",
     "output_type": "stream",
     "text": [
      "Trying to unpickle estimator LabelEncoder from version 0.24.2 when using version 1.0.2. This might lead to breaking code or invalid results. Use at your own risk. For more info please refer to:\n",
      "https://scikit-learn.org/stable/modules/model_persistence.html#security-maintainability-limitations\n",
      "LightGBM binary classifier with TreeExplainer shap values output has changed to a list of ndarray\n"
     ]
    },
    {
     "name": "stdout",
     "output_type": "stream",
     "text": [
      "['/data4-4tb/kgreathoo/plots_result_akara/54020273_peak_idx_1_type_test0_TP.png']\n",
      "✅ Image: /data4-4tb/kgreathoo/plots_result_akara/54020273_peak_idx_1_type_test0_TP.png\n",
      "🖼️ Title: 54020273 Peak Index 1 Type Test0 Tp\n",
      "✅ Saved combined PDF: shap_outputs_1_10_new_great/54020273_peak_idx_1_type_test0_TP_96.pdf\n",
      "['/data4-4tb/kgreathoo/plots_result_akara/53915135_peak_idx_1_type_test1_TP.png']\n",
      "['$\\\\omega$$^{(6)}$', 'Std. ($\\\\omega$)$^{(9)}$', 'Mean ($\\\\omega$)$^{(6)}$', 'Max ($\\\\omega$)$^{(9)}$', 'Max ($\\\\omega$)$^{(7)}$', 'Min ($\\\\omega$)$^{(6)}$', 'Mean ($\\\\omega$)$^{(9)}$', 'Min ($\\\\omega$)$^{(5)}$', 'Max ($\\\\omega$)$^{(8)}$', '$\\\\omega$$^{(5)}$']\n"
     ]
    },
    {
     "name": "stderr",
     "output_type": "stream",
     "text": [
      "Trying to unpickle estimator LabelEncoder from version 0.24.2 when using version 1.0.2. This might lead to breaking code or invalid results. Use at your own risk. For more info please refer to:\n",
      "https://scikit-learn.org/stable/modules/model_persistence.html#security-maintainability-limitations\n",
      "LightGBM binary classifier with TreeExplainer shap values output has changed to a list of ndarray\n"
     ]
    },
    {
     "name": "stdout",
     "output_type": "stream",
     "text": [
      "['/data4-4tb/kgreathoo/plots_result_akara/53915135_peak_idx_1_type_test1_TP.png']\n",
      "✅ Image: /data4-4tb/kgreathoo/plots_result_akara/53915135_peak_idx_1_type_test1_TP.png\n",
      "🖼️ Title: 53915135 Peak Index 1 Type Test1 Tp\n",
      "✅ Saved combined PDF: shap_outputs_1_10_new_great/53915135_peak_idx_1_type_test1_TP_96.pdf\n",
      "['/data4-4tb/kgreathoo/plots_result_akara/53901130_peak_idx_1_type_test2_TP.png']\n",
      "['$\\\\omega$$^{(6)}$', 'Std. ($\\\\omega$)$^{(9)}$', 'Mean ($\\\\omega$)$^{(6)}$', 'Max ($\\\\omega$)$^{(9)}$', 'Max ($\\\\omega$)$^{(7)}$', 'Min ($\\\\omega$)$^{(6)}$', 'Mean ($\\\\omega$)$^{(9)}$', 'Min ($\\\\omega$)$^{(5)}$', 'Max ($\\\\omega$)$^{(8)}$', '$\\\\omega$$^{(5)}$']\n"
     ]
    },
    {
     "name": "stderr",
     "output_type": "stream",
     "text": [
      "Trying to unpickle estimator LabelEncoder from version 0.24.2 when using version 1.0.2. This might lead to breaking code or invalid results. Use at your own risk. For more info please refer to:\n",
      "https://scikit-learn.org/stable/modules/model_persistence.html#security-maintainability-limitations\n",
      "LightGBM binary classifier with TreeExplainer shap values output has changed to a list of ndarray\n"
     ]
    },
    {
     "name": "stdout",
     "output_type": "stream",
     "text": [
      "['/data4-4tb/kgreathoo/plots_result_akara/53901130_peak_idx_1_type_test2_TP.png']\n",
      "✅ Image: /data4-4tb/kgreathoo/plots_result_akara/53901130_peak_idx_1_type_test2_TP.png\n",
      "🖼️ Title: 53901130 Peak Index 1 Type Test2 Tp\n",
      "✅ Saved combined PDF: shap_outputs_1_10_new_great/53901130_peak_idx_1_type_test2_TP_96.pdf\n",
      "['/data4-4tb/kgreathoo/plots_result_akara/53872843_peak_idx_2_type_test4_TP.png']\n",
      "['$\\\\omega$$^{(6)}$', 'Std. ($\\\\omega$)$^{(9)}$', 'Mean ($\\\\omega$)$^{(6)}$', 'Max ($\\\\omega$)$^{(9)}$', 'Max ($\\\\omega$)$^{(7)}$', 'Min ($\\\\omega$)$^{(6)}$', 'Mean ($\\\\omega$)$^{(9)}$', 'Min ($\\\\omega$)$^{(5)}$', 'Max ($\\\\omega$)$^{(8)}$', '$\\\\omega$$^{(5)}$']\n"
     ]
    },
    {
     "name": "stderr",
     "output_type": "stream",
     "text": [
      "Trying to unpickle estimator LabelEncoder from version 0.24.2 when using version 1.0.2. This might lead to breaking code or invalid results. Use at your own risk. For more info please refer to:\n",
      "https://scikit-learn.org/stable/modules/model_persistence.html#security-maintainability-limitations\n",
      "LightGBM binary classifier with TreeExplainer shap values output has changed to a list of ndarray\n"
     ]
    },
    {
     "name": "stdout",
     "output_type": "stream",
     "text": [
      "['/data4-4tb/kgreathoo/plots_result_akara/53872843_peak_idx_2_type_test4_TP.png']\n",
      "✅ Image: /data4-4tb/kgreathoo/plots_result_akara/53872843_peak_idx_2_type_test4_TP.png\n",
      "🖼️ Title: 53872843 Peak Index 2 Type Test4 Tp\n",
      "✅ Saved combined PDF: shap_outputs_1_10_new_great/53872843_peak_idx_2_type_test4_TP_96.pdf\n",
      "['/data4-4tb/kgreathoo/plots_result_akara/53825090_peak_idx_1_type_test0_FN.png']\n",
      "['$\\\\omega$$^{(6)}$', 'Std. ($\\\\omega$)$^{(9)}$', 'Mean ($\\\\omega$)$^{(6)}$', 'Max ($\\\\omega$)$^{(9)}$', 'Max ($\\\\omega$)$^{(7)}$', 'Min ($\\\\omega$)$^{(6)}$', 'Mean ($\\\\omega$)$^{(9)}$', 'Min ($\\\\omega$)$^{(5)}$', 'Max ($\\\\omega$)$^{(8)}$', '$\\\\omega$$^{(5)}$']\n"
     ]
    },
    {
     "name": "stderr",
     "output_type": "stream",
     "text": [
      "Trying to unpickle estimator LabelEncoder from version 0.24.2 when using version 1.0.2. This might lead to breaking code or invalid results. Use at your own risk. For more info please refer to:\n",
      "https://scikit-learn.org/stable/modules/model_persistence.html#security-maintainability-limitations\n",
      "LightGBM binary classifier with TreeExplainer shap values output has changed to a list of ndarray\n"
     ]
    },
    {
     "name": "stdout",
     "output_type": "stream",
     "text": [
      "['/data4-4tb/kgreathoo/plots_result_akara/53825090_peak_idx_1_type_test0_FN.png']\n",
      "✅ Image: /data4-4tb/kgreathoo/plots_result_akara/53825090_peak_idx_1_type_test0_FN.png\n",
      "🖼️ Title: 53825090 Peak Index 1 Type Test0 Fn\n",
      "✅ Saved combined PDF: shap_outputs_1_10_new_great/53825090_peak_idx_1_type_test0_FN_96.pdf\n",
      "['/data4-4tb/kgreathoo/plots_result_akara/53741478_peak_idx_1_type_test0_TP.png']\n",
      "['$\\\\omega$$^{(6)}$', 'Std. ($\\\\omega$)$^{(9)}$', 'Mean ($\\\\omega$)$^{(6)}$', 'Max ($\\\\omega$)$^{(9)}$', 'Max ($\\\\omega$)$^{(7)}$', 'Min ($\\\\omega$)$^{(6)}$', 'Mean ($\\\\omega$)$^{(9)}$', 'Min ($\\\\omega$)$^{(5)}$', 'Max ($\\\\omega$)$^{(8)}$', '$\\\\omega$$^{(5)}$']\n"
     ]
    },
    {
     "name": "stderr",
     "output_type": "stream",
     "text": [
      "Trying to unpickle estimator LabelEncoder from version 0.24.2 when using version 1.0.2. This might lead to breaking code or invalid results. Use at your own risk. For more info please refer to:\n",
      "https://scikit-learn.org/stable/modules/model_persistence.html#security-maintainability-limitations\n",
      "LightGBM binary classifier with TreeExplainer shap values output has changed to a list of ndarray\n"
     ]
    },
    {
     "name": "stdout",
     "output_type": "stream",
     "text": [
      "['/data4-4tb/kgreathoo/plots_result_akara/53741478_peak_idx_1_type_test0_TP.png']\n",
      "✅ Image: /data4-4tb/kgreathoo/plots_result_akara/53741478_peak_idx_1_type_test0_TP.png\n",
      "🖼️ Title: 53741478 Peak Index 1 Type Test0 Tp\n",
      "✅ Saved combined PDF: shap_outputs_1_10_new_great/53741478_peak_idx_1_type_test0_TP_96.pdf\n",
      "['/data4-4tb/kgreathoo/plots_result_akara/53610615_peak_idx_1_type_test2_TP.png']\n",
      "['$\\\\omega$$^{(6)}$', 'Std. ($\\\\omega$)$^{(9)}$', 'Mean ($\\\\omega$)$^{(6)}$', 'Max ($\\\\omega$)$^{(9)}$', 'Max ($\\\\omega$)$^{(7)}$', 'Min ($\\\\omega$)$^{(6)}$', 'Mean ($\\\\omega$)$^{(9)}$', 'Min ($\\\\omega$)$^{(5)}$', 'Max ($\\\\omega$)$^{(8)}$', '$\\\\omega$$^{(5)}$']\n"
     ]
    },
    {
     "name": "stderr",
     "output_type": "stream",
     "text": [
      "Trying to unpickle estimator LabelEncoder from version 0.24.2 when using version 1.0.2. This might lead to breaking code or invalid results. Use at your own risk. For more info please refer to:\n",
      "https://scikit-learn.org/stable/modules/model_persistence.html#security-maintainability-limitations\n",
      "LightGBM binary classifier with TreeExplainer shap values output has changed to a list of ndarray\n"
     ]
    },
    {
     "name": "stdout",
     "output_type": "stream",
     "text": [
      "['/data4-4tb/kgreathoo/plots_result_akara/53610615_peak_idx_1_type_test2_TP.png']\n",
      "✅ Image: /data4-4tb/kgreathoo/plots_result_akara/53610615_peak_idx_1_type_test2_TP.png\n",
      "🖼️ Title: 53610615 Peak Index 1 Type Test2 Tp\n",
      "✅ Saved combined PDF: shap_outputs_1_10_new_great/53610615_peak_idx_1_type_test2_TP_96.pdf\n",
      "['/data4-4tb/kgreathoo/plots_result_akara/53399719_peak_idx_2_type_test4_TP.png']\n",
      "['$\\\\omega$$^{(6)}$', 'Std. ($\\\\omega$)$^{(9)}$', 'Mean ($\\\\omega$)$^{(6)}$', 'Max ($\\\\omega$)$^{(9)}$', 'Max ($\\\\omega$)$^{(7)}$', 'Min ($\\\\omega$)$^{(6)}$', 'Mean ($\\\\omega$)$^{(9)}$', 'Min ($\\\\omega$)$^{(5)}$', 'Max ($\\\\omega$)$^{(8)}$', '$\\\\omega$$^{(5)}$']\n"
     ]
    },
    {
     "name": "stderr",
     "output_type": "stream",
     "text": [
      "Trying to unpickle estimator LabelEncoder from version 0.24.2 when using version 1.0.2. This might lead to breaking code or invalid results. Use at your own risk. For more info please refer to:\n",
      "https://scikit-learn.org/stable/modules/model_persistence.html#security-maintainability-limitations\n",
      "LightGBM binary classifier with TreeExplainer shap values output has changed to a list of ndarray\n"
     ]
    },
    {
     "name": "stdout",
     "output_type": "stream",
     "text": [
      "['/data4-4tb/kgreathoo/plots_result_akara/53399719_peak_idx_2_type_test4_TP.png']\n",
      "✅ Image: /data4-4tb/kgreathoo/plots_result_akara/53399719_peak_idx_2_type_test4_TP.png\n",
      "🖼️ Title: 53399719 Peak Index 2 Type Test4 Tp\n",
      "✅ Saved combined PDF: shap_outputs_1_10_new_great/53399719_peak_idx_2_type_test4_TP_96.pdf\n",
      "['/data4-4tb/kgreathoo/plots_result_akara/53344001_peak_idx_1_type_test0_TP.png']\n",
      "['$\\\\omega$$^{(6)}$', 'Std. ($\\\\omega$)$^{(9)}$', 'Mean ($\\\\omega$)$^{(6)}$', 'Max ($\\\\omega$)$^{(9)}$', 'Max ($\\\\omega$)$^{(7)}$', 'Min ($\\\\omega$)$^{(6)}$', 'Mean ($\\\\omega$)$^{(9)}$', 'Min ($\\\\omega$)$^{(5)}$', 'Max ($\\\\omega$)$^{(8)}$', '$\\\\omega$$^{(5)}$']\n"
     ]
    },
    {
     "name": "stderr",
     "output_type": "stream",
     "text": [
      "Trying to unpickle estimator LabelEncoder from version 0.24.2 when using version 1.0.2. This might lead to breaking code or invalid results. Use at your own risk. For more info please refer to:\n",
      "https://scikit-learn.org/stable/modules/model_persistence.html#security-maintainability-limitations\n",
      "LightGBM binary classifier with TreeExplainer shap values output has changed to a list of ndarray\n"
     ]
    },
    {
     "name": "stdout",
     "output_type": "stream",
     "text": [
      "['/data4-4tb/kgreathoo/plots_result_akara/53344001_peak_idx_1_type_test0_TP.png']\n",
      "✅ Image: /data4-4tb/kgreathoo/plots_result_akara/53344001_peak_idx_1_type_test0_TP.png\n",
      "🖼️ Title: 53344001 Peak Index 1 Type Test0 Tp\n",
      "✅ Saved combined PDF: shap_outputs_1_10_new_great/53344001_peak_idx_1_type_test0_TP_96.pdf\n",
      "['/data4-4tb/kgreathoo/plots_result_akara/53208114_peak_idx_1_type_test0_TP.png']\n",
      "['$\\\\omega$$^{(6)}$', 'Std. ($\\\\omega$)$^{(9)}$', 'Mean ($\\\\omega$)$^{(6)}$', 'Max ($\\\\omega$)$^{(9)}$', 'Max ($\\\\omega$)$^{(7)}$', 'Min ($\\\\omega$)$^{(6)}$', 'Mean ($\\\\omega$)$^{(9)}$', 'Min ($\\\\omega$)$^{(5)}$', 'Max ($\\\\omega$)$^{(8)}$', '$\\\\omega$$^{(5)}$']\n"
     ]
    },
    {
     "name": "stderr",
     "output_type": "stream",
     "text": [
      "Trying to unpickle estimator LabelEncoder from version 0.24.2 when using version 1.0.2. This might lead to breaking code or invalid results. Use at your own risk. For more info please refer to:\n",
      "https://scikit-learn.org/stable/modules/model_persistence.html#security-maintainability-limitations\n",
      "LightGBM binary classifier with TreeExplainer shap values output has changed to a list of ndarray\n"
     ]
    },
    {
     "name": "stdout",
     "output_type": "stream",
     "text": [
      "['/data4-4tb/kgreathoo/plots_result_akara/53208114_peak_idx_1_type_test0_TP.png']\n",
      "✅ Image: /data4-4tb/kgreathoo/plots_result_akara/53208114_peak_idx_1_type_test0_TP.png\n",
      "🖼️ Title: 53208114 Peak Index 1 Type Test0 Tp\n",
      "✅ Saved combined PDF: shap_outputs_1_10_new_great/53208114_peak_idx_1_type_test0_TP_96.pdf\n",
      "['/data4-4tb/kgreathoo/plots_result_akara/53078877_peak_idx_1_type_test4_TP.png']\n",
      "['$\\\\omega$$^{(6)}$', 'Std. ($\\\\omega$)$^{(9)}$', 'Mean ($\\\\omega$)$^{(6)}$', 'Max ($\\\\omega$)$^{(9)}$', 'Max ($\\\\omega$)$^{(7)}$', 'Min ($\\\\omega$)$^{(6)}$', 'Mean ($\\\\omega$)$^{(9)}$', 'Min ($\\\\omega$)$^{(5)}$', 'Max ($\\\\omega$)$^{(8)}$', '$\\\\omega$$^{(5)}$']\n"
     ]
    },
    {
     "name": "stderr",
     "output_type": "stream",
     "text": [
      "Trying to unpickle estimator LabelEncoder from version 0.24.2 when using version 1.0.2. This might lead to breaking code or invalid results. Use at your own risk. For more info please refer to:\n",
      "https://scikit-learn.org/stable/modules/model_persistence.html#security-maintainability-limitations\n",
      "LightGBM binary classifier with TreeExplainer shap values output has changed to a list of ndarray\n"
     ]
    },
    {
     "name": "stdout",
     "output_type": "stream",
     "text": [
      "['/data4-4tb/kgreathoo/plots_result_akara/53078877_peak_idx_1_type_test4_TP.png']\n",
      "✅ Image: /data4-4tb/kgreathoo/plots_result_akara/53078877_peak_idx_1_type_test4_TP.png\n",
      "🖼️ Title: 53078877 Peak Index 1 Type Test4 Tp\n",
      "✅ Saved combined PDF: shap_outputs_1_10_new_great/53078877_peak_idx_1_type_test4_TP_96.pdf\n",
      "['/data4-4tb/kgreathoo/plots_result_akara/53038592_peak_idx_1_type_test3_TP.png']\n",
      "['$\\\\omega$$^{(6)}$', 'Std. ($\\\\omega$)$^{(9)}$', 'Mean ($\\\\omega$)$^{(6)}$', 'Max ($\\\\omega$)$^{(9)}$', 'Max ($\\\\omega$)$^{(7)}$', 'Min ($\\\\omega$)$^{(6)}$', 'Mean ($\\\\omega$)$^{(9)}$', 'Min ($\\\\omega$)$^{(5)}$', 'Max ($\\\\omega$)$^{(8)}$', '$\\\\omega$$^{(5)}$']\n"
     ]
    },
    {
     "name": "stderr",
     "output_type": "stream",
     "text": [
      "Trying to unpickle estimator LabelEncoder from version 0.24.2 when using version 1.0.2. This might lead to breaking code or invalid results. Use at your own risk. For more info please refer to:\n",
      "https://scikit-learn.org/stable/modules/model_persistence.html#security-maintainability-limitations\n",
      "LightGBM binary classifier with TreeExplainer shap values output has changed to a list of ndarray\n"
     ]
    },
    {
     "name": "stdout",
     "output_type": "stream",
     "text": [
      "['/data4-4tb/kgreathoo/plots_result_akara/53038592_peak_idx_1_type_test3_TP.png']\n",
      "✅ Image: /data4-4tb/kgreathoo/plots_result_akara/53038592_peak_idx_1_type_test3_TP.png\n",
      "🖼️ Title: 53038592 Peak Index 1 Type Test3 Tp\n",
      "✅ Saved combined PDF: shap_outputs_1_10_new_great/53038592_peak_idx_1_type_test3_TP_96.pdf\n",
      "['/data4-4tb/kgreathoo/plots_result_akara/52973730_peak_idx_10_type_test4_TP.png']\n",
      "['$\\\\omega$$^{(6)}$', 'Std. ($\\\\omega$)$^{(9)}$', 'Mean ($\\\\omega$)$^{(6)}$', 'Max ($\\\\omega$)$^{(9)}$', 'Max ($\\\\omega$)$^{(7)}$', 'Min ($\\\\omega$)$^{(6)}$', 'Mean ($\\\\omega$)$^{(9)}$', 'Min ($\\\\omega$)$^{(5)}$', 'Max ($\\\\omega$)$^{(8)}$', '$\\\\omega$$^{(5)}$']\n"
     ]
    },
    {
     "name": "stderr",
     "output_type": "stream",
     "text": [
      "Trying to unpickle estimator LabelEncoder from version 0.24.2 when using version 1.0.2. This might lead to breaking code or invalid results. Use at your own risk. For more info please refer to:\n",
      "https://scikit-learn.org/stable/modules/model_persistence.html#security-maintainability-limitations\n",
      "LightGBM binary classifier with TreeExplainer shap values output has changed to a list of ndarray\n"
     ]
    },
    {
     "name": "stdout",
     "output_type": "stream",
     "text": [
      "['/data4-4tb/kgreathoo/plots_result_akara/52973730_peak_idx_10_type_test4_TP.png']\n",
      "✅ Image: /data4-4tb/kgreathoo/plots_result_akara/52973730_peak_idx_10_type_test4_TP.png\n",
      "🖼️ Title: 52973730 Peak Index 10 Type Test4 Tp\n",
      "✅ Saved combined PDF: shap_outputs_1_10_new_great/52973730_peak_idx_10_type_test4_TP_96.pdf\n",
      "['/data4-4tb/kgreathoo/plots_result_akara/52923489_peak_idx_1_type_test1_TP.png']\n",
      "['$\\\\omega$$^{(6)}$', 'Std. ($\\\\omega$)$^{(9)}$', 'Mean ($\\\\omega$)$^{(6)}$', 'Max ($\\\\omega$)$^{(9)}$', 'Max ($\\\\omega$)$^{(7)}$', 'Min ($\\\\omega$)$^{(6)}$', 'Mean ($\\\\omega$)$^{(9)}$', 'Min ($\\\\omega$)$^{(5)}$', 'Max ($\\\\omega$)$^{(8)}$', '$\\\\omega$$^{(5)}$']\n"
     ]
    },
    {
     "name": "stderr",
     "output_type": "stream",
     "text": [
      "Trying to unpickle estimator LabelEncoder from version 0.24.2 when using version 1.0.2. This might lead to breaking code or invalid results. Use at your own risk. For more info please refer to:\n",
      "https://scikit-learn.org/stable/modules/model_persistence.html#security-maintainability-limitations\n",
      "LightGBM binary classifier with TreeExplainer shap values output has changed to a list of ndarray\n"
     ]
    },
    {
     "name": "stdout",
     "output_type": "stream",
     "text": [
      "['/data4-4tb/kgreathoo/plots_result_akara/52923489_peak_idx_1_type_test1_TP.png']\n",
      "✅ Image: /data4-4tb/kgreathoo/plots_result_akara/52923489_peak_idx_1_type_test1_TP.png\n",
      "🖼️ Title: 52923489 Peak Index 1 Type Test1 Tp\n",
      "✅ Saved combined PDF: shap_outputs_1_10_new_great/52923489_peak_idx_1_type_test1_TP_96.pdf\n",
      "['/data4-4tb/kgreathoo/plots_result_akara/52604548_peak_idx_1_type_test0_TP.png']\n",
      "['$\\\\omega$$^{(6)}$', 'Std. ($\\\\omega$)$^{(9)}$', 'Mean ($\\\\omega$)$^{(6)}$', 'Max ($\\\\omega$)$^{(9)}$', 'Max ($\\\\omega$)$^{(7)}$', 'Min ($\\\\omega$)$^{(6)}$', 'Mean ($\\\\omega$)$^{(9)}$', 'Min ($\\\\omega$)$^{(5)}$', 'Max ($\\\\omega$)$^{(8)}$', '$\\\\omega$$^{(5)}$']\n"
     ]
    },
    {
     "name": "stderr",
     "output_type": "stream",
     "text": [
      "Trying to unpickle estimator LabelEncoder from version 0.24.2 when using version 1.0.2. This might lead to breaking code or invalid results. Use at your own risk. For more info please refer to:\n",
      "https://scikit-learn.org/stable/modules/model_persistence.html#security-maintainability-limitations\n",
      "LightGBM binary classifier with TreeExplainer shap values output has changed to a list of ndarray\n"
     ]
    },
    {
     "name": "stdout",
     "output_type": "stream",
     "text": [
      "['/data4-4tb/kgreathoo/plots_result_akara/52604548_peak_idx_1_type_test0_TP.png']\n",
      "✅ Image: /data4-4tb/kgreathoo/plots_result_akara/52604548_peak_idx_1_type_test0_TP.png\n",
      "🖼️ Title: 52604548 Peak Index 1 Type Test0 Tp\n",
      "✅ Saved combined PDF: shap_outputs_1_10_new_great/52604548_peak_idx_1_type_test0_TP_96.pdf\n",
      "['/data4-4tb/kgreathoo/plots_result_akara/52589804_peak_idx_1_type_test0_TP.png']\n",
      "['$\\\\omega$$^{(6)}$', 'Std. ($\\\\omega$)$^{(9)}$', 'Mean ($\\\\omega$)$^{(6)}$', 'Max ($\\\\omega$)$^{(9)}$', 'Max ($\\\\omega$)$^{(7)}$', 'Min ($\\\\omega$)$^{(6)}$', 'Mean ($\\\\omega$)$^{(9)}$', 'Min ($\\\\omega$)$^{(5)}$', 'Max ($\\\\omega$)$^{(8)}$', '$\\\\omega$$^{(5)}$']\n"
     ]
    },
    {
     "name": "stderr",
     "output_type": "stream",
     "text": [
      "Trying to unpickle estimator LabelEncoder from version 0.24.2 when using version 1.0.2. This might lead to breaking code or invalid results. Use at your own risk. For more info please refer to:\n",
      "https://scikit-learn.org/stable/modules/model_persistence.html#security-maintainability-limitations\n",
      "LightGBM binary classifier with TreeExplainer shap values output has changed to a list of ndarray\n"
     ]
    },
    {
     "name": "stdout",
     "output_type": "stream",
     "text": [
      "['/data4-4tb/kgreathoo/plots_result_akara/52589804_peak_idx_1_type_test0_TP.png']\n",
      "✅ Image: /data4-4tb/kgreathoo/plots_result_akara/52589804_peak_idx_1_type_test0_TP.png\n",
      "🖼️ Title: 52589804 Peak Index 1 Type Test0 Tp\n",
      "✅ Saved combined PDF: shap_outputs_1_10_new_great/52589804_peak_idx_1_type_test0_TP_96.pdf\n",
      "['/data4-4tb/kgreathoo/plots_result_akara/51272890_peak_idx_9_type_test4_TP.png']\n",
      "['$\\\\omega$$^{(6)}$', 'Std. ($\\\\omega$)$^{(9)}$', 'Mean ($\\\\omega$)$^{(6)}$', 'Max ($\\\\omega$)$^{(9)}$', 'Max ($\\\\omega$)$^{(7)}$', 'Min ($\\\\omega$)$^{(6)}$', 'Mean ($\\\\omega$)$^{(9)}$', 'Min ($\\\\omega$)$^{(5)}$', 'Max ($\\\\omega$)$^{(8)}$', '$\\\\omega$$^{(5)}$']\n"
     ]
    },
    {
     "name": "stderr",
     "output_type": "stream",
     "text": [
      "Trying to unpickle estimator LabelEncoder from version 0.24.2 when using version 1.0.2. This might lead to breaking code or invalid results. Use at your own risk. For more info please refer to:\n",
      "https://scikit-learn.org/stable/modules/model_persistence.html#security-maintainability-limitations\n",
      "LightGBM binary classifier with TreeExplainer shap values output has changed to a list of ndarray\n"
     ]
    },
    {
     "name": "stdout",
     "output_type": "stream",
     "text": [
      "['/data4-4tb/kgreathoo/plots_result_akara/51272890_peak_idx_9_type_test4_TP.png']\n",
      "✅ Image: /data4-4tb/kgreathoo/plots_result_akara/51272890_peak_idx_9_type_test4_TP.png\n",
      "🖼️ Title: 51272890 Peak Index 9 Type Test4 Tp\n",
      "✅ Saved combined PDF: shap_outputs_1_10_new_great/51272890_peak_idx_9_type_test4_TP_96.pdf\n",
      "['/data4-4tb/kgreathoo/plots_result_akara/51209446_peak_idx_1_type_test4_TP.png']\n",
      "['$\\\\omega$$^{(6)}$', 'Std. ($\\\\omega$)$^{(9)}$', 'Mean ($\\\\omega$)$^{(6)}$', 'Max ($\\\\omega$)$^{(9)}$', 'Max ($\\\\omega$)$^{(7)}$', 'Min ($\\\\omega$)$^{(6)}$', 'Mean ($\\\\omega$)$^{(9)}$', 'Min ($\\\\omega$)$^{(5)}$', 'Max ($\\\\omega$)$^{(8)}$', '$\\\\omega$$^{(5)}$']\n"
     ]
    },
    {
     "name": "stderr",
     "output_type": "stream",
     "text": [
      "Trying to unpickle estimator LabelEncoder from version 0.24.2 when using version 1.0.2. This might lead to breaking code or invalid results. Use at your own risk. For more info please refer to:\n",
      "https://scikit-learn.org/stable/modules/model_persistence.html#security-maintainability-limitations\n",
      "LightGBM binary classifier with TreeExplainer shap values output has changed to a list of ndarray\n"
     ]
    },
    {
     "name": "stdout",
     "output_type": "stream",
     "text": [
      "['/data4-4tb/kgreathoo/plots_result_akara/51209446_peak_idx_1_type_test4_TP.png']\n",
      "✅ Image: /data4-4tb/kgreathoo/plots_result_akara/51209446_peak_idx_1_type_test4_TP.png\n",
      "🖼️ Title: 51209446 Peak Index 1 Type Test4 Tp\n",
      "✅ Saved combined PDF: shap_outputs_1_10_new_great/51209446_peak_idx_1_type_test4_TP_96.pdf\n",
      "['/data4-4tb/kgreathoo/plots_result_akara/51176610_peak_idx_1_type_test4_TP.png']\n",
      "['$\\\\omega$$^{(6)}$', 'Std. ($\\\\omega$)$^{(9)}$', 'Mean ($\\\\omega$)$^{(6)}$', 'Max ($\\\\omega$)$^{(9)}$', 'Max ($\\\\omega$)$^{(7)}$', 'Min ($\\\\omega$)$^{(6)}$', 'Mean ($\\\\omega$)$^{(9)}$', 'Min ($\\\\omega$)$^{(5)}$', 'Max ($\\\\omega$)$^{(8)}$', '$\\\\omega$$^{(5)}$']\n"
     ]
    },
    {
     "name": "stderr",
     "output_type": "stream",
     "text": [
      "Trying to unpickle estimator LabelEncoder from version 0.24.2 when using version 1.0.2. This might lead to breaking code or invalid results. Use at your own risk. For more info please refer to:\n",
      "https://scikit-learn.org/stable/modules/model_persistence.html#security-maintainability-limitations\n",
      "LightGBM binary classifier with TreeExplainer shap values output has changed to a list of ndarray\n"
     ]
    },
    {
     "name": "stdout",
     "output_type": "stream",
     "text": [
      "['/data4-4tb/kgreathoo/plots_result_akara/51176610_peak_idx_1_type_test4_TP.png']\n",
      "✅ Image: /data4-4tb/kgreathoo/plots_result_akara/51176610_peak_idx_1_type_test4_TP.png\n",
      "🖼️ Title: 51176610 Peak Index 1 Type Test4 Tp\n",
      "✅ Saved combined PDF: shap_outputs_1_10_new_great/51176610_peak_idx_1_type_test4_TP_96.pdf\n",
      "['/data4-4tb/kgreathoo/plots_result_akara/51155883_peak_idx_1_type_test3_TP.png']\n",
      "['$\\\\omega$$^{(6)}$', 'Std. ($\\\\omega$)$^{(9)}$', 'Mean ($\\\\omega$)$^{(6)}$', 'Max ($\\\\omega$)$^{(9)}$', 'Max ($\\\\omega$)$^{(7)}$', 'Min ($\\\\omega$)$^{(6)}$', 'Mean ($\\\\omega$)$^{(9)}$', 'Min ($\\\\omega$)$^{(5)}$', 'Max ($\\\\omega$)$^{(8)}$', '$\\\\omega$$^{(5)}$']\n"
     ]
    },
    {
     "name": "stderr",
     "output_type": "stream",
     "text": [
      "Trying to unpickle estimator LabelEncoder from version 0.24.2 when using version 1.0.2. This might lead to breaking code or invalid results. Use at your own risk. For more info please refer to:\n",
      "https://scikit-learn.org/stable/modules/model_persistence.html#security-maintainability-limitations\n",
      "LightGBM binary classifier with TreeExplainer shap values output has changed to a list of ndarray\n"
     ]
    },
    {
     "name": "stdout",
     "output_type": "stream",
     "text": [
      "['/data4-4tb/kgreathoo/plots_result_akara/51155883_peak_idx_1_type_test3_TP.png']\n",
      "✅ Image: /data4-4tb/kgreathoo/plots_result_akara/51155883_peak_idx_1_type_test3_TP.png\n",
      "🖼️ Title: 51155883 Peak Index 1 Type Test3 Tp\n",
      "✅ Saved combined PDF: shap_outputs_1_10_new_great/51155883_peak_idx_1_type_test3_TP_96.pdf\n",
      "['/data4-4tb/kgreathoo/plots_result_akara/50296397_peak_idx_1_type_test2_TP.png']\n",
      "['$\\\\omega$$^{(6)}$', 'Std. ($\\\\omega$)$^{(9)}$', 'Mean ($\\\\omega$)$^{(6)}$', 'Max ($\\\\omega$)$^{(9)}$', 'Max ($\\\\omega$)$^{(7)}$', 'Min ($\\\\omega$)$^{(6)}$', 'Mean ($\\\\omega$)$^{(9)}$', 'Min ($\\\\omega$)$^{(5)}$', 'Max ($\\\\omega$)$^{(8)}$', '$\\\\omega$$^{(5)}$']\n"
     ]
    },
    {
     "name": "stderr",
     "output_type": "stream",
     "text": [
      "Trying to unpickle estimator LabelEncoder from version 0.24.2 when using version 1.0.2. This might lead to breaking code or invalid results. Use at your own risk. For more info please refer to:\n",
      "https://scikit-learn.org/stable/modules/model_persistence.html#security-maintainability-limitations\n",
      "LightGBM binary classifier with TreeExplainer shap values output has changed to a list of ndarray\n"
     ]
    },
    {
     "name": "stdout",
     "output_type": "stream",
     "text": [
      "['/data4-4tb/kgreathoo/plots_result_akara/50296397_peak_idx_1_type_test2_TP.png']\n",
      "✅ Image: /data4-4tb/kgreathoo/plots_result_akara/50296397_peak_idx_1_type_test2_TP.png\n",
      "🖼️ Title: 50296397 Peak Index 1 Type Test2 Tp\n",
      "✅ Saved combined PDF: shap_outputs_1_10_new_great/50296397_peak_idx_1_type_test2_TP_96.pdf\n",
      "['/data4-4tb/kgreathoo/plots_result_akara/50167760_peak_idx_1_type_test3_TP.png']\n",
      "['$\\\\omega$$^{(6)}$', 'Std. ($\\\\omega$)$^{(9)}$', 'Mean ($\\\\omega$)$^{(6)}$', 'Max ($\\\\omega$)$^{(9)}$', 'Max ($\\\\omega$)$^{(7)}$', 'Min ($\\\\omega$)$^{(6)}$', 'Mean ($\\\\omega$)$^{(9)}$', 'Min ($\\\\omega$)$^{(5)}$', 'Max ($\\\\omega$)$^{(8)}$', '$\\\\omega$$^{(5)}$']\n"
     ]
    },
    {
     "name": "stderr",
     "output_type": "stream",
     "text": [
      "Trying to unpickle estimator LabelEncoder from version 0.24.2 when using version 1.0.2. This might lead to breaking code or invalid results. Use at your own risk. For more info please refer to:\n",
      "https://scikit-learn.org/stable/modules/model_persistence.html#security-maintainability-limitations\n",
      "LightGBM binary classifier with TreeExplainer shap values output has changed to a list of ndarray\n"
     ]
    },
    {
     "name": "stdout",
     "output_type": "stream",
     "text": [
      "['/data4-4tb/kgreathoo/plots_result_akara/50167760_peak_idx_1_type_test3_TP.png']\n",
      "✅ Image: /data4-4tb/kgreathoo/plots_result_akara/50167760_peak_idx_1_type_test3_TP.png\n",
      "🖼️ Title: 50167760 Peak Index 1 Type Test3 Tp\n",
      "✅ Saved combined PDF: shap_outputs_1_10_new_great/50167760_peak_idx_1_type_test3_TP_96.pdf\n",
      "['/data4-4tb/kgreathoo/plots_result_akara/49243612_peak_idx_9_type_test3_TP.png']\n",
      "['$\\\\omega$$^{(6)}$', 'Std. ($\\\\omega$)$^{(9)}$', 'Mean ($\\\\omega$)$^{(6)}$', 'Max ($\\\\omega$)$^{(9)}$', 'Max ($\\\\omega$)$^{(7)}$', 'Min ($\\\\omega$)$^{(6)}$', 'Mean ($\\\\omega$)$^{(9)}$', 'Min ($\\\\omega$)$^{(5)}$', 'Max ($\\\\omega$)$^{(8)}$', '$\\\\omega$$^{(5)}$']\n"
     ]
    },
    {
     "name": "stderr",
     "output_type": "stream",
     "text": [
      "Trying to unpickle estimator LabelEncoder from version 0.24.2 when using version 1.0.2. This might lead to breaking code or invalid results. Use at your own risk. For more info please refer to:\n",
      "https://scikit-learn.org/stable/modules/model_persistence.html#security-maintainability-limitations\n",
      "LightGBM binary classifier with TreeExplainer shap values output has changed to a list of ndarray\n"
     ]
    },
    {
     "name": "stdout",
     "output_type": "stream",
     "text": [
      "['/data4-4tb/kgreathoo/plots_result_akara/49243612_peak_idx_9_type_test3_TP.png']\n",
      "✅ Image: /data4-4tb/kgreathoo/plots_result_akara/49243612_peak_idx_9_type_test3_TP.png\n",
      "🖼️ Title: 49243612 Peak Index 9 Type Test3 Tp\n",
      "✅ Saved combined PDF: shap_outputs_1_10_new_great/49243612_peak_idx_9_type_test3_TP_96.pdf\n",
      "['/data4-4tb/kgreathoo/plots_result_akara/49210276_peak_idx_1_type_test4_TP.png']\n",
      "['$\\\\omega$$^{(6)}$', 'Std. ($\\\\omega$)$^{(9)}$', 'Mean ($\\\\omega$)$^{(6)}$', 'Max ($\\\\omega$)$^{(9)}$', 'Max ($\\\\omega$)$^{(7)}$', 'Min ($\\\\omega$)$^{(6)}$', 'Mean ($\\\\omega$)$^{(9)}$', 'Min ($\\\\omega$)$^{(5)}$', 'Max ($\\\\omega$)$^{(8)}$', '$\\\\omega$$^{(5)}$']\n"
     ]
    },
    {
     "name": "stderr",
     "output_type": "stream",
     "text": [
      "Trying to unpickle estimator LabelEncoder from version 0.24.2 when using version 1.0.2. This might lead to breaking code or invalid results. Use at your own risk. For more info please refer to:\n",
      "https://scikit-learn.org/stable/modules/model_persistence.html#security-maintainability-limitations\n",
      "LightGBM binary classifier with TreeExplainer shap values output has changed to a list of ndarray\n"
     ]
    },
    {
     "name": "stdout",
     "output_type": "stream",
     "text": [
      "['/data4-4tb/kgreathoo/plots_result_akara/49210276_peak_idx_1_type_test4_TP.png']\n",
      "✅ Image: /data4-4tb/kgreathoo/plots_result_akara/49210276_peak_idx_1_type_test4_TP.png\n",
      "🖼️ Title: 49210276 Peak Index 1 Type Test4 Tp\n",
      "✅ Saved combined PDF: shap_outputs_1_10_new_great/49210276_peak_idx_1_type_test4_TP_96.pdf\n",
      "['/data4-4tb/kgreathoo/plots_result_akara/49189924_peak_idx_1_type_test4_TP.png']\n",
      "['$\\\\omega$$^{(6)}$', 'Std. ($\\\\omega$)$^{(9)}$', 'Mean ($\\\\omega$)$^{(6)}$', 'Max ($\\\\omega$)$^{(9)}$', 'Max ($\\\\omega$)$^{(7)}$', 'Min ($\\\\omega$)$^{(6)}$', 'Mean ($\\\\omega$)$^{(9)}$', 'Min ($\\\\omega$)$^{(5)}$', 'Max ($\\\\omega$)$^{(8)}$', '$\\\\omega$$^{(5)}$']\n"
     ]
    },
    {
     "name": "stderr",
     "output_type": "stream",
     "text": [
      "Trying to unpickle estimator LabelEncoder from version 0.24.2 when using version 1.0.2. This might lead to breaking code or invalid results. Use at your own risk. For more info please refer to:\n",
      "https://scikit-learn.org/stable/modules/model_persistence.html#security-maintainability-limitations\n",
      "LightGBM binary classifier with TreeExplainer shap values output has changed to a list of ndarray\n"
     ]
    },
    {
     "name": "stdout",
     "output_type": "stream",
     "text": [
      "['/data4-4tb/kgreathoo/plots_result_akara/49189924_peak_idx_1_type_test4_TP.png']\n",
      "✅ Image: /data4-4tb/kgreathoo/plots_result_akara/49189924_peak_idx_1_type_test4_TP.png\n",
      "🖼️ Title: 49189924 Peak Index 1 Type Test4 Tp\n",
      "✅ Saved combined PDF: shap_outputs_1_10_new_great/49189924_peak_idx_1_type_test4_TP_96.pdf\n",
      "['/data4-4tb/kgreathoo/plots_result_akara/48213983_peak_idx_1_type_test2_TP.png']\n",
      "['$\\\\omega$$^{(6)}$', 'Std. ($\\\\omega$)$^{(9)}$', 'Mean ($\\\\omega$)$^{(6)}$', 'Max ($\\\\omega$)$^{(9)}$', 'Max ($\\\\omega$)$^{(7)}$', 'Min ($\\\\omega$)$^{(6)}$', 'Mean ($\\\\omega$)$^{(9)}$', 'Min ($\\\\omega$)$^{(5)}$', 'Max ($\\\\omega$)$^{(8)}$', '$\\\\omega$$^{(5)}$']\n"
     ]
    },
    {
     "name": "stderr",
     "output_type": "stream",
     "text": [
      "Trying to unpickle estimator LabelEncoder from version 0.24.2 when using version 1.0.2. This might lead to breaking code or invalid results. Use at your own risk. For more info please refer to:\n",
      "https://scikit-learn.org/stable/modules/model_persistence.html#security-maintainability-limitations\n",
      "LightGBM binary classifier with TreeExplainer shap values output has changed to a list of ndarray\n"
     ]
    },
    {
     "name": "stdout",
     "output_type": "stream",
     "text": [
      "['/data4-4tb/kgreathoo/plots_result_akara/48213983_peak_idx_1_type_test2_TP.png']\n",
      "✅ Image: /data4-4tb/kgreathoo/plots_result_akara/48213983_peak_idx_1_type_test2_TP.png\n",
      "🖼️ Title: 48213983 Peak Index 1 Type Test2 Tp\n",
      "✅ Saved combined PDF: shap_outputs_1_10_new_great/48213983_peak_idx_1_type_test2_TP_96.pdf\n",
      "['/data4-4tb/kgreathoo/plots_result_akara/48101145_peak_idx_10_type_test4_TP.png']\n",
      "['$\\\\omega$$^{(6)}$', 'Std. ($\\\\omega$)$^{(9)}$', 'Mean ($\\\\omega$)$^{(6)}$', 'Max ($\\\\omega$)$^{(9)}$', 'Max ($\\\\omega$)$^{(7)}$', 'Min ($\\\\omega$)$^{(6)}$', 'Mean ($\\\\omega$)$^{(9)}$', 'Min ($\\\\omega$)$^{(5)}$', 'Max ($\\\\omega$)$^{(8)}$', '$\\\\omega$$^{(5)}$']\n"
     ]
    },
    {
     "name": "stderr",
     "output_type": "stream",
     "text": [
      "Trying to unpickle estimator LabelEncoder from version 0.24.2 when using version 1.0.2. This might lead to breaking code or invalid results. Use at your own risk. For more info please refer to:\n",
      "https://scikit-learn.org/stable/modules/model_persistence.html#security-maintainability-limitations\n",
      "LightGBM binary classifier with TreeExplainer shap values output has changed to a list of ndarray\n"
     ]
    },
    {
     "name": "stdout",
     "output_type": "stream",
     "text": [
      "['/data4-4tb/kgreathoo/plots_result_akara/48101145_peak_idx_10_type_test4_TP.png']\n",
      "✅ Image: /data4-4tb/kgreathoo/plots_result_akara/48101145_peak_idx_10_type_test4_TP.png\n",
      "🖼️ Title: 48101145 Peak Index 10 Type Test4 Tp\n",
      "✅ Saved combined PDF: shap_outputs_1_10_new_great/48101145_peak_idx_10_type_test4_TP_96.pdf\n",
      "['/data4-4tb/kgreathoo/plots_result_akara/47121487_peak_idx_1_type_test3_TP.png']\n",
      "['$\\\\omega$$^{(6)}$', 'Std. ($\\\\omega$)$^{(9)}$', 'Mean ($\\\\omega$)$^{(6)}$', 'Max ($\\\\omega$)$^{(9)}$', 'Max ($\\\\omega$)$^{(7)}$', 'Min ($\\\\omega$)$^{(6)}$', 'Mean ($\\\\omega$)$^{(9)}$', 'Min ($\\\\omega$)$^{(5)}$', 'Max ($\\\\omega$)$^{(8)}$', '$\\\\omega$$^{(5)}$']\n"
     ]
    },
    {
     "name": "stderr",
     "output_type": "stream",
     "text": [
      "Trying to unpickle estimator LabelEncoder from version 0.24.2 when using version 1.0.2. This might lead to breaking code or invalid results. Use at your own risk. For more info please refer to:\n",
      "https://scikit-learn.org/stable/modules/model_persistence.html#security-maintainability-limitations\n",
      "LightGBM binary classifier with TreeExplainer shap values output has changed to a list of ndarray\n"
     ]
    },
    {
     "name": "stdout",
     "output_type": "stream",
     "text": [
      "['/data4-4tb/kgreathoo/plots_result_akara/47121487_peak_idx_1_type_test3_TP.png']\n",
      "✅ Image: /data4-4tb/kgreathoo/plots_result_akara/47121487_peak_idx_1_type_test3_TP.png\n",
      "🖼️ Title: 47121487 Peak Index 1 Type Test3 Tp\n",
      "✅ Saved combined PDF: shap_outputs_1_10_new_great/47121487_peak_idx_1_type_test3_TP_96.pdf\n",
      "['/data4-4tb/kgreathoo/plots_result_akara/45131226_peak_idx_1_type_test4_TP.png']\n",
      "['$\\\\omega$$^{(6)}$', 'Std. ($\\\\omega$)$^{(9)}$', 'Mean ($\\\\omega$)$^{(6)}$', 'Max ($\\\\omega$)$^{(9)}$', 'Max ($\\\\omega$)$^{(7)}$', 'Min ($\\\\omega$)$^{(6)}$', 'Mean ($\\\\omega$)$^{(9)}$', 'Min ($\\\\omega$)$^{(5)}$', 'Max ($\\\\omega$)$^{(8)}$', '$\\\\omega$$^{(5)}$']\n"
     ]
    },
    {
     "name": "stderr",
     "output_type": "stream",
     "text": [
      "Trying to unpickle estimator LabelEncoder from version 0.24.2 when using version 1.0.2. This might lead to breaking code or invalid results. Use at your own risk. For more info please refer to:\n",
      "https://scikit-learn.org/stable/modules/model_persistence.html#security-maintainability-limitations\n",
      "LightGBM binary classifier with TreeExplainer shap values output has changed to a list of ndarray\n"
     ]
    },
    {
     "name": "stdout",
     "output_type": "stream",
     "text": [
      "['/data4-4tb/kgreathoo/plots_result_akara/45131226_peak_idx_1_type_test4_TP.png']\n",
      "✅ Image: /data4-4tb/kgreathoo/plots_result_akara/45131226_peak_idx_1_type_test4_TP.png\n",
      "🖼️ Title: 45131226 Peak Index 1 Type Test4 Tp\n",
      "✅ Saved combined PDF: shap_outputs_1_10_new_great/45131226_peak_idx_1_type_test4_TP_96.pdf\n",
      "['/data4-4tb/kgreathoo/plots_result_akara/44037510_peak_idx_2_type_test4_TP.png']\n",
      "['$\\\\omega$$^{(6)}$', 'Std. ($\\\\omega$)$^{(9)}$', 'Mean ($\\\\omega$)$^{(6)}$', 'Max ($\\\\omega$)$^{(9)}$', 'Max ($\\\\omega$)$^{(7)}$', 'Min ($\\\\omega$)$^{(6)}$', 'Mean ($\\\\omega$)$^{(9)}$', 'Min ($\\\\omega$)$^{(5)}$', 'Max ($\\\\omega$)$^{(8)}$', '$\\\\omega$$^{(5)}$']\n"
     ]
    },
    {
     "name": "stderr",
     "output_type": "stream",
     "text": [
      "Trying to unpickle estimator LabelEncoder from version 0.24.2 when using version 1.0.2. This might lead to breaking code or invalid results. Use at your own risk. For more info please refer to:\n",
      "https://scikit-learn.org/stable/modules/model_persistence.html#security-maintainability-limitations\n",
      "LightGBM binary classifier with TreeExplainer shap values output has changed to a list of ndarray\n"
     ]
    },
    {
     "name": "stdout",
     "output_type": "stream",
     "text": [
      "['/data4-4tb/kgreathoo/plots_result_akara/44037510_peak_idx_2_type_test4_TP.png']\n",
      "✅ Image: /data4-4tb/kgreathoo/plots_result_akara/44037510_peak_idx_2_type_test4_TP.png\n",
      "🖼️ Title: 44037510 Peak Index 2 Type Test4 Tp\n",
      "✅ Saved combined PDF: shap_outputs_1_10_new_great/44037510_peak_idx_2_type_test4_TP_96.pdf\n",
      "['/data4-4tb/kgreathoo/plots_result_akara/44007156_peak_idx_2_type_test0_TP.png']\n",
      "['$\\\\omega$$^{(6)}$', 'Std. ($\\\\omega$)$^{(9)}$', 'Mean ($\\\\omega$)$^{(6)}$', 'Max ($\\\\omega$)$^{(9)}$', 'Max ($\\\\omega$)$^{(7)}$', 'Min ($\\\\omega$)$^{(6)}$', 'Mean ($\\\\omega$)$^{(9)}$', 'Min ($\\\\omega$)$^{(5)}$', 'Max ($\\\\omega$)$^{(8)}$', '$\\\\omega$$^{(5)}$']\n"
     ]
    },
    {
     "name": "stderr",
     "output_type": "stream",
     "text": [
      "Trying to unpickle estimator LabelEncoder from version 0.24.2 when using version 1.0.2. This might lead to breaking code or invalid results. Use at your own risk. For more info please refer to:\n",
      "https://scikit-learn.org/stable/modules/model_persistence.html#security-maintainability-limitations\n",
      "LightGBM binary classifier with TreeExplainer shap values output has changed to a list of ndarray\n"
     ]
    },
    {
     "name": "stdout",
     "output_type": "stream",
     "text": [
      "['/data4-4tb/kgreathoo/plots_result_akara/44007156_peak_idx_2_type_test0_TP.png']\n",
      "✅ Image: /data4-4tb/kgreathoo/plots_result_akara/44007156_peak_idx_2_type_test0_TP.png\n",
      "🖼️ Title: 44007156 Peak Index 2 Type Test0 Tp\n",
      "✅ Saved combined PDF: shap_outputs_1_10_new_great/44007156_peak_idx_2_type_test0_TP_96.pdf\n",
      "['/data4-4tb/kgreathoo/plots_result_akara/43127044_peak_idx_3_type_test4_TP.png']\n",
      "['$\\\\omega$$^{(6)}$', 'Std. ($\\\\omega$)$^{(9)}$', 'Mean ($\\\\omega$)$^{(6)}$', 'Max ($\\\\omega$)$^{(9)}$', 'Max ($\\\\omega$)$^{(7)}$', 'Min ($\\\\omega$)$^{(6)}$', 'Mean ($\\\\omega$)$^{(9)}$', 'Min ($\\\\omega$)$^{(5)}$', 'Max ($\\\\omega$)$^{(8)}$', '$\\\\omega$$^{(5)}$']\n"
     ]
    },
    {
     "name": "stderr",
     "output_type": "stream",
     "text": [
      "Trying to unpickle estimator LabelEncoder from version 0.24.2 when using version 1.0.2. This might lead to breaking code or invalid results. Use at your own risk. For more info please refer to:\n",
      "https://scikit-learn.org/stable/modules/model_persistence.html#security-maintainability-limitations\n",
      "LightGBM binary classifier with TreeExplainer shap values output has changed to a list of ndarray\n"
     ]
    },
    {
     "name": "stdout",
     "output_type": "stream",
     "text": [
      "['/data4-4tb/kgreathoo/plots_result_akara/43127044_peak_idx_3_type_test4_TP.png']\n",
      "✅ Image: /data4-4tb/kgreathoo/plots_result_akara/43127044_peak_idx_3_type_test4_TP.png\n",
      "🖼️ Title: 43127044 Peak Index 3 Type Test4 Tp\n",
      "✅ Saved combined PDF: shap_outputs_1_10_new_great/43127044_peak_idx_3_type_test4_TP_96.pdf\n",
      "['/data4-4tb/kgreathoo/plots_result_akara/43001850_peak_idx_3_type_test4_TP.png']\n",
      "['$\\\\omega$$^{(6)}$', 'Std. ($\\\\omega$)$^{(9)}$', 'Mean ($\\\\omega$)$^{(6)}$', 'Max ($\\\\omega$)$^{(9)}$', 'Max ($\\\\omega$)$^{(7)}$', 'Min ($\\\\omega$)$^{(6)}$', 'Mean ($\\\\omega$)$^{(9)}$', 'Min ($\\\\omega$)$^{(5)}$', 'Max ($\\\\omega$)$^{(8)}$', '$\\\\omega$$^{(5)}$']\n"
     ]
    },
    {
     "name": "stderr",
     "output_type": "stream",
     "text": [
      "Trying to unpickle estimator LabelEncoder from version 0.24.2 when using version 1.0.2. This might lead to breaking code or invalid results. Use at your own risk. For more info please refer to:\n",
      "https://scikit-learn.org/stable/modules/model_persistence.html#security-maintainability-limitations\n",
      "LightGBM binary classifier with TreeExplainer shap values output has changed to a list of ndarray\n"
     ]
    },
    {
     "name": "stdout",
     "output_type": "stream",
     "text": [
      "['/data4-4tb/kgreathoo/plots_result_akara/43001850_peak_idx_3_type_test4_TP.png']\n",
      "✅ Image: /data4-4tb/kgreathoo/plots_result_akara/43001850_peak_idx_3_type_test4_TP.png\n",
      "🖼️ Title: 43001850 Peak Index 3 Type Test4 Tp\n",
      "✅ Saved combined PDF: shap_outputs_1_10_new_great/43001850_peak_idx_3_type_test4_TP_96.pdf\n",
      "['/data4-4tb/kgreathoo/plots_result_akara/42161438_peak_idx_1_type_test3_TP.png']\n",
      "['$\\\\omega$$^{(6)}$', 'Std. ($\\\\omega$)$^{(9)}$', 'Mean ($\\\\omega$)$^{(6)}$', 'Max ($\\\\omega$)$^{(9)}$', 'Max ($\\\\omega$)$^{(7)}$', 'Min ($\\\\omega$)$^{(6)}$', 'Mean ($\\\\omega$)$^{(9)}$', 'Min ($\\\\omega$)$^{(5)}$', 'Max ($\\\\omega$)$^{(8)}$', '$\\\\omega$$^{(5)}$']\n"
     ]
    },
    {
     "name": "stderr",
     "output_type": "stream",
     "text": [
      "Trying to unpickle estimator LabelEncoder from version 0.24.2 when using version 1.0.2. This might lead to breaking code or invalid results. Use at your own risk. For more info please refer to:\n",
      "https://scikit-learn.org/stable/modules/model_persistence.html#security-maintainability-limitations\n",
      "LightGBM binary classifier with TreeExplainer shap values output has changed to a list of ndarray\n"
     ]
    },
    {
     "name": "stdout",
     "output_type": "stream",
     "text": [
      "['/data4-4tb/kgreathoo/plots_result_akara/42161438_peak_idx_1_type_test3_TP.png']\n",
      "✅ Image: /data4-4tb/kgreathoo/plots_result_akara/42161438_peak_idx_1_type_test3_TP.png\n",
      "🖼️ Title: 42161438 Peak Index 1 Type Test3 Tp\n",
      "✅ Saved combined PDF: shap_outputs_1_10_new_great/42161438_peak_idx_1_type_test3_TP_96.pdf\n",
      "['/data4-4tb/kgreathoo/plots_result_akara/42148589_peak_idx_1_type_test4_TP.png']\n",
      "['$\\\\omega$$^{(6)}$', 'Std. ($\\\\omega$)$^{(9)}$', 'Mean ($\\\\omega$)$^{(6)}$', 'Max ($\\\\omega$)$^{(9)}$', 'Max ($\\\\omega$)$^{(7)}$', 'Min ($\\\\omega$)$^{(6)}$', 'Mean ($\\\\omega$)$^{(9)}$', 'Min ($\\\\omega$)$^{(5)}$', 'Max ($\\\\omega$)$^{(8)}$', '$\\\\omega$$^{(5)}$']\n"
     ]
    },
    {
     "name": "stderr",
     "output_type": "stream",
     "text": [
      "Trying to unpickle estimator LabelEncoder from version 0.24.2 when using version 1.0.2. This might lead to breaking code or invalid results. Use at your own risk. For more info please refer to:\n",
      "https://scikit-learn.org/stable/modules/model_persistence.html#security-maintainability-limitations\n",
      "LightGBM binary classifier with TreeExplainer shap values output has changed to a list of ndarray\n"
     ]
    },
    {
     "name": "stdout",
     "output_type": "stream",
     "text": [
      "['/data4-4tb/kgreathoo/plots_result_akara/42148589_peak_idx_1_type_test4_TP.png']\n",
      "✅ Image: /data4-4tb/kgreathoo/plots_result_akara/42148589_peak_idx_1_type_test4_TP.png\n",
      "🖼️ Title: 42148589 Peak Index 1 Type Test4 Tp\n",
      "✅ Saved combined PDF: shap_outputs_1_10_new_great/42148589_peak_idx_1_type_test4_TP_96.pdf\n",
      "['/data4-4tb/kgreathoo/plots_result_akara/42079148_peak_idx_1_type_test0_TP.png']\n",
      "['$\\\\omega$$^{(6)}$', 'Std. ($\\\\omega$)$^{(9)}$', 'Mean ($\\\\omega$)$^{(6)}$', 'Max ($\\\\omega$)$^{(9)}$', 'Max ($\\\\omega$)$^{(7)}$', 'Min ($\\\\omega$)$^{(6)}$', 'Mean ($\\\\omega$)$^{(9)}$', 'Min ($\\\\omega$)$^{(5)}$', 'Max ($\\\\omega$)$^{(8)}$', '$\\\\omega$$^{(5)}$']\n"
     ]
    },
    {
     "name": "stderr",
     "output_type": "stream",
     "text": [
      "Trying to unpickle estimator LabelEncoder from version 0.24.2 when using version 1.0.2. This might lead to breaking code or invalid results. Use at your own risk. For more info please refer to:\n",
      "https://scikit-learn.org/stable/modules/model_persistence.html#security-maintainability-limitations\n",
      "LightGBM binary classifier with TreeExplainer shap values output has changed to a list of ndarray\n"
     ]
    },
    {
     "name": "stdout",
     "output_type": "stream",
     "text": [
      "['/data4-4tb/kgreathoo/plots_result_akara/42079148_peak_idx_1_type_test0_TP.png']\n",
      "✅ Image: /data4-4tb/kgreathoo/plots_result_akara/42079148_peak_idx_1_type_test0_TP.png\n",
      "🖼️ Title: 42079148 Peak Index 1 Type Test0 Tp\n",
      "✅ Saved combined PDF: shap_outputs_1_10_new_great/42079148_peak_idx_1_type_test0_TP_96.pdf\n",
      "['/data4-4tb/kgreathoo/plots_result_akara/41169972_peak_idx_1_type_test1_TP.png']\n",
      "['$\\\\omega$$^{(6)}$', 'Std. ($\\\\omega$)$^{(9)}$', 'Mean ($\\\\omega$)$^{(6)}$', 'Max ($\\\\omega$)$^{(9)}$', 'Max ($\\\\omega$)$^{(7)}$', 'Min ($\\\\omega$)$^{(6)}$', 'Mean ($\\\\omega$)$^{(9)}$', 'Min ($\\\\omega$)$^{(5)}$', 'Max ($\\\\omega$)$^{(8)}$', '$\\\\omega$$^{(5)}$']\n"
     ]
    },
    {
     "name": "stderr",
     "output_type": "stream",
     "text": [
      "Trying to unpickle estimator LabelEncoder from version 0.24.2 when using version 1.0.2. This might lead to breaking code or invalid results. Use at your own risk. For more info please refer to:\n",
      "https://scikit-learn.org/stable/modules/model_persistence.html#security-maintainability-limitations\n",
      "LightGBM binary classifier with TreeExplainer shap values output has changed to a list of ndarray\n"
     ]
    },
    {
     "name": "stdout",
     "output_type": "stream",
     "text": [
      "['/data4-4tb/kgreathoo/plots_result_akara/41169972_peak_idx_1_type_test1_TP.png']\n",
      "✅ Image: /data4-4tb/kgreathoo/plots_result_akara/41169972_peak_idx_1_type_test1_TP.png\n",
      "🖼️ Title: 41169972 Peak Index 1 Type Test1 Tp\n",
      "✅ Saved combined PDF: shap_outputs_1_10_new_great/41169972_peak_idx_1_type_test1_TP_96.pdf\n",
      "['/data4-4tb/kgreathoo/plots_result_akara/41071744_peak_idx_1_type_test2_TP.png']\n",
      "['$\\\\omega$$^{(6)}$', 'Std. ($\\\\omega$)$^{(9)}$', 'Mean ($\\\\omega$)$^{(6)}$', 'Max ($\\\\omega$)$^{(9)}$', 'Max ($\\\\omega$)$^{(7)}$', 'Min ($\\\\omega$)$^{(6)}$', 'Mean ($\\\\omega$)$^{(9)}$', 'Min ($\\\\omega$)$^{(5)}$', 'Max ($\\\\omega$)$^{(8)}$', '$\\\\omega$$^{(5)}$']\n"
     ]
    },
    {
     "name": "stderr",
     "output_type": "stream",
     "text": [
      "Trying to unpickle estimator LabelEncoder from version 0.24.2 when using version 1.0.2. This might lead to breaking code or invalid results. Use at your own risk. For more info please refer to:\n",
      "https://scikit-learn.org/stable/modules/model_persistence.html#security-maintainability-limitations\n",
      "LightGBM binary classifier with TreeExplainer shap values output has changed to a list of ndarray\n"
     ]
    },
    {
     "name": "stdout",
     "output_type": "stream",
     "text": [
      "['/data4-4tb/kgreathoo/plots_result_akara/41071744_peak_idx_1_type_test2_TP.png']\n",
      "✅ Image: /data4-4tb/kgreathoo/plots_result_akara/41071744_peak_idx_1_type_test2_TP.png\n",
      "🖼️ Title: 41071744 Peak Index 1 Type Test2 Tp\n",
      "✅ Saved combined PDF: shap_outputs_1_10_new_great/41071744_peak_idx_1_type_test2_TP_96.pdf\n",
      "['/data4-4tb/kgreathoo/plots_result_akara/41051113_peak_idx_1_type_test2_TP.png']\n",
      "['$\\\\omega$$^{(6)}$', 'Std. ($\\\\omega$)$^{(9)}$', 'Mean ($\\\\omega$)$^{(6)}$', 'Max ($\\\\omega$)$^{(9)}$', 'Max ($\\\\omega$)$^{(7)}$', 'Min ($\\\\omega$)$^{(6)}$', 'Mean ($\\\\omega$)$^{(9)}$', 'Min ($\\\\omega$)$^{(5)}$', 'Max ($\\\\omega$)$^{(8)}$', '$\\\\omega$$^{(5)}$']\n"
     ]
    },
    {
     "name": "stderr",
     "output_type": "stream",
     "text": [
      "Trying to unpickle estimator LabelEncoder from version 0.24.2 when using version 1.0.2. This might lead to breaking code or invalid results. Use at your own risk. For more info please refer to:\n",
      "https://scikit-learn.org/stable/modules/model_persistence.html#security-maintainability-limitations\n",
      "LightGBM binary classifier with TreeExplainer shap values output has changed to a list of ndarray\n"
     ]
    },
    {
     "name": "stdout",
     "output_type": "stream",
     "text": [
      "['/data4-4tb/kgreathoo/plots_result_akara/41051113_peak_idx_1_type_test2_TP.png']\n",
      "✅ Image: /data4-4tb/kgreathoo/plots_result_akara/41051113_peak_idx_1_type_test2_TP.png\n",
      "🖼️ Title: 41051113 Peak Index 1 Type Test2 Tp\n",
      "✅ Saved combined PDF: shap_outputs_1_10_new_great/41051113_peak_idx_1_type_test2_TP_96.pdf\n",
      "['/data4-4tb/kgreathoo/plots_result_akara/41039049_peak_idx_10_type_test4_TP.png']\n",
      "['$\\\\omega$$^{(6)}$', 'Std. ($\\\\omega$)$^{(9)}$', 'Mean ($\\\\omega$)$^{(6)}$', 'Max ($\\\\omega$)$^{(9)}$', 'Max ($\\\\omega$)$^{(7)}$', 'Min ($\\\\omega$)$^{(6)}$', 'Mean ($\\\\omega$)$^{(9)}$', 'Min ($\\\\omega$)$^{(5)}$', 'Max ($\\\\omega$)$^{(8)}$', '$\\\\omega$$^{(5)}$']\n"
     ]
    },
    {
     "name": "stderr",
     "output_type": "stream",
     "text": [
      "Trying to unpickle estimator LabelEncoder from version 0.24.2 when using version 1.0.2. This might lead to breaking code or invalid results. Use at your own risk. For more info please refer to:\n",
      "https://scikit-learn.org/stable/modules/model_persistence.html#security-maintainability-limitations\n",
      "LightGBM binary classifier with TreeExplainer shap values output has changed to a list of ndarray\n"
     ]
    },
    {
     "name": "stdout",
     "output_type": "stream",
     "text": [
      "['/data4-4tb/kgreathoo/plots_result_akara/41039049_peak_idx_10_type_test4_TP.png']\n",
      "✅ Image: /data4-4tb/kgreathoo/plots_result_akara/41039049_peak_idx_10_type_test4_TP.png\n",
      "🖼️ Title: 41039049 Peak Index 10 Type Test4 Tp\n",
      "✅ Saved combined PDF: shap_outputs_1_10_new_great/41039049_peak_idx_10_type_test4_TP_96.pdf\n",
      "['/data4-4tb/kgreathoo/plots_result_akara/40170512_peak_idx_2_type_test4_TP.png']\n",
      "['$\\\\omega$$^{(6)}$', 'Std. ($\\\\omega$)$^{(9)}$', 'Mean ($\\\\omega$)$^{(6)}$', 'Max ($\\\\omega$)$^{(9)}$', 'Max ($\\\\omega$)$^{(7)}$', 'Min ($\\\\omega$)$^{(6)}$', 'Mean ($\\\\omega$)$^{(9)}$', 'Min ($\\\\omega$)$^{(5)}$', 'Max ($\\\\omega$)$^{(8)}$', '$\\\\omega$$^{(5)}$']\n"
     ]
    },
    {
     "name": "stderr",
     "output_type": "stream",
     "text": [
      "Trying to unpickle estimator LabelEncoder from version 0.24.2 when using version 1.0.2. This might lead to breaking code or invalid results. Use at your own risk. For more info please refer to:\n",
      "https://scikit-learn.org/stable/modules/model_persistence.html#security-maintainability-limitations\n",
      "LightGBM binary classifier with TreeExplainer shap values output has changed to a list of ndarray\n"
     ]
    },
    {
     "name": "stdout",
     "output_type": "stream",
     "text": [
      "['/data4-4tb/kgreathoo/plots_result_akara/40170512_peak_idx_2_type_test4_TP.png']\n",
      "✅ Image: /data4-4tb/kgreathoo/plots_result_akara/40170512_peak_idx_2_type_test4_TP.png\n",
      "🖼️ Title: 40170512 Peak Index 2 Type Test4 Tp\n",
      "✅ Saved combined PDF: shap_outputs_1_10_new_great/40170512_peak_idx_2_type_test4_TP_96.pdf\n",
      "['/data4-4tb/kgreathoo/plots_result_akara/40036109_peak_idx_2_type_test3_TP.png']\n",
      "['$\\\\omega$$^{(6)}$', 'Std. ($\\\\omega$)$^{(9)}$', 'Mean ($\\\\omega$)$^{(6)}$', 'Max ($\\\\omega$)$^{(9)}$', 'Max ($\\\\omega$)$^{(7)}$', 'Min ($\\\\omega$)$^{(6)}$', 'Mean ($\\\\omega$)$^{(9)}$', 'Min ($\\\\omega$)$^{(5)}$', 'Max ($\\\\omega$)$^{(8)}$', '$\\\\omega$$^{(5)}$']\n"
     ]
    },
    {
     "name": "stderr",
     "output_type": "stream",
     "text": [
      "Trying to unpickle estimator LabelEncoder from version 0.24.2 when using version 1.0.2. This might lead to breaking code or invalid results. Use at your own risk. For more info please refer to:\n",
      "https://scikit-learn.org/stable/modules/model_persistence.html#security-maintainability-limitations\n",
      "LightGBM binary classifier with TreeExplainer shap values output has changed to a list of ndarray\n"
     ]
    },
    {
     "name": "stdout",
     "output_type": "stream",
     "text": [
      "['/data4-4tb/kgreathoo/plots_result_akara/40036109_peak_idx_2_type_test3_TP.png']\n",
      "✅ Image: /data4-4tb/kgreathoo/plots_result_akara/40036109_peak_idx_2_type_test3_TP.png\n",
      "🖼️ Title: 40036109 Peak Index 2 Type Test3 Tp\n",
      "✅ Saved combined PDF: shap_outputs_1_10_new_great/40036109_peak_idx_2_type_test3_TP_96.pdf\n",
      "['/data4-4tb/kgreathoo/plots_result_akara/39094181_peak_idx_1_type_test2_TP.png']\n",
      "❌ ไม่พบ HN=39094181, fold=2\n",
      "['/data4-4tb/kgreathoo/plots_result_akara/39009394_peak_idx_1_type_test2_TP.png']\n",
      "❌ ไม่พบ HN=39009394, fold=2\n",
      "['/data4-4tb/kgreathoo/plots_result_akara/38907635_peak_idx_1_type_test3_TP.png']\n",
      "❌ ไม่พบ HN=38907635, fold=3\n",
      "['/data4-4tb/kgreathoo/plots_result_akara/38110417_peak_idx_10_type_test4_TP.png']\n",
      "['$\\\\omega$$^{(6)}$', 'Std. ($\\\\omega$)$^{(9)}$', 'Mean ($\\\\omega$)$^{(6)}$', 'Max ($\\\\omega$)$^{(9)}$', 'Max ($\\\\omega$)$^{(7)}$', 'Min ($\\\\omega$)$^{(6)}$', 'Mean ($\\\\omega$)$^{(9)}$', 'Min ($\\\\omega$)$^{(5)}$', 'Max ($\\\\omega$)$^{(8)}$', '$\\\\omega$$^{(5)}$']\n"
     ]
    },
    {
     "name": "stderr",
     "output_type": "stream",
     "text": [
      "Trying to unpickle estimator LabelEncoder from version 0.24.2 when using version 1.0.2. This might lead to breaking code or invalid results. Use at your own risk. For more info please refer to:\n",
      "https://scikit-learn.org/stable/modules/model_persistence.html#security-maintainability-limitations\n",
      "LightGBM binary classifier with TreeExplainer shap values output has changed to a list of ndarray\n"
     ]
    },
    {
     "name": "stdout",
     "output_type": "stream",
     "text": [
      "['/data4-4tb/kgreathoo/plots_result_akara/38110417_peak_idx_10_type_test4_TP.png']\n",
      "✅ Image: /data4-4tb/kgreathoo/plots_result_akara/38110417_peak_idx_10_type_test4_TP.png\n",
      "🖼️ Title: 38110417 Peak Index 10 Type Test4 Tp\n",
      "✅ Saved combined PDF: shap_outputs_1_10_new_great/38110417_peak_idx_10_type_test4_TP_96.pdf\n",
      "['/data4-4tb/kgreathoo/plots_result_akara/38005966_peak_idx_1_type_test3_TN.png']\n",
      "['$\\\\omega$$^{(6)}$', 'Std. ($\\\\omega$)$^{(9)}$', 'Mean ($\\\\omega$)$^{(6)}$', 'Max ($\\\\omega$)$^{(9)}$', 'Max ($\\\\omega$)$^{(7)}$', 'Min ($\\\\omega$)$^{(6)}$', 'Mean ($\\\\omega$)$^{(9)}$', 'Min ($\\\\omega$)$^{(5)}$', 'Max ($\\\\omega$)$^{(8)}$', '$\\\\omega$$^{(5)}$']\n"
     ]
    },
    {
     "name": "stderr",
     "output_type": "stream",
     "text": [
      "Trying to unpickle estimator LabelEncoder from version 0.24.2 when using version 1.0.2. This might lead to breaking code or invalid results. Use at your own risk. For more info please refer to:\n",
      "https://scikit-learn.org/stable/modules/model_persistence.html#security-maintainability-limitations\n",
      "LightGBM binary classifier with TreeExplainer shap values output has changed to a list of ndarray\n"
     ]
    },
    {
     "name": "stdout",
     "output_type": "stream",
     "text": [
      "['/data4-4tb/kgreathoo/plots_result_akara/38005966_peak_idx_1_type_test3_TN.png']\n",
      "✅ Image: /data4-4tb/kgreathoo/plots_result_akara/38005966_peak_idx_1_type_test3_TN.png\n",
      "🖼️ Title: 38005966 Peak Index 1 Type Test3 Tn\n",
      "✅ Saved combined PDF: shap_outputs_1_10_new_great/38005966_peak_idx_1_type_test3_TN_96.pdf\n",
      "['/data4-4tb/kgreathoo/plots_result_akara/38182610_peak_idx_9_type_test4_TN.png']\n",
      "['$\\\\omega$$^{(6)}$', 'Std. ($\\\\omega$)$^{(9)}$', 'Mean ($\\\\omega$)$^{(6)}$', 'Max ($\\\\omega$)$^{(9)}$', 'Max ($\\\\omega$)$^{(7)}$', 'Min ($\\\\omega$)$^{(6)}$', 'Mean ($\\\\omega$)$^{(9)}$', 'Min ($\\\\omega$)$^{(5)}$', 'Max ($\\\\omega$)$^{(8)}$', '$\\\\omega$$^{(5)}$']\n"
     ]
    },
    {
     "name": "stderr",
     "output_type": "stream",
     "text": [
      "Trying to unpickle estimator LabelEncoder from version 0.24.2 when using version 1.0.2. This might lead to breaking code or invalid results. Use at your own risk. For more info please refer to:\n",
      "https://scikit-learn.org/stable/modules/model_persistence.html#security-maintainability-limitations\n",
      "LightGBM binary classifier with TreeExplainer shap values output has changed to a list of ndarray\n"
     ]
    },
    {
     "name": "stdout",
     "output_type": "stream",
     "text": [
      "['/data4-4tb/kgreathoo/plots_result_akara/38182610_peak_idx_9_type_test4_TN.png']\n",
      "✅ Image: /data4-4tb/kgreathoo/plots_result_akara/38182610_peak_idx_9_type_test4_TN.png\n",
      "🖼️ Title: 38182610 Peak Index 9 Type Test4 Tn\n",
      "✅ Saved combined PDF: shap_outputs_1_10_new_great/38182610_peak_idx_9_type_test4_TN_96.pdf\n",
      "['/data4-4tb/kgreathoo/plots_result_akara/38906285_peak_idx_10_type_test3_TN.png']\n",
      "['$\\\\omega$$^{(6)}$', 'Std. ($\\\\omega$)$^{(9)}$', 'Mean ($\\\\omega$)$^{(6)}$', 'Max ($\\\\omega$)$^{(9)}$', 'Max ($\\\\omega$)$^{(7)}$', 'Min ($\\\\omega$)$^{(6)}$', 'Mean ($\\\\omega$)$^{(9)}$', 'Min ($\\\\omega$)$^{(5)}$', 'Max ($\\\\omega$)$^{(8)}$', '$\\\\omega$$^{(5)}$']\n"
     ]
    },
    {
     "name": "stderr",
     "output_type": "stream",
     "text": [
      "Trying to unpickle estimator LabelEncoder from version 0.24.2 when using version 1.0.2. This might lead to breaking code or invalid results. Use at your own risk. For more info please refer to:\n",
      "https://scikit-learn.org/stable/modules/model_persistence.html#security-maintainability-limitations\n",
      "LightGBM binary classifier with TreeExplainer shap values output has changed to a list of ndarray\n"
     ]
    },
    {
     "name": "stdout",
     "output_type": "stream",
     "text": [
      "['/data4-4tb/kgreathoo/plots_result_akara/38906285_peak_idx_10_type_test3_TN.png']\n",
      "✅ Image: /data4-4tb/kgreathoo/plots_result_akara/38906285_peak_idx_10_type_test3_TN.png\n",
      "🖼️ Title: 38906285 Peak Index 10 Type Test3 Tn\n",
      "✅ Saved combined PDF: shap_outputs_1_10_new_great/38906285_peak_idx_10_type_test3_TN_96.pdf\n",
      "['/data4-4tb/kgreathoo/plots_result_akara/39164983_peak_idx_1_type_test3_TN.png']\n",
      "['$\\\\omega$$^{(6)}$', 'Std. ($\\\\omega$)$^{(9)}$', 'Mean ($\\\\omega$)$^{(6)}$', 'Max ($\\\\omega$)$^{(9)}$', 'Max ($\\\\omega$)$^{(7)}$', 'Min ($\\\\omega$)$^{(6)}$', 'Mean ($\\\\omega$)$^{(9)}$', 'Min ($\\\\omega$)$^{(5)}$', 'Max ($\\\\omega$)$^{(8)}$', '$\\\\omega$$^{(5)}$']\n"
     ]
    },
    {
     "name": "stderr",
     "output_type": "stream",
     "text": [
      "Trying to unpickle estimator LabelEncoder from version 0.24.2 when using version 1.0.2. This might lead to breaking code or invalid results. Use at your own risk. For more info please refer to:\n",
      "https://scikit-learn.org/stable/modules/model_persistence.html#security-maintainability-limitations\n",
      "LightGBM binary classifier with TreeExplainer shap values output has changed to a list of ndarray\n"
     ]
    },
    {
     "name": "stdout",
     "output_type": "stream",
     "text": [
      "['/data4-4tb/kgreathoo/plots_result_akara/39164983_peak_idx_1_type_test3_TN.png']\n",
      "✅ Image: /data4-4tb/kgreathoo/plots_result_akara/39164983_peak_idx_1_type_test3_TN.png\n",
      "🖼️ Title: 39164983 Peak Index 1 Type Test3 Tn\n",
      "✅ Saved combined PDF: shap_outputs_1_10_new_great/39164983_peak_idx_1_type_test3_TN_96.pdf\n",
      "['/data4-4tb/kgreathoo/plots_result_akara/40026745_peak_idx_1_type_test1_TN.png']\n",
      "['$\\\\omega$$^{(6)}$', 'Std. ($\\\\omega$)$^{(9)}$', 'Mean ($\\\\omega$)$^{(6)}$', 'Max ($\\\\omega$)$^{(9)}$', 'Max ($\\\\omega$)$^{(7)}$', 'Min ($\\\\omega$)$^{(6)}$', 'Mean ($\\\\omega$)$^{(9)}$', 'Min ($\\\\omega$)$^{(5)}$', 'Max ($\\\\omega$)$^{(8)}$', '$\\\\omega$$^{(5)}$']\n"
     ]
    },
    {
     "name": "stderr",
     "output_type": "stream",
     "text": [
      "Trying to unpickle estimator LabelEncoder from version 0.24.2 when using version 1.0.2. This might lead to breaking code or invalid results. Use at your own risk. For more info please refer to:\n",
      "https://scikit-learn.org/stable/modules/model_persistence.html#security-maintainability-limitations\n",
      "LightGBM binary classifier with TreeExplainer shap values output has changed to a list of ndarray\n"
     ]
    },
    {
     "name": "stdout",
     "output_type": "stream",
     "text": [
      "['/data4-4tb/kgreathoo/plots_result_akara/40026745_peak_idx_1_type_test1_TN.png']\n",
      "✅ Image: /data4-4tb/kgreathoo/plots_result_akara/40026745_peak_idx_1_type_test1_TN.png\n",
      "🖼️ Title: 40026745 Peak Index 1 Type Test1 Tn\n",
      "✅ Saved combined PDF: shap_outputs_1_10_new_great/40026745_peak_idx_1_type_test1_TN_96.pdf\n",
      "['/data4-4tb/kgreathoo/plots_result_akara/42052801_peak_idx_1_type_test1_TN.png']\n",
      "['$\\\\omega$$^{(6)}$', 'Std. ($\\\\omega$)$^{(9)}$', 'Mean ($\\\\omega$)$^{(6)}$', 'Max ($\\\\omega$)$^{(9)}$', 'Max ($\\\\omega$)$^{(7)}$', 'Min ($\\\\omega$)$^{(6)}$', 'Mean ($\\\\omega$)$^{(9)}$', 'Min ($\\\\omega$)$^{(5)}$', 'Max ($\\\\omega$)$^{(8)}$', '$\\\\omega$$^{(5)}$']\n"
     ]
    },
    {
     "name": "stderr",
     "output_type": "stream",
     "text": [
      "Trying to unpickle estimator LabelEncoder from version 0.24.2 when using version 1.0.2. This might lead to breaking code or invalid results. Use at your own risk. For more info please refer to:\n",
      "https://scikit-learn.org/stable/modules/model_persistence.html#security-maintainability-limitations\n",
      "LightGBM binary classifier with TreeExplainer shap values output has changed to a list of ndarray\n"
     ]
    },
    {
     "name": "stdout",
     "output_type": "stream",
     "text": [
      "['/data4-4tb/kgreathoo/plots_result_akara/42052801_peak_idx_1_type_test1_TN.png']\n",
      "✅ Image: /data4-4tb/kgreathoo/plots_result_akara/42052801_peak_idx_1_type_test1_TN.png\n",
      "🖼️ Title: 42052801 Peak Index 1 Type Test1 Tn\n",
      "✅ Saved combined PDF: shap_outputs_1_10_new_great/42052801_peak_idx_1_type_test1_TN_96.pdf\n",
      "['/data4-4tb/kgreathoo/plots_result_akara/43134468_peak_idx_9_type_test1_TN.png']\n",
      "['$\\\\omega$$^{(6)}$', 'Std. ($\\\\omega$)$^{(9)}$', 'Mean ($\\\\omega$)$^{(6)}$', 'Max ($\\\\omega$)$^{(9)}$', 'Max ($\\\\omega$)$^{(7)}$', 'Min ($\\\\omega$)$^{(6)}$', 'Mean ($\\\\omega$)$^{(9)}$', 'Min ($\\\\omega$)$^{(5)}$', 'Max ($\\\\omega$)$^{(8)}$', '$\\\\omega$$^{(5)}$']\n"
     ]
    },
    {
     "name": "stderr",
     "output_type": "stream",
     "text": [
      "Trying to unpickle estimator LabelEncoder from version 0.24.2 when using version 1.0.2. This might lead to breaking code or invalid results. Use at your own risk. For more info please refer to:\n",
      "https://scikit-learn.org/stable/modules/model_persistence.html#security-maintainability-limitations\n",
      "LightGBM binary classifier with TreeExplainer shap values output has changed to a list of ndarray\n"
     ]
    },
    {
     "name": "stdout",
     "output_type": "stream",
     "text": [
      "['/data4-4tb/kgreathoo/plots_result_akara/43134468_peak_idx_9_type_test1_TN.png']\n",
      "✅ Image: /data4-4tb/kgreathoo/plots_result_akara/43134468_peak_idx_9_type_test1_TN.png\n",
      "🖼️ Title: 43134468 Peak Index 9 Type Test1 Tn\n",
      "✅ Saved combined PDF: shap_outputs_1_10_new_great/43134468_peak_idx_9_type_test1_TN_96.pdf\n",
      "['/data4-4tb/kgreathoo/plots_result_akara/44135554_peak_idx_1_type_test2_FP.png']\n",
      "['$\\\\omega$$^{(6)}$', 'Std. ($\\\\omega$)$^{(9)}$', 'Mean ($\\\\omega$)$^{(6)}$', 'Max ($\\\\omega$)$^{(9)}$', 'Max ($\\\\omega$)$^{(7)}$', 'Min ($\\\\omega$)$^{(6)}$', 'Mean ($\\\\omega$)$^{(9)}$', 'Min ($\\\\omega$)$^{(5)}$', 'Max ($\\\\omega$)$^{(8)}$', '$\\\\omega$$^{(5)}$']\n"
     ]
    },
    {
     "name": "stderr",
     "output_type": "stream",
     "text": [
      "Trying to unpickle estimator LabelEncoder from version 0.24.2 when using version 1.0.2. This might lead to breaking code or invalid results. Use at your own risk. For more info please refer to:\n",
      "https://scikit-learn.org/stable/modules/model_persistence.html#security-maintainability-limitations\n",
      "LightGBM binary classifier with TreeExplainer shap values output has changed to a list of ndarray\n"
     ]
    },
    {
     "name": "stdout",
     "output_type": "stream",
     "text": [
      "['/data4-4tb/kgreathoo/plots_result_akara/44135554_peak_idx_1_type_test2_FP.png']\n",
      "✅ Image: /data4-4tb/kgreathoo/plots_result_akara/44135554_peak_idx_1_type_test2_FP.png\n",
      "🖼️ Title: 44135554 Peak Index 1 Type Test2 Fp\n",
      "✅ Saved combined PDF: shap_outputs_1_10_new_great/44135554_peak_idx_1_type_test2_FP_96.pdf\n",
      "['/data4-4tb/kgreathoo/plots_result_akara/45502728_peak_idx_1_type_test0_TN.png']\n",
      "['$\\\\omega$$^{(6)}$', 'Std. ($\\\\omega$)$^{(9)}$', 'Mean ($\\\\omega$)$^{(6)}$', 'Max ($\\\\omega$)$^{(9)}$', 'Max ($\\\\omega$)$^{(7)}$', 'Min ($\\\\omega$)$^{(6)}$', 'Mean ($\\\\omega$)$^{(9)}$', 'Min ($\\\\omega$)$^{(5)}$', 'Max ($\\\\omega$)$^{(8)}$', '$\\\\omega$$^{(5)}$']\n"
     ]
    },
    {
     "name": "stderr",
     "output_type": "stream",
     "text": [
      "Trying to unpickle estimator LabelEncoder from version 0.24.2 when using version 1.0.2. This might lead to breaking code or invalid results. Use at your own risk. For more info please refer to:\n",
      "https://scikit-learn.org/stable/modules/model_persistence.html#security-maintainability-limitations\n",
      "LightGBM binary classifier with TreeExplainer shap values output has changed to a list of ndarray\n"
     ]
    },
    {
     "name": "stdout",
     "output_type": "stream",
     "text": [
      "['/data4-4tb/kgreathoo/plots_result_akara/45502728_peak_idx_1_type_test0_TN.png']\n",
      "✅ Image: /data4-4tb/kgreathoo/plots_result_akara/45502728_peak_idx_1_type_test0_TN.png\n",
      "🖼️ Title: 45502728 Peak Index 1 Type Test0 Tn\n",
      "✅ Saved combined PDF: shap_outputs_1_10_new_great/45502728_peak_idx_1_type_test0_TN_96.pdf\n",
      "['/data4-4tb/kgreathoo/plots_result_akara/46003874_peak_idx_1_type_test1_TN.png']\n",
      "['$\\\\omega$$^{(6)}$', 'Std. ($\\\\omega$)$^{(9)}$', 'Mean ($\\\\omega$)$^{(6)}$', 'Max ($\\\\omega$)$^{(9)}$', 'Max ($\\\\omega$)$^{(7)}$', 'Min ($\\\\omega$)$^{(6)}$', 'Mean ($\\\\omega$)$^{(9)}$', 'Min ($\\\\omega$)$^{(5)}$', 'Max ($\\\\omega$)$^{(8)}$', '$\\\\omega$$^{(5)}$']\n"
     ]
    },
    {
     "name": "stderr",
     "output_type": "stream",
     "text": [
      "Trying to unpickle estimator LabelEncoder from version 0.24.2 when using version 1.0.2. This might lead to breaking code or invalid results. Use at your own risk. For more info please refer to:\n",
      "https://scikit-learn.org/stable/modules/model_persistence.html#security-maintainability-limitations\n",
      "LightGBM binary classifier with TreeExplainer shap values output has changed to a list of ndarray\n"
     ]
    },
    {
     "name": "stdout",
     "output_type": "stream",
     "text": [
      "['/data4-4tb/kgreathoo/plots_result_akara/46003874_peak_idx_1_type_test1_TN.png']\n",
      "✅ Image: /data4-4tb/kgreathoo/plots_result_akara/46003874_peak_idx_1_type_test1_TN.png\n",
      "🖼️ Title: 46003874 Peak Index 1 Type Test1 Tn\n",
      "✅ Saved combined PDF: shap_outputs_1_10_new_great/46003874_peak_idx_1_type_test1_TN_96.pdf\n",
      "['/data4-4tb/kgreathoo/plots_result_akara/46023087_peak_idx_1_type_test0_TN.png']\n",
      "['$\\\\omega$$^{(6)}$', 'Std. ($\\\\omega$)$^{(9)}$', 'Mean ($\\\\omega$)$^{(6)}$', 'Max ($\\\\omega$)$^{(9)}$', 'Max ($\\\\omega$)$^{(7)}$', 'Min ($\\\\omega$)$^{(6)}$', 'Mean ($\\\\omega$)$^{(9)}$', 'Min ($\\\\omega$)$^{(5)}$', 'Max ($\\\\omega$)$^{(8)}$', '$\\\\omega$$^{(5)}$']\n"
     ]
    },
    {
     "name": "stderr",
     "output_type": "stream",
     "text": [
      "Trying to unpickle estimator LabelEncoder from version 0.24.2 when using version 1.0.2. This might lead to breaking code or invalid results. Use at your own risk. For more info please refer to:\n",
      "https://scikit-learn.org/stable/modules/model_persistence.html#security-maintainability-limitations\n",
      "LightGBM binary classifier with TreeExplainer shap values output has changed to a list of ndarray\n"
     ]
    },
    {
     "name": "stdout",
     "output_type": "stream",
     "text": [
      "['/data4-4tb/kgreathoo/plots_result_akara/46023087_peak_idx_1_type_test0_TN.png']\n",
      "✅ Image: /data4-4tb/kgreathoo/plots_result_akara/46023087_peak_idx_1_type_test0_TN.png\n",
      "🖼️ Title: 46023087 Peak Index 1 Type Test0 Tn\n",
      "✅ Saved combined PDF: shap_outputs_1_10_new_great/46023087_peak_idx_1_type_test0_TN_96.pdf\n",
      "['/data4-4tb/kgreathoo/plots_result_akara/46152726_peak_idx_1_type_test2_TN.png']\n",
      "['$\\\\omega$$^{(6)}$', 'Std. ($\\\\omega$)$^{(9)}$', 'Mean ($\\\\omega$)$^{(6)}$', 'Max ($\\\\omega$)$^{(9)}$', 'Max ($\\\\omega$)$^{(7)}$', 'Min ($\\\\omega$)$^{(6)}$', 'Mean ($\\\\omega$)$^{(9)}$', 'Min ($\\\\omega$)$^{(5)}$', 'Max ($\\\\omega$)$^{(8)}$', '$\\\\omega$$^{(5)}$']\n"
     ]
    },
    {
     "name": "stderr",
     "output_type": "stream",
     "text": [
      "Trying to unpickle estimator LabelEncoder from version 0.24.2 when using version 1.0.2. This might lead to breaking code or invalid results. Use at your own risk. For more info please refer to:\n",
      "https://scikit-learn.org/stable/modules/model_persistence.html#security-maintainability-limitations\n",
      "LightGBM binary classifier with TreeExplainer shap values output has changed to a list of ndarray\n"
     ]
    },
    {
     "name": "stdout",
     "output_type": "stream",
     "text": [
      "['/data4-4tb/kgreathoo/plots_result_akara/46152726_peak_idx_1_type_test2_TN.png']\n",
      "✅ Image: /data4-4tb/kgreathoo/plots_result_akara/46152726_peak_idx_1_type_test2_TN.png\n",
      "🖼️ Title: 46152726 Peak Index 1 Type Test2 Tn\n",
      "✅ Saved combined PDF: shap_outputs_1_10_new_great/46152726_peak_idx_1_type_test2_TN_96.pdf\n",
      "['/data4-4tb/kgreathoo/plots_result_akara/46501836_peak_idx_1_type_test2_TN.png']\n",
      "['$\\\\omega$$^{(6)}$', 'Std. ($\\\\omega$)$^{(9)}$', 'Mean ($\\\\omega$)$^{(6)}$', 'Max ($\\\\omega$)$^{(9)}$', 'Max ($\\\\omega$)$^{(7)}$', 'Min ($\\\\omega$)$^{(6)}$', 'Mean ($\\\\omega$)$^{(9)}$', 'Min ($\\\\omega$)$^{(5)}$', 'Max ($\\\\omega$)$^{(8)}$', '$\\\\omega$$^{(5)}$']\n"
     ]
    },
    {
     "name": "stderr",
     "output_type": "stream",
     "text": [
      "Trying to unpickle estimator LabelEncoder from version 0.24.2 when using version 1.0.2. This might lead to breaking code or invalid results. Use at your own risk. For more info please refer to:\n",
      "https://scikit-learn.org/stable/modules/model_persistence.html#security-maintainability-limitations\n",
      "LightGBM binary classifier with TreeExplainer shap values output has changed to a list of ndarray\n"
     ]
    },
    {
     "name": "stdout",
     "output_type": "stream",
     "text": [
      "['/data4-4tb/kgreathoo/plots_result_akara/46501836_peak_idx_1_type_test2_TN.png']\n",
      "✅ Image: /data4-4tb/kgreathoo/plots_result_akara/46501836_peak_idx_1_type_test2_TN.png\n",
      "🖼️ Title: 46501836 Peak Index 1 Type Test2 Tn\n",
      "✅ Saved combined PDF: shap_outputs_1_10_new_great/46501836_peak_idx_1_type_test2_TN_96.pdf\n",
      "['/data4-4tb/kgreathoo/plots_result_akara/48104673_peak_idx_1_type_test1_TN.png']\n",
      "['$\\\\omega$$^{(6)}$', 'Std. ($\\\\omega$)$^{(9)}$', 'Mean ($\\\\omega$)$^{(6)}$', 'Max ($\\\\omega$)$^{(9)}$', 'Max ($\\\\omega$)$^{(7)}$', 'Min ($\\\\omega$)$^{(6)}$', 'Mean ($\\\\omega$)$^{(9)}$', 'Min ($\\\\omega$)$^{(5)}$', 'Max ($\\\\omega$)$^{(8)}$', '$\\\\omega$$^{(5)}$']\n"
     ]
    },
    {
     "name": "stderr",
     "output_type": "stream",
     "text": [
      "Trying to unpickle estimator LabelEncoder from version 0.24.2 when using version 1.0.2. This might lead to breaking code or invalid results. Use at your own risk. For more info please refer to:\n",
      "https://scikit-learn.org/stable/modules/model_persistence.html#security-maintainability-limitations\n",
      "LightGBM binary classifier with TreeExplainer shap values output has changed to a list of ndarray\n"
     ]
    },
    {
     "name": "stdout",
     "output_type": "stream",
     "text": [
      "['/data4-4tb/kgreathoo/plots_result_akara/48104673_peak_idx_1_type_test1_TN.png']\n",
      "✅ Image: /data4-4tb/kgreathoo/plots_result_akara/48104673_peak_idx_1_type_test1_TN.png\n",
      "🖼️ Title: 48104673 Peak Index 1 Type Test1 Tn\n",
      "✅ Saved combined PDF: shap_outputs_1_10_new_great/48104673_peak_idx_1_type_test1_TN_96.pdf\n",
      "['/data4-4tb/kgreathoo/plots_result_akara/50186221_peak_idx_1_type_test1_TN.png']\n",
      "['$\\\\omega$$^{(6)}$', 'Std. ($\\\\omega$)$^{(9)}$', 'Mean ($\\\\omega$)$^{(6)}$', 'Max ($\\\\omega$)$^{(9)}$', 'Max ($\\\\omega$)$^{(7)}$', 'Min ($\\\\omega$)$^{(6)}$', 'Mean ($\\\\omega$)$^{(9)}$', 'Min ($\\\\omega$)$^{(5)}$', 'Max ($\\\\omega$)$^{(8)}$', '$\\\\omega$$^{(5)}$']\n"
     ]
    },
    {
     "name": "stderr",
     "output_type": "stream",
     "text": [
      "Trying to unpickle estimator LabelEncoder from version 0.24.2 when using version 1.0.2. This might lead to breaking code or invalid results. Use at your own risk. For more info please refer to:\n",
      "https://scikit-learn.org/stable/modules/model_persistence.html#security-maintainability-limitations\n",
      "LightGBM binary classifier with TreeExplainer shap values output has changed to a list of ndarray\n"
     ]
    },
    {
     "name": "stdout",
     "output_type": "stream",
     "text": [
      "['/data4-4tb/kgreathoo/plots_result_akara/50186221_peak_idx_1_type_test1_TN.png']\n",
      "✅ Image: /data4-4tb/kgreathoo/plots_result_akara/50186221_peak_idx_1_type_test1_TN.png\n",
      "🖼️ Title: 50186221 Peak Index 1 Type Test1 Tn\n",
      "✅ Saved combined PDF: shap_outputs_1_10_new_great/50186221_peak_idx_1_type_test1_TN_96.pdf\n",
      "['/data4-4tb/kgreathoo/plots_result_akara/50279255_peak_idx_8_type_test4_TN.png']\n",
      "['$\\\\omega$$^{(6)}$', 'Std. ($\\\\omega$)$^{(9)}$', 'Mean ($\\\\omega$)$^{(6)}$', 'Max ($\\\\omega$)$^{(9)}$', 'Max ($\\\\omega$)$^{(7)}$', 'Min ($\\\\omega$)$^{(6)}$', 'Mean ($\\\\omega$)$^{(9)}$', 'Min ($\\\\omega$)$^{(5)}$', 'Max ($\\\\omega$)$^{(8)}$', '$\\\\omega$$^{(5)}$']\n"
     ]
    },
    {
     "name": "stderr",
     "output_type": "stream",
     "text": [
      "Trying to unpickle estimator LabelEncoder from version 0.24.2 when using version 1.0.2. This might lead to breaking code or invalid results. Use at your own risk. For more info please refer to:\n",
      "https://scikit-learn.org/stable/modules/model_persistence.html#security-maintainability-limitations\n",
      "LightGBM binary classifier with TreeExplainer shap values output has changed to a list of ndarray\n"
     ]
    },
    {
     "name": "stdout",
     "output_type": "stream",
     "text": [
      "['/data4-4tb/kgreathoo/plots_result_akara/50279255_peak_idx_8_type_test4_TN.png']\n",
      "✅ Image: /data4-4tb/kgreathoo/plots_result_akara/50279255_peak_idx_8_type_test4_TN.png\n",
      "🖼️ Title: 50279255 Peak Index 8 Type Test4 Tn\n",
      "✅ Saved combined PDF: shap_outputs_1_10_new_great/50279255_peak_idx_8_type_test4_TN_96.pdf\n",
      "['/data4-4tb/kgreathoo/plots_result_akara/52531308_peak_idx_8_type_test4_TN.png']\n",
      "['$\\\\omega$$^{(6)}$', 'Std. ($\\\\omega$)$^{(9)}$', 'Mean ($\\\\omega$)$^{(6)}$', 'Max ($\\\\omega$)$^{(9)}$', 'Max ($\\\\omega$)$^{(7)}$', 'Min ($\\\\omega$)$^{(6)}$', 'Mean ($\\\\omega$)$^{(9)}$', 'Min ($\\\\omega$)$^{(5)}$', 'Max ($\\\\omega$)$^{(8)}$', '$\\\\omega$$^{(5)}$']\n"
     ]
    },
    {
     "name": "stderr",
     "output_type": "stream",
     "text": [
      "Trying to unpickle estimator LabelEncoder from version 0.24.2 when using version 1.0.2. This might lead to breaking code or invalid results. Use at your own risk. For more info please refer to:\n",
      "https://scikit-learn.org/stable/modules/model_persistence.html#security-maintainability-limitations\n",
      "LightGBM binary classifier with TreeExplainer shap values output has changed to a list of ndarray\n"
     ]
    },
    {
     "name": "stdout",
     "output_type": "stream",
     "text": [
      "['/data4-4tb/kgreathoo/plots_result_akara/52531308_peak_idx_8_type_test4_TN.png']\n",
      "✅ Image: /data4-4tb/kgreathoo/plots_result_akara/52531308_peak_idx_8_type_test4_TN.png\n",
      "🖼️ Title: 52531308 Peak Index 8 Type Test4 Tn\n",
      "✅ Saved combined PDF: shap_outputs_1_10_new_great/52531308_peak_idx_8_type_test4_TN_96.pdf\n",
      "['/data4-4tb/kgreathoo/plots_result_akara/53851833_peak_idx_1_type_test0_TN.png']\n",
      "['$\\\\omega$$^{(6)}$', 'Std. ($\\\\omega$)$^{(9)}$', 'Mean ($\\\\omega$)$^{(6)}$', 'Max ($\\\\omega$)$^{(9)}$', 'Max ($\\\\omega$)$^{(7)}$', 'Min ($\\\\omega$)$^{(6)}$', 'Mean ($\\\\omega$)$^{(9)}$', 'Min ($\\\\omega$)$^{(5)}$', 'Max ($\\\\omega$)$^{(8)}$', '$\\\\omega$$^{(5)}$']\n"
     ]
    },
    {
     "name": "stderr",
     "output_type": "stream",
     "text": [
      "Trying to unpickle estimator LabelEncoder from version 0.24.2 when using version 1.0.2. This might lead to breaking code or invalid results. Use at your own risk. For more info please refer to:\n",
      "https://scikit-learn.org/stable/modules/model_persistence.html#security-maintainability-limitations\n",
      "LightGBM binary classifier with TreeExplainer shap values output has changed to a list of ndarray\n"
     ]
    },
    {
     "name": "stdout",
     "output_type": "stream",
     "text": [
      "['/data4-4tb/kgreathoo/plots_result_akara/53851833_peak_idx_1_type_test0_TN.png']\n",
      "✅ Image: /data4-4tb/kgreathoo/plots_result_akara/53851833_peak_idx_1_type_test0_TN.png\n",
      "🖼️ Title: 53851833 Peak Index 1 Type Test0 Tn\n",
      "✅ Saved combined PDF: shap_outputs_1_10_new_great/53851833_peak_idx_1_type_test0_TN_96.pdf\n",
      "['/data4-4tb/kgreathoo/plots_result_akara/54197900_peak_idx_1_type_test0_FP.png']\n",
      "['$\\\\omega$$^{(6)}$', 'Std. ($\\\\omega$)$^{(9)}$', 'Mean ($\\\\omega$)$^{(6)}$', 'Max ($\\\\omega$)$^{(9)}$', 'Max ($\\\\omega$)$^{(7)}$', 'Min ($\\\\omega$)$^{(6)}$', 'Mean ($\\\\omega$)$^{(9)}$', 'Min ($\\\\omega$)$^{(5)}$', 'Max ($\\\\omega$)$^{(8)}$', '$\\\\omega$$^{(5)}$']\n"
     ]
    },
    {
     "name": "stderr",
     "output_type": "stream",
     "text": [
      "Trying to unpickle estimator LabelEncoder from version 0.24.2 when using version 1.0.2. This might lead to breaking code or invalid results. Use at your own risk. For more info please refer to:\n",
      "https://scikit-learn.org/stable/modules/model_persistence.html#security-maintainability-limitations\n",
      "LightGBM binary classifier with TreeExplainer shap values output has changed to a list of ndarray\n"
     ]
    },
    {
     "name": "stdout",
     "output_type": "stream",
     "text": [
      "['/data4-4tb/kgreathoo/plots_result_akara/54197900_peak_idx_1_type_test0_FP.png']\n",
      "✅ Image: /data4-4tb/kgreathoo/plots_result_akara/54197900_peak_idx_1_type_test0_FP.png\n",
      "🖼️ Title: 54197900 Peak Index 1 Type Test0 Fp\n",
      "✅ Saved combined PDF: shap_outputs_1_10_new_great/54197900_peak_idx_1_type_test0_FP_96.pdf\n",
      "['/data4-4tb/kgreathoo/plots_result_akara/54232314_peak_idx_1_type_test0_TN.png']\n",
      "['$\\\\omega$$^{(6)}$', 'Std. ($\\\\omega$)$^{(9)}$', 'Mean ($\\\\omega$)$^{(6)}$', 'Max ($\\\\omega$)$^{(9)}$', 'Max ($\\\\omega$)$^{(7)}$', 'Min ($\\\\omega$)$^{(6)}$', 'Mean ($\\\\omega$)$^{(9)}$', 'Min ($\\\\omega$)$^{(5)}$', 'Max ($\\\\omega$)$^{(8)}$', '$\\\\omega$$^{(5)}$']\n"
     ]
    },
    {
     "name": "stderr",
     "output_type": "stream",
     "text": [
      "Trying to unpickle estimator LabelEncoder from version 0.24.2 when using version 1.0.2. This might lead to breaking code or invalid results. Use at your own risk. For more info please refer to:\n",
      "https://scikit-learn.org/stable/modules/model_persistence.html#security-maintainability-limitations\n",
      "LightGBM binary classifier with TreeExplainer shap values output has changed to a list of ndarray\n"
     ]
    },
    {
     "name": "stdout",
     "output_type": "stream",
     "text": [
      "['/data4-4tb/kgreathoo/plots_result_akara/54232314_peak_idx_1_type_test0_TN.png']\n",
      "✅ Image: /data4-4tb/kgreathoo/plots_result_akara/54232314_peak_idx_1_type_test0_TN.png\n",
      "🖼️ Title: 54232314 Peak Index 1 Type Test0 Tn\n",
      "✅ Saved combined PDF: shap_outputs_1_10_new_great/54232314_peak_idx_1_type_test0_TN_96.pdf\n",
      "['/data4-4tb/kgreathoo/plots_result_akara/54265542_peak_idx_1_type_test2_TN.png']\n",
      "['$\\\\omega$$^{(6)}$', 'Std. ($\\\\omega$)$^{(9)}$', 'Mean ($\\\\omega$)$^{(6)}$', 'Max ($\\\\omega$)$^{(9)}$', 'Max ($\\\\omega$)$^{(7)}$', 'Min ($\\\\omega$)$^{(6)}$', 'Mean ($\\\\omega$)$^{(9)}$', 'Min ($\\\\omega$)$^{(5)}$', 'Max ($\\\\omega$)$^{(8)}$', '$\\\\omega$$^{(5)}$']\n"
     ]
    },
    {
     "name": "stderr",
     "output_type": "stream",
     "text": [
      "Trying to unpickle estimator LabelEncoder from version 0.24.2 when using version 1.0.2. This might lead to breaking code or invalid results. Use at your own risk. For more info please refer to:\n",
      "https://scikit-learn.org/stable/modules/model_persistence.html#security-maintainability-limitations\n",
      "LightGBM binary classifier with TreeExplainer shap values output has changed to a list of ndarray\n"
     ]
    },
    {
     "name": "stdout",
     "output_type": "stream",
     "text": [
      "['/data4-4tb/kgreathoo/plots_result_akara/54265542_peak_idx_1_type_test2_TN.png']\n",
      "✅ Image: /data4-4tb/kgreathoo/plots_result_akara/54265542_peak_idx_1_type_test2_TN.png\n",
      "🖼️ Title: 54265542 Peak Index 1 Type Test2 Tn\n",
      "✅ Saved combined PDF: shap_outputs_1_10_new_great/54265542_peak_idx_1_type_test2_TN_96.pdf\n",
      "['/data4-4tb/kgreathoo/plots_result_akara/54273498_peak_idx_1_type_test1_TN.png']\n",
      "['$\\\\omega$$^{(6)}$', 'Std. ($\\\\omega$)$^{(9)}$', 'Mean ($\\\\omega$)$^{(6)}$', 'Max ($\\\\omega$)$^{(9)}$', 'Max ($\\\\omega$)$^{(7)}$', 'Min ($\\\\omega$)$^{(6)}$', 'Mean ($\\\\omega$)$^{(9)}$', 'Min ($\\\\omega$)$^{(5)}$', 'Max ($\\\\omega$)$^{(8)}$', '$\\\\omega$$^{(5)}$']\n"
     ]
    },
    {
     "name": "stderr",
     "output_type": "stream",
     "text": [
      "Trying to unpickle estimator LabelEncoder from version 0.24.2 when using version 1.0.2. This might lead to breaking code or invalid results. Use at your own risk. For more info please refer to:\n",
      "https://scikit-learn.org/stable/modules/model_persistence.html#security-maintainability-limitations\n",
      "LightGBM binary classifier with TreeExplainer shap values output has changed to a list of ndarray\n"
     ]
    },
    {
     "name": "stdout",
     "output_type": "stream",
     "text": [
      "['/data4-4tb/kgreathoo/plots_result_akara/54273498_peak_idx_1_type_test1_TN.png']\n",
      "✅ Image: /data4-4tb/kgreathoo/plots_result_akara/54273498_peak_idx_1_type_test1_TN.png\n",
      "🖼️ Title: 54273498 Peak Index 1 Type Test1 Tn\n",
      "✅ Saved combined PDF: shap_outputs_1_10_new_great/54273498_peak_idx_1_type_test1_TN_96.pdf\n",
      "['/data4-4tb/kgreathoo/plots_result_akara/54277930_peak_idx_10_type_test3_TN.png']\n",
      "['$\\\\omega$$^{(6)}$', 'Std. ($\\\\omega$)$^{(9)}$', 'Mean ($\\\\omega$)$^{(6)}$', 'Max ($\\\\omega$)$^{(9)}$', 'Max ($\\\\omega$)$^{(7)}$', 'Min ($\\\\omega$)$^{(6)}$', 'Mean ($\\\\omega$)$^{(9)}$', 'Min ($\\\\omega$)$^{(5)}$', 'Max ($\\\\omega$)$^{(8)}$', '$\\\\omega$$^{(5)}$']\n"
     ]
    },
    {
     "name": "stderr",
     "output_type": "stream",
     "text": [
      "Trying to unpickle estimator LabelEncoder from version 0.24.2 when using version 1.0.2. This might lead to breaking code or invalid results. Use at your own risk. For more info please refer to:\n",
      "https://scikit-learn.org/stable/modules/model_persistence.html#security-maintainability-limitations\n",
      "LightGBM binary classifier with TreeExplainer shap values output has changed to a list of ndarray\n"
     ]
    },
    {
     "name": "stdout",
     "output_type": "stream",
     "text": [
      "['/data4-4tb/kgreathoo/plots_result_akara/54277930_peak_idx_10_type_test3_TN.png']\n",
      "✅ Image: /data4-4tb/kgreathoo/plots_result_akara/54277930_peak_idx_10_type_test3_TN.png\n",
      "🖼️ Title: 54277930 Peak Index 10 Type Test3 Tn\n",
      "✅ Saved combined PDF: shap_outputs_1_10_new_great/54277930_peak_idx_10_type_test3_TN_96.pdf\n",
      "['/data4-4tb/kgreathoo/plots_result_akara/54278767_peak_idx_2_type_test1_TN.png']\n",
      "['$\\\\omega$$^{(6)}$', 'Std. ($\\\\omega$)$^{(9)}$', 'Mean ($\\\\omega$)$^{(6)}$', 'Max ($\\\\omega$)$^{(9)}$', 'Max ($\\\\omega$)$^{(7)}$', 'Min ($\\\\omega$)$^{(6)}$', 'Mean ($\\\\omega$)$^{(9)}$', 'Min ($\\\\omega$)$^{(5)}$', 'Max ($\\\\omega$)$^{(8)}$', '$\\\\omega$$^{(5)}$']\n"
     ]
    },
    {
     "name": "stderr",
     "output_type": "stream",
     "text": [
      "Trying to unpickle estimator LabelEncoder from version 0.24.2 when using version 1.0.2. This might lead to breaking code or invalid results. Use at your own risk. For more info please refer to:\n",
      "https://scikit-learn.org/stable/modules/model_persistence.html#security-maintainability-limitations\n",
      "LightGBM binary classifier with TreeExplainer shap values output has changed to a list of ndarray\n"
     ]
    },
    {
     "name": "stdout",
     "output_type": "stream",
     "text": [
      "['/data4-4tb/kgreathoo/plots_result_akara/54278767_peak_idx_2_type_test1_TN.png']\n",
      "✅ Image: /data4-4tb/kgreathoo/plots_result_akara/54278767_peak_idx_2_type_test1_TN.png\n",
      "🖼️ Title: 54278767 Peak Index 2 Type Test1 Tn\n",
      "✅ Saved combined PDF: shap_outputs_1_10_new_great/54278767_peak_idx_2_type_test1_TN_96.pdf\n",
      "['/data4-4tb/kgreathoo/plots_result_akara/38004023_peak_idx_1_type_test4_FP.png']\n",
      "['$\\\\omega$$^{(6)}$', 'Std. ($\\\\omega$)$^{(9)}$', 'Mean ($\\\\omega$)$^{(6)}$', 'Max ($\\\\omega$)$^{(9)}$', 'Max ($\\\\omega$)$^{(7)}$', 'Min ($\\\\omega$)$^{(6)}$', 'Mean ($\\\\omega$)$^{(9)}$', 'Min ($\\\\omega$)$^{(5)}$', 'Max ($\\\\omega$)$^{(8)}$', '$\\\\omega$$^{(5)}$']\n"
     ]
    },
    {
     "name": "stderr",
     "output_type": "stream",
     "text": [
      "Trying to unpickle estimator LabelEncoder from version 0.24.2 when using version 1.0.2. This might lead to breaking code or invalid results. Use at your own risk. For more info please refer to:\n",
      "https://scikit-learn.org/stable/modules/model_persistence.html#security-maintainability-limitations\n",
      "LightGBM binary classifier with TreeExplainer shap values output has changed to a list of ndarray\n"
     ]
    },
    {
     "name": "stdout",
     "output_type": "stream",
     "text": [
      "['/data4-4tb/kgreathoo/plots_result_akara/38004023_peak_idx_1_type_test4_FP.png']\n",
      "✅ Image: /data4-4tb/kgreathoo/plots_result_akara/38004023_peak_idx_1_type_test4_FP.png\n",
      "🖼️ Title: 38004023 Peak Index 1 Type Test4 Fp\n",
      "✅ Saved combined PDF: shap_outputs_1_10_new_great/38004023_peak_idx_1_type_test4_FP_96.pdf\n",
      "['/data4-4tb/kgreathoo/plots_result_akara/41128291_peak_idx_1_type_test0_TN.png']\n",
      "['$\\\\omega$$^{(6)}$', 'Std. ($\\\\omega$)$^{(9)}$', 'Mean ($\\\\omega$)$^{(6)}$', 'Max ($\\\\omega$)$^{(9)}$', 'Max ($\\\\omega$)$^{(7)}$', 'Min ($\\\\omega$)$^{(6)}$', 'Mean ($\\\\omega$)$^{(9)}$', 'Min ($\\\\omega$)$^{(5)}$', 'Max ($\\\\omega$)$^{(8)}$', '$\\\\omega$$^{(5)}$']\n"
     ]
    },
    {
     "name": "stderr",
     "output_type": "stream",
     "text": [
      "Trying to unpickle estimator LabelEncoder from version 0.24.2 when using version 1.0.2. This might lead to breaking code or invalid results. Use at your own risk. For more info please refer to:\n",
      "https://scikit-learn.org/stable/modules/model_persistence.html#security-maintainability-limitations\n",
      "LightGBM binary classifier with TreeExplainer shap values output has changed to a list of ndarray\n"
     ]
    },
    {
     "name": "stdout",
     "output_type": "stream",
     "text": [
      "['/data4-4tb/kgreathoo/plots_result_akara/41128291_peak_idx_1_type_test0_TN.png']\n",
      "✅ Image: /data4-4tb/kgreathoo/plots_result_akara/41128291_peak_idx_1_type_test0_TN.png\n",
      "🖼️ Title: 41128291 Peak Index 1 Type Test0 Tn\n",
      "✅ Saved combined PDF: shap_outputs_1_10_new_great/41128291_peak_idx_1_type_test0_TN_96.pdf\n",
      "['/data4-4tb/kgreathoo/plots_result_akara/42204536_peak_idx_1_type_test2_TN.png']\n",
      "['$\\\\omega$$^{(6)}$', 'Std. ($\\\\omega$)$^{(9)}$', 'Mean ($\\\\omega$)$^{(6)}$', 'Max ($\\\\omega$)$^{(9)}$', 'Max ($\\\\omega$)$^{(7)}$', 'Min ($\\\\omega$)$^{(6)}$', 'Mean ($\\\\omega$)$^{(9)}$', 'Min ($\\\\omega$)$^{(5)}$', 'Max ($\\\\omega$)$^{(8)}$', '$\\\\omega$$^{(5)}$']\n"
     ]
    },
    {
     "name": "stderr",
     "output_type": "stream",
     "text": [
      "Trying to unpickle estimator LabelEncoder from version 0.24.2 when using version 1.0.2. This might lead to breaking code or invalid results. Use at your own risk. For more info please refer to:\n",
      "https://scikit-learn.org/stable/modules/model_persistence.html#security-maintainability-limitations\n",
      "LightGBM binary classifier with TreeExplainer shap values output has changed to a list of ndarray\n"
     ]
    },
    {
     "name": "stdout",
     "output_type": "stream",
     "text": [
      "['/data4-4tb/kgreathoo/plots_result_akara/42204536_peak_idx_1_type_test2_TN.png']\n",
      "✅ Image: /data4-4tb/kgreathoo/plots_result_akara/42204536_peak_idx_1_type_test2_TN.png\n",
      "🖼️ Title: 42204536 Peak Index 1 Type Test2 Tn\n",
      "✅ Saved combined PDF: shap_outputs_1_10_new_great/42204536_peak_idx_1_type_test2_TN_96.pdf\n",
      "['/data4-4tb/kgreathoo/plots_result_akara/44096626_peak_idx_1_type_test2_TN.png']\n",
      "['$\\\\omega$$^{(6)}$', 'Std. ($\\\\omega$)$^{(9)}$', 'Mean ($\\\\omega$)$^{(6)}$', 'Max ($\\\\omega$)$^{(9)}$', 'Max ($\\\\omega$)$^{(7)}$', 'Min ($\\\\omega$)$^{(6)}$', 'Mean ($\\\\omega$)$^{(9)}$', 'Min ($\\\\omega$)$^{(5)}$', 'Max ($\\\\omega$)$^{(8)}$', '$\\\\omega$$^{(5)}$']\n"
     ]
    },
    {
     "name": "stderr",
     "output_type": "stream",
     "text": [
      "Trying to unpickle estimator LabelEncoder from version 0.24.2 when using version 1.0.2. This might lead to breaking code or invalid results. Use at your own risk. For more info please refer to:\n",
      "https://scikit-learn.org/stable/modules/model_persistence.html#security-maintainability-limitations\n",
      "LightGBM binary classifier with TreeExplainer shap values output has changed to a list of ndarray\n"
     ]
    },
    {
     "name": "stdout",
     "output_type": "stream",
     "text": [
      "['/data4-4tb/kgreathoo/plots_result_akara/44096626_peak_idx_1_type_test2_TN.png']\n",
      "✅ Image: /data4-4tb/kgreathoo/plots_result_akara/44096626_peak_idx_1_type_test2_TN.png\n",
      "🖼️ Title: 44096626 Peak Index 1 Type Test2 Tn\n",
      "✅ Saved combined PDF: shap_outputs_1_10_new_great/44096626_peak_idx_1_type_test2_TN_96.pdf\n",
      "['/data4-4tb/kgreathoo/plots_result_akara/44119324_peak_idx_8_type_test4_TN.png']\n",
      "['$\\\\omega$$^{(6)}$', 'Std. ($\\\\omega$)$^{(9)}$', 'Mean ($\\\\omega$)$^{(6)}$', 'Max ($\\\\omega$)$^{(9)}$', 'Max ($\\\\omega$)$^{(7)}$', 'Min ($\\\\omega$)$^{(6)}$', 'Mean ($\\\\omega$)$^{(9)}$', 'Min ($\\\\omega$)$^{(5)}$', 'Max ($\\\\omega$)$^{(8)}$', '$\\\\omega$$^{(5)}$']\n"
     ]
    },
    {
     "name": "stderr",
     "output_type": "stream",
     "text": [
      "Trying to unpickle estimator LabelEncoder from version 0.24.2 when using version 1.0.2. This might lead to breaking code or invalid results. Use at your own risk. For more info please refer to:\n",
      "https://scikit-learn.org/stable/modules/model_persistence.html#security-maintainability-limitations\n",
      "LightGBM binary classifier with TreeExplainer shap values output has changed to a list of ndarray\n"
     ]
    },
    {
     "name": "stdout",
     "output_type": "stream",
     "text": [
      "['/data4-4tb/kgreathoo/plots_result_akara/44119324_peak_idx_8_type_test4_TN.png']\n",
      "✅ Image: /data4-4tb/kgreathoo/plots_result_akara/44119324_peak_idx_8_type_test4_TN.png\n",
      "🖼️ Title: 44119324 Peak Index 8 Type Test4 Tn\n",
      "✅ Saved combined PDF: shap_outputs_1_10_new_great/44119324_peak_idx_8_type_test4_TN_96.pdf\n",
      "['/data4-4tb/kgreathoo/plots_result_akara/45064706_peak_idx_8_type_test4_TN.png']\n",
      "['$\\\\omega$$^{(6)}$', 'Std. ($\\\\omega$)$^{(9)}$', 'Mean ($\\\\omega$)$^{(6)}$', 'Max ($\\\\omega$)$^{(9)}$', 'Max ($\\\\omega$)$^{(7)}$', 'Min ($\\\\omega$)$^{(6)}$', 'Mean ($\\\\omega$)$^{(9)}$', 'Min ($\\\\omega$)$^{(5)}$', 'Max ($\\\\omega$)$^{(8)}$', '$\\\\omega$$^{(5)}$']\n"
     ]
    },
    {
     "name": "stderr",
     "output_type": "stream",
     "text": [
      "Trying to unpickle estimator LabelEncoder from version 0.24.2 when using version 1.0.2. This might lead to breaking code or invalid results. Use at your own risk. For more info please refer to:\n",
      "https://scikit-learn.org/stable/modules/model_persistence.html#security-maintainability-limitations\n",
      "LightGBM binary classifier with TreeExplainer shap values output has changed to a list of ndarray\n"
     ]
    },
    {
     "name": "stdout",
     "output_type": "stream",
     "text": [
      "['/data4-4tb/kgreathoo/plots_result_akara/45064706_peak_idx_8_type_test4_TN.png']\n",
      "✅ Image: /data4-4tb/kgreathoo/plots_result_akara/45064706_peak_idx_8_type_test4_TN.png\n",
      "🖼️ Title: 45064706 Peak Index 8 Type Test4 Tn\n",
      "✅ Saved combined PDF: shap_outputs_1_10_new_great/45064706_peak_idx_8_type_test4_TN_96.pdf\n",
      "['/data4-4tb/kgreathoo/plots_result_akara/46103991_peak_idx_1_type_test1_TN.png']\n",
      "['$\\\\omega$$^{(6)}$', 'Std. ($\\\\omega$)$^{(9)}$', 'Mean ($\\\\omega$)$^{(6)}$', 'Max ($\\\\omega$)$^{(9)}$', 'Max ($\\\\omega$)$^{(7)}$', 'Min ($\\\\omega$)$^{(6)}$', 'Mean ($\\\\omega$)$^{(9)}$', 'Min ($\\\\omega$)$^{(5)}$', 'Max ($\\\\omega$)$^{(8)}$', '$\\\\omega$$^{(5)}$']\n"
     ]
    },
    {
     "name": "stderr",
     "output_type": "stream",
     "text": [
      "Trying to unpickle estimator LabelEncoder from version 0.24.2 when using version 1.0.2. This might lead to breaking code or invalid results. Use at your own risk. For more info please refer to:\n",
      "https://scikit-learn.org/stable/modules/model_persistence.html#security-maintainability-limitations\n",
      "LightGBM binary classifier with TreeExplainer shap values output has changed to a list of ndarray\n"
     ]
    },
    {
     "name": "stdout",
     "output_type": "stream",
     "text": [
      "['/data4-4tb/kgreathoo/plots_result_akara/46103991_peak_idx_1_type_test1_TN.png']\n",
      "✅ Image: /data4-4tb/kgreathoo/plots_result_akara/46103991_peak_idx_1_type_test1_TN.png\n",
      "🖼️ Title: 46103991 Peak Index 1 Type Test1 Tn\n",
      "✅ Saved combined PDF: shap_outputs_1_10_new_great/46103991_peak_idx_1_type_test1_TN_96.pdf\n",
      "['/data4-4tb/kgreathoo/plots_result_akara/47154825_peak_idx_1_type_test3_TN.png']\n",
      "['$\\\\omega$$^{(6)}$', 'Std. ($\\\\omega$)$^{(9)}$', 'Mean ($\\\\omega$)$^{(6)}$', 'Max ($\\\\omega$)$^{(9)}$', 'Max ($\\\\omega$)$^{(7)}$', 'Min ($\\\\omega$)$^{(6)}$', 'Mean ($\\\\omega$)$^{(9)}$', 'Min ($\\\\omega$)$^{(5)}$', 'Max ($\\\\omega$)$^{(8)}$', '$\\\\omega$$^{(5)}$']\n"
     ]
    },
    {
     "name": "stderr",
     "output_type": "stream",
     "text": [
      "Trying to unpickle estimator LabelEncoder from version 0.24.2 when using version 1.0.2. This might lead to breaking code or invalid results. Use at your own risk. For more info please refer to:\n",
      "https://scikit-learn.org/stable/modules/model_persistence.html#security-maintainability-limitations\n",
      "LightGBM binary classifier with TreeExplainer shap values output has changed to a list of ndarray\n"
     ]
    },
    {
     "name": "stdout",
     "output_type": "stream",
     "text": [
      "['/data4-4tb/kgreathoo/plots_result_akara/47154825_peak_idx_1_type_test3_TN.png']\n",
      "✅ Image: /data4-4tb/kgreathoo/plots_result_akara/47154825_peak_idx_1_type_test3_TN.png\n",
      "🖼️ Title: 47154825 Peak Index 1 Type Test3 Tn\n",
      "✅ Saved combined PDF: shap_outputs_1_10_new_great/47154825_peak_idx_1_type_test3_TN_96.pdf\n",
      "['/data4-4tb/kgreathoo/plots_result_akara/48237608_peak_idx_1_type_test2_TN.png']\n",
      "['$\\\\omega$$^{(6)}$', 'Std. ($\\\\omega$)$^{(9)}$', 'Mean ($\\\\omega$)$^{(6)}$', 'Max ($\\\\omega$)$^{(9)}$', 'Max ($\\\\omega$)$^{(7)}$', 'Min ($\\\\omega$)$^{(6)}$', 'Mean ($\\\\omega$)$^{(9)}$', 'Min ($\\\\omega$)$^{(5)}$', 'Max ($\\\\omega$)$^{(8)}$', '$\\\\omega$$^{(5)}$']\n"
     ]
    },
    {
     "name": "stderr",
     "output_type": "stream",
     "text": [
      "Trying to unpickle estimator LabelEncoder from version 0.24.2 when using version 1.0.2. This might lead to breaking code or invalid results. Use at your own risk. For more info please refer to:\n",
      "https://scikit-learn.org/stable/modules/model_persistence.html#security-maintainability-limitations\n",
      "LightGBM binary classifier with TreeExplainer shap values output has changed to a list of ndarray\n"
     ]
    },
    {
     "name": "stdout",
     "output_type": "stream",
     "text": [
      "['/data4-4tb/kgreathoo/plots_result_akara/48237608_peak_idx_1_type_test2_TN.png']\n",
      "✅ Image: /data4-4tb/kgreathoo/plots_result_akara/48237608_peak_idx_1_type_test2_TN.png\n",
      "🖼️ Title: 48237608 Peak Index 1 Type Test2 Tn\n",
      "✅ Saved combined PDF: shap_outputs_1_10_new_great/48237608_peak_idx_1_type_test2_TN_96.pdf\n",
      "['/data4-4tb/kgreathoo/plots_result_akara/52501006_peak_idx_10_type_test2_TN.png']\n",
      "['$\\\\omega$$^{(6)}$', 'Std. ($\\\\omega$)$^{(9)}$', 'Mean ($\\\\omega$)$^{(6)}$', 'Max ($\\\\omega$)$^{(9)}$', 'Max ($\\\\omega$)$^{(7)}$', 'Min ($\\\\omega$)$^{(6)}$', 'Mean ($\\\\omega$)$^{(9)}$', 'Min ($\\\\omega$)$^{(5)}$', 'Max ($\\\\omega$)$^{(8)}$', '$\\\\omega$$^{(5)}$']\n"
     ]
    },
    {
     "name": "stderr",
     "output_type": "stream",
     "text": [
      "Trying to unpickle estimator LabelEncoder from version 0.24.2 when using version 1.0.2. This might lead to breaking code or invalid results. Use at your own risk. For more info please refer to:\n",
      "https://scikit-learn.org/stable/modules/model_persistence.html#security-maintainability-limitations\n",
      "LightGBM binary classifier with TreeExplainer shap values output has changed to a list of ndarray\n"
     ]
    },
    {
     "name": "stdout",
     "output_type": "stream",
     "text": [
      "['/data4-4tb/kgreathoo/plots_result_akara/52501006_peak_idx_10_type_test2_TN.png']\n",
      "✅ Image: /data4-4tb/kgreathoo/plots_result_akara/52501006_peak_idx_10_type_test2_TN.png\n",
      "🖼️ Title: 52501006 Peak Index 10 Type Test2 Tn\n",
      "✅ Saved combined PDF: shap_outputs_1_10_new_great/52501006_peak_idx_10_type_test2_TN_96.pdf\n",
      "['/data4-4tb/kgreathoo/plots_result_akara/52517040_peak_idx_1_type_test4_TN.png']\n",
      "['$\\\\omega$$^{(6)}$', 'Std. ($\\\\omega$)$^{(9)}$', 'Mean ($\\\\omega$)$^{(6)}$', 'Max ($\\\\omega$)$^{(9)}$', 'Max ($\\\\omega$)$^{(7)}$', 'Min ($\\\\omega$)$^{(6)}$', 'Mean ($\\\\omega$)$^{(9)}$', 'Min ($\\\\omega$)$^{(5)}$', 'Max ($\\\\omega$)$^{(8)}$', '$\\\\omega$$^{(5)}$']\n"
     ]
    },
    {
     "name": "stderr",
     "output_type": "stream",
     "text": [
      "Trying to unpickle estimator LabelEncoder from version 0.24.2 when using version 1.0.2. This might lead to breaking code or invalid results. Use at your own risk. For more info please refer to:\n",
      "https://scikit-learn.org/stable/modules/model_persistence.html#security-maintainability-limitations\n",
      "LightGBM binary classifier with TreeExplainer shap values output has changed to a list of ndarray\n"
     ]
    },
    {
     "name": "stdout",
     "output_type": "stream",
     "text": [
      "['/data4-4tb/kgreathoo/plots_result_akara/52517040_peak_idx_1_type_test4_TN.png']\n",
      "✅ Image: /data4-4tb/kgreathoo/plots_result_akara/52517040_peak_idx_1_type_test4_TN.png\n",
      "🖼️ Title: 52517040 Peak Index 1 Type Test4 Tn\n",
      "✅ Saved combined PDF: shap_outputs_1_10_new_great/52517040_peak_idx_1_type_test4_TN_96.pdf\n",
      "['/data4-4tb/kgreathoo/plots_result_akara/52736341_peak_idx_10_type_test1_FP.png']\n",
      "['$\\\\omega$$^{(6)}$', 'Std. ($\\\\omega$)$^{(9)}$', 'Mean ($\\\\omega$)$^{(6)}$', 'Max ($\\\\omega$)$^{(9)}$', 'Max ($\\\\omega$)$^{(7)}$', 'Min ($\\\\omega$)$^{(6)}$', 'Mean ($\\\\omega$)$^{(9)}$', 'Min ($\\\\omega$)$^{(5)}$', 'Max ($\\\\omega$)$^{(8)}$', '$\\\\omega$$^{(5)}$']\n"
     ]
    },
    {
     "name": "stderr",
     "output_type": "stream",
     "text": [
      "Trying to unpickle estimator LabelEncoder from version 0.24.2 when using version 1.0.2. This might lead to breaking code or invalid results. Use at your own risk. For more info please refer to:\n",
      "https://scikit-learn.org/stable/modules/model_persistence.html#security-maintainability-limitations\n",
      "LightGBM binary classifier with TreeExplainer shap values output has changed to a list of ndarray\n"
     ]
    },
    {
     "name": "stdout",
     "output_type": "stream",
     "text": [
      "['/data4-4tb/kgreathoo/plots_result_akara/52736341_peak_idx_10_type_test1_FP.png']\n",
      "✅ Image: /data4-4tb/kgreathoo/plots_result_akara/52736341_peak_idx_10_type_test1_FP.png\n",
      "🖼️ Title: 52736341 Peak Index 10 Type Test1 Fp\n",
      "✅ Saved combined PDF: shap_outputs_1_10_new_great/52736341_peak_idx_10_type_test1_FP_96.pdf\n",
      "['/data4-4tb/kgreathoo/plots_result_akara/53076338_peak_idx_9_type_test2_TN.png']\n",
      "['$\\\\omega$$^{(6)}$', 'Std. ($\\\\omega$)$^{(9)}$', 'Mean ($\\\\omega$)$^{(6)}$', 'Max ($\\\\omega$)$^{(9)}$', 'Max ($\\\\omega$)$^{(7)}$', 'Min ($\\\\omega$)$^{(6)}$', 'Mean ($\\\\omega$)$^{(9)}$', 'Min ($\\\\omega$)$^{(5)}$', 'Max ($\\\\omega$)$^{(8)}$', '$\\\\omega$$^{(5)}$']\n"
     ]
    },
    {
     "name": "stderr",
     "output_type": "stream",
     "text": [
      "Trying to unpickle estimator LabelEncoder from version 0.24.2 when using version 1.0.2. This might lead to breaking code or invalid results. Use at your own risk. For more info please refer to:\n",
      "https://scikit-learn.org/stable/modules/model_persistence.html#security-maintainability-limitations\n",
      "LightGBM binary classifier with TreeExplainer shap values output has changed to a list of ndarray\n"
     ]
    },
    {
     "name": "stdout",
     "output_type": "stream",
     "text": [
      "['/data4-4tb/kgreathoo/plots_result_akara/53076338_peak_idx_9_type_test2_TN.png']\n",
      "✅ Image: /data4-4tb/kgreathoo/plots_result_akara/53076338_peak_idx_9_type_test2_TN.png\n",
      "🖼️ Title: 53076338 Peak Index 9 Type Test2 Tn\n",
      "✅ Saved combined PDF: shap_outputs_1_10_new_great/53076338_peak_idx_9_type_test2_TN_96.pdf\n",
      "['/data4-4tb/kgreathoo/plots_result_akara/53357116_peak_idx_1_type_test1_TN.png']\n",
      "['$\\\\omega$$^{(6)}$', 'Std. ($\\\\omega$)$^{(9)}$', 'Mean ($\\\\omega$)$^{(6)}$', 'Max ($\\\\omega$)$^{(9)}$', 'Max ($\\\\omega$)$^{(7)}$', 'Min ($\\\\omega$)$^{(6)}$', 'Mean ($\\\\omega$)$^{(9)}$', 'Min ($\\\\omega$)$^{(5)}$', 'Max ($\\\\omega$)$^{(8)}$', '$\\\\omega$$^{(5)}$']\n"
     ]
    },
    {
     "name": "stderr",
     "output_type": "stream",
     "text": [
      "Trying to unpickle estimator LabelEncoder from version 0.24.2 when using version 1.0.2. This might lead to breaking code or invalid results. Use at your own risk. For more info please refer to:\n",
      "https://scikit-learn.org/stable/modules/model_persistence.html#security-maintainability-limitations\n",
      "LightGBM binary classifier with TreeExplainer shap values output has changed to a list of ndarray\n"
     ]
    },
    {
     "name": "stdout",
     "output_type": "stream",
     "text": [
      "['/data4-4tb/kgreathoo/plots_result_akara/53357116_peak_idx_1_type_test1_TN.png']\n",
      "✅ Image: /data4-4tb/kgreathoo/plots_result_akara/53357116_peak_idx_1_type_test1_TN.png\n",
      "🖼️ Title: 53357116 Peak Index 1 Type Test1 Tn\n",
      "✅ Saved combined PDF: shap_outputs_1_10_new_great/53357116_peak_idx_1_type_test1_TN_96.pdf\n",
      "['/data4-4tb/kgreathoo/plots_result_akara/53630522_peak_idx_9_type_test4_FP.png']\n",
      "['$\\\\omega$$^{(6)}$', 'Std. ($\\\\omega$)$^{(9)}$', 'Mean ($\\\\omega$)$^{(6)}$', 'Max ($\\\\omega$)$^{(9)}$', 'Max ($\\\\omega$)$^{(7)}$', 'Min ($\\\\omega$)$^{(6)}$', 'Mean ($\\\\omega$)$^{(9)}$', 'Min ($\\\\omega$)$^{(5)}$', 'Max ($\\\\omega$)$^{(8)}$', '$\\\\omega$$^{(5)}$']\n"
     ]
    },
    {
     "name": "stderr",
     "output_type": "stream",
     "text": [
      "Trying to unpickle estimator LabelEncoder from version 0.24.2 when using version 1.0.2. This might lead to breaking code or invalid results. Use at your own risk. For more info please refer to:\n",
      "https://scikit-learn.org/stable/modules/model_persistence.html#security-maintainability-limitations\n",
      "LightGBM binary classifier with TreeExplainer shap values output has changed to a list of ndarray\n"
     ]
    },
    {
     "name": "stdout",
     "output_type": "stream",
     "text": [
      "['/data4-4tb/kgreathoo/plots_result_akara/53630522_peak_idx_9_type_test4_FP.png']\n",
      "✅ Image: /data4-4tb/kgreathoo/plots_result_akara/53630522_peak_idx_9_type_test4_FP.png\n",
      "🖼️ Title: 53630522 Peak Index 9 Type Test4 Fp\n",
      "✅ Saved combined PDF: shap_outputs_1_10_new_great/53630522_peak_idx_9_type_test4_FP_96.pdf\n",
      "['/data4-4tb/kgreathoo/plots_result_akara/54071082_peak_idx_10_type_test2_TN.png']\n",
      "['$\\\\omega$$^{(6)}$', 'Std. ($\\\\omega$)$^{(9)}$', 'Mean ($\\\\omega$)$^{(6)}$', 'Max ($\\\\omega$)$^{(9)}$', 'Max ($\\\\omega$)$^{(7)}$', 'Min ($\\\\omega$)$^{(6)}$', 'Mean ($\\\\omega$)$^{(9)}$', 'Min ($\\\\omega$)$^{(5)}$', 'Max ($\\\\omega$)$^{(8)}$', '$\\\\omega$$^{(5)}$']\n"
     ]
    },
    {
     "name": "stderr",
     "output_type": "stream",
     "text": [
      "Trying to unpickle estimator LabelEncoder from version 0.24.2 when using version 1.0.2. This might lead to breaking code or invalid results. Use at your own risk. For more info please refer to:\n",
      "https://scikit-learn.org/stable/modules/model_persistence.html#security-maintainability-limitations\n",
      "LightGBM binary classifier with TreeExplainer shap values output has changed to a list of ndarray\n"
     ]
    },
    {
     "name": "stdout",
     "output_type": "stream",
     "text": [
      "['/data4-4tb/kgreathoo/plots_result_akara/54071082_peak_idx_10_type_test2_TN.png']\n",
      "✅ Image: /data4-4tb/kgreathoo/plots_result_akara/54071082_peak_idx_10_type_test2_TN.png\n",
      "🖼️ Title: 54071082 Peak Index 10 Type Test2 Tn\n",
      "✅ Saved combined PDF: shap_outputs_1_10_new_great/54071082_peak_idx_10_type_test2_TN_96.pdf\n",
      "['/data4-4tb/kgreathoo/plots_result_akara/54164431_peak_idx_1_type_test0_TN.png']\n",
      "['$\\\\omega$$^{(6)}$', 'Std. ($\\\\omega$)$^{(9)}$', 'Mean ($\\\\omega$)$^{(6)}$', 'Max ($\\\\omega$)$^{(9)}$', 'Max ($\\\\omega$)$^{(7)}$', 'Min ($\\\\omega$)$^{(6)}$', 'Mean ($\\\\omega$)$^{(9)}$', 'Min ($\\\\omega$)$^{(5)}$', 'Max ($\\\\omega$)$^{(8)}$', '$\\\\omega$$^{(5)}$']\n"
     ]
    },
    {
     "name": "stderr",
     "output_type": "stream",
     "text": [
      "Trying to unpickle estimator LabelEncoder from version 0.24.2 when using version 1.0.2. This might lead to breaking code or invalid results. Use at your own risk. For more info please refer to:\n",
      "https://scikit-learn.org/stable/modules/model_persistence.html#security-maintainability-limitations\n",
      "LightGBM binary classifier with TreeExplainer shap values output has changed to a list of ndarray\n"
     ]
    },
    {
     "name": "stdout",
     "output_type": "stream",
     "text": [
      "['/data4-4tb/kgreathoo/plots_result_akara/54164431_peak_idx_1_type_test0_TN.png']\n",
      "✅ Image: /data4-4tb/kgreathoo/plots_result_akara/54164431_peak_idx_1_type_test0_TN.png\n",
      "🖼️ Title: 54164431 Peak Index 1 Type Test0 Tn\n",
      "✅ Saved combined PDF: shap_outputs_1_10_new_great/54164431_peak_idx_1_type_test0_TN_96.pdf\n",
      "['/data4-4tb/kgreathoo/plots_result_akara/54206772_peak_idx_1_type_test0_TN.png']\n",
      "['$\\\\omega$$^{(6)}$', 'Std. ($\\\\omega$)$^{(9)}$', 'Mean ($\\\\omega$)$^{(6)}$', 'Max ($\\\\omega$)$^{(9)}$', 'Max ($\\\\omega$)$^{(7)}$', 'Min ($\\\\omega$)$^{(6)}$', 'Mean ($\\\\omega$)$^{(9)}$', 'Min ($\\\\omega$)$^{(5)}$', 'Max ($\\\\omega$)$^{(8)}$', '$\\\\omega$$^{(5)}$']\n"
     ]
    },
    {
     "name": "stderr",
     "output_type": "stream",
     "text": [
      "Trying to unpickle estimator LabelEncoder from version 0.24.2 when using version 1.0.2. This might lead to breaking code or invalid results. Use at your own risk. For more info please refer to:\n",
      "https://scikit-learn.org/stable/modules/model_persistence.html#security-maintainability-limitations\n",
      "LightGBM binary classifier with TreeExplainer shap values output has changed to a list of ndarray\n"
     ]
    },
    {
     "name": "stdout",
     "output_type": "stream",
     "text": [
      "['/data4-4tb/kgreathoo/plots_result_akara/54206772_peak_idx_1_type_test0_TN.png']\n",
      "✅ Image: /data4-4tb/kgreathoo/plots_result_akara/54206772_peak_idx_1_type_test0_TN.png\n",
      "🖼️ Title: 54206772 Peak Index 1 Type Test0 Tn\n",
      "✅ Saved combined PDF: shap_outputs_1_10_new_great/54206772_peak_idx_1_type_test0_TN_96.pdf\n",
      "['/data4-4tb/kgreathoo/plots_result_akara/54263191_peak_idx_2_type_test4_TN.png']\n",
      "['$\\\\omega$$^{(6)}$', 'Std. ($\\\\omega$)$^{(9)}$', 'Mean ($\\\\omega$)$^{(6)}$', 'Max ($\\\\omega$)$^{(9)}$', 'Max ($\\\\omega$)$^{(7)}$', 'Min ($\\\\omega$)$^{(6)}$', 'Mean ($\\\\omega$)$^{(9)}$', 'Min ($\\\\omega$)$^{(5)}$', 'Max ($\\\\omega$)$^{(8)}$', '$\\\\omega$$^{(5)}$']\n"
     ]
    },
    {
     "name": "stderr",
     "output_type": "stream",
     "text": [
      "Trying to unpickle estimator LabelEncoder from version 0.24.2 when using version 1.0.2. This might lead to breaking code or invalid results. Use at your own risk. For more info please refer to:\n",
      "https://scikit-learn.org/stable/modules/model_persistence.html#security-maintainability-limitations\n",
      "LightGBM binary classifier with TreeExplainer shap values output has changed to a list of ndarray\n"
     ]
    },
    {
     "name": "stdout",
     "output_type": "stream",
     "text": [
      "['/data4-4tb/kgreathoo/plots_result_akara/54263191_peak_idx_2_type_test4_TN.png']\n",
      "✅ Image: /data4-4tb/kgreathoo/plots_result_akara/54263191_peak_idx_2_type_test4_TN.png\n",
      "🖼️ Title: 54263191 Peak Index 2 Type Test4 Tn\n",
      "✅ Saved combined PDF: shap_outputs_1_10_new_great/54263191_peak_idx_2_type_test4_TN_96.pdf\n",
      "['/data4-4tb/kgreathoo/plots_result_akara/54277506_peak_idx_1_type_test1_TN.png']\n",
      "['$\\\\omega$$^{(6)}$', 'Std. ($\\\\omega$)$^{(9)}$', 'Mean ($\\\\omega$)$^{(6)}$', 'Max ($\\\\omega$)$^{(9)}$', 'Max ($\\\\omega$)$^{(7)}$', 'Min ($\\\\omega$)$^{(6)}$', 'Mean ($\\\\omega$)$^{(9)}$', 'Min ($\\\\omega$)$^{(5)}$', 'Max ($\\\\omega$)$^{(8)}$', '$\\\\omega$$^{(5)}$']\n"
     ]
    },
    {
     "name": "stderr",
     "output_type": "stream",
     "text": [
      "Trying to unpickle estimator LabelEncoder from version 0.24.2 when using version 1.0.2. This might lead to breaking code or invalid results. Use at your own risk. For more info please refer to:\n",
      "https://scikit-learn.org/stable/modules/model_persistence.html#security-maintainability-limitations\n",
      "LightGBM binary classifier with TreeExplainer shap values output has changed to a list of ndarray\n"
     ]
    },
    {
     "name": "stdout",
     "output_type": "stream",
     "text": [
      "['/data4-4tb/kgreathoo/plots_result_akara/54277506_peak_idx_1_type_test1_TN.png']\n",
      "✅ Image: /data4-4tb/kgreathoo/plots_result_akara/54277506_peak_idx_1_type_test1_TN.png\n",
      "🖼️ Title: 54277506 Peak Index 1 Type Test1 Tn\n",
      "✅ Saved combined PDF: shap_outputs_1_10_new_great/54277506_peak_idx_1_type_test1_TN_96.pdf\n",
      "['/data4-4tb/kgreathoo/plots_result_akara/54277918_peak_idx_1_type_test1_TN.png']\n",
      "['$\\\\omega$$^{(6)}$', 'Std. ($\\\\omega$)$^{(9)}$', 'Mean ($\\\\omega$)$^{(6)}$', 'Max ($\\\\omega$)$^{(9)}$', 'Max ($\\\\omega$)$^{(7)}$', 'Min ($\\\\omega$)$^{(6)}$', 'Mean ($\\\\omega$)$^{(9)}$', 'Min ($\\\\omega$)$^{(5)}$', 'Max ($\\\\omega$)$^{(8)}$', '$\\\\omega$$^{(5)}$']\n"
     ]
    },
    {
     "name": "stderr",
     "output_type": "stream",
     "text": [
      "Trying to unpickle estimator LabelEncoder from version 0.24.2 when using version 1.0.2. This might lead to breaking code or invalid results. Use at your own risk. For more info please refer to:\n",
      "https://scikit-learn.org/stable/modules/model_persistence.html#security-maintainability-limitations\n",
      "LightGBM binary classifier with TreeExplainer shap values output has changed to a list of ndarray\n"
     ]
    },
    {
     "name": "stdout",
     "output_type": "stream",
     "text": [
      "['/data4-4tb/kgreathoo/plots_result_akara/54277918_peak_idx_1_type_test1_TN.png']\n",
      "✅ Image: /data4-4tb/kgreathoo/plots_result_akara/54277918_peak_idx_1_type_test1_TN.png\n",
      "🖼️ Title: 54277918 Peak Index 1 Type Test1 Tn\n",
      "✅ Saved combined PDF: shap_outputs_1_10_new_great/54277918_peak_idx_1_type_test1_TN_96.pdf\n",
      "['/data4-4tb/kgreathoo/plots_result_akara/54288410_peak_idx_1_type_test3_TN.png']\n",
      "['$\\\\omega$$^{(6)}$', 'Std. ($\\\\omega$)$^{(9)}$', 'Mean ($\\\\omega$)$^{(6)}$', 'Max ($\\\\omega$)$^{(9)}$', 'Max ($\\\\omega$)$^{(7)}$', 'Min ($\\\\omega$)$^{(6)}$', 'Mean ($\\\\omega$)$^{(9)}$', 'Min ($\\\\omega$)$^{(5)}$', 'Max ($\\\\omega$)$^{(8)}$', '$\\\\omega$$^{(5)}$']\n"
     ]
    },
    {
     "name": "stderr",
     "output_type": "stream",
     "text": [
      "Trying to unpickle estimator LabelEncoder from version 0.24.2 when using version 1.0.2. This might lead to breaking code or invalid results. Use at your own risk. For more info please refer to:\n",
      "https://scikit-learn.org/stable/modules/model_persistence.html#security-maintainability-limitations\n",
      "LightGBM binary classifier with TreeExplainer shap values output has changed to a list of ndarray\n"
     ]
    },
    {
     "name": "stdout",
     "output_type": "stream",
     "text": [
      "['/data4-4tb/kgreathoo/plots_result_akara/54288410_peak_idx_1_type_test3_TN.png']\n",
      "✅ Image: /data4-4tb/kgreathoo/plots_result_akara/54288410_peak_idx_1_type_test3_TN.png\n",
      "🖼️ Title: 54288410 Peak Index 1 Type Test3 Tn\n",
      "✅ Saved combined PDF: shap_outputs_1_10_new_great/54288410_peak_idx_1_type_test3_TN_96.pdf\n",
      "['/data4-4tb/kgreathoo/plots_result_akara/38145861_peak_idx_1_type_test2_TN.png']\n",
      "['$\\\\omega$$^{(6)}$', 'Std. ($\\\\omega$)$^{(9)}$', 'Mean ($\\\\omega$)$^{(6)}$', 'Max ($\\\\omega$)$^{(9)}$', 'Max ($\\\\omega$)$^{(7)}$', 'Min ($\\\\omega$)$^{(6)}$', 'Mean ($\\\\omega$)$^{(9)}$', 'Min ($\\\\omega$)$^{(5)}$', 'Max ($\\\\omega$)$^{(8)}$', '$\\\\omega$$^{(5)}$']\n"
     ]
    },
    {
     "name": "stderr",
     "output_type": "stream",
     "text": [
      "Trying to unpickle estimator LabelEncoder from version 0.24.2 when using version 1.0.2. This might lead to breaking code or invalid results. Use at your own risk. For more info please refer to:\n",
      "https://scikit-learn.org/stable/modules/model_persistence.html#security-maintainability-limitations\n",
      "LightGBM binary classifier with TreeExplainer shap values output has changed to a list of ndarray\n"
     ]
    },
    {
     "name": "stdout",
     "output_type": "stream",
     "text": [
      "['/data4-4tb/kgreathoo/plots_result_akara/38145861_peak_idx_1_type_test2_TN.png']\n",
      "✅ Image: /data4-4tb/kgreathoo/plots_result_akara/38145861_peak_idx_1_type_test2_TN.png\n",
      "🖼️ Title: 38145861 Peak Index 1 Type Test2 Tn\n",
      "✅ Saved combined PDF: shap_outputs_1_10_new_great/38145861_peak_idx_1_type_test2_TN_96.pdf\n",
      "['/data4-4tb/kgreathoo/plots_result_akara/40026144_peak_idx_8_type_test4_TN.png']\n",
      "['$\\\\omega$$^{(6)}$', 'Std. ($\\\\omega$)$^{(9)}$', 'Mean ($\\\\omega$)$^{(6)}$', 'Max ($\\\\omega$)$^{(9)}$', 'Max ($\\\\omega$)$^{(7)}$', 'Min ($\\\\omega$)$^{(6)}$', 'Mean ($\\\\omega$)$^{(9)}$', 'Min ($\\\\omega$)$^{(5)}$', 'Max ($\\\\omega$)$^{(8)}$', '$\\\\omega$$^{(5)}$']\n"
     ]
    },
    {
     "name": "stderr",
     "output_type": "stream",
     "text": [
      "Trying to unpickle estimator LabelEncoder from version 0.24.2 when using version 1.0.2. This might lead to breaking code or invalid results. Use at your own risk. For more info please refer to:\n",
      "https://scikit-learn.org/stable/modules/model_persistence.html#security-maintainability-limitations\n",
      "LightGBM binary classifier with TreeExplainer shap values output has changed to a list of ndarray\n"
     ]
    },
    {
     "name": "stdout",
     "output_type": "stream",
     "text": [
      "['/data4-4tb/kgreathoo/plots_result_akara/40026144_peak_idx_8_type_test4_TN.png']\n",
      "✅ Image: /data4-4tb/kgreathoo/plots_result_akara/40026144_peak_idx_8_type_test4_TN.png\n",
      "🖼️ Title: 40026144 Peak Index 8 Type Test4 Tn\n",
      "✅ Saved combined PDF: shap_outputs_1_10_new_great/40026144_peak_idx_8_type_test4_TN_96.pdf\n",
      "['/data4-4tb/kgreathoo/plots_result_akara/40059655_peak_idx_1_type_test4_TN.png']\n",
      "['$\\\\omega$$^{(6)}$', 'Std. ($\\\\omega$)$^{(9)}$', 'Mean ($\\\\omega$)$^{(6)}$', 'Max ($\\\\omega$)$^{(9)}$', 'Max ($\\\\omega$)$^{(7)}$', 'Min ($\\\\omega$)$^{(6)}$', 'Mean ($\\\\omega$)$^{(9)}$', 'Min ($\\\\omega$)$^{(5)}$', 'Max ($\\\\omega$)$^{(8)}$', '$\\\\omega$$^{(5)}$']\n"
     ]
    },
    {
     "name": "stderr",
     "output_type": "stream",
     "text": [
      "Trying to unpickle estimator LabelEncoder from version 0.24.2 when using version 1.0.2. This might lead to breaking code or invalid results. Use at your own risk. For more info please refer to:\n",
      "https://scikit-learn.org/stable/modules/model_persistence.html#security-maintainability-limitations\n",
      "LightGBM binary classifier with TreeExplainer shap values output has changed to a list of ndarray\n"
     ]
    },
    {
     "name": "stdout",
     "output_type": "stream",
     "text": [
      "['/data4-4tb/kgreathoo/plots_result_akara/40059655_peak_idx_1_type_test4_TN.png']\n",
      "✅ Image: /data4-4tb/kgreathoo/plots_result_akara/40059655_peak_idx_1_type_test4_TN.png\n",
      "🖼️ Title: 40059655 Peak Index 1 Type Test4 Tn\n",
      "✅ Saved combined PDF: shap_outputs_1_10_new_great/40059655_peak_idx_1_type_test4_TN_96.pdf\n",
      "['/data4-4tb/kgreathoo/plots_result_akara/40122236_peak_idx_1_type_test0_TN.png']\n",
      "['$\\\\omega$$^{(6)}$', 'Std. ($\\\\omega$)$^{(9)}$', 'Mean ($\\\\omega$)$^{(6)}$', 'Max ($\\\\omega$)$^{(9)}$', 'Max ($\\\\omega$)$^{(7)}$', 'Min ($\\\\omega$)$^{(6)}$', 'Mean ($\\\\omega$)$^{(9)}$', 'Min ($\\\\omega$)$^{(5)}$', 'Max ($\\\\omega$)$^{(8)}$', '$\\\\omega$$^{(5)}$']\n"
     ]
    },
    {
     "name": "stderr",
     "output_type": "stream",
     "text": [
      "Trying to unpickle estimator LabelEncoder from version 0.24.2 when using version 1.0.2. This might lead to breaking code or invalid results. Use at your own risk. For more info please refer to:\n",
      "https://scikit-learn.org/stable/modules/model_persistence.html#security-maintainability-limitations\n",
      "LightGBM binary classifier with TreeExplainer shap values output has changed to a list of ndarray\n"
     ]
    },
    {
     "name": "stdout",
     "output_type": "stream",
     "text": [
      "['/data4-4tb/kgreathoo/plots_result_akara/40122236_peak_idx_1_type_test0_TN.png']\n",
      "✅ Image: /data4-4tb/kgreathoo/plots_result_akara/40122236_peak_idx_1_type_test0_TN.png\n",
      "🖼️ Title: 40122236 Peak Index 1 Type Test0 Tn\n",
      "✅ Saved combined PDF: shap_outputs_1_10_new_great/40122236_peak_idx_1_type_test0_TN_96.pdf\n",
      "['/data4-4tb/kgreathoo/plots_result_akara/40142142_peak_idx_9_type_test1_TN.png']\n",
      "['$\\\\omega$$^{(6)}$', 'Std. ($\\\\omega$)$^{(9)}$', 'Mean ($\\\\omega$)$^{(6)}$', 'Max ($\\\\omega$)$^{(9)}$', 'Max ($\\\\omega$)$^{(7)}$', 'Min ($\\\\omega$)$^{(6)}$', 'Mean ($\\\\omega$)$^{(9)}$', 'Min ($\\\\omega$)$^{(5)}$', 'Max ($\\\\omega$)$^{(8)}$', '$\\\\omega$$^{(5)}$']\n"
     ]
    },
    {
     "name": "stderr",
     "output_type": "stream",
     "text": [
      "Trying to unpickle estimator LabelEncoder from version 0.24.2 when using version 1.0.2. This might lead to breaking code or invalid results. Use at your own risk. For more info please refer to:\n",
      "https://scikit-learn.org/stable/modules/model_persistence.html#security-maintainability-limitations\n",
      "LightGBM binary classifier with TreeExplainer shap values output has changed to a list of ndarray\n"
     ]
    },
    {
     "name": "stdout",
     "output_type": "stream",
     "text": [
      "['/data4-4tb/kgreathoo/plots_result_akara/40142142_peak_idx_9_type_test1_TN.png']\n",
      "✅ Image: /data4-4tb/kgreathoo/plots_result_akara/40142142_peak_idx_9_type_test1_TN.png\n",
      "🖼️ Title: 40142142 Peak Index 9 Type Test1 Tn\n",
      "✅ Saved combined PDF: shap_outputs_1_10_new_great/40142142_peak_idx_9_type_test1_TN_96.pdf\n",
      "['/data4-4tb/kgreathoo/plots_result_akara/40188233_peak_idx_1_type_test3_TN.png']\n",
      "['$\\\\omega$$^{(6)}$', 'Std. ($\\\\omega$)$^{(9)}$', 'Mean ($\\\\omega$)$^{(6)}$', 'Max ($\\\\omega$)$^{(9)}$', 'Max ($\\\\omega$)$^{(7)}$', 'Min ($\\\\omega$)$^{(6)}$', 'Mean ($\\\\omega$)$^{(9)}$', 'Min ($\\\\omega$)$^{(5)}$', 'Max ($\\\\omega$)$^{(8)}$', '$\\\\omega$$^{(5)}$']\n"
     ]
    },
    {
     "name": "stderr",
     "output_type": "stream",
     "text": [
      "Trying to unpickle estimator LabelEncoder from version 0.24.2 when using version 1.0.2. This might lead to breaking code or invalid results. Use at your own risk. For more info please refer to:\n",
      "https://scikit-learn.org/stable/modules/model_persistence.html#security-maintainability-limitations\n",
      "LightGBM binary classifier with TreeExplainer shap values output has changed to a list of ndarray\n"
     ]
    },
    {
     "name": "stdout",
     "output_type": "stream",
     "text": [
      "['/data4-4tb/kgreathoo/plots_result_akara/40188233_peak_idx_1_type_test3_TN.png']\n",
      "✅ Image: /data4-4tb/kgreathoo/plots_result_akara/40188233_peak_idx_1_type_test3_TN.png\n",
      "🖼️ Title: 40188233 Peak Index 1 Type Test3 Tn\n",
      "✅ Saved combined PDF: shap_outputs_1_10_new_great/40188233_peak_idx_1_type_test3_TN_96.pdf\n",
      "['/data4-4tb/kgreathoo/plots_result_akara/41143713_peak_idx_1_type_test3_TN.png']\n",
      "['$\\\\omega$$^{(6)}$', 'Std. ($\\\\omega$)$^{(9)}$', 'Mean ($\\\\omega$)$^{(6)}$', 'Max ($\\\\omega$)$^{(9)}$', 'Max ($\\\\omega$)$^{(7)}$', 'Min ($\\\\omega$)$^{(6)}$', 'Mean ($\\\\omega$)$^{(9)}$', 'Min ($\\\\omega$)$^{(5)}$', 'Max ($\\\\omega$)$^{(8)}$', '$\\\\omega$$^{(5)}$']\n"
     ]
    },
    {
     "name": "stderr",
     "output_type": "stream",
     "text": [
      "Trying to unpickle estimator LabelEncoder from version 0.24.2 when using version 1.0.2. This might lead to breaking code or invalid results. Use at your own risk. For more info please refer to:\n",
      "https://scikit-learn.org/stable/modules/model_persistence.html#security-maintainability-limitations\n",
      "LightGBM binary classifier with TreeExplainer shap values output has changed to a list of ndarray\n"
     ]
    },
    {
     "name": "stdout",
     "output_type": "stream",
     "text": [
      "['/data4-4tb/kgreathoo/plots_result_akara/41143713_peak_idx_1_type_test3_TN.png']\n",
      "✅ Image: /data4-4tb/kgreathoo/plots_result_akara/41143713_peak_idx_1_type_test3_TN.png\n",
      "🖼️ Title: 41143713 Peak Index 1 Type Test3 Tn\n",
      "✅ Saved combined PDF: shap_outputs_1_10_new_great/41143713_peak_idx_1_type_test3_TN_96.pdf\n",
      "['/data4-4tb/kgreathoo/plots_result_akara/44020997_peak_idx_10_type_test1_TN.png']\n",
      "['$\\\\omega$$^{(6)}$', 'Std. ($\\\\omega$)$^{(9)}$', 'Mean ($\\\\omega$)$^{(6)}$', 'Max ($\\\\omega$)$^{(9)}$', 'Max ($\\\\omega$)$^{(7)}$', 'Min ($\\\\omega$)$^{(6)}$', 'Mean ($\\\\omega$)$^{(9)}$', 'Min ($\\\\omega$)$^{(5)}$', 'Max ($\\\\omega$)$^{(8)}$', '$\\\\omega$$^{(5)}$']\n"
     ]
    },
    {
     "name": "stderr",
     "output_type": "stream",
     "text": [
      "Trying to unpickle estimator LabelEncoder from version 0.24.2 when using version 1.0.2. This might lead to breaking code or invalid results. Use at your own risk. For more info please refer to:\n",
      "https://scikit-learn.org/stable/modules/model_persistence.html#security-maintainability-limitations\n",
      "LightGBM binary classifier with TreeExplainer shap values output has changed to a list of ndarray\n"
     ]
    },
    {
     "name": "stdout",
     "output_type": "stream",
     "text": [
      "['/data4-4tb/kgreathoo/plots_result_akara/44020997_peak_idx_10_type_test1_TN.png']\n",
      "✅ Image: /data4-4tb/kgreathoo/plots_result_akara/44020997_peak_idx_10_type_test1_TN.png\n",
      "🖼️ Title: 44020997 Peak Index 10 Type Test1 Tn\n",
      "✅ Saved combined PDF: shap_outputs_1_10_new_great/44020997_peak_idx_10_type_test1_TN_96.pdf\n",
      "['/data4-4tb/kgreathoo/plots_result_akara/45074424_peak_idx_1_type_test1_TN.png']\n",
      "['$\\\\omega$$^{(6)}$', 'Std. ($\\\\omega$)$^{(9)}$', 'Mean ($\\\\omega$)$^{(6)}$', 'Max ($\\\\omega$)$^{(9)}$', 'Max ($\\\\omega$)$^{(7)}$', 'Min ($\\\\omega$)$^{(6)}$', 'Mean ($\\\\omega$)$^{(9)}$', 'Min ($\\\\omega$)$^{(5)}$', 'Max ($\\\\omega$)$^{(8)}$', '$\\\\omega$$^{(5)}$']\n"
     ]
    },
    {
     "name": "stderr",
     "output_type": "stream",
     "text": [
      "Trying to unpickle estimator LabelEncoder from version 0.24.2 when using version 1.0.2. This might lead to breaking code or invalid results. Use at your own risk. For more info please refer to:\n",
      "https://scikit-learn.org/stable/modules/model_persistence.html#security-maintainability-limitations\n",
      "LightGBM binary classifier with TreeExplainer shap values output has changed to a list of ndarray\n"
     ]
    },
    {
     "name": "stdout",
     "output_type": "stream",
     "text": [
      "['/data4-4tb/kgreathoo/plots_result_akara/45074424_peak_idx_1_type_test1_TN.png']\n",
      "✅ Image: /data4-4tb/kgreathoo/plots_result_akara/45074424_peak_idx_1_type_test1_TN.png\n",
      "🖼️ Title: 45074424 Peak Index 1 Type Test1 Tn\n",
      "✅ Saved combined PDF: shap_outputs_1_10_new_great/45074424_peak_idx_1_type_test1_TN_96.pdf\n",
      "['/data4-4tb/kgreathoo/plots_result_akara/45503191_peak_idx_1_type_test1_TN.png']\n",
      "['$\\\\omega$$^{(6)}$', 'Std. ($\\\\omega$)$^{(9)}$', 'Mean ($\\\\omega$)$^{(6)}$', 'Max ($\\\\omega$)$^{(9)}$', 'Max ($\\\\omega$)$^{(7)}$', 'Min ($\\\\omega$)$^{(6)}$', 'Mean ($\\\\omega$)$^{(9)}$', 'Min ($\\\\omega$)$^{(5)}$', 'Max ($\\\\omega$)$^{(8)}$', '$\\\\omega$$^{(5)}$']\n"
     ]
    },
    {
     "name": "stderr",
     "output_type": "stream",
     "text": [
      "Trying to unpickle estimator LabelEncoder from version 0.24.2 when using version 1.0.2. This might lead to breaking code or invalid results. Use at your own risk. For more info please refer to:\n",
      "https://scikit-learn.org/stable/modules/model_persistence.html#security-maintainability-limitations\n",
      "LightGBM binary classifier with TreeExplainer shap values output has changed to a list of ndarray\n"
     ]
    },
    {
     "name": "stdout",
     "output_type": "stream",
     "text": [
      "['/data4-4tb/kgreathoo/plots_result_akara/45503191_peak_idx_1_type_test1_TN.png']\n",
      "✅ Image: /data4-4tb/kgreathoo/plots_result_akara/45503191_peak_idx_1_type_test1_TN.png\n",
      "🖼️ Title: 45503191 Peak Index 1 Type Test1 Tn\n",
      "✅ Saved combined PDF: shap_outputs_1_10_new_great/45503191_peak_idx_1_type_test1_TN_96.pdf\n",
      "['/data4-4tb/kgreathoo/plots_result_akara/46010936_peak_idx_8_type_test1_TN.png']\n",
      "['$\\\\omega$$^{(6)}$', 'Std. ($\\\\omega$)$^{(9)}$', 'Mean ($\\\\omega$)$^{(6)}$', 'Max ($\\\\omega$)$^{(9)}$', 'Max ($\\\\omega$)$^{(7)}$', 'Min ($\\\\omega$)$^{(6)}$', 'Mean ($\\\\omega$)$^{(9)}$', 'Min ($\\\\omega$)$^{(5)}$', 'Max ($\\\\omega$)$^{(8)}$', '$\\\\omega$$^{(5)}$']\n"
     ]
    },
    {
     "name": "stderr",
     "output_type": "stream",
     "text": [
      "Trying to unpickle estimator LabelEncoder from version 0.24.2 when using version 1.0.2. This might lead to breaking code or invalid results. Use at your own risk. For more info please refer to:\n",
      "https://scikit-learn.org/stable/modules/model_persistence.html#security-maintainability-limitations\n",
      "LightGBM binary classifier with TreeExplainer shap values output has changed to a list of ndarray\n"
     ]
    },
    {
     "name": "stdout",
     "output_type": "stream",
     "text": [
      "['/data4-4tb/kgreathoo/plots_result_akara/46010936_peak_idx_8_type_test1_TN.png']\n",
      "✅ Image: /data4-4tb/kgreathoo/plots_result_akara/46010936_peak_idx_8_type_test1_TN.png\n",
      "🖼️ Title: 46010936 Peak Index 8 Type Test1 Tn\n",
      "✅ Saved combined PDF: shap_outputs_1_10_new_great/46010936_peak_idx_8_type_test1_TN_96.pdf\n",
      "['/data4-4tb/kgreathoo/plots_result_akara/47235817_peak_idx_1_type_test0_TN.png']\n",
      "['$\\\\omega$$^{(6)}$', 'Std. ($\\\\omega$)$^{(9)}$', 'Mean ($\\\\omega$)$^{(6)}$', 'Max ($\\\\omega$)$^{(9)}$', 'Max ($\\\\omega$)$^{(7)}$', 'Min ($\\\\omega$)$^{(6)}$', 'Mean ($\\\\omega$)$^{(9)}$', 'Min ($\\\\omega$)$^{(5)}$', 'Max ($\\\\omega$)$^{(8)}$', '$\\\\omega$$^{(5)}$']\n"
     ]
    },
    {
     "name": "stderr",
     "output_type": "stream",
     "text": [
      "Trying to unpickle estimator LabelEncoder from version 0.24.2 when using version 1.0.2. This might lead to breaking code or invalid results. Use at your own risk. For more info please refer to:\n",
      "https://scikit-learn.org/stable/modules/model_persistence.html#security-maintainability-limitations\n",
      "LightGBM binary classifier with TreeExplainer shap values output has changed to a list of ndarray\n"
     ]
    },
    {
     "name": "stdout",
     "output_type": "stream",
     "text": [
      "['/data4-4tb/kgreathoo/plots_result_akara/47235817_peak_idx_1_type_test0_TN.png']\n",
      "✅ Image: /data4-4tb/kgreathoo/plots_result_akara/47235817_peak_idx_1_type_test0_TN.png\n",
      "🖼️ Title: 47235817 Peak Index 1 Type Test0 Tn\n",
      "✅ Saved combined PDF: shap_outputs_1_10_new_great/47235817_peak_idx_1_type_test0_TN_96.pdf\n",
      "['/data4-4tb/kgreathoo/plots_result_akara/48105092_peak_idx_1_type_test0_TN.png']\n",
      "['$\\\\omega$$^{(6)}$', 'Std. ($\\\\omega$)$^{(9)}$', 'Mean ($\\\\omega$)$^{(6)}$', 'Max ($\\\\omega$)$^{(9)}$', 'Max ($\\\\omega$)$^{(7)}$', 'Min ($\\\\omega$)$^{(6)}$', 'Mean ($\\\\omega$)$^{(9)}$', 'Min ($\\\\omega$)$^{(5)}$', 'Max ($\\\\omega$)$^{(8)}$', '$\\\\omega$$^{(5)}$']\n"
     ]
    },
    {
     "name": "stderr",
     "output_type": "stream",
     "text": [
      "Trying to unpickle estimator LabelEncoder from version 0.24.2 when using version 1.0.2. This might lead to breaking code or invalid results. Use at your own risk. For more info please refer to:\n",
      "https://scikit-learn.org/stable/modules/model_persistence.html#security-maintainability-limitations\n",
      "LightGBM binary classifier with TreeExplainer shap values output has changed to a list of ndarray\n"
     ]
    },
    {
     "name": "stdout",
     "output_type": "stream",
     "text": [
      "['/data4-4tb/kgreathoo/plots_result_akara/48105092_peak_idx_1_type_test0_TN.png']\n",
      "✅ Image: /data4-4tb/kgreathoo/plots_result_akara/48105092_peak_idx_1_type_test0_TN.png\n",
      "🖼️ Title: 48105092 Peak Index 1 Type Test0 Tn\n",
      "✅ Saved combined PDF: shap_outputs_1_10_new_great/48105092_peak_idx_1_type_test0_TN_96.pdf\n",
      "['/data4-4tb/kgreathoo/plots_result_akara/48168011_peak_idx_1_type_test2_FP.png']\n",
      "['$\\\\omega$$^{(6)}$', 'Std. ($\\\\omega$)$^{(9)}$', 'Mean ($\\\\omega$)$^{(6)}$', 'Max ($\\\\omega$)$^{(9)}$', 'Max ($\\\\omega$)$^{(7)}$', 'Min ($\\\\omega$)$^{(6)}$', 'Mean ($\\\\omega$)$^{(9)}$', 'Min ($\\\\omega$)$^{(5)}$', 'Max ($\\\\omega$)$^{(8)}$', '$\\\\omega$$^{(5)}$']\n"
     ]
    },
    {
     "name": "stderr",
     "output_type": "stream",
     "text": [
      "Trying to unpickle estimator LabelEncoder from version 0.24.2 when using version 1.0.2. This might lead to breaking code or invalid results. Use at your own risk. For more info please refer to:\n",
      "https://scikit-learn.org/stable/modules/model_persistence.html#security-maintainability-limitations\n",
      "LightGBM binary classifier with TreeExplainer shap values output has changed to a list of ndarray\n"
     ]
    },
    {
     "name": "stdout",
     "output_type": "stream",
     "text": [
      "['/data4-4tb/kgreathoo/plots_result_akara/48168011_peak_idx_1_type_test2_FP.png']\n",
      "✅ Image: /data4-4tb/kgreathoo/plots_result_akara/48168011_peak_idx_1_type_test2_FP.png\n",
      "🖼️ Title: 48168011 Peak Index 1 Type Test2 Fp\n",
      "✅ Saved combined PDF: shap_outputs_1_10_new_great/48168011_peak_idx_1_type_test2_FP_96.pdf\n",
      "['/data4-4tb/kgreathoo/plots_result_akara/50151931_peak_idx_1_type_test3_FP.png']\n",
      "['$\\\\omega$$^{(6)}$', 'Std. ($\\\\omega$)$^{(9)}$', 'Mean ($\\\\omega$)$^{(6)}$', 'Max ($\\\\omega$)$^{(9)}$', 'Max ($\\\\omega$)$^{(7)}$', 'Min ($\\\\omega$)$^{(6)}$', 'Mean ($\\\\omega$)$^{(9)}$', 'Min ($\\\\omega$)$^{(5)}$', 'Max ($\\\\omega$)$^{(8)}$', '$\\\\omega$$^{(5)}$']\n"
     ]
    },
    {
     "name": "stderr",
     "output_type": "stream",
     "text": [
      "Trying to unpickle estimator LabelEncoder from version 0.24.2 when using version 1.0.2. This might lead to breaking code or invalid results. Use at your own risk. For more info please refer to:\n",
      "https://scikit-learn.org/stable/modules/model_persistence.html#security-maintainability-limitations\n",
      "LightGBM binary classifier with TreeExplainer shap values output has changed to a list of ndarray\n"
     ]
    },
    {
     "name": "stdout",
     "output_type": "stream",
     "text": [
      "['/data4-4tb/kgreathoo/plots_result_akara/50151931_peak_idx_1_type_test3_FP.png']\n",
      "✅ Image: /data4-4tb/kgreathoo/plots_result_akara/50151931_peak_idx_1_type_test3_FP.png\n",
      "🖼️ Title: 50151931 Peak Index 1 Type Test3 Fp\n",
      "✅ Saved combined PDF: shap_outputs_1_10_new_great/50151931_peak_idx_1_type_test3_FP_96.pdf\n",
      "['/data4-4tb/kgreathoo/plots_result_akara/53650120_peak_idx_10_type_test2_TN.png']\n",
      "['$\\\\omega$$^{(6)}$', 'Std. ($\\\\omega$)$^{(9)}$', 'Mean ($\\\\omega$)$^{(6)}$', 'Max ($\\\\omega$)$^{(9)}$', 'Max ($\\\\omega$)$^{(7)}$', 'Min ($\\\\omega$)$^{(6)}$', 'Mean ($\\\\omega$)$^{(9)}$', 'Min ($\\\\omega$)$^{(5)}$', 'Max ($\\\\omega$)$^{(8)}$', '$\\\\omega$$^{(5)}$']\n"
     ]
    },
    {
     "name": "stderr",
     "output_type": "stream",
     "text": [
      "Trying to unpickle estimator LabelEncoder from version 0.24.2 when using version 1.0.2. This might lead to breaking code or invalid results. Use at your own risk. For more info please refer to:\n",
      "https://scikit-learn.org/stable/modules/model_persistence.html#security-maintainability-limitations\n",
      "LightGBM binary classifier with TreeExplainer shap values output has changed to a list of ndarray\n"
     ]
    },
    {
     "name": "stdout",
     "output_type": "stream",
     "text": [
      "['/data4-4tb/kgreathoo/plots_result_akara/53650120_peak_idx_10_type_test2_TN.png']\n",
      "✅ Image: /data4-4tb/kgreathoo/plots_result_akara/53650120_peak_idx_10_type_test2_TN.png\n",
      "🖼️ Title: 53650120 Peak Index 10 Type Test2 Tn\n",
      "✅ Saved combined PDF: shap_outputs_1_10_new_great/53650120_peak_idx_10_type_test2_TN_96.pdf\n",
      "['/data4-4tb/kgreathoo/plots_result_akara/53965464_peak_idx_1_type_test3_TN.png']\n",
      "['$\\\\omega$$^{(6)}$', 'Std. ($\\\\omega$)$^{(9)}$', 'Mean ($\\\\omega$)$^{(6)}$', 'Max ($\\\\omega$)$^{(9)}$', 'Max ($\\\\omega$)$^{(7)}$', 'Min ($\\\\omega$)$^{(6)}$', 'Mean ($\\\\omega$)$^{(9)}$', 'Min ($\\\\omega$)$^{(5)}$', 'Max ($\\\\omega$)$^{(8)}$', '$\\\\omega$$^{(5)}$']\n"
     ]
    },
    {
     "name": "stderr",
     "output_type": "stream",
     "text": [
      "Trying to unpickle estimator LabelEncoder from version 0.24.2 when using version 1.0.2. This might lead to breaking code or invalid results. Use at your own risk. For more info please refer to:\n",
      "https://scikit-learn.org/stable/modules/model_persistence.html#security-maintainability-limitations\n",
      "LightGBM binary classifier with TreeExplainer shap values output has changed to a list of ndarray\n"
     ]
    },
    {
     "name": "stdout",
     "output_type": "stream",
     "text": [
      "['/data4-4tb/kgreathoo/plots_result_akara/53965464_peak_idx_1_type_test3_TN.png']\n",
      "✅ Image: /data4-4tb/kgreathoo/plots_result_akara/53965464_peak_idx_1_type_test3_TN.png\n",
      "🖼️ Title: 53965464 Peak Index 1 Type Test3 Tn\n",
      "✅ Saved combined PDF: shap_outputs_1_10_new_great/53965464_peak_idx_1_type_test3_TN_96.pdf\n",
      "['/data4-4tb/kgreathoo/plots_result_akara/54197829_peak_idx_9_type_test3_TN.png']\n",
      "['$\\\\omega$$^{(6)}$', 'Std. ($\\\\omega$)$^{(9)}$', 'Mean ($\\\\omega$)$^{(6)}$', 'Max ($\\\\omega$)$^{(9)}$', 'Max ($\\\\omega$)$^{(7)}$', 'Min ($\\\\omega$)$^{(6)}$', 'Mean ($\\\\omega$)$^{(9)}$', 'Min ($\\\\omega$)$^{(5)}$', 'Max ($\\\\omega$)$^{(8)}$', '$\\\\omega$$^{(5)}$']\n"
     ]
    },
    {
     "name": "stderr",
     "output_type": "stream",
     "text": [
      "Trying to unpickle estimator LabelEncoder from version 0.24.2 when using version 1.0.2. This might lead to breaking code or invalid results. Use at your own risk. For more info please refer to:\n",
      "https://scikit-learn.org/stable/modules/model_persistence.html#security-maintainability-limitations\n",
      "LightGBM binary classifier with TreeExplainer shap values output has changed to a list of ndarray\n"
     ]
    },
    {
     "name": "stdout",
     "output_type": "stream",
     "text": [
      "['/data4-4tb/kgreathoo/plots_result_akara/54197829_peak_idx_9_type_test3_TN.png']\n",
      "✅ Image: /data4-4tb/kgreathoo/plots_result_akara/54197829_peak_idx_9_type_test3_TN.png\n",
      "🖼️ Title: 54197829 Peak Index 9 Type Test3 Tn\n",
      "✅ Saved combined PDF: shap_outputs_1_10_new_great/54197829_peak_idx_9_type_test3_TN_96.pdf\n",
      "['/data4-4tb/kgreathoo/plots_result_akara/54197898_peak_idx_1_type_test2_TN.png']\n",
      "['$\\\\omega$$^{(6)}$', 'Std. ($\\\\omega$)$^{(9)}$', 'Mean ($\\\\omega$)$^{(6)}$', 'Max ($\\\\omega$)$^{(9)}$', 'Max ($\\\\omega$)$^{(7)}$', 'Min ($\\\\omega$)$^{(6)}$', 'Mean ($\\\\omega$)$^{(9)}$', 'Min ($\\\\omega$)$^{(5)}$', 'Max ($\\\\omega$)$^{(8)}$', '$\\\\omega$$^{(5)}$']\n"
     ]
    },
    {
     "name": "stderr",
     "output_type": "stream",
     "text": [
      "Trying to unpickle estimator LabelEncoder from version 0.24.2 when using version 1.0.2. This might lead to breaking code or invalid results. Use at your own risk. For more info please refer to:\n",
      "https://scikit-learn.org/stable/modules/model_persistence.html#security-maintainability-limitations\n",
      "LightGBM binary classifier with TreeExplainer shap values output has changed to a list of ndarray\n"
     ]
    },
    {
     "name": "stdout",
     "output_type": "stream",
     "text": [
      "['/data4-4tb/kgreathoo/plots_result_akara/54197898_peak_idx_1_type_test2_TN.png']\n",
      "✅ Image: /data4-4tb/kgreathoo/plots_result_akara/54197898_peak_idx_1_type_test2_TN.png\n",
      "🖼️ Title: 54197898 Peak Index 1 Type Test2 Tn\n",
      "✅ Saved combined PDF: shap_outputs_1_10_new_great/54197898_peak_idx_1_type_test2_TN_96.pdf\n",
      "['/data4-4tb/kgreathoo/plots_result_akara/54204626_peak_idx_2_type_test0_FP.png']\n",
      "['$\\\\omega$$^{(6)}$', 'Std. ($\\\\omega$)$^{(9)}$', 'Mean ($\\\\omega$)$^{(6)}$', 'Max ($\\\\omega$)$^{(9)}$', 'Max ($\\\\omega$)$^{(7)}$', 'Min ($\\\\omega$)$^{(6)}$', 'Mean ($\\\\omega$)$^{(9)}$', 'Min ($\\\\omega$)$^{(5)}$', 'Max ($\\\\omega$)$^{(8)}$', '$\\\\omega$$^{(5)}$']\n"
     ]
    },
    {
     "name": "stderr",
     "output_type": "stream",
     "text": [
      "Trying to unpickle estimator LabelEncoder from version 0.24.2 when using version 1.0.2. This might lead to breaking code or invalid results. Use at your own risk. For more info please refer to:\n",
      "https://scikit-learn.org/stable/modules/model_persistence.html#security-maintainability-limitations\n",
      "LightGBM binary classifier with TreeExplainer shap values output has changed to a list of ndarray\n"
     ]
    },
    {
     "name": "stdout",
     "output_type": "stream",
     "text": [
      "['/data4-4tb/kgreathoo/plots_result_akara/54204626_peak_idx_2_type_test0_FP.png']\n",
      "✅ Image: /data4-4tb/kgreathoo/plots_result_akara/54204626_peak_idx_2_type_test0_FP.png\n",
      "🖼️ Title: 54204626 Peak Index 2 Type Test0 Fp\n",
      "✅ Saved combined PDF: shap_outputs_1_10_new_great/54204626_peak_idx_2_type_test0_FP_96.pdf\n",
      "['/data4-4tb/kgreathoo/plots_result_akara/54210092_peak_idx_1_type_test4_FP.png']\n",
      "['$\\\\omega$$^{(6)}$', 'Std. ($\\\\omega$)$^{(9)}$', 'Mean ($\\\\omega$)$^{(6)}$', 'Max ($\\\\omega$)$^{(9)}$', 'Max ($\\\\omega$)$^{(7)}$', 'Min ($\\\\omega$)$^{(6)}$', 'Mean ($\\\\omega$)$^{(9)}$', 'Min ($\\\\omega$)$^{(5)}$', 'Max ($\\\\omega$)$^{(8)}$', '$\\\\omega$$^{(5)}$']\n"
     ]
    },
    {
     "name": "stderr",
     "output_type": "stream",
     "text": [
      "Trying to unpickle estimator LabelEncoder from version 0.24.2 when using version 1.0.2. This might lead to breaking code or invalid results. Use at your own risk. For more info please refer to:\n",
      "https://scikit-learn.org/stable/modules/model_persistence.html#security-maintainability-limitations\n",
      "LightGBM binary classifier with TreeExplainer shap values output has changed to a list of ndarray\n"
     ]
    },
    {
     "name": "stdout",
     "output_type": "stream",
     "text": [
      "['/data4-4tb/kgreathoo/plots_result_akara/54210092_peak_idx_1_type_test4_FP.png']\n",
      "✅ Image: /data4-4tb/kgreathoo/plots_result_akara/54210092_peak_idx_1_type_test4_FP.png\n",
      "🖼️ Title: 54210092 Peak Index 1 Type Test4 Fp\n",
      "✅ Saved combined PDF: shap_outputs_1_10_new_great/54210092_peak_idx_1_type_test4_FP_96.pdf\n",
      "['/data4-4tb/kgreathoo/plots_result_akara/54238301_peak_idx_4_type_test3_FP.png']\n",
      "['$\\\\omega$$^{(6)}$', 'Std. ($\\\\omega$)$^{(9)}$', 'Mean ($\\\\omega$)$^{(6)}$', 'Max ($\\\\omega$)$^{(9)}$', 'Max ($\\\\omega$)$^{(7)}$', 'Min ($\\\\omega$)$^{(6)}$', 'Mean ($\\\\omega$)$^{(9)}$', 'Min ($\\\\omega$)$^{(5)}$', 'Max ($\\\\omega$)$^{(8)}$', '$\\\\omega$$^{(5)}$']\n"
     ]
    },
    {
     "name": "stderr",
     "output_type": "stream",
     "text": [
      "Trying to unpickle estimator LabelEncoder from version 0.24.2 when using version 1.0.2. This might lead to breaking code or invalid results. Use at your own risk. For more info please refer to:\n",
      "https://scikit-learn.org/stable/modules/model_persistence.html#security-maintainability-limitations\n",
      "LightGBM binary classifier with TreeExplainer shap values output has changed to a list of ndarray\n"
     ]
    },
    {
     "name": "stdout",
     "output_type": "stream",
     "text": [
      "['/data4-4tb/kgreathoo/plots_result_akara/54238301_peak_idx_4_type_test3_FP.png']\n",
      "✅ Image: /data4-4tb/kgreathoo/plots_result_akara/54238301_peak_idx_4_type_test3_FP.png\n",
      "🖼️ Title: 54238301 Peak Index 4 Type Test3 Fp\n",
      "✅ Saved combined PDF: shap_outputs_1_10_new_great/54238301_peak_idx_4_type_test3_FP_96.pdf\n",
      "['/data4-4tb/kgreathoo/plots_result_akara/38900161_peak_idx_1_type_test0_TN.png']\n",
      "['$\\\\omega$$^{(6)}$', 'Std. ($\\\\omega$)$^{(9)}$', 'Mean ($\\\\omega$)$^{(6)}$', 'Max ($\\\\omega$)$^{(9)}$', 'Max ($\\\\omega$)$^{(7)}$', 'Min ($\\\\omega$)$^{(6)}$', 'Mean ($\\\\omega$)$^{(9)}$', 'Min ($\\\\omega$)$^{(5)}$', 'Max ($\\\\omega$)$^{(8)}$', '$\\\\omega$$^{(5)}$']\n"
     ]
    },
    {
     "name": "stderr",
     "output_type": "stream",
     "text": [
      "Trying to unpickle estimator LabelEncoder from version 0.24.2 when using version 1.0.2. This might lead to breaking code or invalid results. Use at your own risk. For more info please refer to:\n",
      "https://scikit-learn.org/stable/modules/model_persistence.html#security-maintainability-limitations\n",
      "LightGBM binary classifier with TreeExplainer shap values output has changed to a list of ndarray\n"
     ]
    },
    {
     "name": "stdout",
     "output_type": "stream",
     "text": [
      "['/data4-4tb/kgreathoo/plots_result_akara/38900161_peak_idx_1_type_test0_TN.png']\n",
      "✅ Image: /data4-4tb/kgreathoo/plots_result_akara/38900161_peak_idx_1_type_test0_TN.png\n",
      "🖼️ Title: 38900161 Peak Index 1 Type Test0 Tn\n",
      "✅ Saved combined PDF: shap_outputs_1_10_new_great/38900161_peak_idx_1_type_test0_TN_96.pdf\n",
      "['/data4-4tb/kgreathoo/plots_result_akara/40029104_peak_idx_2_type_test2_TN.png']\n",
      "['$\\\\omega$$^{(6)}$', 'Std. ($\\\\omega$)$^{(9)}$', 'Mean ($\\\\omega$)$^{(6)}$', 'Max ($\\\\omega$)$^{(9)}$', 'Max ($\\\\omega$)$^{(7)}$', 'Min ($\\\\omega$)$^{(6)}$', 'Mean ($\\\\omega$)$^{(9)}$', 'Min ($\\\\omega$)$^{(5)}$', 'Max ($\\\\omega$)$^{(8)}$', '$\\\\omega$$^{(5)}$']\n"
     ]
    },
    {
     "name": "stderr",
     "output_type": "stream",
     "text": [
      "Trying to unpickle estimator LabelEncoder from version 0.24.2 when using version 1.0.2. This might lead to breaking code or invalid results. Use at your own risk. For more info please refer to:\n",
      "https://scikit-learn.org/stable/modules/model_persistence.html#security-maintainability-limitations\n",
      "LightGBM binary classifier with TreeExplainer shap values output has changed to a list of ndarray\n"
     ]
    },
    {
     "name": "stdout",
     "output_type": "stream",
     "text": [
      "['/data4-4tb/kgreathoo/plots_result_akara/40029104_peak_idx_2_type_test2_TN.png']\n",
      "✅ Image: /data4-4tb/kgreathoo/plots_result_akara/40029104_peak_idx_2_type_test2_TN.png\n",
      "🖼️ Title: 40029104 Peak Index 2 Type Test2 Tn\n",
      "✅ Saved combined PDF: shap_outputs_1_10_new_great/40029104_peak_idx_2_type_test2_TN_96.pdf\n",
      "['/data4-4tb/kgreathoo/plots_result_akara/40067405_peak_idx_1_type_test2_FP.png']\n",
      "['$\\\\omega$$^{(6)}$', 'Std. ($\\\\omega$)$^{(9)}$', 'Mean ($\\\\omega$)$^{(6)}$', 'Max ($\\\\omega$)$^{(9)}$', 'Max ($\\\\omega$)$^{(7)}$', 'Min ($\\\\omega$)$^{(6)}$', 'Mean ($\\\\omega$)$^{(9)}$', 'Min ($\\\\omega$)$^{(5)}$', 'Max ($\\\\omega$)$^{(8)}$', '$\\\\omega$$^{(5)}$']\n"
     ]
    },
    {
     "name": "stderr",
     "output_type": "stream",
     "text": [
      "Trying to unpickle estimator LabelEncoder from version 0.24.2 when using version 1.0.2. This might lead to breaking code or invalid results. Use at your own risk. For more info please refer to:\n",
      "https://scikit-learn.org/stable/modules/model_persistence.html#security-maintainability-limitations\n",
      "LightGBM binary classifier with TreeExplainer shap values output has changed to a list of ndarray\n"
     ]
    },
    {
     "name": "stdout",
     "output_type": "stream",
     "text": [
      "['/data4-4tb/kgreathoo/plots_result_akara/40067405_peak_idx_1_type_test2_FP.png']\n",
      "✅ Image: /data4-4tb/kgreathoo/plots_result_akara/40067405_peak_idx_1_type_test2_FP.png\n",
      "🖼️ Title: 40067405 Peak Index 1 Type Test2 Fp\n",
      "✅ Saved combined PDF: shap_outputs_1_10_new_great/40067405_peak_idx_1_type_test2_FP_96.pdf\n",
      "['/data4-4tb/kgreathoo/plots_result_akara/40104682_peak_idx_9_type_test0_TN.png']\n",
      "['$\\\\omega$$^{(6)}$', 'Std. ($\\\\omega$)$^{(9)}$', 'Mean ($\\\\omega$)$^{(6)}$', 'Max ($\\\\omega$)$^{(9)}$', 'Max ($\\\\omega$)$^{(7)}$', 'Min ($\\\\omega$)$^{(6)}$', 'Mean ($\\\\omega$)$^{(9)}$', 'Min ($\\\\omega$)$^{(5)}$', 'Max ($\\\\omega$)$^{(8)}$', '$\\\\omega$$^{(5)}$']\n"
     ]
    },
    {
     "name": "stderr",
     "output_type": "stream",
     "text": [
      "Trying to unpickle estimator LabelEncoder from version 0.24.2 when using version 1.0.2. This might lead to breaking code or invalid results. Use at your own risk. For more info please refer to:\n",
      "https://scikit-learn.org/stable/modules/model_persistence.html#security-maintainability-limitations\n",
      "LightGBM binary classifier with TreeExplainer shap values output has changed to a list of ndarray\n"
     ]
    },
    {
     "name": "stdout",
     "output_type": "stream",
     "text": [
      "['/data4-4tb/kgreathoo/plots_result_akara/40104682_peak_idx_9_type_test0_TN.png']\n",
      "✅ Image: /data4-4tb/kgreathoo/plots_result_akara/40104682_peak_idx_9_type_test0_TN.png\n",
      "🖼️ Title: 40104682 Peak Index 9 Type Test0 Tn\n",
      "✅ Saved combined PDF: shap_outputs_1_10_new_great/40104682_peak_idx_9_type_test0_TN_96.pdf\n",
      "['/data4-4tb/kgreathoo/plots_result_akara/41110780_peak_idx_1_type_test0_TN.png']\n",
      "['$\\\\omega$$^{(6)}$', 'Std. ($\\\\omega$)$^{(9)}$', 'Mean ($\\\\omega$)$^{(6)}$', 'Max ($\\\\omega$)$^{(9)}$', 'Max ($\\\\omega$)$^{(7)}$', 'Min ($\\\\omega$)$^{(6)}$', 'Mean ($\\\\omega$)$^{(9)}$', 'Min ($\\\\omega$)$^{(5)}$', 'Max ($\\\\omega$)$^{(8)}$', '$\\\\omega$$^{(5)}$']\n"
     ]
    },
    {
     "name": "stderr",
     "output_type": "stream",
     "text": [
      "Trying to unpickle estimator LabelEncoder from version 0.24.2 when using version 1.0.2. This might lead to breaking code or invalid results. Use at your own risk. For more info please refer to:\n",
      "https://scikit-learn.org/stable/modules/model_persistence.html#security-maintainability-limitations\n",
      "LightGBM binary classifier with TreeExplainer shap values output has changed to a list of ndarray\n"
     ]
    },
    {
     "name": "stdout",
     "output_type": "stream",
     "text": [
      "['/data4-4tb/kgreathoo/plots_result_akara/41110780_peak_idx_1_type_test0_TN.png']\n",
      "✅ Image: /data4-4tb/kgreathoo/plots_result_akara/41110780_peak_idx_1_type_test0_TN.png\n",
      "🖼️ Title: 41110780 Peak Index 1 Type Test0 Tn\n",
      "✅ Saved combined PDF: shap_outputs_1_10_new_great/41110780_peak_idx_1_type_test0_TN_96.pdf\n",
      "['/data4-4tb/kgreathoo/plots_result_akara/42004905_peak_idx_10_type_test4_FP.png']\n",
      "['$\\\\omega$$^{(6)}$', 'Std. ($\\\\omega$)$^{(9)}$', 'Mean ($\\\\omega$)$^{(6)}$', 'Max ($\\\\omega$)$^{(9)}$', 'Max ($\\\\omega$)$^{(7)}$', 'Min ($\\\\omega$)$^{(6)}$', 'Mean ($\\\\omega$)$^{(9)}$', 'Min ($\\\\omega$)$^{(5)}$', 'Max ($\\\\omega$)$^{(8)}$', '$\\\\omega$$^{(5)}$']\n"
     ]
    },
    {
     "name": "stderr",
     "output_type": "stream",
     "text": [
      "Trying to unpickle estimator LabelEncoder from version 0.24.2 when using version 1.0.2. This might lead to breaking code or invalid results. Use at your own risk. For more info please refer to:\n",
      "https://scikit-learn.org/stable/modules/model_persistence.html#security-maintainability-limitations\n",
      "LightGBM binary classifier with TreeExplainer shap values output has changed to a list of ndarray\n"
     ]
    },
    {
     "name": "stdout",
     "output_type": "stream",
     "text": [
      "['/data4-4tb/kgreathoo/plots_result_akara/42004905_peak_idx_10_type_test4_FP.png']\n",
      "✅ Image: /data4-4tb/kgreathoo/plots_result_akara/42004905_peak_idx_10_type_test4_FP.png\n",
      "🖼️ Title: 42004905 Peak Index 10 Type Test4 Fp\n",
      "✅ Saved combined PDF: shap_outputs_1_10_new_great/42004905_peak_idx_10_type_test4_FP_96.pdf\n",
      "['/data4-4tb/kgreathoo/plots_result_akara/44130155_peak_idx_5_type_test1_FP.png']\n",
      "['$\\\\omega$$^{(6)}$', 'Std. ($\\\\omega$)$^{(9)}$', 'Mean ($\\\\omega$)$^{(6)}$', 'Max ($\\\\omega$)$^{(9)}$', 'Max ($\\\\omega$)$^{(7)}$', 'Min ($\\\\omega$)$^{(6)}$', 'Mean ($\\\\omega$)$^{(9)}$', 'Min ($\\\\omega$)$^{(5)}$', 'Max ($\\\\omega$)$^{(8)}$', '$\\\\omega$$^{(5)}$']\n"
     ]
    },
    {
     "name": "stderr",
     "output_type": "stream",
     "text": [
      "Trying to unpickle estimator LabelEncoder from version 0.24.2 when using version 1.0.2. This might lead to breaking code or invalid results. Use at your own risk. For more info please refer to:\n",
      "https://scikit-learn.org/stable/modules/model_persistence.html#security-maintainability-limitations\n",
      "LightGBM binary classifier with TreeExplainer shap values output has changed to a list of ndarray\n"
     ]
    },
    {
     "name": "stdout",
     "output_type": "stream",
     "text": [
      "['/data4-4tb/kgreathoo/plots_result_akara/44130155_peak_idx_5_type_test1_FP.png']\n",
      "✅ Image: /data4-4tb/kgreathoo/plots_result_akara/44130155_peak_idx_5_type_test1_FP.png\n",
      "🖼️ Title: 44130155 Peak Index 5 Type Test1 Fp\n",
      "✅ Saved combined PDF: shap_outputs_1_10_new_great/44130155_peak_idx_5_type_test1_FP_96.pdf\n",
      "['/data4-4tb/kgreathoo/plots_result_akara/45108464_peak_idx_10_type_test3_TN.png']\n",
      "['$\\\\omega$$^{(6)}$', 'Std. ($\\\\omega$)$^{(9)}$', 'Mean ($\\\\omega$)$^{(6)}$', 'Max ($\\\\omega$)$^{(9)}$', 'Max ($\\\\omega$)$^{(7)}$', 'Min ($\\\\omega$)$^{(6)}$', 'Mean ($\\\\omega$)$^{(9)}$', 'Min ($\\\\omega$)$^{(5)}$', 'Max ($\\\\omega$)$^{(8)}$', '$\\\\omega$$^{(5)}$']\n"
     ]
    },
    {
     "name": "stderr",
     "output_type": "stream",
     "text": [
      "Trying to unpickle estimator LabelEncoder from version 0.24.2 when using version 1.0.2. This might lead to breaking code or invalid results. Use at your own risk. For more info please refer to:\n",
      "https://scikit-learn.org/stable/modules/model_persistence.html#security-maintainability-limitations\n",
      "LightGBM binary classifier with TreeExplainer shap values output has changed to a list of ndarray\n"
     ]
    },
    {
     "name": "stdout",
     "output_type": "stream",
     "text": [
      "['/data4-4tb/kgreathoo/plots_result_akara/45108464_peak_idx_10_type_test3_TN.png']\n",
      "✅ Image: /data4-4tb/kgreathoo/plots_result_akara/45108464_peak_idx_10_type_test3_TN.png\n",
      "🖼️ Title: 45108464 Peak Index 10 Type Test3 Tn\n",
      "✅ Saved combined PDF: shap_outputs_1_10_new_great/45108464_peak_idx_10_type_test3_TN_96.pdf\n",
      "['/data4-4tb/kgreathoo/plots_result_akara/46023027_peak_idx_1_type_test3_TN.png']\n",
      "['$\\\\omega$$^{(6)}$', 'Std. ($\\\\omega$)$^{(9)}$', 'Mean ($\\\\omega$)$^{(6)}$', 'Max ($\\\\omega$)$^{(9)}$', 'Max ($\\\\omega$)$^{(7)}$', 'Min ($\\\\omega$)$^{(6)}$', 'Mean ($\\\\omega$)$^{(9)}$', 'Min ($\\\\omega$)$^{(5)}$', 'Max ($\\\\omega$)$^{(8)}$', '$\\\\omega$$^{(5)}$']\n"
     ]
    },
    {
     "name": "stderr",
     "output_type": "stream",
     "text": [
      "Trying to unpickle estimator LabelEncoder from version 0.24.2 when using version 1.0.2. This might lead to breaking code or invalid results. Use at your own risk. For more info please refer to:\n",
      "https://scikit-learn.org/stable/modules/model_persistence.html#security-maintainability-limitations\n",
      "LightGBM binary classifier with TreeExplainer shap values output has changed to a list of ndarray\n"
     ]
    },
    {
     "name": "stdout",
     "output_type": "stream",
     "text": [
      "['/data4-4tb/kgreathoo/plots_result_akara/46023027_peak_idx_1_type_test3_TN.png']\n",
      "✅ Image: /data4-4tb/kgreathoo/plots_result_akara/46023027_peak_idx_1_type_test3_TN.png\n",
      "🖼️ Title: 46023027 Peak Index 1 Type Test3 Tn\n",
      "✅ Saved combined PDF: shap_outputs_1_10_new_great/46023027_peak_idx_1_type_test3_TN_96.pdf\n",
      "['/data4-4tb/kgreathoo/plots_result_akara/51269310_peak_idx_9_type_test0_FP.png']\n",
      "['$\\\\omega$$^{(6)}$', 'Std. ($\\\\omega$)$^{(9)}$', 'Mean ($\\\\omega$)$^{(6)}$', 'Max ($\\\\omega$)$^{(9)}$', 'Max ($\\\\omega$)$^{(7)}$', 'Min ($\\\\omega$)$^{(6)}$', 'Mean ($\\\\omega$)$^{(9)}$', 'Min ($\\\\omega$)$^{(5)}$', 'Max ($\\\\omega$)$^{(8)}$', '$\\\\omega$$^{(5)}$']\n"
     ]
    },
    {
     "name": "stderr",
     "output_type": "stream",
     "text": [
      "Trying to unpickle estimator LabelEncoder from version 0.24.2 when using version 1.0.2. This might lead to breaking code or invalid results. Use at your own risk. For more info please refer to:\n",
      "https://scikit-learn.org/stable/modules/model_persistence.html#security-maintainability-limitations\n",
      "LightGBM binary classifier with TreeExplainer shap values output has changed to a list of ndarray\n"
     ]
    },
    {
     "name": "stdout",
     "output_type": "stream",
     "text": [
      "['/data4-4tb/kgreathoo/plots_result_akara/51269310_peak_idx_9_type_test0_FP.png']\n",
      "✅ Image: /data4-4tb/kgreathoo/plots_result_akara/51269310_peak_idx_9_type_test0_FP.png\n",
      "🖼️ Title: 51269310 Peak Index 9 Type Test0 Fp\n",
      "✅ Saved combined PDF: shap_outputs_1_10_new_great/51269310_peak_idx_9_type_test0_FP_96.pdf\n",
      "['/data4-4tb/kgreathoo/plots_result_akara/52591854_peak_idx_9_type_test3_TN.png']\n",
      "['$\\\\omega$$^{(6)}$', 'Std. ($\\\\omega$)$^{(9)}$', 'Mean ($\\\\omega$)$^{(6)}$', 'Max ($\\\\omega$)$^{(9)}$', 'Max ($\\\\omega$)$^{(7)}$', 'Min ($\\\\omega$)$^{(6)}$', 'Mean ($\\\\omega$)$^{(9)}$', 'Min ($\\\\omega$)$^{(5)}$', 'Max ($\\\\omega$)$^{(8)}$', '$\\\\omega$$^{(5)}$']\n"
     ]
    },
    {
     "name": "stderr",
     "output_type": "stream",
     "text": [
      "Trying to unpickle estimator LabelEncoder from version 0.24.2 when using version 1.0.2. This might lead to breaking code or invalid results. Use at your own risk. For more info please refer to:\n",
      "https://scikit-learn.org/stable/modules/model_persistence.html#security-maintainability-limitations\n",
      "LightGBM binary classifier with TreeExplainer shap values output has changed to a list of ndarray\n"
     ]
    },
    {
     "name": "stdout",
     "output_type": "stream",
     "text": [
      "['/data4-4tb/kgreathoo/plots_result_akara/52591854_peak_idx_9_type_test3_TN.png']\n",
      "✅ Image: /data4-4tb/kgreathoo/plots_result_akara/52591854_peak_idx_9_type_test3_TN.png\n",
      "🖼️ Title: 52591854 Peak Index 9 Type Test3 Tn\n",
      "✅ Saved combined PDF: shap_outputs_1_10_new_great/52591854_peak_idx_9_type_test3_TN_96.pdf\n",
      "['/data4-4tb/kgreathoo/plots_result_akara/52728428_peak_idx_1_type_test3_TN.png']\n",
      "['$\\\\omega$$^{(6)}$', 'Std. ($\\\\omega$)$^{(9)}$', 'Mean ($\\\\omega$)$^{(6)}$', 'Max ($\\\\omega$)$^{(9)}$', 'Max ($\\\\omega$)$^{(7)}$', 'Min ($\\\\omega$)$^{(6)}$', 'Mean ($\\\\omega$)$^{(9)}$', 'Min ($\\\\omega$)$^{(5)}$', 'Max ($\\\\omega$)$^{(8)}$', '$\\\\omega$$^{(5)}$']\n"
     ]
    },
    {
     "name": "stderr",
     "output_type": "stream",
     "text": [
      "Trying to unpickle estimator LabelEncoder from version 0.24.2 when using version 1.0.2. This might lead to breaking code or invalid results. Use at your own risk. For more info please refer to:\n",
      "https://scikit-learn.org/stable/modules/model_persistence.html#security-maintainability-limitations\n",
      "LightGBM binary classifier with TreeExplainer shap values output has changed to a list of ndarray\n"
     ]
    },
    {
     "name": "stdout",
     "output_type": "stream",
     "text": [
      "['/data4-4tb/kgreathoo/plots_result_akara/52728428_peak_idx_1_type_test3_TN.png']\n",
      "✅ Image: /data4-4tb/kgreathoo/plots_result_akara/52728428_peak_idx_1_type_test3_TN.png\n",
      "🖼️ Title: 52728428 Peak Index 1 Type Test3 Tn\n",
      "✅ Saved combined PDF: shap_outputs_1_10_new_great/52728428_peak_idx_1_type_test3_TN_96.pdf\n",
      "['/data4-4tb/kgreathoo/plots_result_akara/53021653_peak_idx_9_type_test2_TN.png']\n",
      "['$\\\\omega$$^{(6)}$', 'Std. ($\\\\omega$)$^{(9)}$', 'Mean ($\\\\omega$)$^{(6)}$', 'Max ($\\\\omega$)$^{(9)}$', 'Max ($\\\\omega$)$^{(7)}$', 'Min ($\\\\omega$)$^{(6)}$', 'Mean ($\\\\omega$)$^{(9)}$', 'Min ($\\\\omega$)$^{(5)}$', 'Max ($\\\\omega$)$^{(8)}$', '$\\\\omega$$^{(5)}$']\n"
     ]
    },
    {
     "name": "stderr",
     "output_type": "stream",
     "text": [
      "Trying to unpickle estimator LabelEncoder from version 0.24.2 when using version 1.0.2. This might lead to breaking code or invalid results. Use at your own risk. For more info please refer to:\n",
      "https://scikit-learn.org/stable/modules/model_persistence.html#security-maintainability-limitations\n",
      "LightGBM binary classifier with TreeExplainer shap values output has changed to a list of ndarray\n"
     ]
    },
    {
     "name": "stdout",
     "output_type": "stream",
     "text": [
      "['/data4-4tb/kgreathoo/plots_result_akara/53021653_peak_idx_9_type_test2_TN.png']\n",
      "✅ Image: /data4-4tb/kgreathoo/plots_result_akara/53021653_peak_idx_9_type_test2_TN.png\n",
      "🖼️ Title: 53021653 Peak Index 9 Type Test2 Tn\n",
      "✅ Saved combined PDF: shap_outputs_1_10_new_great/53021653_peak_idx_9_type_test2_TN_96.pdf\n",
      "['/data4-4tb/kgreathoo/plots_result_akara/53338968_peak_idx_1_type_test2_FP.png']\n",
      "['$\\\\omega$$^{(6)}$', 'Std. ($\\\\omega$)$^{(9)}$', 'Mean ($\\\\omega$)$^{(6)}$', 'Max ($\\\\omega$)$^{(9)}$', 'Max ($\\\\omega$)$^{(7)}$', 'Min ($\\\\omega$)$^{(6)}$', 'Mean ($\\\\omega$)$^{(9)}$', 'Min ($\\\\omega$)$^{(5)}$', 'Max ($\\\\omega$)$^{(8)}$', '$\\\\omega$$^{(5)}$']\n"
     ]
    },
    {
     "name": "stderr",
     "output_type": "stream",
     "text": [
      "Trying to unpickle estimator LabelEncoder from version 0.24.2 when using version 1.0.2. This might lead to breaking code or invalid results. Use at your own risk. For more info please refer to:\n",
      "https://scikit-learn.org/stable/modules/model_persistence.html#security-maintainability-limitations\n",
      "LightGBM binary classifier with TreeExplainer shap values output has changed to a list of ndarray\n"
     ]
    },
    {
     "name": "stdout",
     "output_type": "stream",
     "text": [
      "['/data4-4tb/kgreathoo/plots_result_akara/53338968_peak_idx_1_type_test2_FP.png']\n",
      "✅ Image: /data4-4tb/kgreathoo/plots_result_akara/53338968_peak_idx_1_type_test2_FP.png\n",
      "🖼️ Title: 53338968 Peak Index 1 Type Test2 Fp\n",
      "✅ Saved combined PDF: shap_outputs_1_10_new_great/53338968_peak_idx_1_type_test2_FP_96.pdf\n",
      "['/data4-4tb/kgreathoo/plots_result_akara/53893982_peak_idx_1_type_test3_TN.png']\n",
      "['$\\\\omega$$^{(6)}$', 'Std. ($\\\\omega$)$^{(9)}$', 'Mean ($\\\\omega$)$^{(6)}$', 'Max ($\\\\omega$)$^{(9)}$', 'Max ($\\\\omega$)$^{(7)}$', 'Min ($\\\\omega$)$^{(6)}$', 'Mean ($\\\\omega$)$^{(9)}$', 'Min ($\\\\omega$)$^{(5)}$', 'Max ($\\\\omega$)$^{(8)}$', '$\\\\omega$$^{(5)}$']\n"
     ]
    },
    {
     "name": "stderr",
     "output_type": "stream",
     "text": [
      "Trying to unpickle estimator LabelEncoder from version 0.24.2 when using version 1.0.2. This might lead to breaking code or invalid results. Use at your own risk. For more info please refer to:\n",
      "https://scikit-learn.org/stable/modules/model_persistence.html#security-maintainability-limitations\n",
      "LightGBM binary classifier with TreeExplainer shap values output has changed to a list of ndarray\n"
     ]
    },
    {
     "name": "stdout",
     "output_type": "stream",
     "text": [
      "['/data4-4tb/kgreathoo/plots_result_akara/53893982_peak_idx_1_type_test3_TN.png']\n",
      "✅ Image: /data4-4tb/kgreathoo/plots_result_akara/53893982_peak_idx_1_type_test3_TN.png\n",
      "🖼️ Title: 53893982 Peak Index 1 Type Test3 Tn\n",
      "✅ Saved combined PDF: shap_outputs_1_10_new_great/53893982_peak_idx_1_type_test3_TN_96.pdf\n",
      "['/data4-4tb/kgreathoo/plots_result_akara/54066067_peak_idx_1_type_test0_TN.png']\n",
      "['$\\\\omega$$^{(6)}$', 'Std. ($\\\\omega$)$^{(9)}$', 'Mean ($\\\\omega$)$^{(6)}$', 'Max ($\\\\omega$)$^{(9)}$', 'Max ($\\\\omega$)$^{(7)}$', 'Min ($\\\\omega$)$^{(6)}$', 'Mean ($\\\\omega$)$^{(9)}$', 'Min ($\\\\omega$)$^{(5)}$', 'Max ($\\\\omega$)$^{(8)}$', '$\\\\omega$$^{(5)}$']\n"
     ]
    },
    {
     "name": "stderr",
     "output_type": "stream",
     "text": [
      "Trying to unpickle estimator LabelEncoder from version 0.24.2 when using version 1.0.2. This might lead to breaking code or invalid results. Use at your own risk. For more info please refer to:\n",
      "https://scikit-learn.org/stable/modules/model_persistence.html#security-maintainability-limitations\n",
      "LightGBM binary classifier with TreeExplainer shap values output has changed to a list of ndarray\n"
     ]
    },
    {
     "name": "stdout",
     "output_type": "stream",
     "text": [
      "['/data4-4tb/kgreathoo/plots_result_akara/54066067_peak_idx_1_type_test0_TN.png']\n",
      "✅ Image: /data4-4tb/kgreathoo/plots_result_akara/54066067_peak_idx_1_type_test0_TN.png\n",
      "🖼️ Title: 54066067 Peak Index 1 Type Test0 Tn\n",
      "✅ Saved combined PDF: shap_outputs_1_10_new_great/54066067_peak_idx_1_type_test0_TN_96.pdf\n",
      "['/data4-4tb/kgreathoo/plots_result_akara/54104142_peak_idx_1_type_test0_TN.png']\n",
      "['$\\\\omega$$^{(6)}$', 'Std. ($\\\\omega$)$^{(9)}$', 'Mean ($\\\\omega$)$^{(6)}$', 'Max ($\\\\omega$)$^{(9)}$', 'Max ($\\\\omega$)$^{(7)}$', 'Min ($\\\\omega$)$^{(6)}$', 'Mean ($\\\\omega$)$^{(9)}$', 'Min ($\\\\omega$)$^{(5)}$', 'Max ($\\\\omega$)$^{(8)}$', '$\\\\omega$$^{(5)}$']\n"
     ]
    },
    {
     "name": "stderr",
     "output_type": "stream",
     "text": [
      "Trying to unpickle estimator LabelEncoder from version 0.24.2 when using version 1.0.2. This might lead to breaking code or invalid results. Use at your own risk. For more info please refer to:\n",
      "https://scikit-learn.org/stable/modules/model_persistence.html#security-maintainability-limitations\n",
      "LightGBM binary classifier with TreeExplainer shap values output has changed to a list of ndarray\n"
     ]
    },
    {
     "name": "stdout",
     "output_type": "stream",
     "text": [
      "['/data4-4tb/kgreathoo/plots_result_akara/54104142_peak_idx_1_type_test0_TN.png']\n",
      "✅ Image: /data4-4tb/kgreathoo/plots_result_akara/54104142_peak_idx_1_type_test0_TN.png\n",
      "🖼️ Title: 54104142 Peak Index 1 Type Test0 Tn\n",
      "✅ Saved combined PDF: shap_outputs_1_10_new_great/54104142_peak_idx_1_type_test0_TN_96.pdf\n",
      "['/data4-4tb/kgreathoo/plots_result_akara/54209927_peak_idx_2_type_test1_FP.png']\n",
      "['$\\\\omega$$^{(6)}$', 'Std. ($\\\\omega$)$^{(9)}$', 'Mean ($\\\\omega$)$^{(6)}$', 'Max ($\\\\omega$)$^{(9)}$', 'Max ($\\\\omega$)$^{(7)}$', 'Min ($\\\\omega$)$^{(6)}$', 'Mean ($\\\\omega$)$^{(9)}$', 'Min ($\\\\omega$)$^{(5)}$', 'Max ($\\\\omega$)$^{(8)}$', '$\\\\omega$$^{(5)}$']\n"
     ]
    },
    {
     "name": "stderr",
     "output_type": "stream",
     "text": [
      "Trying to unpickle estimator LabelEncoder from version 0.24.2 when using version 1.0.2. This might lead to breaking code or invalid results. Use at your own risk. For more info please refer to:\n",
      "https://scikit-learn.org/stable/modules/model_persistence.html#security-maintainability-limitations\n",
      "LightGBM binary classifier with TreeExplainer shap values output has changed to a list of ndarray\n"
     ]
    },
    {
     "name": "stdout",
     "output_type": "stream",
     "text": [
      "['/data4-4tb/kgreathoo/plots_result_akara/54209927_peak_idx_2_type_test1_FP.png']\n",
      "✅ Image: /data4-4tb/kgreathoo/plots_result_akara/54209927_peak_idx_2_type_test1_FP.png\n",
      "🖼️ Title: 54209927 Peak Index 2 Type Test1 Fp\n",
      "✅ Saved combined PDF: shap_outputs_1_10_new_great/54209927_peak_idx_2_type_test1_FP_96.pdf\n",
      "['/data4-4tb/kgreathoo/plots_result_akara/54231068_peak_idx_2_type_test1_FP.png']\n",
      "['$\\\\omega$$^{(6)}$', 'Std. ($\\\\omega$)$^{(9)}$', 'Mean ($\\\\omega$)$^{(6)}$', 'Max ($\\\\omega$)$^{(9)}$', 'Max ($\\\\omega$)$^{(7)}$', 'Min ($\\\\omega$)$^{(6)}$', 'Mean ($\\\\omega$)$^{(9)}$', 'Min ($\\\\omega$)$^{(5)}$', 'Max ($\\\\omega$)$^{(8)}$', '$\\\\omega$$^{(5)}$']\n"
     ]
    },
    {
     "name": "stderr",
     "output_type": "stream",
     "text": [
      "Trying to unpickle estimator LabelEncoder from version 0.24.2 when using version 1.0.2. This might lead to breaking code or invalid results. Use at your own risk. For more info please refer to:\n",
      "https://scikit-learn.org/stable/modules/model_persistence.html#security-maintainability-limitations\n",
      "LightGBM binary classifier with TreeExplainer shap values output has changed to a list of ndarray\n"
     ]
    },
    {
     "name": "stdout",
     "output_type": "stream",
     "text": [
      "['/data4-4tb/kgreathoo/plots_result_akara/54231068_peak_idx_2_type_test1_FP.png']\n",
      "✅ Image: /data4-4tb/kgreathoo/plots_result_akara/54231068_peak_idx_2_type_test1_FP.png\n",
      "🖼️ Title: 54231068 Peak Index 2 Type Test1 Fp\n",
      "✅ Saved combined PDF: shap_outputs_1_10_new_great/54231068_peak_idx_2_type_test1_FP_96.pdf\n",
      "['/data4-4tb/kgreathoo/plots_result_akara/54270787_peak_idx_2_type_test3_FP.png']\n",
      "['$\\\\omega$$^{(6)}$', 'Std. ($\\\\omega$)$^{(9)}$', 'Mean ($\\\\omega$)$^{(6)}$', 'Max ($\\\\omega$)$^{(9)}$', 'Max ($\\\\omega$)$^{(7)}$', 'Min ($\\\\omega$)$^{(6)}$', 'Mean ($\\\\omega$)$^{(9)}$', 'Min ($\\\\omega$)$^{(5)}$', 'Max ($\\\\omega$)$^{(8)}$', '$\\\\omega$$^{(5)}$']\n"
     ]
    },
    {
     "name": "stderr",
     "output_type": "stream",
     "text": [
      "Trying to unpickle estimator LabelEncoder from version 0.24.2 when using version 1.0.2. This might lead to breaking code or invalid results. Use at your own risk. For more info please refer to:\n",
      "https://scikit-learn.org/stable/modules/model_persistence.html#security-maintainability-limitations\n",
      "LightGBM binary classifier with TreeExplainer shap values output has changed to a list of ndarray\n"
     ]
    },
    {
     "name": "stdout",
     "output_type": "stream",
     "text": [
      "['/data4-4tb/kgreathoo/plots_result_akara/54270787_peak_idx_2_type_test3_FP.png']\n",
      "✅ Image: /data4-4tb/kgreathoo/plots_result_akara/54270787_peak_idx_2_type_test3_FP.png\n",
      "🖼️ Title: 54270787 Peak Index 2 Type Test3 Fp\n",
      "✅ Saved combined PDF: shap_outputs_1_10_new_great/54270787_peak_idx_2_type_test3_FP_96.pdf\n",
      "['/data4-4tb/kgreathoo/plots_result_akara/54279570_peak_idx_1_type_test0_TN.png']\n",
      "['$\\\\omega$$^{(6)}$', 'Std. ($\\\\omega$)$^{(9)}$', 'Mean ($\\\\omega$)$^{(6)}$', 'Max ($\\\\omega$)$^{(9)}$', 'Max ($\\\\omega$)$^{(7)}$', 'Min ($\\\\omega$)$^{(6)}$', 'Mean ($\\\\omega$)$^{(9)}$', 'Min ($\\\\omega$)$^{(5)}$', 'Max ($\\\\omega$)$^{(8)}$', '$\\\\omega$$^{(5)}$']\n"
     ]
    },
    {
     "name": "stderr",
     "output_type": "stream",
     "text": [
      "Trying to unpickle estimator LabelEncoder from version 0.24.2 when using version 1.0.2. This might lead to breaking code or invalid results. Use at your own risk. For more info please refer to:\n",
      "https://scikit-learn.org/stable/modules/model_persistence.html#security-maintainability-limitations\n",
      "LightGBM binary classifier with TreeExplainer shap values output has changed to a list of ndarray\n"
     ]
    },
    {
     "name": "stdout",
     "output_type": "stream",
     "text": [
      "['/data4-4tb/kgreathoo/plots_result_akara/54279570_peak_idx_1_type_test0_TN.png']\n",
      "✅ Image: /data4-4tb/kgreathoo/plots_result_akara/54279570_peak_idx_1_type_test0_TN.png\n",
      "🖼️ Title: 54279570 Peak Index 1 Type Test0 Tn\n",
      "✅ Saved combined PDF: shap_outputs_1_10_new_great/54279570_peak_idx_1_type_test0_TN_96.pdf\n",
      "['/data4-4tb/kgreathoo/plots_result_akara/54283571_peak_idx_1_type_test3_TN.png']\n",
      "['$\\\\omega$$^{(6)}$', 'Std. ($\\\\omega$)$^{(9)}$', 'Mean ($\\\\omega$)$^{(6)}$', 'Max ($\\\\omega$)$^{(9)}$', 'Max ($\\\\omega$)$^{(7)}$', 'Min ($\\\\omega$)$^{(6)}$', 'Mean ($\\\\omega$)$^{(9)}$', 'Min ($\\\\omega$)$^{(5)}$', 'Max ($\\\\omega$)$^{(8)}$', '$\\\\omega$$^{(5)}$']\n"
     ]
    },
    {
     "name": "stderr",
     "output_type": "stream",
     "text": [
      "Trying to unpickle estimator LabelEncoder from version 0.24.2 when using version 1.0.2. This might lead to breaking code or invalid results. Use at your own risk. For more info please refer to:\n",
      "https://scikit-learn.org/stable/modules/model_persistence.html#security-maintainability-limitations\n",
      "LightGBM binary classifier with TreeExplainer shap values output has changed to a list of ndarray\n"
     ]
    },
    {
     "name": "stdout",
     "output_type": "stream",
     "text": [
      "['/data4-4tb/kgreathoo/plots_result_akara/54283571_peak_idx_1_type_test3_TN.png']\n",
      "✅ Image: /data4-4tb/kgreathoo/plots_result_akara/54283571_peak_idx_1_type_test3_TN.png\n",
      "🖼️ Title: 54283571 Peak Index 1 Type Test3 Tn\n",
      "✅ Saved combined PDF: shap_outputs_1_10_new_great/54283571_peak_idx_1_type_test3_TN_96.pdf\n",
      "['/data4-4tb/kgreathoo/plots_result_akara/38022581_peak_idx_9_type_test3_TN.png']\n",
      "['$\\\\omega$$^{(6)}$', 'Std. ($\\\\omega$)$^{(9)}$', 'Mean ($\\\\omega$)$^{(6)}$', 'Max ($\\\\omega$)$^{(9)}$', 'Max ($\\\\omega$)$^{(7)}$', 'Min ($\\\\omega$)$^{(6)}$', 'Mean ($\\\\omega$)$^{(9)}$', 'Min ($\\\\omega$)$^{(5)}$', 'Max ($\\\\omega$)$^{(8)}$', '$\\\\omega$$^{(5)}$']\n"
     ]
    },
    {
     "name": "stderr",
     "output_type": "stream",
     "text": [
      "Trying to unpickle estimator LabelEncoder from version 0.24.2 when using version 1.0.2. This might lead to breaking code or invalid results. Use at your own risk. For more info please refer to:\n",
      "https://scikit-learn.org/stable/modules/model_persistence.html#security-maintainability-limitations\n",
      "LightGBM binary classifier with TreeExplainer shap values output has changed to a list of ndarray\n"
     ]
    },
    {
     "name": "stdout",
     "output_type": "stream",
     "text": [
      "['/data4-4tb/kgreathoo/plots_result_akara/38022581_peak_idx_9_type_test3_TN.png']\n",
      "✅ Image: /data4-4tb/kgreathoo/plots_result_akara/38022581_peak_idx_9_type_test3_TN.png\n",
      "🖼️ Title: 38022581 Peak Index 9 Type Test3 Tn\n",
      "✅ Saved combined PDF: shap_outputs_1_10_new_great/38022581_peak_idx_9_type_test3_TN_96.pdf\n",
      "['/data4-4tb/kgreathoo/plots_result_akara/38053812_peak_idx_1_type_test0_FP.png']\n",
      "['$\\\\omega$$^{(6)}$', 'Std. ($\\\\omega$)$^{(9)}$', 'Mean ($\\\\omega$)$^{(6)}$', 'Max ($\\\\omega$)$^{(9)}$', 'Max ($\\\\omega$)$^{(7)}$', 'Min ($\\\\omega$)$^{(6)}$', 'Mean ($\\\\omega$)$^{(9)}$', 'Min ($\\\\omega$)$^{(5)}$', 'Max ($\\\\omega$)$^{(8)}$', '$\\\\omega$$^{(5)}$']\n"
     ]
    },
    {
     "name": "stderr",
     "output_type": "stream",
     "text": [
      "Trying to unpickle estimator LabelEncoder from version 0.24.2 when using version 1.0.2. This might lead to breaking code or invalid results. Use at your own risk. For more info please refer to:\n",
      "https://scikit-learn.org/stable/modules/model_persistence.html#security-maintainability-limitations\n",
      "LightGBM binary classifier with TreeExplainer shap values output has changed to a list of ndarray\n"
     ]
    },
    {
     "name": "stdout",
     "output_type": "stream",
     "text": [
      "['/data4-4tb/kgreathoo/plots_result_akara/38053812_peak_idx_1_type_test0_FP.png']\n",
      "✅ Image: /data4-4tb/kgreathoo/plots_result_akara/38053812_peak_idx_1_type_test0_FP.png\n",
      "🖼️ Title: 38053812 Peak Index 1 Type Test0 Fp\n",
      "✅ Saved combined PDF: shap_outputs_1_10_new_great/38053812_peak_idx_1_type_test0_FP_96.pdf\n",
      "['/data4-4tb/kgreathoo/plots_result_akara/38089950_peak_idx_9_type_test3_TN.png']\n",
      "['$\\\\omega$$^{(6)}$', 'Std. ($\\\\omega$)$^{(9)}$', 'Mean ($\\\\omega$)$^{(6)}$', 'Max ($\\\\omega$)$^{(9)}$', 'Max ($\\\\omega$)$^{(7)}$', 'Min ($\\\\omega$)$^{(6)}$', 'Mean ($\\\\omega$)$^{(9)}$', 'Min ($\\\\omega$)$^{(5)}$', 'Max ($\\\\omega$)$^{(8)}$', '$\\\\omega$$^{(5)}$']\n"
     ]
    },
    {
     "name": "stderr",
     "output_type": "stream",
     "text": [
      "Trying to unpickle estimator LabelEncoder from version 0.24.2 when using version 1.0.2. This might lead to breaking code or invalid results. Use at your own risk. For more info please refer to:\n",
      "https://scikit-learn.org/stable/modules/model_persistence.html#security-maintainability-limitations\n",
      "LightGBM binary classifier with TreeExplainer shap values output has changed to a list of ndarray\n"
     ]
    },
    {
     "name": "stdout",
     "output_type": "stream",
     "text": [
      "['/data4-4tb/kgreathoo/plots_result_akara/38089950_peak_idx_9_type_test3_TN.png']\n",
      "✅ Image: /data4-4tb/kgreathoo/plots_result_akara/38089950_peak_idx_9_type_test3_TN.png\n",
      "🖼️ Title: 38089950 Peak Index 9 Type Test3 Tn\n",
      "✅ Saved combined PDF: shap_outputs_1_10_new_great/38089950_peak_idx_9_type_test3_TN_96.pdf\n",
      "['/data4-4tb/kgreathoo/plots_result_akara/39061001_peak_idx_1_type_test0_TN.png']\n",
      "['$\\\\omega$$^{(6)}$', 'Std. ($\\\\omega$)$^{(9)}$', 'Mean ($\\\\omega$)$^{(6)}$', 'Max ($\\\\omega$)$^{(9)}$', 'Max ($\\\\omega$)$^{(7)}$', 'Min ($\\\\omega$)$^{(6)}$', 'Mean ($\\\\omega$)$^{(9)}$', 'Min ($\\\\omega$)$^{(5)}$', 'Max ($\\\\omega$)$^{(8)}$', '$\\\\omega$$^{(5)}$']\n"
     ]
    },
    {
     "name": "stderr",
     "output_type": "stream",
     "text": [
      "Trying to unpickle estimator LabelEncoder from version 0.24.2 when using version 1.0.2. This might lead to breaking code or invalid results. Use at your own risk. For more info please refer to:\n",
      "https://scikit-learn.org/stable/modules/model_persistence.html#security-maintainability-limitations\n",
      "LightGBM binary classifier with TreeExplainer shap values output has changed to a list of ndarray\n"
     ]
    },
    {
     "name": "stdout",
     "output_type": "stream",
     "text": [
      "['/data4-4tb/kgreathoo/plots_result_akara/39061001_peak_idx_1_type_test0_TN.png']\n",
      "✅ Image: /data4-4tb/kgreathoo/plots_result_akara/39061001_peak_idx_1_type_test0_TN.png\n",
      "🖼️ Title: 39061001 Peak Index 1 Type Test0 Tn\n",
      "✅ Saved combined PDF: shap_outputs_1_10_new_great/39061001_peak_idx_1_type_test0_TN_96.pdf\n",
      "['/data4-4tb/kgreathoo/plots_result_akara/39100003_peak_idx_1_type_test0_TN.png']\n",
      "['$\\\\omega$$^{(6)}$', 'Std. ($\\\\omega$)$^{(9)}$', 'Mean ($\\\\omega$)$^{(6)}$', 'Max ($\\\\omega$)$^{(9)}$', 'Max ($\\\\omega$)$^{(7)}$', 'Min ($\\\\omega$)$^{(6)}$', 'Mean ($\\\\omega$)$^{(9)}$', 'Min ($\\\\omega$)$^{(5)}$', 'Max ($\\\\omega$)$^{(8)}$', '$\\\\omega$$^{(5)}$']\n"
     ]
    },
    {
     "name": "stderr",
     "output_type": "stream",
     "text": [
      "Trying to unpickle estimator LabelEncoder from version 0.24.2 when using version 1.0.2. This might lead to breaking code or invalid results. Use at your own risk. For more info please refer to:\n",
      "https://scikit-learn.org/stable/modules/model_persistence.html#security-maintainability-limitations\n",
      "LightGBM binary classifier with TreeExplainer shap values output has changed to a list of ndarray\n"
     ]
    },
    {
     "name": "stdout",
     "output_type": "stream",
     "text": [
      "['/data4-4tb/kgreathoo/plots_result_akara/39100003_peak_idx_1_type_test0_TN.png']\n",
      "✅ Image: /data4-4tb/kgreathoo/plots_result_akara/39100003_peak_idx_1_type_test0_TN.png\n",
      "🖼️ Title: 39100003 Peak Index 1 Type Test0 Tn\n",
      "✅ Saved combined PDF: shap_outputs_1_10_new_great/39100003_peak_idx_1_type_test0_TN_96.pdf\n",
      "['/data4-4tb/kgreathoo/plots_result_akara/40151265_peak_idx_1_type_test4_FP.png']\n",
      "['$\\\\omega$$^{(6)}$', 'Std. ($\\\\omega$)$^{(9)}$', 'Mean ($\\\\omega$)$^{(6)}$', 'Max ($\\\\omega$)$^{(9)}$', 'Max ($\\\\omega$)$^{(7)}$', 'Min ($\\\\omega$)$^{(6)}$', 'Mean ($\\\\omega$)$^{(9)}$', 'Min ($\\\\omega$)$^{(5)}$', 'Max ($\\\\omega$)$^{(8)}$', '$\\\\omega$$^{(5)}$']\n"
     ]
    },
    {
     "name": "stderr",
     "output_type": "stream",
     "text": [
      "Trying to unpickle estimator LabelEncoder from version 0.24.2 when using version 1.0.2. This might lead to breaking code or invalid results. Use at your own risk. For more info please refer to:\n",
      "https://scikit-learn.org/stable/modules/model_persistence.html#security-maintainability-limitations\n",
      "LightGBM binary classifier with TreeExplainer shap values output has changed to a list of ndarray\n"
     ]
    },
    {
     "name": "stdout",
     "output_type": "stream",
     "text": [
      "['/data4-4tb/kgreathoo/plots_result_akara/40151265_peak_idx_1_type_test4_FP.png']\n",
      "✅ Image: /data4-4tb/kgreathoo/plots_result_akara/40151265_peak_idx_1_type_test4_FP.png\n",
      "🖼️ Title: 40151265 Peak Index 1 Type Test4 Fp\n",
      "✅ Saved combined PDF: shap_outputs_1_10_new_great/40151265_peak_idx_1_type_test4_FP_96.pdf\n",
      "['/data4-4tb/kgreathoo/plots_result_akara/42005233_peak_idx_2_type_test0_FP.png']\n",
      "['$\\\\omega$$^{(6)}$', 'Std. ($\\\\omega$)$^{(9)}$', 'Mean ($\\\\omega$)$^{(6)}$', 'Max ($\\\\omega$)$^{(9)}$', 'Max ($\\\\omega$)$^{(7)}$', 'Min ($\\\\omega$)$^{(6)}$', 'Mean ($\\\\omega$)$^{(9)}$', 'Min ($\\\\omega$)$^{(5)}$', 'Max ($\\\\omega$)$^{(8)}$', '$\\\\omega$$^{(5)}$']\n"
     ]
    },
    {
     "name": "stderr",
     "output_type": "stream",
     "text": [
      "Trying to unpickle estimator LabelEncoder from version 0.24.2 when using version 1.0.2. This might lead to breaking code or invalid results. Use at your own risk. For more info please refer to:\n",
      "https://scikit-learn.org/stable/modules/model_persistence.html#security-maintainability-limitations\n",
      "LightGBM binary classifier with TreeExplainer shap values output has changed to a list of ndarray\n"
     ]
    },
    {
     "name": "stdout",
     "output_type": "stream",
     "text": [
      "['/data4-4tb/kgreathoo/plots_result_akara/42005233_peak_idx_2_type_test0_FP.png']\n",
      "✅ Image: /data4-4tb/kgreathoo/plots_result_akara/42005233_peak_idx_2_type_test0_FP.png\n",
      "🖼️ Title: 42005233 Peak Index 2 Type Test0 Fp\n",
      "✅ Saved combined PDF: shap_outputs_1_10_new_great/42005233_peak_idx_2_type_test0_FP_96.pdf\n",
      "['/data4-4tb/kgreathoo/plots_result_akara/42054989_peak_idx_10_type_test4_FP.png']\n",
      "['$\\\\omega$$^{(6)}$', 'Std. ($\\\\omega$)$^{(9)}$', 'Mean ($\\\\omega$)$^{(6)}$', 'Max ($\\\\omega$)$^{(9)}$', 'Max ($\\\\omega$)$^{(7)}$', 'Min ($\\\\omega$)$^{(6)}$', 'Mean ($\\\\omega$)$^{(9)}$', 'Min ($\\\\omega$)$^{(5)}$', 'Max ($\\\\omega$)$^{(8)}$', '$\\\\omega$$^{(5)}$']\n"
     ]
    },
    {
     "name": "stderr",
     "output_type": "stream",
     "text": [
      "Trying to unpickle estimator LabelEncoder from version 0.24.2 when using version 1.0.2. This might lead to breaking code or invalid results. Use at your own risk. For more info please refer to:\n",
      "https://scikit-learn.org/stable/modules/model_persistence.html#security-maintainability-limitations\n",
      "LightGBM binary classifier with TreeExplainer shap values output has changed to a list of ndarray\n"
     ]
    },
    {
     "name": "stdout",
     "output_type": "stream",
     "text": [
      "['/data4-4tb/kgreathoo/plots_result_akara/42054989_peak_idx_10_type_test4_FP.png']\n",
      "✅ Image: /data4-4tb/kgreathoo/plots_result_akara/42054989_peak_idx_10_type_test4_FP.png\n",
      "🖼️ Title: 42054989 Peak Index 10 Type Test4 Fp\n",
      "✅ Saved combined PDF: shap_outputs_1_10_new_great/42054989_peak_idx_10_type_test4_FP_96.pdf\n",
      "['/data4-4tb/kgreathoo/plots_result_akara/42106198_peak_idx_1_type_test2_TN.png']\n",
      "['$\\\\omega$$^{(6)}$', 'Std. ($\\\\omega$)$^{(9)}$', 'Mean ($\\\\omega$)$^{(6)}$', 'Max ($\\\\omega$)$^{(9)}$', 'Max ($\\\\omega$)$^{(7)}$', 'Min ($\\\\omega$)$^{(6)}$', 'Mean ($\\\\omega$)$^{(9)}$', 'Min ($\\\\omega$)$^{(5)}$', 'Max ($\\\\omega$)$^{(8)}$', '$\\\\omega$$^{(5)}$']\n"
     ]
    },
    {
     "name": "stderr",
     "output_type": "stream",
     "text": [
      "Trying to unpickle estimator LabelEncoder from version 0.24.2 when using version 1.0.2. This might lead to breaking code or invalid results. Use at your own risk. For more info please refer to:\n",
      "https://scikit-learn.org/stable/modules/model_persistence.html#security-maintainability-limitations\n",
      "LightGBM binary classifier with TreeExplainer shap values output has changed to a list of ndarray\n"
     ]
    },
    {
     "name": "stdout",
     "output_type": "stream",
     "text": [
      "['/data4-4tb/kgreathoo/plots_result_akara/42106198_peak_idx_1_type_test2_TN.png']\n",
      "✅ Image: /data4-4tb/kgreathoo/plots_result_akara/42106198_peak_idx_1_type_test2_TN.png\n",
      "🖼️ Title: 42106198 Peak Index 1 Type Test2 Tn\n",
      "✅ Saved combined PDF: shap_outputs_1_10_new_great/42106198_peak_idx_1_type_test2_TN_96.pdf\n",
      "['/data4-4tb/kgreathoo/plots_result_akara/42148845_peak_idx_1_type_test4_TN.png']\n",
      "['$\\\\omega$$^{(6)}$', 'Std. ($\\\\omega$)$^{(9)}$', 'Mean ($\\\\omega$)$^{(6)}$', 'Max ($\\\\omega$)$^{(9)}$', 'Max ($\\\\omega$)$^{(7)}$', 'Min ($\\\\omega$)$^{(6)}$', 'Mean ($\\\\omega$)$^{(9)}$', 'Min ($\\\\omega$)$^{(5)}$', 'Max ($\\\\omega$)$^{(8)}$', '$\\\\omega$$^{(5)}$']\n"
     ]
    },
    {
     "name": "stderr",
     "output_type": "stream",
     "text": [
      "Trying to unpickle estimator LabelEncoder from version 0.24.2 when using version 1.0.2. This might lead to breaking code or invalid results. Use at your own risk. For more info please refer to:\n",
      "https://scikit-learn.org/stable/modules/model_persistence.html#security-maintainability-limitations\n",
      "LightGBM binary classifier with TreeExplainer shap values output has changed to a list of ndarray\n"
     ]
    },
    {
     "name": "stdout",
     "output_type": "stream",
     "text": [
      "['/data4-4tb/kgreathoo/plots_result_akara/42148845_peak_idx_1_type_test4_TN.png']\n",
      "✅ Image: /data4-4tb/kgreathoo/plots_result_akara/42148845_peak_idx_1_type_test4_TN.png\n",
      "🖼️ Title: 42148845 Peak Index 1 Type Test4 Tn\n",
      "✅ Saved combined PDF: shap_outputs_1_10_new_great/42148845_peak_idx_1_type_test4_TN_96.pdf\n",
      "['/data4-4tb/kgreathoo/plots_result_akara/44083207_peak_idx_1_type_test3_TN.png']\n",
      "['$\\\\omega$$^{(6)}$', 'Std. ($\\\\omega$)$^{(9)}$', 'Mean ($\\\\omega$)$^{(6)}$', 'Max ($\\\\omega$)$^{(9)}$', 'Max ($\\\\omega$)$^{(7)}$', 'Min ($\\\\omega$)$^{(6)}$', 'Mean ($\\\\omega$)$^{(9)}$', 'Min ($\\\\omega$)$^{(5)}$', 'Max ($\\\\omega$)$^{(8)}$', '$\\\\omega$$^{(5)}$']\n"
     ]
    },
    {
     "name": "stderr",
     "output_type": "stream",
     "text": [
      "Trying to unpickle estimator LabelEncoder from version 0.24.2 when using version 1.0.2. This might lead to breaking code or invalid results. Use at your own risk. For more info please refer to:\n",
      "https://scikit-learn.org/stable/modules/model_persistence.html#security-maintainability-limitations\n",
      "LightGBM binary classifier with TreeExplainer shap values output has changed to a list of ndarray\n"
     ]
    },
    {
     "name": "stdout",
     "output_type": "stream",
     "text": [
      "['/data4-4tb/kgreathoo/plots_result_akara/44083207_peak_idx_1_type_test3_TN.png']\n",
      "✅ Image: /data4-4tb/kgreathoo/plots_result_akara/44083207_peak_idx_1_type_test3_TN.png\n",
      "🖼️ Title: 44083207 Peak Index 1 Type Test3 Tn\n",
      "✅ Saved combined PDF: shap_outputs_1_10_new_great/44083207_peak_idx_1_type_test3_TN_96.pdf\n",
      "['/data4-4tb/kgreathoo/plots_result_akara/45072773_peak_idx_10_type_test2_TN.png']\n",
      "['$\\\\omega$$^{(6)}$', 'Std. ($\\\\omega$)$^{(9)}$', 'Mean ($\\\\omega$)$^{(6)}$', 'Max ($\\\\omega$)$^{(9)}$', 'Max ($\\\\omega$)$^{(7)}$', 'Min ($\\\\omega$)$^{(6)}$', 'Mean ($\\\\omega$)$^{(9)}$', 'Min ($\\\\omega$)$^{(5)}$', 'Max ($\\\\omega$)$^{(8)}$', '$\\\\omega$$^{(5)}$']\n"
     ]
    },
    {
     "name": "stderr",
     "output_type": "stream",
     "text": [
      "Trying to unpickle estimator LabelEncoder from version 0.24.2 when using version 1.0.2. This might lead to breaking code or invalid results. Use at your own risk. For more info please refer to:\n",
      "https://scikit-learn.org/stable/modules/model_persistence.html#security-maintainability-limitations\n",
      "LightGBM binary classifier with TreeExplainer shap values output has changed to a list of ndarray\n"
     ]
    },
    {
     "name": "stdout",
     "output_type": "stream",
     "text": [
      "['/data4-4tb/kgreathoo/plots_result_akara/45072773_peak_idx_10_type_test2_TN.png']\n",
      "✅ Image: /data4-4tb/kgreathoo/plots_result_akara/45072773_peak_idx_10_type_test2_TN.png\n",
      "🖼️ Title: 45072773 Peak Index 10 Type Test2 Tn\n",
      "✅ Saved combined PDF: shap_outputs_1_10_new_great/45072773_peak_idx_10_type_test2_TN_96.pdf\n",
      "['/data4-4tb/kgreathoo/plots_result_akara/45502443_peak_idx_9_type_test2_TN.png']\n",
      "['$\\\\omega$$^{(6)}$', 'Std. ($\\\\omega$)$^{(9)}$', 'Mean ($\\\\omega$)$^{(6)}$', 'Max ($\\\\omega$)$^{(9)}$', 'Max ($\\\\omega$)$^{(7)}$', 'Min ($\\\\omega$)$^{(6)}$', 'Mean ($\\\\omega$)$^{(9)}$', 'Min ($\\\\omega$)$^{(5)}$', 'Max ($\\\\omega$)$^{(8)}$', '$\\\\omega$$^{(5)}$']\n"
     ]
    },
    {
     "name": "stderr",
     "output_type": "stream",
     "text": [
      "Trying to unpickle estimator LabelEncoder from version 0.24.2 when using version 1.0.2. This might lead to breaking code or invalid results. Use at your own risk. For more info please refer to:\n",
      "https://scikit-learn.org/stable/modules/model_persistence.html#security-maintainability-limitations\n",
      "LightGBM binary classifier with TreeExplainer shap values output has changed to a list of ndarray\n"
     ]
    },
    {
     "name": "stdout",
     "output_type": "stream",
     "text": [
      "['/data4-4tb/kgreathoo/plots_result_akara/45502443_peak_idx_9_type_test2_TN.png']\n",
      "✅ Image: /data4-4tb/kgreathoo/plots_result_akara/45502443_peak_idx_9_type_test2_TN.png\n",
      "🖼️ Title: 45502443 Peak Index 9 Type Test2 Tn\n",
      "✅ Saved combined PDF: shap_outputs_1_10_new_great/45502443_peak_idx_9_type_test2_TN_96.pdf\n",
      "['/data4-4tb/kgreathoo/plots_result_akara/47138521_peak_idx_10_type_test4_FP.png']\n",
      "['$\\\\omega$$^{(6)}$', 'Std. ($\\\\omega$)$^{(9)}$', 'Mean ($\\\\omega$)$^{(6)}$', 'Max ($\\\\omega$)$^{(9)}$', 'Max ($\\\\omega$)$^{(7)}$', 'Min ($\\\\omega$)$^{(6)}$', 'Mean ($\\\\omega$)$^{(9)}$', 'Min ($\\\\omega$)$^{(5)}$', 'Max ($\\\\omega$)$^{(8)}$', '$\\\\omega$$^{(5)}$']\n"
     ]
    },
    {
     "name": "stderr",
     "output_type": "stream",
     "text": [
      "Trying to unpickle estimator LabelEncoder from version 0.24.2 when using version 1.0.2. This might lead to breaking code or invalid results. Use at your own risk. For more info please refer to:\n",
      "https://scikit-learn.org/stable/modules/model_persistence.html#security-maintainability-limitations\n",
      "LightGBM binary classifier with TreeExplainer shap values output has changed to a list of ndarray\n"
     ]
    },
    {
     "name": "stdout",
     "output_type": "stream",
     "text": [
      "['/data4-4tb/kgreathoo/plots_result_akara/47138521_peak_idx_10_type_test4_FP.png']\n",
      "✅ Image: /data4-4tb/kgreathoo/plots_result_akara/47138521_peak_idx_10_type_test4_FP.png\n",
      "🖼️ Title: 47138521 Peak Index 10 Type Test4 Fp\n",
      "✅ Saved combined PDF: shap_outputs_1_10_new_great/47138521_peak_idx_10_type_test4_FP_96.pdf\n",
      "['/data4-4tb/kgreathoo/plots_result_akara/50157980_peak_idx_1_type_test0_TN.png']\n",
      "['$\\\\omega$$^{(6)}$', 'Std. ($\\\\omega$)$^{(9)}$', 'Mean ($\\\\omega$)$^{(6)}$', 'Max ($\\\\omega$)$^{(9)}$', 'Max ($\\\\omega$)$^{(7)}$', 'Min ($\\\\omega$)$^{(6)}$', 'Mean ($\\\\omega$)$^{(9)}$', 'Min ($\\\\omega$)$^{(5)}$', 'Max ($\\\\omega$)$^{(8)}$', '$\\\\omega$$^{(5)}$']\n"
     ]
    },
    {
     "name": "stderr",
     "output_type": "stream",
     "text": [
      "Trying to unpickle estimator LabelEncoder from version 0.24.2 when using version 1.0.2. This might lead to breaking code or invalid results. Use at your own risk. For more info please refer to:\n",
      "https://scikit-learn.org/stable/modules/model_persistence.html#security-maintainability-limitations\n",
      "LightGBM binary classifier with TreeExplainer shap values output has changed to a list of ndarray\n"
     ]
    },
    {
     "name": "stdout",
     "output_type": "stream",
     "text": [
      "['/data4-4tb/kgreathoo/plots_result_akara/50157980_peak_idx_1_type_test0_TN.png']\n",
      "✅ Image: /data4-4tb/kgreathoo/plots_result_akara/50157980_peak_idx_1_type_test0_TN.png\n",
      "🖼️ Title: 50157980 Peak Index 1 Type Test0 Tn\n",
      "✅ Saved combined PDF: shap_outputs_1_10_new_great/50157980_peak_idx_1_type_test0_TN_96.pdf\n",
      "['/data4-4tb/kgreathoo/plots_result_akara/50501145_peak_idx_1_type_test1_TN.png']\n",
      "['$\\\\omega$$^{(6)}$', 'Std. ($\\\\omega$)$^{(9)}$', 'Mean ($\\\\omega$)$^{(6)}$', 'Max ($\\\\omega$)$^{(9)}$', 'Max ($\\\\omega$)$^{(7)}$', 'Min ($\\\\omega$)$^{(6)}$', 'Mean ($\\\\omega$)$^{(9)}$', 'Min ($\\\\omega$)$^{(5)}$', 'Max ($\\\\omega$)$^{(8)}$', '$\\\\omega$$^{(5)}$']\n"
     ]
    },
    {
     "name": "stderr",
     "output_type": "stream",
     "text": [
      "Trying to unpickle estimator LabelEncoder from version 0.24.2 when using version 1.0.2. This might lead to breaking code or invalid results. Use at your own risk. For more info please refer to:\n",
      "https://scikit-learn.org/stable/modules/model_persistence.html#security-maintainability-limitations\n",
      "LightGBM binary classifier with TreeExplainer shap values output has changed to a list of ndarray\n"
     ]
    },
    {
     "name": "stdout",
     "output_type": "stream",
     "text": [
      "['/data4-4tb/kgreathoo/plots_result_akara/50501145_peak_idx_1_type_test1_TN.png']\n",
      "✅ Image: /data4-4tb/kgreathoo/plots_result_akara/50501145_peak_idx_1_type_test1_TN.png\n",
      "🖼️ Title: 50501145 Peak Index 1 Type Test1 Tn\n",
      "✅ Saved combined PDF: shap_outputs_1_10_new_great/50501145_peak_idx_1_type_test1_TN_96.pdf\n",
      "['/data4-4tb/kgreathoo/plots_result_akara/51131969_peak_idx_1_type_test4_TN.png']\n",
      "['$\\\\omega$$^{(6)}$', 'Std. ($\\\\omega$)$^{(9)}$', 'Mean ($\\\\omega$)$^{(6)}$', 'Max ($\\\\omega$)$^{(9)}$', 'Max ($\\\\omega$)$^{(7)}$', 'Min ($\\\\omega$)$^{(6)}$', 'Mean ($\\\\omega$)$^{(9)}$', 'Min ($\\\\omega$)$^{(5)}$', 'Max ($\\\\omega$)$^{(8)}$', '$\\\\omega$$^{(5)}$']\n"
     ]
    },
    {
     "name": "stderr",
     "output_type": "stream",
     "text": [
      "Trying to unpickle estimator LabelEncoder from version 0.24.2 when using version 1.0.2. This might lead to breaking code or invalid results. Use at your own risk. For more info please refer to:\n",
      "https://scikit-learn.org/stable/modules/model_persistence.html#security-maintainability-limitations\n",
      "LightGBM binary classifier with TreeExplainer shap values output has changed to a list of ndarray\n"
     ]
    },
    {
     "name": "stdout",
     "output_type": "stream",
     "text": [
      "['/data4-4tb/kgreathoo/plots_result_akara/51131969_peak_idx_1_type_test4_TN.png']\n",
      "✅ Image: /data4-4tb/kgreathoo/plots_result_akara/51131969_peak_idx_1_type_test4_TN.png\n",
      "🖼️ Title: 51131969 Peak Index 1 Type Test4 Tn\n",
      "✅ Saved combined PDF: shap_outputs_1_10_new_great/51131969_peak_idx_1_type_test4_TN_96.pdf\n",
      "['/data4-4tb/kgreathoo/plots_result_akara/52762633_peak_idx_1_type_test0_TN.png']\n",
      "['$\\\\omega$$^{(6)}$', 'Std. ($\\\\omega$)$^{(9)}$', 'Mean ($\\\\omega$)$^{(6)}$', 'Max ($\\\\omega$)$^{(9)}$', 'Max ($\\\\omega$)$^{(7)}$', 'Min ($\\\\omega$)$^{(6)}$', 'Mean ($\\\\omega$)$^{(9)}$', 'Min ($\\\\omega$)$^{(5)}$', 'Max ($\\\\omega$)$^{(8)}$', '$\\\\omega$$^{(5)}$']\n"
     ]
    },
    {
     "name": "stderr",
     "output_type": "stream",
     "text": [
      "Trying to unpickle estimator LabelEncoder from version 0.24.2 when using version 1.0.2. This might lead to breaking code or invalid results. Use at your own risk. For more info please refer to:\n",
      "https://scikit-learn.org/stable/modules/model_persistence.html#security-maintainability-limitations\n",
      "LightGBM binary classifier with TreeExplainer shap values output has changed to a list of ndarray\n"
     ]
    },
    {
     "name": "stdout",
     "output_type": "stream",
     "text": [
      "['/data4-4tb/kgreathoo/plots_result_akara/52762633_peak_idx_1_type_test0_TN.png']\n",
      "✅ Image: /data4-4tb/kgreathoo/plots_result_akara/52762633_peak_idx_1_type_test0_TN.png\n",
      "🖼️ Title: 52762633 Peak Index 1 Type Test0 Tn\n",
      "✅ Saved combined PDF: shap_outputs_1_10_new_great/52762633_peak_idx_1_type_test0_TN_96.pdf\n",
      "['/data4-4tb/kgreathoo/plots_result_akara/53189614_peak_idx_1_type_test2_FP.png']\n",
      "['$\\\\omega$$^{(6)}$', 'Std. ($\\\\omega$)$^{(9)}$', 'Mean ($\\\\omega$)$^{(6)}$', 'Max ($\\\\omega$)$^{(9)}$', 'Max ($\\\\omega$)$^{(7)}$', 'Min ($\\\\omega$)$^{(6)}$', 'Mean ($\\\\omega$)$^{(9)}$', 'Min ($\\\\omega$)$^{(5)}$', 'Max ($\\\\omega$)$^{(8)}$', '$\\\\omega$$^{(5)}$']\n"
     ]
    },
    {
     "name": "stderr",
     "output_type": "stream",
     "text": [
      "Trying to unpickle estimator LabelEncoder from version 0.24.2 when using version 1.0.2. This might lead to breaking code or invalid results. Use at your own risk. For more info please refer to:\n",
      "https://scikit-learn.org/stable/modules/model_persistence.html#security-maintainability-limitations\n",
      "LightGBM binary classifier with TreeExplainer shap values output has changed to a list of ndarray\n"
     ]
    },
    {
     "name": "stdout",
     "output_type": "stream",
     "text": [
      "['/data4-4tb/kgreathoo/plots_result_akara/53189614_peak_idx_1_type_test2_FP.png']\n",
      "✅ Image: /data4-4tb/kgreathoo/plots_result_akara/53189614_peak_idx_1_type_test2_FP.png\n",
      "🖼️ Title: 53189614 Peak Index 1 Type Test2 Fp\n",
      "✅ Saved combined PDF: shap_outputs_1_10_new_great/53189614_peak_idx_1_type_test2_FP_96.pdf\n",
      "['/data4-4tb/kgreathoo/plots_result_akara/53798105_peak_idx_10_type_test2_TN.png']\n",
      "['$\\\\omega$$^{(6)}$', 'Std. ($\\\\omega$)$^{(9)}$', 'Mean ($\\\\omega$)$^{(6)}$', 'Max ($\\\\omega$)$^{(9)}$', 'Max ($\\\\omega$)$^{(7)}$', 'Min ($\\\\omega$)$^{(6)}$', 'Mean ($\\\\omega$)$^{(9)}$', 'Min ($\\\\omega$)$^{(5)}$', 'Max ($\\\\omega$)$^{(8)}$', '$\\\\omega$$^{(5)}$']\n"
     ]
    },
    {
     "name": "stderr",
     "output_type": "stream",
     "text": [
      "Trying to unpickle estimator LabelEncoder from version 0.24.2 when using version 1.0.2. This might lead to breaking code or invalid results. Use at your own risk. For more info please refer to:\n",
      "https://scikit-learn.org/stable/modules/model_persistence.html#security-maintainability-limitations\n",
      "LightGBM binary classifier with TreeExplainer shap values output has changed to a list of ndarray\n"
     ]
    },
    {
     "name": "stdout",
     "output_type": "stream",
     "text": [
      "['/data4-4tb/kgreathoo/plots_result_akara/53798105_peak_idx_10_type_test2_TN.png']\n",
      "✅ Image: /data4-4tb/kgreathoo/plots_result_akara/53798105_peak_idx_10_type_test2_TN.png\n",
      "🖼️ Title: 53798105 Peak Index 10 Type Test2 Tn\n",
      "✅ Saved combined PDF: shap_outputs_1_10_new_great/53798105_peak_idx_10_type_test2_TN_96.pdf\n",
      "['/data4-4tb/kgreathoo/plots_result_akara/53882768_peak_idx_4_type_test3_TN.png']\n",
      "['$\\\\omega$$^{(6)}$', 'Std. ($\\\\omega$)$^{(9)}$', 'Mean ($\\\\omega$)$^{(6)}$', 'Max ($\\\\omega$)$^{(9)}$', 'Max ($\\\\omega$)$^{(7)}$', 'Min ($\\\\omega$)$^{(6)}$', 'Mean ($\\\\omega$)$^{(9)}$', 'Min ($\\\\omega$)$^{(5)}$', 'Max ($\\\\omega$)$^{(8)}$', '$\\\\omega$$^{(5)}$']\n"
     ]
    },
    {
     "name": "stderr",
     "output_type": "stream",
     "text": [
      "Trying to unpickle estimator LabelEncoder from version 0.24.2 when using version 1.0.2. This might lead to breaking code or invalid results. Use at your own risk. For more info please refer to:\n",
      "https://scikit-learn.org/stable/modules/model_persistence.html#security-maintainability-limitations\n",
      "LightGBM binary classifier with TreeExplainer shap values output has changed to a list of ndarray\n"
     ]
    },
    {
     "name": "stdout",
     "output_type": "stream",
     "text": [
      "['/data4-4tb/kgreathoo/plots_result_akara/53882768_peak_idx_4_type_test3_TN.png']\n",
      "✅ Image: /data4-4tb/kgreathoo/plots_result_akara/53882768_peak_idx_4_type_test3_TN.png\n",
      "🖼️ Title: 53882768 Peak Index 4 Type Test3 Tn\n",
      "✅ Saved combined PDF: shap_outputs_1_10_new_great/53882768_peak_idx_4_type_test3_TN_96.pdf\n",
      "['/data4-4tb/kgreathoo/plots_result_akara/54203499_peak_idx_1_type_test2_TN.png']\n",
      "['$\\\\omega$$^{(6)}$', 'Std. ($\\\\omega$)$^{(9)}$', 'Mean ($\\\\omega$)$^{(6)}$', 'Max ($\\\\omega$)$^{(9)}$', 'Max ($\\\\omega$)$^{(7)}$', 'Min ($\\\\omega$)$^{(6)}$', 'Mean ($\\\\omega$)$^{(9)}$', 'Min ($\\\\omega$)$^{(5)}$', 'Max ($\\\\omega$)$^{(8)}$', '$\\\\omega$$^{(5)}$']\n"
     ]
    },
    {
     "name": "stderr",
     "output_type": "stream",
     "text": [
      "Trying to unpickle estimator LabelEncoder from version 0.24.2 when using version 1.0.2. This might lead to breaking code or invalid results. Use at your own risk. For more info please refer to:\n",
      "https://scikit-learn.org/stable/modules/model_persistence.html#security-maintainability-limitations\n",
      "LightGBM binary classifier with TreeExplainer shap values output has changed to a list of ndarray\n"
     ]
    },
    {
     "name": "stdout",
     "output_type": "stream",
     "text": [
      "['/data4-4tb/kgreathoo/plots_result_akara/54203499_peak_idx_1_type_test2_TN.png']\n",
      "✅ Image: /data4-4tb/kgreathoo/plots_result_akara/54203499_peak_idx_1_type_test2_TN.png\n",
      "🖼️ Title: 54203499 Peak Index 1 Type Test2 Tn\n",
      "✅ Saved combined PDF: shap_outputs_1_10_new_great/54203499_peak_idx_1_type_test2_TN_96.pdf\n"
     ]
    }
   ],
   "source": [
    "import pandas as pd\n",
    "import shap\n",
    "import pickle\n",
    "import matplotlib.pyplot as plt\n",
    "\n",
    "# โหลด interest case ที่สนใจ (เฉพาะ test fold)\n",
    "abnormal_info = pd.read_csv(\"/data4-4tb/kgreathoo/abnormal_cases_info.csv\")\n",
    "abnormal_info['HN'] = abnormal_info['HN'].astype(int)\n",
    "abnormal_info = abnormal_info[abnormal_info['type'].str.contains('test')]\n",
    "abnormal_info['fold'] = abnormal_info['type'].str.extract(r'test(\\d+)').astype(int)\n",
    "\n",
    "import os\n",
    "import pickle\n",
    "import shap\n",
    "import matplotlib.pyplot as plt\n",
    "import pandas as pd\n",
    "from PIL import Image\n",
    "import glob\n",
    "import re\n",
    "FONT_SIZE = 96\n",
    "\n",
    "def find_partition_img(hn: int, plots_dir='/data4-4tb/kgreathoo/plots_result_akara'):\n",
    "    # ค้นหาไฟล์ที่มี HN อยู่ในชื่อ\n",
    "    matching_files = glob.glob(os.path.join(plots_dir, f\"*{hn}*.png\"))\n",
    "    print(matching_files)\n",
    "    if matching_files:\n",
    "        return matching_files[0],matching_files[0].split('/')[-1]  # เอาไฟล์แรกที่เจอ\n",
    "    return None, None\n",
    "\n",
    "def generate_pretty_title(filename):\n",
    "    base = os.path.basename(filename)\n",
    "    base = base.replace('_', ' ').replace('.png', '')\n",
    "    # ลบ \"peak idx\" เป็น \"Peak\" และ \"type\" เป็น \"Type\"\n",
    "    base = base.replace('peak idx', 'Peak Index')\n",
    "    base = base.replace('type', 'Type')\n",
    "    base = base.replace('HN', 'HN')\n",
    "    # เติมความเป็นระเบียบ\n",
    "    return base.title()\n",
    "\n",
    "output_dir = \"shap_outputs_1_10_new_great\"\n",
    "os.makedirs(output_dir, exist_ok=True)\n",
    "\n",
    "for i, row in abnormal_info.iterrows():\n",
    "    hn = row['HN']\n",
    "    fold = int(row['fold'])\n",
    "    peak = int(row['peak_partition'])+1\n",
    "    type_name = row['type']\n",
    "    img_path, img_name = find_partition_img(hn)\n",
    "    if img_path is None:\n",
    "        print(f'skip: {hn}')\n",
    "        continue\n",
    "\n",
    "    # โหลดโมเดล\n",
    "#     model_path = f'/data2-2tb/kgreathoo/Weakconfident1{fold}_89.sav'\n",
    "    model_path = f'/media/akara_bkp/nph_kgreat/kgreathoo/Weakconfident1{fold}_89.sav'\n",
    "    if not os.path.exists(model_path):\n",
    "        print(f\"❌ ไม่พบโมเดล: {model_path}\")\n",
    "        continue\n",
    "    model = pickle.load(open(model_path, 'rb'))\n",
    "\n",
    "    # เตรียมข้อมูล\n",
    "    person_row = data[(data['HN'].astype(int) == hn) & (data['fold'] == fold)]\n",
    "    if person_row.empty:\n",
    "        print(f\"❌ ไม่พบ HN={hn}, fold={fold}\")\n",
    "        continue\n",
    "    X_sample = person_row[cols].values.reshape(1, -1)\n",
    "\n",
    "    # คำนวณ SHAP\n",
    "    explainer = shap.TreeExplainer(model)\n",
    "    shap_values = explainer.shap_values(X_sample)\n",
    "\n",
    "    # บันทึก SHAP เป็นไฟล์เดี่ยว\n",
    "    shap_img_path = os.path.join(output_dir, f'shap_HN{hn}_fold{fold}.png')\n",
    "    plt.figure()\n",
    "    \n",
    "    def adjust_partition_index(name):\n",
    "        return re.sub(r'_(\\d+)', lambda m: f'_{int(m.group(1)) + 1}', name)\n",
    "\n",
    "    adjusted_cols = [adjust_partition_index(col) for col in cols]\n",
    "    adjusted_cols = [f.replace(' CSF ratio',' ($\\omega$)') for f in adjusted_cols]\n",
    "    adjusted_cols = [f.replace('CSF ratio','$\\omega$') for f in adjusted_cols]\n",
    "    adjusted_cols = [f.replace('Std ','Std. ') for f in adjusted_cols]\n",
    "    \n",
    "    def replace_csf_with_omega_sup(name):\n",
    "        return re.sub(r'_(\\d+)', r'$^{(\\1)}$', name)\n",
    "    \n",
    "    adjusted_cols = [f.replace('CSF ratio','$\\omega$') for f in adjusted_cols]\n",
    "    adjusted_cols = [replace_csf_with_omega_sup(f) for f in adjusted_cols]\n",
    "    \n",
    "    print(adjusted_cols)\n",
    "\n",
    "    plt.rcParams.update({'font.size': FONT_SIZE})\n",
    "    shap.plots.waterfall(\n",
    "        shap.Explanation(\n",
    "            values=shap_values[1][0],\n",
    "            base_values=explainer.expected_value[1],\n",
    "            data=X_sample[0],\n",
    "            feature_names=adjusted_cols\n",
    "        ),\n",
    "        show=False\n",
    "    )\n",
    "\n",
    "    plt.tight_layout()\n",
    "    plt.savefig(shap_img_path, dpi=150, bbox_inches='tight')\n",
    "    plt.close()\n",
    "\n",
    "    # เตรียม path ของภาพ partition\n",
    "    img_path, img_name = find_partition_img(hn)\n",
    "    if img_path:\n",
    "        title = generate_pretty_title(img_path)\n",
    "        print(f\"✅ Image: {img_path}\")\n",
    "        print(f\"🖼️ Title: {title}\")\n",
    "    else:\n",
    "        print(f\"❌ ไม่พบภาพของ HN: {hn}\")\n",
    "    if not os.path.exists(img_path):\n",
    "        print(f\"❌ ไม่พบภาพ CT: {img_path}\")\n",
    "        continue\n",
    "\n",
    "###############\n",
    "        \n",
    "#     # รวมภาพ SHAP + CT partition\n",
    "#     shap_img = Image.open(shap_img_path)\n",
    "#     partition_img = Image.open(img_path)\n",
    "    \n",
    "#     if partition_img.mode in (\"RGBA\", \"LA\"):\n",
    "#         white_bg = Image.new(\"RGB\", partition_img.size, (255, 255, 255))\n",
    "#         white_bg.paste(partition_img, mask=partition_img.split()[-1])  # use its own alpha as mask\n",
    "#         partition_img = white_bg          # now an opaque RGB image\n",
    "\n",
    "#     # ปรับขนาดให้เท่ากันด้านสูง\n",
    "#     h = max(shap_img.height, partition_img.height)\n",
    "# #     print(h)\n",
    "#     partition_img = partition_img.resize((int(shap_img.width * h / shap_img.height), h))\n",
    "\n",
    "\n",
    "#     combined = Image.new(\"RGB\", (shap_img.width + partition_img.width, h), color=(255, 255, 255))\n",
    "#     combined.paste(shap_img, (0, 0))\n",
    "#     combined.paste(partition_img, (shap_img.width, 0))\n",
    "\n",
    "#     final_path = os.path.join(output_dir, img_name)\n",
    "#     combined.save(final_path)\n",
    "#     print(f\"✅ Saved combined image: {final_path}\")\n",
    "\n",
    "#################\n",
    "\n",
    "    import matplotlib.pyplot as plt\n",
    "    import matplotlib.image as mpimg\n",
    "    import numpy as np\n",
    "    import os\n",
    "\n",
    "    def rgba_to_rgb_white(arr: np.ndarray) -> np.ndarray:\n",
    "        \"\"\"\n",
    "        Convert an RGBA image array (H, W, 4) to opaque RGB on white.\n",
    "        Matplotlib returns floats in [0,1]; the formula works directly.\n",
    "        \"\"\"\n",
    "        if arr.ndim == 3 and arr.shape[-1] == 4:\n",
    "            alpha = arr[..., 3:4]         # keep axis for broadcasting\n",
    "            rgb   = arr[..., :3]\n",
    "            return rgb * alpha + (1 - alpha)   # white background\n",
    "        return arr\n",
    "\n",
    "    # 1) read each PNG into arrays\n",
    "    shap_arr = mpimg.imread(shap_img_path)          # already RGB (no alpha)\n",
    "    part_arr = mpimg.imread(img_path)               # may be RGBA\n",
    "    part_arr = rgba_to_rgb_white(part_arr)\n",
    "\n",
    "    # 2) bring both arrays to the same pixel height while\n",
    "    #    keeping each aspect ratio (no interpolation artefacts)\n",
    "    target_h = max(shap_arr.shape[0], part_arr.shape[0])\n",
    "\n",
    "#     def resize_keep_aspect(img, target_h):\n",
    "#         \"\"\"Resize a NumPy HxWxC image to target_h pixels high via matplotlib.\"\"\"\n",
    "#         h, w = img.shape[:2]\n",
    "#         if h == target_h:\n",
    "#             return img\n",
    "#         scale = target_h / h\n",
    "#         fig = plt.figure(figsize=(w * scale / 100, target_h / 100), dpi=100)\n",
    "#         ax = fig.add_axes([0, 0, 1, 1])\n",
    "#         ax.axis('off')\n",
    "#         ax.imshow(img)\n",
    "#         fig.canvas.draw()\n",
    "#         resized = np.frombuffer(fig.canvas.tostring_argb(), dtype=np.uint8)\n",
    "#         resized = resized.reshape(target_h, int(w * scale), 4)[:, :, [1, 2, 3]] / 255.0\n",
    "#         plt.close(fig)\n",
    "#         return resized\n",
    "    def resize_keep_aspect(img: np.ndarray, target_h: int) -> np.ndarray:\n",
    "        \"\"\"\n",
    "        Resize an HxWxC image to the desired height while\n",
    "        preserving aspect ratio. Works for uint8 [0-255] or\n",
    "        float [0-1] arrays, with or without alpha.\n",
    "        \"\"\"\n",
    "        h, w = img.shape[:2]\n",
    "        if h == target_h:          # nothing to do\n",
    "            return img\n",
    "\n",
    "        # Pillow expects uint8.  Convert if necessary\n",
    "        original_dtype = img.dtype\n",
    "        if img.dtype != np.uint8:\n",
    "            img_uint8 = (img * 255).astype(np.uint8)  # assumes 0-1 float\n",
    "        else:\n",
    "            img_uint8 = img\n",
    "\n",
    "        pil_img = Image.fromarray(img_uint8)\n",
    "        new_w   = int(round(w * target_h / h))\n",
    "\n",
    "        pil_resized = pil_img.resize((new_w, target_h), Image.LANCZOS)\n",
    "\n",
    "        out = np.asarray(pil_resized)\n",
    "\n",
    "        # Convert back to float if that’s what you started with\n",
    "        if original_dtype != np.uint8:\n",
    "            out = out.astype(np.float32) / 255.0\n",
    "\n",
    "        return out\n",
    "\n",
    "    shap_arr = resize_keep_aspect(shap_arr, target_h)\n",
    "    part_arr = resize_keep_aspect(part_arr, target_h)\n",
    "\n",
    "    # 3) compute widths for a neat gridspec\n",
    "    w1, w2 = shap_arr.shape[1], part_arr.shape[1]\n",
    "    dpi    = 150\n",
    "    fig_w, fig_h = (w1 + w2) / dpi, target_h / dpi\n",
    "\n",
    "    fig, (ax1, ax2) = plt.subplots(\n",
    "        1, 2,\n",
    "        figsize=(fig_w, fig_h),\n",
    "        dpi=dpi,\n",
    "        gridspec_kw={'width_ratios': [w1, w2]},\n",
    "        facecolor='white'\n",
    "    )\n",
    "    for ax, img in ((ax1, shap_arr), (ax2, part_arr)):\n",
    "        ax.imshow(img)\n",
    "        ax.axis('off')\n",
    "\n",
    "    plt.tight_layout(pad=0)\n",
    "\n",
    "    pdf_path = os.path.join(output_dir, os.path.splitext(img_name)[0] + f\"_{FONT_SIZE}.pdf\")\n",
    "    fig.savefig(pdf_path, bbox_inches='tight', facecolor='white', format='pdf')\n",
    "#     plt.show()\n",
    "    plt.close(fig)\n",
    "\n",
    "    print(f\"✅ Saved combined PDF: {pdf_path}\")\n",
    "\n",
    "#################\n",
    "\n",
    "    # ลบภาพเดี่ยว (ถ้าไม่ต้องการเก็บไว้)\n",
    "    os.remove(shap_img_path)\n",
    "#     break\n"
   ]
  },
  {
   "cell_type": "markdown",
   "metadata": {},
   "source": [
    "# compare with doctor"
   ]
  },
  {
   "cell_type": "code",
   "execution_count": null,
   "metadata": {},
   "outputs": [],
   "source": [
    "from sklearn.metrics import confusion_matrix, f1_score\n",
    "\n",
    "pred_df['HN'] = pred_df['HN'].astype(str)\n",
    "doctor = pd.read_csv('Pre_Analyze_NPH_21012023.csv')\n",
    "\n",
    "    \n",
    "def predict_nph(score):\n",
    "    if 3 <= score <= 4:\n",
    "        return -1\n",
    "    return score/12 >=0.5\n",
    "\n",
    "pred_df = pred_df\n",
    "# Apply the function to the 'Total score' column to create a new 'Predicted NPH' column\n",
    "doctor['Predicted NPH'] = doctor['Total score (12)'].apply(predict_nph)\n",
    "doctor['HN']=doctor['HN'].astype(int).astype(str)\n",
    "pred_df['HN']=pred_df['HN'].str[0:8]\n",
    "merged_df = pd.merge(doctor, pred_df, on='HN', how='left')\n",
    "merged_df= merged_df[['HN','Predicted NPH','y_pred_model','y_prob','Clinical (NPH 1 normal 0)','proba_score']]\n",
    "# merged_df= merged_df[['HN','Predicted NPH','y_pred','Clinical (NPH 1 normal 0)']]\n",
    "filtered_doctor = merged_df[merged_df['Predicted NPH'] != -1]\n",
    "model = pd.DataFrame()\n",
    "doctor_score= pd.DataFrame()\n",
    "model[['y','y_prob','y_pred','HN']]=filtered_doctor[['Clinical (NPH 1 normal 0)','y_prob','y_pred_model','HN']]\n",
    "doctor_score[['y','y_pred']]=filtered_doctor[['Clinical (NPH 1 normal 0)','Predicted NPH']]\n",
    "model=model.dropna()\n",
    "# Drop rows with null values in 'y' or 'y_pred' columns\n",
    "doctor_score.dropna(subset=['y', 'y_pred'], inplace=True)\n",
    "\n",
    "# Ensure that 'y_pred' is an integer\n",
    "model['y_pred'] = model['y_pred'].astype('int')\n",
    "y_true = model['y']\n",
    "y_pred = model['y_pred']\n",
    "y_prob = np.vstack(model['y_prob'].values) \n",
    "confusion_mat = confusion_matrix(y_true, y_pred, labels=[0, 1])\n",
    "logit_roc_auc = roc_auc_score(y_true, y_prob[:, 1])\n",
    "cm = confusion_matrix(y_true, y_pred)\n",
    "\n",
    "print(\"Confusion Matrix:\")\n",
    "print(cm)\n",
    "print(\"\\nClassification Report:\")\n",
    "print(classification_report(y_true, y_pred), f' (area = {logit_roc_auc:.2f})')\n",
    "print('cohen',cohen_kappa_score(y_true, y_pred))\n",
    "\n",
    "# model = pd.DataFrame()\n",
    "# doctor_score= pd.DataFrame()\n",
    "# model[['y','y_pred','HN']]=filtered_doctor[['Clinical (NPH 1 normal 0)','y_pred_model','HN']]\n",
    "# doctor_score[['y','y_pred']]=filtered_doctor[['Clinical (NPH 1 normal 0)','Predicted NPH']]\n",
    "# model=model.dropna()\n",
    "# # Drop rows with null values in 'y' or 'y_pred' columns\n",
    "# doctor_score.dropna(subset=['y', 'y_pred'], inplace=True)\n",
    "TP, FN = cm[0]\n",
    "FP, TN = cm[1]\n",
    "\n",
    "accuracy = (TP + TN) / (TP + TN + FP + FN)\n",
    "sensitivity = TP / (TP + FN) if (TP + FN) > 0 else 0\n",
    "specificity = TN / (TN + FP) if (TN + FP) > 0 else 0\n",
    "f1_score = (2 * TP) / (2 * TP + FP + FN) if (2 * TP + FP + FN) > 0 else 0\n",
    "roc_auc = roc_auc_score(y_true, y_prob[:, 1])\n",
    "cohen_kappa = cohen_kappa_score(y_true, y_pred)\n",
    "\n",
    "# print(\"Acc\\tSensiy\\tSpec\\tF1-Score\\tTP\\tTN\\tFP\\tFN\\tAU-ROC\\tCohen\")\n",
    "print(f\"{accuracy:.3f}\\t{sensitivity:.3f}\\t{specificity:.3f}\\t{f1_score:.3f}\\t\"\n",
    "      f\"{TP}\\t{TN}\\t{FP}\\t{FN}\\t{roc_auc:.3f}\\t{cohen_kappa:.3f}\")"
   ]
  },
  {
   "cell_type": "code",
   "execution_count": null,
   "metadata": {},
   "outputs": [],
   "source": [
    "from sklearn.metrics import confusion_matrix, f1_score\n",
    "\n",
    "doctor = pd.read_csv('/media/akara_bkp/nph_kgreat/kgreathoo/csv/Pre_Analyze_NPH_21012023.csv')\n",
    "\n",
    "    \n",
    "def predict_nph(score):\n",
    "    if 3 <= score <= 4:\n",
    "        return -1\n",
    "    return score/12 >=0.5\n",
    "\n",
    "pred_df = pred_df\n",
    "# Apply the function to the 'Total score' column to create a new 'Predicted NPH' column\n",
    "doctor['Predicted NPH'] = doctor['Total score (12)'].apply(predict_nph)\n",
    "doctor['HN']=doctor['HN'].astype(int).astype(str)\n",
    "pred_df['HN']=pred_df['HN'].str[0:8]\n",
    "merged_df = pd.merge(doctor, pred_df, on='HN', how='left')\n",
    "merged_df= merged_df[['HN','Predicted NPH','y_pred_model','y_prob','Clinical (NPH 1 normal 0)','proba_score']]\n",
    "# merged_df= merged_df[['HN','Predicted NPH','y_pred','Clinical (NPH 1 normal 0)']]\n",
    "filtered_doctor = merged_df[merged_df['Predicted NPH'] == -1]\n",
    "model = pd.DataFrame()\n",
    "doctor_score= pd.DataFrame()\n",
    "model[['y','y_prob','y_pred','HN']]=filtered_doctor[['Clinical (NPH 1 normal 0)','y_prob','y_pred_model','HN']]\n",
    "doctor_score[['y','y_pred']]=filtered_doctor[['Clinical (NPH 1 normal 0)','Predicted NPH']]\n",
    "model=model.dropna()\n",
    "# Drop rows with null values in 'y' or 'y_pred' columns\n",
    "doctor_score.dropna(subset=['y', 'y_pred'], inplace=True)\n",
    "\n",
    "# Ensure that 'y_pred' is an integer\n",
    "model['y_pred'] = model['y_pred'].astype('int')\n",
    "y_true = model['y']\n",
    "y_pred = model['y_pred']\n",
    "y_prob = np.vstack(model['y_prob'].values) \n",
    "confusion_mat = confusion_matrix(y_true, y_pred, labels=[0, 1])\n",
    "logit_roc_auc = roc_auc_score(y_true, y_prob[:, 1])\n",
    "cm = confusion_matrix(y_true, y_pred)\n",
    "\n",
    "print(\"Confusion Matrix:\")\n",
    "print(cm)\n",
    "print(\"\\nClassification Report:\")\n",
    "print(classification_report(y_true, y_pred), f' (area = {logit_roc_auc:.2f})')\n",
    "print('cohen',cohen_kappa_score(y_true, y_pred))\n",
    "\n",
    "model = pd.DataFrame()\n",
    "doctor_score= pd.DataFrame()\n",
    "model[['y','y_pred','HN']]=filtered_doctor[['Clinical (NPH 1 normal 0)','y_pred_model','HN']]\n",
    "doctor_score[['y','y_pred']]=filtered_doctor[['Clinical (NPH 1 normal 0)','Predicted NPH']]\n",
    "model=model.dropna()\n",
    "# Drop rows with null values in 'y' or 'y_pred' columns\n",
    "doctor_score.dropna(subset=['y', 'y_pred'], inplace=True)\n",
    "TP, FN = cm[0]\n",
    "FP, TN = cm[1]\n",
    "\n",
    "accuracy = (TP + TN) / (TP + TN + FP + FN)\n",
    "sensitivity = TP / (TP + FN) if (TP + FN) > 0 else 0\n",
    "specificity = TN / (TN + FP) if (TN + FP) > 0 else 0\n",
    "f1_score = (2 * TP) / (2 * TP + FP + FN) if (2 * TP + FP + FN) > 0 else 0\n",
    "roc_auc = roc_auc_score(y_true, y_prob[:, 1])\n",
    "cohen_kappa = cohen_kappa_score(y_true, y_pred)\n",
    "\n",
    "# print(\"Acc\\tSensiy\\tSpec\\tF1-Score\\tTP\\tTN\\tFP\\tFN\\tAU-ROC\\tCohen\")\n",
    "print(f\"{accuracy:.3f}\\t{sensitivity:.3f}\\t{specificity:.3f}\\t{f1_score:.3f}\\t\"\n",
    "      f\"{TP}\\t{TN}\\t{FP}\\t{FN}\\t{roc_auc:.3f}\\t{cohen_kappa:.3f}\")"
   ]
  },
  {
   "cell_type": "code",
   "execution_count": null,
   "metadata": {},
   "outputs": [],
   "source": [
    "# merged_df.to_csv(f'{MODEL_TYPE}_prediction_18042024.csv')"
   ]
  },
  {
   "cell_type": "code",
   "execution_count": null,
   "metadata": {},
   "outputs": [],
   "source": [
    "# MODEL_TYPE"
   ]
  },
  {
   "cell_type": "code",
   "execution_count": null,
   "metadata": {},
   "outputs": [],
   "source": [
    "# merged_df"
   ]
  },
  {
   "cell_type": "code",
   "execution_count": null,
   "metadata": {},
   "outputs": [],
   "source": []
  },
  {
   "cell_type": "code",
   "execution_count": null,
   "metadata": {},
   "outputs": [],
   "source": []
  },
  {
   "cell_type": "code",
   "execution_count": null,
   "metadata": {},
   "outputs": [],
   "source": []
  }
 ],
 "metadata": {
  "kernelspec": {
   "display_name": "Python 3 (ipykernel)",
   "language": "python",
   "name": "python3"
  },
  "language_info": {
   "codemirror_mode": {
    "name": "ipython",
    "version": 3
   },
   "file_extension": ".py",
   "mimetype": "text/x-python",
   "name": "python",
   "nbconvert_exporter": "python",
   "pygments_lexer": "ipython3",
   "version": "3.9.12"
  }
 },
 "nbformat": 4,
 "nbformat_minor": 4
}
