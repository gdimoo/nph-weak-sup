{
 "cells": [
  {
   "cell_type": "code",
   "execution_count": 240,
   "metadata": {},
   "outputs": [],
   "source": [
    "\n",
    "import pandas as pd\n",
    "import numpy as np\n",
    "import os\n",
    "from sklearn import preprocessing\n",
    "import matplotlib.pyplot as plt \n",
    "plt.rc(\"font\", size=18)\n",
    "plt.rc('text', usetex=True)\n",
    "from sklearn.linear_model import LogisticRegression\n",
    "from sklearn.model_selection import train_test_split\n",
    "import seaborn as sns\n",
    "import matplotlib.pyplot as plt\n",
    "import numpy as np\n",
    "import sklearn\n",
    "import sklearn.datasets\n",
    "import sklearn.linear_model\n",
    "import matplotlib\n",
    "import pandas as pd\n",
    "from numpy import mean\n",
    "from numpy import std\n",
    "from sklearn.model_selection import KFold, StratifiedKFold\n",
    "from sklearn.model_selection import cross_val_score\n",
    "from sklearn.metrics import roc_auc_score\n",
    "from sklearn.metrics import roc_curve\n",
    "from sklearn.metrics import precision_recall_curve\n",
    "from sklearn.metrics import confusion_matrix\n",
    "from sklearn.metrics import classification_report\n",
    "import copy as cp\n",
    "from typing import Tuple\n",
    "from sklearn.metrics import confusion_matrix\n",
    "import json\n",
    "from sklearn.ensemble import ExtraTreesClassifier\n",
    "from sklearn.datasets import load_iris\n",
    "from sklearn.feature_selection import SelectFromModel\n",
    "from sklearn.pipeline import Pipeline   \n",
    "from sklearn.feature_selection import SelectKBest, SelectPercentile\n",
    "from sklearn.feature_selection import chi2\n",
    "import os\n",
    "import auxiliary as aux_func\n",
    "from pathlib import Path\n",
    "import math\n",
    "import pickle\n",
    "import lightgbm as lgb\n",
    "from collections import Counter\n",
    "from sklearn.ensemble import RandomForestClassifier\n",
    "sns.set(style=\"white\")\n",
    "sns.set(style=\"whitegrid\", color_codes=True)\n",
    "MODEL_TYPE='weak'\n",
    "# MODEL_TYPE='ct3d'\n",
    "# MODEL_TYPE='ct2d'\n",
    "# MODEL_TYPE='spm12'\n",
    "# MODEL_TYPE='spm12contour'\n",
    "CAL_TYPE = 'slice'\n",
    "# CAL_TYPE = 'head'\n",
    "import glob\n",
    "import shap\n",
    "FOLDS=5\n",
    "\n",
    "import re\n",
    "plt.style.use('classic')\n",
    "plt.rcParams[\"font.family\"] = \"serif\"\n",
    "plt.rcParams[\"mathtext.fontset\"] = \"stixsans\"\n",
    "plt.rc('figure',facecolor='w')\n",
    "plt.rc('savefig',dpi=200)\n",
    "\n",
    "\n",
    "def plot_confusion_matrix(actual_classes : np.array, predicted_classes : np.array, sorted_labels : list):\n",
    "\n",
    "    matrix = confusion_matrix(actual_classes, predicted_classes, labels=sorted_labels)\n",
    "    \n",
    "    plt.figure(figsize=(12.8,6))\n",
    "    sns.heatmap(matrix, annot=True, xticklabels=sorted_labels, yticklabels=sorted_labels, cmap=\"Blues\", fmt=\"g\")\n",
    "    plt.xlabel('Predicted'); plt.ylabel('Actual'); plt.title('Confusion Matrix')\n",
    "\n",
    "    plt.show()\n",
    "\n"
   ]
  },
  {
   "cell_type": "markdown",
   "metadata": {},
   "source": [
    "# Per slice"
   ]
  },
  {
   "cell_type": "code",
   "execution_count": 241,
   "metadata": {},
   "outputs": [],
   "source": [
    "SEARCH_PATH = '../../data4-4tb/kgreathoo/dataset_norm_mask_by_revisited'\n",
    "nph_files = glob.glob(SEARCH_PATH + '/normal/*/s/*', recursive=True)\n",
    "NPH = []\n",
    "for i in nph_files:\n",
    "    NPH.append(i.split('/')[-1])"
   ]
  },
  {
   "cell_type": "code",
   "execution_count": 242,
   "metadata": {},
   "outputs": [],
   "source": [
    "# SEARCH_PATH = '../../data4-4tb/kgreathoo/dataset_norm_mask_by_revisited'\n",
    "nph_files = glob.glob('/data2-2tb/kgreathoo/saved_img/nii_2023_focalloss_200epochs_lr_init=0.001_unet_scaled_224_allSlice_byTime_fold0ver_2023_maskv2/**.nii', recursive=True)\n",
    "csf_spm_file = []\n",
    "for i in nph_files:\n",
    "    csf_spm_file.append(i.split('/')[-1])\n",
    "    os.rename(i, i.replace('test',''))"
   ]
  },
  {
   "cell_type": "markdown",
   "metadata": {},
   "source": [
    "### Data exploration"
   ]
  },
  {
   "cell_type": "code",
   "execution_count": 243,
   "metadata": {},
   "outputs": [],
   "source": [
    "if MODEL_TYPE == 'weak':\n",
    "    file1 = '/media/akara_bkp/nph_kgreat/kgreathoo/csv/perslice_all_10_code_aj_all_whole.csv'\n",
    "    file2 = '/media/akara_bkp/nph_kgreat/kgreathoo/csv/perslice_all_10_codeWeak_fixV2.csv'\n",
    "\n",
    "elif MODEL_TYPE == 'ct3d':\n",
    "    file1 = '/media/akara_bkp/nph_kgreat/kgreathoo/csv/perslice_all_10_unet3d_fix_per.csv'\n",
    "    file2 = '/media/akara_bkp/nph_kgreat/kgreathoo/csv/perslice_all_10_unet3d_global.csv'\n",
    "\n",
    "elif MODEL_TYPE == 'ct2d':\n",
    "    file1 = '/media/akara_bkp/nph_kgreat/kgreathoo/csv/perslice_all_10_unet2d_fix_per.csv'\n",
    "    file2 = '/media/akara_bkp/nph_kgreat/kgreathoo/csv/perslice_all_10_unet2d_global.csv'\n",
    "\n",
    "elif MODEL_TYPE == 'spm12':\n",
    "    file1 = '/media/akara_bkp/nph_kgreat/kgreathoo/csv/perslice_all_10_spm12_fix_per.csv'\n",
    "    file2 = '/media/akara_bkp/nph_kgreat/kgreathoo/csv/perslice_all_10_spm12_fix.csv'\n",
    "\n",
    "elif MODEL_TYPE == 'spm12contour':\n",
    "    file1 = '/media/akara_bkp/nph_kgreat/kgreathoo/csv/perslice_all_10_spm12contour_fix_per.csv'\n",
    "    file2 = '/media/akara_bkp/nph_kgreat/kgreathoo/csv/perslice_all_10_spm12contour_fix.csv'\n",
    "\n",
    "else:\n",
    "    # Handle an unknown MODEL_TYPE\n",
    "    raise ValueError(f'Unknown MODEL_TYPE: {MODEL_TYPE}')\n",
    "\n",
    "#exclude0\n",
    "\n",
    "# file1 = './csv/perslice_all_10_code_aj_all_whole.csv'\n",
    "# file2 = './csv/perslice_all_10_codeWeak_exclude0.csv'\n",
    "\n",
    "\n",
    "# file1 = './csv/perslice_all_10_ct3d.csv'\n",
    "# file2 = './csv/perslice_all_10_unet3d_exclude0.csv'\n",
    "\n",
    "\n",
    "# file1 = './csv/perslice_all_10_ct2d.csv'\n",
    "# file2 = './csv/perslice_all_10_unet2d_exclude0.csv'\n",
    "\n",
    "\n",
    "# file1 = './csv/perslice_all_10_spm12.csv'\n",
    "# file2 = './csv/perslice_all_10_spm12_exclude0.csv'\n",
    "\n",
    "\n",
    "# file1 = './csv/perslice_all_10_spm12contour.csv'\n",
    "# file2 = './csv/perslice_all_10_spm12contour_exclude0.csv'\n",
    "\n",
    "\n",
    "# Read CSV files into DataFrames\n",
    "df1 = pd.read_csv(file1, header=0)\n",
    "df2 = pd.read_csv(file2, header=0)\n",
    "\n",
    "df1['y'] = np.where((df1['PatientID']).isin(NPH), 0, 1)\n",
    "df2['y'] = np.where((df2['PatientID']).isin(NPH), 0, 1)\n",
    "\n",
    "# Check the condition\n",
    "if CAL_TYPE != 'head':\n",
    "    # Extract columns from the first CSV file\n",
    "    cols = []\n",
    "    cols2 = []\n",
    "    for i in range(10):\n",
    "        cols.append(f'CSF ratio_{i}')\n",
    "        cols.append(f'CSF / W+G matter ratio_{i}')\n",
    "        cols.append(f\"Mean CSF ratio_{i}\")\n",
    "        cols.append(f\"Min CSF ratio_{i}\")\n",
    "        cols.append(f\"Max CSF ratio_{i}\")\n",
    "        cols.append(f\"Std CSF ratio_{i}\")\n",
    "        cols.append(f\"Mean CSF / W+G matter ratio_{i}\")\n",
    "        cols.append(f\"Min CSF / W+G matter ratio_{i}\")\n",
    "        cols.append(f\"Max CSF / W+G matter ratio_{i}\")\n",
    "        cols.append(f\"Std CSF / W+G matter ratio_{i}\")\n",
    "\n",
    "    # Extract additional columns from the first CSV file\n",
    "    cols2.append('CSF ratio_all')\n",
    "    cols2.append('CSF / W+G matter ratio_all')\n",
    "\n",
    "    # Create new DataFrames with selected columns\n",
    "    df2_selected = df2[cols2]\n",
    "    df1[cols2] = df2_selected\n",
    "\n",
    "data = df1\n",
    "data['HN']=data['HN'].astype(str)\n",
    "\n",
    "if CAL_TYPE!='head':\n",
    "    new_data = data.fillna(0)\n",
    "    data = new_data.groupby(['HN', 'fold'], sort=True).max(numeric_only=True).reset_index()\n",
    "\n",
    "mismatch = pd.read_csv('p_pun_217.csv')\n",
    "mismatch['HN'] = mismatch['HN'].astype(str)\n",
    "merged_df = pd.merge(data[['HN', 'y']], mismatch[['HN', 'y']], on='HN', suffixes=('_data', '_mismatch'))\n",
    "diff_df = merged_df[merged_df['y_data'] != merged_df['y_mismatch']]\n",
    "hn_list = diff_df['HN'].tolist()\n",
    "mask = data['HN'].isin(hn_list)\n",
    "data.loc[mask, 'y'] = 0"
   ]
  },
  {
   "cell_type": "code",
   "execution_count": 244,
   "metadata": {},
   "outputs": [],
   "source": [
    "if 'fix' not in file1 and 'fix' not in file2 and 'exclude' not in file1 and 'exclude' not in file2 and 'global' not in file1 and 'global' not in file2:\n",
    "    print('old')\n",
    "    data['CSF_ratio_sum_all'] = data[[f'CSF ratio_{i}' for i in range(10)]].sum(axis=1)/10\n",
    "    data['CSF / W+G matter ratio_sum_all'] = data[[f'CSF / W+G matter ratio_{i}' for i in range(10)]].sum(axis=1)/10\n",
    "else:\n",
    "    data['CSF_ratio_all'] = data['CSF ratio_all']\n",
    "    data['CSF_ratio_sum_all'] = data[[f'CSF ratio_{i}' for i in range(10)]].sum(axis=1)/10\n",
    "    data['CSF / W+G matter ratio_sum_all'] = data[[f'CSF / W+G matter ratio_{i}' for i in range(10)]].sum(axis=1)/10\n"
   ]
  },
  {
   "cell_type": "code",
   "execution_count": 245,
   "metadata": {},
   "outputs": [],
   "source": [
    "'''\n",
    "reindex from 0-9 to 1-10\n",
    "\n",
    "This code block reindexes the column names of the 'data' DataFrame. It replaces the numbers in the column names with incremented numbers, starting from 1. It also adds additional columns based on the original column names.\n",
    "'''\n",
    "\n",
    "data.columns = [\n",
    "re.sub(r'(\\w+) CSF ratio_(\\d+)', lambda match: f'{match.group(1)} CSF ratio_{int(match.group(2)) + 1}', col)\n",
    "for col in data.columns \n",
    "]\n",
    "data.columns  = [\n",
    "re.sub(r'^CSF ratio_(\\d+)', lambda match: f'CSF ratio_{int(match.group(1)) + 1}', col)\n",
    "for col in data.columns \n",
    "]\n",
    "\n",
    "if CAL_TYPE!='head':\n",
    "    cols=[]\n",
    "    for i in range(1,11):\n",
    "        cols.append(f'CSF ratio_{i}')     \n",
    "        cols.append(f'CSF / W+G matter ratio_{i}')\n",
    "        cols.append(f\"Mean CSF ratio_{i}\")\n",
    "        cols.append(f\"Min CSF ratio_{i}\")\n",
    "        cols.append(f\"Max CSF ratio_{i}\")\n",
    "        cols.append(f\"Std CSF ratio_{i}\")\n",
    "        cols.append(f\"Mean CSF / W+G matter ratio_{i}\")\n",
    "        cols.append(f\"Min CSF / W+G matter ratio_{i}\")\n",
    "        cols.append(f\"Max CSF / W+G matter ratio_{i}\")\n",
    "        cols.append(f\"Std CSF / W+G matter ratio_{i}\")\n",
    "    cols.append('CSF_ratio_all')\n",
    "    cols.append('CSF / W+G matter ratio_all')\n",
    "    cols.append('CSF_ratio_sum_all')\n",
    "    cols.append('CSF / W+G matter ratio_sum_all')\n",
    "        "
   ]
  },
  {
   "cell_type": "markdown",
   "metadata": {},
   "source": [
    "### Implementing the model"
   ]
  },
  {
   "cell_type": "code",
   "execution_count": 246,
   "metadata": {},
   "outputs": [],
   "source": [
    "\n",
    "train_test_folds = json.load(open('folds5_42_val.json'))\n",
    "\n",
    "folds={}\n",
    "num_fold=5\n",
    "for fold_idx in range(num_fold):\n",
    "    folds[fold_idx] = {\n",
    "        'train':[i.split('/')[-1].split('-')[0].split('s')[1][0:10] for i in train_test_folds[str(fold_idx)]['train']],\n",
    "        'test':[i.split('/')[-1].split('-')[0].split('s')[1][0:10]  for i in train_test_folds[str(fold_idx)]['test']],\n",
    "        'val':[i.split('/')[-1].split('-')[0].split('s')[1][0:10]  for i in train_test_folds[str(fold_idx)]['val']],\n",
    "    }\n",
    "    fold_idx+=1\n",
    "\n",
    "data['type'] = None\n",
    "\n",
    "for fold_idx in range(num_fold):\n",
    "    data.loc[(data['fold'] == int(fold_idx)) & data['HN'].isin(folds[fold_idx]['train']), 'type'] = f'train{fold_idx}'\n",
    "    data.loc[(data['fold'] == int(fold_idx)) & data['HN'].isin(folds[fold_idx]['test']), 'type'] = f'test{fold_idx}'\n",
    "\n",
    "data.drop_duplicates(subset=['HN','fold'], inplace=True)"
   ]
  },
  {
   "cell_type": "code",
   "execution_count": 247,
   "metadata": {},
   "outputs": [],
   "source": [
    "\n",
    "\n",
    "\"\"\"\n",
    "This code snippet defines a list of column names based on the value of the MODEL_TYPE variable that from previose features selection.\n",
    "The column names are modified using regular expressions to increment the CSF ratio values by 1.\n",
    "\"\"\"\n",
    "\n",
    "if MODEL_TYPE == 'weak':\n",
    "    cols = ['CSF ratio_5', 'Std CSF ratio_8', 'Mean CSF ratio_5',\n",
    "            'Max CSF ratio_8', 'Max CSF ratio_6', 'Min CSF ratio_5',\n",
    "            'Mean CSF ratio_8', 'Min CSF ratio_4', 'Max CSF ratio_7',\n",
    "            'CSF ratio_4']\n",
    "\n",
    "elif MODEL_TYPE == 'ct3d':\n",
    "    cols =  ['CSF ratio_0',\n",
    "     'Mean CSF ratio_0',\n",
    "     'CSF / W+G matter ratio_0',\n",
    "     'Max CSF ratio_0',\n",
    "     'Mean CSF / W+G matter ratio_0',\n",
    "     'CSF ratio_9',\n",
    "     'Std CSF / W+G matter ratio_9',\n",
    "     'Max CSF / W+G matter ratio_9',\n",
    "     'Min CSF / W+G matter ratio_9',\n",
    "     'Mean CSF / W+G matter ratio_9',\n",
    "     'Std CSF ratio_9',\n",
    "     'Max CSF ratio_9',\n",
    "     'Min CSF ratio_9',\n",
    "     'Mean CSF ratio_9',\n",
    "     'CSF / W+G matter ratio_9',\n",
    "     'Min CSF / W+G matter ratio_8',\n",
    "     'Mean CSF ratio_5',\n",
    "     'Std CSF / W+G matter ratio_8',\n",
    "     'Mean CSF / W+G matter ratio_7',\n",
    "     'Mean CSF / W+G matter ratio_8',\n",
    "     'Std CSF ratio_8',\n",
    "     'Max CSF ratio_8',\n",
    "     'Min CSF ratio_8',\n",
    "     'Mean CSF ratio_8',\n",
    "     'CSF / W+G matter ratio_8',\n",
    "     'CSF ratio_8',\n",
    "     'Min CSF / W+G matter ratio_7',\n",
    "     'Max CSF ratio_7',\n",
    "     'Std CSF ratio_7',\n",
    "     'Max CSF / W+G matter ratio_7',\n",
    "     'Min CSF ratio_7',\n",
    "     'Mean CSF ratio_7',\n",
    "     'CSF / W+G matter ratio_7',\n",
    "     'CSF ratio_7',\n",
    "     'Std CSF / W+G matter ratio_6',\n",
    "     'Max CSF / W+G matter ratio_6',\n",
    "     'Min CSF / W+G matter ratio_6',\n",
    "     'Mean CSF / W+G matter ratio_6',\n",
    "     'Std CSF ratio_6',\n",
    "     'Max CSF ratio_6',\n",
    "     'Min CSF ratio_6',\n",
    "     'Mean CSF ratio_6',\n",
    "     'CSF / W+G matter ratio_6',\n",
    "     'CSF ratio_6',\n",
    "     'Std CSF / W+G matter ratio_5',\n",
    "     'Max CSF / W+G matter ratio_5',\n",
    "     'Min CSF / W+G matter ratio_5',\n",
    "     'Mean CSF / W+G matter ratio_5',\n",
    "     'Std CSF ratio_5',\n",
    "     'Max CSF ratio_5',\n",
    "     'Min CSF ratio_5',\n",
    "     'Std CSF / W+G matter ratio_7',\n",
    "     'Std CSF / W+G matter ratio_4',\n",
    "     'Max CSF / W+G matter ratio_8',\n",
    "     'CSF / W+G matter ratio_5',\n",
    "     'Max CSF / W+G matter ratio_4',\n",
    "     'Min CSF / W+G matter ratio_4',\n",
    "     'Mean CSF / W+G matter ratio_4',\n",
    "     'Std CSF ratio_4',\n",
    "     'Max CSF ratio_4',\n",
    "     'Min CSF ratio_4',\n",
    "     'Mean CSF ratio_4',\n",
    "     'Min CSF / W+G matter ratio_2',\n",
    "     'CSF ratio_4',\n",
    "     'Std CSF / W+G matter ratio_3',\n",
    "     'CSF / W+G matter ratio_4',\n",
    "     'Min CSF / W+G matter ratio_3',\n",
    "     'Mean CSF / W+G matter ratio_3',\n",
    "     'Std CSF ratio_3',\n",
    "     'Max CSF ratio_3',\n",
    "     'Min CSF ratio_3',\n",
    "     'Mean CSF ratio_3',\n",
    "     'CSF / W+G matter ratio_3',\n",
    "     'CSF ratio_3',\n",
    "     'Std CSF / W+G matter ratio_2',\n",
    "     'Max CSF / W+G matter ratio_3',\n",
    "     'Max CSF / W+G matter ratio_2',\n",
    "     'Max CSF ratio_2',\n",
    "     'Mean CSF / W+G matter ratio_2',\n",
    "     'Std CSF ratio_2',\n",
    "     'CSF_ratio_all',\n",
    "     'Min CSF ratio_2',\n",
    "     'Mean CSF ratio_2',\n",
    "     'CSF / W+G matter ratio_2',\n",
    "     'CSF ratio_2',\n",
    "     'Std CSF / W+G matter ratio_1',\n",
    "     'Max CSF / W+G matter ratio_1',\n",
    "     'Min CSF / W+G matter ratio_1',\n",
    "     'Mean CSF / W+G matter ratio_1',\n",
    "     'Std CSF ratio_1',\n",
    "     'Max CSF ratio_1',\n",
    "     'Min CSF ratio_1',\n",
    "     'Mean CSF ratio_1',\n",
    "     'CSF / W+G matter ratio_1',\n",
    "     'CSF ratio_1',\n",
    "     'Std CSF / W+G matter ratio_0',\n",
    "     'Max CSF / W+G matter ratio_0',\n",
    "     'Min CSF / W+G matter ratio_0',\n",
    "     'Std CSF ratio_0',\n",
    "     'Min CSF ratio_0']\n",
    "\n",
    "elif MODEL_TYPE == 'ct2d':\n",
    "    cols = ['CSF / W+G matter ratio_all', 'CSF_ratio_all', 'Max CSF ratio_4',\n",
    "       'CSF ratio_5', 'Mean CSF / W+G matter ratio_5', 'Max CSF ratio_5',\n",
    "       'Mean CSF / W+G matter ratio_4', 'Max CSF / W+G matter ratio_5',\n",
    "       'Min CSF ratio_4', 'Mean CSF ratio_6',\n",
    "       'Min CSF / W+G matter ratio_4', 'Std CSF / W+G matter ratio_8',\n",
    "       'Max CSF / W+G matter ratio_3', 'Min CSF ratio_6',\n",
    "       'Min CSF / W+G matter ratio_6', 'Max CSF / W+G matter ratio_6',\n",
    "       'CSF ratio_4', 'Std CSF ratio_8', 'Std CSF / W+G matter ratio_4',\n",
    "       'Mean CSF / W+G matter ratio_6']\n",
    "\n",
    "elif MODEL_TYPE == 'spm12':\n",
    "    cols = ['Mean CSF ratio_5', 'Min CSF ratio_2', 'Mean CSF ratio_4',\n",
    "       'Mean CSF / W+G matter ratio_5', 'Mean CSF ratio_7', 'CSF ratio_9',\n",
    "       'Max CSF / W+G matter ratio_5', 'Min CSF / W+G matter ratio_5',\n",
    "       'CSF ratio_2', 'CSF ratio_8', 'Min CSF / W+G matter ratio_4',\n",
    "       'Mean CSF / W+G matter ratio_7', 'Max CSF ratio_7',\n",
    "       'Max CSF ratio_5', 'CSF ratio_1', 'Max CSF ratio_3', 'CSF ratio_3',\n",
    "       'CSF ratio_5', 'Max CSF ratio_8', 'CSF / W+G matter ratio_7',\n",
    "       'Min CSF / W+G matter ratio_7', 'Max CSF / W+G matter ratio_4',\n",
    "       'Min CSF ratio_5', 'CSF ratio_4', 'Min CSF / W+G matter ratio_2',\n",
    "       'Max CSF ratio_4', 'CSF / W+G matter ratio_2',\n",
    "       'CSF / W+G matter ratio_4', 'Max CSF / W+G matter ratio_8',\n",
    "       'Std CSF ratio_1', 'CSF / W+G matter ratio_3',\n",
    "       'Std CSF / W+G matter ratio_7', 'Mean CSF / W+G matter ratio_3',\n",
    "       'Std CSF / W+G matter ratio_3', 'Mean CSF ratio_2', 'CSF ratio_7',\n",
    "       'Std CSF / W+G matter ratio_6', 'Min CSF ratio_7',\n",
    "       'Mean CSF / W+G matter ratio_4', 'Std CSF / W+G matter ratio_5',\n",
    "       'Min CSF ratio_8', 'Std CSF ratio_3',\n",
    "       'Min CSF / W+G matter ratio_6', 'Min CSF ratio_4',\n",
    "       'Std CSF / W+G matter ratio_4', 'Max CSF / W+G matter ratio_3',\n",
    "       'CSF_ratio_sum_all', 'CSF / W+G matter ratio_1', 'Min CSF ratio_3',\n",
    "       'Std CSF ratio_8', 'Std CSF ratio_4',\n",
    "       'Min CSF / W+G matter ratio_1', 'Min CSF / W+G matter ratio_8',\n",
    "       'Std CSF ratio_7', 'Max CSF / W+G matter ratio_1',\n",
    "       'CSF / W+G matter ratio_5', 'Mean CSF ratio_6', 'Std CSF ratio_2',\n",
    "       'CSF / W+G matter ratio_6', 'CSF / W+G matter ratio_sum_all',\n",
    "       'CSF_ratio_all', 'Min CSF ratio_6', 'Std CSF ratio_6',\n",
    "       'Mean CSF / W+G matter ratio_2', 'Max CSF ratio_2',\n",
    "       'Max CSF / W+G matter ratio_2', 'Mean CSF ratio_3',\n",
    "       'Std CSF / W+G matter ratio_1', 'Mean CSF / W+G matter ratio_6',\n",
    "       'Min CSF / W+G matter ratio_3', 'Max CSF / W+G matter ratio_7',\n",
    "       'Mean CSF / W+G matter ratio_1', 'Std CSF ratio_5',\n",
    "       'Max CSF / W+G matter ratio_6', 'Max CSF ratio_6',\n",
    "       'CSF / W+G matter ratio_8', 'Max CSF ratio_1',\n",
    "       'Std CSF / W+G matter ratio_8', 'Min CSF ratio_1',\n",
    "       'Mean CSF / W+G matter ratio_8', 'Mean CSF ratio_1',\n",
    "       'Mean CSF ratio_8', 'Std CSF / W+G matter ratio_2', 'CSF ratio_6',\n",
    "       'CSF / W+G matter ratio_all', 'Std CSF ratio_9',\n",
    "       'Max CSF / W+G matter ratio_9', 'Mean CSF ratio_9',\n",
    "       'Max CSF ratio_9', 'Mean CSF / W+G matter ratio_9',\n",
    "       'Std CSF / W+G matter ratio_9', 'Min CSF ratio_9',\n",
    "       'Min CSF / W+G matter ratio_9', 'CSF / W+G matter ratio_9']\n",
    "\n",
    "elif MODEL_TYPE == 'spm12contour':\n",
    "    cols = ['Min CSF ratio_7', 'Std CSF ratio_3', 'Mean CSF ratio_8',\n",
    "       'Std CSF / W+G matter ratio_3', 'Max CSF / W+G matter ratio_8',\n",
    "       'Mean CSF / W+G matter ratio_4', 'CSF ratio_4',\n",
    "       'Min CSF / W+G matter ratio_5', 'Min CSF ratio_4',\n",
    "       'CSF / W+G matter ratio_7', 'CSF / W+G matter ratio_8',\n",
    "       'Min CSF / W+G matter ratio_8', 'Max CSF ratio_8',\n",
    "       'Mean CSF / W+G matter ratio_5', 'Std CSF ratio_1',\n",
    "       'CSF_ratio_sum_all', 'Max CSF ratio_4',\n",
    "       'Mean CSF / W+G matter ratio_8', 'Mean CSF ratio_5', 'CSF ratio_8',\n",
    "       'Std CSF / W+G matter ratio_1', 'Min CSF / W+G matter ratio_4',\n",
    "       'Max CSF / W+G matter ratio_6', 'Mean CSF ratio_2',\n",
    "       'Mean CSF ratio_4', 'Min CSF ratio_5', 'CSF_ratio_all',\n",
    "       'CSF / W+G matter ratio_2', 'CSF / W+G matter ratio_4',\n",
    "       'Std CSF / W+G matter ratio_5', 'Min CSF ratio_2',\n",
    "       'Min CSF / W+G matter ratio_7', 'Max CSF ratio_6',\n",
    "       'Max CSF / W+G matter ratio_3', 'Mean CSF ratio_7', 'CSF ratio_5',\n",
    "       'CSF ratio_1', 'Max CSF ratio_3', 'Max CSF / W+G matter ratio_5',\n",
    "       'CSF ratio_2', 'Min CSF ratio_3', 'Min CSF / W+G matter ratio_2',\n",
    "       'Std CSF ratio_8', 'Mean CSF ratio_3', 'Min CSF ratio_8',\n",
    "       'CSF ratio_7', 'Std CSF ratio_5', 'CSF / W+G matter ratio_sum_all',\n",
    "       'Max CSF ratio_1', 'Std CSF / W+G matter ratio_6',\n",
    "       'Min CSF / W+G matter ratio_1', 'CSF ratio_3',\n",
    "       'Min CSF / W+G matter ratio_3', 'Max CSF / W+G matter ratio_2',\n",
    "       'Max CSF ratio_5', 'Std CSF / W+G matter ratio_8',\n",
    "       'CSF / W+G matter ratio_3', 'Mean CSF / W+G matter ratio_1',\n",
    "       'Max CSF / W+G matter ratio_4', 'CSF / W+G matter ratio_5',\n",
    "       'Std CSF ratio_6', 'Std CSF ratio_7', 'Mean CSF ratio_6',\n",
    "       'Min CSF ratio_1', 'Mean CSF / W+G matter ratio_7',\n",
    "       'Std CSF / W+G matter ratio_4', 'Std CSF / W+G matter ratio_2',\n",
    "       'Max CSF ratio_2', 'Max CSF ratio_7',\n",
    "       'Mean CSF / W+G matter ratio_3', 'Max CSF / W+G matter ratio_7',\n",
    "       'Max CSF / W+G matter ratio_1', 'CSF ratio_6',\n",
    "       'CSF / W+G matter ratio_all', 'Std CSF ratio_4',\n",
    "       'CSF / W+G matter ratio_6', 'Mean CSF / W+G matter ratio_9',\n",
    "       'Mean CSF ratio_1', 'Mean CSF ratio_9',\n",
    "       'Mean CSF / W+G matter ratio_2', 'Max CSF / W+G matter ratio_9',\n",
    "       'Mean CSF / W+G matter ratio_6', 'Std CSF / W+G matter ratio_9',\n",
    "       'Min CSF / W+G matter ratio_6', 'Min CSF ratio_6',\n",
    "       'Std CSF ratio_9', 'CSF / W+G matter ratio_1', 'Std CSF ratio_2',\n",
    "       'Max CSF ratio_9', 'CSF ratio_9', 'Std CSF / W+G matter ratio_7',\n",
    "       'CSF / W+G matter ratio_9', 'Min CSF / W+G matter ratio_9',\n",
    "       'Min CSF ratio_9']\n",
    "\n",
    "else:\n",
    "    # Handle an unknown MODEL_TYPE\n",
    "    raise ValueError(f'Unknown MODEL_TYPE: {MODEL_TYPE}')\n",
    "    \n",
    "# cols = [\n",
    "# re.sub(r'(\\w+) CSF ratio_(\\d+)', lambda match: f'{match.group(1)} CSF ratio_{int(match.group(2)) + 1}', col)\n",
    "# for col in cols\n",
    "# ]\n",
    "# cols = [\n",
    "# re.sub(r'^CSF ratio_(\\d+)', lambda match: f'CSF ratio_{int(match.group(1)) + 1}', col)\n",
    "# for col in cols\n",
    "# ]\n"
   ]
  },
  {
   "cell_type": "code",
   "execution_count": 248,
   "metadata": {},
   "outputs": [
    {
     "data": {
      "text/html": [
       "<div>\n",
       "<style scoped>\n",
       "    .dataframe tbody tr th:only-of-type {\n",
       "        vertical-align: middle;\n",
       "    }\n",
       "\n",
       "    .dataframe tbody tr th {\n",
       "        vertical-align: top;\n",
       "    }\n",
       "\n",
       "    .dataframe thead th {\n",
       "        text-align: right;\n",
       "    }\n",
       "</style>\n",
       "<table border=\"1\" class=\"dataframe\">\n",
       "  <thead>\n",
       "    <tr style=\"text-align: right;\">\n",
       "      <th></th>\n",
       "      <th>HN</th>\n",
       "      <th>fold</th>\n",
       "      <th>Unnamed: 0</th>\n",
       "      <th>Mean CSF ratio_1</th>\n",
       "      <th>Max CSF ratio_1</th>\n",
       "      <th>Min CSF ratio_1</th>\n",
       "      <th>Std CSF ratio_1</th>\n",
       "      <th>CSF ratio_1</th>\n",
       "      <th>Mean CSF / W+G matter ratio_0</th>\n",
       "      <th>Max CSF / W+G matter ratio_0</th>\n",
       "      <th>...</th>\n",
       "      <th>Mean CSF / W+G matter ratio_9</th>\n",
       "      <th>Max CSF / W+G matter ratio_9</th>\n",
       "      <th>Min CSF / W+G matter ratio_9</th>\n",
       "      <th>Std CSF / W+G matter ratio_9</th>\n",
       "      <th>CSF / W+G matter ratio_9</th>\n",
       "      <th>CSF / W+G matter ratio_all</th>\n",
       "      <th>CSF_ratio_all</th>\n",
       "      <th>CSF_ratio_sum_all</th>\n",
       "      <th>CSF / W+G matter ratio_sum_all</th>\n",
       "      <th>type</th>\n",
       "    </tr>\n",
       "  </thead>\n",
       "  <tbody>\n",
       "    <tr>\n",
       "      <th>0</th>\n",
       "      <td>38000954</td>\n",
       "      <td>0</td>\n",
       "      <td>3569</td>\n",
       "      <td>0.785287</td>\n",
       "      <td>1.000000</td>\n",
       "      <td>0.000000</td>\n",
       "      <td>0.393603</td>\n",
       "      <td>0.966038</td>\n",
       "      <td>5.720000</td>\n",
       "      <td>32.000000</td>\n",
       "      <td>...</td>\n",
       "      <td>0.004762</td>\n",
       "      <td>0.066667</td>\n",
       "      <td>0.0</td>\n",
       "      <td>0.017169</td>\n",
       "      <td>0.066667</td>\n",
       "      <td>0.146141</td>\n",
       "      <td>0.127507</td>\n",
       "      <td>0.230430</td>\n",
       "      <td>3.014427</td>\n",
       "      <td>train0</td>\n",
       "    </tr>\n",
       "    <tr>\n",
       "      <th>1</th>\n",
       "      <td>38000954</td>\n",
       "      <td>1</td>\n",
       "      <td>8059</td>\n",
       "      <td>0.466667</td>\n",
       "      <td>1.000000</td>\n",
       "      <td>0.000000</td>\n",
       "      <td>0.498888</td>\n",
       "      <td>1.000000</td>\n",
       "      <td>0.000000</td>\n",
       "      <td>0.000000</td>\n",
       "      <td>...</td>\n",
       "      <td>0.000000</td>\n",
       "      <td>0.000000</td>\n",
       "      <td>0.0</td>\n",
       "      <td>0.000000</td>\n",
       "      <td>0.000000</td>\n",
       "      <td>0.169323</td>\n",
       "      <td>0.144804</td>\n",
       "      <td>0.236809</td>\n",
       "      <td>0.170946</td>\n",
       "      <td>train1</td>\n",
       "    </tr>\n",
       "    <tr>\n",
       "      <th>2</th>\n",
       "      <td>38000954</td>\n",
       "      <td>2</td>\n",
       "      <td>12549</td>\n",
       "      <td>0.482025</td>\n",
       "      <td>1.000000</td>\n",
       "      <td>0.000000</td>\n",
       "      <td>0.358960</td>\n",
       "      <td>0.429293</td>\n",
       "      <td>5.416183</td>\n",
       "      <td>54.000000</td>\n",
       "      <td>...</td>\n",
       "      <td>0.006494</td>\n",
       "      <td>0.090909</td>\n",
       "      <td>0.0</td>\n",
       "      <td>0.023413</td>\n",
       "      <td>0.090909</td>\n",
       "      <td>0.160098</td>\n",
       "      <td>0.138004</td>\n",
       "      <td>0.177903</td>\n",
       "      <td>0.243370</td>\n",
       "      <td>train2</td>\n",
       "    </tr>\n",
       "    <tr>\n",
       "      <th>3</th>\n",
       "      <td>38000954</td>\n",
       "      <td>3</td>\n",
       "      <td>17039</td>\n",
       "      <td>0.287351</td>\n",
       "      <td>0.407407</td>\n",
       "      <td>0.170648</td>\n",
       "      <td>0.062115</td>\n",
       "      <td>0.272147</td>\n",
       "      <td>0.414349</td>\n",
       "      <td>0.687500</td>\n",
       "      <td>...</td>\n",
       "      <td>0.000000</td>\n",
       "      <td>0.000000</td>\n",
       "      <td>0.0</td>\n",
       "      <td>0.000000</td>\n",
       "      <td>0.000000</td>\n",
       "      <td>0.112080</td>\n",
       "      <td>0.100784</td>\n",
       "      <td>0.119239</td>\n",
       "      <td>0.147265</td>\n",
       "      <td>train3</td>\n",
       "    </tr>\n",
       "    <tr>\n",
       "      <th>4</th>\n",
       "      <td>38000954</td>\n",
       "      <td>4</td>\n",
       "      <td>21529</td>\n",
       "      <td>0.000000</td>\n",
       "      <td>0.000000</td>\n",
       "      <td>0.000000</td>\n",
       "      <td>0.000000</td>\n",
       "      <td>0.000000</td>\n",
       "      <td>0.000000</td>\n",
       "      <td>0.000000</td>\n",
       "      <td>...</td>\n",
       "      <td>0.042857</td>\n",
       "      <td>0.600000</td>\n",
       "      <td>0.0</td>\n",
       "      <td>0.154524</td>\n",
       "      <td>0.600000</td>\n",
       "      <td>0.204928</td>\n",
       "      <td>0.170075</td>\n",
       "      <td>0.203488</td>\n",
       "      <td>0.294330</td>\n",
       "      <td>train4</td>\n",
       "    </tr>\n",
       "    <tr>\n",
       "      <th>...</th>\n",
       "      <td>...</td>\n",
       "      <td>...</td>\n",
       "      <td>...</td>\n",
       "      <td>...</td>\n",
       "      <td>...</td>\n",
       "      <td>...</td>\n",
       "      <td>...</td>\n",
       "      <td>...</td>\n",
       "      <td>...</td>\n",
       "      <td>...</td>\n",
       "      <td>...</td>\n",
       "      <td>...</td>\n",
       "      <td>...</td>\n",
       "      <td>...</td>\n",
       "      <td>...</td>\n",
       "      <td>...</td>\n",
       "      <td>...</td>\n",
       "      <td>...</td>\n",
       "      <td>...</td>\n",
       "      <td>...</td>\n",
       "      <td>...</td>\n",
       "    </tr>\n",
       "    <tr>\n",
       "      <th>2235</th>\n",
       "      <td>54380859</td>\n",
       "      <td>0</td>\n",
       "      <td>1669</td>\n",
       "      <td>0.377607</td>\n",
       "      <td>1.000000</td>\n",
       "      <td>0.111388</td>\n",
       "      <td>0.292253</td>\n",
       "      <td>0.204632</td>\n",
       "      <td>0.749596</td>\n",
       "      <td>3.468750</td>\n",
       "      <td>...</td>\n",
       "      <td>0.027847</td>\n",
       "      <td>0.196546</td>\n",
       "      <td>0.0</td>\n",
       "      <td>0.061902</td>\n",
       "      <td>0.133806</td>\n",
       "      <td>0.091256</td>\n",
       "      <td>0.083625</td>\n",
       "      <td>0.123650</td>\n",
       "      <td>0.149407</td>\n",
       "      <td>train0</td>\n",
       "    </tr>\n",
       "    <tr>\n",
       "      <th>2236</th>\n",
       "      <td>54380859</td>\n",
       "      <td>1</td>\n",
       "      <td>6159</td>\n",
       "      <td>0.295226</td>\n",
       "      <td>0.730159</td>\n",
       "      <td>0.089655</td>\n",
       "      <td>0.220740</td>\n",
       "      <td>0.164431</td>\n",
       "      <td>0.656457</td>\n",
       "      <td>2.705882</td>\n",
       "      <td>...</td>\n",
       "      <td>0.011653</td>\n",
       "      <td>0.090837</td>\n",
       "      <td>0.0</td>\n",
       "      <td>0.027224</td>\n",
       "      <td>0.065197</td>\n",
       "      <td>0.093985</td>\n",
       "      <td>0.085911</td>\n",
       "      <td>0.113944</td>\n",
       "      <td>0.133829</td>\n",
       "      <td>test1</td>\n",
       "    </tr>\n",
       "    <tr>\n",
       "      <th>2237</th>\n",
       "      <td>54380859</td>\n",
       "      <td>2</td>\n",
       "      <td>10649</td>\n",
       "      <td>0.332342</td>\n",
       "      <td>0.752336</td>\n",
       "      <td>0.122253</td>\n",
       "      <td>0.204106</td>\n",
       "      <td>0.230769</td>\n",
       "      <td>0.756493</td>\n",
       "      <td>3.037736</td>\n",
       "      <td>...</td>\n",
       "      <td>0.031966</td>\n",
       "      <td>0.243270</td>\n",
       "      <td>0.0</td>\n",
       "      <td>0.073658</td>\n",
       "      <td>0.159512</td>\n",
       "      <td>0.100295</td>\n",
       "      <td>0.091153</td>\n",
       "      <td>0.136904</td>\n",
       "      <td>0.172722</td>\n",
       "      <td>train2</td>\n",
       "    </tr>\n",
       "    <tr>\n",
       "      <th>2238</th>\n",
       "      <td>54380859</td>\n",
       "      <td>3</td>\n",
       "      <td>15139</td>\n",
       "      <td>0.188345</td>\n",
       "      <td>0.382199</td>\n",
       "      <td>0.104600</td>\n",
       "      <td>0.084409</td>\n",
       "      <td>0.152266</td>\n",
       "      <td>0.247305</td>\n",
       "      <td>0.618644</td>\n",
       "      <td>...</td>\n",
       "      <td>0.004938</td>\n",
       "      <td>0.050076</td>\n",
       "      <td>0.0</td>\n",
       "      <td>0.014325</td>\n",
       "      <td>0.027462</td>\n",
       "      <td>0.071323</td>\n",
       "      <td>0.066574</td>\n",
       "      <td>0.078877</td>\n",
       "      <td>0.088447</td>\n",
       "      <td>train3</td>\n",
       "    </tr>\n",
       "    <tr>\n",
       "      <th>2239</th>\n",
       "      <td>54380859</td>\n",
       "      <td>4</td>\n",
       "      <td>19629</td>\n",
       "      <td>0.429922</td>\n",
       "      <td>0.970874</td>\n",
       "      <td>0.159533</td>\n",
       "      <td>0.299662</td>\n",
       "      <td>0.259486</td>\n",
       "      <td>4.865345</td>\n",
       "      <td>33.333332</td>\n",
       "      <td>...</td>\n",
       "      <td>0.149475</td>\n",
       "      <td>0.857477</td>\n",
       "      <td>0.0</td>\n",
       "      <td>0.311612</td>\n",
       "      <td>0.615506</td>\n",
       "      <td>0.127639</td>\n",
       "      <td>0.113191</td>\n",
       "      <td>0.184736</td>\n",
       "      <td>0.256600</td>\n",
       "      <td>train4</td>\n",
       "    </tr>\n",
       "  </tbody>\n",
       "</table>\n",
       "<p>2240 rows × 110 columns</p>\n",
       "</div>"
      ],
      "text/plain": [
       "            HN  fold  Unnamed: 0  Mean CSF ratio_1  Max CSF ratio_1  \\\n",
       "0     38000954     0        3569          0.785287         1.000000   \n",
       "1     38000954     1        8059          0.466667         1.000000   \n",
       "2     38000954     2       12549          0.482025         1.000000   \n",
       "3     38000954     3       17039          0.287351         0.407407   \n",
       "4     38000954     4       21529          0.000000         0.000000   \n",
       "...        ...   ...         ...               ...              ...   \n",
       "2235  54380859     0        1669          0.377607         1.000000   \n",
       "2236  54380859     1        6159          0.295226         0.730159   \n",
       "2237  54380859     2       10649          0.332342         0.752336   \n",
       "2238  54380859     3       15139          0.188345         0.382199   \n",
       "2239  54380859     4       19629          0.429922         0.970874   \n",
       "\n",
       "      Min CSF ratio_1  Std CSF ratio_1  CSF ratio_1  \\\n",
       "0            0.000000         0.393603     0.966038   \n",
       "1            0.000000         0.498888     1.000000   \n",
       "2            0.000000         0.358960     0.429293   \n",
       "3            0.170648         0.062115     0.272147   \n",
       "4            0.000000         0.000000     0.000000   \n",
       "...               ...              ...          ...   \n",
       "2235         0.111388         0.292253     0.204632   \n",
       "2236         0.089655         0.220740     0.164431   \n",
       "2237         0.122253         0.204106     0.230769   \n",
       "2238         0.104600         0.084409     0.152266   \n",
       "2239         0.159533         0.299662     0.259486   \n",
       "\n",
       "      Mean CSF / W+G matter ratio_0  Max CSF / W+G matter ratio_0  ...  \\\n",
       "0                          5.720000                     32.000000  ...   \n",
       "1                          0.000000                      0.000000  ...   \n",
       "2                          5.416183                     54.000000  ...   \n",
       "3                          0.414349                      0.687500  ...   \n",
       "4                          0.000000                      0.000000  ...   \n",
       "...                             ...                           ...  ...   \n",
       "2235                       0.749596                      3.468750  ...   \n",
       "2236                       0.656457                      2.705882  ...   \n",
       "2237                       0.756493                      3.037736  ...   \n",
       "2238                       0.247305                      0.618644  ...   \n",
       "2239                       4.865345                     33.333332  ...   \n",
       "\n",
       "      Mean CSF / W+G matter ratio_9  Max CSF / W+G matter ratio_9  \\\n",
       "0                          0.004762                      0.066667   \n",
       "1                          0.000000                      0.000000   \n",
       "2                          0.006494                      0.090909   \n",
       "3                          0.000000                      0.000000   \n",
       "4                          0.042857                      0.600000   \n",
       "...                             ...                           ...   \n",
       "2235                       0.027847                      0.196546   \n",
       "2236                       0.011653                      0.090837   \n",
       "2237                       0.031966                      0.243270   \n",
       "2238                       0.004938                      0.050076   \n",
       "2239                       0.149475                      0.857477   \n",
       "\n",
       "      Min CSF / W+G matter ratio_9  Std CSF / W+G matter ratio_9  \\\n",
       "0                              0.0                      0.017169   \n",
       "1                              0.0                      0.000000   \n",
       "2                              0.0                      0.023413   \n",
       "3                              0.0                      0.000000   \n",
       "4                              0.0                      0.154524   \n",
       "...                            ...                           ...   \n",
       "2235                           0.0                      0.061902   \n",
       "2236                           0.0                      0.027224   \n",
       "2237                           0.0                      0.073658   \n",
       "2238                           0.0                      0.014325   \n",
       "2239                           0.0                      0.311612   \n",
       "\n",
       "      CSF / W+G matter ratio_9  CSF / W+G matter ratio_all  CSF_ratio_all  \\\n",
       "0                     0.066667                    0.146141       0.127507   \n",
       "1                     0.000000                    0.169323       0.144804   \n",
       "2                     0.090909                    0.160098       0.138004   \n",
       "3                     0.000000                    0.112080       0.100784   \n",
       "4                     0.600000                    0.204928       0.170075   \n",
       "...                        ...                         ...            ...   \n",
       "2235                  0.133806                    0.091256       0.083625   \n",
       "2236                  0.065197                    0.093985       0.085911   \n",
       "2237                  0.159512                    0.100295       0.091153   \n",
       "2238                  0.027462                    0.071323       0.066574   \n",
       "2239                  0.615506                    0.127639       0.113191   \n",
       "\n",
       "      CSF_ratio_sum_all  CSF / W+G matter ratio_sum_all    type  \n",
       "0              0.230430                        3.014427  train0  \n",
       "1              0.236809                        0.170946  train1  \n",
       "2              0.177903                        0.243370  train2  \n",
       "3              0.119239                        0.147265  train3  \n",
       "4              0.203488                        0.294330  train4  \n",
       "...                 ...                             ...     ...  \n",
       "2235           0.123650                        0.149407  train0  \n",
       "2236           0.113944                        0.133829   test1  \n",
       "2237           0.136904                        0.172722  train2  \n",
       "2238           0.078877                        0.088447  train3  \n",
       "2239           0.184736                        0.256600  train4  \n",
       "\n",
       "[2240 rows x 110 columns]"
      ]
     },
     "execution_count": 248,
     "metadata": {},
     "output_type": "execute_result"
    }
   ],
   "source": [
    "data"
   ]
  },
  {
   "cell_type": "code",
   "execution_count": 249,
   "metadata": {},
   "outputs": [],
   "source": [
    "abnormal_cases_info = pd.read_csv('../abnormal_cases_info.csv')"
   ]
  },
  {
   "cell_type": "code",
   "execution_count": 250,
   "metadata": {},
   "outputs": [
    {
     "name": "stdout",
     "output_type": "stream",
     "text": [
      "codeeee : \n",
      "[LightGBM] [Info] Number of positive: 257, number of negative: 63\n",
      "[LightGBM] [Info] Total Bins 1069\n",
      "[LightGBM] [Info] Number of data points in the train set: 320, number of used features: 10\n",
      "[LightGBM] [Info] [binary:BoostFromScore]: pavg=0.500000 -> initscore=-0.000000\n",
      "[LightGBM] [Info] Start training from score -0.000000\n",
      "  0\t0.77812\t\t0.88636\n",
      "codeeee : \n",
      "[LightGBM] [Info] Number of positive: 254, number of negative: 66\n",
      "[LightGBM] [Info] Total Bins 1069\n",
      "[LightGBM] [Info] Number of data points in the train set: 320, number of used features: 10\n",
      "[LightGBM] [Info] [binary:BoostFromScore]: pavg=0.500000 -> initscore=-0.000000\n",
      "[LightGBM] [Info] Start training from score -0.000000\n",
      "  1\t0.81875\t\t0.75000\n",
      "codeeee : \n",
      "[LightGBM] [Info] Number of positive: 257, number of negative: 63\n",
      "[LightGBM] [Info] Total Bins 1069\n",
      "[LightGBM] [Info] Number of data points in the train set: 320, number of used features: 10\n",
      "[LightGBM] [Info] [binary:BoostFromScore]: pavg=0.500000 -> initscore=-0.000000\n",
      "[LightGBM] [Info] Start training from score -0.000000\n",
      "  2\t0.79375\t\t0.79070\n",
      "codeeee : \n",
      "[LightGBM] [Info] Number of positive: 256, number of negative: 64\n",
      "[LightGBM] [Info] Total Bins 1070\n",
      "[LightGBM] [Info] Number of data points in the train set: 320, number of used features: 10\n",
      "[LightGBM] [Info] [binary:BoostFromScore]: pavg=0.500000 -> initscore=0.000000\n",
      "  3\t0.78125\t\t0.81395\n",
      "codeeee : \n",
      "[LightGBM] [Info] Number of positive: 252, number of negative: 68\n",
      "[LightGBM] [Info] Total Bins 1069\n",
      "[LightGBM] [Info] Number of data points in the train set: 320, number of used features: 10\n",
      "[LightGBM] [Info] [binary:BoostFromScore]: pavg=0.500000 -> initscore=-0.000000\n",
      "[LightGBM] [Info] Start training from score -0.000000\n",
      "  4\t0.78125\t\t0.76744\n",
      "/media/akara_bkp/nph_kgreat/kgreathoo/csv/perslice_all_10_code_aj_all_whole.csv Accuracy: 0.802 (0.048)\n",
      "              precision    recall  f1-score   support\n",
      "\n",
      "           0       0.91      0.69      0.78       112\n",
      "           1       0.73      0.92      0.82       105\n",
      "\n",
      "    accuracy                           0.80       217\n",
      "   macro avg       0.82      0.81      0.80       217\n",
      "weighted avg       0.82      0.80      0.80       217\n",
      "  (area = 0.89)\n",
      "0.802\t0.924\t0.688\t0.819\t97\t77\t35\t8\t0.887\t0.606\n"
     ]
    }
   ],
   "source": [
    "FOLDS=5\n",
    "# model='lr'\n",
    "# model='RF'\n",
    "model='light'\n",
    "# model='load'\n",
    "y_true = []\n",
    "y_pred = []\n",
    "y_prob = []\n",
    "X=data[cols].to_numpy()\n",
    "y=data['y']\n",
    "Y=y.astype('int')\n",
    "score_train=[]\n",
    "score_test=[]\n",
    "xx, yy = np.mgrid[-1:1.1:.01, -1:1.1:.01]\n",
    "grid = np.c_[xx.ravel(), yy.ravel()]\n",
    "save_idx=[]\n",
    "pred_df = pd.DataFrame()\n",
    "for fold_idx in range(FOLDS):\n",
    "    pred_df_tmp = pd.DataFrame()\n",
    "    if '42' in file1 or 'code' in file1 :\n",
    "        print('codeeee : ')\n",
    "        data['type'] = None\n",
    "        data['type'] = np.where((data['fold'] == int(fold_idx)) & data['HN'].isin(folds[fold_idx]['train']), f'train{fold_idx}', data['type'])\n",
    "        data['type'] = np.where((data['fold'] == int(fold_idx)) & data['HN'].isin(folds[fold_idx]['test']), f'test{fold_idx}', data['type'])\n",
    "\n",
    "    else:\n",
    "        data['type']=None\n",
    "        data['type'] = np.where(data['HN'].isin(folds[fold_idx]['train']), f'train{fold_idx}', data['type'])\n",
    "        data['type'] = np.where(data['HN'].isin(folds[fold_idx]['test']), f'test{fold_idx}',data['type'])\n",
    "        data['type'] = np.where(data['HN'].isin(folds[fold_idx]['val']), f'val{fold_idx}', data['type'])\n",
    "        \n",
    "        data['type'] = data.apply(lambda row: None if (row['type'] == f'test{fold_idx}' and row['HN'] in folds[fold_idx]['train']) else row['type'], axis=1)\n",
    "\n",
    "    X_train = data[(data['type']==f'train{fold_idx}') | (data['type']==f'val{fold_idx}')][cols].to_numpy()\n",
    "    y_train = data[(data['type']==f'train{fold_idx}') | (data['type']==f'val{fold_idx}')]['y'].to_numpy()\n",
    "    X_test = data[data['type']==f'test{fold_idx}'][cols].to_numpy()\n",
    "    y_test = data[data['type']==f'test{fold_idx}']['y'].to_numpy()\n",
    "    test = train_test_folds['{}'.format(fold_idx)]['test']\n",
    "    save_idx.append(data.index[data['type']==f'test{fold_idx}'].tolist())\n",
    "    pred_df_tmp['HN'] =data[data['type']==f'test{fold_idx}']['HN']\n",
    "    pred_df_tmp['y']=data[data['type']==f'test{fold_idx}']['y']\n",
    "\n",
    "\n",
    "    if(model=='lr'):\n",
    "        C=100\n",
    "        model2 = LogisticRegression(class_weight=\"balanced\", C=C,solver='lbfgs' ,max_iter=10000)\n",
    "        model2 = LogisticRegression(C=C).fit(X_train, y_train)\n",
    "    elif(model=='RF'):\n",
    "        model2 = RandomForestClassifier(class_weight=\"balanced\",n_estimators=5)\n",
    "        model2.fit(X_train, y_train)\n",
    "    elif(model=='light'):\n",
    "#         num_leaves=31, max_depth=-1, learning_rate=0.1, n_estimators=100, subsample_for_bin=200000, objective=None, class_weight=None, min_split_gain=0.0, min_child_weight=0.001, min_child_samples=20, \n",
    "        model2 = lgb.LGBMClassifier(force_col_wise=True,class_weight=\"balanced\",num_leaves=2, max_depth=0)\n",
    "        model2.fit(X_train, y_train)\n",
    "    else:\n",
    "        model2 = pickle.load(open(f'/data2-2tb/kgreathoo/Weakconfident1{fold_idx}_89_2025.sav', 'rb'))\n",
    "    print(\"%3d\\t%.5f\\t\\t%.5f\" % \n",
    "          (fold_idx, model2.score(X_train, y_train), model2.score(X_test, y_test)))\n",
    "\n",
    "#     features_name = data[cols]\n",
    "    \n",
    "\n",
    "#     features_name.columns = [re.sub(r'^CSF ratio_(\\d+)', r'$\\omega^{(\\1)}$', col) for col in features_name.columns]\n",
    "#     features_name.columns = [re.sub(r'(\\w+) CSF ratio_(\\d+)', r'\\1 $(\\omega)^{(\\2)}$', col) for col in features_name.columns]\n",
    "#     features_name.columns = [re.sub(r'Std' , r'Std.', col) for col in features_name.columns]\n",
    "\n",
    "#     if fold_idx==0:\n",
    "#         explainer = shap.TreeExplainer(model2, X_train, feature_perturbation=\"interventional\")\n",
    "#         shap_values = explainer(features_name)\n",
    "#         fig = plt.figure(figsize=(30, 28), dpi=300)\n",
    "#         fig = shap.plots.beeswarm(shap_values, max_display=10, show=False)\n",
    "# #         plt.title(title_map[MODEL_TYPE], fontsize=18, fontweight='bold')\n",
    "# #         plt.savefig(f'SHAP10Weak.pdf', bbox_inches='tight')\n",
    "#         plt.show()\n",
    "    score_train.append(model2.score(X_train, y_train))\n",
    "    score_test.append(model2.score(X_test, y_test))\n",
    "    \n",
    "    y_true.extend(y_test)\n",
    "    y_pred.extend(model2.predict(X_test))\n",
    "    y_prob.extend(model2.predict_proba(X_test))\n",
    "#     pickle.dump(model2, open(f'Weakconfident1{fold_idx}_89_2025.sav', 'wb'))\n",
    "#     pickle.dump(model2, open(f'SPM12confident1contour{fold_idx}.sav', 'wb'))\n",
    "#     pickle.dump(model2, open(f'SPM12confident1{fold_idx}.sav', 'wb'))\n",
    "#     pickle.dump(model2, open(f'headCT2023v2{fold_idx}.sav', 'wb'))\n",
    "#     pickle.dump(model2, open(f'ct3d{fold_idx}.sav', 'wb'))\n",
    "\n",
    "    pred_df = pd.concat([pred_df, pred_df_tmp], ignore_index=True)\n",
    "pred_df['y_pred_model']=y_pred\n",
    "pred_df['y_prob']=y_prob\n",
    "\n",
    "\n",
    "# if(model=='lr'):\n",
    "#     explainer = shap.LinearExplainer(model2, X_train, feature_perturbation=\"interventional\")\n",
    "#     shap_values = explainer(data[cols])\n",
    "#     shap.plots.beeswarm(shap_values, max_display=200)\n",
    "# elif(model=='RF'):\n",
    "#     explainer = shap.TreeExplainer(model2)\n",
    "#     shap_values = explainer(X_test)\n",
    "#     shap_values = explainer.shap_values(data[cols]) \n",
    "#     shap.summary_plot(shap_values[1], data[cols]) \n",
    "# elif(model=='light'):\n",
    "#     explainer = shap.TreeExplainer(model2, X_train, feature_perturbation=\"interventional\")\n",
    "#     shap_values = explainer(data[cols])\n",
    "#     shap.plots.beeswarm(shap_values, max_display=200)\n",
    "\n",
    "print(file1,'Accuracy: %.3f (%.3f)' % (mean(score_test), std(score_test)))\n",
    "y_true = np.asarray(y_true)\n",
    "y_pred = np.asarray(y_pred)\n",
    "y_prob = np.asarray(y_prob)\n",
    "print\n",
    "confusion_matrix(y_true, y_pred, labels=[0, 1])\n",
    "logit_roc_auc = roc_auc_score(y_true, y_prob[:, 1])\n",
    "fpr, tpr, thresholds = roc_curve(y_true, y_prob[:,1])\n",
    "print(classification_report(y_true, y_pred), f' (area = %0.2f)' % logit_roc_auc)\n",
    "from sklearn.metrics import cohen_kappa_score\n",
    "cm = confusion_matrix(y_true, y_pred, labels=[1, 0])\n",
    "TP, FN = cm[0]\n",
    "FP, TN = cm[1]\n",
    "\n",
    "accuracy = (TP + TN) / (TP + TN + FP + FN)\n",
    "sensitivity = TP / (TP + FN) if (TP + FN) > 0 else 0\n",
    "specificity = TN / (TN + FP) if (TN + FP) > 0 else 0\n",
    "f1_score = (2 * TP) / (2 * TP + FP + FN) if (2 * TP + FP + FN) > 0 else 0\n",
    "roc_auc = roc_auc_score(y_true, y_prob[:, 1])\n",
    "cohen_kappa = cohen_kappa_score(y_true, y_pred)\n",
    "\n",
    "# print(\"Acc\\tSensiy\\tSpec\\tF1-Score\\tTP\\tTN\\tFP\\tFN\\tAU-ROC\\tCohen\")\n",
    "print(f\"{accuracy:.3f}\\t{sensitivity:.3f}\\t{specificity:.3f}\\t{f1_score:.3f}\\t\"\n",
    "      f\"{TP}\\t{TN}\\t{FP}\\t{FN}\\t{roc_auc:.3f}\\t{cohen_kappa:.3f}\")\n",
    "\n",
    "\n",
    "\n"
   ]
  },
  {
   "cell_type": "markdown",
   "metadata": {},
   "source": [
    "#Model classification"
   ]
  },
  {
   "cell_type": "code",
   "execution_count": 227,
   "metadata": {
    "scrolled": false
   },
   "outputs": [
    {
     "name": "stdout",
     "output_type": "stream",
     "text": [
      "codeeee : \n"
     ]
    },
    {
     "name": "stderr",
     "output_type": "stream",
     "text": [
      "Trying to unpickle estimator LabelEncoder from version 0.23.2 when using version 1.0.2. This might lead to breaking code or invalid results. Use at your own risk. For more info please refer to:\n",
      "https://scikit-learn.org/stable/modules/model_persistence.html#security-maintainability-limitations\n"
     ]
    },
    {
     "name": "stdout",
     "output_type": "stream",
     "text": [
      "  0\t0.82188\t\t0.54545\n",
      "['CSF ratio_5', 'Std CSF ratio_8', 'Mean CSF ratio_5', 'Max CSF ratio_8', 'Max CSF ratio_6', 'Min CSF ratio_5', 'Mean CSF ratio_8', 'Min CSF ratio_4', 'Max CSF ratio_7', 'CSF ratio_4']\n",
      "['CSF ratio_5', 'Std CSF ratio_8', 'Mean CSF ratio_5', 'Max CSF ratio_8', 'Max CSF ratio_6', 'Min CSF ratio_5', 'Mean CSF ratio_8', 'Min CSF ratio_4', 'Max CSF ratio_7', 'CSF ratio_4']\n"
     ]
    },
    {
     "data": {
      "image/png": "[encoded data removed]",
      "text/plain": [
       "<Figure size 2400x1650 with 2 Axes>"
      ]
     },
     "metadata": {},
     "output_type": "display_data"
    },
    {
     "name": "stdout",
     "output_type": "stream",
     "text": [
      "codeeee : \n"
     ]
    },
    {
     "name": "stderr",
     "output_type": "stream",
     "text": [
      "Trying to unpickle estimator LabelEncoder from version 0.23.2 when using version 1.0.2. This might lead to breaking code or invalid results. Use at your own risk. For more info please refer to:\n",
      "https://scikit-learn.org/stable/modules/model_persistence.html#security-maintainability-limitations\n"
     ]
    },
    {
     "name": "stdout",
     "output_type": "stream",
     "text": [
      "  1\t0.82188\t\t0.65909\n",
      "['CSF ratio_5', 'Std CSF ratio_8', 'Mean CSF ratio_5', 'Max CSF ratio_8', 'Max CSF ratio_6', 'Min CSF ratio_5', 'Mean CSF ratio_8', 'Min CSF ratio_4', 'Max CSF ratio_7', 'CSF ratio_4']\n",
      "['CSF ratio_5', 'Std CSF ratio_8', 'Mean CSF ratio_5', 'Max CSF ratio_8', 'Max CSF ratio_6', 'Min CSF ratio_5', 'Mean CSF ratio_8', 'Min CSF ratio_4', 'Max CSF ratio_7', 'CSF ratio_4']\n",
      "codeeee : \n"
     ]
    },
    {
     "name": "stderr",
     "output_type": "stream",
     "text": [
      "Trying to unpickle estimator LabelEncoder from version 0.23.2 when using version 1.0.2. This might lead to breaking code or invalid results. Use at your own risk. For more info please refer to:\n",
      "https://scikit-learn.org/stable/modules/model_persistence.html#security-maintainability-limitations\n"
     ]
    },
    {
     "name": "stdout",
     "output_type": "stream",
     "text": [
      "  2\t0.81250\t\t0.44186\n",
      "['CSF ratio_5', 'Std CSF ratio_8', 'Mean CSF ratio_5', 'Max CSF ratio_8', 'Max CSF ratio_6', 'Min CSF ratio_5', 'Mean CSF ratio_8', 'Min CSF ratio_4', 'Max CSF ratio_7', 'CSF ratio_4']\n",
      "['CSF ratio_5', 'Std CSF ratio_8', 'Mean CSF ratio_5', 'Max CSF ratio_8', 'Max CSF ratio_6', 'Min CSF ratio_5', 'Mean CSF ratio_8', 'Min CSF ratio_4', 'Max CSF ratio_7', 'CSF ratio_4']\n",
      "codeeee : \n"
     ]
    },
    {
     "name": "stderr",
     "output_type": "stream",
     "text": [
      "Trying to unpickle estimator LabelEncoder from version 0.23.2 when using version 1.0.2. This might lead to breaking code or invalid results. Use at your own risk. For more info please refer to:\n",
      "https://scikit-learn.org/stable/modules/model_persistence.html#security-maintainability-limitations\n"
     ]
    },
    {
     "name": "stdout",
     "output_type": "stream",
     "text": [
      "  3\t0.81875\t\t0.76744\n",
      "['CSF ratio_5', 'Std CSF ratio_8', 'Mean CSF ratio_5', 'Max CSF ratio_8', 'Max CSF ratio_6', 'Min CSF ratio_5', 'Mean CSF ratio_8', 'Min CSF ratio_4', 'Max CSF ratio_7', 'CSF ratio_4']\n",
      "['CSF ratio_5', 'Std CSF ratio_8', 'Mean CSF ratio_5', 'Max CSF ratio_8', 'Max CSF ratio_6', 'Min CSF ratio_5', 'Mean CSF ratio_8', 'Min CSF ratio_4', 'Max CSF ratio_7', 'CSF ratio_4']\n",
      "codeeee : \n",
      "  4\t0.80312\t\t0.69767\n",
      "['CSF ratio_5', 'Std CSF ratio_8', 'Mean CSF ratio_5', 'Max CSF ratio_8', 'Max CSF ratio_6', 'Min CSF ratio_5', 'Mean CSF ratio_8', 'Min CSF ratio_4', 'Max CSF ratio_7', 'CSF ratio_4']\n",
      "['CSF ratio_5', 'Std CSF ratio_8', 'Mean CSF ratio_5', 'Max CSF ratio_8', 'Max CSF ratio_6', 'Min CSF ratio_5', 'Mean CSF ratio_8', 'Min CSF ratio_4', 'Max CSF ratio_7', 'CSF ratio_4']\n",
      "/media/akara_bkp/nph_kgreat/kgreathoo/csv/perslice_all_10_code_aj_all_whole.csv Accuracy: 0.622 (0.115)\n",
      "[[ 31  81]\n",
      " [  1 104]]\n",
      "              precision    recall  f1-score   support\n",
      "\n",
      "           0       0.97      0.28      0.43       112\n",
      "           1       0.56      0.99      0.72       105\n",
      "\n",
      "    accuracy                           0.62       217\n",
      "   macro avg       0.77      0.63      0.57       217\n",
      "weighted avg       0.77      0.62      0.57       217\n",
      "  (area = 0.63)\n",
      "cohen 0.26104651162790693\n"
     ]
    },
    {
     "name": "stderr",
     "output_type": "stream",
     "text": [
      "Trying to unpickle estimator LabelEncoder from version 0.23.2 when using version 1.0.2. This might lead to breaking code or invalid results. Use at your own risk. For more info please refer to:\n",
      "https://scikit-learn.org/stable/modules/model_persistence.html#security-maintainability-limitations\n"
     ]
    }
   ],
   "source": [
    "# model='lr'\n",
    "# model='RF'\n",
    "# model='light'\n",
    "model='load'\n",
    "y_true = []\n",
    "y_pred = []\n",
    "y_prob = []\n",
    "X=data[cols].to_numpy()\n",
    "y=data['y']\n",
    "Y=y.astype('int')\n",
    "score_train=[]\n",
    "score_test=[]\n",
    "xx, yy = np.mgrid[-1:1.1:.01, -1:1.1:.01]\n",
    "grid = np.c_[xx.ravel(), yy.ravel()]\n",
    "save_idx=[]\n",
    "pred_df = pd.DataFrame()\n",
    "for fold_idx in range(5):\n",
    "    pred_df_tmp = pd.DataFrame()\n",
    "    if '42' in file1 or 'code' in file1 :\n",
    "        print('codeeee : ')\n",
    "        data['type'] = None\n",
    "        data['type'] = np.where((data['fold'] == int(fold_idx)) & data['HN'].isin(folds[fold_idx]['train']), f'train{fold_idx}', data['type'])\n",
    "        data['type'] = np.where((data['fold'] == int(fold_idx)) & data['HN'].isin(folds[fold_idx]['test']), f'test{fold_idx}', data['type'])\n",
    "\n",
    "    else:\n",
    "        data['type']=None\n",
    "        data['type'] = np.where(data['HN'].isin(folds[fold_idx]['train']), f'train{fold_idx}', data['type'])\n",
    "        data['type'] = np.where(data['HN'].isin(folds[fold_idx]['test']), f'test{fold_idx}',data['type'])\n",
    "        data['type'] = np.where(data['HN'].isin(folds[fold_idx]['val']), f'val{fold_idx}', data['type'])\n",
    "        \n",
    "        data['type'] = data.apply(lambda row: None if (row['type'] == f'test{fold_idx}' and row['HN'] in folds[fold_idx]['train']) else row['type'], axis=1)\n",
    "\n",
    "    X_train = data[(data['type']==f'train{fold_idx}') | (data['type']==f'val{fold_idx}')][cols].to_numpy()\n",
    "    y_train = data[(data['type']==f'train{fold_idx}') | (data['type']==f'val{fold_idx}')]['y'].to_numpy()\n",
    "    X_test = data[data['type']==f'test{fold_idx}'][cols].to_numpy()\n",
    "    y_test = data[data['type']==f'test{fold_idx}']['y'].to_numpy()\n",
    "    test = train_test_folds['{}'.format(fold_idx)]['test']\n",
    "    save_idx.append(data.index[data['type']==f'test{fold_idx}'].tolist())\n",
    "    pred_df_tmp['HN'] =data[data['type']==f'test{fold_idx}']['HN']\n",
    "    pred_df_tmp['y']=data[data['type']==f'test{fold_idx}']['y']\n",
    "\n",
    "\n",
    "    if(model=='lr'):\n",
    "        C=100\n",
    "        model2 = LogisticRegression(class_weight=\"balanced\", C=C,solver='lbfgs' ,max_iter=10000)\n",
    "        model2 = LogisticRegression(C=C).fit(X_train, y_train)\n",
    "    elif(model=='RF'):\n",
    "        model2 = RandomForestClassifier(class_weight=\"balanced\",n_estimators=5)\n",
    "        model2.fit(X_train, y_train)\n",
    "    elif(model=='light'):\n",
    "#         num_leaves=31, max_depth=-1, learning_rate=0.1, n_estimators=100, subsample_for_bin=200000, objective=None, class_weight=None, min_split_gain=0.0, min_child_weight=0.001, min_child_samples=20, \n",
    "        model2 = lgb.LGBMClassifier(force_col_wise=True,class_weight=\"balanced\",num_leaves=2, max_depth=1)\n",
    "        model2.fit(X_train, y_train)\n",
    "    else:\n",
    "        model2 = pickle.load(open(f'/media/akara_bkp/nph_kgreat/nph-weak-sup/Weakconfident1{fold_idx}_89_2025.sav', 'rb'))\n",
    "    print(\"%3d\\t%.5f\\t\\t%.5f\" % \n",
    "          (fold_idx, model2.score(X_train, y_train), model2.score(X_test, y_test)))\n",
    "\n",
    "\n",
    "    features_name = data[cols]\n",
    "    \n",
    "# index เดิม\n",
    "#     features_name.columns = [\n",
    "#         re.sub(r'^CSF ratio_(\\d+)', lambda m: rf'$\\omega^{{({m.group(1)})}}$', col)\n",
    "#         for col in features_name.columns\n",
    "#     ]\n",
    "\n",
    "#     features_name.columns = [\n",
    "#         re.sub(r'(\\w+) CSF ratio_(\\d+)', lambda m: rf'{m.group(1)} $(\\omega)^{{({m.group(2)})}}$', col)\n",
    "#         for col in features_name.columns\n",
    "#     ]\n",
    "\n",
    "#     features_name.columns = [\n",
    "#         re.sub(r'Std', 'Std.', col)\n",
    "#         for col in features_name.columns\n",
    "#     ]\n",
    "# index +1\n",
    "    features_name.columns = [\n",
    "        re.sub(r'^CSF ratio_(\\d+)', lambda m: rf'$\\omega^{{({int(m.group(1)) + 1})}}$', col)\n",
    "        for col in features_name.columns\n",
    "    ]\n",
    "\n",
    "    features_name.columns = [\n",
    "        re.sub(r'(\\w+) CSF ratio_(\\d+)', lambda m: rf'{m.group(1)} $(\\omega)^{{({int(m.group(2)) + 1})}}$', col)\n",
    "        for col in features_name.columns\n",
    "    ]\n",
    "\n",
    "    features_name.columns = [\n",
    "        re.sub(r'Std', 'Std.', col)\n",
    "        for col in features_name.columns\n",
    "    ]\n",
    "\n",
    "\n",
    "    if fold_idx==0:\n",
    "        explainer = shap.TreeExplainer(model2, X_train, feature_perturbation=\"interventional\")\n",
    "        shap_values = explainer(features_name)\n",
    "        fig = plt.figure(figsize=(30, 28), dpi=300)\n",
    "        fig = shap.plots.beeswarm(shap_values, max_display=10, show=False)\n",
    "#         plt.title(title_map[MODEL_TYPE], fontsize=18, fontweight='bold')\n",
    "#         plt.savefig(f'SHAP10Weak.pdf', bbox_inches='tight')\n",
    "        plt.show()\n",
    "    score_train.append(model2.score(X_train, y_train))\n",
    "    score_test.append(model2.score(X_test, y_test))\n",
    "    \n",
    "    y_true.extend(y_test)\n",
    "    y_pred.extend(model2.predict(X_test))\n",
    "    y_prob.extend(model2.predict_proba(X_test))\n",
    "#     pickle.dump(model2, open(f'Weakconfident1{fold_idx}_89.sav', 'wb'))\n",
    "#     pickle.dump(model2, open(f'SPM12confident1contour{fold_idx}.sav', 'wb'))\n",
    "#     pickle.dump(model2, open(f'SPM12confident1{fold_idx}.sav', 'wb'))\n",
    "#     pickle.dump(model2, open(f'headCT2023v2{fold_idx}.sav', 'wb'))\n",
    "#     pickle.dump(model2, open(f'ct3d{fold_idx}.sav', 'wb'))\n",
    "\n",
    "    pred_df = pd.concat([pred_df, pred_df_tmp], ignore_index=True)\n",
    "pred_df['y_pred_model']=y_pred\n",
    "\n",
    "\n",
    "# if(model=='lr'):\n",
    "#     explainer = shap.LinearExplainer(model2, X_train, feature_perturbation=\"interventional\")\n",
    "#     shap_values = explainer(data[cols])\n",
    "#     shap.plots.beeswarm(shap_values, max_display=200)\n",
    "# elif(model=='RF'):\n",
    "#     explainer = shap.TreeExplainer(model2)\n",
    "#     shap_values = explainer(X_test)\n",
    "#     shap_values = explainer.shap_values(data[cols]) \n",
    "#     shap.summary_plot(shap_values[1], data[cols]) \n",
    "# elif(model=='light'):\n",
    "#     explainer = shap.TreeExplainer(model2, X_train, feature_perturbation=\"interventional\")\n",
    "#     shap_values = explainer(data[cols])\n",
    "#     shap.plots.beeswarm(shap_values, max_display=200)\n",
    "\n",
    "print(file1,'Accuracy: %.3f (%.3f)' % (mean(score_test), std(score_test)))\n",
    "y_true = np.asarray(y_true)\n",
    "y_pred = np.asarray(y_pred)\n",
    "y_prob = np.asarray(y_prob)\n",
    "confusion_matrix(y_true, y_pred, labels=[0, 1])\n",
    "logit_roc_auc = roc_auc_score(y_true, y_pred)\n",
    "fpr, tpr, thresholds = roc_curve(y_true, y_prob[:,1])\n",
    "cm = confusion_matrix(y_true, y_pred)\n",
    "print(cm)\n",
    "print(classification_report(y_true, y_pred), f' (area = %0.2f)' % logit_roc_auc)\n",
    "from sklearn.metrics import cohen_kappa_score\n",
    "print('cohen',cohen_kappa_score(y_true, y_pred))\n",
    "\n",
    "\n",
    "\n"
   ]
  },
  {
   "cell_type": "code",
   "execution_count": 55,
   "metadata": {},
   "outputs": [
    {
     "data": {
      "text/plain": [
       "0      38160661\n",
       "1      54380859\n",
       "2      54354537\n",
       "3      54270102\n",
       "4      54065132\n",
       "         ...   \n",
       "212    52762633\n",
       "213    53189614\n",
       "214    53798105\n",
       "215    53882768\n",
       "216    54203499\n",
       "Name: HN, Length: 217, dtype: int64"
      ]
     },
     "execution_count": 55,
     "metadata": {},
     "output_type": "execute_result"
    }
   ],
   "source": [
    "abnormal_cases_info['HN']"
   ]
  },
  {
   "cell_type": "code",
   "execution_count": 54,
   "metadata": {},
   "outputs": [
    {
     "data": {
      "text/plain": [
       "0       38000954\n",
       "1       38000954\n",
       "2       38000954\n",
       "3       38000954\n",
       "4       38000954\n",
       "          ...   \n",
       "2235    54380859\n",
       "2236    54380859\n",
       "2237    54380859\n",
       "2238    54380859\n",
       "2239    54380859\n",
       "Name: HN, Length: 2240, dtype: object"
      ]
     },
     "execution_count": 54,
     "metadata": {},
     "output_type": "execute_result"
    }
   ],
   "source": [
    "data['HN']"
   ]
  },
  {
   "cell_type": "code",
   "execution_count": 58,
   "metadata": {},
   "outputs": [
    {
     "name": "stdout",
     "output_type": "stream",
     "text": [
      "{(51131969, 4), (53915135, 1), (46003874, 1), (51209446, 4), (50151931, 3), (38900161, 0), (54278767, 1), (48168011, 2), (51256496, 2), (54104142, 0), (45064706, 4), (40151265, 4), (46010936, 1), (44096626, 2), (38160661, 3), (38182610, 4), (54273498, 1), (40026144, 4), (41128291, 0), (54231068, 1), (38136681, 4), (42004905, 4), (53833962, 1), (49252872, 3), (52589804, 0), (48104673, 1), (52602113, 4), (53650120, 2), (54065132, 3), (44130155, 1), (45084446, 0), (54071082, 2), (41009872, 0), (54066067, 0), (54164431, 0), (49161849, 2), (39108404, 4), (53872843, 4), (42052801, 1), (53701955, 3), (54022321, 1), (54279570, 0), (53885058, 1), (44119324, 4), (53338968, 2), (54232314, 0), (53111503, 1), (51269310, 0), (41051113, 2), (52923489, 1), (54206772, 0), (42204536, 2), (47121487, 3), (49243612, 3), (53076338, 2), (46025187, 2), (46023027, 3), (50167760, 3), (53994956, 1), (40018977, 3), (52531308, 4), (54209927, 1), (54354537, 0), (38089950, 3), (43140800, 2), (51176610, 4), (40142142, 1), (48125360, 1), (40036109, 3), (54277506, 1), (42161438, 3), (40170512, 4), (47201762, 4), (53966383, 4), (43140804, 2), (44135554, 2), (45502728, 0), (54263191, 4), (53714114, 3), (53411890, 2), (54238301, 3), (39184244, 1), (48101145, 4), (53790928, 0), (53574742, 0), (53189614, 2), (49114962, 0), (43134468, 1), (43153731, 0), (43127044, 4), (45131226, 4), (42054989, 4), (45503191, 1), (54023756, 1), (45072773, 2), (53208114, 0), (40059655, 4), (52540642, 2), (42014756, 1), (53825090, 0), (53344001, 0), (52973730, 4), (53827103, 1), (47158939, 2), (54265542, 2), (53901130, 2), (51155883, 3), (49210276, 4), (40188233, 3), (52762633, 0), (53601117, 0), (53798105, 2), (49182781, 2), (42148589, 4), (54204626, 0), (43001850, 4), (40122236, 0), (54210092, 4), (39009394, 2), (44083207, 3), (51272890, 4), (41071744, 2), (54015465, 0), (52610487, 3), (46152726, 2), (39100003, 0), (41169972, 1), (45502443, 2), (38145861, 2), (39164983, 3), (40029104, 2), (41002261, 1), (42106198, 2), (54270102, 1), (41143876, 3), (49147328, 2), (54380859, 1), (52736341, 1), (54010045, 4), (52589797, 1), (54020273, 0), (53893982, 3), (53882768, 3), (52604548, 0), (38907635, 3), (38110417, 4), (48105092, 0), (41110780, 0), (53357116, 1), (38022581, 3), (38053812, 0), (50501145, 1), (39094181, 2), (50296397, 2), (50193940, 4), (53610615, 2), (42005233, 0), (38005966, 3), (53038592, 3), (38906285, 3), (48213983, 2), (46023087, 0), (52517040, 4), (53851833, 0), (54277918, 1), (54197900, 0), (52728428, 3), (52591854, 3), (38004023, 4), (40067405, 2), (47138521, 4), (44007156, 0), (39056779, 3), (54197898, 2), (53965464, 3), (42079148, 0), (54288410, 3), (54197829, 3), (44012014, 2), (53741478, 0), (41143713, 3), (40026745, 1), (44037510, 4), (46501836, 2), (53021653, 2), (54203499, 2), (50279255, 4), (54270787, 3), (54025856, 1), (53630522, 4), (41039049, 4), (53427016, 3), (47235817, 0), (46103991, 1), (49185484, 3), (40158109, 1), (40104682, 0), (53078877, 4), (48237608, 2), (42148845, 4), (50157980, 0), (52501006, 2), (47154825, 3), (39061001, 0), (52871248, 1), (53399719, 4), (45108464, 3), (41155224, 1), (50186221, 1), (45074424, 1), (54283571, 3), (42026452, 3), (53005034, 0), (42012079, 1), (49189924, 4), (44020997, 1), (54277930, 3)}\n",
      "0\t0.82188\t\t0.54545\n"
     ]
    },
    {
     "name": "stderr",
     "output_type": "stream",
     "text": [
      "Trying to unpickle estimator LabelEncoder from version 0.24.2 when using version 1.0.2. This might lead to breaking code or invalid results. Use at your own risk. For more info please refer to:\n",
      "https://scikit-learn.org/stable/modules/model_persistence.html#security-maintainability-limitations\n"
     ]
    },
    {
     "data": {
      "image/png": "[encoded data removed]",
      "text/plain": [
       "<Figure size 2400x1650 with 2 Axes>"
      ]
     },
     "metadata": {},
     "output_type": "display_data"
    },
    {
     "name": "stdout",
     "output_type": "stream",
     "text": [
      "1\t0.82188\t\t0.65909\n",
      "2\t0.81250\t\t0.41463\n",
      "3\t0.81875\t\t0.76190\n",
      "4\t0.80312\t\t0.69767\n",
      "/data2-2tb/kgreathoo/csv/perslice_all_10_code_aj_all_whole.csv Accuracy: 0.616 (0.137)\n",
      "[[ 31  81]\n",
      " [  1 101]]\n",
      "              precision    recall  f1-score   support\n",
      "\n",
      "           0       0.97      0.28      0.43       112\n",
      "           1       0.55      0.99      0.71       102\n",
      "\n",
      "    accuracy                           0.62       214\n",
      "   macro avg       0.76      0.63      0.57       214\n",
      "weighted avg       0.77      0.62      0.56       214\n",
      "  (area = 0.63)\n",
      "cohen 0.2579499323410013\n"
     ]
    },
    {
     "name": "stderr",
     "output_type": "stream",
     "text": [
      "Trying to unpickle estimator LabelEncoder from version 0.24.2 when using version 1.0.2. This might lead to breaking code or invalid results. Use at your own risk. For more info please refer to:\n",
      "https://scikit-learn.org/stable/modules/model_persistence.html#security-maintainability-limitations\n",
      "Trying to unpickle estimator LabelEncoder from version 0.24.2 when using version 1.0.2. This might lead to breaking code or invalid results. Use at your own risk. For more info please refer to:\n",
      "https://scikit-learn.org/stable/modules/model_persistence.html#security-maintainability-limitations\n",
      "Trying to unpickle estimator LabelEncoder from version 0.24.2 when using version 1.0.2. This might lead to breaking code or invalid results. Use at your own risk. For more info please refer to:\n",
      "https://scikit-learn.org/stable/modules/model_persistence.html#security-maintainability-limitations\n",
      "Trying to unpickle estimator LabelEncoder from version 0.24.2 when using version 1.0.2. This might lead to breaking code or invalid results. Use at your own risk. For more info please refer to:\n",
      "https://scikit-learn.org/stable/modules/model_persistence.html#security-maintainability-limitations\n"
     ]
    }
   ],
   "source": [
    "import pandas as pd\n",
    "import numpy as np\n",
    "import pickle\n",
    "import re\n",
    "import shap\n",
    "import matplotlib.pyplot as plt\n",
    "from sklearn.linear_model import LogisticRegression\n",
    "from sklearn.ensemble import RandomForestClassifier\n",
    "from sklearn.metrics import (\n",
    "    confusion_matrix,\n",
    "    classification_report,\n",
    "    roc_auc_score,\n",
    "    roc_curve,\n",
    "    cohen_kappa_score\n",
    ")\n",
    "from statistics import mean, stdev as std\n",
    "\n",
    "# Load abnormal HN + fold info\n",
    "abnormal_cases_info['fold'] = abnormal_cases_info['type'].str.extract(r'test(\\d+)').astype(int)\n",
    "interested_test_keys = set(zip(abnormal_cases_info['HN'], abnormal_cases_info['fold']))\n",
    "\n",
    "# Assume these are predefined\n",
    "# data, cols, folds, train_test_folds, file1\n",
    "\n",
    "model = 'load'\n",
    "y_true = []\n",
    "y_pred = []\n",
    "y_prob = []\n",
    "X = data[cols].to_numpy()\n",
    "y = data['y']\n",
    "score_train = []\n",
    "score_test = []\n",
    "save_idx = []\n",
    "pred_df = pd.DataFrame()\n",
    "\n",
    "for fold_idx in range(5):\n",
    "    pred_df_tmp = pd.DataFrame()\n",
    "\n",
    "    if '42' in file1 or 'code' in file1:\n",
    "        data['type'] = None\n",
    "        data['type'] = np.where(\n",
    "            (data['fold'] == int(fold_idx)) & data['HN'].isin(folds[fold_idx]['train']),\n",
    "            f'train{fold_idx}', data['type']\n",
    "        )\n",
    "        data['type'] = np.where(\n",
    "            (data['fold'] == int(fold_idx)) & data['HN'].isin(folds[fold_idx]['test']),\n",
    "            f'test{fold_idx}', data['type']\n",
    "        )\n",
    "    else:\n",
    "        data['type'] = None\n",
    "        data['type'] = np.where(data['HN'].isin(folds[fold_idx]['train']), f'train{fold_idx}', data['type'])\n",
    "        data['type'] = np.where(data['HN'].isin(folds[fold_idx]['test']), f'test{fold_idx}', data['type'])\n",
    "        data['type'] = np.where(data['HN'].isin(folds[fold_idx]['val']), f'val{fold_idx}', data['type'])\n",
    "        data['type'] = data.apply(\n",
    "            lambda row: None if (row['type'] == f'test{fold_idx}' and row['HN'] in folds[fold_idx]['train']) else row['type'],\n",
    "            axis=1\n",
    "        )\n",
    "\n",
    "    # Train set\n",
    "    X_train = data[(data['type'] == f'train{fold_idx}') | (data['type'] == f'val{fold_idx}')][cols].to_numpy()\n",
    "    y_train = data[(data['type'] == f'train{fold_idx}') | (data['type'] == f'val{fold_idx}')]['y'].to_numpy()\n",
    "\n",
    "    # Test set (filtered by interested HN+fold)\n",
    "    data_filtered = data[\n",
    "        data.apply(lambda row: (int(row['HN']), fold_idx) in interested_test_keys and row['type'] == f'test{fold_idx}', axis=1)\n",
    "    ]\n",
    "    X_test = data_filtered[cols].to_numpy()\n",
    "    y_test = data_filtered['y'].to_numpy()\n",
    "    pred_df_tmp['HN'] = data_filtered['HN']\n",
    "    pred_df_tmp['y'] = data_filtered['y']\n",
    "\n",
    "    # Load model\n",
    "    if model == 'lr':\n",
    "        model2 = LogisticRegression(C=100, max_iter=10000).fit(X_train, y_train)\n",
    "    else:\n",
    "        model2 = pickle.load(open(f'/data2-2tb/kgreathoo/Weakconfident1{fold_idx}_89.sav', 'rb'))\n",
    "\n",
    "    print(f\"{fold_idx}\\t{model2.score(X_train, y_train):.5f}\\t\\t{model2.score(X_test, y_test):.5f}\")\n",
    "\n",
    "    # Rename for SHAP\n",
    "    features_name = data[cols].copy()\n",
    "    features_name.columns = [\n",
    "        re.sub(r'^CSF ratio_(\\d+)', lambda m: rf'$\\omega^{{{int(m.group(1)) + 1}}}$', col)\n",
    "        for col in features_name.columns\n",
    "    ]\n",
    "    features_name.columns = [\n",
    "        re.sub(r'(\\w+) CSF ratio_(\\d+)', lambda m: rf'{m.group(1)} $(\\omega)^{{{int(m.group(2)) + 1}}}$', col)\n",
    "        for col in features_name.columns\n",
    "    ]\n",
    "    features_name.columns = [\n",
    "        re.sub(r'Std', 'Std.', col)\n",
    "        for col in features_name.columns\n",
    "    ]\n",
    "\n",
    "    if fold_idx == 0:\n",
    "        explainer = shap.TreeExplainer(model2, X_train, feature_perturbation=\"interventional\")\n",
    "        shap_values = explainer(features_name)\n",
    "        fig = plt.figure(figsize=(30, 28), dpi=300)\n",
    "        shap.plots.beeswarm(shap_values, max_display=10, show=False)\n",
    "        plt.show()\n",
    "\n",
    "    # Score\n",
    "    score_train.append(model2.score(X_train, y_train))\n",
    "    score_test.append(model2.score(X_test, y_test))\n",
    "\n",
    "    y_true.extend(y_test)\n",
    "    y_pred.extend(model2.predict(X_test))\n",
    "    y_prob.extend(model2.predict_proba(X_test))\n",
    "    pred_df = pd.concat([pred_df, pred_df_tmp], ignore_index=True)\n",
    "\n",
    "# Final evaluation\n",
    "pred_df['y_pred_model'] = y_pred\n",
    "print(file1, 'Accuracy: %.3f (%.3f)' % (mean(score_test), std(score_test)))\n",
    "\n",
    "y_true = np.asarray(y_true)\n",
    "y_pred = np.asarray(y_pred)\n",
    "y_prob = np.asarray(y_prob)\n",
    "cm = confusion_matrix(y_true, y_pred)\n",
    "print(cm)\n",
    "print(classification_report(y_true, y_pred), f' (area = %0.2f)' % roc_auc_score(y_true, y_pred))\n",
    "print('cohen', cohen_kappa_score(y_true, y_pred))\n"
   ]
  },
  {
   "cell_type": "code",
   "execution_count": 57,
   "metadata": {},
   "outputs": [],
   "source": [
    "pred_df['HN'] = pred_df['HN'].astype(str)"
   ]
  },
  {
   "cell_type": "code",
   "execution_count": 251,
   "metadata": {},
   "outputs": [],
   "source": [
    "import pandas as pd\n",
    "import shap\n",
    "import pickle\n",
    "import matplotlib.pyplot as plt\n",
    "\n",
    "# โหลด interest case ที่สนใจ (เฉพาะ test fold)\n",
    "abnormal_info = pd.read_csv(\"/data4-4tb/kgreathoo/abnormal_cases_info.csv\")\n",
    "abnormal_info['HN'] = abnormal_info['HN'].astype(int)\n",
    "abnormal_info = abnormal_info[abnormal_info['type'].str.contains('test')]\n",
    "abnormal_info['fold'] = abnormal_info['type'].str.extract(r'test(\\d+)').astype(int)\n"
   ]
  },
  {
   "cell_type": "code",
   "execution_count": 124,
   "metadata": {
    "scrolled": true
   },
   "outputs": [
    {
     "name": "stderr",
     "output_type": "stream",
     "text": [
      "Trying to unpickle estimator LabelEncoder from version 0.24.2 when using version 1.0.2. This might lead to breaking code or invalid results. Use at your own risk. For more info please refer to:\n",
      "https://scikit-learn.org/stable/modules/model_persistence.html#security-maintainability-limitations\n",
      "LightGBM binary classifier with TreeExplainer shap values output has changed to a list of ndarray\n"
     ]
    },
    {
     "name": "stdout",
     "output_type": "stream",
     "text": [
      "['/data4-4tb/kgreathoo/plots_result/38160661_peak_idx_1_type_test3_TP.png']\n",
      "✅ Image: /data4-4tb/kgreathoo/plots_result/38160661_peak_idx_1_type_test3_TP.png\n",
      "🖼️ Title: 38160661 Peak Index 1 Type Test3 Tp\n",
      "✅ Saved combined image: shap_outputs_1_10_new/38160661_peak_idx_1_type_test3_TP.png\n"
     ]
    },
    {
     "name": "stderr",
     "output_type": "stream",
     "text": [
      "Trying to unpickle estimator LabelEncoder from version 0.24.2 when using version 1.0.2. This might lead to breaking code or invalid results. Use at your own risk. For more info please refer to:\n",
      "https://scikit-learn.org/stable/modules/model_persistence.html#security-maintainability-limitations\n",
      "LightGBM binary classifier with TreeExplainer shap values output has changed to a list of ndarray\n"
     ]
    },
    {
     "name": "stdout",
     "output_type": "stream",
     "text": [
      "['/data4-4tb/kgreathoo/plots_result/54380859_peak_idx_2_type_test1_FN.png']\n",
      "✅ Image: /data4-4tb/kgreathoo/plots_result/54380859_peak_idx_2_type_test1_FN.png\n",
      "🖼️ Title: 54380859 Peak Index 2 Type Test1 Fn\n",
      "✅ Saved combined image: shap_outputs_1_10_new/54380859_peak_idx_2_type_test1_FN.png\n"
     ]
    },
    {
     "name": "stderr",
     "output_type": "stream",
     "text": [
      "Trying to unpickle estimator LabelEncoder from version 0.24.2 when using version 1.0.2. This might lead to breaking code or invalid results. Use at your own risk. For more info please refer to:\n",
      "https://scikit-learn.org/stable/modules/model_persistence.html#security-maintainability-limitations\n",
      "LightGBM binary classifier with TreeExplainer shap values output has changed to a list of ndarray\n"
     ]
    },
    {
     "name": "stdout",
     "output_type": "stream",
     "text": [
      "['/data4-4tb/kgreathoo/plots_result/54354537_peak_idx_1_type_test0_TP.png']\n",
      "✅ Image: /data4-4tb/kgreathoo/plots_result/54354537_peak_idx_1_type_test0_TP.png\n",
      "🖼️ Title: 54354537 Peak Index 1 Type Test0 Tp\n",
      "✅ Saved combined image: shap_outputs_1_10_new/54354537_peak_idx_1_type_test0_TP.png\n"
     ]
    },
    {
     "name": "stderr",
     "output_type": "stream",
     "text": [
      "Trying to unpickle estimator LabelEncoder from version 0.24.2 when using version 1.0.2. This might lead to breaking code or invalid results. Use at your own risk. For more info please refer to:\n",
      "https://scikit-learn.org/stable/modules/model_persistence.html#security-maintainability-limitations\n",
      "LightGBM binary classifier with TreeExplainer shap values output has changed to a list of ndarray\n"
     ]
    },
    {
     "name": "stdout",
     "output_type": "stream",
     "text": [
      "['/data4-4tb/kgreathoo/plots_result/54270102_peak_idx_1_type_test1_TP.png']\n",
      "✅ Image: /data4-4tb/kgreathoo/plots_result/54270102_peak_idx_1_type_test1_TP.png\n",
      "🖼️ Title: 54270102 Peak Index 1 Type Test1 Tp\n",
      "✅ Saved combined image: shap_outputs_1_10_new/54270102_peak_idx_1_type_test1_TP.png\n"
     ]
    },
    {
     "name": "stderr",
     "output_type": "stream",
     "text": [
      "Trying to unpickle estimator LabelEncoder from version 0.24.2 when using version 1.0.2. This might lead to breaking code or invalid results. Use at your own risk. For more info please refer to:\n",
      "https://scikit-learn.org/stable/modules/model_persistence.html#security-maintainability-limitations\n",
      "LightGBM binary classifier with TreeExplainer shap values output has changed to a list of ndarray\n"
     ]
    },
    {
     "name": "stdout",
     "output_type": "stream",
     "text": [
      "['/data4-4tb/kgreathoo/plots_result/54065132_peak_idx_9_type_test3_TP.png']\n",
      "✅ Image: /data4-4tb/kgreathoo/plots_result/54065132_peak_idx_9_type_test3_TP.png\n",
      "🖼️ Title: 54065132 Peak Index 9 Type Test3 Tp\n",
      "✅ Saved combined image: shap_outputs_1_10_new/54065132_peak_idx_9_type_test3_TP.png\n"
     ]
    },
    {
     "name": "stderr",
     "output_type": "stream",
     "text": [
      "Trying to unpickle estimator LabelEncoder from version 0.24.2 when using version 1.0.2. This might lead to breaking code or invalid results. Use at your own risk. For more info please refer to:\n",
      "https://scikit-learn.org/stable/modules/model_persistence.html#security-maintainability-limitations\n",
      "LightGBM binary classifier with TreeExplainer shap values output has changed to a list of ndarray\n"
     ]
    },
    {
     "name": "stdout",
     "output_type": "stream",
     "text": [
      "['/data4-4tb/kgreathoo/plots_result/54025856_peak_idx_1_type_test1_TP.png']\n",
      "✅ Image: /data4-4tb/kgreathoo/plots_result/54025856_peak_idx_1_type_test1_TP.png\n",
      "🖼️ Title: 54025856 Peak Index 1 Type Test1 Tp\n",
      "✅ Saved combined image: shap_outputs_1_10_new/54025856_peak_idx_1_type_test1_TP.png\n"
     ]
    },
    {
     "name": "stderr",
     "output_type": "stream",
     "text": [
      "Trying to unpickle estimator LabelEncoder from version 0.24.2 when using version 1.0.2. This might lead to breaking code or invalid results. Use at your own risk. For more info please refer to:\n",
      "https://scikit-learn.org/stable/modules/model_persistence.html#security-maintainability-limitations\n",
      "LightGBM binary classifier with TreeExplainer shap values output has changed to a list of ndarray\n"
     ]
    },
    {
     "name": "stdout",
     "output_type": "stream",
     "text": [
      "['/data4-4tb/kgreathoo/plots_result/54015465_peak_idx_1_type_test0_TP.png']\n",
      "✅ Image: /data4-4tb/kgreathoo/plots_result/54015465_peak_idx_1_type_test0_TP.png\n",
      "🖼️ Title: 54015465 Peak Index 1 Type Test0 Tp\n",
      "✅ Saved combined image: shap_outputs_1_10_new/54015465_peak_idx_1_type_test0_TP.png\n"
     ]
    },
    {
     "name": "stderr",
     "output_type": "stream",
     "text": [
      "Trying to unpickle estimator LabelEncoder from version 0.24.2 when using version 1.0.2. This might lead to breaking code or invalid results. Use at your own risk. For more info please refer to:\n",
      "https://scikit-learn.org/stable/modules/model_persistence.html#security-maintainability-limitations\n",
      "LightGBM binary classifier with TreeExplainer shap values output has changed to a list of ndarray\n"
     ]
    },
    {
     "name": "stdout",
     "output_type": "stream",
     "text": [
      "['/data4-4tb/kgreathoo/plots_result/54010045_peak_idx_10_type_test4_TP.png']\n",
      "✅ Image: /data4-4tb/kgreathoo/plots_result/54010045_peak_idx_10_type_test4_TP.png\n",
      "🖼️ Title: 54010045 Peak Index 10 Type Test4 Tp\n",
      "✅ Saved combined image: shap_outputs_1_10_new/54010045_peak_idx_10_type_test4_TP.png\n"
     ]
    },
    {
     "name": "stderr",
     "output_type": "stream",
     "text": [
      "Trying to unpickle estimator LabelEncoder from version 0.24.2 when using version 1.0.2. This might lead to breaking code or invalid results. Use at your own risk. For more info please refer to:\n",
      "https://scikit-learn.org/stable/modules/model_persistence.html#security-maintainability-limitations\n",
      "LightGBM binary classifier with TreeExplainer shap values output has changed to a list of ndarray\n"
     ]
    },
    {
     "name": "stdout",
     "output_type": "stream",
     "text": [
      "['/data4-4tb/kgreathoo/plots_result/53994956_peak_idx_2_type_test1_TP.png']\n",
      "✅ Image: /data4-4tb/kgreathoo/plots_result/53994956_peak_idx_2_type_test1_TP.png\n",
      "🖼️ Title: 53994956 Peak Index 2 Type Test1 Tp\n",
      "✅ Saved combined image: shap_outputs_1_10_new/53994956_peak_idx_2_type_test1_TP.png\n"
     ]
    },
    {
     "name": "stderr",
     "output_type": "stream",
     "text": [
      "Trying to unpickle estimator LabelEncoder from version 0.24.2 when using version 1.0.2. This might lead to breaking code or invalid results. Use at your own risk. For more info please refer to:\n",
      "https://scikit-learn.org/stable/modules/model_persistence.html#security-maintainability-limitations\n",
      "LightGBM binary classifier with TreeExplainer shap values output has changed to a list of ndarray\n"
     ]
    },
    {
     "name": "stdout",
     "output_type": "stream",
     "text": [
      "['/data4-4tb/kgreathoo/plots_result/53966383_peak_idx_1_type_test4_TP.png']\n",
      "✅ Image: /data4-4tb/kgreathoo/plots_result/53966383_peak_idx_1_type_test4_TP.png\n",
      "🖼️ Title: 53966383 Peak Index 1 Type Test4 Tp\n",
      "✅ Saved combined image: shap_outputs_1_10_new/53966383_peak_idx_1_type_test4_TP.png\n"
     ]
    },
    {
     "name": "stderr",
     "output_type": "stream",
     "text": [
      "Trying to unpickle estimator LabelEncoder from version 0.24.2 when using version 1.0.2. This might lead to breaking code or invalid results. Use at your own risk. For more info please refer to:\n",
      "https://scikit-learn.org/stable/modules/model_persistence.html#security-maintainability-limitations\n",
      "LightGBM binary classifier with TreeExplainer shap values output has changed to a list of ndarray\n"
     ]
    },
    {
     "name": "stdout",
     "output_type": "stream",
     "text": [
      "['/data4-4tb/kgreathoo/plots_result/53885058_peak_idx_1_type_test1_TP.png']\n",
      "✅ Image: /data4-4tb/kgreathoo/plots_result/53885058_peak_idx_1_type_test1_TP.png\n",
      "🖼️ Title: 53885058 Peak Index 1 Type Test1 Tp\n",
      "✅ Saved combined image: shap_outputs_1_10_new/53885058_peak_idx_1_type_test1_TP.png\n"
     ]
    },
    {
     "name": "stderr",
     "output_type": "stream",
     "text": [
      "Trying to unpickle estimator LabelEncoder from version 0.24.2 when using version 1.0.2. This might lead to breaking code or invalid results. Use at your own risk. For more info please refer to:\n",
      "https://scikit-learn.org/stable/modules/model_persistence.html#security-maintainability-limitations\n",
      "LightGBM binary classifier with TreeExplainer shap values output has changed to a list of ndarray\n"
     ]
    },
    {
     "name": "stdout",
     "output_type": "stream",
     "text": [
      "['/data4-4tb/kgreathoo/plots_result/53833962_peak_idx_1_type_test1_TP.png']\n",
      "✅ Image: /data4-4tb/kgreathoo/plots_result/53833962_peak_idx_1_type_test1_TP.png\n",
      "🖼️ Title: 53833962 Peak Index 1 Type Test1 Tp\n",
      "✅ Saved combined image: shap_outputs_1_10_new/53833962_peak_idx_1_type_test1_TP.png\n"
     ]
    },
    {
     "name": "stderr",
     "output_type": "stream",
     "text": [
      "Trying to unpickle estimator LabelEncoder from version 0.24.2 when using version 1.0.2. This might lead to breaking code or invalid results. Use at your own risk. For more info please refer to:\n",
      "https://scikit-learn.org/stable/modules/model_persistence.html#security-maintainability-limitations\n",
      "LightGBM binary classifier with TreeExplainer shap values output has changed to a list of ndarray\n"
     ]
    },
    {
     "name": "stdout",
     "output_type": "stream",
     "text": [
      "['/data4-4tb/kgreathoo/plots_result/53827103_peak_idx_1_type_test1_TP.png']\n",
      "✅ Image: /data4-4tb/kgreathoo/plots_result/53827103_peak_idx_1_type_test1_TP.png\n",
      "🖼️ Title: 53827103 Peak Index 1 Type Test1 Tp\n",
      "✅ Saved combined image: shap_outputs_1_10_new/53827103_peak_idx_1_type_test1_TP.png\n"
     ]
    },
    {
     "name": "stderr",
     "output_type": "stream",
     "text": [
      "Trying to unpickle estimator LabelEncoder from version 0.24.2 when using version 1.0.2. This might lead to breaking code or invalid results. Use at your own risk. For more info please refer to:\n",
      "https://scikit-learn.org/stable/modules/model_persistence.html#security-maintainability-limitations\n",
      "LightGBM binary classifier with TreeExplainer shap values output has changed to a list of ndarray\n"
     ]
    },
    {
     "name": "stdout",
     "output_type": "stream",
     "text": [
      "['/data4-4tb/kgreathoo/plots_result/53790928_peak_idx_2_type_test0_TP.png']\n",
      "✅ Image: /data4-4tb/kgreathoo/plots_result/53790928_peak_idx_2_type_test0_TP.png\n",
      "🖼️ Title: 53790928 Peak Index 2 Type Test0 Tp\n",
      "✅ Saved combined image: shap_outputs_1_10_new/53790928_peak_idx_2_type_test0_TP.png\n"
     ]
    },
    {
     "name": "stderr",
     "output_type": "stream",
     "text": [
      "Trying to unpickle estimator LabelEncoder from version 0.24.2 when using version 1.0.2. This might lead to breaking code or invalid results. Use at your own risk. For more info please refer to:\n",
      "https://scikit-learn.org/stable/modules/model_persistence.html#security-maintainability-limitations\n",
      "LightGBM binary classifier with TreeExplainer shap values output has changed to a list of ndarray\n"
     ]
    },
    {
     "name": "stdout",
     "output_type": "stream",
     "text": [
      "['/data4-4tb/kgreathoo/plots_result/53714114_peak_idx_1_type_test3_TP.png']\n",
      "✅ Image: /data4-4tb/kgreathoo/plots_result/53714114_peak_idx_1_type_test3_TP.png\n",
      "🖼️ Title: 53714114 Peak Index 1 Type Test3 Tp\n",
      "✅ Saved combined image: shap_outputs_1_10_new/53714114_peak_idx_1_type_test3_TP.png\n"
     ]
    },
    {
     "name": "stderr",
     "output_type": "stream",
     "text": [
      "Trying to unpickle estimator LabelEncoder from version 0.24.2 when using version 1.0.2. This might lead to breaking code or invalid results. Use at your own risk. For more info please refer to:\n",
      "https://scikit-learn.org/stable/modules/model_persistence.html#security-maintainability-limitations\n",
      "LightGBM binary classifier with TreeExplainer shap values output has changed to a list of ndarray\n"
     ]
    },
    {
     "name": "stdout",
     "output_type": "stream",
     "text": [
      "['/data4-4tb/kgreathoo/plots_result/53701955_peak_idx_6_type_test3_TP.png']\n",
      "✅ Image: /data4-4tb/kgreathoo/plots_result/53701955_peak_idx_6_type_test3_TP.png\n",
      "🖼️ Title: 53701955 Peak Index 6 Type Test3 Tp\n",
      "✅ Saved combined image: shap_outputs_1_10_new/53701955_peak_idx_6_type_test3_TP.png\n"
     ]
    },
    {
     "name": "stderr",
     "output_type": "stream",
     "text": [
      "Trying to unpickle estimator LabelEncoder from version 0.24.2 when using version 1.0.2. This might lead to breaking code or invalid results. Use at your own risk. For more info please refer to:\n",
      "https://scikit-learn.org/stable/modules/model_persistence.html#security-maintainability-limitations\n",
      "LightGBM binary classifier with TreeExplainer shap values output has changed to a list of ndarray\n"
     ]
    },
    {
     "name": "stdout",
     "output_type": "stream",
     "text": [
      "['/data4-4tb/kgreathoo/plots_result/53601117_peak_idx_1_type_test0_TP.png']\n",
      "✅ Image: /data4-4tb/kgreathoo/plots_result/53601117_peak_idx_1_type_test0_TP.png\n",
      "🖼️ Title: 53601117 Peak Index 1 Type Test0 Tp\n",
      "✅ Saved combined image: shap_outputs_1_10_new/53601117_peak_idx_1_type_test0_TP.png\n"
     ]
    },
    {
     "name": "stderr",
     "output_type": "stream",
     "text": [
      "Trying to unpickle estimator LabelEncoder from version 0.24.2 when using version 1.0.2. This might lead to breaking code or invalid results. Use at your own risk. For more info please refer to:\n",
      "https://scikit-learn.org/stable/modules/model_persistence.html#security-maintainability-limitations\n",
      "LightGBM binary classifier with TreeExplainer shap values output has changed to a list of ndarray\n"
     ]
    },
    {
     "name": "stdout",
     "output_type": "stream",
     "text": [
      "['/data4-4tb/kgreathoo/plots_result/53574742_peak_idx_1_type_test0_TP.png']\n",
      "✅ Image: /data4-4tb/kgreathoo/plots_result/53574742_peak_idx_1_type_test0_TP.png\n",
      "🖼️ Title: 53574742 Peak Index 1 Type Test0 Tp\n",
      "✅ Saved combined image: shap_outputs_1_10_new/53574742_peak_idx_1_type_test0_TP.png\n"
     ]
    },
    {
     "name": "stderr",
     "output_type": "stream",
     "text": [
      "Trying to unpickle estimator LabelEncoder from version 0.24.2 when using version 1.0.2. This might lead to breaking code or invalid results. Use at your own risk. For more info please refer to:\n",
      "https://scikit-learn.org/stable/modules/model_persistence.html#security-maintainability-limitations\n",
      "LightGBM binary classifier with TreeExplainer shap values output has changed to a list of ndarray\n"
     ]
    },
    {
     "name": "stdout",
     "output_type": "stream",
     "text": [
      "['/data4-4tb/kgreathoo/plots_result/53427016_peak_idx_1_type_test3_TP.png']\n",
      "✅ Image: /data4-4tb/kgreathoo/plots_result/53427016_peak_idx_1_type_test3_TP.png\n",
      "🖼️ Title: 53427016 Peak Index 1 Type Test3 Tp\n",
      "✅ Saved combined image: shap_outputs_1_10_new/53427016_peak_idx_1_type_test3_TP.png\n"
     ]
    },
    {
     "name": "stderr",
     "output_type": "stream",
     "text": [
      "Trying to unpickle estimator LabelEncoder from version 0.24.2 when using version 1.0.2. This might lead to breaking code or invalid results. Use at your own risk. For more info please refer to:\n",
      "https://scikit-learn.org/stable/modules/model_persistence.html#security-maintainability-limitations\n",
      "LightGBM binary classifier with TreeExplainer shap values output has changed to a list of ndarray\n"
     ]
    },
    {
     "name": "stdout",
     "output_type": "stream",
     "text": [
      "['/data4-4tb/kgreathoo/plots_result/53411890_peak_idx_9_type_test2_FN.png']\n",
      "✅ Image: /data4-4tb/kgreathoo/plots_result/53411890_peak_idx_9_type_test2_FN.png\n",
      "🖼️ Title: 53411890 Peak Index 9 Type Test2 Fn\n",
      "✅ Saved combined image: shap_outputs_1_10_new/53411890_peak_idx_9_type_test2_FN.png\n"
     ]
    },
    {
     "name": "stderr",
     "output_type": "stream",
     "text": [
      "Trying to unpickle estimator LabelEncoder from version 0.24.2 when using version 1.0.2. This might lead to breaking code or invalid results. Use at your own risk. For more info please refer to:\n",
      "https://scikit-learn.org/stable/modules/model_persistence.html#security-maintainability-limitations\n",
      "LightGBM binary classifier with TreeExplainer shap values output has changed to a list of ndarray\n"
     ]
    },
    {
     "name": "stdout",
     "output_type": "stream",
     "text": [
      "['/data4-4tb/kgreathoo/plots_result/53111503_peak_idx_1_type_test1_TP.png']\n",
      "✅ Image: /data4-4tb/kgreathoo/plots_result/53111503_peak_idx_1_type_test1_TP.png\n",
      "🖼️ Title: 53111503 Peak Index 1 Type Test1 Tp\n",
      "✅ Saved combined image: shap_outputs_1_10_new/53111503_peak_idx_1_type_test1_TP.png\n"
     ]
    },
    {
     "name": "stderr",
     "output_type": "stream",
     "text": [
      "Trying to unpickle estimator LabelEncoder from version 0.24.2 when using version 1.0.2. This might lead to breaking code or invalid results. Use at your own risk. For more info please refer to:\n",
      "https://scikit-learn.org/stable/modules/model_persistence.html#security-maintainability-limitations\n",
      "LightGBM binary classifier with TreeExplainer shap values output has changed to a list of ndarray\n"
     ]
    },
    {
     "name": "stdout",
     "output_type": "stream",
     "text": [
      "['/data4-4tb/kgreathoo/plots_result/53005034_peak_idx_1_type_test0_TP.png']\n",
      "✅ Image: /data4-4tb/kgreathoo/plots_result/53005034_peak_idx_1_type_test0_TP.png\n",
      "🖼️ Title: 53005034 Peak Index 1 Type Test0 Tp\n",
      "✅ Saved combined image: shap_outputs_1_10_new/53005034_peak_idx_1_type_test0_TP.png\n"
     ]
    },
    {
     "name": "stderr",
     "output_type": "stream",
     "text": [
      "Trying to unpickle estimator LabelEncoder from version 0.24.2 when using version 1.0.2. This might lead to breaking code or invalid results. Use at your own risk. For more info please refer to:\n",
      "https://scikit-learn.org/stable/modules/model_persistence.html#security-maintainability-limitations\n",
      "LightGBM binary classifier with TreeExplainer shap values output has changed to a list of ndarray\n"
     ]
    },
    {
     "name": "stdout",
     "output_type": "stream",
     "text": [
      "['/data4-4tb/kgreathoo/plots_result/52871248_peak_idx_2_type_test1_TP.png']\n",
      "✅ Image: /data4-4tb/kgreathoo/plots_result/52871248_peak_idx_2_type_test1_TP.png\n",
      "🖼️ Title: 52871248 Peak Index 2 Type Test1 Tp\n",
      "✅ Saved combined image: shap_outputs_1_10_new/52871248_peak_idx_2_type_test1_TP.png\n"
     ]
    },
    {
     "name": "stderr",
     "output_type": "stream",
     "text": [
      "Trying to unpickle estimator LabelEncoder from version 0.24.2 when using version 1.0.2. This might lead to breaking code or invalid results. Use at your own risk. For more info please refer to:\n",
      "https://scikit-learn.org/stable/modules/model_persistence.html#security-maintainability-limitations\n",
      "LightGBM binary classifier with TreeExplainer shap values output has changed to a list of ndarray\n"
     ]
    },
    {
     "name": "stdout",
     "output_type": "stream",
     "text": [
      "['/data4-4tb/kgreathoo/plots_result/52610487_peak_idx_1_type_test3_TP.png']\n",
      "✅ Image: /data4-4tb/kgreathoo/plots_result/52610487_peak_idx_1_type_test3_TP.png\n",
      "🖼️ Title: 52610487 Peak Index 1 Type Test3 Tp\n",
      "✅ Saved combined image: shap_outputs_1_10_new/52610487_peak_idx_1_type_test3_TP.png\n"
     ]
    },
    {
     "name": "stderr",
     "output_type": "stream",
     "text": [
      "Trying to unpickle estimator LabelEncoder from version 0.24.2 when using version 1.0.2. This might lead to breaking code or invalid results. Use at your own risk. For more info please refer to:\n",
      "https://scikit-learn.org/stable/modules/model_persistence.html#security-maintainability-limitations\n",
      "LightGBM binary classifier with TreeExplainer shap values output has changed to a list of ndarray\n"
     ]
    },
    {
     "name": "stdout",
     "output_type": "stream",
     "text": [
      "['/data4-4tb/kgreathoo/plots_result/52602113_peak_idx_1_type_test4_TP.png']\n",
      "✅ Image: /data4-4tb/kgreathoo/plots_result/52602113_peak_idx_1_type_test4_TP.png\n",
      "🖼️ Title: 52602113 Peak Index 1 Type Test4 Tp\n",
      "✅ Saved combined image: shap_outputs_1_10_new/52602113_peak_idx_1_type_test4_TP.png\n"
     ]
    },
    {
     "name": "stderr",
     "output_type": "stream",
     "text": [
      "Trying to unpickle estimator LabelEncoder from version 0.24.2 when using version 1.0.2. This might lead to breaking code or invalid results. Use at your own risk. For more info please refer to:\n",
      "https://scikit-learn.org/stable/modules/model_persistence.html#security-maintainability-limitations\n",
      "LightGBM binary classifier with TreeExplainer shap values output has changed to a list of ndarray\n"
     ]
    },
    {
     "name": "stdout",
     "output_type": "stream",
     "text": [
      "['/data4-4tb/kgreathoo/plots_result/52589797_peak_idx_6_type_test1_TP.png']\n",
      "✅ Image: /data4-4tb/kgreathoo/plots_result/52589797_peak_idx_6_type_test1_TP.png\n",
      "🖼️ Title: 52589797 Peak Index 6 Type Test1 Tp\n",
      "✅ Saved combined image: shap_outputs_1_10_new/52589797_peak_idx_6_type_test1_TP.png\n"
     ]
    },
    {
     "name": "stderr",
     "output_type": "stream",
     "text": [
      "Trying to unpickle estimator LabelEncoder from version 0.24.2 when using version 1.0.2. This might lead to breaking code or invalid results. Use at your own risk. For more info please refer to:\n",
      "https://scikit-learn.org/stable/modules/model_persistence.html#security-maintainability-limitations\n",
      "LightGBM binary classifier with TreeExplainer shap values output has changed to a list of ndarray\n"
     ]
    },
    {
     "name": "stdout",
     "output_type": "stream",
     "text": [
      "['/data4-4tb/kgreathoo/plots_result/52540642_peak_idx_1_type_test2_TP.png']\n",
      "✅ Image: /data4-4tb/kgreathoo/plots_result/52540642_peak_idx_1_type_test2_TP.png\n",
      "🖼️ Title: 52540642 Peak Index 1 Type Test2 Tp\n",
      "✅ Saved combined image: shap_outputs_1_10_new/52540642_peak_idx_1_type_test2_TP.png\n"
     ]
    },
    {
     "name": "stderr",
     "output_type": "stream",
     "text": [
      "Trying to unpickle estimator LabelEncoder from version 0.24.2 when using version 1.0.2. This might lead to breaking code or invalid results. Use at your own risk. For more info please refer to:\n",
      "https://scikit-learn.org/stable/modules/model_persistence.html#security-maintainability-limitations\n",
      "LightGBM binary classifier with TreeExplainer shap values output has changed to a list of ndarray\n"
     ]
    },
    {
     "name": "stdout",
     "output_type": "stream",
     "text": [
      "['/data4-4tb/kgreathoo/plots_result/51256496_peak_idx_1_type_test2_TP.png']\n",
      "✅ Image: /data4-4tb/kgreathoo/plots_result/51256496_peak_idx_1_type_test2_TP.png\n",
      "🖼️ Title: 51256496 Peak Index 1 Type Test2 Tp\n",
      "✅ Saved combined image: shap_outputs_1_10_new/51256496_peak_idx_1_type_test2_TP.png\n"
     ]
    },
    {
     "name": "stderr",
     "output_type": "stream",
     "text": [
      "Trying to unpickle estimator LabelEncoder from version 0.24.2 when using version 1.0.2. This might lead to breaking code or invalid results. Use at your own risk. For more info please refer to:\n",
      "https://scikit-learn.org/stable/modules/model_persistence.html#security-maintainability-limitations\n",
      "LightGBM binary classifier with TreeExplainer shap values output has changed to a list of ndarray\n"
     ]
    },
    {
     "name": "stdout",
     "output_type": "stream",
     "text": [
      "['/data4-4tb/kgreathoo/plots_result/50193940_peak_idx_1_type_test4_TP.png']\n",
      "✅ Image: /data4-4tb/kgreathoo/plots_result/50193940_peak_idx_1_type_test4_TP.png\n",
      "🖼️ Title: 50193940 Peak Index 1 Type Test4 Tp\n",
      "✅ Saved combined image: shap_outputs_1_10_new/50193940_peak_idx_1_type_test4_TP.png\n"
     ]
    },
    {
     "name": "stderr",
     "output_type": "stream",
     "text": [
      "Trying to unpickle estimator LabelEncoder from version 0.24.2 when using version 1.0.2. This might lead to breaking code or invalid results. Use at your own risk. For more info please refer to:\n",
      "https://scikit-learn.org/stable/modules/model_persistence.html#security-maintainability-limitations\n",
      "LightGBM binary classifier with TreeExplainer shap values output has changed to a list of ndarray\n"
     ]
    },
    {
     "name": "stdout",
     "output_type": "stream",
     "text": [
      "['/data4-4tb/kgreathoo/plots_result/49252872_peak_idx_1_type_test3_TP.png']\n",
      "✅ Image: /data4-4tb/kgreathoo/plots_result/49252872_peak_idx_1_type_test3_TP.png\n",
      "🖼️ Title: 49252872 Peak Index 1 Type Test3 Tp\n",
      "✅ Saved combined image: shap_outputs_1_10_new/49252872_peak_idx_1_type_test3_TP.png\n"
     ]
    },
    {
     "name": "stderr",
     "output_type": "stream",
     "text": [
      "Trying to unpickle estimator LabelEncoder from version 0.24.2 when using version 1.0.2. This might lead to breaking code or invalid results. Use at your own risk. For more info please refer to:\n",
      "https://scikit-learn.org/stable/modules/model_persistence.html#security-maintainability-limitations\n",
      "LightGBM binary classifier with TreeExplainer shap values output has changed to a list of ndarray\n"
     ]
    },
    {
     "name": "stdout",
     "output_type": "stream",
     "text": [
      "['/data4-4tb/kgreathoo/plots_result/49185484_peak_idx_1_type_test3_TP.png']\n",
      "✅ Image: /data4-4tb/kgreathoo/plots_result/49185484_peak_idx_1_type_test3_TP.png\n",
      "🖼️ Title: 49185484 Peak Index 1 Type Test3 Tp\n",
      "✅ Saved combined image: shap_outputs_1_10_new/49185484_peak_idx_1_type_test3_TP.png\n"
     ]
    },
    {
     "name": "stderr",
     "output_type": "stream",
     "text": [
      "Trying to unpickle estimator LabelEncoder from version 0.24.2 when using version 1.0.2. This might lead to breaking code or invalid results. Use at your own risk. For more info please refer to:\n",
      "https://scikit-learn.org/stable/modules/model_persistence.html#security-maintainability-limitations\n",
      "LightGBM binary classifier with TreeExplainer shap values output has changed to a list of ndarray\n"
     ]
    },
    {
     "name": "stdout",
     "output_type": "stream",
     "text": [
      "['/data4-4tb/kgreathoo/plots_result/49182781_peak_idx_1_type_test2_TP.png']\n",
      "✅ Image: /data4-4tb/kgreathoo/plots_result/49182781_peak_idx_1_type_test2_TP.png\n",
      "🖼️ Title: 49182781 Peak Index 1 Type Test2 Tp\n",
      "✅ Saved combined image: shap_outputs_1_10_new/49182781_peak_idx_1_type_test2_TP.png\n"
     ]
    },
    {
     "name": "stderr",
     "output_type": "stream",
     "text": [
      "Trying to unpickle estimator LabelEncoder from version 0.24.2 when using version 1.0.2. This might lead to breaking code or invalid results. Use at your own risk. For more info please refer to:\n",
      "https://scikit-learn.org/stable/modules/model_persistence.html#security-maintainability-limitations\n",
      "LightGBM binary classifier with TreeExplainer shap values output has changed to a list of ndarray\n"
     ]
    },
    {
     "name": "stdout",
     "output_type": "stream",
     "text": [
      "['/data4-4tb/kgreathoo/plots_result/49161849_peak_idx_1_type_test2_TP.png']\n",
      "✅ Image: /data4-4tb/kgreathoo/plots_result/49161849_peak_idx_1_type_test2_TP.png\n",
      "🖼️ Title: 49161849 Peak Index 1 Type Test2 Tp\n",
      "✅ Saved combined image: shap_outputs_1_10_new/49161849_peak_idx_1_type_test2_TP.png\n"
     ]
    },
    {
     "name": "stderr",
     "output_type": "stream",
     "text": [
      "Trying to unpickle estimator LabelEncoder from version 0.24.2 when using version 1.0.2. This might lead to breaking code or invalid results. Use at your own risk. For more info please refer to:\n",
      "https://scikit-learn.org/stable/modules/model_persistence.html#security-maintainability-limitations\n",
      "LightGBM binary classifier with TreeExplainer shap values output has changed to a list of ndarray\n"
     ]
    },
    {
     "name": "stdout",
     "output_type": "stream",
     "text": [
      "['/data4-4tb/kgreathoo/plots_result/49147328_peak_idx_1_type_test2_TP.png']\n",
      "✅ Image: /data4-4tb/kgreathoo/plots_result/49147328_peak_idx_1_type_test2_TP.png\n",
      "🖼️ Title: 49147328 Peak Index 1 Type Test2 Tp\n",
      "✅ Saved combined image: shap_outputs_1_10_new/49147328_peak_idx_1_type_test2_TP.png\n"
     ]
    },
    {
     "name": "stderr",
     "output_type": "stream",
     "text": [
      "Trying to unpickle estimator LabelEncoder from version 0.24.2 when using version 1.0.2. This might lead to breaking code or invalid results. Use at your own risk. For more info please refer to:\n",
      "https://scikit-learn.org/stable/modules/model_persistence.html#security-maintainability-limitations\n",
      "LightGBM binary classifier with TreeExplainer shap values output has changed to a list of ndarray\n"
     ]
    },
    {
     "name": "stdout",
     "output_type": "stream",
     "text": [
      "['/data4-4tb/kgreathoo/plots_result/49114962_peak_idx_10_type_test0_TP.png']\n",
      "✅ Image: /data4-4tb/kgreathoo/plots_result/49114962_peak_idx_10_type_test0_TP.png\n",
      "🖼️ Title: 49114962 Peak Index 10 Type Test0 Tp\n",
      "✅ Saved combined image: shap_outputs_1_10_new/49114962_peak_idx_10_type_test0_TP.png\n"
     ]
    },
    {
     "name": "stderr",
     "output_type": "stream",
     "text": [
      "Trying to unpickle estimator LabelEncoder from version 0.24.2 when using version 1.0.2. This might lead to breaking code or invalid results. Use at your own risk. For more info please refer to:\n",
      "https://scikit-learn.org/stable/modules/model_persistence.html#security-maintainability-limitations\n",
      "LightGBM binary classifier with TreeExplainer shap values output has changed to a list of ndarray\n"
     ]
    },
    {
     "name": "stdout",
     "output_type": "stream",
     "text": [
      "['/data4-4tb/kgreathoo/plots_result/48125360_peak_idx_1_type_test1_TP.png']\n",
      "✅ Image: /data4-4tb/kgreathoo/plots_result/48125360_peak_idx_1_type_test1_TP.png\n",
      "🖼️ Title: 48125360 Peak Index 1 Type Test1 Tp\n",
      "✅ Saved combined image: shap_outputs_1_10_new/48125360_peak_idx_1_type_test1_TP.png\n"
     ]
    },
    {
     "name": "stderr",
     "output_type": "stream",
     "text": [
      "Trying to unpickle estimator LabelEncoder from version 0.24.2 when using version 1.0.2. This might lead to breaking code or invalid results. Use at your own risk. For more info please refer to:\n",
      "https://scikit-learn.org/stable/modules/model_persistence.html#security-maintainability-limitations\n",
      "LightGBM binary classifier with TreeExplainer shap values output has changed to a list of ndarray\n"
     ]
    },
    {
     "name": "stdout",
     "output_type": "stream",
     "text": [
      "['/data4-4tb/kgreathoo/plots_result/47201762_peak_idx_10_type_test4_TP.png']\n",
      "✅ Image: /data4-4tb/kgreathoo/plots_result/47201762_peak_idx_10_type_test4_TP.png\n",
      "🖼️ Title: 47201762 Peak Index 10 Type Test4 Tp\n",
      "✅ Saved combined image: shap_outputs_1_10_new/47201762_peak_idx_10_type_test4_TP.png\n"
     ]
    },
    {
     "name": "stderr",
     "output_type": "stream",
     "text": [
      "Trying to unpickle estimator LabelEncoder from version 0.24.2 when using version 1.0.2. This might lead to breaking code or invalid results. Use at your own risk. For more info please refer to:\n",
      "https://scikit-learn.org/stable/modules/model_persistence.html#security-maintainability-limitations\n",
      "LightGBM binary classifier with TreeExplainer shap values output has changed to a list of ndarray\n"
     ]
    },
    {
     "name": "stdout",
     "output_type": "stream",
     "text": [
      "['/data4-4tb/kgreathoo/plots_result/47158939_peak_idx_2_type_test2_TP.png']\n",
      "✅ Image: /data4-4tb/kgreathoo/plots_result/47158939_peak_idx_2_type_test2_TP.png\n",
      "🖼️ Title: 47158939 Peak Index 2 Type Test2 Tp\n",
      "✅ Saved combined image: shap_outputs_1_10_new/47158939_peak_idx_2_type_test2_TP.png\n"
     ]
    },
    {
     "name": "stderr",
     "output_type": "stream",
     "text": [
      "Trying to unpickle estimator LabelEncoder from version 0.24.2 when using version 1.0.2. This might lead to breaking code or invalid results. Use at your own risk. For more info please refer to:\n",
      "https://scikit-learn.org/stable/modules/model_persistence.html#security-maintainability-limitations\n",
      "LightGBM binary classifier with TreeExplainer shap values output has changed to a list of ndarray\n"
     ]
    },
    {
     "name": "stdout",
     "output_type": "stream",
     "text": [
      "['/data4-4tb/kgreathoo/plots_result/46025187_peak_idx_1_type_test2_TP.png']\n",
      "✅ Image: /data4-4tb/kgreathoo/plots_result/46025187_peak_idx_1_type_test2_TP.png\n",
      "🖼️ Title: 46025187 Peak Index 1 Type Test2 Tp\n",
      "✅ Saved combined image: shap_outputs_1_10_new/46025187_peak_idx_1_type_test2_TP.png\n"
     ]
    },
    {
     "name": "stderr",
     "output_type": "stream",
     "text": [
      "Trying to unpickle estimator LabelEncoder from version 0.24.2 when using version 1.0.2. This might lead to breaking code or invalid results. Use at your own risk. For more info please refer to:\n",
      "https://scikit-learn.org/stable/modules/model_persistence.html#security-maintainability-limitations\n",
      "LightGBM binary classifier with TreeExplainer shap values output has changed to a list of ndarray\n"
     ]
    },
    {
     "name": "stdout",
     "output_type": "stream",
     "text": [
      "['/data4-4tb/kgreathoo/plots_result/45084446_peak_idx_2_type_test0_TP.png']\n",
      "✅ Image: /data4-4tb/kgreathoo/plots_result/45084446_peak_idx_2_type_test0_TP.png\n",
      "🖼️ Title: 45084446 Peak Index 2 Type Test0 Tp\n",
      "✅ Saved combined image: shap_outputs_1_10_new/45084446_peak_idx_2_type_test0_TP.png\n"
     ]
    },
    {
     "name": "stderr",
     "output_type": "stream",
     "text": [
      "Trying to unpickle estimator LabelEncoder from version 0.24.2 when using version 1.0.2. This might lead to breaking code or invalid results. Use at your own risk. For more info please refer to:\n",
      "https://scikit-learn.org/stable/modules/model_persistence.html#security-maintainability-limitations\n",
      "LightGBM binary classifier with TreeExplainer shap values output has changed to a list of ndarray\n"
     ]
    },
    {
     "name": "stdout",
     "output_type": "stream",
     "text": [
      "['/data4-4tb/kgreathoo/plots_result/44012014_peak_idx_1_type_test2_TP.png']\n",
      "✅ Image: /data4-4tb/kgreathoo/plots_result/44012014_peak_idx_1_type_test2_TP.png\n",
      "🖼️ Title: 44012014 Peak Index 1 Type Test2 Tp\n",
      "✅ Saved combined image: shap_outputs_1_10_new/44012014_peak_idx_1_type_test2_TP.png\n"
     ]
    },
    {
     "name": "stderr",
     "output_type": "stream",
     "text": [
      "Trying to unpickle estimator LabelEncoder from version 0.24.2 when using version 1.0.2. This might lead to breaking code or invalid results. Use at your own risk. For more info please refer to:\n",
      "https://scikit-learn.org/stable/modules/model_persistence.html#security-maintainability-limitations\n",
      "LightGBM binary classifier with TreeExplainer shap values output has changed to a list of ndarray\n"
     ]
    },
    {
     "name": "stdout",
     "output_type": "stream",
     "text": [
      "['/data4-4tb/kgreathoo/plots_result/43153731_peak_idx_4_type_test0_TP.png']\n",
      "✅ Image: /data4-4tb/kgreathoo/plots_result/43153731_peak_idx_4_type_test0_TP.png\n",
      "🖼️ Title: 43153731 Peak Index 4 Type Test0 Tp\n",
      "✅ Saved combined image: shap_outputs_1_10_new/43153731_peak_idx_4_type_test0_TP.png\n"
     ]
    },
    {
     "name": "stderr",
     "output_type": "stream",
     "text": [
      "Trying to unpickle estimator LabelEncoder from version 0.24.2 when using version 1.0.2. This might lead to breaking code or invalid results. Use at your own risk. For more info please refer to:\n",
      "https://scikit-learn.org/stable/modules/model_persistence.html#security-maintainability-limitations\n",
      "LightGBM binary classifier with TreeExplainer shap values output has changed to a list of ndarray\n"
     ]
    },
    {
     "name": "stdout",
     "output_type": "stream",
     "text": [
      "['/data4-4tb/kgreathoo/plots_result/43140804_peak_idx_2_type_test2_TP.png']\n",
      "✅ Image: /data4-4tb/kgreathoo/plots_result/43140804_peak_idx_2_type_test2_TP.png\n",
      "🖼️ Title: 43140804 Peak Index 2 Type Test2 Tp\n",
      "✅ Saved combined image: shap_outputs_1_10_new/43140804_peak_idx_2_type_test2_TP.png\n"
     ]
    },
    {
     "name": "stderr",
     "output_type": "stream",
     "text": [
      "Trying to unpickle estimator LabelEncoder from version 0.24.2 when using version 1.0.2. This might lead to breaking code or invalid results. Use at your own risk. For more info please refer to:\n",
      "https://scikit-learn.org/stable/modules/model_persistence.html#security-maintainability-limitations\n",
      "LightGBM binary classifier with TreeExplainer shap values output has changed to a list of ndarray\n"
     ]
    },
    {
     "name": "stdout",
     "output_type": "stream",
     "text": [
      "['/data4-4tb/kgreathoo/plots_result/43140800_peak_idx_1_type_test2_TP.png']\n",
      "✅ Image: /data4-4tb/kgreathoo/plots_result/43140800_peak_idx_1_type_test2_TP.png\n",
      "🖼️ Title: 43140800 Peak Index 1 Type Test2 Tp\n",
      "✅ Saved combined image: shap_outputs_1_10_new/43140800_peak_idx_1_type_test2_TP.png\n"
     ]
    },
    {
     "name": "stderr",
     "output_type": "stream",
     "text": [
      "Trying to unpickle estimator LabelEncoder from version 0.24.2 when using version 1.0.2. This might lead to breaking code or invalid results. Use at your own risk. For more info please refer to:\n",
      "https://scikit-learn.org/stable/modules/model_persistence.html#security-maintainability-limitations\n",
      "LightGBM binary classifier with TreeExplainer shap values output has changed to a list of ndarray\n"
     ]
    },
    {
     "name": "stdout",
     "output_type": "stream",
     "text": [
      "['/data4-4tb/kgreathoo/plots_result/42026452_peak_idx_1_type_test3_TP.png']\n",
      "✅ Image: /data4-4tb/kgreathoo/plots_result/42026452_peak_idx_1_type_test3_TP.png\n",
      "🖼️ Title: 42026452 Peak Index 1 Type Test3 Tp\n",
      "✅ Saved combined image: shap_outputs_1_10_new/42026452_peak_idx_1_type_test3_TP.png\n"
     ]
    },
    {
     "name": "stderr",
     "output_type": "stream",
     "text": [
      "Trying to unpickle estimator LabelEncoder from version 0.24.2 when using version 1.0.2. This might lead to breaking code or invalid results. Use at your own risk. For more info please refer to:\n",
      "https://scikit-learn.org/stable/modules/model_persistence.html#security-maintainability-limitations\n",
      "LightGBM binary classifier with TreeExplainer shap values output has changed to a list of ndarray\n"
     ]
    },
    {
     "name": "stdout",
     "output_type": "stream",
     "text": [
      "['/data4-4tb/kgreathoo/plots_result/42014756_peak_idx_1_type_test1_TP.png']\n",
      "✅ Image: /data4-4tb/kgreathoo/plots_result/42014756_peak_idx_1_type_test1_TP.png\n",
      "🖼️ Title: 42014756 Peak Index 1 Type Test1 Tp\n",
      "✅ Saved combined image: shap_outputs_1_10_new/42014756_peak_idx_1_type_test1_TP.png\n"
     ]
    },
    {
     "name": "stderr",
     "output_type": "stream",
     "text": [
      "Trying to unpickle estimator LabelEncoder from version 0.24.2 when using version 1.0.2. This might lead to breaking code or invalid results. Use at your own risk. For more info please refer to:\n",
      "https://scikit-learn.org/stable/modules/model_persistence.html#security-maintainability-limitations\n",
      "LightGBM binary classifier with TreeExplainer shap values output has changed to a list of ndarray\n"
     ]
    },
    {
     "name": "stdout",
     "output_type": "stream",
     "text": [
      "['/data4-4tb/kgreathoo/plots_result/42012079_peak_idx_1_type_test1_TP.png']\n",
      "✅ Image: /data4-4tb/kgreathoo/plots_result/42012079_peak_idx_1_type_test1_TP.png\n",
      "🖼️ Title: 42012079 Peak Index 1 Type Test1 Tp\n",
      "✅ Saved combined image: shap_outputs_1_10_new/42012079_peak_idx_1_type_test1_TP.png\n"
     ]
    },
    {
     "name": "stderr",
     "output_type": "stream",
     "text": [
      "Trying to unpickle estimator LabelEncoder from version 0.24.2 when using version 1.0.2. This might lead to breaking code or invalid results. Use at your own risk. For more info please refer to:\n",
      "https://scikit-learn.org/stable/modules/model_persistence.html#security-maintainability-limitations\n",
      "LightGBM binary classifier with TreeExplainer shap values output has changed to a list of ndarray\n"
     ]
    },
    {
     "name": "stdout",
     "output_type": "stream",
     "text": [
      "['/data4-4tb/kgreathoo/plots_result/41155224_peak_idx_2_type_test1_TP.png']\n",
      "✅ Image: /data4-4tb/kgreathoo/plots_result/41155224_peak_idx_2_type_test1_TP.png\n",
      "🖼️ Title: 41155224 Peak Index 2 Type Test1 Tp\n",
      "✅ Saved combined image: shap_outputs_1_10_new/41155224_peak_idx_2_type_test1_TP.png\n"
     ]
    },
    {
     "name": "stderr",
     "output_type": "stream",
     "text": [
      "Trying to unpickle estimator LabelEncoder from version 0.24.2 when using version 1.0.2. This might lead to breaking code or invalid results. Use at your own risk. For more info please refer to:\n",
      "https://scikit-learn.org/stable/modules/model_persistence.html#security-maintainability-limitations\n",
      "LightGBM binary classifier with TreeExplainer shap values output has changed to a list of ndarray\n"
     ]
    },
    {
     "name": "stdout",
     "output_type": "stream",
     "text": [
      "['/data4-4tb/kgreathoo/plots_result/41143876_peak_idx_1_type_test3_TP.png']\n",
      "✅ Image: /data4-4tb/kgreathoo/plots_result/41143876_peak_idx_1_type_test3_TP.png\n",
      "🖼️ Title: 41143876 Peak Index 1 Type Test3 Tp\n",
      "✅ Saved combined image: shap_outputs_1_10_new/41143876_peak_idx_1_type_test3_TP.png\n"
     ]
    },
    {
     "name": "stderr",
     "output_type": "stream",
     "text": [
      "Trying to unpickle estimator LabelEncoder from version 0.24.2 when using version 1.0.2. This might lead to breaking code or invalid results. Use at your own risk. For more info please refer to:\n",
      "https://scikit-learn.org/stable/modules/model_persistence.html#security-maintainability-limitations\n",
      "LightGBM binary classifier with TreeExplainer shap values output has changed to a list of ndarray\n"
     ]
    },
    {
     "name": "stdout",
     "output_type": "stream",
     "text": [
      "['/data4-4tb/kgreathoo/plots_result/41009872_peak_idx_1_type_test0_TP.png']\n",
      "✅ Image: /data4-4tb/kgreathoo/plots_result/41009872_peak_idx_1_type_test0_TP.png\n",
      "🖼️ Title: 41009872 Peak Index 1 Type Test0 Tp\n",
      "✅ Saved combined image: shap_outputs_1_10_new/41009872_peak_idx_1_type_test0_TP.png\n"
     ]
    },
    {
     "name": "stderr",
     "output_type": "stream",
     "text": [
      "Trying to unpickle estimator LabelEncoder from version 0.24.2 when using version 1.0.2. This might lead to breaking code or invalid results. Use at your own risk. For more info please refer to:\n",
      "https://scikit-learn.org/stable/modules/model_persistence.html#security-maintainability-limitations\n",
      "LightGBM binary classifier with TreeExplainer shap values output has changed to a list of ndarray\n"
     ]
    },
    {
     "name": "stdout",
     "output_type": "stream",
     "text": [
      "['/data4-4tb/kgreathoo/plots_result/41002261_peak_idx_1_type_test1_TP.png']\n",
      "✅ Image: /data4-4tb/kgreathoo/plots_result/41002261_peak_idx_1_type_test1_TP.png\n",
      "🖼️ Title: 41002261 Peak Index 1 Type Test1 Tp\n",
      "✅ Saved combined image: shap_outputs_1_10_new/41002261_peak_idx_1_type_test1_TP.png\n"
     ]
    },
    {
     "name": "stderr",
     "output_type": "stream",
     "text": [
      "Trying to unpickle estimator LabelEncoder from version 0.24.2 when using version 1.0.2. This might lead to breaking code or invalid results. Use at your own risk. For more info please refer to:\n",
      "https://scikit-learn.org/stable/modules/model_persistence.html#security-maintainability-limitations\n",
      "LightGBM binary classifier with TreeExplainer shap values output has changed to a list of ndarray\n"
     ]
    },
    {
     "name": "stdout",
     "output_type": "stream",
     "text": [
      "['/data4-4tb/kgreathoo/plots_result/40158109_peak_idx_6_type_test1_TP.png']\n",
      "✅ Image: /data4-4tb/kgreathoo/plots_result/40158109_peak_idx_6_type_test1_TP.png\n",
      "🖼️ Title: 40158109 Peak Index 6 Type Test1 Tp\n",
      "✅ Saved combined image: shap_outputs_1_10_new/40158109_peak_idx_6_type_test1_TP.png\n"
     ]
    },
    {
     "name": "stderr",
     "output_type": "stream",
     "text": [
      "Trying to unpickle estimator LabelEncoder from version 0.24.2 when using version 1.0.2. This might lead to breaking code or invalid results. Use at your own risk. For more info please refer to:\n",
      "https://scikit-learn.org/stable/modules/model_persistence.html#security-maintainability-limitations\n",
      "LightGBM binary classifier with TreeExplainer shap values output has changed to a list of ndarray\n"
     ]
    },
    {
     "name": "stdout",
     "output_type": "stream",
     "text": [
      "['/data4-4tb/kgreathoo/plots_result/40018977_peak_idx_1_type_test3_TP.png']\n",
      "✅ Image: /data4-4tb/kgreathoo/plots_result/40018977_peak_idx_1_type_test3_TP.png\n",
      "🖼️ Title: 40018977 Peak Index 1 Type Test3 Tp\n",
      "✅ Saved combined image: shap_outputs_1_10_new/40018977_peak_idx_1_type_test3_TP.png\n"
     ]
    },
    {
     "name": "stderr",
     "output_type": "stream",
     "text": [
      "Trying to unpickle estimator LabelEncoder from version 0.24.2 when using version 1.0.2. This might lead to breaking code or invalid results. Use at your own risk. For more info please refer to:\n",
      "https://scikit-learn.org/stable/modules/model_persistence.html#security-maintainability-limitations\n",
      "LightGBM binary classifier with TreeExplainer shap values output has changed to a list of ndarray\n"
     ]
    },
    {
     "name": "stdout",
     "output_type": "stream",
     "text": [
      "['/data4-4tb/kgreathoo/plots_result/39184244_peak_idx_1_type_test1_TP.png']\n",
      "✅ Image: /data4-4tb/kgreathoo/plots_result/39184244_peak_idx_1_type_test1_TP.png\n",
      "🖼️ Title: 39184244 Peak Index 1 Type Test1 Tp\n",
      "✅ Saved combined image: shap_outputs_1_10_new/39184244_peak_idx_1_type_test1_TP.png\n"
     ]
    },
    {
     "name": "stderr",
     "output_type": "stream",
     "text": [
      "Trying to unpickle estimator LabelEncoder from version 0.24.2 when using version 1.0.2. This might lead to breaking code or invalid results. Use at your own risk. For more info please refer to:\n",
      "https://scikit-learn.org/stable/modules/model_persistence.html#security-maintainability-limitations\n",
      "LightGBM binary classifier with TreeExplainer shap values output has changed to a list of ndarray\n"
     ]
    },
    {
     "name": "stdout",
     "output_type": "stream",
     "text": [
      "['/data4-4tb/kgreathoo/plots_result/39108404_peak_idx_9_type_test4_TP.png']\n",
      "✅ Image: /data4-4tb/kgreathoo/plots_result/39108404_peak_idx_9_type_test4_TP.png\n",
      "🖼️ Title: 39108404 Peak Index 9 Type Test4 Tp\n",
      "✅ Saved combined image: shap_outputs_1_10_new/39108404_peak_idx_9_type_test4_TP.png\n"
     ]
    },
    {
     "name": "stderr",
     "output_type": "stream",
     "text": [
      "Trying to unpickle estimator LabelEncoder from version 0.24.2 when using version 1.0.2. This might lead to breaking code or invalid results. Use at your own risk. For more info please refer to:\n",
      "https://scikit-learn.org/stable/modules/model_persistence.html#security-maintainability-limitations\n",
      "LightGBM binary classifier with TreeExplainer shap values output has changed to a list of ndarray\n"
     ]
    },
    {
     "name": "stdout",
     "output_type": "stream",
     "text": [
      "['/data4-4tb/kgreathoo/plots_result/39056779_peak_idx_1_type_test3_TP.png']\n",
      "✅ Image: /data4-4tb/kgreathoo/plots_result/39056779_peak_idx_1_type_test3_TP.png\n",
      "🖼️ Title: 39056779 Peak Index 1 Type Test3 Tp\n",
      "✅ Saved combined image: shap_outputs_1_10_new/39056779_peak_idx_1_type_test3_TP.png\n"
     ]
    },
    {
     "name": "stderr",
     "output_type": "stream",
     "text": [
      "Trying to unpickle estimator LabelEncoder from version 0.24.2 when using version 1.0.2. This might lead to breaking code or invalid results. Use at your own risk. For more info please refer to:\n",
      "https://scikit-learn.org/stable/modules/model_persistence.html#security-maintainability-limitations\n",
      "LightGBM binary classifier with TreeExplainer shap values output has changed to a list of ndarray\n"
     ]
    },
    {
     "name": "stdout",
     "output_type": "stream",
     "text": [
      "['/data4-4tb/kgreathoo/plots_result/38136681_peak_idx_1_type_test4_TP.png']\n",
      "✅ Image: /data4-4tb/kgreathoo/plots_result/38136681_peak_idx_1_type_test4_TP.png\n",
      "🖼️ Title: 38136681 Peak Index 1 Type Test4 Tp\n",
      "✅ Saved combined image: shap_outputs_1_10_new/38136681_peak_idx_1_type_test4_TP.png\n"
     ]
    },
    {
     "name": "stderr",
     "output_type": "stream",
     "text": [
      "Trying to unpickle estimator LabelEncoder from version 0.24.2 when using version 1.0.2. This might lead to breaking code or invalid results. Use at your own risk. For more info please refer to:\n",
      "https://scikit-learn.org/stable/modules/model_persistence.html#security-maintainability-limitations\n",
      "LightGBM binary classifier with TreeExplainer shap values output has changed to a list of ndarray\n"
     ]
    },
    {
     "name": "stdout",
     "output_type": "stream",
     "text": [
      "['/data4-4tb/kgreathoo/plots_result/54023756_peak_idx_2_type_test1_TP.png']\n",
      "✅ Image: /data4-4tb/kgreathoo/plots_result/54023756_peak_idx_2_type_test1_TP.png\n",
      "🖼️ Title: 54023756 Peak Index 2 Type Test1 Tp\n",
      "✅ Saved combined image: shap_outputs_1_10_new/54023756_peak_idx_2_type_test1_TP.png\n"
     ]
    },
    {
     "name": "stderr",
     "output_type": "stream",
     "text": [
      "Trying to unpickle estimator LabelEncoder from version 0.24.2 when using version 1.0.2. This might lead to breaking code or invalid results. Use at your own risk. For more info please refer to:\n",
      "https://scikit-learn.org/stable/modules/model_persistence.html#security-maintainability-limitations\n",
      "LightGBM binary classifier with TreeExplainer shap values output has changed to a list of ndarray\n"
     ]
    },
    {
     "name": "stdout",
     "output_type": "stream",
     "text": [
      "['/data4-4tb/kgreathoo/plots_result/54022321_peak_idx_1_type_test1_TP.png']\n",
      "✅ Image: /data4-4tb/kgreathoo/plots_result/54022321_peak_idx_1_type_test1_TP.png\n",
      "🖼️ Title: 54022321 Peak Index 1 Type Test1 Tp\n",
      "✅ Saved combined image: shap_outputs_1_10_new/54022321_peak_idx_1_type_test1_TP.png\n"
     ]
    },
    {
     "name": "stderr",
     "output_type": "stream",
     "text": [
      "Trying to unpickle estimator LabelEncoder from version 0.24.2 when using version 1.0.2. This might lead to breaking code or invalid results. Use at your own risk. For more info please refer to:\n",
      "https://scikit-learn.org/stable/modules/model_persistence.html#security-maintainability-limitations\n",
      "LightGBM binary classifier with TreeExplainer shap values output has changed to a list of ndarray\n"
     ]
    },
    {
     "name": "stdout",
     "output_type": "stream",
     "text": [
      "['/data4-4tb/kgreathoo/plots_result/54020273_peak_idx_1_type_test0_TP.png']\n",
      "✅ Image: /data4-4tb/kgreathoo/plots_result/54020273_peak_idx_1_type_test0_TP.png\n",
      "🖼️ Title: 54020273 Peak Index 1 Type Test0 Tp\n",
      "✅ Saved combined image: shap_outputs_1_10_new/54020273_peak_idx_1_type_test0_TP.png\n"
     ]
    },
    {
     "name": "stderr",
     "output_type": "stream",
     "text": [
      "Trying to unpickle estimator LabelEncoder from version 0.24.2 when using version 1.0.2. This might lead to breaking code or invalid results. Use at your own risk. For more info please refer to:\n",
      "https://scikit-learn.org/stable/modules/model_persistence.html#security-maintainability-limitations\n",
      "LightGBM binary classifier with TreeExplainer shap values output has changed to a list of ndarray\n"
     ]
    },
    {
     "name": "stdout",
     "output_type": "stream",
     "text": [
      "['/data4-4tb/kgreathoo/plots_result/53915135_peak_idx_1_type_test1_TP.png']\n",
      "✅ Image: /data4-4tb/kgreathoo/plots_result/53915135_peak_idx_1_type_test1_TP.png\n",
      "🖼️ Title: 53915135 Peak Index 1 Type Test1 Tp\n",
      "✅ Saved combined image: shap_outputs_1_10_new/53915135_peak_idx_1_type_test1_TP.png\n"
     ]
    },
    {
     "name": "stderr",
     "output_type": "stream",
     "text": [
      "Trying to unpickle estimator LabelEncoder from version 0.24.2 when using version 1.0.2. This might lead to breaking code or invalid results. Use at your own risk. For more info please refer to:\n",
      "https://scikit-learn.org/stable/modules/model_persistence.html#security-maintainability-limitations\n",
      "LightGBM binary classifier with TreeExplainer shap values output has changed to a list of ndarray\n"
     ]
    },
    {
     "name": "stdout",
     "output_type": "stream",
     "text": [
      "['/data4-4tb/kgreathoo/plots_result/53901130_peak_idx_1_type_test2_TP.png']\n",
      "✅ Image: /data4-4tb/kgreathoo/plots_result/53901130_peak_idx_1_type_test2_TP.png\n",
      "🖼️ Title: 53901130 Peak Index 1 Type Test2 Tp\n",
      "✅ Saved combined image: shap_outputs_1_10_new/53901130_peak_idx_1_type_test2_TP.png\n"
     ]
    },
    {
     "name": "stderr",
     "output_type": "stream",
     "text": [
      "Trying to unpickle estimator LabelEncoder from version 0.24.2 when using version 1.0.2. This might lead to breaking code or invalid results. Use at your own risk. For more info please refer to:\n",
      "https://scikit-learn.org/stable/modules/model_persistence.html#security-maintainability-limitations\n",
      "LightGBM binary classifier with TreeExplainer shap values output has changed to a list of ndarray\n"
     ]
    },
    {
     "name": "stdout",
     "output_type": "stream",
     "text": [
      "['/data4-4tb/kgreathoo/plots_result/53872843_peak_idx_2_type_test4_TP.png']\n",
      "✅ Image: /data4-4tb/kgreathoo/plots_result/53872843_peak_idx_2_type_test4_TP.png\n",
      "🖼️ Title: 53872843 Peak Index 2 Type Test4 Tp\n",
      "✅ Saved combined image: shap_outputs_1_10_new/53872843_peak_idx_2_type_test4_TP.png\n"
     ]
    },
    {
     "name": "stderr",
     "output_type": "stream",
     "text": [
      "Trying to unpickle estimator LabelEncoder from version 0.24.2 when using version 1.0.2. This might lead to breaking code or invalid results. Use at your own risk. For more info please refer to:\n",
      "https://scikit-learn.org/stable/modules/model_persistence.html#security-maintainability-limitations\n",
      "LightGBM binary classifier with TreeExplainer shap values output has changed to a list of ndarray\n"
     ]
    },
    {
     "name": "stdout",
     "output_type": "stream",
     "text": [
      "['/data4-4tb/kgreathoo/plots_result/53825090_peak_idx_1_type_test0_FN.png']\n",
      "✅ Image: /data4-4tb/kgreathoo/plots_result/53825090_peak_idx_1_type_test0_FN.png\n",
      "🖼️ Title: 53825090 Peak Index 1 Type Test0 Fn\n",
      "✅ Saved combined image: shap_outputs_1_10_new/53825090_peak_idx_1_type_test0_FN.png\n"
     ]
    },
    {
     "name": "stderr",
     "output_type": "stream",
     "text": [
      "Trying to unpickle estimator LabelEncoder from version 0.24.2 when using version 1.0.2. This might lead to breaking code or invalid results. Use at your own risk. For more info please refer to:\n",
      "https://scikit-learn.org/stable/modules/model_persistence.html#security-maintainability-limitations\n",
      "LightGBM binary classifier with TreeExplainer shap values output has changed to a list of ndarray\n"
     ]
    },
    {
     "name": "stdout",
     "output_type": "stream",
     "text": [
      "['/data4-4tb/kgreathoo/plots_result/53741478_peak_idx_1_type_test0_TP.png']\n",
      "✅ Image: /data4-4tb/kgreathoo/plots_result/53741478_peak_idx_1_type_test0_TP.png\n",
      "🖼️ Title: 53741478 Peak Index 1 Type Test0 Tp\n",
      "✅ Saved combined image: shap_outputs_1_10_new/53741478_peak_idx_1_type_test0_TP.png\n"
     ]
    },
    {
     "name": "stderr",
     "output_type": "stream",
     "text": [
      "Trying to unpickle estimator LabelEncoder from version 0.24.2 when using version 1.0.2. This might lead to breaking code or invalid results. Use at your own risk. For more info please refer to:\n",
      "https://scikit-learn.org/stable/modules/model_persistence.html#security-maintainability-limitations\n",
      "LightGBM binary classifier with TreeExplainer shap values output has changed to a list of ndarray\n"
     ]
    },
    {
     "name": "stdout",
     "output_type": "stream",
     "text": [
      "['/data4-4tb/kgreathoo/plots_result/53610615_peak_idx_1_type_test2_TP.png']\n",
      "✅ Image: /data4-4tb/kgreathoo/plots_result/53610615_peak_idx_1_type_test2_TP.png\n",
      "🖼️ Title: 53610615 Peak Index 1 Type Test2 Tp\n",
      "✅ Saved combined image: shap_outputs_1_10_new/53610615_peak_idx_1_type_test2_TP.png\n"
     ]
    },
    {
     "name": "stderr",
     "output_type": "stream",
     "text": [
      "Trying to unpickle estimator LabelEncoder from version 0.24.2 when using version 1.0.2. This might lead to breaking code or invalid results. Use at your own risk. For more info please refer to:\n",
      "https://scikit-learn.org/stable/modules/model_persistence.html#security-maintainability-limitations\n",
      "LightGBM binary classifier with TreeExplainer shap values output has changed to a list of ndarray\n"
     ]
    },
    {
     "name": "stdout",
     "output_type": "stream",
     "text": [
      "['/data4-4tb/kgreathoo/plots_result/53399719_peak_idx_2_type_test4_TP.png']\n",
      "✅ Image: /data4-4tb/kgreathoo/plots_result/53399719_peak_idx_2_type_test4_TP.png\n",
      "🖼️ Title: 53399719 Peak Index 2 Type Test4 Tp\n",
      "✅ Saved combined image: shap_outputs_1_10_new/53399719_peak_idx_2_type_test4_TP.png\n"
     ]
    },
    {
     "name": "stderr",
     "output_type": "stream",
     "text": [
      "Trying to unpickle estimator LabelEncoder from version 0.24.2 when using version 1.0.2. This might lead to breaking code or invalid results. Use at your own risk. For more info please refer to:\n",
      "https://scikit-learn.org/stable/modules/model_persistence.html#security-maintainability-limitations\n",
      "LightGBM binary classifier with TreeExplainer shap values output has changed to a list of ndarray\n"
     ]
    },
    {
     "name": "stdout",
     "output_type": "stream",
     "text": [
      "['/data4-4tb/kgreathoo/plots_result/53344001_peak_idx_1_type_test0_TP.png']\n",
      "✅ Image: /data4-4tb/kgreathoo/plots_result/53344001_peak_idx_1_type_test0_TP.png\n",
      "🖼️ Title: 53344001 Peak Index 1 Type Test0 Tp\n",
      "✅ Saved combined image: shap_outputs_1_10_new/53344001_peak_idx_1_type_test0_TP.png\n"
     ]
    },
    {
     "name": "stderr",
     "output_type": "stream",
     "text": [
      "Trying to unpickle estimator LabelEncoder from version 0.24.2 when using version 1.0.2. This might lead to breaking code or invalid results. Use at your own risk. For more info please refer to:\n",
      "https://scikit-learn.org/stable/modules/model_persistence.html#security-maintainability-limitations\n",
      "LightGBM binary classifier with TreeExplainer shap values output has changed to a list of ndarray\n"
     ]
    },
    {
     "name": "stdout",
     "output_type": "stream",
     "text": [
      "['/data4-4tb/kgreathoo/plots_result/53208114_peak_idx_1_type_test0_TP.png']\n",
      "✅ Image: /data4-4tb/kgreathoo/plots_result/53208114_peak_idx_1_type_test0_TP.png\n",
      "🖼️ Title: 53208114 Peak Index 1 Type Test0 Tp\n",
      "✅ Saved combined image: shap_outputs_1_10_new/53208114_peak_idx_1_type_test0_TP.png\n"
     ]
    },
    {
     "name": "stderr",
     "output_type": "stream",
     "text": [
      "Trying to unpickle estimator LabelEncoder from version 0.24.2 when using version 1.0.2. This might lead to breaking code or invalid results. Use at your own risk. For more info please refer to:\n",
      "https://scikit-learn.org/stable/modules/model_persistence.html#security-maintainability-limitations\n",
      "LightGBM binary classifier with TreeExplainer shap values output has changed to a list of ndarray\n"
     ]
    },
    {
     "name": "stdout",
     "output_type": "stream",
     "text": [
      "['/data4-4tb/kgreathoo/plots_result/53078877_peak_idx_1_type_test4_TP.png']\n",
      "✅ Image: /data4-4tb/kgreathoo/plots_result/53078877_peak_idx_1_type_test4_TP.png\n",
      "🖼️ Title: 53078877 Peak Index 1 Type Test4 Tp\n",
      "✅ Saved combined image: shap_outputs_1_10_new/53078877_peak_idx_1_type_test4_TP.png\n"
     ]
    },
    {
     "name": "stderr",
     "output_type": "stream",
     "text": [
      "Trying to unpickle estimator LabelEncoder from version 0.24.2 when using version 1.0.2. This might lead to breaking code or invalid results. Use at your own risk. For more info please refer to:\n",
      "https://scikit-learn.org/stable/modules/model_persistence.html#security-maintainability-limitations\n",
      "LightGBM binary classifier with TreeExplainer shap values output has changed to a list of ndarray\n"
     ]
    },
    {
     "name": "stdout",
     "output_type": "stream",
     "text": [
      "['/data4-4tb/kgreathoo/plots_result/53038592_peak_idx_1_type_test3_TP.png']\n",
      "✅ Image: /data4-4tb/kgreathoo/plots_result/53038592_peak_idx_1_type_test3_TP.png\n",
      "🖼️ Title: 53038592 Peak Index 1 Type Test3 Tp\n",
      "✅ Saved combined image: shap_outputs_1_10_new/53038592_peak_idx_1_type_test3_TP.png\n"
     ]
    },
    {
     "name": "stderr",
     "output_type": "stream",
     "text": [
      "Trying to unpickle estimator LabelEncoder from version 0.24.2 when using version 1.0.2. This might lead to breaking code or invalid results. Use at your own risk. For more info please refer to:\n",
      "https://scikit-learn.org/stable/modules/model_persistence.html#security-maintainability-limitations\n",
      "LightGBM binary classifier with TreeExplainer shap values output has changed to a list of ndarray\n"
     ]
    },
    {
     "name": "stdout",
     "output_type": "stream",
     "text": [
      "['/data4-4tb/kgreathoo/plots_result/52973730_peak_idx_10_type_test4_TP.png']\n",
      "✅ Image: /data4-4tb/kgreathoo/plots_result/52973730_peak_idx_10_type_test4_TP.png\n",
      "🖼️ Title: 52973730 Peak Index 10 Type Test4 Tp\n",
      "✅ Saved combined image: shap_outputs_1_10_new/52973730_peak_idx_10_type_test4_TP.png\n"
     ]
    },
    {
     "name": "stderr",
     "output_type": "stream",
     "text": [
      "Trying to unpickle estimator LabelEncoder from version 0.24.2 when using version 1.0.2. This might lead to breaking code or invalid results. Use at your own risk. For more info please refer to:\n",
      "https://scikit-learn.org/stable/modules/model_persistence.html#security-maintainability-limitations\n",
      "LightGBM binary classifier with TreeExplainer shap values output has changed to a list of ndarray\n"
     ]
    },
    {
     "name": "stdout",
     "output_type": "stream",
     "text": [
      "['/data4-4tb/kgreathoo/plots_result/52923489_peak_idx_1_type_test1_TP.png']\n",
      "✅ Image: /data4-4tb/kgreathoo/plots_result/52923489_peak_idx_1_type_test1_TP.png\n",
      "🖼️ Title: 52923489 Peak Index 1 Type Test1 Tp\n",
      "✅ Saved combined image: shap_outputs_1_10_new/52923489_peak_idx_1_type_test1_TP.png\n"
     ]
    },
    {
     "name": "stderr",
     "output_type": "stream",
     "text": [
      "Trying to unpickle estimator LabelEncoder from version 0.24.2 when using version 1.0.2. This might lead to breaking code or invalid results. Use at your own risk. For more info please refer to:\n",
      "https://scikit-learn.org/stable/modules/model_persistence.html#security-maintainability-limitations\n",
      "LightGBM binary classifier with TreeExplainer shap values output has changed to a list of ndarray\n"
     ]
    },
    {
     "name": "stdout",
     "output_type": "stream",
     "text": [
      "['/data4-4tb/kgreathoo/plots_result/52604548_peak_idx_1_type_test0_TP.png']\n",
      "✅ Image: /data4-4tb/kgreathoo/plots_result/52604548_peak_idx_1_type_test0_TP.png\n",
      "🖼️ Title: 52604548 Peak Index 1 Type Test0 Tp\n",
      "✅ Saved combined image: shap_outputs_1_10_new/52604548_peak_idx_1_type_test0_TP.png\n"
     ]
    },
    {
     "name": "stderr",
     "output_type": "stream",
     "text": [
      "Trying to unpickle estimator LabelEncoder from version 0.24.2 when using version 1.0.2. This might lead to breaking code or invalid results. Use at your own risk. For more info please refer to:\n",
      "https://scikit-learn.org/stable/modules/model_persistence.html#security-maintainability-limitations\n",
      "LightGBM binary classifier with TreeExplainer shap values output has changed to a list of ndarray\n"
     ]
    },
    {
     "name": "stdout",
     "output_type": "stream",
     "text": [
      "['/data4-4tb/kgreathoo/plots_result/52589804_peak_idx_1_type_test0_TP.png']\n",
      "✅ Image: /data4-4tb/kgreathoo/plots_result/52589804_peak_idx_1_type_test0_TP.png\n",
      "🖼️ Title: 52589804 Peak Index 1 Type Test0 Tp\n",
      "✅ Saved combined image: shap_outputs_1_10_new/52589804_peak_idx_1_type_test0_TP.png\n"
     ]
    },
    {
     "name": "stderr",
     "output_type": "stream",
     "text": [
      "Trying to unpickle estimator LabelEncoder from version 0.24.2 when using version 1.0.2. This might lead to breaking code or invalid results. Use at your own risk. For more info please refer to:\n",
      "https://scikit-learn.org/stable/modules/model_persistence.html#security-maintainability-limitations\n",
      "LightGBM binary classifier with TreeExplainer shap values output has changed to a list of ndarray\n"
     ]
    },
    {
     "name": "stdout",
     "output_type": "stream",
     "text": [
      "['/data4-4tb/kgreathoo/plots_result/51272890_peak_idx_9_type_test4_TP.png']\n",
      "✅ Image: /data4-4tb/kgreathoo/plots_result/51272890_peak_idx_9_type_test4_TP.png\n",
      "🖼️ Title: 51272890 Peak Index 9 Type Test4 Tp\n",
      "✅ Saved combined image: shap_outputs_1_10_new/51272890_peak_idx_9_type_test4_TP.png\n"
     ]
    },
    {
     "name": "stderr",
     "output_type": "stream",
     "text": [
      "Trying to unpickle estimator LabelEncoder from version 0.24.2 when using version 1.0.2. This might lead to breaking code or invalid results. Use at your own risk. For more info please refer to:\n",
      "https://scikit-learn.org/stable/modules/model_persistence.html#security-maintainability-limitations\n",
      "LightGBM binary classifier with TreeExplainer shap values output has changed to a list of ndarray\n"
     ]
    },
    {
     "name": "stdout",
     "output_type": "stream",
     "text": [
      "['/data4-4tb/kgreathoo/plots_result/51209446_peak_idx_1_type_test4_TP.png']\n",
      "✅ Image: /data4-4tb/kgreathoo/plots_result/51209446_peak_idx_1_type_test4_TP.png\n",
      "🖼️ Title: 51209446 Peak Index 1 Type Test4 Tp\n",
      "✅ Saved combined image: shap_outputs_1_10_new/51209446_peak_idx_1_type_test4_TP.png\n"
     ]
    },
    {
     "name": "stderr",
     "output_type": "stream",
     "text": [
      "Trying to unpickle estimator LabelEncoder from version 0.24.2 when using version 1.0.2. This might lead to breaking code or invalid results. Use at your own risk. For more info please refer to:\n",
      "https://scikit-learn.org/stable/modules/model_persistence.html#security-maintainability-limitations\n",
      "LightGBM binary classifier with TreeExplainer shap values output has changed to a list of ndarray\n"
     ]
    },
    {
     "name": "stdout",
     "output_type": "stream",
     "text": [
      "['/data4-4tb/kgreathoo/plots_result/51176610_peak_idx_1_type_test4_TP.png']\n",
      "✅ Image: /data4-4tb/kgreathoo/plots_result/51176610_peak_idx_1_type_test4_TP.png\n",
      "🖼️ Title: 51176610 Peak Index 1 Type Test4 Tp\n",
      "✅ Saved combined image: shap_outputs_1_10_new/51176610_peak_idx_1_type_test4_TP.png\n"
     ]
    },
    {
     "name": "stderr",
     "output_type": "stream",
     "text": [
      "Trying to unpickle estimator LabelEncoder from version 0.24.2 when using version 1.0.2. This might lead to breaking code or invalid results. Use at your own risk. For more info please refer to:\n",
      "https://scikit-learn.org/stable/modules/model_persistence.html#security-maintainability-limitations\n",
      "LightGBM binary classifier with TreeExplainer shap values output has changed to a list of ndarray\n"
     ]
    },
    {
     "name": "stdout",
     "output_type": "stream",
     "text": [
      "['/data4-4tb/kgreathoo/plots_result/51155883_peak_idx_1_type_test3_TP.png']\n",
      "✅ Image: /data4-4tb/kgreathoo/plots_result/51155883_peak_idx_1_type_test3_TP.png\n",
      "🖼️ Title: 51155883 Peak Index 1 Type Test3 Tp\n",
      "✅ Saved combined image: shap_outputs_1_10_new/51155883_peak_idx_1_type_test3_TP.png\n"
     ]
    },
    {
     "name": "stderr",
     "output_type": "stream",
     "text": [
      "Trying to unpickle estimator LabelEncoder from version 0.24.2 when using version 1.0.2. This might lead to breaking code or invalid results. Use at your own risk. For more info please refer to:\n",
      "https://scikit-learn.org/stable/modules/model_persistence.html#security-maintainability-limitations\n",
      "LightGBM binary classifier with TreeExplainer shap values output has changed to a list of ndarray\n"
     ]
    },
    {
     "name": "stdout",
     "output_type": "stream",
     "text": [
      "['/data4-4tb/kgreathoo/plots_result/50296397_peak_idx_1_type_test2_TP.png']\n",
      "✅ Image: /data4-4tb/kgreathoo/plots_result/50296397_peak_idx_1_type_test2_TP.png\n",
      "🖼️ Title: 50296397 Peak Index 1 Type Test2 Tp\n",
      "✅ Saved combined image: shap_outputs_1_10_new/50296397_peak_idx_1_type_test2_TP.png\n"
     ]
    },
    {
     "name": "stderr",
     "output_type": "stream",
     "text": [
      "Trying to unpickle estimator LabelEncoder from version 0.24.2 when using version 1.0.2. This might lead to breaking code or invalid results. Use at your own risk. For more info please refer to:\n",
      "https://scikit-learn.org/stable/modules/model_persistence.html#security-maintainability-limitations\n",
      "LightGBM binary classifier with TreeExplainer shap values output has changed to a list of ndarray\n"
     ]
    },
    {
     "name": "stdout",
     "output_type": "stream",
     "text": [
      "['/data4-4tb/kgreathoo/plots_result/50167760_peak_idx_1_type_test3_TP.png']\n",
      "✅ Image: /data4-4tb/kgreathoo/plots_result/50167760_peak_idx_1_type_test3_TP.png\n",
      "🖼️ Title: 50167760 Peak Index 1 Type Test3 Tp\n",
      "✅ Saved combined image: shap_outputs_1_10_new/50167760_peak_idx_1_type_test3_TP.png\n"
     ]
    },
    {
     "name": "stderr",
     "output_type": "stream",
     "text": [
      "Trying to unpickle estimator LabelEncoder from version 0.24.2 when using version 1.0.2. This might lead to breaking code or invalid results. Use at your own risk. For more info please refer to:\n",
      "https://scikit-learn.org/stable/modules/model_persistence.html#security-maintainability-limitations\n",
      "LightGBM binary classifier with TreeExplainer shap values output has changed to a list of ndarray\n"
     ]
    },
    {
     "name": "stdout",
     "output_type": "stream",
     "text": [
      "['/data4-4tb/kgreathoo/plots_result/49243612_peak_idx_9_type_test3_TP.png']\n",
      "✅ Image: /data4-4tb/kgreathoo/plots_result/49243612_peak_idx_9_type_test3_TP.png\n",
      "🖼️ Title: 49243612 Peak Index 9 Type Test3 Tp\n",
      "✅ Saved combined image: shap_outputs_1_10_new/49243612_peak_idx_9_type_test3_TP.png\n"
     ]
    },
    {
     "name": "stderr",
     "output_type": "stream",
     "text": [
      "Trying to unpickle estimator LabelEncoder from version 0.24.2 when using version 1.0.2. This might lead to breaking code or invalid results. Use at your own risk. For more info please refer to:\n",
      "https://scikit-learn.org/stable/modules/model_persistence.html#security-maintainability-limitations\n",
      "LightGBM binary classifier with TreeExplainer shap values output has changed to a list of ndarray\n"
     ]
    },
    {
     "name": "stdout",
     "output_type": "stream",
     "text": [
      "['/data4-4tb/kgreathoo/plots_result/49210276_peak_idx_1_type_test4_TP.png']\n",
      "✅ Image: /data4-4tb/kgreathoo/plots_result/49210276_peak_idx_1_type_test4_TP.png\n",
      "🖼️ Title: 49210276 Peak Index 1 Type Test4 Tp\n",
      "✅ Saved combined image: shap_outputs_1_10_new/49210276_peak_idx_1_type_test4_TP.png\n"
     ]
    },
    {
     "name": "stderr",
     "output_type": "stream",
     "text": [
      "Trying to unpickle estimator LabelEncoder from version 0.24.2 when using version 1.0.2. This might lead to breaking code or invalid results. Use at your own risk. For more info please refer to:\n",
      "https://scikit-learn.org/stable/modules/model_persistence.html#security-maintainability-limitations\n",
      "LightGBM binary classifier with TreeExplainer shap values output has changed to a list of ndarray\n"
     ]
    },
    {
     "name": "stdout",
     "output_type": "stream",
     "text": [
      "['/data4-4tb/kgreathoo/plots_result/49189924_peak_idx_1_type_test4_TP.png']\n",
      "✅ Image: /data4-4tb/kgreathoo/plots_result/49189924_peak_idx_1_type_test4_TP.png\n",
      "🖼️ Title: 49189924 Peak Index 1 Type Test4 Tp\n",
      "✅ Saved combined image: shap_outputs_1_10_new/49189924_peak_idx_1_type_test4_TP.png\n"
     ]
    },
    {
     "name": "stderr",
     "output_type": "stream",
     "text": [
      "Trying to unpickle estimator LabelEncoder from version 0.24.2 when using version 1.0.2. This might lead to breaking code or invalid results. Use at your own risk. For more info please refer to:\n",
      "https://scikit-learn.org/stable/modules/model_persistence.html#security-maintainability-limitations\n",
      "LightGBM binary classifier with TreeExplainer shap values output has changed to a list of ndarray\n"
     ]
    },
    {
     "name": "stdout",
     "output_type": "stream",
     "text": [
      "['/data4-4tb/kgreathoo/plots_result/48213983_peak_idx_1_type_test2_TP.png']\n",
      "✅ Image: /data4-4tb/kgreathoo/plots_result/48213983_peak_idx_1_type_test2_TP.png\n",
      "🖼️ Title: 48213983 Peak Index 1 Type Test2 Tp\n",
      "✅ Saved combined image: shap_outputs_1_10_new/48213983_peak_idx_1_type_test2_TP.png\n"
     ]
    },
    {
     "name": "stderr",
     "output_type": "stream",
     "text": [
      "Trying to unpickle estimator LabelEncoder from version 0.24.2 when using version 1.0.2. This might lead to breaking code or invalid results. Use at your own risk. For more info please refer to:\n",
      "https://scikit-learn.org/stable/modules/model_persistence.html#security-maintainability-limitations\n",
      "LightGBM binary classifier with TreeExplainer shap values output has changed to a list of ndarray\n"
     ]
    },
    {
     "name": "stdout",
     "output_type": "stream",
     "text": [
      "['/data4-4tb/kgreathoo/plots_result/48101145_peak_idx_10_type_test4_TP.png']\n",
      "✅ Image: /data4-4tb/kgreathoo/plots_result/48101145_peak_idx_10_type_test4_TP.png\n",
      "🖼️ Title: 48101145 Peak Index 10 Type Test4 Tp\n",
      "✅ Saved combined image: shap_outputs_1_10_new/48101145_peak_idx_10_type_test4_TP.png\n"
     ]
    },
    {
     "name": "stderr",
     "output_type": "stream",
     "text": [
      "Trying to unpickle estimator LabelEncoder from version 0.24.2 when using version 1.0.2. This might lead to breaking code or invalid results. Use at your own risk. For more info please refer to:\n",
      "https://scikit-learn.org/stable/modules/model_persistence.html#security-maintainability-limitations\n",
      "LightGBM binary classifier with TreeExplainer shap values output has changed to a list of ndarray\n"
     ]
    },
    {
     "name": "stdout",
     "output_type": "stream",
     "text": [
      "['/data4-4tb/kgreathoo/plots_result/47121487_peak_idx_1_type_test3_TP.png']\n",
      "✅ Image: /data4-4tb/kgreathoo/plots_result/47121487_peak_idx_1_type_test3_TP.png\n",
      "🖼️ Title: 47121487 Peak Index 1 Type Test3 Tp\n",
      "✅ Saved combined image: shap_outputs_1_10_new/47121487_peak_idx_1_type_test3_TP.png\n"
     ]
    },
    {
     "name": "stderr",
     "output_type": "stream",
     "text": [
      "Trying to unpickle estimator LabelEncoder from version 0.24.2 when using version 1.0.2. This might lead to breaking code or invalid results. Use at your own risk. For more info please refer to:\n",
      "https://scikit-learn.org/stable/modules/model_persistence.html#security-maintainability-limitations\n",
      "LightGBM binary classifier with TreeExplainer shap values output has changed to a list of ndarray\n"
     ]
    },
    {
     "name": "stdout",
     "output_type": "stream",
     "text": [
      "['/data4-4tb/kgreathoo/plots_result/45131226_peak_idx_1_type_test4_TP.png']\n",
      "✅ Image: /data4-4tb/kgreathoo/plots_result/45131226_peak_idx_1_type_test4_TP.png\n",
      "🖼️ Title: 45131226 Peak Index 1 Type Test4 Tp\n",
      "✅ Saved combined image: shap_outputs_1_10_new/45131226_peak_idx_1_type_test4_TP.png\n"
     ]
    },
    {
     "name": "stderr",
     "output_type": "stream",
     "text": [
      "Trying to unpickle estimator LabelEncoder from version 0.24.2 when using version 1.0.2. This might lead to breaking code or invalid results. Use at your own risk. For more info please refer to:\n",
      "https://scikit-learn.org/stable/modules/model_persistence.html#security-maintainability-limitations\n",
      "LightGBM binary classifier with TreeExplainer shap values output has changed to a list of ndarray\n"
     ]
    },
    {
     "name": "stdout",
     "output_type": "stream",
     "text": [
      "['/data4-4tb/kgreathoo/plots_result/44037510_peak_idx_2_type_test4_TP.png']\n",
      "✅ Image: /data4-4tb/kgreathoo/plots_result/44037510_peak_idx_2_type_test4_TP.png\n",
      "🖼️ Title: 44037510 Peak Index 2 Type Test4 Tp\n",
      "✅ Saved combined image: shap_outputs_1_10_new/44037510_peak_idx_2_type_test4_TP.png\n"
     ]
    },
    {
     "name": "stderr",
     "output_type": "stream",
     "text": [
      "Trying to unpickle estimator LabelEncoder from version 0.24.2 when using version 1.0.2. This might lead to breaking code or invalid results. Use at your own risk. For more info please refer to:\n",
      "https://scikit-learn.org/stable/modules/model_persistence.html#security-maintainability-limitations\n",
      "LightGBM binary classifier with TreeExplainer shap values output has changed to a list of ndarray\n"
     ]
    },
    {
     "name": "stdout",
     "output_type": "stream",
     "text": [
      "['/data4-4tb/kgreathoo/plots_result/44007156_peak_idx_2_type_test0_TP.png']\n",
      "✅ Image: /data4-4tb/kgreathoo/plots_result/44007156_peak_idx_2_type_test0_TP.png\n",
      "🖼️ Title: 44007156 Peak Index 2 Type Test0 Tp\n",
      "✅ Saved combined image: shap_outputs_1_10_new/44007156_peak_idx_2_type_test0_TP.png\n"
     ]
    },
    {
     "name": "stderr",
     "output_type": "stream",
     "text": [
      "Trying to unpickle estimator LabelEncoder from version 0.24.2 when using version 1.0.2. This might lead to breaking code or invalid results. Use at your own risk. For more info please refer to:\n",
      "https://scikit-learn.org/stable/modules/model_persistence.html#security-maintainability-limitations\n",
      "LightGBM binary classifier with TreeExplainer shap values output has changed to a list of ndarray\n"
     ]
    },
    {
     "name": "stdout",
     "output_type": "stream",
     "text": [
      "['/data4-4tb/kgreathoo/plots_result/43127044_peak_idx_3_type_test4_TP.png']\n",
      "✅ Image: /data4-4tb/kgreathoo/plots_result/43127044_peak_idx_3_type_test4_TP.png\n",
      "🖼️ Title: 43127044 Peak Index 3 Type Test4 Tp\n",
      "✅ Saved combined image: shap_outputs_1_10_new/43127044_peak_idx_3_type_test4_TP.png\n"
     ]
    },
    {
     "name": "stderr",
     "output_type": "stream",
     "text": [
      "Trying to unpickle estimator LabelEncoder from version 0.24.2 when using version 1.0.2. This might lead to breaking code or invalid results. Use at your own risk. For more info please refer to:\n",
      "https://scikit-learn.org/stable/modules/model_persistence.html#security-maintainability-limitations\n",
      "LightGBM binary classifier with TreeExplainer shap values output has changed to a list of ndarray\n"
     ]
    },
    {
     "name": "stdout",
     "output_type": "stream",
     "text": [
      "['/data4-4tb/kgreathoo/plots_result/43001850_peak_idx_3_type_test4_TP.png']\n",
      "✅ Image: /data4-4tb/kgreathoo/plots_result/43001850_peak_idx_3_type_test4_TP.png\n",
      "🖼️ Title: 43001850 Peak Index 3 Type Test4 Tp\n",
      "✅ Saved combined image: shap_outputs_1_10_new/43001850_peak_idx_3_type_test4_TP.png\n"
     ]
    },
    {
     "name": "stderr",
     "output_type": "stream",
     "text": [
      "Trying to unpickle estimator LabelEncoder from version 0.24.2 when using version 1.0.2. This might lead to breaking code or invalid results. Use at your own risk. For more info please refer to:\n",
      "https://scikit-learn.org/stable/modules/model_persistence.html#security-maintainability-limitations\n",
      "LightGBM binary classifier with TreeExplainer shap values output has changed to a list of ndarray\n"
     ]
    },
    {
     "name": "stdout",
     "output_type": "stream",
     "text": [
      "['/data4-4tb/kgreathoo/plots_result/42161438_peak_idx_1_type_test3_TP.png']\n",
      "✅ Image: /data4-4tb/kgreathoo/plots_result/42161438_peak_idx_1_type_test3_TP.png\n",
      "🖼️ Title: 42161438 Peak Index 1 Type Test3 Tp\n",
      "✅ Saved combined image: shap_outputs_1_10_new/42161438_peak_idx_1_type_test3_TP.png\n"
     ]
    },
    {
     "name": "stderr",
     "output_type": "stream",
     "text": [
      "Trying to unpickle estimator LabelEncoder from version 0.24.2 when using version 1.0.2. This might lead to breaking code or invalid results. Use at your own risk. For more info please refer to:\n",
      "https://scikit-learn.org/stable/modules/model_persistence.html#security-maintainability-limitations\n",
      "LightGBM binary classifier with TreeExplainer shap values output has changed to a list of ndarray\n"
     ]
    },
    {
     "name": "stdout",
     "output_type": "stream",
     "text": [
      "['/data4-4tb/kgreathoo/plots_result/42148589_peak_idx_1_type_test4_TP.png']\n",
      "✅ Image: /data4-4tb/kgreathoo/plots_result/42148589_peak_idx_1_type_test4_TP.png\n",
      "🖼️ Title: 42148589 Peak Index 1 Type Test4 Tp\n",
      "✅ Saved combined image: shap_outputs_1_10_new/42148589_peak_idx_1_type_test4_TP.png\n"
     ]
    },
    {
     "name": "stderr",
     "output_type": "stream",
     "text": [
      "Trying to unpickle estimator LabelEncoder from version 0.24.2 when using version 1.0.2. This might lead to breaking code or invalid results. Use at your own risk. For more info please refer to:\n",
      "https://scikit-learn.org/stable/modules/model_persistence.html#security-maintainability-limitations\n",
      "LightGBM binary classifier with TreeExplainer shap values output has changed to a list of ndarray\n"
     ]
    },
    {
     "name": "stdout",
     "output_type": "stream",
     "text": [
      "['/data4-4tb/kgreathoo/plots_result/42079148_peak_idx_1_type_test0_TP.png']\n",
      "✅ Image: /data4-4tb/kgreathoo/plots_result/42079148_peak_idx_1_type_test0_TP.png\n",
      "🖼️ Title: 42079148 Peak Index 1 Type Test0 Tp\n",
      "✅ Saved combined image: shap_outputs_1_10_new/42079148_peak_idx_1_type_test0_TP.png\n"
     ]
    },
    {
     "name": "stderr",
     "output_type": "stream",
     "text": [
      "Trying to unpickle estimator LabelEncoder from version 0.24.2 when using version 1.0.2. This might lead to breaking code or invalid results. Use at your own risk. For more info please refer to:\n",
      "https://scikit-learn.org/stable/modules/model_persistence.html#security-maintainability-limitations\n",
      "LightGBM binary classifier with TreeExplainer shap values output has changed to a list of ndarray\n"
     ]
    },
    {
     "name": "stdout",
     "output_type": "stream",
     "text": [
      "['/data4-4tb/kgreathoo/plots_result/41169972_peak_idx_1_type_test1_TP.png']\n",
      "✅ Image: /data4-4tb/kgreathoo/plots_result/41169972_peak_idx_1_type_test1_TP.png\n",
      "🖼️ Title: 41169972 Peak Index 1 Type Test1 Tp\n",
      "✅ Saved combined image: shap_outputs_1_10_new/41169972_peak_idx_1_type_test1_TP.png\n"
     ]
    },
    {
     "name": "stderr",
     "output_type": "stream",
     "text": [
      "Trying to unpickle estimator LabelEncoder from version 0.24.2 when using version 1.0.2. This might lead to breaking code or invalid results. Use at your own risk. For more info please refer to:\n",
      "https://scikit-learn.org/stable/modules/model_persistence.html#security-maintainability-limitations\n",
      "LightGBM binary classifier with TreeExplainer shap values output has changed to a list of ndarray\n"
     ]
    },
    {
     "name": "stdout",
     "output_type": "stream",
     "text": [
      "['/data4-4tb/kgreathoo/plots_result/41071744_peak_idx_1_type_test2_TP.png']\n",
      "✅ Image: /data4-4tb/kgreathoo/plots_result/41071744_peak_idx_1_type_test2_TP.png\n",
      "🖼️ Title: 41071744 Peak Index 1 Type Test2 Tp\n",
      "✅ Saved combined image: shap_outputs_1_10_new/41071744_peak_idx_1_type_test2_TP.png\n"
     ]
    },
    {
     "name": "stderr",
     "output_type": "stream",
     "text": [
      "Trying to unpickle estimator LabelEncoder from version 0.24.2 when using version 1.0.2. This might lead to breaking code or invalid results. Use at your own risk. For more info please refer to:\n",
      "https://scikit-learn.org/stable/modules/model_persistence.html#security-maintainability-limitations\n",
      "LightGBM binary classifier with TreeExplainer shap values output has changed to a list of ndarray\n"
     ]
    },
    {
     "name": "stdout",
     "output_type": "stream",
     "text": [
      "['/data4-4tb/kgreathoo/plots_result/41051113_peak_idx_1_type_test2_TP.png']\n",
      "✅ Image: /data4-4tb/kgreathoo/plots_result/41051113_peak_idx_1_type_test2_TP.png\n",
      "🖼️ Title: 41051113 Peak Index 1 Type Test2 Tp\n",
      "✅ Saved combined image: shap_outputs_1_10_new/41051113_peak_idx_1_type_test2_TP.png\n"
     ]
    },
    {
     "name": "stderr",
     "output_type": "stream",
     "text": [
      "Trying to unpickle estimator LabelEncoder from version 0.24.2 when using version 1.0.2. This might lead to breaking code or invalid results. Use at your own risk. For more info please refer to:\n",
      "https://scikit-learn.org/stable/modules/model_persistence.html#security-maintainability-limitations\n",
      "LightGBM binary classifier with TreeExplainer shap values output has changed to a list of ndarray\n"
     ]
    },
    {
     "name": "stdout",
     "output_type": "stream",
     "text": [
      "['/data4-4tb/kgreathoo/plots_result/41039049_peak_idx_10_type_test4_TP.png']\n",
      "✅ Image: /data4-4tb/kgreathoo/plots_result/41039049_peak_idx_10_type_test4_TP.png\n",
      "🖼️ Title: 41039049 Peak Index 10 Type Test4 Tp\n",
      "✅ Saved combined image: shap_outputs_1_10_new/41039049_peak_idx_10_type_test4_TP.png\n"
     ]
    },
    {
     "name": "stderr",
     "output_type": "stream",
     "text": [
      "Trying to unpickle estimator LabelEncoder from version 0.24.2 when using version 1.0.2. This might lead to breaking code or invalid results. Use at your own risk. For more info please refer to:\n",
      "https://scikit-learn.org/stable/modules/model_persistence.html#security-maintainability-limitations\n",
      "LightGBM binary classifier with TreeExplainer shap values output has changed to a list of ndarray\n"
     ]
    },
    {
     "name": "stdout",
     "output_type": "stream",
     "text": [
      "['/data4-4tb/kgreathoo/plots_result/40170512_peak_idx_2_type_test4_TP.png']\n",
      "✅ Image: /data4-4tb/kgreathoo/plots_result/40170512_peak_idx_2_type_test4_TP.png\n",
      "🖼️ Title: 40170512 Peak Index 2 Type Test4 Tp\n",
      "✅ Saved combined image: shap_outputs_1_10_new/40170512_peak_idx_2_type_test4_TP.png\n"
     ]
    },
    {
     "name": "stderr",
     "output_type": "stream",
     "text": [
      "Trying to unpickle estimator LabelEncoder from version 0.24.2 when using version 1.0.2. This might lead to breaking code or invalid results. Use at your own risk. For more info please refer to:\n",
      "https://scikit-learn.org/stable/modules/model_persistence.html#security-maintainability-limitations\n",
      "LightGBM binary classifier with TreeExplainer shap values output has changed to a list of ndarray\n"
     ]
    },
    {
     "name": "stdout",
     "output_type": "stream",
     "text": [
      "['/data4-4tb/kgreathoo/plots_result/40036109_peak_idx_2_type_test3_TP.png']\n",
      "✅ Image: /data4-4tb/kgreathoo/plots_result/40036109_peak_idx_2_type_test3_TP.png\n",
      "🖼️ Title: 40036109 Peak Index 2 Type Test3 Tp\n",
      "✅ Saved combined image: shap_outputs_1_10_new/40036109_peak_idx_2_type_test3_TP.png\n"
     ]
    },
    {
     "name": "stderr",
     "output_type": "stream",
     "text": [
      "Trying to unpickle estimator LabelEncoder from version 0.24.2 when using version 1.0.2. This might lead to breaking code or invalid results. Use at your own risk. For more info please refer to:\n",
      "https://scikit-learn.org/stable/modules/model_persistence.html#security-maintainability-limitations\n"
     ]
    },
    {
     "name": "stdout",
     "output_type": "stream",
     "text": [
      "❌ ไม่พบ HN=39094181, fold=2\n",
      "❌ ไม่พบ HN=39009394, fold=2\n",
      "❌ ไม่พบ HN=38907635, fold=3\n"
     ]
    },
    {
     "name": "stderr",
     "output_type": "stream",
     "text": [
      "LightGBM binary classifier with TreeExplainer shap values output has changed to a list of ndarray\n"
     ]
    },
    {
     "name": "stdout",
     "output_type": "stream",
     "text": [
      "['/data4-4tb/kgreathoo/plots_result/38110417_peak_idx_10_type_test4_TP.png']\n",
      "✅ Image: /data4-4tb/kgreathoo/plots_result/38110417_peak_idx_10_type_test4_TP.png\n",
      "🖼️ Title: 38110417 Peak Index 10 Type Test4 Tp\n",
      "✅ Saved combined image: shap_outputs_1_10_new/38110417_peak_idx_10_type_test4_TP.png\n"
     ]
    },
    {
     "name": "stderr",
     "output_type": "stream",
     "text": [
      "Trying to unpickle estimator LabelEncoder from version 0.24.2 when using version 1.0.2. This might lead to breaking code or invalid results. Use at your own risk. For more info please refer to:\n",
      "https://scikit-learn.org/stable/modules/model_persistence.html#security-maintainability-limitations\n",
      "LightGBM binary classifier with TreeExplainer shap values output has changed to a list of ndarray\n"
     ]
    },
    {
     "name": "stdout",
     "output_type": "stream",
     "text": [
      "['/data4-4tb/kgreathoo/plots_result/38005966_peak_idx_1_type_test3_TN.png']\n",
      "✅ Image: /data4-4tb/kgreathoo/plots_result/38005966_peak_idx_1_type_test3_TN.png\n",
      "🖼️ Title: 38005966 Peak Index 1 Type Test3 Tn\n",
      "✅ Saved combined image: shap_outputs_1_10_new/38005966_peak_idx_1_type_test3_TN.png\n"
     ]
    },
    {
     "name": "stderr",
     "output_type": "stream",
     "text": [
      "Trying to unpickle estimator LabelEncoder from version 0.24.2 when using version 1.0.2. This might lead to breaking code or invalid results. Use at your own risk. For more info please refer to:\n",
      "https://scikit-learn.org/stable/modules/model_persistence.html#security-maintainability-limitations\n",
      "LightGBM binary classifier with TreeExplainer shap values output has changed to a list of ndarray\n"
     ]
    },
    {
     "name": "stdout",
     "output_type": "stream",
     "text": [
      "['/data4-4tb/kgreathoo/plots_result/38182610_peak_idx_9_type_test4_TN.png']\n",
      "✅ Image: /data4-4tb/kgreathoo/plots_result/38182610_peak_idx_9_type_test4_TN.png\n",
      "🖼️ Title: 38182610 Peak Index 9 Type Test4 Tn\n",
      "✅ Saved combined image: shap_outputs_1_10_new/38182610_peak_idx_9_type_test4_TN.png\n"
     ]
    },
    {
     "name": "stderr",
     "output_type": "stream",
     "text": [
      "Trying to unpickle estimator LabelEncoder from version 0.24.2 when using version 1.0.2. This might lead to breaking code or invalid results. Use at your own risk. For more info please refer to:\n",
      "https://scikit-learn.org/stable/modules/model_persistence.html#security-maintainability-limitations\n",
      "LightGBM binary classifier with TreeExplainer shap values output has changed to a list of ndarray\n"
     ]
    },
    {
     "name": "stdout",
     "output_type": "stream",
     "text": [
      "['/data4-4tb/kgreathoo/plots_result/38906285_peak_idx_10_type_test3_TN.png']\n",
      "✅ Image: /data4-4tb/kgreathoo/plots_result/38906285_peak_idx_10_type_test3_TN.png\n",
      "🖼️ Title: 38906285 Peak Index 10 Type Test3 Tn\n",
      "✅ Saved combined image: shap_outputs_1_10_new/38906285_peak_idx_10_type_test3_TN.png\n"
     ]
    },
    {
     "name": "stderr",
     "output_type": "stream",
     "text": [
      "Trying to unpickle estimator LabelEncoder from version 0.24.2 when using version 1.0.2. This might lead to breaking code or invalid results. Use at your own risk. For more info please refer to:\n",
      "https://scikit-learn.org/stable/modules/model_persistence.html#security-maintainability-limitations\n",
      "LightGBM binary classifier with TreeExplainer shap values output has changed to a list of ndarray\n"
     ]
    },
    {
     "name": "stdout",
     "output_type": "stream",
     "text": [
      "['/data4-4tb/kgreathoo/plots_result/39164983_peak_idx_1_type_test3_TN.png']\n",
      "✅ Image: /data4-4tb/kgreathoo/plots_result/39164983_peak_idx_1_type_test3_TN.png\n",
      "🖼️ Title: 39164983 Peak Index 1 Type Test3 Tn\n",
      "✅ Saved combined image: shap_outputs_1_10_new/39164983_peak_idx_1_type_test3_TN.png\n"
     ]
    },
    {
     "name": "stderr",
     "output_type": "stream",
     "text": [
      "Trying to unpickle estimator LabelEncoder from version 0.24.2 when using version 1.0.2. This might lead to breaking code or invalid results. Use at your own risk. For more info please refer to:\n",
      "https://scikit-learn.org/stable/modules/model_persistence.html#security-maintainability-limitations\n",
      "LightGBM binary classifier with TreeExplainer shap values output has changed to a list of ndarray\n"
     ]
    },
    {
     "name": "stdout",
     "output_type": "stream",
     "text": [
      "['/data4-4tb/kgreathoo/plots_result/40026745_peak_idx_1_type_test1_TN.png']\n",
      "✅ Image: /data4-4tb/kgreathoo/plots_result/40026745_peak_idx_1_type_test1_TN.png\n",
      "🖼️ Title: 40026745 Peak Index 1 Type Test1 Tn\n",
      "✅ Saved combined image: shap_outputs_1_10_new/40026745_peak_idx_1_type_test1_TN.png\n"
     ]
    },
    {
     "name": "stderr",
     "output_type": "stream",
     "text": [
      "Trying to unpickle estimator LabelEncoder from version 0.24.2 when using version 1.0.2. This might lead to breaking code or invalid results. Use at your own risk. For more info please refer to:\n",
      "https://scikit-learn.org/stable/modules/model_persistence.html#security-maintainability-limitations\n",
      "LightGBM binary classifier with TreeExplainer shap values output has changed to a list of ndarray\n"
     ]
    },
    {
     "name": "stdout",
     "output_type": "stream",
     "text": [
      "['/data4-4tb/kgreathoo/plots_result/42052801_peak_idx_1_type_test1_TN.png']\n",
      "✅ Image: /data4-4tb/kgreathoo/plots_result/42052801_peak_idx_1_type_test1_TN.png\n",
      "🖼️ Title: 42052801 Peak Index 1 Type Test1 Tn\n",
      "✅ Saved combined image: shap_outputs_1_10_new/42052801_peak_idx_1_type_test1_TN.png\n"
     ]
    },
    {
     "name": "stderr",
     "output_type": "stream",
     "text": [
      "Trying to unpickle estimator LabelEncoder from version 0.24.2 when using version 1.0.2. This might lead to breaking code or invalid results. Use at your own risk. For more info please refer to:\n",
      "https://scikit-learn.org/stable/modules/model_persistence.html#security-maintainability-limitations\n",
      "LightGBM binary classifier with TreeExplainer shap values output has changed to a list of ndarray\n"
     ]
    },
    {
     "name": "stdout",
     "output_type": "stream",
     "text": [
      "['/data4-4tb/kgreathoo/plots_result/43134468_peak_idx_9_type_test1_TN.png']\n",
      "✅ Image: /data4-4tb/kgreathoo/plots_result/43134468_peak_idx_9_type_test1_TN.png\n",
      "🖼️ Title: 43134468 Peak Index 9 Type Test1 Tn\n",
      "✅ Saved combined image: shap_outputs_1_10_new/43134468_peak_idx_9_type_test1_TN.png\n"
     ]
    },
    {
     "name": "stderr",
     "output_type": "stream",
     "text": [
      "Trying to unpickle estimator LabelEncoder from version 0.24.2 when using version 1.0.2. This might lead to breaking code or invalid results. Use at your own risk. For more info please refer to:\n",
      "https://scikit-learn.org/stable/modules/model_persistence.html#security-maintainability-limitations\n",
      "LightGBM binary classifier with TreeExplainer shap values output has changed to a list of ndarray\n"
     ]
    },
    {
     "name": "stdout",
     "output_type": "stream",
     "text": [
      "['/data4-4tb/kgreathoo/plots_result/44135554_peak_idx_1_type_test2_FP.png']\n",
      "✅ Image: /data4-4tb/kgreathoo/plots_result/44135554_peak_idx_1_type_test2_FP.png\n",
      "🖼️ Title: 44135554 Peak Index 1 Type Test2 Fp\n",
      "✅ Saved combined image: shap_outputs_1_10_new/44135554_peak_idx_1_type_test2_FP.png\n"
     ]
    },
    {
     "name": "stderr",
     "output_type": "stream",
     "text": [
      "Trying to unpickle estimator LabelEncoder from version 0.24.2 when using version 1.0.2. This might lead to breaking code or invalid results. Use at your own risk. For more info please refer to:\n",
      "https://scikit-learn.org/stable/modules/model_persistence.html#security-maintainability-limitations\n",
      "LightGBM binary classifier with TreeExplainer shap values output has changed to a list of ndarray\n"
     ]
    },
    {
     "name": "stdout",
     "output_type": "stream",
     "text": [
      "['/data4-4tb/kgreathoo/plots_result/45502728_peak_idx_1_type_test0_TN.png']\n",
      "✅ Image: /data4-4tb/kgreathoo/plots_result/45502728_peak_idx_1_type_test0_TN.png\n",
      "🖼️ Title: 45502728 Peak Index 1 Type Test0 Tn\n",
      "✅ Saved combined image: shap_outputs_1_10_new/45502728_peak_idx_1_type_test0_TN.png\n"
     ]
    },
    {
     "name": "stderr",
     "output_type": "stream",
     "text": [
      "Trying to unpickle estimator LabelEncoder from version 0.24.2 when using version 1.0.2. This might lead to breaking code or invalid results. Use at your own risk. For more info please refer to:\n",
      "https://scikit-learn.org/stable/modules/model_persistence.html#security-maintainability-limitations\n",
      "LightGBM binary classifier with TreeExplainer shap values output has changed to a list of ndarray\n"
     ]
    },
    {
     "name": "stdout",
     "output_type": "stream",
     "text": [
      "['/data4-4tb/kgreathoo/plots_result/46003874_peak_idx_1_type_test1_TN.png']\n",
      "✅ Image: /data4-4tb/kgreathoo/plots_result/46003874_peak_idx_1_type_test1_TN.png\n",
      "🖼️ Title: 46003874 Peak Index 1 Type Test1 Tn\n",
      "✅ Saved combined image: shap_outputs_1_10_new/46003874_peak_idx_1_type_test1_TN.png\n"
     ]
    },
    {
     "name": "stderr",
     "output_type": "stream",
     "text": [
      "Trying to unpickle estimator LabelEncoder from version 0.24.2 when using version 1.0.2. This might lead to breaking code or invalid results. Use at your own risk. For more info please refer to:\n",
      "https://scikit-learn.org/stable/modules/model_persistence.html#security-maintainability-limitations\n",
      "LightGBM binary classifier with TreeExplainer shap values output has changed to a list of ndarray\n"
     ]
    },
    {
     "name": "stdout",
     "output_type": "stream",
     "text": [
      "['/data4-4tb/kgreathoo/plots_result/46023087_peak_idx_1_type_test0_TN.png']\n",
      "✅ Image: /data4-4tb/kgreathoo/plots_result/46023087_peak_idx_1_type_test0_TN.png\n",
      "🖼️ Title: 46023087 Peak Index 1 Type Test0 Tn\n",
      "✅ Saved combined image: shap_outputs_1_10_new/46023087_peak_idx_1_type_test0_TN.png\n"
     ]
    },
    {
     "name": "stderr",
     "output_type": "stream",
     "text": [
      "Trying to unpickle estimator LabelEncoder from version 0.24.2 when using version 1.0.2. This might lead to breaking code or invalid results. Use at your own risk. For more info please refer to:\n",
      "https://scikit-learn.org/stable/modules/model_persistence.html#security-maintainability-limitations\n",
      "LightGBM binary classifier with TreeExplainer shap values output has changed to a list of ndarray\n"
     ]
    },
    {
     "name": "stdout",
     "output_type": "stream",
     "text": [
      "['/data4-4tb/kgreathoo/plots_result/46152726_peak_idx_1_type_test2_TN.png']\n",
      "✅ Image: /data4-4tb/kgreathoo/plots_result/46152726_peak_idx_1_type_test2_TN.png\n",
      "🖼️ Title: 46152726 Peak Index 1 Type Test2 Tn\n",
      "✅ Saved combined image: shap_outputs_1_10_new/46152726_peak_idx_1_type_test2_TN.png\n"
     ]
    },
    {
     "name": "stderr",
     "output_type": "stream",
     "text": [
      "Trying to unpickle estimator LabelEncoder from version 0.24.2 when using version 1.0.2. This might lead to breaking code or invalid results. Use at your own risk. For more info please refer to:\n",
      "https://scikit-learn.org/stable/modules/model_persistence.html#security-maintainability-limitations\n",
      "LightGBM binary classifier with TreeExplainer shap values output has changed to a list of ndarray\n"
     ]
    },
    {
     "name": "stdout",
     "output_type": "stream",
     "text": [
      "['/data4-4tb/kgreathoo/plots_result/46501836_peak_idx_1_type_test2_TN.png']\n",
      "✅ Image: /data4-4tb/kgreathoo/plots_result/46501836_peak_idx_1_type_test2_TN.png\n",
      "🖼️ Title: 46501836 Peak Index 1 Type Test2 Tn\n",
      "✅ Saved combined image: shap_outputs_1_10_new/46501836_peak_idx_1_type_test2_TN.png\n"
     ]
    },
    {
     "name": "stderr",
     "output_type": "stream",
     "text": [
      "Trying to unpickle estimator LabelEncoder from version 0.24.2 when using version 1.0.2. This might lead to breaking code or invalid results. Use at your own risk. For more info please refer to:\n",
      "https://scikit-learn.org/stable/modules/model_persistence.html#security-maintainability-limitations\n",
      "LightGBM binary classifier with TreeExplainer shap values output has changed to a list of ndarray\n"
     ]
    },
    {
     "name": "stdout",
     "output_type": "stream",
     "text": [
      "['/data4-4tb/kgreathoo/plots_result/48104673_peak_idx_1_type_test1_TN.png']\n",
      "✅ Image: /data4-4tb/kgreathoo/plots_result/48104673_peak_idx_1_type_test1_TN.png\n",
      "🖼️ Title: 48104673 Peak Index 1 Type Test1 Tn\n",
      "✅ Saved combined image: shap_outputs_1_10_new/48104673_peak_idx_1_type_test1_TN.png\n"
     ]
    },
    {
     "name": "stderr",
     "output_type": "stream",
     "text": [
      "Trying to unpickle estimator LabelEncoder from version 0.24.2 when using version 1.0.2. This might lead to breaking code or invalid results. Use at your own risk. For more info please refer to:\n",
      "https://scikit-learn.org/stable/modules/model_persistence.html#security-maintainability-limitations\n",
      "LightGBM binary classifier with TreeExplainer shap values output has changed to a list of ndarray\n"
     ]
    },
    {
     "name": "stdout",
     "output_type": "stream",
     "text": [
      "['/data4-4tb/kgreathoo/plots_result/50186221_peak_idx_1_type_test1_TN.png']\n",
      "✅ Image: /data4-4tb/kgreathoo/plots_result/50186221_peak_idx_1_type_test1_TN.png\n",
      "🖼️ Title: 50186221 Peak Index 1 Type Test1 Tn\n",
      "✅ Saved combined image: shap_outputs_1_10_new/50186221_peak_idx_1_type_test1_TN.png\n"
     ]
    },
    {
     "name": "stderr",
     "output_type": "stream",
     "text": [
      "Trying to unpickle estimator LabelEncoder from version 0.24.2 when using version 1.0.2. This might lead to breaking code or invalid results. Use at your own risk. For more info please refer to:\n",
      "https://scikit-learn.org/stable/modules/model_persistence.html#security-maintainability-limitations\n",
      "LightGBM binary classifier with TreeExplainer shap values output has changed to a list of ndarray\n"
     ]
    },
    {
     "name": "stdout",
     "output_type": "stream",
     "text": [
      "['/data4-4tb/kgreathoo/plots_result/50279255_peak_idx_8_type_test4_TN.png']\n",
      "✅ Image: /data4-4tb/kgreathoo/plots_result/50279255_peak_idx_8_type_test4_TN.png\n",
      "🖼️ Title: 50279255 Peak Index 8 Type Test4 Tn\n",
      "✅ Saved combined image: shap_outputs_1_10_new/50279255_peak_idx_8_type_test4_TN.png\n"
     ]
    },
    {
     "name": "stderr",
     "output_type": "stream",
     "text": [
      "Trying to unpickle estimator LabelEncoder from version 0.24.2 when using version 1.0.2. This might lead to breaking code or invalid results. Use at your own risk. For more info please refer to:\n",
      "https://scikit-learn.org/stable/modules/model_persistence.html#security-maintainability-limitations\n",
      "LightGBM binary classifier with TreeExplainer shap values output has changed to a list of ndarray\n"
     ]
    },
    {
     "name": "stdout",
     "output_type": "stream",
     "text": [
      "['/data4-4tb/kgreathoo/plots_result/52531308_peak_idx_8_type_test4_TN.png']\n",
      "✅ Image: /data4-4tb/kgreathoo/plots_result/52531308_peak_idx_8_type_test4_TN.png\n",
      "🖼️ Title: 52531308 Peak Index 8 Type Test4 Tn\n",
      "✅ Saved combined image: shap_outputs_1_10_new/52531308_peak_idx_8_type_test4_TN.png\n"
     ]
    },
    {
     "name": "stderr",
     "output_type": "stream",
     "text": [
      "Trying to unpickle estimator LabelEncoder from version 0.24.2 when using version 1.0.2. This might lead to breaking code or invalid results. Use at your own risk. For more info please refer to:\n",
      "https://scikit-learn.org/stable/modules/model_persistence.html#security-maintainability-limitations\n",
      "LightGBM binary classifier with TreeExplainer shap values output has changed to a list of ndarray\n"
     ]
    },
    {
     "name": "stdout",
     "output_type": "stream",
     "text": [
      "['/data4-4tb/kgreathoo/plots_result/53851833_peak_idx_1_type_test0_TN.png']\n",
      "✅ Image: /data4-4tb/kgreathoo/plots_result/53851833_peak_idx_1_type_test0_TN.png\n",
      "🖼️ Title: 53851833 Peak Index 1 Type Test0 Tn\n",
      "✅ Saved combined image: shap_outputs_1_10_new/53851833_peak_idx_1_type_test0_TN.png\n"
     ]
    },
    {
     "name": "stderr",
     "output_type": "stream",
     "text": [
      "Trying to unpickle estimator LabelEncoder from version 0.24.2 when using version 1.0.2. This might lead to breaking code or invalid results. Use at your own risk. For more info please refer to:\n",
      "https://scikit-learn.org/stable/modules/model_persistence.html#security-maintainability-limitations\n",
      "LightGBM binary classifier with TreeExplainer shap values output has changed to a list of ndarray\n"
     ]
    },
    {
     "name": "stdout",
     "output_type": "stream",
     "text": [
      "['/data4-4tb/kgreathoo/plots_result/54197900_peak_idx_1_type_test0_FP.png']\n",
      "✅ Image: /data4-4tb/kgreathoo/plots_result/54197900_peak_idx_1_type_test0_FP.png\n",
      "🖼️ Title: 54197900 Peak Index 1 Type Test0 Fp\n",
      "✅ Saved combined image: shap_outputs_1_10_new/54197900_peak_idx_1_type_test0_FP.png\n"
     ]
    },
    {
     "name": "stderr",
     "output_type": "stream",
     "text": [
      "Trying to unpickle estimator LabelEncoder from version 0.24.2 when using version 1.0.2. This might lead to breaking code or invalid results. Use at your own risk. For more info please refer to:\n",
      "https://scikit-learn.org/stable/modules/model_persistence.html#security-maintainability-limitations\n",
      "LightGBM binary classifier with TreeExplainer shap values output has changed to a list of ndarray\n"
     ]
    },
    {
     "name": "stdout",
     "output_type": "stream",
     "text": [
      "['/data4-4tb/kgreathoo/plots_result/54232314_peak_idx_1_type_test0_TN.png']\n",
      "✅ Image: /data4-4tb/kgreathoo/plots_result/54232314_peak_idx_1_type_test0_TN.png\n",
      "🖼️ Title: 54232314 Peak Index 1 Type Test0 Tn\n",
      "✅ Saved combined image: shap_outputs_1_10_new/54232314_peak_idx_1_type_test0_TN.png\n"
     ]
    },
    {
     "name": "stderr",
     "output_type": "stream",
     "text": [
      "Trying to unpickle estimator LabelEncoder from version 0.24.2 when using version 1.0.2. This might lead to breaking code or invalid results. Use at your own risk. For more info please refer to:\n",
      "https://scikit-learn.org/stable/modules/model_persistence.html#security-maintainability-limitations\n",
      "LightGBM binary classifier with TreeExplainer shap values output has changed to a list of ndarray\n"
     ]
    },
    {
     "name": "stdout",
     "output_type": "stream",
     "text": [
      "['/data4-4tb/kgreathoo/plots_result/54265542_peak_idx_1_type_test2_TN.png']\n",
      "✅ Image: /data4-4tb/kgreathoo/plots_result/54265542_peak_idx_1_type_test2_TN.png\n",
      "🖼️ Title: 54265542 Peak Index 1 Type Test2 Tn\n",
      "✅ Saved combined image: shap_outputs_1_10_new/54265542_peak_idx_1_type_test2_TN.png\n"
     ]
    },
    {
     "name": "stderr",
     "output_type": "stream",
     "text": [
      "Trying to unpickle estimator LabelEncoder from version 0.24.2 when using version 1.0.2. This might lead to breaking code or invalid results. Use at your own risk. For more info please refer to:\n",
      "https://scikit-learn.org/stable/modules/model_persistence.html#security-maintainability-limitations\n",
      "LightGBM binary classifier with TreeExplainer shap values output has changed to a list of ndarray\n"
     ]
    },
    {
     "name": "stdout",
     "output_type": "stream",
     "text": [
      "['/data4-4tb/kgreathoo/plots_result/54273498_peak_idx_1_type_test1_TN.png']\n",
      "✅ Image: /data4-4tb/kgreathoo/plots_result/54273498_peak_idx_1_type_test1_TN.png\n",
      "🖼️ Title: 54273498 Peak Index 1 Type Test1 Tn\n",
      "✅ Saved combined image: shap_outputs_1_10_new/54273498_peak_idx_1_type_test1_TN.png\n"
     ]
    },
    {
     "name": "stderr",
     "output_type": "stream",
     "text": [
      "Trying to unpickle estimator LabelEncoder from version 0.24.2 when using version 1.0.2. This might lead to breaking code or invalid results. Use at your own risk. For more info please refer to:\n",
      "https://scikit-learn.org/stable/modules/model_persistence.html#security-maintainability-limitations\n",
      "LightGBM binary classifier with TreeExplainer shap values output has changed to a list of ndarray\n"
     ]
    },
    {
     "name": "stdout",
     "output_type": "stream",
     "text": [
      "['/data4-4tb/kgreathoo/plots_result/54277930_peak_idx_10_type_test3_TN.png']\n",
      "✅ Image: /data4-4tb/kgreathoo/plots_result/54277930_peak_idx_10_type_test3_TN.png\n",
      "🖼️ Title: 54277930 Peak Index 10 Type Test3 Tn\n",
      "✅ Saved combined image: shap_outputs_1_10_new/54277930_peak_idx_10_type_test3_TN.png\n"
     ]
    },
    {
     "name": "stderr",
     "output_type": "stream",
     "text": [
      "Trying to unpickle estimator LabelEncoder from version 0.24.2 when using version 1.0.2. This might lead to breaking code or invalid results. Use at your own risk. For more info please refer to:\n",
      "https://scikit-learn.org/stable/modules/model_persistence.html#security-maintainability-limitations\n",
      "LightGBM binary classifier with TreeExplainer shap values output has changed to a list of ndarray\n"
     ]
    },
    {
     "name": "stdout",
     "output_type": "stream",
     "text": [
      "['/data4-4tb/kgreathoo/plots_result/54278767_peak_idx_2_type_test1_TN.png']\n",
      "✅ Image: /data4-4tb/kgreathoo/plots_result/54278767_peak_idx_2_type_test1_TN.png\n",
      "🖼️ Title: 54278767 Peak Index 2 Type Test1 Tn\n",
      "✅ Saved combined image: shap_outputs_1_10_new/54278767_peak_idx_2_type_test1_TN.png\n"
     ]
    },
    {
     "name": "stderr",
     "output_type": "stream",
     "text": [
      "Trying to unpickle estimator LabelEncoder from version 0.24.2 when using version 1.0.2. This might lead to breaking code or invalid results. Use at your own risk. For more info please refer to:\n",
      "https://scikit-learn.org/stable/modules/model_persistence.html#security-maintainability-limitations\n",
      "LightGBM binary classifier with TreeExplainer shap values output has changed to a list of ndarray\n"
     ]
    },
    {
     "name": "stdout",
     "output_type": "stream",
     "text": [
      "['/data4-4tb/kgreathoo/plots_result/38004023_peak_idx_1_type_test4_FP.png']\n",
      "✅ Image: /data4-4tb/kgreathoo/plots_result/38004023_peak_idx_1_type_test4_FP.png\n",
      "🖼️ Title: 38004023 Peak Index 1 Type Test4 Fp\n",
      "✅ Saved combined image: shap_outputs_1_10_new/38004023_peak_idx_1_type_test4_FP.png\n"
     ]
    },
    {
     "name": "stderr",
     "output_type": "stream",
     "text": [
      "Trying to unpickle estimator LabelEncoder from version 0.24.2 when using version 1.0.2. This might lead to breaking code or invalid results. Use at your own risk. For more info please refer to:\n",
      "https://scikit-learn.org/stable/modules/model_persistence.html#security-maintainability-limitations\n",
      "LightGBM binary classifier with TreeExplainer shap values output has changed to a list of ndarray\n"
     ]
    },
    {
     "name": "stdout",
     "output_type": "stream",
     "text": [
      "['/data4-4tb/kgreathoo/plots_result/41128291_peak_idx_1_type_test0_TN.png']\n",
      "✅ Image: /data4-4tb/kgreathoo/plots_result/41128291_peak_idx_1_type_test0_TN.png\n",
      "🖼️ Title: 41128291 Peak Index 1 Type Test0 Tn\n",
      "✅ Saved combined image: shap_outputs_1_10_new/41128291_peak_idx_1_type_test0_TN.png\n"
     ]
    },
    {
     "name": "stderr",
     "output_type": "stream",
     "text": [
      "Trying to unpickle estimator LabelEncoder from version 0.24.2 when using version 1.0.2. This might lead to breaking code or invalid results. Use at your own risk. For more info please refer to:\n",
      "https://scikit-learn.org/stable/modules/model_persistence.html#security-maintainability-limitations\n",
      "LightGBM binary classifier with TreeExplainer shap values output has changed to a list of ndarray\n"
     ]
    },
    {
     "name": "stdout",
     "output_type": "stream",
     "text": [
      "['/data4-4tb/kgreathoo/plots_result/42204536_peak_idx_1_type_test2_TN.png']\n",
      "✅ Image: /data4-4tb/kgreathoo/plots_result/42204536_peak_idx_1_type_test2_TN.png\n",
      "🖼️ Title: 42204536 Peak Index 1 Type Test2 Tn\n",
      "✅ Saved combined image: shap_outputs_1_10_new/42204536_peak_idx_1_type_test2_TN.png\n"
     ]
    },
    {
     "name": "stderr",
     "output_type": "stream",
     "text": [
      "Trying to unpickle estimator LabelEncoder from version 0.24.2 when using version 1.0.2. This might lead to breaking code or invalid results. Use at your own risk. For more info please refer to:\n",
      "https://scikit-learn.org/stable/modules/model_persistence.html#security-maintainability-limitations\n",
      "LightGBM binary classifier with TreeExplainer shap values output has changed to a list of ndarray\n"
     ]
    },
    {
     "name": "stdout",
     "output_type": "stream",
     "text": [
      "['/data4-4tb/kgreathoo/plots_result/44096626_peak_idx_1_type_test2_TN.png']\n",
      "✅ Image: /data4-4tb/kgreathoo/plots_result/44096626_peak_idx_1_type_test2_TN.png\n",
      "🖼️ Title: 44096626 Peak Index 1 Type Test2 Tn\n",
      "✅ Saved combined image: shap_outputs_1_10_new/44096626_peak_idx_1_type_test2_TN.png\n"
     ]
    },
    {
     "name": "stderr",
     "output_type": "stream",
     "text": [
      "Trying to unpickle estimator LabelEncoder from version 0.24.2 when using version 1.0.2. This might lead to breaking code or invalid results. Use at your own risk. For more info please refer to:\n",
      "https://scikit-learn.org/stable/modules/model_persistence.html#security-maintainability-limitations\n",
      "LightGBM binary classifier with TreeExplainer shap values output has changed to a list of ndarray\n"
     ]
    },
    {
     "name": "stdout",
     "output_type": "stream",
     "text": [
      "['/data4-4tb/kgreathoo/plots_result/44119324_peak_idx_8_type_test4_TN.png']\n",
      "✅ Image: /data4-4tb/kgreathoo/plots_result/44119324_peak_idx_8_type_test4_TN.png\n",
      "🖼️ Title: 44119324 Peak Index 8 Type Test4 Tn\n",
      "✅ Saved combined image: shap_outputs_1_10_new/44119324_peak_idx_8_type_test4_TN.png\n"
     ]
    },
    {
     "name": "stderr",
     "output_type": "stream",
     "text": [
      "Trying to unpickle estimator LabelEncoder from version 0.24.2 when using version 1.0.2. This might lead to breaking code or invalid results. Use at your own risk. For more info please refer to:\n",
      "https://scikit-learn.org/stable/modules/model_persistence.html#security-maintainability-limitations\n",
      "LightGBM binary classifier with TreeExplainer shap values output has changed to a list of ndarray\n"
     ]
    },
    {
     "name": "stdout",
     "output_type": "stream",
     "text": [
      "['/data4-4tb/kgreathoo/plots_result/45064706_peak_idx_8_type_test4_TN.png']\n",
      "✅ Image: /data4-4tb/kgreathoo/plots_result/45064706_peak_idx_8_type_test4_TN.png\n",
      "🖼️ Title: 45064706 Peak Index 8 Type Test4 Tn\n",
      "✅ Saved combined image: shap_outputs_1_10_new/45064706_peak_idx_8_type_test4_TN.png\n"
     ]
    },
    {
     "name": "stderr",
     "output_type": "stream",
     "text": [
      "Trying to unpickle estimator LabelEncoder from version 0.24.2 when using version 1.0.2. This might lead to breaking code or invalid results. Use at your own risk. For more info please refer to:\n",
      "https://scikit-learn.org/stable/modules/model_persistence.html#security-maintainability-limitations\n",
      "LightGBM binary classifier with TreeExplainer shap values output has changed to a list of ndarray\n"
     ]
    },
    {
     "name": "stdout",
     "output_type": "stream",
     "text": [
      "['/data4-4tb/kgreathoo/plots_result/46103991_peak_idx_1_type_test1_TN.png']\n",
      "✅ Image: /data4-4tb/kgreathoo/plots_result/46103991_peak_idx_1_type_test1_TN.png\n",
      "🖼️ Title: 46103991 Peak Index 1 Type Test1 Tn\n",
      "✅ Saved combined image: shap_outputs_1_10_new/46103991_peak_idx_1_type_test1_TN.png\n"
     ]
    },
    {
     "name": "stderr",
     "output_type": "stream",
     "text": [
      "Trying to unpickle estimator LabelEncoder from version 0.24.2 when using version 1.0.2. This might lead to breaking code or invalid results. Use at your own risk. For more info please refer to:\n",
      "https://scikit-learn.org/stable/modules/model_persistence.html#security-maintainability-limitations\n",
      "LightGBM binary classifier with TreeExplainer shap values output has changed to a list of ndarray\n"
     ]
    },
    {
     "name": "stdout",
     "output_type": "stream",
     "text": [
      "['/data4-4tb/kgreathoo/plots_result/47154825_peak_idx_1_type_test3_TN.png']\n",
      "✅ Image: /data4-4tb/kgreathoo/plots_result/47154825_peak_idx_1_type_test3_TN.png\n",
      "🖼️ Title: 47154825 Peak Index 1 Type Test3 Tn\n",
      "✅ Saved combined image: shap_outputs_1_10_new/47154825_peak_idx_1_type_test3_TN.png\n"
     ]
    },
    {
     "name": "stderr",
     "output_type": "stream",
     "text": [
      "Trying to unpickle estimator LabelEncoder from version 0.24.2 when using version 1.0.2. This might lead to breaking code or invalid results. Use at your own risk. For more info please refer to:\n",
      "https://scikit-learn.org/stable/modules/model_persistence.html#security-maintainability-limitations\n",
      "LightGBM binary classifier with TreeExplainer shap values output has changed to a list of ndarray\n"
     ]
    },
    {
     "name": "stdout",
     "output_type": "stream",
     "text": [
      "['/data4-4tb/kgreathoo/plots_result/48237608_peak_idx_1_type_test2_TN.png']\n",
      "✅ Image: /data4-4tb/kgreathoo/plots_result/48237608_peak_idx_1_type_test2_TN.png\n",
      "🖼️ Title: 48237608 Peak Index 1 Type Test2 Tn\n",
      "✅ Saved combined image: shap_outputs_1_10_new/48237608_peak_idx_1_type_test2_TN.png\n"
     ]
    },
    {
     "name": "stderr",
     "output_type": "stream",
     "text": [
      "Trying to unpickle estimator LabelEncoder from version 0.24.2 when using version 1.0.2. This might lead to breaking code or invalid results. Use at your own risk. For more info please refer to:\n",
      "https://scikit-learn.org/stable/modules/model_persistence.html#security-maintainability-limitations\n",
      "LightGBM binary classifier with TreeExplainer shap values output has changed to a list of ndarray\n"
     ]
    },
    {
     "name": "stdout",
     "output_type": "stream",
     "text": [
      "['/data4-4tb/kgreathoo/plots_result/52501006_peak_idx_10_type_test2_TN.png']\n",
      "✅ Image: /data4-4tb/kgreathoo/plots_result/52501006_peak_idx_10_type_test2_TN.png\n",
      "🖼️ Title: 52501006 Peak Index 10 Type Test2 Tn\n",
      "✅ Saved combined image: shap_outputs_1_10_new/52501006_peak_idx_10_type_test2_TN.png\n"
     ]
    },
    {
     "name": "stderr",
     "output_type": "stream",
     "text": [
      "Trying to unpickle estimator LabelEncoder from version 0.24.2 when using version 1.0.2. This might lead to breaking code or invalid results. Use at your own risk. For more info please refer to:\n",
      "https://scikit-learn.org/stable/modules/model_persistence.html#security-maintainability-limitations\n",
      "LightGBM binary classifier with TreeExplainer shap values output has changed to a list of ndarray\n"
     ]
    },
    {
     "name": "stdout",
     "output_type": "stream",
     "text": [
      "['/data4-4tb/kgreathoo/plots_result/52517040_peak_idx_1_type_test4_TN.png']\n",
      "✅ Image: /data4-4tb/kgreathoo/plots_result/52517040_peak_idx_1_type_test4_TN.png\n",
      "🖼️ Title: 52517040 Peak Index 1 Type Test4 Tn\n",
      "✅ Saved combined image: shap_outputs_1_10_new/52517040_peak_idx_1_type_test4_TN.png\n"
     ]
    },
    {
     "name": "stderr",
     "output_type": "stream",
     "text": [
      "Trying to unpickle estimator LabelEncoder from version 0.24.2 when using version 1.0.2. This might lead to breaking code or invalid results. Use at your own risk. For more info please refer to:\n",
      "https://scikit-learn.org/stable/modules/model_persistence.html#security-maintainability-limitations\n",
      "LightGBM binary classifier with TreeExplainer shap values output has changed to a list of ndarray\n"
     ]
    },
    {
     "name": "stdout",
     "output_type": "stream",
     "text": [
      "['/data4-4tb/kgreathoo/plots_result/52736341_peak_idx_10_type_test1_FP.png']\n",
      "✅ Image: /data4-4tb/kgreathoo/plots_result/52736341_peak_idx_10_type_test1_FP.png\n",
      "🖼️ Title: 52736341 Peak Index 10 Type Test1 Fp\n",
      "✅ Saved combined image: shap_outputs_1_10_new/52736341_peak_idx_10_type_test1_FP.png\n"
     ]
    },
    {
     "name": "stderr",
     "output_type": "stream",
     "text": [
      "Trying to unpickle estimator LabelEncoder from version 0.24.2 when using version 1.0.2. This might lead to breaking code or invalid results. Use at your own risk. For more info please refer to:\n",
      "https://scikit-learn.org/stable/modules/model_persistence.html#security-maintainability-limitations\n",
      "LightGBM binary classifier with TreeExplainer shap values output has changed to a list of ndarray\n"
     ]
    },
    {
     "name": "stdout",
     "output_type": "stream",
     "text": [
      "['/data4-4tb/kgreathoo/plots_result/53076338_peak_idx_9_type_test2_TN.png']\n",
      "✅ Image: /data4-4tb/kgreathoo/plots_result/53076338_peak_idx_9_type_test2_TN.png\n",
      "🖼️ Title: 53076338 Peak Index 9 Type Test2 Tn\n",
      "✅ Saved combined image: shap_outputs_1_10_new/53076338_peak_idx_9_type_test2_TN.png\n"
     ]
    },
    {
     "name": "stderr",
     "output_type": "stream",
     "text": [
      "Trying to unpickle estimator LabelEncoder from version 0.24.2 when using version 1.0.2. This might lead to breaking code or invalid results. Use at your own risk. For more info please refer to:\n",
      "https://scikit-learn.org/stable/modules/model_persistence.html#security-maintainability-limitations\n",
      "LightGBM binary classifier with TreeExplainer shap values output has changed to a list of ndarray\n"
     ]
    },
    {
     "name": "stdout",
     "output_type": "stream",
     "text": [
      "['/data4-4tb/kgreathoo/plots_result/53357116_peak_idx_1_type_test1_TN.png']\n",
      "✅ Image: /data4-4tb/kgreathoo/plots_result/53357116_peak_idx_1_type_test1_TN.png\n",
      "🖼️ Title: 53357116 Peak Index 1 Type Test1 Tn\n",
      "✅ Saved combined image: shap_outputs_1_10_new/53357116_peak_idx_1_type_test1_TN.png\n"
     ]
    },
    {
     "name": "stderr",
     "output_type": "stream",
     "text": [
      "Trying to unpickle estimator LabelEncoder from version 0.24.2 when using version 1.0.2. This might lead to breaking code or invalid results. Use at your own risk. For more info please refer to:\n",
      "https://scikit-learn.org/stable/modules/model_persistence.html#security-maintainability-limitations\n",
      "LightGBM binary classifier with TreeExplainer shap values output has changed to a list of ndarray\n"
     ]
    },
    {
     "name": "stdout",
     "output_type": "stream",
     "text": [
      "['/data4-4tb/kgreathoo/plots_result/53630522_peak_idx_9_type_test4_FP.png']\n",
      "✅ Image: /data4-4tb/kgreathoo/plots_result/53630522_peak_idx_9_type_test4_FP.png\n",
      "🖼️ Title: 53630522 Peak Index 9 Type Test4 Fp\n",
      "✅ Saved combined image: shap_outputs_1_10_new/53630522_peak_idx_9_type_test4_FP.png\n"
     ]
    },
    {
     "name": "stderr",
     "output_type": "stream",
     "text": [
      "Trying to unpickle estimator LabelEncoder from version 0.24.2 when using version 1.0.2. This might lead to breaking code or invalid results. Use at your own risk. For more info please refer to:\n",
      "https://scikit-learn.org/stable/modules/model_persistence.html#security-maintainability-limitations\n",
      "LightGBM binary classifier with TreeExplainer shap values output has changed to a list of ndarray\n"
     ]
    },
    {
     "name": "stdout",
     "output_type": "stream",
     "text": [
      "['/data4-4tb/kgreathoo/plots_result/54071082_peak_idx_10_type_test2_TN.png']\n",
      "✅ Image: /data4-4tb/kgreathoo/plots_result/54071082_peak_idx_10_type_test2_TN.png\n",
      "🖼️ Title: 54071082 Peak Index 10 Type Test2 Tn\n",
      "✅ Saved combined image: shap_outputs_1_10_new/54071082_peak_idx_10_type_test2_TN.png\n"
     ]
    },
    {
     "name": "stderr",
     "output_type": "stream",
     "text": [
      "Trying to unpickle estimator LabelEncoder from version 0.24.2 when using version 1.0.2. This might lead to breaking code or invalid results. Use at your own risk. For more info please refer to:\n",
      "https://scikit-learn.org/stable/modules/model_persistence.html#security-maintainability-limitations\n",
      "LightGBM binary classifier with TreeExplainer shap values output has changed to a list of ndarray\n"
     ]
    },
    {
     "name": "stdout",
     "output_type": "stream",
     "text": [
      "['/data4-4tb/kgreathoo/plots_result/54164431_peak_idx_1_type_test0_TN.png']\n",
      "✅ Image: /data4-4tb/kgreathoo/plots_result/54164431_peak_idx_1_type_test0_TN.png\n",
      "🖼️ Title: 54164431 Peak Index 1 Type Test0 Tn\n",
      "✅ Saved combined image: shap_outputs_1_10_new/54164431_peak_idx_1_type_test0_TN.png\n"
     ]
    },
    {
     "name": "stderr",
     "output_type": "stream",
     "text": [
      "Trying to unpickle estimator LabelEncoder from version 0.24.2 when using version 1.0.2. This might lead to breaking code or invalid results. Use at your own risk. For more info please refer to:\n",
      "https://scikit-learn.org/stable/modules/model_persistence.html#security-maintainability-limitations\n",
      "LightGBM binary classifier with TreeExplainer shap values output has changed to a list of ndarray\n"
     ]
    },
    {
     "name": "stdout",
     "output_type": "stream",
     "text": [
      "['/data4-4tb/kgreathoo/plots_result/54206772_peak_idx_1_type_test0_TN.png']\n",
      "✅ Image: /data4-4tb/kgreathoo/plots_result/54206772_peak_idx_1_type_test0_TN.png\n",
      "🖼️ Title: 54206772 Peak Index 1 Type Test0 Tn\n",
      "✅ Saved combined image: shap_outputs_1_10_new/54206772_peak_idx_1_type_test0_TN.png\n"
     ]
    },
    {
     "name": "stderr",
     "output_type": "stream",
     "text": [
      "Trying to unpickle estimator LabelEncoder from version 0.24.2 when using version 1.0.2. This might lead to breaking code or invalid results. Use at your own risk. For more info please refer to:\n",
      "https://scikit-learn.org/stable/modules/model_persistence.html#security-maintainability-limitations\n",
      "LightGBM binary classifier with TreeExplainer shap values output has changed to a list of ndarray\n"
     ]
    },
    {
     "name": "stdout",
     "output_type": "stream",
     "text": [
      "['/data4-4tb/kgreathoo/plots_result/54263191_peak_idx_2_type_test4_TN.png']\n",
      "✅ Image: /data4-4tb/kgreathoo/plots_result/54263191_peak_idx_2_type_test4_TN.png\n",
      "🖼️ Title: 54263191 Peak Index 2 Type Test4 Tn\n",
      "✅ Saved combined image: shap_outputs_1_10_new/54263191_peak_idx_2_type_test4_TN.png\n"
     ]
    },
    {
     "name": "stderr",
     "output_type": "stream",
     "text": [
      "Trying to unpickle estimator LabelEncoder from version 0.24.2 when using version 1.0.2. This might lead to breaking code or invalid results. Use at your own risk. For more info please refer to:\n",
      "https://scikit-learn.org/stable/modules/model_persistence.html#security-maintainability-limitations\n",
      "LightGBM binary classifier with TreeExplainer shap values output has changed to a list of ndarray\n"
     ]
    },
    {
     "name": "stdout",
     "output_type": "stream",
     "text": [
      "['/data4-4tb/kgreathoo/plots_result/54277506_peak_idx_1_type_test1_TN.png']\n",
      "✅ Image: /data4-4tb/kgreathoo/plots_result/54277506_peak_idx_1_type_test1_TN.png\n",
      "🖼️ Title: 54277506 Peak Index 1 Type Test1 Tn\n",
      "✅ Saved combined image: shap_outputs_1_10_new/54277506_peak_idx_1_type_test1_TN.png\n"
     ]
    },
    {
     "name": "stderr",
     "output_type": "stream",
     "text": [
      "Trying to unpickle estimator LabelEncoder from version 0.24.2 when using version 1.0.2. This might lead to breaking code or invalid results. Use at your own risk. For more info please refer to:\n",
      "https://scikit-learn.org/stable/modules/model_persistence.html#security-maintainability-limitations\n",
      "LightGBM binary classifier with TreeExplainer shap values output has changed to a list of ndarray\n"
     ]
    },
    {
     "name": "stdout",
     "output_type": "stream",
     "text": [
      "['/data4-4tb/kgreathoo/plots_result/54277918_peak_idx_1_type_test1_TN.png']\n",
      "✅ Image: /data4-4tb/kgreathoo/plots_result/54277918_peak_idx_1_type_test1_TN.png\n",
      "🖼️ Title: 54277918 Peak Index 1 Type Test1 Tn\n",
      "✅ Saved combined image: shap_outputs_1_10_new/54277918_peak_idx_1_type_test1_TN.png\n"
     ]
    },
    {
     "name": "stderr",
     "output_type": "stream",
     "text": [
      "Trying to unpickle estimator LabelEncoder from version 0.24.2 when using version 1.0.2. This might lead to breaking code or invalid results. Use at your own risk. For more info please refer to:\n",
      "https://scikit-learn.org/stable/modules/model_persistence.html#security-maintainability-limitations\n",
      "LightGBM binary classifier with TreeExplainer shap values output has changed to a list of ndarray\n"
     ]
    },
    {
     "name": "stdout",
     "output_type": "stream",
     "text": [
      "['/data4-4tb/kgreathoo/plots_result/54288410_peak_idx_1_type_test3_TN.png']\n",
      "✅ Image: /data4-4tb/kgreathoo/plots_result/54288410_peak_idx_1_type_test3_TN.png\n",
      "🖼️ Title: 54288410 Peak Index 1 Type Test3 Tn\n",
      "✅ Saved combined image: shap_outputs_1_10_new/54288410_peak_idx_1_type_test3_TN.png\n"
     ]
    },
    {
     "name": "stderr",
     "output_type": "stream",
     "text": [
      "Trying to unpickle estimator LabelEncoder from version 0.24.2 when using version 1.0.2. This might lead to breaking code or invalid results. Use at your own risk. For more info please refer to:\n",
      "https://scikit-learn.org/stable/modules/model_persistence.html#security-maintainability-limitations\n",
      "LightGBM binary classifier with TreeExplainer shap values output has changed to a list of ndarray\n"
     ]
    },
    {
     "name": "stdout",
     "output_type": "stream",
     "text": [
      "['/data4-4tb/kgreathoo/plots_result/38145861_peak_idx_1_type_test2_TN.png']\n",
      "✅ Image: /data4-4tb/kgreathoo/plots_result/38145861_peak_idx_1_type_test2_TN.png\n",
      "🖼️ Title: 38145861 Peak Index 1 Type Test2 Tn\n",
      "✅ Saved combined image: shap_outputs_1_10_new/38145861_peak_idx_1_type_test2_TN.png\n"
     ]
    },
    {
     "name": "stderr",
     "output_type": "stream",
     "text": [
      "Trying to unpickle estimator LabelEncoder from version 0.24.2 when using version 1.0.2. This might lead to breaking code or invalid results. Use at your own risk. For more info please refer to:\n",
      "https://scikit-learn.org/stable/modules/model_persistence.html#security-maintainability-limitations\n",
      "LightGBM binary classifier with TreeExplainer shap values output has changed to a list of ndarray\n"
     ]
    },
    {
     "name": "stdout",
     "output_type": "stream",
     "text": [
      "['/data4-4tb/kgreathoo/plots_result/40026144_peak_idx_8_type_test4_TN.png']\n",
      "✅ Image: /data4-4tb/kgreathoo/plots_result/40026144_peak_idx_8_type_test4_TN.png\n",
      "🖼️ Title: 40026144 Peak Index 8 Type Test4 Tn\n",
      "✅ Saved combined image: shap_outputs_1_10_new/40026144_peak_idx_8_type_test4_TN.png\n"
     ]
    },
    {
     "name": "stderr",
     "output_type": "stream",
     "text": [
      "Trying to unpickle estimator LabelEncoder from version 0.24.2 when using version 1.0.2. This might lead to breaking code or invalid results. Use at your own risk. For more info please refer to:\n",
      "https://scikit-learn.org/stable/modules/model_persistence.html#security-maintainability-limitations\n",
      "LightGBM binary classifier with TreeExplainer shap values output has changed to a list of ndarray\n"
     ]
    },
    {
     "name": "stdout",
     "output_type": "stream",
     "text": [
      "['/data4-4tb/kgreathoo/plots_result/40059655_peak_idx_1_type_test4_TN.png']\n",
      "✅ Image: /data4-4tb/kgreathoo/plots_result/40059655_peak_idx_1_type_test4_TN.png\n",
      "🖼️ Title: 40059655 Peak Index 1 Type Test4 Tn\n",
      "✅ Saved combined image: shap_outputs_1_10_new/40059655_peak_idx_1_type_test4_TN.png\n"
     ]
    },
    {
     "name": "stderr",
     "output_type": "stream",
     "text": [
      "Trying to unpickle estimator LabelEncoder from version 0.24.2 when using version 1.0.2. This might lead to breaking code or invalid results. Use at your own risk. For more info please refer to:\n",
      "https://scikit-learn.org/stable/modules/model_persistence.html#security-maintainability-limitations\n",
      "LightGBM binary classifier with TreeExplainer shap values output has changed to a list of ndarray\n"
     ]
    },
    {
     "name": "stdout",
     "output_type": "stream",
     "text": [
      "['/data4-4tb/kgreathoo/plots_result/40122236_peak_idx_1_type_test0_TN.png']\n",
      "✅ Image: /data4-4tb/kgreathoo/plots_result/40122236_peak_idx_1_type_test0_TN.png\n",
      "🖼️ Title: 40122236 Peak Index 1 Type Test0 Tn\n",
      "✅ Saved combined image: shap_outputs_1_10_new/40122236_peak_idx_1_type_test0_TN.png\n"
     ]
    },
    {
     "name": "stderr",
     "output_type": "stream",
     "text": [
      "Trying to unpickle estimator LabelEncoder from version 0.24.2 when using version 1.0.2. This might lead to breaking code or invalid results. Use at your own risk. For more info please refer to:\n",
      "https://scikit-learn.org/stable/modules/model_persistence.html#security-maintainability-limitations\n",
      "LightGBM binary classifier with TreeExplainer shap values output has changed to a list of ndarray\n"
     ]
    },
    {
     "name": "stdout",
     "output_type": "stream",
     "text": [
      "['/data4-4tb/kgreathoo/plots_result/40142142_peak_idx_9_type_test1_TN.png']\n",
      "✅ Image: /data4-4tb/kgreathoo/plots_result/40142142_peak_idx_9_type_test1_TN.png\n",
      "🖼️ Title: 40142142 Peak Index 9 Type Test1 Tn\n",
      "✅ Saved combined image: shap_outputs_1_10_new/40142142_peak_idx_9_type_test1_TN.png\n"
     ]
    },
    {
     "name": "stderr",
     "output_type": "stream",
     "text": [
      "Trying to unpickle estimator LabelEncoder from version 0.24.2 when using version 1.0.2. This might lead to breaking code or invalid results. Use at your own risk. For more info please refer to:\n",
      "https://scikit-learn.org/stable/modules/model_persistence.html#security-maintainability-limitations\n",
      "LightGBM binary classifier with TreeExplainer shap values output has changed to a list of ndarray\n"
     ]
    },
    {
     "name": "stdout",
     "output_type": "stream",
     "text": [
      "['/data4-4tb/kgreathoo/plots_result/40188233_peak_idx_1_type_test3_TN.png']\n",
      "✅ Image: /data4-4tb/kgreathoo/plots_result/40188233_peak_idx_1_type_test3_TN.png\n",
      "🖼️ Title: 40188233 Peak Index 1 Type Test3 Tn\n",
      "✅ Saved combined image: shap_outputs_1_10_new/40188233_peak_idx_1_type_test3_TN.png\n"
     ]
    },
    {
     "name": "stderr",
     "output_type": "stream",
     "text": [
      "Trying to unpickle estimator LabelEncoder from version 0.24.2 when using version 1.0.2. This might lead to breaking code or invalid results. Use at your own risk. For more info please refer to:\n",
      "https://scikit-learn.org/stable/modules/model_persistence.html#security-maintainability-limitations\n",
      "LightGBM binary classifier with TreeExplainer shap values output has changed to a list of ndarray\n"
     ]
    },
    {
     "name": "stdout",
     "output_type": "stream",
     "text": [
      "['/data4-4tb/kgreathoo/plots_result/41143713_peak_idx_1_type_test3_TN.png']\n",
      "✅ Image: /data4-4tb/kgreathoo/plots_result/41143713_peak_idx_1_type_test3_TN.png\n",
      "🖼️ Title: 41143713 Peak Index 1 Type Test3 Tn\n",
      "✅ Saved combined image: shap_outputs_1_10_new/41143713_peak_idx_1_type_test3_TN.png\n"
     ]
    },
    {
     "name": "stderr",
     "output_type": "stream",
     "text": [
      "Trying to unpickle estimator LabelEncoder from version 0.24.2 when using version 1.0.2. This might lead to breaking code or invalid results. Use at your own risk. For more info please refer to:\n",
      "https://scikit-learn.org/stable/modules/model_persistence.html#security-maintainability-limitations\n",
      "LightGBM binary classifier with TreeExplainer shap values output has changed to a list of ndarray\n"
     ]
    },
    {
     "name": "stdout",
     "output_type": "stream",
     "text": [
      "['/data4-4tb/kgreathoo/plots_result/44020997_peak_idx_10_type_test1_TN.png']\n",
      "✅ Image: /data4-4tb/kgreathoo/plots_result/44020997_peak_idx_10_type_test1_TN.png\n",
      "🖼️ Title: 44020997 Peak Index 10 Type Test1 Tn\n",
      "✅ Saved combined image: shap_outputs_1_10_new/44020997_peak_idx_10_type_test1_TN.png\n"
     ]
    },
    {
     "name": "stderr",
     "output_type": "stream",
     "text": [
      "Trying to unpickle estimator LabelEncoder from version 0.24.2 when using version 1.0.2. This might lead to breaking code or invalid results. Use at your own risk. For more info please refer to:\n",
      "https://scikit-learn.org/stable/modules/model_persistence.html#security-maintainability-limitations\n",
      "LightGBM binary classifier with TreeExplainer shap values output has changed to a list of ndarray\n"
     ]
    },
    {
     "name": "stdout",
     "output_type": "stream",
     "text": [
      "['/data4-4tb/kgreathoo/plots_result/45074424_peak_idx_1_type_test1_TN.png']\n",
      "✅ Image: /data4-4tb/kgreathoo/plots_result/45074424_peak_idx_1_type_test1_TN.png\n",
      "🖼️ Title: 45074424 Peak Index 1 Type Test1 Tn\n",
      "✅ Saved combined image: shap_outputs_1_10_new/45074424_peak_idx_1_type_test1_TN.png\n"
     ]
    },
    {
     "name": "stderr",
     "output_type": "stream",
     "text": [
      "Trying to unpickle estimator LabelEncoder from version 0.24.2 when using version 1.0.2. This might lead to breaking code or invalid results. Use at your own risk. For more info please refer to:\n",
      "https://scikit-learn.org/stable/modules/model_persistence.html#security-maintainability-limitations\n",
      "LightGBM binary classifier with TreeExplainer shap values output has changed to a list of ndarray\n"
     ]
    },
    {
     "name": "stdout",
     "output_type": "stream",
     "text": [
      "['/data4-4tb/kgreathoo/plots_result/45503191_peak_idx_1_type_test1_TN.png']\n",
      "✅ Image: /data4-4tb/kgreathoo/plots_result/45503191_peak_idx_1_type_test1_TN.png\n",
      "🖼️ Title: 45503191 Peak Index 1 Type Test1 Tn\n",
      "✅ Saved combined image: shap_outputs_1_10_new/45503191_peak_idx_1_type_test1_TN.png\n"
     ]
    },
    {
     "name": "stderr",
     "output_type": "stream",
     "text": [
      "Trying to unpickle estimator LabelEncoder from version 0.24.2 when using version 1.0.2. This might lead to breaking code or invalid results. Use at your own risk. For more info please refer to:\n",
      "https://scikit-learn.org/stable/modules/model_persistence.html#security-maintainability-limitations\n",
      "LightGBM binary classifier with TreeExplainer shap values output has changed to a list of ndarray\n"
     ]
    },
    {
     "name": "stdout",
     "output_type": "stream",
     "text": [
      "['/data4-4tb/kgreathoo/plots_result/46010936_peak_idx_8_type_test1_TN.png']\n",
      "✅ Image: /data4-4tb/kgreathoo/plots_result/46010936_peak_idx_8_type_test1_TN.png\n",
      "🖼️ Title: 46010936 Peak Index 8 Type Test1 Tn\n",
      "✅ Saved combined image: shap_outputs_1_10_new/46010936_peak_idx_8_type_test1_TN.png\n"
     ]
    },
    {
     "name": "stderr",
     "output_type": "stream",
     "text": [
      "Trying to unpickle estimator LabelEncoder from version 0.24.2 when using version 1.0.2. This might lead to breaking code or invalid results. Use at your own risk. For more info please refer to:\n",
      "https://scikit-learn.org/stable/modules/model_persistence.html#security-maintainability-limitations\n",
      "LightGBM binary classifier with TreeExplainer shap values output has changed to a list of ndarray\n"
     ]
    },
    {
     "name": "stdout",
     "output_type": "stream",
     "text": [
      "['/data4-4tb/kgreathoo/plots_result/47235817_peak_idx_1_type_test0_TN.png']\n",
      "✅ Image: /data4-4tb/kgreathoo/plots_result/47235817_peak_idx_1_type_test0_TN.png\n",
      "🖼️ Title: 47235817 Peak Index 1 Type Test0 Tn\n",
      "✅ Saved combined image: shap_outputs_1_10_new/47235817_peak_idx_1_type_test0_TN.png\n"
     ]
    },
    {
     "name": "stderr",
     "output_type": "stream",
     "text": [
      "Trying to unpickle estimator LabelEncoder from version 0.24.2 when using version 1.0.2. This might lead to breaking code or invalid results. Use at your own risk. For more info please refer to:\n",
      "https://scikit-learn.org/stable/modules/model_persistence.html#security-maintainability-limitations\n",
      "LightGBM binary classifier with TreeExplainer shap values output has changed to a list of ndarray\n"
     ]
    },
    {
     "name": "stdout",
     "output_type": "stream",
     "text": [
      "['/data4-4tb/kgreathoo/plots_result/48105092_peak_idx_1_type_test0_TN.png']\n",
      "✅ Image: /data4-4tb/kgreathoo/plots_result/48105092_peak_idx_1_type_test0_TN.png\n",
      "🖼️ Title: 48105092 Peak Index 1 Type Test0 Tn\n",
      "✅ Saved combined image: shap_outputs_1_10_new/48105092_peak_idx_1_type_test0_TN.png\n"
     ]
    },
    {
     "name": "stderr",
     "output_type": "stream",
     "text": [
      "Trying to unpickle estimator LabelEncoder from version 0.24.2 when using version 1.0.2. This might lead to breaking code or invalid results. Use at your own risk. For more info please refer to:\n",
      "https://scikit-learn.org/stable/modules/model_persistence.html#security-maintainability-limitations\n",
      "LightGBM binary classifier with TreeExplainer shap values output has changed to a list of ndarray\n"
     ]
    },
    {
     "name": "stdout",
     "output_type": "stream",
     "text": [
      "['/data4-4tb/kgreathoo/plots_result/48168011_peak_idx_1_type_test2_FP.png']\n",
      "✅ Image: /data4-4tb/kgreathoo/plots_result/48168011_peak_idx_1_type_test2_FP.png\n",
      "🖼️ Title: 48168011 Peak Index 1 Type Test2 Fp\n",
      "✅ Saved combined image: shap_outputs_1_10_new/48168011_peak_idx_1_type_test2_FP.png\n"
     ]
    },
    {
     "name": "stderr",
     "output_type": "stream",
     "text": [
      "Trying to unpickle estimator LabelEncoder from version 0.24.2 when using version 1.0.2. This might lead to breaking code or invalid results. Use at your own risk. For more info please refer to:\n",
      "https://scikit-learn.org/stable/modules/model_persistence.html#security-maintainability-limitations\n",
      "LightGBM binary classifier with TreeExplainer shap values output has changed to a list of ndarray\n"
     ]
    },
    {
     "name": "stdout",
     "output_type": "stream",
     "text": [
      "['/data4-4tb/kgreathoo/plots_result/50151931_peak_idx_1_type_test3_FP.png']\n",
      "✅ Image: /data4-4tb/kgreathoo/plots_result/50151931_peak_idx_1_type_test3_FP.png\n",
      "🖼️ Title: 50151931 Peak Index 1 Type Test3 Fp\n",
      "✅ Saved combined image: shap_outputs_1_10_new/50151931_peak_idx_1_type_test3_FP.png\n"
     ]
    },
    {
     "name": "stderr",
     "output_type": "stream",
     "text": [
      "Trying to unpickle estimator LabelEncoder from version 0.24.2 when using version 1.0.2. This might lead to breaking code or invalid results. Use at your own risk. For more info please refer to:\n",
      "https://scikit-learn.org/stable/modules/model_persistence.html#security-maintainability-limitations\n",
      "LightGBM binary classifier with TreeExplainer shap values output has changed to a list of ndarray\n"
     ]
    },
    {
     "name": "stdout",
     "output_type": "stream",
     "text": [
      "['/data4-4tb/kgreathoo/plots_result/53650120_peak_idx_10_type_test2_TN.png']\n",
      "✅ Image: /data4-4tb/kgreathoo/plots_result/53650120_peak_idx_10_type_test2_TN.png\n",
      "🖼️ Title: 53650120 Peak Index 10 Type Test2 Tn\n",
      "✅ Saved combined image: shap_outputs_1_10_new/53650120_peak_idx_10_type_test2_TN.png\n"
     ]
    },
    {
     "name": "stderr",
     "output_type": "stream",
     "text": [
      "Trying to unpickle estimator LabelEncoder from version 0.24.2 when using version 1.0.2. This might lead to breaking code or invalid results. Use at your own risk. For more info please refer to:\n",
      "https://scikit-learn.org/stable/modules/model_persistence.html#security-maintainability-limitations\n",
      "LightGBM binary classifier with TreeExplainer shap values output has changed to a list of ndarray\n"
     ]
    },
    {
     "name": "stdout",
     "output_type": "stream",
     "text": [
      "['/data4-4tb/kgreathoo/plots_result/53965464_peak_idx_1_type_test3_TN.png']\n",
      "✅ Image: /data4-4tb/kgreathoo/plots_result/53965464_peak_idx_1_type_test3_TN.png\n",
      "🖼️ Title: 53965464 Peak Index 1 Type Test3 Tn\n",
      "✅ Saved combined image: shap_outputs_1_10_new/53965464_peak_idx_1_type_test3_TN.png\n"
     ]
    },
    {
     "name": "stderr",
     "output_type": "stream",
     "text": [
      "Trying to unpickle estimator LabelEncoder from version 0.24.2 when using version 1.0.2. This might lead to breaking code or invalid results. Use at your own risk. For more info please refer to:\n",
      "https://scikit-learn.org/stable/modules/model_persistence.html#security-maintainability-limitations\n",
      "LightGBM binary classifier with TreeExplainer shap values output has changed to a list of ndarray\n"
     ]
    },
    {
     "name": "stdout",
     "output_type": "stream",
     "text": [
      "['/data4-4tb/kgreathoo/plots_result/54197829_peak_idx_9_type_test3_TN.png']\n",
      "✅ Image: /data4-4tb/kgreathoo/plots_result/54197829_peak_idx_9_type_test3_TN.png\n",
      "🖼️ Title: 54197829 Peak Index 9 Type Test3 Tn\n",
      "✅ Saved combined image: shap_outputs_1_10_new/54197829_peak_idx_9_type_test3_TN.png\n"
     ]
    },
    {
     "name": "stderr",
     "output_type": "stream",
     "text": [
      "Trying to unpickle estimator LabelEncoder from version 0.24.2 when using version 1.0.2. This might lead to breaking code or invalid results. Use at your own risk. For more info please refer to:\n",
      "https://scikit-learn.org/stable/modules/model_persistence.html#security-maintainability-limitations\n",
      "LightGBM binary classifier with TreeExplainer shap values output has changed to a list of ndarray\n"
     ]
    },
    {
     "name": "stdout",
     "output_type": "stream",
     "text": [
      "['/data4-4tb/kgreathoo/plots_result/54197898_peak_idx_1_type_test2_TN.png']\n",
      "✅ Image: /data4-4tb/kgreathoo/plots_result/54197898_peak_idx_1_type_test2_TN.png\n",
      "🖼️ Title: 54197898 Peak Index 1 Type Test2 Tn\n",
      "✅ Saved combined image: shap_outputs_1_10_new/54197898_peak_idx_1_type_test2_TN.png\n"
     ]
    },
    {
     "name": "stderr",
     "output_type": "stream",
     "text": [
      "Trying to unpickle estimator LabelEncoder from version 0.24.2 when using version 1.0.2. This might lead to breaking code or invalid results. Use at your own risk. For more info please refer to:\n",
      "https://scikit-learn.org/stable/modules/model_persistence.html#security-maintainability-limitations\n",
      "LightGBM binary classifier with TreeExplainer shap values output has changed to a list of ndarray\n"
     ]
    },
    {
     "name": "stdout",
     "output_type": "stream",
     "text": [
      "['/data4-4tb/kgreathoo/plots_result/54204626_peak_idx_2_type_test0_FP.png']\n",
      "✅ Image: /data4-4tb/kgreathoo/plots_result/54204626_peak_idx_2_type_test0_FP.png\n",
      "🖼️ Title: 54204626 Peak Index 2 Type Test0 Fp\n",
      "✅ Saved combined image: shap_outputs_1_10_new/54204626_peak_idx_2_type_test0_FP.png\n"
     ]
    },
    {
     "name": "stderr",
     "output_type": "stream",
     "text": [
      "Trying to unpickle estimator LabelEncoder from version 0.24.2 when using version 1.0.2. This might lead to breaking code or invalid results. Use at your own risk. For more info please refer to:\n",
      "https://scikit-learn.org/stable/modules/model_persistence.html#security-maintainability-limitations\n",
      "LightGBM binary classifier with TreeExplainer shap values output has changed to a list of ndarray\n"
     ]
    },
    {
     "name": "stdout",
     "output_type": "stream",
     "text": [
      "['/data4-4tb/kgreathoo/plots_result/54210092_peak_idx_1_type_test4_FP.png']\n",
      "✅ Image: /data4-4tb/kgreathoo/plots_result/54210092_peak_idx_1_type_test4_FP.png\n",
      "🖼️ Title: 54210092 Peak Index 1 Type Test4 Fp\n",
      "✅ Saved combined image: shap_outputs_1_10_new/54210092_peak_idx_1_type_test4_FP.png\n"
     ]
    },
    {
     "name": "stderr",
     "output_type": "stream",
     "text": [
      "Trying to unpickle estimator LabelEncoder from version 0.24.2 when using version 1.0.2. This might lead to breaking code or invalid results. Use at your own risk. For more info please refer to:\n",
      "https://scikit-learn.org/stable/modules/model_persistence.html#security-maintainability-limitations\n",
      "LightGBM binary classifier with TreeExplainer shap values output has changed to a list of ndarray\n"
     ]
    },
    {
     "name": "stdout",
     "output_type": "stream",
     "text": [
      "['/data4-4tb/kgreathoo/plots_result/54238301_peak_idx_4_type_test3_FP.png']\n",
      "✅ Image: /data4-4tb/kgreathoo/plots_result/54238301_peak_idx_4_type_test3_FP.png\n",
      "🖼️ Title: 54238301 Peak Index 4 Type Test3 Fp\n",
      "✅ Saved combined image: shap_outputs_1_10_new/54238301_peak_idx_4_type_test3_FP.png\n"
     ]
    },
    {
     "name": "stderr",
     "output_type": "stream",
     "text": [
      "Trying to unpickle estimator LabelEncoder from version 0.24.2 when using version 1.0.2. This might lead to breaking code or invalid results. Use at your own risk. For more info please refer to:\n",
      "https://scikit-learn.org/stable/modules/model_persistence.html#security-maintainability-limitations\n",
      "LightGBM binary classifier with TreeExplainer shap values output has changed to a list of ndarray\n"
     ]
    },
    {
     "name": "stdout",
     "output_type": "stream",
     "text": [
      "['/data4-4tb/kgreathoo/plots_result/38900161_peak_idx_1_type_test0_TN.png']\n",
      "✅ Image: /data4-4tb/kgreathoo/plots_result/38900161_peak_idx_1_type_test0_TN.png\n",
      "🖼️ Title: 38900161 Peak Index 1 Type Test0 Tn\n",
      "✅ Saved combined image: shap_outputs_1_10_new/38900161_peak_idx_1_type_test0_TN.png\n"
     ]
    },
    {
     "name": "stderr",
     "output_type": "stream",
     "text": [
      "Trying to unpickle estimator LabelEncoder from version 0.24.2 when using version 1.0.2. This might lead to breaking code or invalid results. Use at your own risk. For more info please refer to:\n",
      "https://scikit-learn.org/stable/modules/model_persistence.html#security-maintainability-limitations\n",
      "LightGBM binary classifier with TreeExplainer shap values output has changed to a list of ndarray\n"
     ]
    },
    {
     "name": "stdout",
     "output_type": "stream",
     "text": [
      "['/data4-4tb/kgreathoo/plots_result/40029104_peak_idx_2_type_test2_TN.png']\n",
      "✅ Image: /data4-4tb/kgreathoo/plots_result/40029104_peak_idx_2_type_test2_TN.png\n",
      "🖼️ Title: 40029104 Peak Index 2 Type Test2 Tn\n",
      "✅ Saved combined image: shap_outputs_1_10_new/40029104_peak_idx_2_type_test2_TN.png\n"
     ]
    },
    {
     "name": "stderr",
     "output_type": "stream",
     "text": [
      "Trying to unpickle estimator LabelEncoder from version 0.24.2 when using version 1.0.2. This might lead to breaking code or invalid results. Use at your own risk. For more info please refer to:\n",
      "https://scikit-learn.org/stable/modules/model_persistence.html#security-maintainability-limitations\n",
      "LightGBM binary classifier with TreeExplainer shap values output has changed to a list of ndarray\n"
     ]
    },
    {
     "name": "stdout",
     "output_type": "stream",
     "text": [
      "['/data4-4tb/kgreathoo/plots_result/40067405_peak_idx_1_type_test2_FP.png']\n",
      "✅ Image: /data4-4tb/kgreathoo/plots_result/40067405_peak_idx_1_type_test2_FP.png\n",
      "🖼️ Title: 40067405 Peak Index 1 Type Test2 Fp\n",
      "✅ Saved combined image: shap_outputs_1_10_new/40067405_peak_idx_1_type_test2_FP.png\n"
     ]
    },
    {
     "name": "stderr",
     "output_type": "stream",
     "text": [
      "Trying to unpickle estimator LabelEncoder from version 0.24.2 when using version 1.0.2. This might lead to breaking code or invalid results. Use at your own risk. For more info please refer to:\n",
      "https://scikit-learn.org/stable/modules/model_persistence.html#security-maintainability-limitations\n",
      "LightGBM binary classifier with TreeExplainer shap values output has changed to a list of ndarray\n"
     ]
    },
    {
     "name": "stdout",
     "output_type": "stream",
     "text": [
      "['/data4-4tb/kgreathoo/plots_result/40104682_peak_idx_9_type_test0_TN.png']\n",
      "✅ Image: /data4-4tb/kgreathoo/plots_result/40104682_peak_idx_9_type_test0_TN.png\n",
      "🖼️ Title: 40104682 Peak Index 9 Type Test0 Tn\n",
      "✅ Saved combined image: shap_outputs_1_10_new/40104682_peak_idx_9_type_test0_TN.png\n"
     ]
    },
    {
     "name": "stderr",
     "output_type": "stream",
     "text": [
      "Trying to unpickle estimator LabelEncoder from version 0.24.2 when using version 1.0.2. This might lead to breaking code or invalid results. Use at your own risk. For more info please refer to:\n",
      "https://scikit-learn.org/stable/modules/model_persistence.html#security-maintainability-limitations\n",
      "LightGBM binary classifier with TreeExplainer shap values output has changed to a list of ndarray\n"
     ]
    },
    {
     "name": "stdout",
     "output_type": "stream",
     "text": [
      "['/data4-4tb/kgreathoo/plots_result/41110780_peak_idx_1_type_test0_TN.png']\n",
      "✅ Image: /data4-4tb/kgreathoo/plots_result/41110780_peak_idx_1_type_test0_TN.png\n",
      "🖼️ Title: 41110780 Peak Index 1 Type Test0 Tn\n",
      "✅ Saved combined image: shap_outputs_1_10_new/41110780_peak_idx_1_type_test0_TN.png\n"
     ]
    },
    {
     "name": "stderr",
     "output_type": "stream",
     "text": [
      "Trying to unpickle estimator LabelEncoder from version 0.24.2 when using version 1.0.2. This might lead to breaking code or invalid results. Use at your own risk. For more info please refer to:\n",
      "https://scikit-learn.org/stable/modules/model_persistence.html#security-maintainability-limitations\n",
      "LightGBM binary classifier with TreeExplainer shap values output has changed to a list of ndarray\n"
     ]
    },
    {
     "name": "stdout",
     "output_type": "stream",
     "text": [
      "['/data4-4tb/kgreathoo/plots_result/42004905_peak_idx_10_type_test4_FP.png']\n",
      "✅ Image: /data4-4tb/kgreathoo/plots_result/42004905_peak_idx_10_type_test4_FP.png\n",
      "🖼️ Title: 42004905 Peak Index 10 Type Test4 Fp\n",
      "✅ Saved combined image: shap_outputs_1_10_new/42004905_peak_idx_10_type_test4_FP.png\n"
     ]
    },
    {
     "name": "stderr",
     "output_type": "stream",
     "text": [
      "Trying to unpickle estimator LabelEncoder from version 0.24.2 when using version 1.0.2. This might lead to breaking code or invalid results. Use at your own risk. For more info please refer to:\n",
      "https://scikit-learn.org/stable/modules/model_persistence.html#security-maintainability-limitations\n",
      "LightGBM binary classifier with TreeExplainer shap values output has changed to a list of ndarray\n"
     ]
    },
    {
     "name": "stdout",
     "output_type": "stream",
     "text": [
      "['/data4-4tb/kgreathoo/plots_result/44130155_peak_idx_5_type_test1_FP.png']\n",
      "✅ Image: /data4-4tb/kgreathoo/plots_result/44130155_peak_idx_5_type_test1_FP.png\n",
      "🖼️ Title: 44130155 Peak Index 5 Type Test1 Fp\n",
      "✅ Saved combined image: shap_outputs_1_10_new/44130155_peak_idx_5_type_test1_FP.png\n"
     ]
    },
    {
     "name": "stderr",
     "output_type": "stream",
     "text": [
      "Trying to unpickle estimator LabelEncoder from version 0.24.2 when using version 1.0.2. This might lead to breaking code or invalid results. Use at your own risk. For more info please refer to:\n",
      "https://scikit-learn.org/stable/modules/model_persistence.html#security-maintainability-limitations\n",
      "LightGBM binary classifier with TreeExplainer shap values output has changed to a list of ndarray\n"
     ]
    },
    {
     "name": "stdout",
     "output_type": "stream",
     "text": [
      "['/data4-4tb/kgreathoo/plots_result/45108464_peak_idx_10_type_test3_TN.png']\n",
      "✅ Image: /data4-4tb/kgreathoo/plots_result/45108464_peak_idx_10_type_test3_TN.png\n",
      "🖼️ Title: 45108464 Peak Index 10 Type Test3 Tn\n",
      "✅ Saved combined image: shap_outputs_1_10_new/45108464_peak_idx_10_type_test3_TN.png\n"
     ]
    },
    {
     "name": "stderr",
     "output_type": "stream",
     "text": [
      "Trying to unpickle estimator LabelEncoder from version 0.24.2 when using version 1.0.2. This might lead to breaking code or invalid results. Use at your own risk. For more info please refer to:\n",
      "https://scikit-learn.org/stable/modules/model_persistence.html#security-maintainability-limitations\n",
      "LightGBM binary classifier with TreeExplainer shap values output has changed to a list of ndarray\n"
     ]
    },
    {
     "name": "stdout",
     "output_type": "stream",
     "text": [
      "['/data4-4tb/kgreathoo/plots_result/46023027_peak_idx_1_type_test3_TN.png']\n",
      "✅ Image: /data4-4tb/kgreathoo/plots_result/46023027_peak_idx_1_type_test3_TN.png\n",
      "🖼️ Title: 46023027 Peak Index 1 Type Test3 Tn\n",
      "✅ Saved combined image: shap_outputs_1_10_new/46023027_peak_idx_1_type_test3_TN.png\n"
     ]
    },
    {
     "name": "stderr",
     "output_type": "stream",
     "text": [
      "Trying to unpickle estimator LabelEncoder from version 0.24.2 when using version 1.0.2. This might lead to breaking code or invalid results. Use at your own risk. For more info please refer to:\n",
      "https://scikit-learn.org/stable/modules/model_persistence.html#security-maintainability-limitations\n",
      "LightGBM binary classifier with TreeExplainer shap values output has changed to a list of ndarray\n"
     ]
    },
    {
     "name": "stdout",
     "output_type": "stream",
     "text": [
      "['/data4-4tb/kgreathoo/plots_result/51269310_peak_idx_9_type_test0_FP.png']\n",
      "✅ Image: /data4-4tb/kgreathoo/plots_result/51269310_peak_idx_9_type_test0_FP.png\n",
      "🖼️ Title: 51269310 Peak Index 9 Type Test0 Fp\n",
      "✅ Saved combined image: shap_outputs_1_10_new/51269310_peak_idx_9_type_test0_FP.png\n"
     ]
    },
    {
     "name": "stderr",
     "output_type": "stream",
     "text": [
      "Trying to unpickle estimator LabelEncoder from version 0.24.2 when using version 1.0.2. This might lead to breaking code or invalid results. Use at your own risk. For more info please refer to:\n",
      "https://scikit-learn.org/stable/modules/model_persistence.html#security-maintainability-limitations\n",
      "LightGBM binary classifier with TreeExplainer shap values output has changed to a list of ndarray\n"
     ]
    },
    {
     "name": "stdout",
     "output_type": "stream",
     "text": [
      "['/data4-4tb/kgreathoo/plots_result/52591854_peak_idx_9_type_test3_TN.png']\n",
      "✅ Image: /data4-4tb/kgreathoo/plots_result/52591854_peak_idx_9_type_test3_TN.png\n",
      "🖼️ Title: 52591854 Peak Index 9 Type Test3 Tn\n",
      "✅ Saved combined image: shap_outputs_1_10_new/52591854_peak_idx_9_type_test3_TN.png\n"
     ]
    },
    {
     "name": "stderr",
     "output_type": "stream",
     "text": [
      "Trying to unpickle estimator LabelEncoder from version 0.24.2 when using version 1.0.2. This might lead to breaking code or invalid results. Use at your own risk. For more info please refer to:\n",
      "https://scikit-learn.org/stable/modules/model_persistence.html#security-maintainability-limitations\n",
      "LightGBM binary classifier with TreeExplainer shap values output has changed to a list of ndarray\n"
     ]
    },
    {
     "name": "stdout",
     "output_type": "stream",
     "text": [
      "['/data4-4tb/kgreathoo/plots_result/52728428_peak_idx_1_type_test3_TN.png']\n",
      "✅ Image: /data4-4tb/kgreathoo/plots_result/52728428_peak_idx_1_type_test3_TN.png\n",
      "🖼️ Title: 52728428 Peak Index 1 Type Test3 Tn\n",
      "✅ Saved combined image: shap_outputs_1_10_new/52728428_peak_idx_1_type_test3_TN.png\n"
     ]
    },
    {
     "name": "stderr",
     "output_type": "stream",
     "text": [
      "Trying to unpickle estimator LabelEncoder from version 0.24.2 when using version 1.0.2. This might lead to breaking code or invalid results. Use at your own risk. For more info please refer to:\n",
      "https://scikit-learn.org/stable/modules/model_persistence.html#security-maintainability-limitations\n",
      "LightGBM binary classifier with TreeExplainer shap values output has changed to a list of ndarray\n"
     ]
    },
    {
     "name": "stdout",
     "output_type": "stream",
     "text": [
      "['/data4-4tb/kgreathoo/plots_result/53021653_peak_idx_9_type_test2_TN.png']\n",
      "✅ Image: /data4-4tb/kgreathoo/plots_result/53021653_peak_idx_9_type_test2_TN.png\n",
      "🖼️ Title: 53021653 Peak Index 9 Type Test2 Tn\n",
      "✅ Saved combined image: shap_outputs_1_10_new/53021653_peak_idx_9_type_test2_TN.png\n"
     ]
    },
    {
     "name": "stderr",
     "output_type": "stream",
     "text": [
      "Trying to unpickle estimator LabelEncoder from version 0.24.2 when using version 1.0.2. This might lead to breaking code or invalid results. Use at your own risk. For more info please refer to:\n",
      "https://scikit-learn.org/stable/modules/model_persistence.html#security-maintainability-limitations\n",
      "LightGBM binary classifier with TreeExplainer shap values output has changed to a list of ndarray\n"
     ]
    },
    {
     "name": "stdout",
     "output_type": "stream",
     "text": [
      "['/data4-4tb/kgreathoo/plots_result/53338968_peak_idx_1_type_test2_FP.png']\n",
      "✅ Image: /data4-4tb/kgreathoo/plots_result/53338968_peak_idx_1_type_test2_FP.png\n",
      "🖼️ Title: 53338968 Peak Index 1 Type Test2 Fp\n",
      "✅ Saved combined image: shap_outputs_1_10_new/53338968_peak_idx_1_type_test2_FP.png\n"
     ]
    },
    {
     "name": "stderr",
     "output_type": "stream",
     "text": [
      "Trying to unpickle estimator LabelEncoder from version 0.24.2 when using version 1.0.2. This might lead to breaking code or invalid results. Use at your own risk. For more info please refer to:\n",
      "https://scikit-learn.org/stable/modules/model_persistence.html#security-maintainability-limitations\n",
      "LightGBM binary classifier with TreeExplainer shap values output has changed to a list of ndarray\n"
     ]
    },
    {
     "name": "stdout",
     "output_type": "stream",
     "text": [
      "['/data4-4tb/kgreathoo/plots_result/53893982_peak_idx_1_type_test3_TN.png']\n",
      "✅ Image: /data4-4tb/kgreathoo/plots_result/53893982_peak_idx_1_type_test3_TN.png\n",
      "🖼️ Title: 53893982 Peak Index 1 Type Test3 Tn\n",
      "✅ Saved combined image: shap_outputs_1_10_new/53893982_peak_idx_1_type_test3_TN.png\n"
     ]
    },
    {
     "name": "stderr",
     "output_type": "stream",
     "text": [
      "Trying to unpickle estimator LabelEncoder from version 0.24.2 when using version 1.0.2. This might lead to breaking code or invalid results. Use at your own risk. For more info please refer to:\n",
      "https://scikit-learn.org/stable/modules/model_persistence.html#security-maintainability-limitations\n",
      "LightGBM binary classifier with TreeExplainer shap values output has changed to a list of ndarray\n"
     ]
    },
    {
     "name": "stdout",
     "output_type": "stream",
     "text": [
      "['/data4-4tb/kgreathoo/plots_result/54066067_peak_idx_1_type_test0_TN.png']\n",
      "✅ Image: /data4-4tb/kgreathoo/plots_result/54066067_peak_idx_1_type_test0_TN.png\n",
      "🖼️ Title: 54066067 Peak Index 1 Type Test0 Tn\n",
      "✅ Saved combined image: shap_outputs_1_10_new/54066067_peak_idx_1_type_test0_TN.png\n"
     ]
    },
    {
     "name": "stderr",
     "output_type": "stream",
     "text": [
      "Trying to unpickle estimator LabelEncoder from version 0.24.2 when using version 1.0.2. This might lead to breaking code or invalid results. Use at your own risk. For more info please refer to:\n",
      "https://scikit-learn.org/stable/modules/model_persistence.html#security-maintainability-limitations\n",
      "LightGBM binary classifier with TreeExplainer shap values output has changed to a list of ndarray\n"
     ]
    },
    {
     "name": "stdout",
     "output_type": "stream",
     "text": [
      "['/data4-4tb/kgreathoo/plots_result/54104142_peak_idx_1_type_test0_TN.png']\n",
      "✅ Image: /data4-4tb/kgreathoo/plots_result/54104142_peak_idx_1_type_test0_TN.png\n",
      "🖼️ Title: 54104142 Peak Index 1 Type Test0 Tn\n",
      "✅ Saved combined image: shap_outputs_1_10_new/54104142_peak_idx_1_type_test0_TN.png\n"
     ]
    },
    {
     "name": "stderr",
     "output_type": "stream",
     "text": [
      "Trying to unpickle estimator LabelEncoder from version 0.24.2 when using version 1.0.2. This might lead to breaking code or invalid results. Use at your own risk. For more info please refer to:\n",
      "https://scikit-learn.org/stable/modules/model_persistence.html#security-maintainability-limitations\n",
      "LightGBM binary classifier with TreeExplainer shap values output has changed to a list of ndarray\n"
     ]
    },
    {
     "name": "stdout",
     "output_type": "stream",
     "text": [
      "['/data4-4tb/kgreathoo/plots_result/54209927_peak_idx_2_type_test1_FP.png']\n",
      "✅ Image: /data4-4tb/kgreathoo/plots_result/54209927_peak_idx_2_type_test1_FP.png\n",
      "🖼️ Title: 54209927 Peak Index 2 Type Test1 Fp\n",
      "✅ Saved combined image: shap_outputs_1_10_new/54209927_peak_idx_2_type_test1_FP.png\n"
     ]
    },
    {
     "name": "stderr",
     "output_type": "stream",
     "text": [
      "Trying to unpickle estimator LabelEncoder from version 0.24.2 when using version 1.0.2. This might lead to breaking code or invalid results. Use at your own risk. For more info please refer to:\n",
      "https://scikit-learn.org/stable/modules/model_persistence.html#security-maintainability-limitations\n",
      "LightGBM binary classifier with TreeExplainer shap values output has changed to a list of ndarray\n"
     ]
    },
    {
     "name": "stdout",
     "output_type": "stream",
     "text": [
      "['/data4-4tb/kgreathoo/plots_result/54231068_peak_idx_2_type_test1_FP.png']\n",
      "✅ Image: /data4-4tb/kgreathoo/plots_result/54231068_peak_idx_2_type_test1_FP.png\n",
      "🖼️ Title: 54231068 Peak Index 2 Type Test1 Fp\n",
      "✅ Saved combined image: shap_outputs_1_10_new/54231068_peak_idx_2_type_test1_FP.png\n"
     ]
    },
    {
     "name": "stderr",
     "output_type": "stream",
     "text": [
      "Trying to unpickle estimator LabelEncoder from version 0.24.2 when using version 1.0.2. This might lead to breaking code or invalid results. Use at your own risk. For more info please refer to:\n",
      "https://scikit-learn.org/stable/modules/model_persistence.html#security-maintainability-limitations\n",
      "LightGBM binary classifier with TreeExplainer shap values output has changed to a list of ndarray\n"
     ]
    },
    {
     "name": "stdout",
     "output_type": "stream",
     "text": [
      "['/data4-4tb/kgreathoo/plots_result/54270787_peak_idx_2_type_test3_FP.png']\n",
      "✅ Image: /data4-4tb/kgreathoo/plots_result/54270787_peak_idx_2_type_test3_FP.png\n",
      "🖼️ Title: 54270787 Peak Index 2 Type Test3 Fp\n",
      "✅ Saved combined image: shap_outputs_1_10_new/54270787_peak_idx_2_type_test3_FP.png\n"
     ]
    },
    {
     "name": "stderr",
     "output_type": "stream",
     "text": [
      "Trying to unpickle estimator LabelEncoder from version 0.24.2 when using version 1.0.2. This might lead to breaking code or invalid results. Use at your own risk. For more info please refer to:\n",
      "https://scikit-learn.org/stable/modules/model_persistence.html#security-maintainability-limitations\n",
      "LightGBM binary classifier with TreeExplainer shap values output has changed to a list of ndarray\n"
     ]
    },
    {
     "name": "stdout",
     "output_type": "stream",
     "text": [
      "['/data4-4tb/kgreathoo/plots_result/54279570_peak_idx_1_type_test0_TN.png']\n",
      "✅ Image: /data4-4tb/kgreathoo/plots_result/54279570_peak_idx_1_type_test0_TN.png\n",
      "🖼️ Title: 54279570 Peak Index 1 Type Test0 Tn\n",
      "✅ Saved combined image: shap_outputs_1_10_new/54279570_peak_idx_1_type_test0_TN.png\n"
     ]
    },
    {
     "name": "stderr",
     "output_type": "stream",
     "text": [
      "Trying to unpickle estimator LabelEncoder from version 0.24.2 when using version 1.0.2. This might lead to breaking code or invalid results. Use at your own risk. For more info please refer to:\n",
      "https://scikit-learn.org/stable/modules/model_persistence.html#security-maintainability-limitations\n",
      "LightGBM binary classifier with TreeExplainer shap values output has changed to a list of ndarray\n"
     ]
    },
    {
     "name": "stdout",
     "output_type": "stream",
     "text": [
      "['/data4-4tb/kgreathoo/plots_result/54283571_peak_idx_1_type_test3_TN.png']\n",
      "✅ Image: /data4-4tb/kgreathoo/plots_result/54283571_peak_idx_1_type_test3_TN.png\n",
      "🖼️ Title: 54283571 Peak Index 1 Type Test3 Tn\n",
      "✅ Saved combined image: shap_outputs_1_10_new/54283571_peak_idx_1_type_test3_TN.png\n"
     ]
    },
    {
     "name": "stderr",
     "output_type": "stream",
     "text": [
      "Trying to unpickle estimator LabelEncoder from version 0.24.2 when using version 1.0.2. This might lead to breaking code or invalid results. Use at your own risk. For more info please refer to:\n",
      "https://scikit-learn.org/stable/modules/model_persistence.html#security-maintainability-limitations\n",
      "LightGBM binary classifier with TreeExplainer shap values output has changed to a list of ndarray\n"
     ]
    },
    {
     "name": "stdout",
     "output_type": "stream",
     "text": [
      "['/data4-4tb/kgreathoo/plots_result/38022581_peak_idx_9_type_test3_TN.png']\n",
      "✅ Image: /data4-4tb/kgreathoo/plots_result/38022581_peak_idx_9_type_test3_TN.png\n",
      "🖼️ Title: 38022581 Peak Index 9 Type Test3 Tn\n",
      "✅ Saved combined image: shap_outputs_1_10_new/38022581_peak_idx_9_type_test3_TN.png\n"
     ]
    },
    {
     "name": "stderr",
     "output_type": "stream",
     "text": [
      "Trying to unpickle estimator LabelEncoder from version 0.24.2 when using version 1.0.2. This might lead to breaking code or invalid results. Use at your own risk. For more info please refer to:\n",
      "https://scikit-learn.org/stable/modules/model_persistence.html#security-maintainability-limitations\n",
      "LightGBM binary classifier with TreeExplainer shap values output has changed to a list of ndarray\n"
     ]
    },
    {
     "name": "stdout",
     "output_type": "stream",
     "text": [
      "['/data4-4tb/kgreathoo/plots_result/38053812_peak_idx_1_type_test0_FP.png']\n",
      "✅ Image: /data4-4tb/kgreathoo/plots_result/38053812_peak_idx_1_type_test0_FP.png\n",
      "🖼️ Title: 38053812 Peak Index 1 Type Test0 Fp\n",
      "✅ Saved combined image: shap_outputs_1_10_new/38053812_peak_idx_1_type_test0_FP.png\n"
     ]
    },
    {
     "name": "stderr",
     "output_type": "stream",
     "text": [
      "Trying to unpickle estimator LabelEncoder from version 0.24.2 when using version 1.0.2. This might lead to breaking code or invalid results. Use at your own risk. For more info please refer to:\n",
      "https://scikit-learn.org/stable/modules/model_persistence.html#security-maintainability-limitations\n",
      "LightGBM binary classifier with TreeExplainer shap values output has changed to a list of ndarray\n"
     ]
    },
    {
     "name": "stdout",
     "output_type": "stream",
     "text": [
      "['/data4-4tb/kgreathoo/plots_result/38089950_peak_idx_9_type_test3_TN.png']\n",
      "✅ Image: /data4-4tb/kgreathoo/plots_result/38089950_peak_idx_9_type_test3_TN.png\n",
      "🖼️ Title: 38089950 Peak Index 9 Type Test3 Tn\n",
      "✅ Saved combined image: shap_outputs_1_10_new/38089950_peak_idx_9_type_test3_TN.png\n"
     ]
    },
    {
     "name": "stderr",
     "output_type": "stream",
     "text": [
      "Trying to unpickle estimator LabelEncoder from version 0.24.2 when using version 1.0.2. This might lead to breaking code or invalid results. Use at your own risk. For more info please refer to:\n",
      "https://scikit-learn.org/stable/modules/model_persistence.html#security-maintainability-limitations\n",
      "LightGBM binary classifier with TreeExplainer shap values output has changed to a list of ndarray\n"
     ]
    },
    {
     "name": "stdout",
     "output_type": "stream",
     "text": [
      "['/data4-4tb/kgreathoo/plots_result/39061001_peak_idx_1_type_test0_TN.png']\n",
      "✅ Image: /data4-4tb/kgreathoo/plots_result/39061001_peak_idx_1_type_test0_TN.png\n",
      "🖼️ Title: 39061001 Peak Index 1 Type Test0 Tn\n",
      "✅ Saved combined image: shap_outputs_1_10_new/39061001_peak_idx_1_type_test0_TN.png\n"
     ]
    },
    {
     "name": "stderr",
     "output_type": "stream",
     "text": [
      "Trying to unpickle estimator LabelEncoder from version 0.24.2 when using version 1.0.2. This might lead to breaking code or invalid results. Use at your own risk. For more info please refer to:\n",
      "https://scikit-learn.org/stable/modules/model_persistence.html#security-maintainability-limitations\n",
      "LightGBM binary classifier with TreeExplainer shap values output has changed to a list of ndarray\n"
     ]
    },
    {
     "name": "stdout",
     "output_type": "stream",
     "text": [
      "['/data4-4tb/kgreathoo/plots_result/39100003_peak_idx_1_type_test0_TN.png']\n",
      "✅ Image: /data4-4tb/kgreathoo/plots_result/39100003_peak_idx_1_type_test0_TN.png\n",
      "🖼️ Title: 39100003 Peak Index 1 Type Test0 Tn\n",
      "✅ Saved combined image: shap_outputs_1_10_new/39100003_peak_idx_1_type_test0_TN.png\n"
     ]
    },
    {
     "name": "stderr",
     "output_type": "stream",
     "text": [
      "Trying to unpickle estimator LabelEncoder from version 0.24.2 when using version 1.0.2. This might lead to breaking code or invalid results. Use at your own risk. For more info please refer to:\n",
      "https://scikit-learn.org/stable/modules/model_persistence.html#security-maintainability-limitations\n",
      "LightGBM binary classifier with TreeExplainer shap values output has changed to a list of ndarray\n"
     ]
    },
    {
     "name": "stdout",
     "output_type": "stream",
     "text": [
      "['/data4-4tb/kgreathoo/plots_result/40151265_peak_idx_1_type_test4_FP.png']\n",
      "✅ Image: /data4-4tb/kgreathoo/plots_result/40151265_peak_idx_1_type_test4_FP.png\n",
      "🖼️ Title: 40151265 Peak Index 1 Type Test4 Fp\n",
      "✅ Saved combined image: shap_outputs_1_10_new/40151265_peak_idx_1_type_test4_FP.png\n"
     ]
    },
    {
     "name": "stderr",
     "output_type": "stream",
     "text": [
      "Trying to unpickle estimator LabelEncoder from version 0.24.2 when using version 1.0.2. This might lead to breaking code or invalid results. Use at your own risk. For more info please refer to:\n",
      "https://scikit-learn.org/stable/modules/model_persistence.html#security-maintainability-limitations\n",
      "LightGBM binary classifier with TreeExplainer shap values output has changed to a list of ndarray\n"
     ]
    },
    {
     "name": "stdout",
     "output_type": "stream",
     "text": [
      "['/data4-4tb/kgreathoo/plots_result/42005233_peak_idx_2_type_test0_FP.png']\n",
      "✅ Image: /data4-4tb/kgreathoo/plots_result/42005233_peak_idx_2_type_test0_FP.png\n",
      "🖼️ Title: 42005233 Peak Index 2 Type Test0 Fp\n",
      "✅ Saved combined image: shap_outputs_1_10_new/42005233_peak_idx_2_type_test0_FP.png\n"
     ]
    },
    {
     "name": "stderr",
     "output_type": "stream",
     "text": [
      "Trying to unpickle estimator LabelEncoder from version 0.24.2 when using version 1.0.2. This might lead to breaking code or invalid results. Use at your own risk. For more info please refer to:\n",
      "https://scikit-learn.org/stable/modules/model_persistence.html#security-maintainability-limitations\n",
      "LightGBM binary classifier with TreeExplainer shap values output has changed to a list of ndarray\n"
     ]
    },
    {
     "name": "stdout",
     "output_type": "stream",
     "text": [
      "['/data4-4tb/kgreathoo/plots_result/42054989_peak_idx_10_type_test4_FP.png']\n",
      "✅ Image: /data4-4tb/kgreathoo/plots_result/42054989_peak_idx_10_type_test4_FP.png\n",
      "🖼️ Title: 42054989 Peak Index 10 Type Test4 Fp\n",
      "✅ Saved combined image: shap_outputs_1_10_new/42054989_peak_idx_10_type_test4_FP.png\n"
     ]
    },
    {
     "name": "stderr",
     "output_type": "stream",
     "text": [
      "Trying to unpickle estimator LabelEncoder from version 0.24.2 when using version 1.0.2. This might lead to breaking code or invalid results. Use at your own risk. For more info please refer to:\n",
      "https://scikit-learn.org/stable/modules/model_persistence.html#security-maintainability-limitations\n",
      "LightGBM binary classifier with TreeExplainer shap values output has changed to a list of ndarray\n"
     ]
    },
    {
     "name": "stdout",
     "output_type": "stream",
     "text": [
      "['/data4-4tb/kgreathoo/plots_result/42106198_peak_idx_1_type_test2_TN.png']\n",
      "✅ Image: /data4-4tb/kgreathoo/plots_result/42106198_peak_idx_1_type_test2_TN.png\n",
      "🖼️ Title: 42106198 Peak Index 1 Type Test2 Tn\n",
      "✅ Saved combined image: shap_outputs_1_10_new/42106198_peak_idx_1_type_test2_TN.png\n"
     ]
    },
    {
     "name": "stderr",
     "output_type": "stream",
     "text": [
      "Trying to unpickle estimator LabelEncoder from version 0.24.2 when using version 1.0.2. This might lead to breaking code or invalid results. Use at your own risk. For more info please refer to:\n",
      "https://scikit-learn.org/stable/modules/model_persistence.html#security-maintainability-limitations\n",
      "LightGBM binary classifier with TreeExplainer shap values output has changed to a list of ndarray\n"
     ]
    },
    {
     "name": "stdout",
     "output_type": "stream",
     "text": [
      "['/data4-4tb/kgreathoo/plots_result/42148845_peak_idx_1_type_test4_TN.png']\n",
      "✅ Image: /data4-4tb/kgreathoo/plots_result/42148845_peak_idx_1_type_test4_TN.png\n",
      "🖼️ Title: 42148845 Peak Index 1 Type Test4 Tn\n",
      "✅ Saved combined image: shap_outputs_1_10_new/42148845_peak_idx_1_type_test4_TN.png\n"
     ]
    },
    {
     "name": "stderr",
     "output_type": "stream",
     "text": [
      "Trying to unpickle estimator LabelEncoder from version 0.24.2 when using version 1.0.2. This might lead to breaking code or invalid results. Use at your own risk. For more info please refer to:\n",
      "https://scikit-learn.org/stable/modules/model_persistence.html#security-maintainability-limitations\n",
      "LightGBM binary classifier with TreeExplainer shap values output has changed to a list of ndarray\n"
     ]
    },
    {
     "name": "stdout",
     "output_type": "stream",
     "text": [
      "['/data4-4tb/kgreathoo/plots_result/44083207_peak_idx_1_type_test3_TN.png']\n",
      "✅ Image: /data4-4tb/kgreathoo/plots_result/44083207_peak_idx_1_type_test3_TN.png\n",
      "🖼️ Title: 44083207 Peak Index 1 Type Test3 Tn\n",
      "✅ Saved combined image: shap_outputs_1_10_new/44083207_peak_idx_1_type_test3_TN.png\n"
     ]
    },
    {
     "name": "stderr",
     "output_type": "stream",
     "text": [
      "Trying to unpickle estimator LabelEncoder from version 0.24.2 when using version 1.0.2. This might lead to breaking code or invalid results. Use at your own risk. For more info please refer to:\n",
      "https://scikit-learn.org/stable/modules/model_persistence.html#security-maintainability-limitations\n",
      "LightGBM binary classifier with TreeExplainer shap values output has changed to a list of ndarray\n"
     ]
    },
    {
     "name": "stdout",
     "output_type": "stream",
     "text": [
      "['/data4-4tb/kgreathoo/plots_result/45072773_peak_idx_10_type_test2_TN.png']\n",
      "✅ Image: /data4-4tb/kgreathoo/plots_result/45072773_peak_idx_10_type_test2_TN.png\n",
      "🖼️ Title: 45072773 Peak Index 10 Type Test2 Tn\n",
      "✅ Saved combined image: shap_outputs_1_10_new/45072773_peak_idx_10_type_test2_TN.png\n"
     ]
    },
    {
     "name": "stderr",
     "output_type": "stream",
     "text": [
      "Trying to unpickle estimator LabelEncoder from version 0.24.2 when using version 1.0.2. This might lead to breaking code or invalid results. Use at your own risk. For more info please refer to:\n",
      "https://scikit-learn.org/stable/modules/model_persistence.html#security-maintainability-limitations\n",
      "LightGBM binary classifier with TreeExplainer shap values output has changed to a list of ndarray\n"
     ]
    },
    {
     "name": "stdout",
     "output_type": "stream",
     "text": [
      "['/data4-4tb/kgreathoo/plots_result/45502443_peak_idx_9_type_test2_TN.png']\n",
      "✅ Image: /data4-4tb/kgreathoo/plots_result/45502443_peak_idx_9_type_test2_TN.png\n",
      "🖼️ Title: 45502443 Peak Index 9 Type Test2 Tn\n",
      "✅ Saved combined image: shap_outputs_1_10_new/45502443_peak_idx_9_type_test2_TN.png\n"
     ]
    },
    {
     "name": "stderr",
     "output_type": "stream",
     "text": [
      "Trying to unpickle estimator LabelEncoder from version 0.24.2 when using version 1.0.2. This might lead to breaking code or invalid results. Use at your own risk. For more info please refer to:\n",
      "https://scikit-learn.org/stable/modules/model_persistence.html#security-maintainability-limitations\n",
      "LightGBM binary classifier with TreeExplainer shap values output has changed to a list of ndarray\n"
     ]
    },
    {
     "name": "stdout",
     "output_type": "stream",
     "text": [
      "['/data4-4tb/kgreathoo/plots_result/47138521_peak_idx_10_type_test4_FP.png']\n",
      "✅ Image: /data4-4tb/kgreathoo/plots_result/47138521_peak_idx_10_type_test4_FP.png\n",
      "🖼️ Title: 47138521 Peak Index 10 Type Test4 Fp\n",
      "✅ Saved combined image: shap_outputs_1_10_new/47138521_peak_idx_10_type_test4_FP.png\n"
     ]
    },
    {
     "name": "stderr",
     "output_type": "stream",
     "text": [
      "Trying to unpickle estimator LabelEncoder from version 0.24.2 when using version 1.0.2. This might lead to breaking code or invalid results. Use at your own risk. For more info please refer to:\n",
      "https://scikit-learn.org/stable/modules/model_persistence.html#security-maintainability-limitations\n",
      "LightGBM binary classifier with TreeExplainer shap values output has changed to a list of ndarray\n"
     ]
    },
    {
     "name": "stdout",
     "output_type": "stream",
     "text": [
      "['/data4-4tb/kgreathoo/plots_result/50157980_peak_idx_1_type_test0_TN.png']\n",
      "✅ Image: /data4-4tb/kgreathoo/plots_result/50157980_peak_idx_1_type_test0_TN.png\n",
      "🖼️ Title: 50157980 Peak Index 1 Type Test0 Tn\n",
      "✅ Saved combined image: shap_outputs_1_10_new/50157980_peak_idx_1_type_test0_TN.png\n"
     ]
    },
    {
     "name": "stderr",
     "output_type": "stream",
     "text": [
      "Trying to unpickle estimator LabelEncoder from version 0.24.2 when using version 1.0.2. This might lead to breaking code or invalid results. Use at your own risk. For more info please refer to:\n",
      "https://scikit-learn.org/stable/modules/model_persistence.html#security-maintainability-limitations\n",
      "LightGBM binary classifier with TreeExplainer shap values output has changed to a list of ndarray\n"
     ]
    },
    {
     "name": "stdout",
     "output_type": "stream",
     "text": [
      "['/data4-4tb/kgreathoo/plots_result/50501145_peak_idx_1_type_test1_TN.png']\n",
      "✅ Image: /data4-4tb/kgreathoo/plots_result/50501145_peak_idx_1_type_test1_TN.png\n",
      "🖼️ Title: 50501145 Peak Index 1 Type Test1 Tn\n",
      "✅ Saved combined image: shap_outputs_1_10_new/50501145_peak_idx_1_type_test1_TN.png\n"
     ]
    },
    {
     "name": "stderr",
     "output_type": "stream",
     "text": [
      "Trying to unpickle estimator LabelEncoder from version 0.24.2 when using version 1.0.2. This might lead to breaking code or invalid results. Use at your own risk. For more info please refer to:\n",
      "https://scikit-learn.org/stable/modules/model_persistence.html#security-maintainability-limitations\n",
      "LightGBM binary classifier with TreeExplainer shap values output has changed to a list of ndarray\n"
     ]
    },
    {
     "name": "stdout",
     "output_type": "stream",
     "text": [
      "['/data4-4tb/kgreathoo/plots_result/51131969_peak_idx_1_type_test4_TN.png']\n",
      "✅ Image: /data4-4tb/kgreathoo/plots_result/51131969_peak_idx_1_type_test4_TN.png\n",
      "🖼️ Title: 51131969 Peak Index 1 Type Test4 Tn\n",
      "✅ Saved combined image: shap_outputs_1_10_new/51131969_peak_idx_1_type_test4_TN.png\n"
     ]
    },
    {
     "name": "stderr",
     "output_type": "stream",
     "text": [
      "Trying to unpickle estimator LabelEncoder from version 0.24.2 when using version 1.0.2. This might lead to breaking code or invalid results. Use at your own risk. For more info please refer to:\n",
      "https://scikit-learn.org/stable/modules/model_persistence.html#security-maintainability-limitations\n",
      "LightGBM binary classifier with TreeExplainer shap values output has changed to a list of ndarray\n"
     ]
    },
    {
     "name": "stdout",
     "output_type": "stream",
     "text": [
      "['/data4-4tb/kgreathoo/plots_result/52762633_peak_idx_1_type_test0_TN.png']\n",
      "✅ Image: /data4-4tb/kgreathoo/plots_result/52762633_peak_idx_1_type_test0_TN.png\n",
      "🖼️ Title: 52762633 Peak Index 1 Type Test0 Tn\n",
      "✅ Saved combined image: shap_outputs_1_10_new/52762633_peak_idx_1_type_test0_TN.png\n"
     ]
    },
    {
     "name": "stderr",
     "output_type": "stream",
     "text": [
      "Trying to unpickle estimator LabelEncoder from version 0.24.2 when using version 1.0.2. This might lead to breaking code or invalid results. Use at your own risk. For more info please refer to:\n",
      "https://scikit-learn.org/stable/modules/model_persistence.html#security-maintainability-limitations\n",
      "LightGBM binary classifier with TreeExplainer shap values output has changed to a list of ndarray\n"
     ]
    },
    {
     "name": "stdout",
     "output_type": "stream",
     "text": [
      "['/data4-4tb/kgreathoo/plots_result/53189614_peak_idx_1_type_test2_FP.png']\n",
      "✅ Image: /data4-4tb/kgreathoo/plots_result/53189614_peak_idx_1_type_test2_FP.png\n",
      "🖼️ Title: 53189614 Peak Index 1 Type Test2 Fp\n",
      "✅ Saved combined image: shap_outputs_1_10_new/53189614_peak_idx_1_type_test2_FP.png\n"
     ]
    },
    {
     "name": "stderr",
     "output_type": "stream",
     "text": [
      "Trying to unpickle estimator LabelEncoder from version 0.24.2 when using version 1.0.2. This might lead to breaking code or invalid results. Use at your own risk. For more info please refer to:\n",
      "https://scikit-learn.org/stable/modules/model_persistence.html#security-maintainability-limitations\n",
      "LightGBM binary classifier with TreeExplainer shap values output has changed to a list of ndarray\n"
     ]
    },
    {
     "name": "stdout",
     "output_type": "stream",
     "text": [
      "['/data4-4tb/kgreathoo/plots_result/53798105_peak_idx_10_type_test2_TN.png']\n",
      "✅ Image: /data4-4tb/kgreathoo/plots_result/53798105_peak_idx_10_type_test2_TN.png\n",
      "🖼️ Title: 53798105 Peak Index 10 Type Test2 Tn\n",
      "✅ Saved combined image: shap_outputs_1_10_new/53798105_peak_idx_10_type_test2_TN.png\n"
     ]
    },
    {
     "name": "stderr",
     "output_type": "stream",
     "text": [
      "Trying to unpickle estimator LabelEncoder from version 0.24.2 when using version 1.0.2. This might lead to breaking code or invalid results. Use at your own risk. For more info please refer to:\n",
      "https://scikit-learn.org/stable/modules/model_persistence.html#security-maintainability-limitations\n",
      "LightGBM binary classifier with TreeExplainer shap values output has changed to a list of ndarray\n"
     ]
    },
    {
     "name": "stdout",
     "output_type": "stream",
     "text": [
      "['/data4-4tb/kgreathoo/plots_result/53882768_peak_idx_4_type_test3_TN.png']\n",
      "✅ Image: /data4-4tb/kgreathoo/plots_result/53882768_peak_idx_4_type_test3_TN.png\n",
      "🖼️ Title: 53882768 Peak Index 4 Type Test3 Tn\n",
      "✅ Saved combined image: shap_outputs_1_10_new/53882768_peak_idx_4_type_test3_TN.png\n"
     ]
    },
    {
     "name": "stderr",
     "output_type": "stream",
     "text": [
      "Trying to unpickle estimator LabelEncoder from version 0.24.2 when using version 1.0.2. This might lead to breaking code or invalid results. Use at your own risk. For more info please refer to:\n",
      "https://scikit-learn.org/stable/modules/model_persistence.html#security-maintainability-limitations\n",
      "LightGBM binary classifier with TreeExplainer shap values output has changed to a list of ndarray\n"
     ]
    },
    {
     "name": "stdout",
     "output_type": "stream",
     "text": [
      "['/data4-4tb/kgreathoo/plots_result/54203499_peak_idx_1_type_test2_TN.png']\n",
      "✅ Image: /data4-4tb/kgreathoo/plots_result/54203499_peak_idx_1_type_test2_TN.png\n",
      "🖼️ Title: 54203499 Peak Index 1 Type Test2 Tn\n",
      "✅ Saved combined image: shap_outputs_1_10_new/54203499_peak_idx_1_type_test2_TN.png\n"
     ]
    }
   ],
   "source": [
    "import os\n",
    "import pickle\n",
    "import shap\n",
    "import matplotlib.pyplot as plt\n",
    "import pandas as pd\n",
    "from PIL import Image\n",
    "import glob\n",
    "\n",
    "def find_partition_img(hn: int, plots_dir='/data4-4tb/kgreathoo/plots_result'):\n",
    "    # ค้นหาไฟล์ที่มี HN อยู่ในชื่อ\n",
    "    matching_files = glob.glob(os.path.join(plots_dir, f\"*{hn}*.png\"))\n",
    "    print(matching_files)\n",
    "    if matching_files:\n",
    "        return matching_files[0],matching_files[0].split('/')[-1]  # เอาไฟล์แรกที่เจอ\n",
    "    return None\n",
    "\n",
    "def generate_pretty_title(filename):\n",
    "    base = os.path.basename(filename)\n",
    "    base = base.replace('_', ' ').replace('.png', '')\n",
    "    # ลบ \"peak idx\" เป็น \"Peak\" และ \"type\" เป็น \"Type\"\n",
    "    base = base.replace('peak idx', 'Peak Index')\n",
    "    base = base.replace('type', 'Type')\n",
    "    base = base.replace('HN', 'HN')\n",
    "    # เติมความเป็นระเบียบ\n",
    "    return base.title()\n",
    "\n",
    "output_dir = \"shap_outputs_1_10_new\"\n",
    "os.makedirs(output_dir, exist_ok=True)\n",
    "\n",
    "for i, row in abnormal_info.iterrows():\n",
    "    hn = row['HN']\n",
    "    fold = int(row['fold'])\n",
    "    peak = int(row['peak_partition'])+1\n",
    "    type_name = row['type']\n",
    "\n",
    "    # โหลดโมเดล\n",
    "#     model_path = f'/data2-2tb/kgreathoo/Weakconfident1{fold}_89.sav'\n",
    "    model_path = f'/media/akara_bkp/nph_kgreat/kgreathoo/Weakconfident1{fold}_89.sav'\n",
    "    if not os.path.exists(model_path):\n",
    "        print(f\"❌ ไม่พบโมเดล: {model_path}\")\n",
    "        continue\n",
    "    model = pickle.load(open(model_path, 'rb'))\n",
    "\n",
    "    # เตรียมข้อมูล\n",
    "    person_row = data[(data['HN'].astype(int) == hn) & (data['fold'] == fold)]\n",
    "    if person_row.empty:\n",
    "        print(f\"❌ ไม่พบ HN={hn}, fold={fold}\")\n",
    "        continue\n",
    "    X_sample = person_row[cols].values.reshape(1, -1)\n",
    "\n",
    "    # คำนวณ SHAP\n",
    "    explainer = shap.TreeExplainer(model)\n",
    "    shap_values = explainer.shap_values(X_sample)\n",
    "\n",
    "    # บันทึก SHAP เป็นไฟล์เดี่ยว\n",
    "    shap_img_path = os.path.join(output_dir, f'shap_HN{hn}_fold{fold}.png')\n",
    "    plt.figure()\n",
    "    \n",
    "    def adjust_partition_index(name):\n",
    "        return re.sub(r'_(\\d+)', lambda m: f'_{int(m.group(1)) + 1}', name)\n",
    "\n",
    "    adjusted_cols = [adjust_partition_index(col) for col in cols]\n",
    "    shap.plots.waterfall(\n",
    "        shap.Explanation(\n",
    "            values=shap_values[1][0],\n",
    "            base_values=explainer.expected_value[1],\n",
    "            data=X_sample[0],\n",
    "            feature_names=adjusted_cols\n",
    "        ),\n",
    "        show=False\n",
    "    )\n",
    "    plt.tight_layout()\n",
    "    plt.savefig(shap_img_path, dpi=150, bbox_inches='tight')\n",
    "    plt.close()\n",
    "\n",
    "    # เตรียม path ของภาพ partition\n",
    "    img_path, img_name = find_partition_img(hn)\n",
    "    if img_path:\n",
    "        title = generate_pretty_title(img_path)\n",
    "        print(f\"✅ Image: {img_path}\")\n",
    "        print(f\"🖼️ Title: {title}\")\n",
    "    else:\n",
    "        print(f\"❌ ไม่พบภาพของ HN: {hn}\")\n",
    "    if not os.path.exists(img_path):\n",
    "        print(f\"❌ ไม่พบภาพ CT: {img_path}\")\n",
    "        continue\n",
    "\n",
    "    # รวมภาพ SHAP + CT partition\n",
    "    shap_img = Image.open(shap_img_path)\n",
    "    partition_img = Image.open(img_path)\n",
    "\n",
    "    # ปรับขนาดให้เท่ากันด้านสูง\n",
    "    h = max(shap_img.height, partition_img.height)\n",
    "#     print(h)\n",
    "    partition_img = partition_img.resize((int(shap_img.width * h / shap_img.height), h))\n",
    "\n",
    "\n",
    "    combined = Image.new(\"RGB\", (shap_img.width + partition_img.width, h), color=(255, 255, 255))\n",
    "    combined.paste(shap_img, (0, 0))\n",
    "    combined.paste(partition_img, (shap_img.width, 0))\n",
    "\n",
    "    final_path = os.path.join(output_dir, img_name)\n",
    "    combined.save(final_path)\n",
    "    print(f\"✅ Saved combined image: {final_path}\")\n",
    "\n",
    "    # ลบภาพเดี่ยว (ถ้าไม่ต้องการเก็บไว้)\n",
    "    os.remove(shap_img_path)\n",
    "#     break\n"
   ]
  },
  {
   "cell_type": "code",
   "execution_count": 252,
   "metadata": {},
   "outputs": [
    {
     "name": "stdout",
     "output_type": "stream",
     "text": [
      "38160661\n",
      "⚠️ No matching case for HN=38160661, skipped: 38160661_peak_idx_1_type_test3_TP.png\n",
      "54380859\n",
      "⚠️ No matching case for HN=54380859, skipped: 54380859_peak_idx_2_type_test1_FN.png\n",
      "54354537\n",
      "⚠️ No matching case for HN=54354537, skipped: 54354537_peak_idx_1_type_test0_TP.png\n",
      "54270102\n",
      "⚠️ No matching case for HN=54270102, skipped: 54270102_peak_idx_1_type_test1_TP.png\n",
      "54065132\n",
      "⚠️ No matching case for HN=54065132, skipped: 54065132_peak_idx_9_type_test3_TP.png\n",
      "54025856\n",
      "⚠️ No matching case for HN=54025856, skipped: 54025856_peak_idx_1_type_test1_TP.png\n",
      "54015465\n",
      "⚠️ No matching case for HN=54015465, skipped: 54015465_peak_idx_1_type_test0_TP.png\n",
      "54010045\n",
      "⚠️ No matching case for HN=54010045, skipped: 54010045_peak_idx_10_type_test4_TP.png\n",
      "53994956\n",
      "⚠️ No matching case for HN=53994956, skipped: 53994956_peak_idx_2_type_test1_TP.png\n",
      "53966383\n",
      "⚠️ No matching case for HN=53966383, skipped: 53966383_peak_idx_1_type_test4_TP.png\n",
      "53885058\n",
      "✅ Renamed to: interest_case_53885058_peak_idx_1_type_test1_TP.png\n",
      "53833962\n",
      "⚠️ No matching case for HN=53833962, skipped: 53833962_peak_idx_1_type_test1_TP.png\n",
      "53827103\n",
      "⚠️ No matching case for HN=53827103, skipped: 53827103_peak_idx_1_type_test1_TP.png\n",
      "53790928\n",
      "⚠️ No matching case for HN=53790928, skipped: 53790928_peak_idx_2_type_test0_TP.png\n",
      "53714114\n",
      "⚠️ No matching case for HN=53714114, skipped: 53714114_peak_idx_1_type_test3_TP.png\n",
      "53701955\n",
      "⚠️ No matching case for HN=53701955, skipped: 53701955_peak_idx_6_type_test3_TP.png\n",
      "53601117\n",
      "⚠️ No matching case for HN=53601117, skipped: 53601117_peak_idx_1_type_test0_TP.png\n",
      "53574742\n",
      "⚠️ No matching case for HN=53574742, skipped: 53574742_peak_idx_1_type_test0_TP.png\n",
      "53427016\n",
      "⚠️ No matching case for HN=53427016, skipped: 53427016_peak_idx_1_type_test3_TP.png\n",
      "53411890\n",
      "⚠️ No matching case for HN=53411890, skipped: 53411890_peak_idx_9_type_test2_FN.png\n",
      "53111503\n",
      "⚠️ No matching case for HN=53111503, skipped: 53111503_peak_idx_1_type_test1_TP.png\n",
      "53005034\n",
      "⚠️ No matching case for HN=53005034, skipped: 53005034_peak_idx_1_type_test0_TP.png\n",
      "52871248\n",
      "✅ Renamed to: interest_case_52871248_peak_idx_2_type_test1_TP.png\n",
      "52610487\n",
      "⚠️ No matching case for HN=52610487, skipped: 52610487_peak_idx_1_type_test3_TP.png\n",
      "52602113\n",
      "⚠️ No matching case for HN=52602113, skipped: 52602113_peak_idx_1_type_test4_TP.png\n",
      "52589797\n",
      "⚠️ No matching case for HN=52589797, skipped: 52589797_peak_idx_6_type_test1_TP.png\n",
      "52540642\n",
      "⚠️ No matching case for HN=52540642, skipped: 52540642_peak_idx_1_type_test2_TP.png\n",
      "51256496\n",
      "⚠️ No matching case for HN=51256496, skipped: 51256496_peak_idx_1_type_test2_TP.png\n",
      "50193940\n",
      "⚠️ No matching case for HN=50193940, skipped: 50193940_peak_idx_1_type_test4_TP.png\n",
      "49252872\n",
      "⚠️ No matching case for HN=49252872, skipped: 49252872_peak_idx_1_type_test3_TP.png\n",
      "49185484\n",
      "⚠️ No matching case for HN=49185484, skipped: 49185484_peak_idx_1_type_test3_TP.png\n",
      "49182781\n",
      "⚠️ No matching case for HN=49182781, skipped: 49182781_peak_idx_1_type_test2_TP.png\n",
      "49161849\n",
      "⚠️ No matching case for HN=49161849, skipped: 49161849_peak_idx_1_type_test2_TP.png\n",
      "49147328\n",
      "⚠️ No matching case for HN=49147328, skipped: 49147328_peak_idx_1_type_test2_TP.png\n",
      "49114962\n",
      "⚠️ No matching case for HN=49114962, skipped: 49114962_peak_idx_10_type_test0_TP.png\n",
      "48125360\n",
      "⚠️ No matching case for HN=48125360, skipped: 48125360_peak_idx_1_type_test1_TP.png\n",
      "47201762\n",
      "⚠️ No matching case for HN=47201762, skipped: 47201762_peak_idx_10_type_test4_TP.png\n",
      "47158939\n",
      "⚠️ No matching case for HN=47158939, skipped: 47158939_peak_idx_2_type_test2_TP.png\n",
      "46025187\n",
      "⚠️ No matching case for HN=46025187, skipped: 46025187_peak_idx_1_type_test2_TP.png\n",
      "45084446\n",
      "⚠️ No matching case for HN=45084446, skipped: 45084446_peak_idx_2_type_test0_TP.png\n",
      "44012014\n",
      "⚠️ No matching case for HN=44012014, skipped: 44012014_peak_idx_1_type_test2_TP.png\n",
      "43153731\n",
      "⚠️ No matching case for HN=43153731, skipped: 43153731_peak_idx_4_type_test0_TP.png\n",
      "43140804\n",
      "⚠️ No matching case for HN=43140804, skipped: 43140804_peak_idx_2_type_test2_TP.png\n",
      "43140800\n",
      "⚠️ No matching case for HN=43140800, skipped: 43140800_peak_idx_1_type_test2_TP.png\n",
      "42026452\n",
      "⚠️ No matching case for HN=42026452, skipped: 42026452_peak_idx_1_type_test3_TP.png\n",
      "42014756\n",
      "⚠️ No matching case for HN=42014756, skipped: 42014756_peak_idx_1_type_test1_TP.png\n",
      "42012079\n",
      "⚠️ No matching case for HN=42012079, skipped: 42012079_peak_idx_1_type_test1_TP.png\n",
      "41155224\n",
      "⚠️ No matching case for HN=41155224, skipped: 41155224_peak_idx_2_type_test1_TP.png\n",
      "41143876\n",
      "⚠️ No matching case for HN=41143876, skipped: 41143876_peak_idx_1_type_test3_TP.png\n",
      "41009872\n",
      "⚠️ No matching case for HN=41009872, skipped: 41009872_peak_idx_1_type_test0_TP.png\n",
      "41002261\n",
      "✅ Renamed to: interest_case_41002261_peak_idx_1_type_test1_TP.png\n",
      "40158109\n",
      "⚠️ No matching case for HN=40158109, skipped: 40158109_peak_idx_6_type_test1_TP.png\n",
      "40018977\n",
      "⚠️ No matching case for HN=40018977, skipped: 40018977_peak_idx_1_type_test3_TP.png\n",
      "39184244\n",
      "⚠️ No matching case for HN=39184244, skipped: 39184244_peak_idx_1_type_test1_TP.png\n",
      "39108404\n",
      "⚠️ No matching case for HN=39108404, skipped: 39108404_peak_idx_9_type_test4_TP.png\n",
      "39056779\n",
      "⚠️ No matching case for HN=39056779, skipped: 39056779_peak_idx_1_type_test3_TP.png\n",
      "38136681\n",
      "⚠️ No matching case for HN=38136681, skipped: 38136681_peak_idx_1_type_test4_TP.png\n",
      "54023756\n",
      "⚠️ No matching case for HN=54023756, skipped: 54023756_peak_idx_2_type_test1_TP.png\n",
      "54022321\n",
      "⚠️ No matching case for HN=54022321, skipped: 54022321_peak_idx_1_type_test1_TP.png\n",
      "54020273\n",
      "✅ Renamed to: interest_case_54020273_peak_idx_1_type_test0_TP.png\n",
      "53915135\n",
      "⚠️ No matching case for HN=53915135, skipped: 53915135_peak_idx_1_type_test1_TP.png\n",
      "53901130\n",
      "⚠️ No matching case for HN=53901130, skipped: 53901130_peak_idx_1_type_test2_TP.png\n",
      "53872843\n",
      "⚠️ No matching case for HN=53872843, skipped: 53872843_peak_idx_2_type_test4_TP.png\n",
      "53825090\n",
      "⚠️ No matching case for HN=53825090, skipped: 53825090_peak_idx_1_type_test0_FN.png\n",
      "53741478\n",
      "⚠️ No matching case for HN=53741478, skipped: 53741478_peak_idx_1_type_test0_TP.png\n",
      "53610615\n",
      "⚠️ No matching case for HN=53610615, skipped: 53610615_peak_idx_1_type_test2_TP.png\n",
      "53399719\n",
      "⚠️ No matching case for HN=53399719, skipped: 53399719_peak_idx_2_type_test4_TP.png\n",
      "53344001\n",
      "⚠️ No matching case for HN=53344001, skipped: 53344001_peak_idx_1_type_test0_TP.png\n",
      "53208114\n",
      "⚠️ No matching case for HN=53208114, skipped: 53208114_peak_idx_1_type_test0_TP.png\n",
      "53078877\n",
      "⚠️ No matching case for HN=53078877, skipped: 53078877_peak_idx_1_type_test4_TP.png\n",
      "53038592\n",
      "⚠️ No matching case for HN=53038592, skipped: 53038592_peak_idx_1_type_test3_TP.png\n",
      "52973730\n",
      "⚠️ No matching case for HN=52973730, skipped: 52973730_peak_idx_10_type_test4_TP.png\n",
      "52923489\n",
      "⚠️ No matching case for HN=52923489, skipped: 52923489_peak_idx_1_type_test1_TP.png\n",
      "52604548\n",
      "⚠️ No matching case for HN=52604548, skipped: 52604548_peak_idx_1_type_test0_TP.png\n",
      "52589804\n",
      "⚠️ No matching case for HN=52589804, skipped: 52589804_peak_idx_1_type_test0_TP.png\n",
      "51272890\n",
      "⚠️ No matching case for HN=51272890, skipped: 51272890_peak_idx_9_type_test4_TP.png\n",
      "51209446\n",
      "⚠️ No matching case for HN=51209446, skipped: 51209446_peak_idx_1_type_test4_TP.png\n",
      "51176610\n",
      "⚠️ No matching case for HN=51176610, skipped: 51176610_peak_idx_1_type_test4_TP.png\n",
      "51155883\n",
      "⚠️ No matching case for HN=51155883, skipped: 51155883_peak_idx_1_type_test3_TP.png\n",
      "50296397\n",
      "⚠️ No matching case for HN=50296397, skipped: 50296397_peak_idx_1_type_test2_TP.png\n",
      "50167760\n",
      "⚠️ No matching case for HN=50167760, skipped: 50167760_peak_idx_1_type_test3_TP.png\n",
      "49243612\n",
      "⚠️ No matching case for HN=49243612, skipped: 49243612_peak_idx_9_type_test3_TP.png\n",
      "49210276\n",
      "⚠️ No matching case for HN=49210276, skipped: 49210276_peak_idx_1_type_test4_TP.png\n",
      "49189924\n",
      "⚠️ No matching case for HN=49189924, skipped: 49189924_peak_idx_1_type_test4_TP.png\n",
      "48213983\n",
      "⚠️ No matching case for HN=48213983, skipped: 48213983_peak_idx_1_type_test2_TP.png\n",
      "48101145\n",
      "⚠️ No matching case for HN=48101145, skipped: 48101145_peak_idx_10_type_test4_TP.png\n",
      "47121487\n",
      "⚠️ No matching case for HN=47121487, skipped: 47121487_peak_idx_1_type_test3_TP.png\n",
      "45131226\n",
      "⚠️ No matching case for HN=45131226, skipped: 45131226_peak_idx_1_type_test4_TP.png\n",
      "44037510\n",
      "⚠️ No matching case for HN=44037510, skipped: 44037510_peak_idx_2_type_test4_TP.png\n",
      "44007156\n",
      "⚠️ No matching case for HN=44007156, skipped: 44007156_peak_idx_2_type_test0_TP.png\n",
      "43127044\n",
      "⚠️ No matching case for HN=43127044, skipped: 43127044_peak_idx_3_type_test4_TP.png\n",
      "43001850\n",
      "⚠️ No matching case for HN=43001850, skipped: 43001850_peak_idx_3_type_test4_TP.png\n",
      "42161438\n",
      "⚠️ No matching case for HN=42161438, skipped: 42161438_peak_idx_1_type_test3_TP.png\n",
      "42148589\n",
      "⚠️ No matching case for HN=42148589, skipped: 42148589_peak_idx_1_type_test4_TP.png\n",
      "42079148\n",
      "⚠️ No matching case for HN=42079148, skipped: 42079148_peak_idx_1_type_test0_TP.png\n",
      "41169972\n",
      "⚠️ No matching case for HN=41169972, skipped: 41169972_peak_idx_1_type_test1_TP.png\n",
      "41071744\n",
      "⚠️ No matching case for HN=41071744, skipped: 41071744_peak_idx_1_type_test2_TP.png\n",
      "41051113\n",
      "⚠️ No matching case for HN=41051113, skipped: 41051113_peak_idx_1_type_test2_TP.png\n",
      "41039049\n",
      "⚠️ No matching case for HN=41039049, skipped: 41039049_peak_idx_10_type_test4_TP.png\n",
      "40170512\n",
      "⚠️ No matching case for HN=40170512, skipped: 40170512_peak_idx_2_type_test4_TP.png\n",
      "40036109\n",
      "⚠️ No matching case for HN=40036109, skipped: 40036109_peak_idx_2_type_test3_TP.png\n",
      "38110417\n",
      "⚠️ No matching case for HN=38110417, skipped: 38110417_peak_idx_10_type_test4_TP.png\n",
      "38005966\n",
      "⚠️ No matching case for HN=38005966, skipped: 38005966_peak_idx_1_type_test3_TN.png\n",
      "38182610\n",
      "⚠️ No matching case for HN=38182610, skipped: 38182610_peak_idx_9_type_test4_TN.png\n",
      "38906285\n",
      "⚠️ No matching case for HN=38906285, skipped: 38906285_peak_idx_10_type_test3_TN.png\n",
      "39164983\n",
      "⚠️ No matching case for HN=39164983, skipped: 39164983_peak_idx_1_type_test3_TN.png\n",
      "40026745\n",
      "⚠️ No matching case for HN=40026745, skipped: 40026745_peak_idx_1_type_test1_TN.png\n",
      "42052801\n",
      "⚠️ No matching case for HN=42052801, skipped: 42052801_peak_idx_1_type_test1_TN.png\n",
      "43134468\n",
      "⚠️ No matching case for HN=43134468, skipped: 43134468_peak_idx_9_type_test1_TN.png\n",
      "44135554\n",
      "⚠️ No matching case for HN=44135554, skipped: 44135554_peak_idx_1_type_test2_FP.png\n",
      "45502728\n",
      "⚠️ No matching case for HN=45502728, skipped: 45502728_peak_idx_1_type_test0_TN.png\n",
      "46003874\n",
      "⚠️ No matching case for HN=46003874, skipped: 46003874_peak_idx_1_type_test1_TN.png\n",
      "46023087\n",
      "⚠️ No matching case for HN=46023087, skipped: 46023087_peak_idx_1_type_test0_TN.png\n",
      "46152726\n",
      "⚠️ No matching case for HN=46152726, skipped: 46152726_peak_idx_1_type_test2_TN.png\n",
      "46501836\n",
      "⚠️ No matching case for HN=46501836, skipped: 46501836_peak_idx_1_type_test2_TN.png\n",
      "48104673\n",
      "⚠️ No matching case for HN=48104673, skipped: 48104673_peak_idx_1_type_test1_TN.png\n",
      "50186221\n",
      "⚠️ No matching case for HN=50186221, skipped: 50186221_peak_idx_1_type_test1_TN.png\n",
      "50279255\n",
      "⚠️ No matching case for HN=50279255, skipped: 50279255_peak_idx_8_type_test4_TN.png\n",
      "52531308\n",
      "⚠️ No matching case for HN=52531308, skipped: 52531308_peak_idx_8_type_test4_TN.png\n",
      "53851833\n",
      "⚠️ No matching case for HN=53851833, skipped: 53851833_peak_idx_1_type_test0_TN.png\n",
      "54197900\n",
      "⚠️ No matching case for HN=54197900, skipped: 54197900_peak_idx_1_type_test0_FP.png\n",
      "54232314\n",
      "⚠️ No matching case for HN=54232314, skipped: 54232314_peak_idx_1_type_test0_TN.png\n",
      "54265542\n",
      "⚠️ No matching case for HN=54265542, skipped: 54265542_peak_idx_1_type_test2_TN.png\n",
      "54273498\n",
      "⚠️ No matching case for HN=54273498, skipped: 54273498_peak_idx_1_type_test1_TN.png\n",
      "54277930\n",
      "⚠️ No matching case for HN=54277930, skipped: 54277930_peak_idx_10_type_test3_TN.png\n",
      "54278767\n"
     ]
    },
    {
     "name": "stdout",
     "output_type": "stream",
     "text": [
      "✅ Renamed to: interest_case_54278767_peak_idx_2_type_test1_TN.png\n",
      "38004023\n",
      "⚠️ No matching case for HN=38004023, skipped: 38004023_peak_idx_1_type_test4_FP.png\n",
      "41128291\n",
      "⚠️ No matching case for HN=41128291, skipped: 41128291_peak_idx_1_type_test0_TN.png\n",
      "42204536\n",
      "⚠️ No matching case for HN=42204536, skipped: 42204536_peak_idx_1_type_test2_TN.png\n",
      "44096626\n",
      "⚠️ No matching case for HN=44096626, skipped: 44096626_peak_idx_1_type_test2_TN.png\n",
      "44119324\n",
      "⚠️ No matching case for HN=44119324, skipped: 44119324_peak_idx_8_type_test4_TN.png\n",
      "45064706\n",
      "⚠️ No matching case for HN=45064706, skipped: 45064706_peak_idx_8_type_test4_TN.png\n",
      "46103991\n",
      "⚠️ No matching case for HN=46103991, skipped: 46103991_peak_idx_1_type_test1_TN.png\n",
      "47154825\n",
      "⚠️ No matching case for HN=47154825, skipped: 47154825_peak_idx_1_type_test3_TN.png\n",
      "48237608\n",
      "⚠️ No matching case for HN=48237608, skipped: 48237608_peak_idx_1_type_test2_TN.png\n",
      "52501006\n",
      "✅ Renamed to: interest_case_52501006_peak_idx_10_type_test2_TN.png\n",
      "52517040\n",
      "⚠️ No matching case for HN=52517040, skipped: 52517040_peak_idx_1_type_test4_TN.png\n",
      "52736341\n",
      "✅ Renamed to: false_positive_case_52736341_peak_idx_10_type_test1_FP.png\n",
      "53076338\n",
      "⚠️ No matching case for HN=53076338, skipped: 53076338_peak_idx_9_type_test2_TN.png\n",
      "53357116\n",
      "⚠️ No matching case for HN=53357116, skipped: 53357116_peak_idx_1_type_test1_TN.png\n",
      "53630522\n",
      "⚠️ No matching case for HN=53630522, skipped: 53630522_peak_idx_9_type_test4_FP.png\n",
      "54071082\n",
      "⚠️ No matching case for HN=54071082, skipped: 54071082_peak_idx_10_type_test2_TN.png\n",
      "54164431\n",
      "⚠️ No matching case for HN=54164431, skipped: 54164431_peak_idx_1_type_test0_TN.png\n",
      "54206772\n",
      "⚠️ No matching case for HN=54206772, skipped: 54206772_peak_idx_1_type_test0_TN.png\n",
      "54263191\n",
      "⚠️ No matching case for HN=54263191, skipped: 54263191_peak_idx_2_type_test4_TN.png\n",
      "54277506\n",
      "⚠️ No matching case for HN=54277506, skipped: 54277506_peak_idx_1_type_test1_TN.png\n",
      "54277918\n",
      "⚠️ No matching case for HN=54277918, skipped: 54277918_peak_idx_1_type_test1_TN.png\n",
      "54288410\n",
      "⚠️ No matching case for HN=54288410, skipped: 54288410_peak_idx_1_type_test3_TN.png\n",
      "38145861\n",
      "⚠️ No matching case for HN=38145861, skipped: 38145861_peak_idx_1_type_test2_TN.png\n",
      "40026144\n",
      "⚠️ No matching case for HN=40026144, skipped: 40026144_peak_idx_8_type_test4_TN.png\n",
      "40059655\n",
      "⚠️ No matching case for HN=40059655, skipped: 40059655_peak_idx_1_type_test4_TN.png\n",
      "40122236\n",
      "⚠️ No matching case for HN=40122236, skipped: 40122236_peak_idx_1_type_test0_TN.png\n",
      "40142142\n",
      "⚠️ No matching case for HN=40142142, skipped: 40142142_peak_idx_9_type_test1_TN.png\n",
      "40188233\n",
      "⚠️ No matching case for HN=40188233, skipped: 40188233_peak_idx_1_type_test3_TN.png\n",
      "41143713\n",
      "⚠️ No matching case for HN=41143713, skipped: 41143713_peak_idx_1_type_test3_TN.png\n",
      "44020997\n",
      "⚠️ No matching case for HN=44020997, skipped: 44020997_peak_idx_10_type_test1_TN.png\n",
      "45074424\n",
      "⚠️ No matching case for HN=45074424, skipped: 45074424_peak_idx_1_type_test1_TN.png\n",
      "45503191\n",
      "⚠️ No matching case for HN=45503191, skipped: 45503191_peak_idx_1_type_test1_TN.png\n",
      "46010936\n",
      "⚠️ No matching case for HN=46010936, skipped: 46010936_peak_idx_8_type_test1_TN.png\n",
      "47235817\n",
      "⚠️ No matching case for HN=47235817, skipped: 47235817_peak_idx_1_type_test0_TN.png\n",
      "48105092\n",
      "⚠️ No matching case for HN=48105092, skipped: 48105092_peak_idx_1_type_test0_TN.png\n",
      "48168011\n",
      "✅ Renamed to: false_positive_case_48168011_peak_idx_1_type_test2_FP.png\n",
      "50151931\n",
      "⚠️ No matching case for HN=50151931, skipped: 50151931_peak_idx_1_type_test3_FP.png\n",
      "53650120\n",
      "⚠️ No matching case for HN=53650120, skipped: 53650120_peak_idx_10_type_test2_TN.png\n",
      "53965464\n",
      "⚠️ No matching case for HN=53965464, skipped: 53965464_peak_idx_1_type_test3_TN.png\n",
      "54197829\n",
      "⚠️ No matching case for HN=54197829, skipped: 54197829_peak_idx_9_type_test3_TN.png\n",
      "54197898\n",
      "⚠️ No matching case for HN=54197898, skipped: 54197898_peak_idx_1_type_test2_TN.png\n",
      "54204626\n",
      "⚠️ No matching case for HN=54204626, skipped: 54204626_peak_idx_2_type_test0_FP.png\n",
      "54210092\n",
      "⚠️ No matching case for HN=54210092, skipped: 54210092_peak_idx_1_type_test4_FP.png\n",
      "54238301\n",
      "✅ Renamed to: false_positive_case_54238301_peak_idx_4_type_test3_FP.png\n",
      "38900161\n",
      "⚠️ No matching case for HN=38900161, skipped: 38900161_peak_idx_1_type_test0_TN.png\n",
      "40029104\n",
      "⚠️ No matching case for HN=40029104, skipped: 40029104_peak_idx_2_type_test2_TN.png\n",
      "40067405\n",
      "✅ Renamed to: false_positive_case_40067405_peak_idx_1_type_test2_FP.png\n",
      "40104682\n",
      "⚠️ No matching case for HN=40104682, skipped: 40104682_peak_idx_9_type_test0_TN.png\n",
      "41110780\n",
      "⚠️ No matching case for HN=41110780, skipped: 41110780_peak_idx_1_type_test0_TN.png\n",
      "42004905\n",
      "✅ Renamed to: false_positive_case_42004905_peak_idx_10_type_test4_FP.png\n",
      "44130155\n",
      "⚠️ No matching case for HN=44130155, skipped: 44130155_peak_idx_5_type_test1_FP.png\n",
      "45108464\n",
      "⚠️ No matching case for HN=45108464, skipped: 45108464_peak_idx_10_type_test3_TN.png\n",
      "46023027\n",
      "⚠️ No matching case for HN=46023027, skipped: 46023027_peak_idx_1_type_test3_TN.png\n",
      "51269310\n",
      "✅ Renamed to: false_positive_case_51269310_peak_idx_9_type_test0_FP.png\n",
      "52591854\n",
      "⚠️ No matching case for HN=52591854, skipped: 52591854_peak_idx_9_type_test3_TN.png\n",
      "52728428\n",
      "⚠️ No matching case for HN=52728428, skipped: 52728428_peak_idx_1_type_test3_TN.png\n",
      "53021653\n",
      "⚠️ No matching case for HN=53021653, skipped: 53021653_peak_idx_9_type_test2_TN.png\n",
      "53338968\n",
      "✅ Renamed to: false_positive_case_53338968_peak_idx_1_type_test2_FP.png\n",
      "53893982\n",
      "⚠️ No matching case for HN=53893982, skipped: 53893982_peak_idx_1_type_test3_TN.png\n",
      "54066067\n",
      "⚠️ No matching case for HN=54066067, skipped: 54066067_peak_idx_1_type_test0_TN.png\n",
      "54104142\n",
      "⚠️ No matching case for HN=54104142, skipped: 54104142_peak_idx_1_type_test0_TN.png\n",
      "54209927\n",
      "✅ Renamed to: false_positive_case_54209927_peak_idx_2_type_test1_FP.png\n",
      "54231068\n",
      "✅ Renamed to: false_positive_case_54231068_peak_idx_2_type_test1_FP.png\n",
      "54270787\n",
      "⚠️ No matching case for HN=54270787, skipped: 54270787_peak_idx_2_type_test3_FP.png\n",
      "54279570\n",
      "⚠️ No matching case for HN=54279570, skipped: 54279570_peak_idx_1_type_test0_TN.png\n",
      "54283571\n",
      "⚠️ No matching case for HN=54283571, skipped: 54283571_peak_idx_1_type_test3_TN.png\n",
      "38022581\n",
      "⚠️ No matching case for HN=38022581, skipped: 38022581_peak_idx_9_type_test3_TN.png\n",
      "38053812\n",
      "✅ Renamed to: false_positive_case_38053812_peak_idx_1_type_test0_FP.png\n",
      "38089950\n",
      "⚠️ No matching case for HN=38089950, skipped: 38089950_peak_idx_9_type_test3_TN.png\n",
      "39061001\n",
      "⚠️ No matching case for HN=39061001, skipped: 39061001_peak_idx_1_type_test0_TN.png\n",
      "39100003\n",
      "⚠️ No matching case for HN=39100003, skipped: 39100003_peak_idx_1_type_test0_TN.png\n",
      "40151265\n",
      "⚠️ No matching case for HN=40151265, skipped: 40151265_peak_idx_1_type_test4_FP.png\n",
      "42005233\n",
      "✅ Renamed to: false_positive_case_42005233_peak_idx_2_type_test0_FP.png\n",
      "42054989\n",
      "✅ Renamed to: false_positive_case_42054989_peak_idx_10_type_test4_FP.png\n",
      "42106198\n",
      "⚠️ No matching case for HN=42106198, skipped: 42106198_peak_idx_1_type_test2_TN.png\n",
      "42148845\n",
      "⚠️ No matching case for HN=42148845, skipped: 42148845_peak_idx_1_type_test4_TN.png\n",
      "44083207\n",
      "⚠️ No matching case for HN=44083207, skipped: 44083207_peak_idx_1_type_test3_TN.png\n",
      "45072773\n",
      "⚠️ No matching case for HN=45072773, skipped: 45072773_peak_idx_10_type_test2_TN.png\n",
      "45502443\n",
      "⚠️ No matching case for HN=45502443, skipped: 45502443_peak_idx_9_type_test2_TN.png\n",
      "47138521\n",
      "⚠️ No matching case for HN=47138521, skipped: 47138521_peak_idx_10_type_test4_FP.png\n",
      "50157980\n",
      "⚠️ No matching case for HN=50157980, skipped: 50157980_peak_idx_1_type_test0_TN.png\n",
      "50501145\n",
      "⚠️ No matching case for HN=50501145, skipped: 50501145_peak_idx_1_type_test1_TN.png\n",
      "51131969\n",
      "⚠️ No matching case for HN=51131969, skipped: 51131969_peak_idx_1_type_test4_TN.png\n",
      "52762633\n",
      "⚠️ No matching case for HN=52762633, skipped: 52762633_peak_idx_1_type_test0_TN.png\n",
      "53189614\n",
      "✅ Renamed to: false_positive_case_53189614_peak_idx_1_type_test2_FP.png\n",
      "53798105\n",
      "⚠️ No matching case for HN=53798105, skipped: 53798105_peak_idx_10_type_test2_TN.png\n",
      "53882768\n",
      "⚠️ No matching case for HN=53882768, skipped: 53882768_peak_idx_4_type_test3_TN.png\n",
      "54203499\n",
      "⚠️ No matching case for HN=54203499, skipped: 54203499_peak_idx_1_type_test2_TN.png\n"
     ]
    }
   ],
   "source": [
    "import os\n",
    "\n",
    "# Path to folder\n",
    "folder = \"/media/akara_bkp/nph_kgreat/nph-weak-sup/shap_outputs_1_10_new\"\n",
    "\n",
    "# List of HN for interest_case\n",
    "interest_case_hns = [\n",
    "    52871248,\n",
    "    54278767,\n",
    "    52501006,\n",
    "    41002261,\n",
    "    54020273,\n",
    "    53885058\n",
    "]\n",
    "\n",
    "# List of HN for false_positive_case\n",
    "false_positive_case_hns = [\n",
    "    52736341, 48168011, 54238301, 40067405, 42004905,\n",
    "    51269310, 53338968, 54209927, 54231068, 38053812,\n",
    "    42005233, 42054989, 53189614\n",
    "]\n",
    "\n",
    "# Loop through all shap_combined files\n",
    "for filename in os.listdir(folder):\n",
    "    parts = filename.split('_')\n",
    "    try:\n",
    "        hn = int(parts[0])\n",
    "    except ValueError:\n",
    "        print(f\"❌ Could not extract HN from: {filename}\")\n",
    "        continue\n",
    "\n",
    "    old_path = os.path.join(folder, filename)\n",
    "\n",
    "    # Determine prefix\n",
    "    prefix = \"\"\n",
    "    print(hn)\n",
    "    if hn in interest_case_hns:\n",
    "        prefix = \"interest_case_\"\n",
    "    elif hn in false_positive_case_hns:\n",
    "        prefix = \"false_positive_case_\"\n",
    "\n",
    "    if prefix:\n",
    "        new_name = prefix + filename\n",
    "        new_path = os.path.join(folder, new_name)\n",
    "        os.rename(old_path, new_path)\n",
    "        print(f\"✅ Renamed to: {new_name}\")\n",
    "    else:\n",
    "        print(f\"⚠️ No matching case for HN={hn}, skipped: {filename}\")\n"
   ]
  },
  {
   "cell_type": "code",
   "execution_count": null,
   "metadata": {},
   "outputs": [],
   "source": []
  },
  {
   "cell_type": "markdown",
   "metadata": {},
   "source": [
    "# compare with doctor"
   ]
  },
  {
   "cell_type": "code",
   "execution_count": 12,
   "metadata": {},
   "outputs": [
    {
     "name": "stdout",
     "output_type": "stream",
     "text": [
      "Confusion Matrix:\n",
      "[[79 14]\n",
      " [ 2 85]]\n",
      "\n",
      "Classification Report:\n",
      "              precision    recall  f1-score   support\n",
      "\n",
      "           0       0.98      0.85      0.91        93\n",
      "           1       0.86      0.98      0.91        87\n",
      "\n",
      "    accuracy                           0.91       180\n",
      "   macro avg       0.92      0.91      0.91       180\n",
      "weighted avg       0.92      0.91      0.91       180\n",
      "  (area = 0.91)\n",
      "cohen 0.82281284606866\n"
     ]
    }
   ],
   "source": [
    "from sklearn.metrics import confusion_matrix, f1_score\n",
    "\n",
    "pred_df['HN'] = pred_df['HN'].astype(str)\n",
    "doctor = pd.read_csv('Pre_Analyze_NPH_21012023.csv')\n",
    "\n",
    "    \n",
    "def predict_nph(score):\n",
    "    if 3 <= score <= 4:\n",
    "        return -1\n",
    "    return score/12 >=0.5\n",
    "\n",
    "pred_df = pred_df\n",
    "# Apply the function to the 'Total score' column to create a new 'Predicted NPH' column\n",
    "doctor['Predicted NPH'] = doctor['Total score (12)'].apply(predict_nph)\n",
    "doctor['HN']=doctor['HN'].astype(int).astype(str)\n",
    "pred_df['HN']=pred_df['HN'].str[0:8]\n",
    "merged_df = pd.merge(doctor, pred_df, on='HN', how='left')\n",
    "merged_df= merged_df[['HN','Predicted NPH','y_pred_model','Clinical (NPH 1 normal 0)']]\n",
    "# merged_df= merged_df[['HN','Predicted NPH','y_pred','Clinical (NPH 1 normal 0)']]\n",
    "filtered_doctor = merged_df[merged_df['Predicted NPH'] != -1]\n",
    "model = pd.DataFrame()\n",
    "doctor_score= pd.DataFrame()\n",
    "model[['y','y_pred','HN']]=filtered_doctor[['Clinical (NPH 1 normal 0)','y_pred_model','HN']]\n",
    "doctor_score[['y','y_pred']]=filtered_doctor[['Clinical (NPH 1 normal 0)','Predicted NPH']]\n",
    "model=model.dropna()\n",
    "# Drop rows with null values in 'y' or 'y_pred' columns\n",
    "doctor_score.dropna(subset=['y', 'y_pred'], inplace=True)\n",
    "\n",
    "# Ensure that 'y_pred' is an integer\n",
    "model['y_pred'] = model['y_pred'].astype('int')\n",
    "y_true = model['y']\n",
    "y_pred = model['y_pred']\n",
    "\n",
    "confusion_mat = confusion_matrix(y_true, y_pred, labels=[0, 1])\n",
    "logit_roc_auc = roc_auc_score(y_true, y_pred)\n",
    "cm = confusion_matrix(y_true, y_pred)\n",
    "\n",
    "print(\"Confusion Matrix:\")\n",
    "print(cm)\n",
    "print(\"\\nClassification Report:\")\n",
    "print(classification_report(y_true, y_pred), f' (area = {logit_roc_auc:.2f})')\n",
    "print('cohen',cohen_kappa_score(y_true, y_pred))\n",
    "\n",
    "model = pd.DataFrame()\n",
    "doctor_score= pd.DataFrame()\n",
    "model[['y','y_pred','HN']]=filtered_doctor[['Clinical (NPH 1 normal 0)','y_pred_model','HN']]\n",
    "doctor_score[['y','y_pred']]=filtered_doctor[['Clinical (NPH 1 normal 0)','Predicted NPH']]\n",
    "model=model.dropna()\n",
    "# Drop rows with null values in 'y' or 'y_pred' columns\n",
    "doctor_score.dropna(subset=['y', 'y_pred'], inplace=True)\n"
   ]
  },
  {
   "cell_type": "code",
   "execution_count": 14,
   "metadata": {},
   "outputs": [
    {
     "name": "stdout",
     "output_type": "stream",
     "text": [
      "Confusion Matrix:\n",
      "[[10  9]\n",
      " [ 1 17]]\n",
      "\n",
      "Classification Report:\n",
      "              precision    recall  f1-score   support\n",
      "\n",
      "           0       0.91      0.53      0.67        19\n",
      "           1       0.65      0.94      0.77        18\n",
      "\n",
      "    accuracy                           0.73        37\n",
      "   macro avg       0.78      0.74      0.72        37\n",
      "weighted avg       0.78      0.73      0.72        37\n",
      "  (area = 0.74)\n",
      "cohen 0.4653179190751445\n"
     ]
    }
   ],
   "source": [
    "from sklearn.metrics import confusion_matrix, f1_score\n",
    "\n",
    "doctor = pd.read_csv('/data2-2tb/kgreathoo/csv/Pre_Analyze_NPH_21012023.csv')\n",
    "\n",
    "    \n",
    "def predict_nph(score):\n",
    "    if 3 <= score <= 4:\n",
    "        return -1\n",
    "    return score/12 >=0.5\n",
    "\n",
    "pred_df = pred_df\n",
    "# Apply the function to the 'Total score' column to create a new 'Predicted NPH' column\n",
    "doctor['Predicted NPH'] = doctor['Total score (12)'].apply(predict_nph)\n",
    "doctor['HN']=doctor['HN'].astype(int).astype(str)\n",
    "pred_df['HN']=pred_df['HN'].str[0:8]\n",
    "merged_df = pd.merge(doctor, pred_df, on='HN', how='left')\n",
    "merged_df= merged_df[['HN','Predicted NPH','y_pred_model','Clinical (NPH 1 normal 0)']]\n",
    "# merged_df= merged_df[['HN','Predicted NPH','y_pred','Clinical (NPH 1 normal 0)']]\n",
    "filtered_doctor = merged_df[merged_df['Predicted NPH'] == -1]\n",
    "model = pd.DataFrame()\n",
    "doctor_score= pd.DataFrame()\n",
    "model[['y','y_pred','HN']]=filtered_doctor[['Clinical (NPH 1 normal 0)','y_pred_model','HN']]\n",
    "doctor_score[['y','y_pred']]=filtered_doctor[['Clinical (NPH 1 normal 0)','Predicted NPH']]\n",
    "model=model.dropna()\n",
    "# Drop rows with null values in 'y' or 'y_pred' columns\n",
    "doctor_score.dropna(subset=['y', 'y_pred'], inplace=True)\n",
    "\n",
    "# Ensure that 'y_pred' is an integer\n",
    "model['y_pred'] = model['y_pred'].astype('int')\n",
    "y_true = model['y']\n",
    "y_pred = model['y_pred']\n",
    "\n",
    "confusion_mat = confusion_matrix(y_true, y_pred, labels=[0, 1])\n",
    "logit_roc_auc = roc_auc_score(y_true, y_pred)\n",
    "cm = confusion_matrix(y_true, y_pred)\n",
    "\n",
    "print(\"Confusion Matrix:\")\n",
    "print(cm)\n",
    "print(\"\\nClassification Report:\")\n",
    "print(classification_report(y_true, y_pred), f' (area = {logit_roc_auc:.2f})')\n",
    "print('cohen',cohen_kappa_score(y_true, y_pred))\n",
    "\n",
    "model = pd.DataFrame()\n",
    "doctor_score= pd.DataFrame()\n",
    "model[['y','y_pred','HN']]=filtered_doctor[['Clinical (NPH 1 normal 0)','y_pred_model','HN']]\n",
    "doctor_score[['y','y_pred']]=filtered_doctor[['Clinical (NPH 1 normal 0)','Predicted NPH']]\n",
    "model=model.dropna()\n",
    "# Drop rows with null values in 'y' or 'y_pred' columns\n",
    "doctor_score.dropna(subset=['y', 'y_pred'], inplace=True)\n"
   ]
  },
  {
   "cell_type": "code",
   "execution_count": 123,
   "metadata": {},
   "outputs": [
    {
     "name": "stdout",
     "output_type": "stream",
     "text": [
      "✅ Saved: /data4-4tb/kgreathoo/nph-weak-sup/shap_outputs_1_10_titled/54380859_peak_idx_2_type_test1_FN.png\n"
     ]
    }
   ],
   "source": [
    "import os\n",
    "import matplotlib.pyplot as plt\n",
    "from PIL import Image\n",
    "import glob\n",
    "\n",
    "def generate_pretty_title(filename):\n",
    "    base = os.path.basename(filename)\n",
    "    base = base.replace('_', ' ').replace('.png', '')\n",
    "    base = base.replace('peak idx', 'Peak Index')\n",
    "    base = base.replace('type', 'Type')\n",
    "    base = base.replace('HN', 'HN')\n",
    "    return base.title()\n",
    "\n",
    "# path ของรูปทั้งหมด\n",
    "input_dir = \"/data4-4tb/kgreathoo/nph-weak-sup/shap_outputs_1_10\"\n",
    "output_dir = \"/data4-4tb/kgreathoo/nph-weak-sup/shap_outputs_1_10_titled\"\n",
    "os.makedirs(output_dir, exist_ok=True)\n",
    "\n",
    "# ค้นหาไฟล์ทั้งหมดในโฟลเดอร์\n",
    "image_paths = glob.glob(os.path.join(input_dir, \"*.png\"))\n",
    "\n",
    "for img_path in image_paths:\n",
    "    # โหลดภาพด้วย PIL\n",
    "    img = Image.open(img_path)\n",
    "\n",
    "    # แปลงชื่อไฟล์ให้ดูดี\n",
    "    title = generate_pretty_title(img_path)\n",
    "\n",
    "    # สร้าง figure\n",
    "    plt.figure(figsize=(10, 8))\n",
    "    plt.imshow(img)\n",
    "    plt.axis('off')\n",
    "    plt.title(title, fontsize=14)\n",
    "\n",
    "    # บันทึกภาพใหม่\n",
    "    output_path = os.path.join(output_dir, os.path.basename(img_path))\n",
    "    plt.savefig(output_path, bbox_inches='tight', dpi=150)\n",
    "    plt.close()\n",
    "\n",
    "    print(f\"✅ Saved: {output_path}\")\n",
    "    break\n"
   ]
  },
  {
   "cell_type": "code",
   "execution_count": null,
   "metadata": {},
   "outputs": [],
   "source": []
  }
 ],
 "metadata": {
  "kernelspec": {
   "display_name": "Python 3 (ipykernel)",
   "language": "python",
   "name": "python3"
  },
  "language_info": {
   "codemirror_mode": {
    "name": "ipython",
    "version": 3
   },
   "file_extension": ".py",
   "mimetype": "text/x-python",
   "name": "python",
   "nbconvert_exporter": "python",
   "pygments_lexer": "ipython3",
   "version": "3.9.12"
  }
 },
 "nbformat": 4,
 "nbformat_minor": 2
}
